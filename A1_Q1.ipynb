{
  "nbformat": 4,
  "nbformat_minor": 0,
  "metadata": {
    "colab": {
      "provenance": [],
      "authorship_tag": "ABX9TyP1PL80hitNJeGsW0QN9B+A",
      "include_colab_link": true
    },
    "kernelspec": {
      "name": "python3",
      "display_name": "Python 3"
    },
    "language_info": {
      "name": "python"
    }
  },
  "cells": [
    {
      "cell_type": "markdown",
      "metadata": {
        "id": "view-in-github",
        "colab_type": "text"
      },
      "source": [
        "<a href=\"https://colab.research.google.com/github/ramkumarravi49/DA6401_A1/blob/main/A1_Q1.ipynb\" target=\"_parent\"><img src=\"https://colab.research.google.com/assets/colab-badge.svg\" alt=\"Open In Colab\"/></a>"
      ]
    },
    {
      "cell_type": "markdown",
      "source": [
        "# Q1"
      ],
      "metadata": {
        "id": "sLH2V6ABOJ_Q"
      }
    },
    {
      "cell_type": "code",
      "execution_count": 2,
      "metadata": {
        "id": "IFcLI3FuDQjz"
      },
      "outputs": [],
      "source": [
        "import numpy as np\n",
        "import wandb\n",
        "from tensorflow.keras.datasets import fashion_mnist\n",
        "from sklearn.model_selection import train_test_split\n",
        "\n",
        "# Load dataset\n",
        "(X, y), (X_test, y_test) = fashion_mnist.load_data()\n",
        "\n",
        "# Class labels\n",
        "class_names = ['T-shirt/top', 'Trouser', 'Pullover', 'Dress', 'Coat',\n",
        "               'Sandal', 'Shirt', 'Sneaker', 'Bag', 'Ankle boot']\n",
        "\n",
        "# Initialize wandb for logging\n",
        "#wandb.init(project=\"dl_assignment1\", entity=\"ee17b154tony\", name=\"assignment_1_log_images\")\n",
        "\n",
        "# Select one example per class from the raw data\n",
        "example_indices = [np.where(y == i)[0][0] for i in range(len(class_names))]\n",
        "example_images = [X[idx] for idx in example_indices]\n",
        "example_captions = [class_names[y[idx]] for idx in example_indices]\n",
        "\n",
        "# Log raw sample images to wandb\n",
        "#wandb.log({\"Raw Sample Images\": [wandb.Image(img, caption=cap) for img, cap in zip(example_images, example_captions)]})"
      ]
    },
    {
      "cell_type": "markdown",
      "source": [
        "## Flatten and Noramalize"
      ],
      "metadata": {
        "id": "pGyHdhYJONkA"
      }
    },
    {
      "cell_type": "code",
      "source": [
        "# Reshape data to flatten images\n",
        "X = X.reshape(X.shape[0], -1) / 255.0\n",
        "X_test = X_test.reshape(X_test.shape[0], -1) / 255.0\n",
        "\n",
        "# Split into training and validation sets\n",
        "X_train, X_val, y_train, y_val = train_test_split(X, y, test_size=0.1, random_state=42)\n",
        "\n",
        "# Dataset statistics\n",
        "M, num_features = X_train.shape\n",
        "Mval = X_val.shape[0]\n",
        "Mtest = X_test.shape[0]\n",
        "num_classes = len(np.unique(y_train))\n",
        "\n",
        "print(f\"Training set size: {M}\")\n",
        "print(f\"Validation set size: {Mval}\")\n",
        "print(f\"Test set size: {Mtest}\")\n",
        "print(f\"Number of classes: {num_classes}\")\n",
        "print(f\"Features per example: {num_features}\")"
      ],
      "metadata": {
        "colab": {
          "base_uri": "https://localhost:8080/"
        },
        "id": "RopdaLoIM9I5",
        "outputId": "2b381212-1cf1-459f-861e-9e47e2a8bd72"
      },
      "execution_count": 3,
      "outputs": [
        {
          "output_type": "stream",
          "name": "stdout",
          "text": [
            "Training set size: 54000\n",
            "Validation set size: 6000\n",
            "Test set size: 10000\n",
            "Number of classes: 10\n",
            "Features per example: 784\n"
          ]
        }
      ]
    },
    {
      "cell_type": "markdown",
      "source": [
        "## Encoding\n",
        "- one hot enconding"
      ],
      "metadata": {
        "id": "ydlSesk8KJ5w"
      }
    },
    {
      "cell_type": "code",
      "source": [
        "# One-hot encode labels\n",
        "y_train_one_hot = np.zeros((num_classes, M))\n",
        "y_train_one_hot[y_train, np.arange(M)] = 1\n",
        "y_val_one_hot = np.zeros((num_classes, Mval))\n",
        "y_val_one_hot[y_val, np.arange(Mval)] = 1\n",
        "y_test_one_hot = np.zeros((num_classes, Mtest))\n",
        "y_test_one_hot[y_test, np.arange(Mtest)] = 1\n",
        "\n",
        "# Transpose data for easier manipulation in models\n",
        "X_train, X_val, X_test, X = X_train.T, X_val.T, X_test.T, X.T\n",
        "\n",
        "# Define model parameters\n",
        "input_nodes, output_nodes = num_features, num_classes\n"
      ],
      "metadata": {
        "id": "2femnxB2KAeQ"
      },
      "execution_count": 4,
      "outputs": []
    },
    {
      "cell_type": "markdown",
      "source": [
        "# Activation _ Helper __ Fn"
      ],
      "metadata": {
        "id": "uf0ZgtVxKd1P"
      }
    },
    {
      "cell_type": "code",
      "source": [
        "class Sigmoid:\n",
        "    @staticmethod\n",
        "    def function(x):\n",
        "        return 1. / (1. + np.exp(-x))\n",
        "\n",
        "    @staticmethod\n",
        "    def derivative(x):\n",
        "        return Sigmoid.function(x) * (1 - Sigmoid.function(x))\n",
        "\n",
        "class Relu:\n",
        "    @staticmethod\n",
        "    def function(x):\n",
        "        return np.maximum(0, x)\n",
        "\n",
        "    @staticmethod\n",
        "    def derivative(x):\n",
        "        return (x > 0).astype(float)\n",
        "\n",
        "class Tanh:\n",
        "    @staticmethod\n",
        "    def function(x):\n",
        "        return np.tanh(x)\n",
        "\n",
        "    @staticmethod\n",
        "    def derivative(x):\n",
        "        return 1 - (np.tanh(x) ** 2)\n",
        "\n",
        "class Softmax:\n",
        "    @staticmethod\n",
        "    def function(x):\n",
        "        exp_x = np.exp(x - np.max(x, axis=0, keepdims=True))\n",
        "        return exp_x / np.sum(exp_x, axis=0, keepdims=True)\n",
        "\n",
        "    @staticmethod\n",
        "    def derivative(x):\n",
        "        return Softmax.function(x) * (1 - Softmax.function(x))"
      ],
      "metadata": {
        "id": "NyW4kv_zKAY3"
      },
      "execution_count": 5,
      "outputs": []
    },
    {
      "cell_type": "code",
      "source": [
        "# Function to initialize weights and biases\n",
        "def Init_Parameters(layer_dims, init_mode=\"xavier\"):\n",
        "    np.random.seed(42)\n",
        "    parameters = {}  # Renamed params to parameters\n",
        "    prev_updates = {}\n",
        "    for i in range(1, len(layer_dims)):\n",
        "        if init_mode == 'random_normal':\n",
        "            parameters[f\"W{i}\"] = np.random.randn(layer_dims[i], layer_dims[i-1]) * 0.01\n",
        "        elif init_mode == 'random_uniform':\n",
        "            parameters[f\"W{i}\"] = np.random.rand(layer_dims[i], layer_dims[i-1]) * 0.01\n",
        "        elif init_mode == 'xavier':\n",
        "            parameters[f\"W{i}\"] = np.random.randn(layer_dims[i], layer_dims[i-1]) * np.sqrt(2 / (layer_dims[i] + layer_dims[i-1]))\n",
        "        parameters[f\"b{i}\"] = np.zeros((layer_dims[i], 1))\n",
        "        prev_updates[f\"W{i}\"] = np.zeros((layer_dims[i], layer_dims[i-1]))\n",
        "        prev_updates[f\"b{i}\"] = np.zeros((layer_dims[i], 1))\n",
        "    return parameters, prev_updates\n",
        "\n",
        "\n",
        "\n",
        "\n",
        "\n"
      ],
      "metadata": {
        "id": "8VzJ5jwHKAWZ"
      },
      "execution_count": 6,
      "outputs": []
    },
    {
      "cell_type": "markdown",
      "source": [
        "# Forward Pass"
      ],
      "metadata": {
        "id": "cnfTrT1dXRHg"
      }
    },
    {
      "cell_type": "code",
      "source": [
        "# Function for forward propagation\n",
        "def Forward_Propogation(X, parameters, activation_f):\n",
        "    L = len(parameters) // 2 + 1\n",
        "    layer_op, pre_activation = [None] * L, [None] * L\n",
        "    layer_op[0] = X\n",
        "    for l in range(1, L):\n",
        "        W, b = parameters[f\"W{l}\"], parameters[f\"b{l}\"]\n",
        "        pre_activation[l] = np.matmul(W, layer_op[l-1]) + b\n",
        "        if l == L-1:\n",
        "            layer_op[l] = Softmax.function(pre_activation[l])\n",
        "        else:\n",
        "            layer_op[l] = Sigmoid.function(pre_activation[l]) if activation_f == 'sigmoid' else Relu.function(pre_activation[l]) if activation_f == 'relu' else Tanh.function(pre_activation[l])\n",
        "    return layer_op[-1], layer_op, pre_activation"
      ],
      "metadata": {
        "id": "L93T7D9rKATn"
      },
      "execution_count": 7,
      "outputs": []
    },
    {
      "cell_type": "markdown",
      "source": [
        "# Back Prop"
      ],
      "metadata": {
        "id": "UH0RRHWfXZg3"
      }
    },
    {
      "cell_type": "code",
      "source": [
        "\n",
        "# Function for backpropagation\n",
        "def Back_Propogation(y_hat, y, layer_op, pre_activation, parameters, activation_f, batch_size, loss, lamb):\n",
        "    L = len(parameters) // 2\n",
        "    gradients = {}\n",
        "\n",
        "    gradients[f\"dZ{L}\"] = (layer_op[L] - y) if loss == 'categorical_crossentropy' else (layer_op[L] - y) * Softmax.derivative(pre_activation[L])\n",
        "\n",
        "    for l in range(L, 0, -1):\n",
        "        gradients[f\"dW{l}\"] = (np.dot(gradients[f\"dZ{l}\"], layer_op[l-1].T) + lamb * parameters[f\"W{l}\"]) / batch_size\n",
        "        gradients[f\"db{l}\"] = np.sum(gradients[f\"dZ{l}\"], axis=1, keepdims=True) / batch_size\n",
        "\n",
        "        if l > 1:\n",
        "            activation_derivative = Sigmoid.derivative if activation_f == 'sigmoid' else Relu.derivative if activation_f == 'relu' else Tanh.derivative\n",
        "            gradients[f\"dZ{l-1}\"] = np.matmul(parameters[f\"W{l}\"].T, gradients[f\"dZ{l}\"]) * activation_derivative(pre_activation[l-1])\n",
        "\n",
        "    return gradients"
      ],
      "metadata": {
        "id": "QA1YMjmiKARK"
      },
      "execution_count": 8,
      "outputs": []
    },
    {
      "cell_type": "code",
      "source": [
        "import numpy as np\n",
        "\n",
        "# Define network architecture\n",
        "layer_dims = [784, 128, 64, 10]  # Example: Input layer (784), two hidden layers (128, 64), Output layer (10)\n",
        "activation_function = \"relu\"  # Change to 'sigmoid' or 'tanh' if needed\n",
        "batch_size = 32\n",
        "lamb = 0.01  # L2 regularization parameter\n",
        "loss_function = 'categorical_crossentropy'\n",
        "\n",
        "# Initialize parameters\n",
        "parameters, _ = Init_Parameters(layer_dims)\n",
        "\n",
        "# Generate dummy input and target labels\n",
        "X_dummy = np.random.randn(784, batch_size)  # 784 features, batch of 32 samples\n",
        "y_dummy = np.eye(10)[:, np.random.choice(10, batch_size)]  # One-hot encoded random labels\n",
        "\n",
        "# Forward pass\n",
        "y_hat, layer_op, pre_activation = Forward_Propogation(X_dummy, parameters, activation_function)\n",
        "print(\"Forward Propagation Output Shape:\", y_hat.shape)  # Should be (10, batch_size)\n",
        "\n",
        "# Backward pass\n",
        "gradients = Back_Propogation(y_hat, y_dummy, layer_op, pre_activation, parameters, activation_function, batch_size, loss_function, lamb)\n",
        "\n",
        "# Check gradients shape\n",
        "for key in gradients:\n",
        "    print(f\"{key} shape: {gradients[key].shape}\")\n"
      ],
      "metadata": {
        "id": "Z3nBjbuoKAOo",
        "colab": {
          "base_uri": "https://localhost:8080/"
        },
        "outputId": "7494e48f-dc9b-4702-e22b-8d45559cc109"
      },
      "execution_count": 9,
      "outputs": [
        {
          "output_type": "stream",
          "name": "stdout",
          "text": [
            "Forward Propagation Output Shape: (10, 32)\n",
            "dZ3 shape: (10, 32)\n",
            "dW3 shape: (10, 64)\n",
            "db3 shape: (10, 1)\n",
            "dZ2 shape: (64, 32)\n",
            "dW2 shape: (64, 128)\n",
            "db2 shape: (64, 1)\n",
            "dZ1 shape: (128, 32)\n",
            "dW1 shape: (128, 784)\n",
            "db1 shape: (128, 1)\n"
          ]
        }
      ]
    },
    {
      "cell_type": "code",
      "source": [],
      "metadata": {
        "id": "9H6TUNlJKAMG"
      },
      "execution_count": null,
      "outputs": []
    },
    {
      "cell_type": "code",
      "source": [],
      "metadata": {
        "id": "aSiuTJ6QKAJf"
      },
      "execution_count": null,
      "outputs": []
    },
    {
      "cell_type": "code",
      "source": [],
      "metadata": {
        "id": "2T3OhBntKAG4"
      },
      "execution_count": null,
      "outputs": []
    },
    {
      "cell_type": "code",
      "source": [],
      "metadata": {
        "id": "0QeMBHmXKAEb"
      },
      "execution_count": null,
      "outputs": []
    },
    {
      "cell_type": "code",
      "source": [],
      "metadata": {
        "id": "mu-msFNIKAB4"
      },
      "execution_count": null,
      "outputs": []
    },
    {
      "cell_type": "code",
      "source": [],
      "metadata": {
        "id": "56L4ECtVJ__P"
      },
      "execution_count": null,
      "outputs": []
    },
    {
      "cell_type": "code",
      "source": [],
      "metadata": {
        "id": "qHrluqFIJ_8o"
      },
      "execution_count": null,
      "outputs": []
    },
    {
      "cell_type": "code",
      "source": [],
      "metadata": {
        "id": "u-q9ZJh1J_54"
      },
      "execution_count": null,
      "outputs": []
    },
    {
      "cell_type": "code",
      "source": [],
      "metadata": {
        "id": "XGG0-aC9J_3Q"
      },
      "execution_count": null,
      "outputs": []
    },
    {
      "cell_type": "code",
      "source": [],
      "metadata": {
        "id": "LAk_4n_ZJ_wY"
      },
      "execution_count": null,
      "outputs": []
    },
    {
      "cell_type": "code",
      "source": [
        "import wandb\n",
        "import matplotlib.pyplot as plt\n",
        "import numpy as np\n",
        "from keras.datasets import fashion_mnist\n",
        "\n",
        "class FashionMNISTLoader:\n",
        "    def __init__(self):\n",
        "        # You can rename or change class names as needed\n",
        "        self.class_names = [\n",
        "            'T-shirt/top', 'Trouser', 'Pullover', 'Dress', 'Coat',\n",
        "            'Sandal', 'Shirt', 'Sneaker', 'Bag', 'Ankle boot'\n",
        "        ]\n",
        "\n",
        "    def load_data(self):\n",
        "        (x_train, y_train), (x_test, y_test) = fashion_mnist.load_data()\n",
        "\n",
        "        # Normalize pixel values to [0,1]\n",
        "        x_train = x_train / 255.0\n",
        "        x_test = x_test / 255.0\n",
        "\n",
        "        return x_train, y_train, x_test, y_test\n",
        "\n",
        "class FashionMNISTVisualizer:\n",
        "    def __init__(self, class_names):\n",
        "        self.class_names = class_names\n",
        "\n",
        "    def plot_samples(self, x, y):\n",
        "        \"\"\"\n",
        "        Plots one sample from each class in a single row of subplots.\n",
        "        Returns a matplotlib Figure object that can be logged to wandb.\n",
        "        \"\"\"\n",
        "        num_classes = len(self.class_names)\n",
        "        fig, axes = plt.subplots(1, num_classes, figsize=(15, 3))\n",
        "\n",
        "        for i in range(num_classes):\n",
        "            # Find the first index in y where the label is i\n",
        "            idx = np.where(y == i)[0][0]\n",
        "            axes[i].imshow(x[idx], cmap='gray')\n",
        "            axes[i].set_title(self.class_names[i])\n",
        "            axes[i].axis('off')\n",
        "\n",
        "        plt.tight_layout()\n",
        "        return fig\n",
        "\n",
        "class WandbLogger:\n",
        "    def __init__(self, project, run_name):\n",
        "        wandb.login()\n",
        "        self.run = wandb.init(project=project, name=run_name)\n",
        "\n",
        "    def log_image(self, plt_obj, key=\"Question 1\"):\n",
        "        \"\"\"\n",
        "        Logs the given Matplotlib figure (plt_obj) as an image to wandb\n",
        "        under the specified key.\n",
        "        \"\"\"\n",
        "        wandb.log({key: wandb.Image(plt_obj)})\n",
        "\n",
        "    def finish(self):\n",
        "        wandb.finish()\n",
        "\n",
        "def main():\n",
        "    # 1. Load data\n",
        "    data_loader = FashionMNISTLoader()\n",
        "    x_train, y_train, x_test, y_test = data_loader.load_data()\n",
        "\n",
        "    # 2. Create a visualizer and plot one sample image per class\n",
        "    visualizer = FashionMNISTVisualizer(data_loader.class_names)\n",
        "    plot_obj = visualizer.plot_samples(x_train, y_train)\n",
        "\n",
        "    # 3. Initialize wandb logger\n",
        "    logger = WandbLogger(\n",
        "        project=\"cs24m037-iit-madras\",\n",
        "        run_name=\"Q1\"\n",
        "    )\n",
        "\n",
        "    # 4. Log the image to wandb\n",
        "    logger.log_image(plot_obj)\n",
        "\n",
        "    # 5. Show the plot locally (optional)\n",
        "    plt.show()\n",
        "\n",
        "    # 6. Finish the wandb run\n",
        "    logger.finish()\n",
        "\n",
        "if __name__ == \"__main__\":\n",
        "    main()\n"
      ],
      "metadata": {
        "colab": {
          "base_uri": "https://localhost:8080/",
          "height": 349
        },
        "id": "xce-ga7TcE2n",
        "outputId": "b55b5011-75dd-4cf7-8aba-1dfdea4f2256"
      },
      "execution_count": null,
      "outputs": [
        {
          "output_type": "display_data",
          "data": {
            "text/plain": [
              "<IPython.core.display.HTML object>"
            ],
            "text/html": [
              "Tracking run with wandb version 0.19.6"
            ]
          },
          "metadata": {}
        },
        {
          "output_type": "display_data",
          "data": {
            "text/plain": [
              "<IPython.core.display.HTML object>"
            ],
            "text/html": [
              "Run data is saved locally in <code>/content/wandb/run-20250225_140851-abnew11e</code>"
            ]
          },
          "metadata": {}
        },
        {
          "output_type": "display_data",
          "data": {
            "text/plain": [
              "<IPython.core.display.HTML object>"
            ],
            "text/html": [
              "Syncing run <strong><a href='https://wandb.ai/cs24m037-iit-madras/cs24m037-iit-madras/runs/abnew11e' target=\"_blank\">Q1</a></strong> to <a href='https://wandb.ai/cs24m037-iit-madras/cs24m037-iit-madras' target=\"_blank\">Weights & Biases</a> (<a href='https://wandb.me/developer-guide' target=\"_blank\">docs</a>)<br>"
            ]
          },
          "metadata": {}
        },
        {
          "output_type": "display_data",
          "data": {
            "text/plain": [
              "<IPython.core.display.HTML object>"
            ],
            "text/html": [
              " View project at <a href='https://wandb.ai/cs24m037-iit-madras/cs24m037-iit-madras' target=\"_blank\">https://wandb.ai/cs24m037-iit-madras/cs24m037-iit-madras</a>"
            ]
          },
          "metadata": {}
        },
        {
          "output_type": "display_data",
          "data": {
            "text/plain": [
              "<IPython.core.display.HTML object>"
            ],
            "text/html": [
              " View run at <a href='https://wandb.ai/cs24m037-iit-madras/cs24m037-iit-madras/runs/abnew11e' target=\"_blank\">https://wandb.ai/cs24m037-iit-madras/cs24m037-iit-madras/runs/abnew11e</a>"
            ]
          },
          "metadata": {}
        },
        {
          "output_type": "display_data",
          "data": {
            "text/plain": [
              "<Figure size 1500x300 with 10 Axes>"
            ],
            "image/png": "[encoded data removed]"
          },
          "metadata": {}
        },
        {
          "output_type": "display_data",
          "data": {
            "text/plain": [
              "<IPython.core.display.HTML object>"
            ],
            "text/html": []
          },
          "metadata": {}
        },
        {
          "output_type": "display_data",
          "data": {
            "text/plain": [
              "<IPython.core.display.HTML object>"
            ],
            "text/html": [
              " View run <strong style=\"color:#cdcd00\">Q1</strong> at: <a href='https://wandb.ai/cs24m037-iit-madras/cs24m037-iit-madras/runs/abnew11e' target=\"_blank\">https://wandb.ai/cs24m037-iit-madras/cs24m037-iit-madras/runs/abnew11e</a><br> View project at: <a href='https://wandb.ai/cs24m037-iit-madras/cs24m037-iit-madras' target=\"_blank\">https://wandb.ai/cs24m037-iit-madras/cs24m037-iit-madras</a><br>Synced 5 W&B file(s), 1 media file(s), 0 artifact file(s) and 0 other file(s)"
            ]
          },
          "metadata": {}
        },
        {
          "output_type": "display_data",
          "data": {
            "text/plain": [
              "<IPython.core.display.HTML object>"
            ],
            "text/html": [
              "Find logs at: <code>./wandb/run-20250225_140851-abnew11e/logs</code>"
            ]
          },
          "metadata": {}
        }
      ]
    }
  ]
}