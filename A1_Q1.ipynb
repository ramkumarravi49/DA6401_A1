{
 "cells": [
  {
   "cell_type": "markdown",
   "metadata": {
    "id": "sLH2V6ABOJ_Q"
   },
   "source": [
    "# Q1"
   ]
  },
  {
   "cell_type": "code",
   "execution_count": 2,
   "metadata": {
    "id": "IFcLI3FuDQjz"
   },
   "outputs": [],
   "source": [
    "import numpy as np\n",
    "import wandb\n",
    "from tensorflow.keras.datasets import fashion_mnist\n",
    "from sklearn.model_selection import train_test_split\n",
    "\n",
    "# Load dataset\n",
    "(X, y), (X_test, y_test) = fashion_mnist.load_data()\n",
    "\n",
    "# Class labels\n",
    "class_names = ['T-shirt/top', 'Trouser', 'Pullover', 'Dress', 'Coat',\n",
    "               'Sandal', 'Shirt', 'Sneaker', 'Bag', 'Ankle boot']\n",
    "\n",
    "# Initialize wandb for logging\n",
    "#wandb.init(project=\"DL_AA1\", entity=\"cs24m037-iit-madras\", name=\"a1_log_images\")\n",
    "\n",
    "\n",
    "\n",
    "# Select one example per class from the raw data\n",
    "example_indices = [np.where(y == i)[0][0] for i in range(len(class_names))]\n",
    "example_images = [X[idx] for idx in example_indices]\n",
    "example_captions = [class_names[y[idx]] for idx in example_indices]\n",
    "\n",
    "# Log raw sample images to wandb\n",
    "#wandb.log({\"Raw Sample Images\": [wandb.Image(img, caption=cap) for img, cap in zip(example_images, example_captions)]})"
   ]
  },
  {
   "cell_type": "markdown",
   "metadata": {
    "id": "pGyHdhYJONkA"
   },
   "source": [
    "## Flatten and Noramalize"
   ]
  },
  {
   "cell_type": "code",
   "execution_count": 3,
   "metadata": {
    "colab": {
     "base_uri": "https://localhost:8080/"
    },
    "id": "RopdaLoIM9I5",
    "outputId": "189b7ab9-0ae3-4ac2-b7c5-1b4cb5753d21"
   },
   "outputs": [
    {
     "name": "stdout",
     "output_type": "stream",
     "text": [
      "Training set size: 54000\n",
      "Validation set size: 6000\n",
      "Test set size: 10000\n",
      "Number of classes: 10\n",
      "Features per example: 784\n"
     ]
    }
   ],
   "source": [
    "# Reshape data to flatten images\n",
    "X = X.reshape(X.shape[0], -1) / 255.0\n",
    "X_test = X_test.reshape(X_test.shape[0], -1) / 255.0\n",
    "\n",
    "# Split into training and validation sets\n",
    "X_train, X_val, y_train, y_val = train_test_split(X, y, test_size=0.1, random_state=42)\n",
    "\n",
    "# Dataset statistics\n",
    "M, num_features = X_train.shape\n",
    "Mval = X_val.shape[0]\n",
    "Mtest = X_test.shape[0]\n",
    "num_classes = len(np.unique(y_train))\n",
    "\n",
    "print(f\"Training set size: {M}\")\n",
    "print(f\"Validation set size: {Mval}\")\n",
    "print(f\"Test set size: {Mtest}\")\n",
    "print(f\"Number of classes: {num_classes}\")\n",
    "print(f\"Features per example: {num_features}\")"
   ]
  },
  {
   "cell_type": "markdown",
   "metadata": {
    "id": "ydlSesk8KJ5w"
   },
   "source": [
    "## Encoding\n",
    "- one hot enconding"
   ]
  },
  {
   "cell_type": "code",
   "execution_count": 4,
   "metadata": {
    "id": "2femnxB2KAeQ"
   },
   "outputs": [],
   "source": [
    "# One-hot encode labels\n",
    "y_train_one_hot = np.zeros((num_classes, M))\n",
    "y_train_one_hot[y_train, np.arange(M)] = 1\n",
    "y_val_one_hot = np.zeros((num_classes, Mval))\n",
    "y_val_one_hot[y_val, np.arange(Mval)] = 1\n",
    "y_test_one_hot = np.zeros((num_classes, Mtest))\n",
    "y_test_one_hot[y_test, np.arange(Mtest)] = 1\n",
    "\n",
    "# Transpose data for easier manipulation in models\n",
    "X_train, X_val, X_test, X = X_train.T, X_val.T, X_test.T, X.T\n",
    "\n",
    "# Define model parameters\n",
    "input_nodes, output_nodes = num_features, num_classes\n"
   ]
  },
  {
   "cell_type": "markdown",
   "metadata": {
    "id": "uf0ZgtVxKd1P"
   },
   "source": [
    "# Activation _ Helper __ Fn"
   ]
  },
  {
   "cell_type": "code",
   "execution_count": 5,
   "metadata": {
    "id": "NyW4kv_zKAY3"
   },
   "outputs": [],
   "source": [
    "class Sigmoid:\n",
    "    @staticmethod\n",
    "    def function(x):\n",
    "        return 1. / (1. + np.exp(-x))\n",
    "\n",
    "    @staticmethod\n",
    "    def derivative(x):\n",
    "        return Sigmoid.function(x) * (1 - Sigmoid.function(x))\n",
    "\n",
    "class Relu:\n",
    "    @staticmethod\n",
    "    def function(x):\n",
    "        return np.maximum(0, x)\n",
    "\n",
    "    @staticmethod\n",
    "    def derivative(x):\n",
    "        return (x > 0).astype(float)\n",
    "\n",
    "class Tanh:\n",
    "    @staticmethod\n",
    "    def function(x):\n",
    "        return np.tanh(x)\n",
    "\n",
    "    @staticmethod\n",
    "    def derivative(x):\n",
    "        return 1 - (np.tanh(x) ** 2)\n",
    "\n",
    "class Softmax:\n",
    "    @staticmethod\n",
    "    def function(x):\n",
    "        exp_x = np.exp(x - np.max(x, axis=0, keepdims=True))\n",
    "        return exp_x / np.sum(exp_x, axis=0, keepdims=True)\n",
    "\n",
    "    @staticmethod\n",
    "    def derivative(x):\n",
    "        return Softmax.function(x) * (1 - Softmax.function(x))\n",
    "\n",
    "\n",
    "# Function to initialize weights and biases\n",
    "def Init_Parameters(layer_dims, init_mode=\"xavier\"):\n",
    "    np.random.seed(42)\n",
    "    parameters = {}  # Renamed params to parameters\n",
    "    prev_updates = {}\n",
    "    for i in range(1, len(layer_dims)):\n",
    "        if init_mode == 'random_normal':\n",
    "            parameters[f\"W{i}\"] = np.random.randn(layer_dims[i], layer_dims[i-1]) * 0.01\n",
    "        elif init_mode == 'random_uniform':\n",
    "            parameters[f\"W{i}\"] = np.random.rand(layer_dims[i], layer_dims[i-1]) * 0.01\n",
    "        elif init_mode == 'xavier':\n",
    "            parameters[f\"W{i}\"] = np.random.randn(layer_dims[i], layer_dims[i-1]) * np.sqrt(2 / (layer_dims[i] + layer_dims[i-1]))\n",
    "        parameters[f\"b{i}\"] = np.zeros((layer_dims[i], 1))\n",
    "        prev_updates[f\"W{i}\"] = np.zeros((layer_dims[i], layer_dims[i-1]))\n",
    "        prev_updates[f\"b{i}\"] = np.zeros((layer_dims[i], 1))\n",
    "    return parameters, prev_updates"
   ]
  },
  {
   "cell_type": "markdown",
   "metadata": {
    "id": "cnfTrT1dXRHg"
   },
   "source": [
    "# Forward Pass"
   ]
  },
  {
   "cell_type": "code",
   "execution_count": 6,
   "metadata": {
    "id": "L93T7D9rKATn"
   },
   "outputs": [],
   "source": [
    "# Function for forward propagation\n",
    "def Forward_Propogation(X, parameters, activation_f):\n",
    "    L = len(parameters) // 2 + 1\n",
    "    layer_op, pre_activation = [None] * L, [None] * L\n",
    "    layer_op[0] = X\n",
    "    for l in range(1, L):\n",
    "        W, b = parameters[f\"W{l}\"], parameters[f\"b{l}\"]\n",
    "        pre_activation[l] = np.matmul(W, layer_op[l-1]) + b\n",
    "        if l == L-1:\n",
    "            layer_op[l] = Softmax.function(pre_activation[l])\n",
    "        else:\n",
    "            layer_op[l] = Sigmoid.function(pre_activation[l]) if activation_f == 'sigmoid' else Relu.function(pre_activation[l]) if activation_f == 'relu' else Tanh.function(pre_activation[l])\n",
    "    return layer_op[-1], layer_op, pre_activation"
   ]
  },
  {
   "cell_type": "markdown",
   "metadata": {
    "id": "UH0RRHWfXZg3"
   },
   "source": [
    "# Back Prop"
   ]
  },
  {
   "cell_type": "code",
   "execution_count": 7,
   "metadata": {
    "id": "QA1YMjmiKARK"
   },
   "outputs": [],
   "source": [
    "\n",
    "# Function for backpropagation\n",
    "def Back_Propogation(y_hat, y, layer_op, pre_activation, parameters, activation_f, batch_size, loss, lamb):\n",
    "    L = len(parameters) // 2\n",
    "    gradients = {}\n",
    "\n",
    "    gradients[f\"dZ{L}\"] = (layer_op[L] - y) if loss == 'categorical_crossentropy' else (layer_op[L] - y) * Softmax.derivative(pre_activation[L])\n",
    "\n",
    "    for l in range(L, 0, -1):\n",
    "        gradients[f\"dW{l}\"] = (np.dot(gradients[f\"dZ{l}\"], layer_op[l-1].T) + lamb * parameters[f\"W{l}\"]) / batch_size\n",
    "        gradients[f\"db{l}\"] = np.sum(gradients[f\"dZ{l}\"], axis=1, keepdims=True) / batch_size\n",
    "\n",
    "        if l > 1:\n",
    "            activation_derivative = Sigmoid.derivative if activation_f == 'sigmoid' else Relu.derivative if activation_f == 'relu' else Tanh.derivative\n",
    "            gradients[f\"dZ{l-1}\"] = np.matmul(parameters[f\"W{l}\"].T, gradients[f\"dZ{l}\"]) * activation_derivative(pre_activation[l-1])\n",
    "\n",
    "    return gradients"
   ]
  },
  {
   "cell_type": "code",
   "execution_count": 8,
   "metadata": {
    "id": "Z3nBjbuoKAOo"
   },
   "outputs": [],
   "source": [
    "# import numpy as np\n",
    "\n",
    "# # Define network architecture\n",
    "# layer_dims = [784, 128, 64, 10]  # Example: Input layer (784), two hidden layers (128, 64), Output layer (10)\n",
    "# activation_function = \"relu\"  # Change to 'sigmoid' or 'tanh' if needed\n",
    "# batch_size = 32\n",
    "# lamb = 0.01  # L2 regularization parameter\n",
    "# loss_function = 'categorical_crossentropy'\n",
    "\n",
    "# # Initialize parameters\n",
    "# parameters, _ = Init_Parameters(layer_dims)\n",
    "\n",
    "# # Generate dummy input and target labels\n",
    "# X_dummy = np.random.randn(784, batch_size)  # 784 features, batch of 32 samples\n",
    "# y_dummy = np.eye(10)[:, np.random.choice(10, batch_size)]  # One-hot encoded random labels\n",
    "\n",
    "# # Forward pass\n",
    "# y_hat, layer_op, pre_activation = Forward_Propogation(X_dummy, parameters, activation_function)\n",
    "# print(\"Forward Propagation Output Shape:\", y_hat.shape)  # Should be (10, batch_size)\n",
    "\n",
    "# # Backward pass\n",
    "# gradients = Back_Propogation(y_hat, y_dummy, layer_op, pre_activation, parameters, activation_function, batch_size, loss_function, lamb)\n",
    "\n",
    "# # Check gradients shape\n",
    "# for key in gradients:\n",
    "#     print(f\"{key} shape: {gradients[key].shape}\")\n"
   ]
  },
  {
   "cell_type": "code",
   "execution_count": 9,
   "metadata": {
    "id": "9H6TUNlJKAMG"
   },
   "outputs": [],
   "source": [
    "### Optimizer Functions ###\n",
    "\n",
    "def update_sgd(parameters, gradients, lr=0.01):\n",
    "    \"\"\"Standard SGD update.\"\"\"\n",
    "    L = len(parameters) // 2\n",
    "    for l in range(1, L + 1):\n",
    "        parameters[f\"W{l}\"] -= lr * gradients[f\"dW{l}\"]\n",
    "        parameters[f\"b{l}\"] -= lr * gradients[f\"db{l}\"]\n",
    "    return parameters\n",
    "\n",
    "def update_momentum(parameters, gradients, prev_updates, lr=0.01, beta1=0.9):\n",
    "    \"\"\"Momentum-based gradient descent update.\"\"\"\n",
    "    L = len(parameters) // 2\n",
    "    if \"v\" not in prev_updates:\n",
    "        prev_updates[\"v\"] = {f\"W{l}\": np.zeros_like(parameters[f\"W{l}\"]) for l in range(1, L+1)}\n",
    "        prev_updates[\"v\"].update({f\"b{l}\": np.zeros_like(parameters[f\"b{l}\"]) for l in range(1, L+1)})\n",
    "    for l in range(1, L + 1):\n",
    "        prev_updates[\"v\"][f\"W{l}\"] = beta1 * prev_updates[\"v\"][f\"W{l}\"] + (1 - beta1) * gradients[f\"dW{l}\"]\n",
    "        prev_updates[\"v\"][f\"b{l}\"] = beta1 * prev_updates[\"v\"][f\"b{l}\"] + (1 - beta1) * gradients[f\"db{l}\"]\n",
    "        parameters[f\"W{l}\"] -= lr * prev_updates[\"v\"][f\"W{l}\"]\n",
    "        parameters[f\"b{l}\"] -= lr * prev_updates[\"v\"][f\"b{l}\"]\n",
    "    return parameters, prev_updates\n",
    "\n",
    "def update_nesterov(parameters, gradients, prev_updates, lr=0.01, beta1=0.9):\n",
    "    \"\"\"Nesterov Accelerated Gradient Descent.\"\"\"\n",
    "    L = len(parameters) // 2\n",
    "    if \"v\" not in prev_updates:\n",
    "        prev_updates[\"v\"] = {f\"W{l}\": np.zeros_like(parameters[f\"W{l}\"]) for l in range(1, L+1)}\n",
    "        prev_updates[\"v\"].update({f\"b{l}\": np.zeros_like(parameters[f\"b{l}\"]) for l in range(1, L+1)})\n",
    "    for l in range(1, L + 1):\n",
    "        v_prev = prev_updates[\"v\"][f\"W{l}\"]\n",
    "        prev_updates[\"v\"][f\"W{l}\"] = beta1 * v_prev + (1 - beta1) * gradients[f\"dW{l}\"]\n",
    "        parameters[f\"W{l}\"] -= lr * (beta1 * v_prev + (1 - beta1) * gradients[f\"dW{l}\"])\n",
    "        prev_updates[\"v\"][f\"b{l}\"] = beta1 * prev_updates[\"v\"][f\"b{l}\"] + (1 - beta1) * gradients[f\"db{l}\"]\n",
    "        parameters[f\"b{l}\"] -= lr * prev_updates[\"v\"][f\"b{l}\"]\n",
    "    return parameters, prev_updates\n",
    "\n",
    "def update_rmsprop(parameters, gradients, prev_updates, lr=0.001, beta2=0.999, epsilon=1e-8):\n",
    "    \"\"\"RMSprop optimizer update.\"\"\"\n",
    "    L = len(parameters) // 2\n",
    "    if \"s\" not in prev_updates:\n",
    "        prev_updates[\"s\"] = {f\"W{l}\": np.zeros_like(parameters[f\"W{l}\"]) for l in range(1, L+1)}\n",
    "        prev_updates[\"s\"].update({f\"b{l}\": np.zeros_like(parameters[f\"b{l}\"]) for l in range(1, L+1)})\n",
    "    for l in range(1, L + 1):\n",
    "        prev_updates[\"s\"][f\"W{l}\"] = beta2 * prev_updates[\"s\"][f\"W{l}\"] + (1 - beta2) * (gradients[f\"dW{l}\"] ** 2)\n",
    "        prev_updates[\"s\"][f\"b{l}\"] = beta2 * prev_updates[\"s\"][f\"b{l}\"] + (1 - beta2) * (gradients[f\"db{l}\"] ** 2)\n",
    "        parameters[f\"W{l}\"] -= lr * gradients[f\"dW{l}\"] / (np.sqrt(prev_updates[\"s\"][f\"W{l}\"]) + epsilon)\n",
    "        parameters[f\"b{l}\"] -= lr * gradients[f\"db{l}\"] / (np.sqrt(prev_updates[\"s\"][f\"b{l}\"]) + epsilon)\n",
    "    return parameters, prev_updates\n",
    "\n",
    "def update_adam(parameters, gradients, prev_updates, t, lr=0.001, beta1=0.9, beta2=0.999, epsilon=1e-8):\n",
    "    \"\"\"Adam optimizer update.\"\"\"\n",
    "    L = len(parameters) // 2\n",
    "    if \"v\" not in prev_updates:\n",
    "        prev_updates[\"v\"] = {f\"W{l}\": np.zeros_like(parameters[f\"W{l}\"]) for l in range(1, L+1)}\n",
    "        prev_updates[\"v\"].update({f\"b{l}\": np.zeros_like(parameters[f\"b{l}\"]) for l in range(1, L+1)})\n",
    "    if \"s\" not in prev_updates:\n",
    "        prev_updates[\"s\"] = {f\"W{l}\": np.zeros_like(parameters[f\"W{l}\"]) for l in range(1, L+1)}\n",
    "        prev_updates[\"s\"].update({f\"b{l}\": np.zeros_like(parameters[f\"b{l}\"]) for l in range(1, L+1)})\n",
    "    for l in range(1, L + 1):\n",
    "        prev_updates[\"v\"][f\"W{l}\"] = beta1 * prev_updates[\"v\"][f\"W{l}\"] + (1 - beta1) * gradients[f\"dW{l}\"]\n",
    "        prev_updates[\"s\"][f\"W{l}\"] = beta2 * prev_updates[\"s\"][f\"W{l}\"] + (1 - beta2) * (gradients[f\"dW{l}\"] ** 2)\n",
    "        v_corrected = prev_updates[\"v\"][f\"W{l}\"] / (1 - beta1 ** t)\n",
    "        s_corrected = prev_updates[\"s\"][f\"W{l}\"] / (1 - beta2 ** t)\n",
    "        parameters[f\"W{l}\"] -= lr * v_corrected / (np.sqrt(s_corrected) + epsilon)\n",
    "    return parameters, prev_updates\n",
    "\n",
    "# Dispatcher function for optimizer selection\n",
    "def update_parameters(optimizer, parameters, gradients, prev_updates, t=1, lr=0.01, beta1=0.9, beta2=0.999, epsilon=1e-8):\n",
    "    if optimizer == \"sgd\":\n",
    "        return update_sgd(parameters, gradients, lr), prev_updates\n",
    "    elif optimizer == \"momentum\":\n",
    "        return update_momentum(parameters, gradients, prev_updates, lr, beta1)\n",
    "    elif optimizer == \"nesterov\":\n",
    "        return update_nesterov(parameters, gradients, prev_updates, lr, beta1)\n",
    "    elif optimizer == \"rmsprop\":\n",
    "        return update_rmsprop(parameters, gradients, prev_updates, lr, beta2, epsilon)\n",
    "    elif optimizer == \"adam\":\n",
    "        return update_adam(parameters, gradients, prev_updates, t, lr, beta1, beta2, epsilon)\n",
    "    else:\n",
    "        raise ValueError(f\"Unsupported optimizer: {optimizer}\")"
   ]
  },
  {
   "cell_type": "code",
   "execution_count": 10,
   "metadata": {
    "id": "5f-CDy6GsEZp"
   },
   "outputs": [
    {
     "name": "stdout",
     "output_type": "stream",
     "text": [
      "Requirement already satisfied: wandb in c:\\users\\ramkumar\\appdata\\local\\programs\\python\\python312\\lib\\site-packages (0.19.7)\n",
      "Requirement already satisfied: click!=8.0.0,>=7.1 in c:\\users\\ramkumar\\appdata\\local\\programs\\python\\python312\\lib\\site-packages (from wandb) (8.1.8)\n",
      "Requirement already satisfied: docker-pycreds>=0.4.0 in c:\\users\\ramkumar\\appdata\\local\\programs\\python\\python312\\lib\\site-packages (from wandb) (0.4.0)\n",
      "Requirement already satisfied: gitpython!=3.1.29,>=1.0.0 in c:\\users\\ramkumar\\appdata\\local\\programs\\python\\python312\\lib\\site-packages (from wandb) (3.1.44)\n",
      "Requirement already satisfied: platformdirs in c:\\users\\ramkumar\\appdata\\roaming\\python\\python312\\site-packages (from wandb) (4.2.2)\n",
      "Requirement already satisfied: protobuf!=4.21.0,!=5.28.0,<6,>=3.19.0 in c:\\users\\ramkumar\\appdata\\local\\programs\\python\\python312\\lib\\site-packages (from wandb) (5.29.3)\n",
      "Requirement already satisfied: psutil>=5.0.0 in c:\\users\\ramkumar\\appdata\\roaming\\python\\python312\\site-packages (from wandb) (6.0.0)\n",
      "Requirement already satisfied: pydantic<3,>=2.6 in c:\\users\\ramkumar\\appdata\\local\\programs\\python\\python312\\lib\\site-packages (from wandb) (2.10.6)\n",
      "Requirement already satisfied: pyyaml in c:\\users\\ramkumar\\appdata\\roaming\\python\\python312\\site-packages (from wandb) (6.0.1)\n",
      "Requirement already satisfied: requests<3,>=2.0.0 in c:\\users\\ramkumar\\appdata\\roaming\\python\\python312\\site-packages (from wandb) (2.32.3)\n",
      "Requirement already satisfied: sentry-sdk>=2.0.0 in c:\\users\\ramkumar\\appdata\\local\\programs\\python\\python312\\lib\\site-packages (from wandb) (2.22.0)\n",
      "Requirement already satisfied: setproctitle in c:\\users\\ramkumar\\appdata\\local\\programs\\python\\python312\\lib\\site-packages (from wandb) (1.3.5)\n",
      "Requirement already satisfied: setuptools in c:\\users\\ramkumar\\appdata\\roaming\\python\\python312\\site-packages (from wandb) (70.3.0)\n",
      "Requirement already satisfied: colorama in c:\\users\\ramkumar\\appdata\\roaming\\python\\python312\\site-packages (from click!=8.0.0,>=7.1->wandb) (0.4.6)\n",
      "Requirement already satisfied: six>=1.4.0 in c:\\users\\ramkumar\\appdata\\roaming\\python\\python312\\site-packages (from docker-pycreds>=0.4.0->wandb) (1.16.0)\n",
      "Requirement already satisfied: gitdb<5,>=4.0.1 in c:\\users\\ramkumar\\appdata\\local\\programs\\python\\python312\\lib\\site-packages (from gitpython!=3.1.29,>=1.0.0->wandb) (4.0.12)\n",
      "Requirement already satisfied: annotated-types>=0.6.0 in c:\\users\\ramkumar\\appdata\\local\\programs\\python\\python312\\lib\\site-packages (from pydantic<3,>=2.6->wandb) (0.7.0)\n",
      "Requirement already satisfied: pydantic-core==2.27.2 in c:\\users\\ramkumar\\appdata\\local\\programs\\python\\python312\\lib\\site-packages (from pydantic<3,>=2.6->wandb) (2.27.2)\n",
      "Requirement already satisfied: typing-extensions>=4.12.2 in c:\\users\\ramkumar\\appdata\\local\\programs\\python\\python312\\lib\\site-packages (from pydantic<3,>=2.6->wandb) (4.12.2)\n",
      "Requirement already satisfied: charset-normalizer<4,>=2 in c:\\users\\ramkumar\\appdata\\roaming\\python\\python312\\site-packages (from requests<3,>=2.0.0->wandb) (3.3.2)\n",
      "Requirement already satisfied: idna<4,>=2.5 in c:\\users\\ramkumar\\appdata\\roaming\\python\\python312\\site-packages (from requests<3,>=2.0.0->wandb) (3.7)\n",
      "Requirement already satisfied: urllib3<3,>=1.21.1 in c:\\users\\ramkumar\\appdata\\roaming\\python\\python312\\site-packages (from requests<3,>=2.0.0->wandb) (2.2.2)\n",
      "Requirement already satisfied: certifi>=2017.4.17 in c:\\users\\ramkumar\\appdata\\roaming\\python\\python312\\site-packages (from requests<3,>=2.0.0->wandb) (2024.7.4)\n",
      "Requirement already satisfied: smmap<6,>=3.0.1 in c:\\users\\ramkumar\\appdata\\local\\programs\\python\\python312\\lib\\site-packages (from gitdb<5,>=4.0.1->gitpython!=3.1.29,>=1.0.0->wandb) (5.0.2)\n"
     ]
    },
    {
     "name": "stderr",
     "output_type": "stream",
     "text": [
      "\n",
      "[notice] A new release of pip is available: 24.0 -> 25.0.1\n",
      "[notice] To update, run: python.exe -m pip install --upgrade pip\n"
     ]
    }
   ],
   "source": [
    "! pip install wandb"
   ]
  },
  {
   "cell_type": "code",
   "execution_count": 11,
   "metadata": {
    "colab": {
     "base_uri": "https://localhost:8080/",
     "height": 1000
    },
    "id": "aSiuTJ6QKAJf",
    "outputId": "e1a721a6-9e16-4953-c259-c557939c91ef"
   },
   "outputs": [
    {
     "name": "stderr",
     "output_type": "stream",
     "text": [
      "wandb: Using wandb-core as the SDK backend.  Please refer to https://wandb.me/wandb-core for more information.\n"
     ]
    },
    {
     "name": "stdout",
     "output_type": "stream",
     "text": [
      "Create sweep with ID: zbxy6yvx\n",
      "Sweep URL: https://wandb.ai/cs24m037-iit-madras/DL_A1/sweeps/zbxy6yvx\n"
     ]
    },
    {
     "name": "stderr",
     "output_type": "stream",
     "text": [
      "wandb: Agent Starting Run: fuy6bog6 with config:\n",
      "wandb: \tL2_lamb: 0.5\n",
      "wandb: \tactivation_f: relu\n",
      "wandb: \tbatch_size: 16\n",
      "wandb: \tepochs: 10\n",
      "wandb: \tinit_mode: random_uniform\n",
      "wandb: \tlearning_rate: 0.0001\n",
      "wandb: \tnum_hidden: 3\n",
      "wandb: \tnum_neurons: 32\n",
      "wandb: \toptimizer: nadam\n",
      "wandb: Currently logged in as: cs24m037 (cs24m037-iit-madras) to https://api.wandb.ai. Use `wandb login --relogin` to force relogin\n"
     ]
    },
    {
     "data": {
      "text/html": [
       "creating run (0.0s)"
      ],
      "text/plain": [
       "<IPython.core.display.HTML object>"
      ]
     },
     "metadata": {},
     "output_type": "display_data"
    },
    {
     "data": {
      "text/html": [
       "Tracking run with wandb version 0.19.7"
      ],
      "text/plain": [
       "<IPython.core.display.HTML object>"
      ]
     },
     "metadata": {},
     "output_type": "display_data"
    },
    {
     "data": {
      "text/html": [
       "Run data is saved locally in <code>c:\\Users\\RAMKUMAR\\Desktop\\iitm\\sem2\\DL\\wandb\\run-20250308_093514-fuy6bog6</code>"
      ],
      "text/plain": [
       "<IPython.core.display.HTML object>"
      ]
     },
     "metadata": {},
     "output_type": "display_data"
    },
    {
     "data": {
      "text/html": [
       "Syncing run <strong><a href='https://wandb.ai/cs24m037-iit-madras/DL_A1/runs/fuy6bog6' target=\"_blank\">clear-sweep-1</a></strong> to <a href='https://wandb.ai/cs24m037-iit-madras/DL_A1' target=\"_blank\">Weights & Biases</a> (<a href='https://wandb.me/developer-guide' target=\"_blank\">docs</a>)<br>Sweep page: <a href='https://wandb.ai/cs24m037-iit-madras/DL_A1/sweeps/zbxy6yvx' target=\"_blank\">https://wandb.ai/cs24m037-iit-madras/DL_A1/sweeps/zbxy6yvx</a>"
      ],
      "text/plain": [
       "<IPython.core.display.HTML object>"
      ]
     },
     "metadata": {},
     "output_type": "display_data"
    },
    {
     "data": {
      "text/html": [
       " View project at <a href='https://wandb.ai/cs24m037-iit-madras/DL_A1' target=\"_blank\">https://wandb.ai/cs24m037-iit-madras/DL_A1</a>"
      ],
      "text/plain": [
       "<IPython.core.display.HTML object>"
      ]
     },
     "metadata": {},
     "output_type": "display_data"
    },
    {
     "data": {
      "text/html": [
       " View sweep at <a href='https://wandb.ai/cs24m037-iit-madras/DL_A1/sweeps/zbxy6yvx' target=\"_blank\">https://wandb.ai/cs24m037-iit-madras/DL_A1/sweeps/zbxy6yvx</a>"
      ],
      "text/plain": [
       "<IPython.core.display.HTML object>"
      ]
     },
     "metadata": {},
     "output_type": "display_data"
    },
    {
     "data": {
      "text/html": [
       " View run at <a href='https://wandb.ai/cs24m037-iit-madras/DL_A1/runs/fuy6bog6' target=\"_blank\">https://wandb.ai/cs24m037-iit-madras/DL_A1/runs/fuy6bog6</a>"
      ],
      "text/plain": [
       "<IPython.core.display.HTML object>"
      ]
     },
     "metadata": {},
     "output_type": "display_data"
    },
    {
     "name": "stdout",
     "output_type": "stream",
     "text": [
      "lr_0.0001_ac_relu_in_random_uniform_op_nadam_bs_16_L2_0.5_ep_10_nn_32_nh_3\n",
      "Epoch 1: Training Loss = 0.4500, Validation Loss = 0.4500, Training Acc = 0.1001, Validation Acc = 0.0995\n",
      "Epoch 2: Training Loss = 0.4500, Validation Loss = 0.4500, Training Acc = 0.1001, Validation Acc = 0.0995\n",
      "Epoch 3: Training Loss = 0.4500, Validation Loss = 0.4500, Training Acc = 0.1001, Validation Acc = 0.0995\n",
      "Epoch 4: Training Loss = 0.4500, Validation Loss = 0.4500, Training Acc = 0.1001, Validation Acc = 0.0995\n",
      "Epoch 5: Training Loss = 0.4500, Validation Loss = 0.4500, Training Acc = 0.1001, Validation Acc = 0.0995\n",
      "Epoch 6: Training Loss = 0.4500, Validation Loss = 0.4500, Training Acc = 0.1001, Validation Acc = 0.0995\n",
      "Epoch 7: Training Loss = 0.4500, Validation Loss = 0.4500, Training Acc = 0.1001, Validation Acc = 0.0995\n",
      "Epoch 8: Training Loss = 0.4500, Validation Loss = 0.4500, Training Acc = 0.1001, Validation Acc = 0.0995\n",
      "Epoch 9: Training Loss = 0.4500, Validation Loss = 0.4500, Training Acc = 0.1001, Validation Acc = 0.0995\n",
      "Epoch 10: Training Loss = 0.4500, Validation Loss = 0.4500, Training Acc = 0.1001, Validation Acc = 0.0995\n"
     ]
    },
    {
     "name": "stderr",
     "output_type": "stream",
     "text": [
      "wandb: WARNING Calling wandb.run.save without any arguments is deprecated.Changes to attributes are automatically persisted.\n"
     ]
    },
    {
     "data": {
      "text/html": [],
      "text/plain": [
       "<IPython.core.display.HTML object>"
      ]
     },
     "metadata": {},
     "output_type": "display_data"
    },
    {
     "data": {
      "text/html": [
       "<br>    <style><br>        .wandb-row {<br>            display: flex;<br>            flex-direction: row;<br>            flex-wrap: wrap;<br>            justify-content: flex-start;<br>            width: 100%;<br>        }<br>        .wandb-col {<br>            display: flex;<br>            flex-direction: column;<br>            flex-basis: 100%;<br>            flex: 1;<br>            padding: 10px;<br>        }<br>    </style><br><div class=\"wandb-row\"><div class=\"wandb-col\"><h3>Run history:</h3><br/><table class=\"wandb\"><tr><td>epoch</td><td>▁▂▃▃▄▅▆▆▇█</td></tr><tr><td>training_accuracy</td><td>▁▁▁▁▁▁▁▁▁▁</td></tr><tr><td>training_loss</td><td>▁▁▁▁▁▁▁▁▁▁</td></tr><tr><td>validation_accuracy</td><td>▁▁▁▁▁▁▁▁▁▁</td></tr><tr><td>validation_loss</td><td>▁▁▁▁▁▁▁▁▁▁</td></tr></table><br/></div><div class=\"wandb-col\"><h3>Run summary:</h3><br/><table class=\"wandb\"><tr><td>epoch</td><td>10</td></tr><tr><td>training_accuracy</td><td>0.10006</td></tr><tr><td>training_loss</td><td>0.45</td></tr><tr><td>validation_accuracy</td><td>0.0995</td></tr><tr><td>validation_loss</td><td>0.45</td></tr></table><br/></div></div>"
      ],
      "text/plain": [
       "<IPython.core.display.HTML object>"
      ]
     },
     "metadata": {},
     "output_type": "display_data"
    },
    {
     "data": {
      "text/html": [
       " View run <strong style=\"color:#cdcd00\">lr_0.0001_ac_relu_in_random_uniform_op_nadam_bs_16_L2_0.5_ep_10_nn_32_nh_3</strong> at: <a href='https://wandb.ai/cs24m037-iit-madras/DL_A1/runs/fuy6bog6' target=\"_blank\">https://wandb.ai/cs24m037-iit-madras/DL_A1/runs/fuy6bog6</a><br> View project at: <a href='https://wandb.ai/cs24m037-iit-madras/DL_A1' target=\"_blank\">https://wandb.ai/cs24m037-iit-madras/DL_A1</a><br>Synced 5 W&B file(s), 0 media file(s), 0 artifact file(s) and 0 other file(s)"
      ],
      "text/plain": [
       "<IPython.core.display.HTML object>"
      ]
     },
     "metadata": {},
     "output_type": "display_data"
    },
    {
     "data": {
      "text/html": [
       "Find logs at: <code>.\\wandb\\run-20250308_093514-fuy6bog6\\logs</code>"
      ],
      "text/plain": [
       "<IPython.core.display.HTML object>"
      ]
     },
     "metadata": {},
     "output_type": "display_data"
    },
    {
     "name": "stderr",
     "output_type": "stream",
     "text": [
      "wandb: Agent Starting Run: 4nadmrns with config:\n",
      "wandb: \tL2_lamb: 0\n",
      "wandb: \tactivation_f: sigmoid\n",
      "wandb: \tbatch_size: 64\n",
      "wandb: \tepochs: 10\n",
      "wandb: \tinit_mode: random_uniform\n",
      "wandb: \tlearning_rate: 0.001\n",
      "wandb: \tnum_hidden: 3\n",
      "wandb: \tnum_neurons: 128\n",
      "wandb: \toptimizer: rmsprop\n"
     ]
    },
    {
     "data": {
      "text/html": [
       "Tracking run with wandb version 0.19.7"
      ],
      "text/plain": [
       "<IPython.core.display.HTML object>"
      ]
     },
     "metadata": {},
     "output_type": "display_data"
    },
    {
     "data": {
      "text/html": [
       "Run data is saved locally in <code>c:\\Users\\RAMKUMAR\\Desktop\\iitm\\sem2\\DL\\wandb\\run-20250308_093535-4nadmrns</code>"
      ],
      "text/plain": [
       "<IPython.core.display.HTML object>"
      ]
     },
     "metadata": {},
     "output_type": "display_data"
    },
    {
     "data": {
      "text/html": [
       "Syncing run <strong><a href='https://wandb.ai/cs24m037-iit-madras/DL_A1/runs/4nadmrns' target=\"_blank\">efficient-sweep-2</a></strong> to <a href='https://wandb.ai/cs24m037-iit-madras/DL_A1' target=\"_blank\">Weights & Biases</a> (<a href='https://wandb.me/developer-guide' target=\"_blank\">docs</a>)<br>Sweep page: <a href='https://wandb.ai/cs24m037-iit-madras/DL_A1/sweeps/zbxy6yvx' target=\"_blank\">https://wandb.ai/cs24m037-iit-madras/DL_A1/sweeps/zbxy6yvx</a>"
      ],
      "text/plain": [
       "<IPython.core.display.HTML object>"
      ]
     },
     "metadata": {},
     "output_type": "display_data"
    },
    {
     "data": {
      "text/html": [
       " View project at <a href='https://wandb.ai/cs24m037-iit-madras/DL_A1' target=\"_blank\">https://wandb.ai/cs24m037-iit-madras/DL_A1</a>"
      ],
      "text/plain": [
       "<IPython.core.display.HTML object>"
      ]
     },
     "metadata": {},
     "output_type": "display_data"
    },
    {
     "data": {
      "text/html": [
       " View sweep at <a href='https://wandb.ai/cs24m037-iit-madras/DL_A1/sweeps/zbxy6yvx' target=\"_blank\">https://wandb.ai/cs24m037-iit-madras/DL_A1/sweeps/zbxy6yvx</a>"
      ],
      "text/plain": [
       "<IPython.core.display.HTML object>"
      ]
     },
     "metadata": {},
     "output_type": "display_data"
    },
    {
     "data": {
      "text/html": [
       " View run at <a href='https://wandb.ai/cs24m037-iit-madras/DL_A1/runs/4nadmrns' target=\"_blank\">https://wandb.ai/cs24m037-iit-madras/DL_A1/runs/4nadmrns</a>"
      ],
      "text/plain": [
       "<IPython.core.display.HTML object>"
      ]
     },
     "metadata": {},
     "output_type": "display_data"
    },
    {
     "name": "stdout",
     "output_type": "stream",
     "text": [
      "lr_0.001_ac_sigmoid_in_random_uniform_op_rmsprop_bs_64_L2_0_ep_10_nn_128_nh_3\n",
      "Epoch 1: Training Loss = 0.2344, Validation Loss = 0.2357, Training Acc = 0.6599, Validation Acc = 0.6552\n",
      "Epoch 2: Training Loss = 0.1473, Validation Loss = 0.1506, Training Acc = 0.7888, Validation Acc = 0.7803\n",
      "Epoch 3: Training Loss = 0.1283, Validation Loss = 0.1323, Training Acc = 0.8159, Validation Acc = 0.8112\n",
      "Epoch 4: Training Loss = 0.1185, Validation Loss = 0.1232, Training Acc = 0.8314, Validation Acc = 0.8263\n",
      "Epoch 5: Training Loss = 0.1075, Validation Loss = 0.1127, Training Acc = 0.8478, Validation Acc = 0.8428\n",
      "Epoch 6: Training Loss = 0.0999, Validation Loss = 0.1054, Training Acc = 0.8585, Validation Acc = 0.8545\n",
      "Epoch 7: Training Loss = 0.0948, Validation Loss = 0.1006, Training Acc = 0.8668, Validation Acc = 0.8583\n",
      "Epoch 8: Training Loss = 0.0915, Validation Loss = 0.0981, Training Acc = 0.8712, Validation Acc = 0.8598\n",
      "Epoch 9: Training Loss = 0.0882, Validation Loss = 0.0961, Training Acc = 0.8760, Validation Acc = 0.8665\n",
      "Epoch 10: Training Loss = 0.0857, Validation Loss = 0.0945, Training Acc = 0.8800, Validation Acc = 0.8670\n"
     ]
    },
    {
     "data": {
      "text/html": [],
      "text/plain": [
       "<IPython.core.display.HTML object>"
      ]
     },
     "metadata": {},
     "output_type": "display_data"
    },
    {
     "data": {
      "text/html": [
       "<br>    <style><br>        .wandb-row {<br>            display: flex;<br>            flex-direction: row;<br>            flex-wrap: wrap;<br>            justify-content: flex-start;<br>            width: 100%;<br>        }<br>        .wandb-col {<br>            display: flex;<br>            flex-direction: column;<br>            flex-basis: 100%;<br>            flex: 1;<br>            padding: 10px;<br>        }<br>    </style><br><div class=\"wandb-row\"><div class=\"wandb-col\"><h3>Run history:</h3><br/><table class=\"wandb\"><tr><td>epoch</td><td>▁▂▃▃▄▅▆▆▇█</td></tr><tr><td>training_accuracy</td><td>▁▅▆▆▇▇████</td></tr><tr><td>training_loss</td><td>█▄▃▃▂▂▁▁▁▁</td></tr><tr><td>validation_accuracy</td><td>▁▅▆▇▇█████</td></tr><tr><td>validation_loss</td><td>█▄▃▂▂▂▁▁▁▁</td></tr></table><br/></div><div class=\"wandb-col\"><h3>Run summary:</h3><br/><table class=\"wandb\"><tr><td>epoch</td><td>10</td></tr><tr><td>training_accuracy</td><td>0.87998</td></tr><tr><td>training_loss</td><td>0.08574</td></tr><tr><td>validation_accuracy</td><td>0.867</td></tr><tr><td>validation_loss</td><td>0.09451</td></tr></table><br/></div></div>"
      ],
      "text/plain": [
       "<IPython.core.display.HTML object>"
      ]
     },
     "metadata": {},
     "output_type": "display_data"
    },
    {
     "data": {
      "text/html": [
       " View run <strong style=\"color:#cdcd00\">lr_0.001_ac_sigmoid_in_random_uniform_op_rmsprop_bs_64_L2_0_ep_10_nn_128_nh_3</strong> at: <a href='https://wandb.ai/cs24m037-iit-madras/DL_A1/runs/4nadmrns' target=\"_blank\">https://wandb.ai/cs24m037-iit-madras/DL_A1/runs/4nadmrns</a><br> View project at: <a href='https://wandb.ai/cs24m037-iit-madras/DL_A1' target=\"_blank\">https://wandb.ai/cs24m037-iit-madras/DL_A1</a><br>Synced 5 W&B file(s), 0 media file(s), 0 artifact file(s) and 0 other file(s)"
      ],
      "text/plain": [
       "<IPython.core.display.HTML object>"
      ]
     },
     "metadata": {},
     "output_type": "display_data"
    },
    {
     "data": {
      "text/html": [
       "Find logs at: <code>.\\wandb\\run-20250308_093535-4nadmrns\\logs</code>"
      ],
      "text/plain": [
       "<IPython.core.display.HTML object>"
      ]
     },
     "metadata": {},
     "output_type": "display_data"
    },
    {
     "name": "stderr",
     "output_type": "stream",
     "text": [
      "wandb: Agent Starting Run: etk05ly5 with config:\n",
      "wandb: \tL2_lamb: 0.5\n",
      "wandb: \tactivation_f: tanh\n",
      "wandb: \tbatch_size: 64\n",
      "wandb: \tepochs: 5\n",
      "wandb: \tinit_mode: random_uniform\n",
      "wandb: \tlearning_rate: 0.0001\n",
      "wandb: \tnum_hidden: 5\n",
      "wandb: \tnum_neurons: 64\n",
      "wandb: \toptimizer: nadam\n"
     ]
    },
    {
     "data": {
      "text/html": [
       "Tracking run with wandb version 0.19.7"
      ],
      "text/plain": [
       "<IPython.core.display.HTML object>"
      ]
     },
     "metadata": {},
     "output_type": "display_data"
    },
    {
     "data": {
      "text/html": [
       "Run data is saved locally in <code>c:\\Users\\RAMKUMAR\\Desktop\\iitm\\sem2\\DL\\wandb\\run-20250308_093612-etk05ly5</code>"
      ],
      "text/plain": [
       "<IPython.core.display.HTML object>"
      ]
     },
     "metadata": {},
     "output_type": "display_data"
    },
    {
     "data": {
      "text/html": [
       "Syncing run <strong><a href='https://wandb.ai/cs24m037-iit-madras/DL_A1/runs/etk05ly5' target=\"_blank\">splendid-sweep-3</a></strong> to <a href='https://wandb.ai/cs24m037-iit-madras/DL_A1' target=\"_blank\">Weights & Biases</a> (<a href='https://wandb.me/developer-guide' target=\"_blank\">docs</a>)<br>Sweep page: <a href='https://wandb.ai/cs24m037-iit-madras/DL_A1/sweeps/zbxy6yvx' target=\"_blank\">https://wandb.ai/cs24m037-iit-madras/DL_A1/sweeps/zbxy6yvx</a>"
      ],
      "text/plain": [
       "<IPython.core.display.HTML object>"
      ]
     },
     "metadata": {},
     "output_type": "display_data"
    },
    {
     "data": {
      "text/html": [
       " View project at <a href='https://wandb.ai/cs24m037-iit-madras/DL_A1' target=\"_blank\">https://wandb.ai/cs24m037-iit-madras/DL_A1</a>"
      ],
      "text/plain": [
       "<IPython.core.display.HTML object>"
      ]
     },
     "metadata": {},
     "output_type": "display_data"
    },
    {
     "data": {
      "text/html": [
       " View sweep at <a href='https://wandb.ai/cs24m037-iit-madras/DL_A1/sweeps/zbxy6yvx' target=\"_blank\">https://wandb.ai/cs24m037-iit-madras/DL_A1/sweeps/zbxy6yvx</a>"
      ],
      "text/plain": [
       "<IPython.core.display.HTML object>"
      ]
     },
     "metadata": {},
     "output_type": "display_data"
    },
    {
     "data": {
      "text/html": [
       " View run at <a href='https://wandb.ai/cs24m037-iit-madras/DL_A1/runs/etk05ly5' target=\"_blank\">https://wandb.ai/cs24m037-iit-madras/DL_A1/runs/etk05ly5</a>"
      ],
      "text/plain": [
       "<IPython.core.display.HTML object>"
      ]
     },
     "metadata": {},
     "output_type": "display_data"
    },
    {
     "name": "stdout",
     "output_type": "stream",
     "text": [
      "lr_0.0001_ac_tanh_in_random_uniform_op_nadam_bs_64_L2_0.5_ep_5_nn_64_nh_5\n",
      "Epoch 1: Training Loss = 0.4500, Validation Loss = 0.4500, Training Acc = 0.1001, Validation Acc = 0.0995\n",
      "Epoch 2: Training Loss = 0.4500, Validation Loss = 0.4500, Training Acc = 0.1001, Validation Acc = 0.0995\n",
      "Epoch 3: Training Loss = 0.4500, Validation Loss = 0.4500, Training Acc = 0.1001, Validation Acc = 0.0995\n",
      "Epoch 4: Training Loss = 0.4500, Validation Loss = 0.4500, Training Acc = 0.1001, Validation Acc = 0.0995\n",
      "Epoch 5: Training Loss = 0.4500, Validation Loss = 0.4500, Training Acc = 0.1001, Validation Acc = 0.0995\n"
     ]
    },
    {
     "data": {
      "text/html": [],
      "text/plain": [
       "<IPython.core.display.HTML object>"
      ]
     },
     "metadata": {},
     "output_type": "display_data"
    },
    {
     "data": {
      "text/html": [
       "<br>    <style><br>        .wandb-row {<br>            display: flex;<br>            flex-direction: row;<br>            flex-wrap: wrap;<br>            justify-content: flex-start;<br>            width: 100%;<br>        }<br>        .wandb-col {<br>            display: flex;<br>            flex-direction: column;<br>            flex-basis: 100%;<br>            flex: 1;<br>            padding: 10px;<br>        }<br>    </style><br><div class=\"wandb-row\"><div class=\"wandb-col\"><h3>Run history:</h3><br/><table class=\"wandb\"><tr><td>epoch</td><td>▁▃▅▆█</td></tr><tr><td>training_accuracy</td><td>▁▁▁▁▁</td></tr><tr><td>training_loss</td><td>▁▁▁▁▁</td></tr><tr><td>validation_accuracy</td><td>▁▁▁▁▁</td></tr><tr><td>validation_loss</td><td>▁▁▁▁▁</td></tr></table><br/></div><div class=\"wandb-col\"><h3>Run summary:</h3><br/><table class=\"wandb\"><tr><td>epoch</td><td>5</td></tr><tr><td>training_accuracy</td><td>0.10006</td></tr><tr><td>training_loss</td><td>0.45</td></tr><tr><td>validation_accuracy</td><td>0.0995</td></tr><tr><td>validation_loss</td><td>0.45</td></tr></table><br/></div></div>"
      ],
      "text/plain": [
       "<IPython.core.display.HTML object>"
      ]
     },
     "metadata": {},
     "output_type": "display_data"
    },
    {
     "data": {
      "text/html": [
       " View run <strong style=\"color:#cdcd00\">lr_0.0001_ac_tanh_in_random_uniform_op_nadam_bs_64_L2_0.5_ep_5_nn_64_nh_5</strong> at: <a href='https://wandb.ai/cs24m037-iit-madras/DL_A1/runs/etk05ly5' target=\"_blank\">https://wandb.ai/cs24m037-iit-madras/DL_A1/runs/etk05ly5</a><br> View project at: <a href='https://wandb.ai/cs24m037-iit-madras/DL_A1' target=\"_blank\">https://wandb.ai/cs24m037-iit-madras/DL_A1</a><br>Synced 5 W&B file(s), 0 media file(s), 0 artifact file(s) and 0 other file(s)"
      ],
      "text/plain": [
       "<IPython.core.display.HTML object>"
      ]
     },
     "metadata": {},
     "output_type": "display_data"
    },
    {
     "data": {
      "text/html": [
       "Find logs at: <code>.\\wandb\\run-20250308_093612-etk05ly5\\logs</code>"
      ],
      "text/plain": [
       "<IPython.core.display.HTML object>"
      ]
     },
     "metadata": {},
     "output_type": "display_data"
    },
    {
     "name": "stderr",
     "output_type": "stream",
     "text": [
      "wandb: Agent Starting Run: gb4y0m11 with config:\n",
      "wandb: \tL2_lamb: 0\n",
      "wandb: \tactivation_f: relu\n",
      "wandb: \tbatch_size: 64\n",
      "wandb: \tepochs: 5\n",
      "wandb: \tinit_mode: random_uniform\n",
      "wandb: \tlearning_rate: 0.0001\n",
      "wandb: \tnum_hidden: 5\n",
      "wandb: \tnum_neurons: 64\n",
      "wandb: \toptimizer: rmsprop\n"
     ]
    },
    {
     "data": {
      "text/html": [
       "Tracking run with wandb version 0.19.7"
      ],
      "text/plain": [
       "<IPython.core.display.HTML object>"
      ]
     },
     "metadata": {},
     "output_type": "display_data"
    },
    {
     "data": {
      "text/html": [
       "Run data is saved locally in <code>c:\\Users\\RAMKUMAR\\Desktop\\iitm\\sem2\\DL\\wandb\\run-20250308_093628-gb4y0m11</code>"
      ],
      "text/plain": [
       "<IPython.core.display.HTML object>"
      ]
     },
     "metadata": {},
     "output_type": "display_data"
    },
    {
     "data": {
      "text/html": [
       "Syncing run <strong><a href='https://wandb.ai/cs24m037-iit-madras/DL_A1/runs/gb4y0m11' target=\"_blank\">tough-sweep-4</a></strong> to <a href='https://wandb.ai/cs24m037-iit-madras/DL_A1' target=\"_blank\">Weights & Biases</a> (<a href='https://wandb.me/developer-guide' target=\"_blank\">docs</a>)<br>Sweep page: <a href='https://wandb.ai/cs24m037-iit-madras/DL_A1/sweeps/zbxy6yvx' target=\"_blank\">https://wandb.ai/cs24m037-iit-madras/DL_A1/sweeps/zbxy6yvx</a>"
      ],
      "text/plain": [
       "<IPython.core.display.HTML object>"
      ]
     },
     "metadata": {},
     "output_type": "display_data"
    },
    {
     "data": {
      "text/html": [
       " View project at <a href='https://wandb.ai/cs24m037-iit-madras/DL_A1' target=\"_blank\">https://wandb.ai/cs24m037-iit-madras/DL_A1</a>"
      ],
      "text/plain": [
       "<IPython.core.display.HTML object>"
      ]
     },
     "metadata": {},
     "output_type": "display_data"
    },
    {
     "data": {
      "text/html": [
       " View sweep at <a href='https://wandb.ai/cs24m037-iit-madras/DL_A1/sweeps/zbxy6yvx' target=\"_blank\">https://wandb.ai/cs24m037-iit-madras/DL_A1/sweeps/zbxy6yvx</a>"
      ],
      "text/plain": [
       "<IPython.core.display.HTML object>"
      ]
     },
     "metadata": {},
     "output_type": "display_data"
    },
    {
     "data": {
      "text/html": [
       " View run at <a href='https://wandb.ai/cs24m037-iit-madras/DL_A1/runs/gb4y0m11' target=\"_blank\">https://wandb.ai/cs24m037-iit-madras/DL_A1/runs/gb4y0m11</a>"
      ],
      "text/plain": [
       "<IPython.core.display.HTML object>"
      ]
     },
     "metadata": {},
     "output_type": "display_data"
    },
    {
     "name": "stdout",
     "output_type": "stream",
     "text": [
      "lr_0.0001_ac_relu_in_random_uniform_op_rmsprop_bs_64_L2_0_ep_5_nn_64_nh_5\n",
      "Epoch 1: Training Loss = 0.4168, Validation Loss = 0.4164, Training Acc = 0.2423, Validation Acc = 0.2340\n",
      "Epoch 2: Training Loss = 0.4253, Validation Loss = 0.4256, Training Acc = 0.3046, Validation Acc = 0.3008\n",
      "Epoch 3: Training Loss = 0.4274, Validation Loss = 0.4279, Training Acc = 0.2351, Validation Acc = 0.2265\n",
      "Epoch 4: Training Loss = 0.4078, Validation Loss = 0.4064, Training Acc = 0.2018, Validation Acc = 0.1953\n",
      "Epoch 5: Training Loss = 0.3994, Validation Loss = 0.3977, Training Acc = 0.2899, Validation Acc = 0.2842\n"
     ]
    },
    {
     "data": {
      "text/html": [],
      "text/plain": [
       "<IPython.core.display.HTML object>"
      ]
     },
     "metadata": {},
     "output_type": "display_data"
    },
    {
     "data": {
      "text/html": [
       "<br>    <style><br>        .wandb-row {<br>            display: flex;<br>            flex-direction: row;<br>            flex-wrap: wrap;<br>            justify-content: flex-start;<br>            width: 100%;<br>        }<br>        .wandb-col {<br>            display: flex;<br>            flex-direction: column;<br>            flex-basis: 100%;<br>            flex: 1;<br>            padding: 10px;<br>        }<br>    </style><br><div class=\"wandb-row\"><div class=\"wandb-col\"><h3>Run history:</h3><br/><table class=\"wandb\"><tr><td>epoch</td><td>▁▃▅▆█</td></tr><tr><td>training_accuracy</td><td>▄█▃▁▇</td></tr><tr><td>training_loss</td><td>▅▇█▃▁</td></tr><tr><td>validation_accuracy</td><td>▄█▃▁▇</td></tr><tr><td>validation_loss</td><td>▅▇█▃▁</td></tr></table><br/></div><div class=\"wandb-col\"><h3>Run summary:</h3><br/><table class=\"wandb\"><tr><td>epoch</td><td>5</td></tr><tr><td>training_accuracy</td><td>0.28993</td></tr><tr><td>training_loss</td><td>0.39939</td></tr><tr><td>validation_accuracy</td><td>0.28417</td></tr><tr><td>validation_loss</td><td>0.39771</td></tr></table><br/></div></div>"
      ],
      "text/plain": [
       "<IPython.core.display.HTML object>"
      ]
     },
     "metadata": {},
     "output_type": "display_data"
    },
    {
     "data": {
      "text/html": [
       " View run <strong style=\"color:#cdcd00\">lr_0.0001_ac_relu_in_random_uniform_op_rmsprop_bs_64_L2_0_ep_5_nn_64_nh_5</strong> at: <a href='https://wandb.ai/cs24m037-iit-madras/DL_A1/runs/gb4y0m11' target=\"_blank\">https://wandb.ai/cs24m037-iit-madras/DL_A1/runs/gb4y0m11</a><br> View project at: <a href='https://wandb.ai/cs24m037-iit-madras/DL_A1' target=\"_blank\">https://wandb.ai/cs24m037-iit-madras/DL_A1</a><br>Synced 5 W&B file(s), 0 media file(s), 0 artifact file(s) and 0 other file(s)"
      ],
      "text/plain": [
       "<IPython.core.display.HTML object>"
      ]
     },
     "metadata": {},
     "output_type": "display_data"
    },
    {
     "data": {
      "text/html": [
       "Find logs at: <code>.\\wandb\\run-20250308_093628-gb4y0m11\\logs</code>"
      ],
      "text/plain": [
       "<IPython.core.display.HTML object>"
      ]
     },
     "metadata": {},
     "output_type": "display_data"
    },
    {
     "name": "stderr",
     "output_type": "stream",
     "text": [
      "wandb: Agent Starting Run: q6257rj8 with config:\n",
      "wandb: \tL2_lamb: 0\n",
      "wandb: \tactivation_f: tanh\n",
      "wandb: \tbatch_size: 32\n",
      "wandb: \tepochs: 10\n",
      "wandb: \tinit_mode: xavier\n",
      "wandb: \tlearning_rate: 0.001\n",
      "wandb: \tnum_hidden: 4\n",
      "wandb: \tnum_neurons: 64\n",
      "wandb: \toptimizer: momentum\n"
     ]
    },
    {
     "data": {
      "text/html": [
       "Tracking run with wandb version 0.19.7"
      ],
      "text/plain": [
       "<IPython.core.display.HTML object>"
      ]
     },
     "metadata": {},
     "output_type": "display_data"
    },
    {
     "data": {
      "text/html": [
       "Run data is saved locally in <code>c:\\Users\\RAMKUMAR\\Desktop\\iitm\\sem2\\DL\\wandb\\run-20250308_093644-q6257rj8</code>"
      ],
      "text/plain": [
       "<IPython.core.display.HTML object>"
      ]
     },
     "metadata": {},
     "output_type": "display_data"
    },
    {
     "data": {
      "text/html": [
       "Syncing run <strong><a href='https://wandb.ai/cs24m037-iit-madras/DL_A1/runs/q6257rj8' target=\"_blank\">pious-sweep-5</a></strong> to <a href='https://wandb.ai/cs24m037-iit-madras/DL_A1' target=\"_blank\">Weights & Biases</a> (<a href='https://wandb.me/developer-guide' target=\"_blank\">docs</a>)<br>Sweep page: <a href='https://wandb.ai/cs24m037-iit-madras/DL_A1/sweeps/zbxy6yvx' target=\"_blank\">https://wandb.ai/cs24m037-iit-madras/DL_A1/sweeps/zbxy6yvx</a>"
      ],
      "text/plain": [
       "<IPython.core.display.HTML object>"
      ]
     },
     "metadata": {},
     "output_type": "display_data"
    },
    {
     "data": {
      "text/html": [
       " View project at <a href='https://wandb.ai/cs24m037-iit-madras/DL_A1' target=\"_blank\">https://wandb.ai/cs24m037-iit-madras/DL_A1</a>"
      ],
      "text/plain": [
       "<IPython.core.display.HTML object>"
      ]
     },
     "metadata": {},
     "output_type": "display_data"
    },
    {
     "data": {
      "text/html": [
       " View sweep at <a href='https://wandb.ai/cs24m037-iit-madras/DL_A1/sweeps/zbxy6yvx' target=\"_blank\">https://wandb.ai/cs24m037-iit-madras/DL_A1/sweeps/zbxy6yvx</a>"
      ],
      "text/plain": [
       "<IPython.core.display.HTML object>"
      ]
     },
     "metadata": {},
     "output_type": "display_data"
    },
    {
     "data": {
      "text/html": [
       " View run at <a href='https://wandb.ai/cs24m037-iit-madras/DL_A1/runs/q6257rj8' target=\"_blank\">https://wandb.ai/cs24m037-iit-madras/DL_A1/runs/q6257rj8</a>"
      ],
      "text/plain": [
       "<IPython.core.display.HTML object>"
      ]
     },
     "metadata": {},
     "output_type": "display_data"
    },
    {
     "name": "stdout",
     "output_type": "stream",
     "text": [
      "lr_0.001_ac_tanh_in_xavier_op_momentum_bs_32_L2_0_ep_10_nn_64_nh_4\n",
      "Epoch 1: Training Loss = 0.4117, Validation Loss = 0.4126, Training Acc = 0.4209, Validation Acc = 0.4102\n",
      "Epoch 2: Training Loss = 0.3729, Validation Loss = 0.3749, Training Acc = 0.5609, Validation Acc = 0.5513\n",
      "Epoch 3: Training Loss = 0.3370, Validation Loss = 0.3398, Training Acc = 0.5821, Validation Acc = 0.5742\n",
      "Epoch 4: Training Loss = 0.3061, Validation Loss = 0.3093, Training Acc = 0.6022, Validation Acc = 0.5952\n",
      "Epoch 5: Training Loss = 0.2807, Validation Loss = 0.2842, Training Acc = 0.6317, Validation Acc = 0.6223\n",
      "Epoch 6: Training Loss = 0.2604, Validation Loss = 0.2639, Training Acc = 0.6615, Validation Acc = 0.6543\n",
      "Epoch 7: Training Loss = 0.2441, Validation Loss = 0.2476, Training Acc = 0.6860, Validation Acc = 0.6803\n",
      "Epoch 8: Training Loss = 0.2310, Validation Loss = 0.2344, Training Acc = 0.7036, Validation Acc = 0.6973\n",
      "Epoch 9: Training Loss = 0.2204, Validation Loss = 0.2236, Training Acc = 0.7161, Validation Acc = 0.7097\n",
      "Epoch 10: Training Loss = 0.2115, Validation Loss = 0.2147, Training Acc = 0.7256, Validation Acc = 0.7185\n"
     ]
    },
    {
     "data": {
      "text/html": [],
      "text/plain": [
       "<IPython.core.display.HTML object>"
      ]
     },
     "metadata": {},
     "output_type": "display_data"
    },
    {
     "data": {
      "text/html": [
       "<br>    <style><br>        .wandb-row {<br>            display: flex;<br>            flex-direction: row;<br>            flex-wrap: wrap;<br>            justify-content: flex-start;<br>            width: 100%;<br>        }<br>        .wandb-col {<br>            display: flex;<br>            flex-direction: column;<br>            flex-basis: 100%;<br>            flex: 1;<br>            padding: 10px;<br>        }<br>    </style><br><div class=\"wandb-row\"><div class=\"wandb-col\"><h3>Run history:</h3><br/><table class=\"wandb\"><tr><td>epoch</td><td>▁▂▃▃▄▅▆▆▇█</td></tr><tr><td>training_accuracy</td><td>▁▄▅▅▆▇▇▇██</td></tr><tr><td>training_loss</td><td>█▇▅▄▃▃▂▂▁▁</td></tr><tr><td>validation_accuracy</td><td>▁▄▅▅▆▇▇███</td></tr><tr><td>validation_loss</td><td>█▇▅▄▃▃▂▂▁▁</td></tr></table><br/></div><div class=\"wandb-col\"><h3>Run summary:</h3><br/><table class=\"wandb\"><tr><td>epoch</td><td>10</td></tr><tr><td>training_accuracy</td><td>0.72557</td></tr><tr><td>training_loss</td><td>0.21149</td></tr><tr><td>validation_accuracy</td><td>0.7185</td></tr><tr><td>validation_loss</td><td>0.21468</td></tr></table><br/></div></div>"
      ],
      "text/plain": [
       "<IPython.core.display.HTML object>"
      ]
     },
     "metadata": {},
     "output_type": "display_data"
    },
    {
     "data": {
      "text/html": [
       " View run <strong style=\"color:#cdcd00\">lr_0.001_ac_tanh_in_xavier_op_momentum_bs_32_L2_0_ep_10_nn_64_nh_4</strong> at: <a href='https://wandb.ai/cs24m037-iit-madras/DL_A1/runs/q6257rj8' target=\"_blank\">https://wandb.ai/cs24m037-iit-madras/DL_A1/runs/q6257rj8</a><br> View project at: <a href='https://wandb.ai/cs24m037-iit-madras/DL_A1' target=\"_blank\">https://wandb.ai/cs24m037-iit-madras/DL_A1</a><br>Synced 5 W&B file(s), 0 media file(s), 0 artifact file(s) and 0 other file(s)"
      ],
      "text/plain": [
       "<IPython.core.display.HTML object>"
      ]
     },
     "metadata": {},
     "output_type": "display_data"
    },
    {
     "data": {
      "text/html": [
       "Find logs at: <code>.\\wandb\\run-20250308_093644-q6257rj8\\logs</code>"
      ],
      "text/plain": [
       "<IPython.core.display.HTML object>"
      ]
     },
     "metadata": {},
     "output_type": "display_data"
    },
    {
     "name": "stderr",
     "output_type": "stream",
     "text": [
      "wandb: Agent Starting Run: y0aeiq4f with config:\n",
      "wandb: \tL2_lamb: 0.5\n",
      "wandb: \tactivation_f: relu\n",
      "wandb: \tbatch_size: 16\n",
      "wandb: \tepochs: 10\n",
      "wandb: \tinit_mode: xavier\n",
      "wandb: \tlearning_rate: 0.0001\n",
      "wandb: \tnum_hidden: 5\n",
      "wandb: \tnum_neurons: 32\n",
      "wandb: \toptimizer: nadam\n"
     ]
    },
    {
     "data": {
      "text/html": [
       "Tracking run with wandb version 0.19.7"
      ],
      "text/plain": [
       "<IPython.core.display.HTML object>"
      ]
     },
     "metadata": {},
     "output_type": "display_data"
    },
    {
     "data": {
      "text/html": [
       "Run data is saved locally in <code>c:\\Users\\RAMKUMAR\\Desktop\\iitm\\sem2\\DL\\wandb\\run-20250308_093705-y0aeiq4f</code>"
      ],
      "text/plain": [
       "<IPython.core.display.HTML object>"
      ]
     },
     "metadata": {},
     "output_type": "display_data"
    },
    {
     "data": {
      "text/html": [
       "Syncing run <strong><a href='https://wandb.ai/cs24m037-iit-madras/DL_A1/runs/y0aeiq4f' target=\"_blank\">expert-sweep-6</a></strong> to <a href='https://wandb.ai/cs24m037-iit-madras/DL_A1' target=\"_blank\">Weights & Biases</a> (<a href='https://wandb.me/developer-guide' target=\"_blank\">docs</a>)<br>Sweep page: <a href='https://wandb.ai/cs24m037-iit-madras/DL_A1/sweeps/zbxy6yvx' target=\"_blank\">https://wandb.ai/cs24m037-iit-madras/DL_A1/sweeps/zbxy6yvx</a>"
      ],
      "text/plain": [
       "<IPython.core.display.HTML object>"
      ]
     },
     "metadata": {},
     "output_type": "display_data"
    },
    {
     "data": {
      "text/html": [
       " View project at <a href='https://wandb.ai/cs24m037-iit-madras/DL_A1' target=\"_blank\">https://wandb.ai/cs24m037-iit-madras/DL_A1</a>"
      ],
      "text/plain": [
       "<IPython.core.display.HTML object>"
      ]
     },
     "metadata": {},
     "output_type": "display_data"
    },
    {
     "data": {
      "text/html": [
       " View sweep at <a href='https://wandb.ai/cs24m037-iit-madras/DL_A1/sweeps/zbxy6yvx' target=\"_blank\">https://wandb.ai/cs24m037-iit-madras/DL_A1/sweeps/zbxy6yvx</a>"
      ],
      "text/plain": [
       "<IPython.core.display.HTML object>"
      ]
     },
     "metadata": {},
     "output_type": "display_data"
    },
    {
     "data": {
      "text/html": [
       " View run at <a href='https://wandb.ai/cs24m037-iit-madras/DL_A1/runs/y0aeiq4f' target=\"_blank\">https://wandb.ai/cs24m037-iit-madras/DL_A1/runs/y0aeiq4f</a>"
      ],
      "text/plain": [
       "<IPython.core.display.HTML object>"
      ]
     },
     "metadata": {},
     "output_type": "display_data"
    },
    {
     "name": "stdout",
     "output_type": "stream",
     "text": [
      "lr_0.0001_ac_relu_in_xavier_op_nadam_bs_16_L2_0.5_ep_10_nn_32_nh_5\n",
      "Epoch 1: Training Loss = 0.4500, Validation Loss = 0.4503, Training Acc = 0.1000, Validation Acc = 0.1035\n",
      "Epoch 2: Training Loss = 0.4500, Validation Loss = 0.4500, Training Acc = 0.1001, Validation Acc = 0.0995\n",
      "Epoch 3: Training Loss = 0.4500, Validation Loss = 0.4500, Training Acc = 0.1001, Validation Acc = 0.0995\n",
      "Epoch 4: Training Loss = 0.4500, Validation Loss = 0.4500, Training Acc = 0.1001, Validation Acc = 0.0995\n",
      "Epoch 5: Training Loss = 0.4500, Validation Loss = 0.4500, Training Acc = 0.1001, Validation Acc = 0.0995\n",
      "Epoch 6: Training Loss = 0.4500, Validation Loss = 0.4500, Training Acc = 0.1001, Validation Acc = 0.0995\n",
      "Epoch 7: Training Loss = 0.4500, Validation Loss = 0.4500, Training Acc = 0.1001, Validation Acc = 0.0995\n",
      "Epoch 8: Training Loss = 0.4500, Validation Loss = 0.4500, Training Acc = 0.1001, Validation Acc = 0.0995\n",
      "Epoch 9: Training Loss = 0.4500, Validation Loss = 0.4500, Training Acc = 0.1001, Validation Acc = 0.0995\n",
      "Epoch 10: Training Loss = 0.4500, Validation Loss = 0.4500, Training Acc = 0.1001, Validation Acc = 0.0995\n"
     ]
    },
    {
     "data": {
      "text/html": [],
      "text/plain": [
       "<IPython.core.display.HTML object>"
      ]
     },
     "metadata": {},
     "output_type": "display_data"
    },
    {
     "data": {
      "text/html": [
       "<br>    <style><br>        .wandb-row {<br>            display: flex;<br>            flex-direction: row;<br>            flex-wrap: wrap;<br>            justify-content: flex-start;<br>            width: 100%;<br>        }<br>        .wandb-col {<br>            display: flex;<br>            flex-direction: column;<br>            flex-basis: 100%;<br>            flex: 1;<br>            padding: 10px;<br>        }<br>    </style><br><div class=\"wandb-row\"><div class=\"wandb-col\"><h3>Run history:</h3><br/><table class=\"wandb\"><tr><td>epoch</td><td>▁▂▃▃▄▅▆▆▇█</td></tr><tr><td>training_accuracy</td><td>▁█████████</td></tr><tr><td>training_loss</td><td>█▁▁▁▁▁▁▁▁▁</td></tr><tr><td>validation_accuracy</td><td>█▁▁▁▁▁▁▁▁▁</td></tr><tr><td>validation_loss</td><td>█▁▁▁▁▁▁▁▁▁</td></tr></table><br/></div><div class=\"wandb-col\"><h3>Run summary:</h3><br/><table class=\"wandb\"><tr><td>epoch</td><td>10</td></tr><tr><td>training_accuracy</td><td>0.10006</td></tr><tr><td>training_loss</td><td>0.45</td></tr><tr><td>validation_accuracy</td><td>0.0995</td></tr><tr><td>validation_loss</td><td>0.45</td></tr></table><br/></div></div>"
      ],
      "text/plain": [
       "<IPython.core.display.HTML object>"
      ]
     },
     "metadata": {},
     "output_type": "display_data"
    },
    {
     "data": {
      "text/html": [
       " View run <strong style=\"color:#cdcd00\">lr_0.0001_ac_relu_in_xavier_op_nadam_bs_16_L2_0.5_ep_10_nn_32_nh_5</strong> at: <a href='https://wandb.ai/cs24m037-iit-madras/DL_A1/runs/y0aeiq4f' target=\"_blank\">https://wandb.ai/cs24m037-iit-madras/DL_A1/runs/y0aeiq4f</a><br> View project at: <a href='https://wandb.ai/cs24m037-iit-madras/DL_A1' target=\"_blank\">https://wandb.ai/cs24m037-iit-madras/DL_A1</a><br>Synced 5 W&B file(s), 0 media file(s), 0 artifact file(s) and 0 other file(s)"
      ],
      "text/plain": [
       "<IPython.core.display.HTML object>"
      ]
     },
     "metadata": {},
     "output_type": "display_data"
    },
    {
     "data": {
      "text/html": [
       "Find logs at: <code>.\\wandb\\run-20250308_093705-y0aeiq4f\\logs</code>"
      ],
      "text/plain": [
       "<IPython.core.display.HTML object>"
      ]
     },
     "metadata": {},
     "output_type": "display_data"
    },
    {
     "name": "stderr",
     "output_type": "stream",
     "text": [
      "wandb: Agent Starting Run: ymy0a8o2 with config:\n",
      "wandb: \tL2_lamb: 0\n",
      "wandb: \tactivation_f: tanh\n",
      "wandb: \tbatch_size: 16\n",
      "wandb: \tepochs: 5\n",
      "wandb: \tinit_mode: random_uniform\n",
      "wandb: \tlearning_rate: 0.0001\n",
      "wandb: \tnum_hidden: 4\n",
      "wandb: \tnum_neurons: 128\n",
      "wandb: \toptimizer: nesterov\n"
     ]
    },
    {
     "data": {
      "text/html": [
       "Tracking run with wandb version 0.19.7"
      ],
      "text/plain": [
       "<IPython.core.display.HTML object>"
      ]
     },
     "metadata": {},
     "output_type": "display_data"
    },
    {
     "data": {
      "text/html": [
       "Run data is saved locally in <code>c:\\Users\\RAMKUMAR\\Desktop\\iitm\\sem2\\DL\\wandb\\run-20250308_093726-ymy0a8o2</code>"
      ],
      "text/plain": [
       "<IPython.core.display.HTML object>"
      ]
     },
     "metadata": {},
     "output_type": "display_data"
    },
    {
     "data": {
      "text/html": [
       "Syncing run <strong><a href='https://wandb.ai/cs24m037-iit-madras/DL_A1/runs/ymy0a8o2' target=\"_blank\">floral-sweep-7</a></strong> to <a href='https://wandb.ai/cs24m037-iit-madras/DL_A1' target=\"_blank\">Weights & Biases</a> (<a href='https://wandb.me/developer-guide' target=\"_blank\">docs</a>)<br>Sweep page: <a href='https://wandb.ai/cs24m037-iit-madras/DL_A1/sweeps/zbxy6yvx' target=\"_blank\">https://wandb.ai/cs24m037-iit-madras/DL_A1/sweeps/zbxy6yvx</a>"
      ],
      "text/plain": [
       "<IPython.core.display.HTML object>"
      ]
     },
     "metadata": {},
     "output_type": "display_data"
    },
    {
     "data": {
      "text/html": [
       " View project at <a href='https://wandb.ai/cs24m037-iit-madras/DL_A1' target=\"_blank\">https://wandb.ai/cs24m037-iit-madras/DL_A1</a>"
      ],
      "text/plain": [
       "<IPython.core.display.HTML object>"
      ]
     },
     "metadata": {},
     "output_type": "display_data"
    },
    {
     "data": {
      "text/html": [
       " View sweep at <a href='https://wandb.ai/cs24m037-iit-madras/DL_A1/sweeps/zbxy6yvx' target=\"_blank\">https://wandb.ai/cs24m037-iit-madras/DL_A1/sweeps/zbxy6yvx</a>"
      ],
      "text/plain": [
       "<IPython.core.display.HTML object>"
      ]
     },
     "metadata": {},
     "output_type": "display_data"
    },
    {
     "data": {
      "text/html": [
       " View run at <a href='https://wandb.ai/cs24m037-iit-madras/DL_A1/runs/ymy0a8o2' target=\"_blank\">https://wandb.ai/cs24m037-iit-madras/DL_A1/runs/ymy0a8o2</a>"
      ],
      "text/plain": [
       "<IPython.core.display.HTML object>"
      ]
     },
     "metadata": {},
     "output_type": "display_data"
    },
    {
     "name": "stdout",
     "output_type": "stream",
     "text": [
      "lr_0.0001_ac_tanh_in_random_uniform_op_nesterov_bs_16_L2_0_ep_5_nn_128_nh_4\n",
      "Epoch 1: Training Loss = 0.4500, Validation Loss = 0.4500, Training Acc = 0.1001, Validation Acc = 0.0995\n",
      "Epoch 2: Training Loss = 0.4500, Validation Loss = 0.4499, Training Acc = 0.1001, Validation Acc = 0.0995\n",
      "Epoch 3: Training Loss = 0.4499, Validation Loss = 0.4499, Training Acc = 0.1001, Validation Acc = 0.0995\n",
      "Epoch 4: Training Loss = 0.4499, Validation Loss = 0.4499, Training Acc = 0.1001, Validation Acc = 0.0995\n",
      "Epoch 5: Training Loss = 0.4499, Validation Loss = 0.4499, Training Acc = 0.1001, Validation Acc = 0.0995\n"
     ]
    },
    {
     "data": {
      "text/html": [],
      "text/plain": [
       "<IPython.core.display.HTML object>"
      ]
     },
     "metadata": {},
     "output_type": "display_data"
    },
    {
     "data": {
      "text/html": [
       "<br>    <style><br>        .wandb-row {<br>            display: flex;<br>            flex-direction: row;<br>            flex-wrap: wrap;<br>            justify-content: flex-start;<br>            width: 100%;<br>        }<br>        .wandb-col {<br>            display: flex;<br>            flex-direction: column;<br>            flex-basis: 100%;<br>            flex: 1;<br>            padding: 10px;<br>        }<br>    </style><br><div class=\"wandb-row\"><div class=\"wandb-col\"><h3>Run history:</h3><br/><table class=\"wandb\"><tr><td>epoch</td><td>▁▃▅▆█</td></tr><tr><td>training_accuracy</td><td>▁▁▁▁▁</td></tr><tr><td>training_loss</td><td>█▆▄▃▁</td></tr><tr><td>validation_accuracy</td><td>▁▁▁▁▁</td></tr><tr><td>validation_loss</td><td>█▆▄▃▁</td></tr></table><br/></div><div class=\"wandb-col\"><h3>Run summary:</h3><br/><table class=\"wandb\"><tr><td>epoch</td><td>5</td></tr><tr><td>training_accuracy</td><td>0.10006</td></tr><tr><td>training_loss</td><td>0.44989</td></tr><tr><td>validation_accuracy</td><td>0.0995</td></tr><tr><td>validation_loss</td><td>0.44987</td></tr></table><br/></div></div>"
      ],
      "text/plain": [
       "<IPython.core.display.HTML object>"
      ]
     },
     "metadata": {},
     "output_type": "display_data"
    },
    {
     "data": {
      "text/html": [
       " View run <strong style=\"color:#cdcd00\">lr_0.0001_ac_tanh_in_random_uniform_op_nesterov_bs_16_L2_0_ep_5_nn_128_nh_4</strong> at: <a href='https://wandb.ai/cs24m037-iit-madras/DL_A1/runs/ymy0a8o2' target=\"_blank\">https://wandb.ai/cs24m037-iit-madras/DL_A1/runs/ymy0a8o2</a><br> View project at: <a href='https://wandb.ai/cs24m037-iit-madras/DL_A1' target=\"_blank\">https://wandb.ai/cs24m037-iit-madras/DL_A1</a><br>Synced 5 W&B file(s), 0 media file(s), 0 artifact file(s) and 0 other file(s)"
      ],
      "text/plain": [
       "<IPython.core.display.HTML object>"
      ]
     },
     "metadata": {},
     "output_type": "display_data"
    },
    {
     "data": {
      "text/html": [
       "Find logs at: <code>.\\wandb\\run-20250308_093726-ymy0a8o2\\logs</code>"
      ],
      "text/plain": [
       "<IPython.core.display.HTML object>"
      ]
     },
     "metadata": {},
     "output_type": "display_data"
    },
    {
     "name": "stderr",
     "output_type": "stream",
     "text": [
      "wandb: Agent Starting Run: 76fkkfa6 with config:\n",
      "wandb: \tL2_lamb: 0.0005\n",
      "wandb: \tactivation_f: sigmoid\n",
      "wandb: \tbatch_size: 16\n",
      "wandb: \tepochs: 5\n",
      "wandb: \tinit_mode: random_uniform\n",
      "wandb: \tlearning_rate: 0.001\n",
      "wandb: \tnum_hidden: 3\n",
      "wandb: \tnum_neurons: 64\n",
      "wandb: \toptimizer: sgd\n"
     ]
    },
    {
     "data": {
      "text/html": [
       "Tracking run with wandb version 0.19.7"
      ],
      "text/plain": [
       "<IPython.core.display.HTML object>"
      ]
     },
     "metadata": {},
     "output_type": "display_data"
    },
    {
     "data": {
      "text/html": [
       "Run data is saved locally in <code>c:\\Users\\RAMKUMAR\\Desktop\\iitm\\sem2\\DL\\wandb\\run-20250308_093803-76fkkfa6</code>"
      ],
      "text/plain": [
       "<IPython.core.display.HTML object>"
      ]
     },
     "metadata": {},
     "output_type": "display_data"
    },
    {
     "data": {
      "text/html": [
       "Syncing run <strong><a href='https://wandb.ai/cs24m037-iit-madras/DL_A1/runs/76fkkfa6' target=\"_blank\">electric-sweep-8</a></strong> to <a href='https://wandb.ai/cs24m037-iit-madras/DL_A1' target=\"_blank\">Weights & Biases</a> (<a href='https://wandb.me/developer-guide' target=\"_blank\">docs</a>)<br>Sweep page: <a href='https://wandb.ai/cs24m037-iit-madras/DL_A1/sweeps/zbxy6yvx' target=\"_blank\">https://wandb.ai/cs24m037-iit-madras/DL_A1/sweeps/zbxy6yvx</a>"
      ],
      "text/plain": [
       "<IPython.core.display.HTML object>"
      ]
     },
     "metadata": {},
     "output_type": "display_data"
    },
    {
     "data": {
      "text/html": [
       " View project at <a href='https://wandb.ai/cs24m037-iit-madras/DL_A1' target=\"_blank\">https://wandb.ai/cs24m037-iit-madras/DL_A1</a>"
      ],
      "text/plain": [
       "<IPython.core.display.HTML object>"
      ]
     },
     "metadata": {},
     "output_type": "display_data"
    },
    {
     "data": {
      "text/html": [
       " View sweep at <a href='https://wandb.ai/cs24m037-iit-madras/DL_A1/sweeps/zbxy6yvx' target=\"_blank\">https://wandb.ai/cs24m037-iit-madras/DL_A1/sweeps/zbxy6yvx</a>"
      ],
      "text/plain": [
       "<IPython.core.display.HTML object>"
      ]
     },
     "metadata": {},
     "output_type": "display_data"
    },
    {
     "data": {
      "text/html": [
       " View run at <a href='https://wandb.ai/cs24m037-iit-madras/DL_A1/runs/76fkkfa6' target=\"_blank\">https://wandb.ai/cs24m037-iit-madras/DL_A1/runs/76fkkfa6</a>"
      ],
      "text/plain": [
       "<IPython.core.display.HTML object>"
      ]
     },
     "metadata": {},
     "output_type": "display_data"
    },
    {
     "name": "stdout",
     "output_type": "stream",
     "text": [
      "lr_0.001_ac_sigmoid_in_random_uniform_op_sgd_bs_16_L2_0.0005_ep_5_nn_64_nh_3\n",
      "Epoch 1: Training Loss = 0.4500, Validation Loss = 0.4500, Training Acc = 0.1009, Validation Acc = 0.0917\n",
      "Epoch 2: Training Loss = 0.4500, Validation Loss = 0.4500, Training Acc = 0.1009, Validation Acc = 0.0917\n",
      "Epoch 3: Training Loss = 0.4500, Validation Loss = 0.4500, Training Acc = 0.1009, Validation Acc = 0.0917\n",
      "Epoch 4: Training Loss = 0.4500, Validation Loss = 0.4500, Training Acc = 0.1009, Validation Acc = 0.0917\n",
      "Epoch 5: Training Loss = 0.4500, Validation Loss = 0.4500, Training Acc = 0.1009, Validation Acc = 0.0917\n"
     ]
    },
    {
     "data": {
      "text/html": [],
      "text/plain": [
       "<IPython.core.display.HTML object>"
      ]
     },
     "metadata": {},
     "output_type": "display_data"
    },
    {
     "data": {
      "text/html": [
       "<br>    <style><br>        .wandb-row {<br>            display: flex;<br>            flex-direction: row;<br>            flex-wrap: wrap;<br>            justify-content: flex-start;<br>            width: 100%;<br>        }<br>        .wandb-col {<br>            display: flex;<br>            flex-direction: column;<br>            flex-basis: 100%;<br>            flex: 1;<br>            padding: 10px;<br>        }<br>    </style><br><div class=\"wandb-row\"><div class=\"wandb-col\"><h3>Run history:</h3><br/><table class=\"wandb\"><tr><td>epoch</td><td>▁▃▅▆█</td></tr><tr><td>training_accuracy</td><td>▁▁▁▁▁</td></tr><tr><td>training_loss</td><td>█▃▂▁▁</td></tr><tr><td>validation_accuracy</td><td>▁▁▁▁▁</td></tr><tr><td>validation_loss</td><td>█▂▁▁▁</td></tr></table><br/></div><div class=\"wandb-col\"><h3>Run summary:</h3><br/><table class=\"wandb\"><tr><td>epoch</td><td>5</td></tr><tr><td>training_accuracy</td><td>0.10093</td></tr><tr><td>training_loss</td><td>0.45</td></tr><tr><td>validation_accuracy</td><td>0.09167</td></tr><tr><td>validation_loss</td><td>0.45001</td></tr></table><br/></div></div>"
      ],
      "text/plain": [
       "<IPython.core.display.HTML object>"
      ]
     },
     "metadata": {},
     "output_type": "display_data"
    },
    {
     "data": {
      "text/html": [
       " View run <strong style=\"color:#cdcd00\">lr_0.001_ac_sigmoid_in_random_uniform_op_sgd_bs_16_L2_0.0005_ep_5_nn_64_nh_3</strong> at: <a href='https://wandb.ai/cs24m037-iit-madras/DL_A1/runs/76fkkfa6' target=\"_blank\">https://wandb.ai/cs24m037-iit-madras/DL_A1/runs/76fkkfa6</a><br> View project at: <a href='https://wandb.ai/cs24m037-iit-madras/DL_A1' target=\"_blank\">https://wandb.ai/cs24m037-iit-madras/DL_A1</a><br>Synced 5 W&B file(s), 0 media file(s), 0 artifact file(s) and 0 other file(s)"
      ],
      "text/plain": [
       "<IPython.core.display.HTML object>"
      ]
     },
     "metadata": {},
     "output_type": "display_data"
    },
    {
     "data": {
      "text/html": [
       "Find logs at: <code>.\\wandb\\run-20250308_093803-76fkkfa6\\logs</code>"
      ],
      "text/plain": [
       "<IPython.core.display.HTML object>"
      ]
     },
     "metadata": {},
     "output_type": "display_data"
    },
    {
     "name": "stderr",
     "output_type": "stream",
     "text": [
      "wandb: Agent Starting Run: n45wbcr6 with config:\n",
      "wandb: \tL2_lamb: 0\n",
      "wandb: \tactivation_f: tanh\n",
      "wandb: \tbatch_size: 32\n",
      "wandb: \tepochs: 5\n",
      "wandb: \tinit_mode: xavier\n",
      "wandb: \tlearning_rate: 0.001\n",
      "wandb: \tnum_hidden: 4\n",
      "wandb: \tnum_neurons: 64\n",
      "wandb: \toptimizer: nesterov\n"
     ]
    },
    {
     "data": {
      "text/html": [
       "Tracking run with wandb version 0.19.7"
      ],
      "text/plain": [
       "<IPython.core.display.HTML object>"
      ]
     },
     "metadata": {},
     "output_type": "display_data"
    },
    {
     "data": {
      "text/html": [
       "Run data is saved locally in <code>c:\\Users\\RAMKUMAR\\Desktop\\iitm\\sem2\\DL\\wandb\\run-20250308_093819-n45wbcr6</code>"
      ],
      "text/plain": [
       "<IPython.core.display.HTML object>"
      ]
     },
     "metadata": {},
     "output_type": "display_data"
    },
    {
     "data": {
      "text/html": [
       "Syncing run <strong><a href='https://wandb.ai/cs24m037-iit-madras/DL_A1/runs/n45wbcr6' target=\"_blank\">major-sweep-9</a></strong> to <a href='https://wandb.ai/cs24m037-iit-madras/DL_A1' target=\"_blank\">Weights & Biases</a> (<a href='https://wandb.me/developer-guide' target=\"_blank\">docs</a>)<br>Sweep page: <a href='https://wandb.ai/cs24m037-iit-madras/DL_A1/sweeps/zbxy6yvx' target=\"_blank\">https://wandb.ai/cs24m037-iit-madras/DL_A1/sweeps/zbxy6yvx</a>"
      ],
      "text/plain": [
       "<IPython.core.display.HTML object>"
      ]
     },
     "metadata": {},
     "output_type": "display_data"
    },
    {
     "data": {
      "text/html": [
       " View project at <a href='https://wandb.ai/cs24m037-iit-madras/DL_A1' target=\"_blank\">https://wandb.ai/cs24m037-iit-madras/DL_A1</a>"
      ],
      "text/plain": [
       "<IPython.core.display.HTML object>"
      ]
     },
     "metadata": {},
     "output_type": "display_data"
    },
    {
     "data": {
      "text/html": [
       " View sweep at <a href='https://wandb.ai/cs24m037-iit-madras/DL_A1/sweeps/zbxy6yvx' target=\"_blank\">https://wandb.ai/cs24m037-iit-madras/DL_A1/sweeps/zbxy6yvx</a>"
      ],
      "text/plain": [
       "<IPython.core.display.HTML object>"
      ]
     },
     "metadata": {},
     "output_type": "display_data"
    },
    {
     "data": {
      "text/html": [
       " View run at <a href='https://wandb.ai/cs24m037-iit-madras/DL_A1/runs/n45wbcr6' target=\"_blank\">https://wandb.ai/cs24m037-iit-madras/DL_A1/runs/n45wbcr6</a>"
      ],
      "text/plain": [
       "<IPython.core.display.HTML object>"
      ]
     },
     "metadata": {},
     "output_type": "display_data"
    },
    {
     "name": "stdout",
     "output_type": "stream",
     "text": [
      "lr_0.001_ac_tanh_in_xavier_op_nesterov_bs_32_L2_0_ep_5_nn_64_nh_4\n",
      "Epoch 1: Training Loss = 0.4067, Validation Loss = 0.4078, Training Acc = 0.4308, Validation Acc = 0.4212\n",
      "Epoch 2: Training Loss = 0.3631, Validation Loss = 0.3652, Training Acc = 0.5622, Validation Acc = 0.5508\n",
      "Epoch 3: Training Loss = 0.3260, Validation Loss = 0.3289, Training Acc = 0.5892, Validation Acc = 0.5820\n",
      "Epoch 4: Training Loss = 0.2964, Validation Loss = 0.2997, Training Acc = 0.6181, Validation Acc = 0.6102\n",
      "Epoch 5: Training Loss = 0.2729, Validation Loss = 0.2764, Training Acc = 0.6470, Validation Acc = 0.6393\n"
     ]
    },
    {
     "data": {
      "text/html": [],
      "text/plain": [
       "<IPython.core.display.HTML object>"
      ]
     },
     "metadata": {},
     "output_type": "display_data"
    },
    {
     "data": {
      "text/html": [
       "<br>    <style><br>        .wandb-row {<br>            display: flex;<br>            flex-direction: row;<br>            flex-wrap: wrap;<br>            justify-content: flex-start;<br>            width: 100%;<br>        }<br>        .wandb-col {<br>            display: flex;<br>            flex-direction: column;<br>            flex-basis: 100%;<br>            flex: 1;<br>            padding: 10px;<br>        }<br>    </style><br><div class=\"wandb-row\"><div class=\"wandb-col\"><h3>Run history:</h3><br/><table class=\"wandb\"><tr><td>epoch</td><td>▁▃▅▆█</td></tr><tr><td>training_accuracy</td><td>▁▅▆▇█</td></tr><tr><td>training_loss</td><td>█▆▄▂▁</td></tr><tr><td>validation_accuracy</td><td>▁▅▆▇█</td></tr><tr><td>validation_loss</td><td>█▆▄▂▁</td></tr></table><br/></div><div class=\"wandb-col\"><h3>Run summary:</h3><br/><table class=\"wandb\"><tr><td>epoch</td><td>5</td></tr><tr><td>training_accuracy</td><td>0.64696</td></tr><tr><td>training_loss</td><td>0.27294</td></tr><tr><td>validation_accuracy</td><td>0.63933</td></tr><tr><td>validation_loss</td><td>0.27643</td></tr></table><br/></div></div>"
      ],
      "text/plain": [
       "<IPython.core.display.HTML object>"
      ]
     },
     "metadata": {},
     "output_type": "display_data"
    },
    {
     "data": {
      "text/html": [
       " View run <strong style=\"color:#cdcd00\">lr_0.001_ac_tanh_in_xavier_op_nesterov_bs_32_L2_0_ep_5_nn_64_nh_4</strong> at: <a href='https://wandb.ai/cs24m037-iit-madras/DL_A1/runs/n45wbcr6' target=\"_blank\">https://wandb.ai/cs24m037-iit-madras/DL_A1/runs/n45wbcr6</a><br> View project at: <a href='https://wandb.ai/cs24m037-iit-madras/DL_A1' target=\"_blank\">https://wandb.ai/cs24m037-iit-madras/DL_A1</a><br>Synced 5 W&B file(s), 0 media file(s), 0 artifact file(s) and 0 other file(s)"
      ],
      "text/plain": [
       "<IPython.core.display.HTML object>"
      ]
     },
     "metadata": {},
     "output_type": "display_data"
    },
    {
     "data": {
      "text/html": [
       "Find logs at: <code>.\\wandb\\run-20250308_093819-n45wbcr6\\logs</code>"
      ],
      "text/plain": [
       "<IPython.core.display.HTML object>"
      ]
     },
     "metadata": {},
     "output_type": "display_data"
    },
    {
     "name": "stderr",
     "output_type": "stream",
     "text": [
      "wandb: Agent Starting Run: zfprx4z1 with config:\n",
      "wandb: \tL2_lamb: 0.5\n",
      "wandb: \tactivation_f: tanh\n",
      "wandb: \tbatch_size: 32\n",
      "wandb: \tepochs: 10\n",
      "wandb: \tinit_mode: random_uniform\n",
      "wandb: \tlearning_rate: 0.0001\n",
      "wandb: \tnum_hidden: 3\n",
      "wandb: \tnum_neurons: 128\n",
      "wandb: \toptimizer: rmsprop\n"
     ]
    },
    {
     "data": {
      "text/html": [
       "Tracking run with wandb version 0.19.7"
      ],
      "text/plain": [
       "<IPython.core.display.HTML object>"
      ]
     },
     "metadata": {},
     "output_type": "display_data"
    },
    {
     "data": {
      "text/html": [
       "Run data is saved locally in <code>c:\\Users\\RAMKUMAR\\Desktop\\iitm\\sem2\\DL\\wandb\\run-20250308_093835-zfprx4z1</code>"
      ],
      "text/plain": [
       "<IPython.core.display.HTML object>"
      ]
     },
     "metadata": {},
     "output_type": "display_data"
    },
    {
     "data": {
      "text/html": [
       "Syncing run <strong><a href='https://wandb.ai/cs24m037-iit-madras/DL_A1/runs/zfprx4z1' target=\"_blank\">toasty-sweep-10</a></strong> to <a href='https://wandb.ai/cs24m037-iit-madras/DL_A1' target=\"_blank\">Weights & Biases</a> (<a href='https://wandb.me/developer-guide' target=\"_blank\">docs</a>)<br>Sweep page: <a href='https://wandb.ai/cs24m037-iit-madras/DL_A1/sweeps/zbxy6yvx' target=\"_blank\">https://wandb.ai/cs24m037-iit-madras/DL_A1/sweeps/zbxy6yvx</a>"
      ],
      "text/plain": [
       "<IPython.core.display.HTML object>"
      ]
     },
     "metadata": {},
     "output_type": "display_data"
    },
    {
     "data": {
      "text/html": [
       " View project at <a href='https://wandb.ai/cs24m037-iit-madras/DL_A1' target=\"_blank\">https://wandb.ai/cs24m037-iit-madras/DL_A1</a>"
      ],
      "text/plain": [
       "<IPython.core.display.HTML object>"
      ]
     },
     "metadata": {},
     "output_type": "display_data"
    },
    {
     "data": {
      "text/html": [
       " View sweep at <a href='https://wandb.ai/cs24m037-iit-madras/DL_A1/sweeps/zbxy6yvx' target=\"_blank\">https://wandb.ai/cs24m037-iit-madras/DL_A1/sweeps/zbxy6yvx</a>"
      ],
      "text/plain": [
       "<IPython.core.display.HTML object>"
      ]
     },
     "metadata": {},
     "output_type": "display_data"
    },
    {
     "data": {
      "text/html": [
       " View run at <a href='https://wandb.ai/cs24m037-iit-madras/DL_A1/runs/zfprx4z1' target=\"_blank\">https://wandb.ai/cs24m037-iit-madras/DL_A1/runs/zfprx4z1</a>"
      ],
      "text/plain": [
       "<IPython.core.display.HTML object>"
      ]
     },
     "metadata": {},
     "output_type": "display_data"
    },
    {
     "name": "stdout",
     "output_type": "stream",
     "text": [
      "lr_0.0001_ac_tanh_in_random_uniform_op_rmsprop_bs_32_L2_0.5_ep_10_nn_128_nh_3\n",
      "Epoch 1: Training Loss = 0.4500, Validation Loss = 0.4500, Training Acc = 0.1009, Validation Acc = 0.0917\n",
      "Epoch 2: Training Loss = 0.4500, Validation Loss = 0.4500, Training Acc = 0.1009, Validation Acc = 0.0917\n",
      "Epoch 3: Training Loss = 0.4500, Validation Loss = 0.4500, Training Acc = 0.1009, Validation Acc = 0.0917\n",
      "Epoch 4: Training Loss = 0.4500, Validation Loss = 0.4500, Training Acc = 0.1009, Validation Acc = 0.0917\n",
      "Epoch 5: Training Loss = 0.4500, Validation Loss = 0.4500, Training Acc = 0.1009, Validation Acc = 0.0917\n",
      "Epoch 6: Training Loss = 0.4500, Validation Loss = 0.4500, Training Acc = 0.1009, Validation Acc = 0.0917\n",
      "Epoch 7: Training Loss = 0.4500, Validation Loss = 0.4500, Training Acc = 0.1009, Validation Acc = 0.0917\n",
      "Epoch 8: Training Loss = 0.4500, Validation Loss = 0.4500, Training Acc = 0.1009, Validation Acc = 0.0917\n",
      "Epoch 9: Training Loss = 0.4500, Validation Loss = 0.4500, Training Acc = 0.1009, Validation Acc = 0.0917\n",
      "Epoch 10: Training Loss = 0.4500, Validation Loss = 0.4500, Training Acc = 0.1009, Validation Acc = 0.0917\n"
     ]
    },
    {
     "data": {
      "text/html": [],
      "text/plain": [
       "<IPython.core.display.HTML object>"
      ]
     },
     "metadata": {},
     "output_type": "display_data"
    },
    {
     "data": {
      "text/html": [
       "<br>    <style><br>        .wandb-row {<br>            display: flex;<br>            flex-direction: row;<br>            flex-wrap: wrap;<br>            justify-content: flex-start;<br>            width: 100%;<br>        }<br>        .wandb-col {<br>            display: flex;<br>            flex-direction: column;<br>            flex-basis: 100%;<br>            flex: 1;<br>            padding: 10px;<br>        }<br>    </style><br><div class=\"wandb-row\"><div class=\"wandb-col\"><h3>Run history:</h3><br/><table class=\"wandb\"><tr><td>epoch</td><td>▁▂▃▃▄▅▆▆▇█</td></tr><tr><td>training_accuracy</td><td>▁▁▁▁▁▁▁▁▁▁</td></tr><tr><td>training_loss</td><td>█▄▃▂▂▁▁▁▁▁</td></tr><tr><td>validation_accuracy</td><td>▁▁▁▁▁▁▁▁▁▁</td></tr><tr><td>validation_loss</td><td>▁▃▅▆▆▇▇███</td></tr></table><br/></div><div class=\"wandb-col\"><h3>Run summary:</h3><br/><table class=\"wandb\"><tr><td>epoch</td><td>10</td></tr><tr><td>training_accuracy</td><td>0.10093</td></tr><tr><td>training_loss</td><td>0.45</td></tr><tr><td>validation_accuracy</td><td>0.09167</td></tr><tr><td>validation_loss</td><td>0.45001</td></tr></table><br/></div></div>"
      ],
      "text/plain": [
       "<IPython.core.display.HTML object>"
      ]
     },
     "metadata": {},
     "output_type": "display_data"
    },
    {
     "data": {
      "text/html": [
       " View run <strong style=\"color:#cdcd00\">lr_0.0001_ac_tanh_in_random_uniform_op_rmsprop_bs_32_L2_0.5_ep_10_nn_128_nh_3</strong> at: <a href='https://wandb.ai/cs24m037-iit-madras/DL_A1/runs/zfprx4z1' target=\"_blank\">https://wandb.ai/cs24m037-iit-madras/DL_A1/runs/zfprx4z1</a><br> View project at: <a href='https://wandb.ai/cs24m037-iit-madras/DL_A1' target=\"_blank\">https://wandb.ai/cs24m037-iit-madras/DL_A1</a><br>Synced 5 W&B file(s), 0 media file(s), 0 artifact file(s) and 0 other file(s)"
      ],
      "text/plain": [
       "<IPython.core.display.HTML object>"
      ]
     },
     "metadata": {},
     "output_type": "display_data"
    },
    {
     "data": {
      "text/html": [
       "Find logs at: <code>.\\wandb\\run-20250308_093835-zfprx4z1\\logs</code>"
      ],
      "text/plain": [
       "<IPython.core.display.HTML object>"
      ]
     },
     "metadata": {},
     "output_type": "display_data"
    },
    {
     "name": "stderr",
     "output_type": "stream",
     "text": [
      "wandb: Sweep Agent: Waiting for job.\n",
      "wandb: Job received.\n",
      "wandb: Agent Starting Run: d44nlzp2 with config:\n",
      "wandb: \tL2_lamb: 0\n",
      "wandb: \tactivation_f: relu\n",
      "wandb: \tbatch_size: 64\n",
      "wandb: \tepochs: 5\n",
      "wandb: \tinit_mode: xavier\n",
      "wandb: \tlearning_rate: 0.0001\n",
      "wandb: \tnum_hidden: 4\n",
      "wandb: \tnum_neurons: 64\n",
      "wandb: \toptimizer: rmsprop\n"
     ]
    },
    {
     "data": {
      "text/html": [
       "creating run (0.0s)"
      ],
      "text/plain": [
       "<IPython.core.display.HTML object>"
      ]
     },
     "metadata": {},
     "output_type": "display_data"
    },
    {
     "data": {
      "text/html": [
       "Tracking run with wandb version 0.19.7"
      ],
      "text/plain": [
       "<IPython.core.display.HTML object>"
      ]
     },
     "metadata": {},
     "output_type": "display_data"
    },
    {
     "data": {
      "text/html": [
       "Run data is saved locally in <code>c:\\Users\\RAMKUMAR\\Desktop\\iitm\\sem2\\DL\\wandb\\run-20250308_093928-d44nlzp2</code>"
      ],
      "text/plain": [
       "<IPython.core.display.HTML object>"
      ]
     },
     "metadata": {},
     "output_type": "display_data"
    },
    {
     "data": {
      "text/html": [
       "Syncing run <strong><a href='https://wandb.ai/cs24m037-iit-madras/DL_A1/runs/d44nlzp2' target=\"_blank\">winter-sweep-11</a></strong> to <a href='https://wandb.ai/cs24m037-iit-madras/DL_A1' target=\"_blank\">Weights & Biases</a> (<a href='https://wandb.me/developer-guide' target=\"_blank\">docs</a>)<br>Sweep page: <a href='https://wandb.ai/cs24m037-iit-madras/DL_A1/sweeps/zbxy6yvx' target=\"_blank\">https://wandb.ai/cs24m037-iit-madras/DL_A1/sweeps/zbxy6yvx</a>"
      ],
      "text/plain": [
       "<IPython.core.display.HTML object>"
      ]
     },
     "metadata": {},
     "output_type": "display_data"
    },
    {
     "data": {
      "text/html": [
       " View project at <a href='https://wandb.ai/cs24m037-iit-madras/DL_A1' target=\"_blank\">https://wandb.ai/cs24m037-iit-madras/DL_A1</a>"
      ],
      "text/plain": [
       "<IPython.core.display.HTML object>"
      ]
     },
     "metadata": {},
     "output_type": "display_data"
    },
    {
     "data": {
      "text/html": [
       " View sweep at <a href='https://wandb.ai/cs24m037-iit-madras/DL_A1/sweeps/zbxy6yvx' target=\"_blank\">https://wandb.ai/cs24m037-iit-madras/DL_A1/sweeps/zbxy6yvx</a>"
      ],
      "text/plain": [
       "<IPython.core.display.HTML object>"
      ]
     },
     "metadata": {},
     "output_type": "display_data"
    },
    {
     "data": {
      "text/html": [
       " View run at <a href='https://wandb.ai/cs24m037-iit-madras/DL_A1/runs/d44nlzp2' target=\"_blank\">https://wandb.ai/cs24m037-iit-madras/DL_A1/runs/d44nlzp2</a>"
      ],
      "text/plain": [
       "<IPython.core.display.HTML object>"
      ]
     },
     "metadata": {},
     "output_type": "display_data"
    },
    {
     "name": "stdout",
     "output_type": "stream",
     "text": [
      "lr_0.0001_ac_relu_in_xavier_op_rmsprop_bs_64_L2_0_ep_5_nn_64_nh_4\n",
      "Epoch 1: Training Loss = 0.1304, Validation Loss = 0.1343, Training Acc = 0.8219, Validation Acc = 0.8172\n",
      "Epoch 2: Training Loss = 0.1162, Validation Loss = 0.1201, Training Acc = 0.8424, Validation Acc = 0.8380\n",
      "Epoch 3: Training Loss = 0.1105, Validation Loss = 0.1146, Training Acc = 0.8494, Validation Acc = 0.8448\n",
      "Epoch 4: Training Loss = 0.1064, Validation Loss = 0.1105, Training Acc = 0.8545, Validation Acc = 0.8512\n",
      "Epoch 5: Training Loss = 0.1038, Validation Loss = 0.1080, Training Acc = 0.8576, Validation Acc = 0.8532\n"
     ]
    },
    {
     "data": {
      "text/html": [],
      "text/plain": [
       "<IPython.core.display.HTML object>"
      ]
     },
     "metadata": {},
     "output_type": "display_data"
    },
    {
     "data": {
      "text/html": [
       "<br>    <style><br>        .wandb-row {<br>            display: flex;<br>            flex-direction: row;<br>            flex-wrap: wrap;<br>            justify-content: flex-start;<br>            width: 100%;<br>        }<br>        .wandb-col {<br>            display: flex;<br>            flex-direction: column;<br>            flex-basis: 100%;<br>            flex: 1;<br>            padding: 10px;<br>        }<br>    </style><br><div class=\"wandb-row\"><div class=\"wandb-col\"><h3>Run history:</h3><br/><table class=\"wandb\"><tr><td>epoch</td><td>▁▃▅▆█</td></tr><tr><td>training_accuracy</td><td>▁▅▆▇█</td></tr><tr><td>training_loss</td><td>█▄▃▂▁</td></tr><tr><td>validation_accuracy</td><td>▁▅▆██</td></tr><tr><td>validation_loss</td><td>█▄▃▂▁</td></tr></table><br/></div><div class=\"wandb-col\"><h3>Run summary:</h3><br/><table class=\"wandb\"><tr><td>epoch</td><td>5</td></tr><tr><td>training_accuracy</td><td>0.85756</td></tr><tr><td>training_loss</td><td>0.10375</td></tr><tr><td>validation_accuracy</td><td>0.85317</td></tr><tr><td>validation_loss</td><td>0.10804</td></tr></table><br/></div></div>"
      ],
      "text/plain": [
       "<IPython.core.display.HTML object>"
      ]
     },
     "metadata": {},
     "output_type": "display_data"
    },
    {
     "data": {
      "text/html": [
       " View run <strong style=\"color:#cdcd00\">lr_0.0001_ac_relu_in_xavier_op_rmsprop_bs_64_L2_0_ep_5_nn_64_nh_4</strong> at: <a href='https://wandb.ai/cs24m037-iit-madras/DL_A1/runs/d44nlzp2' target=\"_blank\">https://wandb.ai/cs24m037-iit-madras/DL_A1/runs/d44nlzp2</a><br> View project at: <a href='https://wandb.ai/cs24m037-iit-madras/DL_A1' target=\"_blank\">https://wandb.ai/cs24m037-iit-madras/DL_A1</a><br>Synced 5 W&B file(s), 0 media file(s), 0 artifact file(s) and 0 other file(s)"
      ],
      "text/plain": [
       "<IPython.core.display.HTML object>"
      ]
     },
     "metadata": {},
     "output_type": "display_data"
    },
    {
     "data": {
      "text/html": [
       "Find logs at: <code>.\\wandb\\run-20250308_093928-d44nlzp2\\logs</code>"
      ],
      "text/plain": [
       "<IPython.core.display.HTML object>"
      ]
     },
     "metadata": {},
     "output_type": "display_data"
    },
    {
     "name": "stderr",
     "output_type": "stream",
     "text": [
      "wandb: Agent Starting Run: l3ovh7nj with config:\n",
      "wandb: \tL2_lamb: 0\n",
      "wandb: \tactivation_f: relu\n",
      "wandb: \tbatch_size: 32\n",
      "wandb: \tepochs: 5\n",
      "wandb: \tinit_mode: random_uniform\n",
      "wandb: \tlearning_rate: 0.001\n",
      "wandb: \tnum_hidden: 5\n",
      "wandb: \tnum_neurons: 128\n",
      "wandb: \toptimizer: momentum\n"
     ]
    },
    {
     "data": {
      "text/html": [
       "Tracking run with wandb version 0.19.7"
      ],
      "text/plain": [
       "<IPython.core.display.HTML object>"
      ]
     },
     "metadata": {},
     "output_type": "display_data"
    },
    {
     "data": {
      "text/html": [
       "Run data is saved locally in <code>c:\\Users\\RAMKUMAR\\Desktop\\iitm\\sem2\\DL\\wandb\\run-20250308_093944-l3ovh7nj</code>"
      ],
      "text/plain": [
       "<IPython.core.display.HTML object>"
      ]
     },
     "metadata": {},
     "output_type": "display_data"
    },
    {
     "data": {
      "text/html": [
       "Syncing run <strong><a href='https://wandb.ai/cs24m037-iit-madras/DL_A1/runs/l3ovh7nj' target=\"_blank\">vague-sweep-12</a></strong> to <a href='https://wandb.ai/cs24m037-iit-madras/DL_A1' target=\"_blank\">Weights & Biases</a> (<a href='https://wandb.me/developer-guide' target=\"_blank\">docs</a>)<br>Sweep page: <a href='https://wandb.ai/cs24m037-iit-madras/DL_A1/sweeps/zbxy6yvx' target=\"_blank\">https://wandb.ai/cs24m037-iit-madras/DL_A1/sweeps/zbxy6yvx</a>"
      ],
      "text/plain": [
       "<IPython.core.display.HTML object>"
      ]
     },
     "metadata": {},
     "output_type": "display_data"
    },
    {
     "data": {
      "text/html": [
       " View project at <a href='https://wandb.ai/cs24m037-iit-madras/DL_A1' target=\"_blank\">https://wandb.ai/cs24m037-iit-madras/DL_A1</a>"
      ],
      "text/plain": [
       "<IPython.core.display.HTML object>"
      ]
     },
     "metadata": {},
     "output_type": "display_data"
    },
    {
     "data": {
      "text/html": [
       " View sweep at <a href='https://wandb.ai/cs24m037-iit-madras/DL_A1/sweeps/zbxy6yvx' target=\"_blank\">https://wandb.ai/cs24m037-iit-madras/DL_A1/sweeps/zbxy6yvx</a>"
      ],
      "text/plain": [
       "<IPython.core.display.HTML object>"
      ]
     },
     "metadata": {},
     "output_type": "display_data"
    },
    {
     "data": {
      "text/html": [
       " View run at <a href='https://wandb.ai/cs24m037-iit-madras/DL_A1/runs/l3ovh7nj' target=\"_blank\">https://wandb.ai/cs24m037-iit-madras/DL_A1/runs/l3ovh7nj</a>"
      ],
      "text/plain": [
       "<IPython.core.display.HTML object>"
      ]
     },
     "metadata": {},
     "output_type": "display_data"
    },
    {
     "name": "stdout",
     "output_type": "stream",
     "text": [
      "lr_0.001_ac_relu_in_random_uniform_op_momentum_bs_32_L2_0_ep_5_nn_128_nh_5\n",
      "Epoch 1: Training Loss = 0.4494, Validation Loss = 0.4494, Training Acc = 0.0998, Validation Acc = 0.1018\n",
      "Epoch 2: Training Loss = 0.4490, Validation Loss = 0.4489, Training Acc = 0.0995, Validation Acc = 0.1045\n",
      "Epoch 3: Training Loss = 0.4486, Validation Loss = 0.4485, Training Acc = 0.0995, Validation Acc = 0.1045\n",
      "Epoch 4: Training Loss = 0.4482, Validation Loss = 0.4481, Training Acc = 0.0995, Validation Acc = 0.1045\n",
      "Epoch 5: Training Loss = 0.4479, Validation Loss = 0.4477, Training Acc = 0.0995, Validation Acc = 0.1045\n"
     ]
    },
    {
     "data": {
      "text/html": [],
      "text/plain": [
       "<IPython.core.display.HTML object>"
      ]
     },
     "metadata": {},
     "output_type": "display_data"
    },
    {
     "data": {
      "text/html": [
       "<br>    <style><br>        .wandb-row {<br>            display: flex;<br>            flex-direction: row;<br>            flex-wrap: wrap;<br>            justify-content: flex-start;<br>            width: 100%;<br>        }<br>        .wandb-col {<br>            display: flex;<br>            flex-direction: column;<br>            flex-basis: 100%;<br>            flex: 1;<br>            padding: 10px;<br>        }<br>    </style><br><div class=\"wandb-row\"><div class=\"wandb-col\"><h3>Run history:</h3><br/><table class=\"wandb\"><tr><td>epoch</td><td>▁▃▅▆█</td></tr><tr><td>training_accuracy</td><td>█▁▁▁▁</td></tr><tr><td>training_loss</td><td>█▆▄▂▁</td></tr><tr><td>validation_accuracy</td><td>▁████</td></tr><tr><td>validation_loss</td><td>█▆▄▃▁</td></tr></table><br/></div><div class=\"wandb-col\"><h3>Run summary:</h3><br/><table class=\"wandb\"><tr><td>epoch</td><td>5</td></tr><tr><td>training_accuracy</td><td>0.0995</td></tr><tr><td>training_loss</td><td>0.44793</td></tr><tr><td>validation_accuracy</td><td>0.1045</td></tr><tr><td>validation_loss</td><td>0.44775</td></tr></table><br/></div></div>"
      ],
      "text/plain": [
       "<IPython.core.display.HTML object>"
      ]
     },
     "metadata": {},
     "output_type": "display_data"
    },
    {
     "data": {
      "text/html": [
       " View run <strong style=\"color:#cdcd00\">lr_0.001_ac_relu_in_random_uniform_op_momentum_bs_32_L2_0_ep_5_nn_128_nh_5</strong> at: <a href='https://wandb.ai/cs24m037-iit-madras/DL_A1/runs/l3ovh7nj' target=\"_blank\">https://wandb.ai/cs24m037-iit-madras/DL_A1/runs/l3ovh7nj</a><br> View project at: <a href='https://wandb.ai/cs24m037-iit-madras/DL_A1' target=\"_blank\">https://wandb.ai/cs24m037-iit-madras/DL_A1</a><br>Synced 5 W&B file(s), 0 media file(s), 0 artifact file(s) and 0 other file(s)"
      ],
      "text/plain": [
       "<IPython.core.display.HTML object>"
      ]
     },
     "metadata": {},
     "output_type": "display_data"
    },
    {
     "data": {
      "text/html": [
       "Find logs at: <code>.\\wandb\\run-20250308_093944-l3ovh7nj\\logs</code>"
      ],
      "text/plain": [
       "<IPython.core.display.HTML object>"
      ]
     },
     "metadata": {},
     "output_type": "display_data"
    },
    {
     "name": "stderr",
     "output_type": "stream",
     "text": [
      "wandb: Sweep Agent: Waiting for job.\n",
      "wandb: Job received.\n",
      "wandb: Agent Starting Run: hgual1sj with config:\n",
      "wandb: \tL2_lamb: 0.5\n",
      "wandb: \tactivation_f: sigmoid\n",
      "wandb: \tbatch_size: 32\n",
      "wandb: \tepochs: 5\n",
      "wandb: \tinit_mode: random_uniform\n",
      "wandb: \tlearning_rate: 0.001\n",
      "wandb: \tnum_hidden: 4\n",
      "wandb: \tnum_neurons: 64\n",
      "wandb: \toptimizer: rmsprop\n"
     ]
    },
    {
     "data": {
      "text/html": [
       "Waiting for wandb.init()..."
      ],
      "text/plain": [
       "<IPython.core.display.HTML object>"
      ]
     },
     "metadata": {},
     "output_type": "display_data"
    },
    {
     "data": {
      "text/html": [
       "Tracking run with wandb version 0.19.7"
      ],
      "text/plain": [
       "<IPython.core.display.HTML object>"
      ]
     },
     "metadata": {},
     "output_type": "display_data"
    },
    {
     "data": {
      "text/html": [
       "Run data is saved locally in <code>c:\\Users\\RAMKUMAR\\Desktop\\iitm\\sem2\\DL\\wandb\\run-20250308_094121-hgual1sj</code>"
      ],
      "text/plain": [
       "<IPython.core.display.HTML object>"
      ]
     },
     "metadata": {},
     "output_type": "display_data"
    },
    {
     "data": {
      "text/html": [
       "Syncing run <strong><a href='https://wandb.ai/cs24m037-iit-madras/DL_A1/runs/hgual1sj' target=\"_blank\">scarlet-sweep-14</a></strong> to <a href='https://wandb.ai/cs24m037-iit-madras/DL_A1' target=\"_blank\">Weights & Biases</a> (<a href='https://wandb.me/developer-guide' target=\"_blank\">docs</a>)<br>Sweep page: <a href='https://wandb.ai/cs24m037-iit-madras/DL_A1/sweeps/zbxy6yvx' target=\"_blank\">https://wandb.ai/cs24m037-iit-madras/DL_A1/sweeps/zbxy6yvx</a>"
      ],
      "text/plain": [
       "<IPython.core.display.HTML object>"
      ]
     },
     "metadata": {},
     "output_type": "display_data"
    },
    {
     "data": {
      "text/html": [
       " View project at <a href='https://wandb.ai/cs24m037-iit-madras/DL_A1' target=\"_blank\">https://wandb.ai/cs24m037-iit-madras/DL_A1</a>"
      ],
      "text/plain": [
       "<IPython.core.display.HTML object>"
      ]
     },
     "metadata": {},
     "output_type": "display_data"
    },
    {
     "data": {
      "text/html": [
       " View sweep at <a href='https://wandb.ai/cs24m037-iit-madras/DL_A1/sweeps/zbxy6yvx' target=\"_blank\">https://wandb.ai/cs24m037-iit-madras/DL_A1/sweeps/zbxy6yvx</a>"
      ],
      "text/plain": [
       "<IPython.core.display.HTML object>"
      ]
     },
     "metadata": {},
     "output_type": "display_data"
    },
    {
     "data": {
      "text/html": [
       " View run at <a href='https://wandb.ai/cs24m037-iit-madras/DL_A1/runs/hgual1sj' target=\"_blank\">https://wandb.ai/cs24m037-iit-madras/DL_A1/runs/hgual1sj</a>"
      ],
      "text/plain": [
       "<IPython.core.display.HTML object>"
      ]
     },
     "metadata": {},
     "output_type": "display_data"
    },
    {
     "name": "stdout",
     "output_type": "stream",
     "text": [
      "lr_0.001_ac_sigmoid_in_random_uniform_op_rmsprop_bs_32_L2_0.5_ep_5_nn_64_nh_4\n",
      "Epoch 1: Training Loss = 0.4502, Validation Loss = 0.4502, Training Acc = 0.0996, Validation Acc = 0.1032\n",
      "Epoch 2: Training Loss = 0.4501, Validation Loss = 0.4501, Training Acc = 0.0996, Validation Acc = 0.1032\n",
      "Epoch 3: Training Loss = 0.4501, Validation Loss = 0.4500, Training Acc = 0.0996, Validation Acc = 0.1032\n",
      "Epoch 4: Training Loss = 0.4500, Validation Loss = 0.4500, Training Acc = 0.0996, Validation Acc = 0.1032\n",
      "Epoch 5: Training Loss = 0.4500, Validation Loss = 0.4500, Training Acc = 0.0996, Validation Acc = 0.1032\n"
     ]
    },
    {
     "data": {
      "text/html": [],
      "text/plain": [
       "<IPython.core.display.HTML object>"
      ]
     },
     "metadata": {},
     "output_type": "display_data"
    },
    {
     "data": {
      "text/html": [
       "<br>    <style><br>        .wandb-row {<br>            display: flex;<br>            flex-direction: row;<br>            flex-wrap: wrap;<br>            justify-content: flex-start;<br>            width: 100%;<br>        }<br>        .wandb-col {<br>            display: flex;<br>            flex-direction: column;<br>            flex-basis: 100%;<br>            flex: 1;<br>            padding: 10px;<br>        }<br>    </style><br><div class=\"wandb-row\"><div class=\"wandb-col\"><h3>Run history:</h3><br/><table class=\"wandb\"><tr><td>epoch</td><td>▁▃▅▆█</td></tr><tr><td>training_accuracy</td><td>▁▁▁▁▁</td></tr><tr><td>training_loss</td><td>█▄▂▁▁</td></tr><tr><td>validation_accuracy</td><td>▁▁▁▁▁</td></tr><tr><td>validation_loss</td><td>█▄▂▁▁</td></tr></table><br/></div><div class=\"wandb-col\"><h3>Run summary:</h3><br/><table class=\"wandb\"><tr><td>epoch</td><td>5</td></tr><tr><td>training_accuracy</td><td>0.09965</td></tr><tr><td>training_loss</td><td>0.45002</td></tr><tr><td>validation_accuracy</td><td>0.10317</td></tr><tr><td>validation_loss</td><td>0.45002</td></tr></table><br/></div></div>"
      ],
      "text/plain": [
       "<IPython.core.display.HTML object>"
      ]
     },
     "metadata": {},
     "output_type": "display_data"
    },
    {
     "data": {
      "text/html": [
       " View run <strong style=\"color:#cdcd00\">lr_0.001_ac_sigmoid_in_random_uniform_op_rmsprop_bs_32_L2_0.5_ep_5_nn_64_nh_4</strong> at: <a href='https://wandb.ai/cs24m037-iit-madras/DL_A1/runs/hgual1sj' target=\"_blank\">https://wandb.ai/cs24m037-iit-madras/DL_A1/runs/hgual1sj</a><br> View project at: <a href='https://wandb.ai/cs24m037-iit-madras/DL_A1' target=\"_blank\">https://wandb.ai/cs24m037-iit-madras/DL_A1</a><br>Synced 5 W&B file(s), 0 media file(s), 0 artifact file(s) and 0 other file(s)"
      ],
      "text/plain": [
       "<IPython.core.display.HTML object>"
      ]
     },
     "metadata": {},
     "output_type": "display_data"
    },
    {
     "data": {
      "text/html": [
       "Find logs at: <code>.\\wandb\\run-20250308_094121-hgual1sj\\logs</code>"
      ],
      "text/plain": [
       "<IPython.core.display.HTML object>"
      ]
     },
     "metadata": {},
     "output_type": "display_data"
    },
    {
     "name": "stderr",
     "output_type": "stream",
     "text": [
      "wandb: Agent Starting Run: ubf6du56 with config:\n",
      "wandb: \tL2_lamb: 0.5\n",
      "wandb: \tactivation_f: relu\n",
      "wandb: \tbatch_size: 64\n",
      "wandb: \tepochs: 10\n",
      "wandb: \tinit_mode: xavier\n",
      "wandb: \tlearning_rate: 0.0001\n",
      "wandb: \tnum_hidden: 5\n",
      "wandb: \tnum_neurons: 64\n",
      "wandb: \toptimizer: nadam\n"
     ]
    },
    {
     "data": {
      "text/html": [
       "Tracking run with wandb version 0.19.7"
      ],
      "text/plain": [
       "<IPython.core.display.HTML object>"
      ]
     },
     "metadata": {},
     "output_type": "display_data"
    },
    {
     "data": {
      "text/html": [
       "Run data is saved locally in <code>c:\\Users\\RAMKUMAR\\Desktop\\iitm\\sem2\\DL\\wandb\\run-20250308_094143-ubf6du56</code>"
      ],
      "text/plain": [
       "<IPython.core.display.HTML object>"
      ]
     },
     "metadata": {},
     "output_type": "display_data"
    },
    {
     "data": {
      "text/html": [
       "Syncing run <strong><a href='https://wandb.ai/cs24m037-iit-madras/DL_A1/runs/ubf6du56' target=\"_blank\">easy-sweep-15</a></strong> to <a href='https://wandb.ai/cs24m037-iit-madras/DL_A1' target=\"_blank\">Weights & Biases</a> (<a href='https://wandb.me/developer-guide' target=\"_blank\">docs</a>)<br>Sweep page: <a href='https://wandb.ai/cs24m037-iit-madras/DL_A1/sweeps/zbxy6yvx' target=\"_blank\">https://wandb.ai/cs24m037-iit-madras/DL_A1/sweeps/zbxy6yvx</a>"
      ],
      "text/plain": [
       "<IPython.core.display.HTML object>"
      ]
     },
     "metadata": {},
     "output_type": "display_data"
    },
    {
     "data": {
      "text/html": [
       " View project at <a href='https://wandb.ai/cs24m037-iit-madras/DL_A1' target=\"_blank\">https://wandb.ai/cs24m037-iit-madras/DL_A1</a>"
      ],
      "text/plain": [
       "<IPython.core.display.HTML object>"
      ]
     },
     "metadata": {},
     "output_type": "display_data"
    },
    {
     "data": {
      "text/html": [
       " View sweep at <a href='https://wandb.ai/cs24m037-iit-madras/DL_A1/sweeps/zbxy6yvx' target=\"_blank\">https://wandb.ai/cs24m037-iit-madras/DL_A1/sweeps/zbxy6yvx</a>"
      ],
      "text/plain": [
       "<IPython.core.display.HTML object>"
      ]
     },
     "metadata": {},
     "output_type": "display_data"
    },
    {
     "data": {
      "text/html": [
       " View run at <a href='https://wandb.ai/cs24m037-iit-madras/DL_A1/runs/ubf6du56' target=\"_blank\">https://wandb.ai/cs24m037-iit-madras/DL_A1/runs/ubf6du56</a>"
      ],
      "text/plain": [
       "<IPython.core.display.HTML object>"
      ]
     },
     "metadata": {},
     "output_type": "display_data"
    },
    {
     "name": "stdout",
     "output_type": "stream",
     "text": [
      "lr_0.0001_ac_relu_in_xavier_op_nadam_bs_64_L2_0.5_ep_10_nn_64_nh_5\n",
      "Epoch 1: Training Loss = 0.2215, Validation Loss = 0.2315, Training Acc = 0.6753, Validation Acc = 0.6598\n",
      "Epoch 2: Training Loss = 0.2023, Validation Loss = 0.2100, Training Acc = 0.6942, Validation Acc = 0.6840\n",
      "Epoch 3: Training Loss = 0.1967, Validation Loss = 0.2035, Training Acc = 0.7016, Validation Acc = 0.6930\n",
      "Epoch 4: Training Loss = 0.1941, Validation Loss = 0.2005, Training Acc = 0.7071, Validation Acc = 0.7012\n",
      "Epoch 5: Training Loss = 0.1924, Validation Loss = 0.1986, Training Acc = 0.7123, Validation Acc = 0.7060\n",
      "Epoch 6: Training Loss = 0.1906, Validation Loss = 0.1968, Training Acc = 0.7196, Validation Acc = 0.7123\n",
      "Epoch 7: Training Loss = 0.1885, Validation Loss = 0.1947, Training Acc = 0.7277, Validation Acc = 0.7230\n",
      "Epoch 8: Training Loss = 0.1860, Validation Loss = 0.1923, Training Acc = 0.7367, Validation Acc = 0.7323\n",
      "Epoch 9: Training Loss = 0.1823, Validation Loss = 0.1888, Training Acc = 0.7460, Validation Acc = 0.7395\n",
      "Epoch 10: Training Loss = 0.1781, Validation Loss = 0.1847, Training Acc = 0.7540, Validation Acc = 0.7492\n"
     ]
    },
    {
     "data": {
      "text/html": [],
      "text/plain": [
       "<IPython.core.display.HTML object>"
      ]
     },
     "metadata": {},
     "output_type": "display_data"
    },
    {
     "data": {
      "text/html": [
       "<br>    <style><br>        .wandb-row {<br>            display: flex;<br>            flex-direction: row;<br>            flex-wrap: wrap;<br>            justify-content: flex-start;<br>            width: 100%;<br>        }<br>        .wandb-col {<br>            display: flex;<br>            flex-direction: column;<br>            flex-basis: 100%;<br>            flex: 1;<br>            padding: 10px;<br>        }<br>    </style><br><div class=\"wandb-row\"><div class=\"wandb-col\"><h3>Run history:</h3><br/><table class=\"wandb\"><tr><td>epoch</td><td>▁▂▃▃▄▅▆▆▇█</td></tr><tr><td>training_accuracy</td><td>▁▃▃▄▄▅▆▆▇█</td></tr><tr><td>training_loss</td><td>█▅▄▄▃▃▃▂▂▁</td></tr><tr><td>validation_accuracy</td><td>▁▃▄▄▅▅▆▇▇█</td></tr><tr><td>validation_loss</td><td>█▅▄▃▃▃▂▂▂▁</td></tr></table><br/></div><div class=\"wandb-col\"><h3>Run summary:</h3><br/><table class=\"wandb\"><tr><td>epoch</td><td>10</td></tr><tr><td>training_accuracy</td><td>0.75396</td></tr><tr><td>training_loss</td><td>0.17814</td></tr><tr><td>validation_accuracy</td><td>0.74917</td></tr><tr><td>validation_loss</td><td>0.1847</td></tr></table><br/></div></div>"
      ],
      "text/plain": [
       "<IPython.core.display.HTML object>"
      ]
     },
     "metadata": {},
     "output_type": "display_data"
    },
    {
     "data": {
      "text/html": [
       " View run <strong style=\"color:#cdcd00\">lr_0.0001_ac_relu_in_xavier_op_nadam_bs_64_L2_0.5_ep_10_nn_64_nh_5</strong> at: <a href='https://wandb.ai/cs24m037-iit-madras/DL_A1/runs/ubf6du56' target=\"_blank\">https://wandb.ai/cs24m037-iit-madras/DL_A1/runs/ubf6du56</a><br> View project at: <a href='https://wandb.ai/cs24m037-iit-madras/DL_A1' target=\"_blank\">https://wandb.ai/cs24m037-iit-madras/DL_A1</a><br>Synced 5 W&B file(s), 0 media file(s), 0 artifact file(s) and 0 other file(s)"
      ],
      "text/plain": [
       "<IPython.core.display.HTML object>"
      ]
     },
     "metadata": {},
     "output_type": "display_data"
    },
    {
     "data": {
      "text/html": [
       "Find logs at: <code>.\\wandb\\run-20250308_094143-ubf6du56\\logs</code>"
      ],
      "text/plain": [
       "<IPython.core.display.HTML object>"
      ]
     },
     "metadata": {},
     "output_type": "display_data"
    },
    {
     "name": "stderr",
     "output_type": "stream",
     "text": [
      "wandb: Sweep Agent: Waiting for job.\n",
      "wandb: Job received.\n",
      "wandb: Agent Starting Run: rkwojazq with config:\n",
      "wandb: \tL2_lamb: 0\n",
      "wandb: \tactivation_f: sigmoid\n",
      "wandb: \tbatch_size: 16\n",
      "wandb: \tepochs: 10\n",
      "wandb: \tinit_mode: random_uniform\n",
      "wandb: \tlearning_rate: 0.0001\n",
      "wandb: \tnum_hidden: 4\n",
      "wandb: \tnum_neurons: 64\n",
      "wandb: \toptimizer: sgd\n"
     ]
    },
    {
     "data": {
      "text/html": [
       "creating run (0.0s)"
      ],
      "text/plain": [
       "<IPython.core.display.HTML object>"
      ]
     },
     "metadata": {},
     "output_type": "display_data"
    },
    {
     "data": {
      "text/html": [
       "Tracking run with wandb version 0.19.7"
      ],
      "text/plain": [
       "<IPython.core.display.HTML object>"
      ]
     },
     "metadata": {},
     "output_type": "display_data"
    },
    {
     "data": {
      "text/html": [
       "Run data is saved locally in <code>c:\\Users\\RAMKUMAR\\Desktop\\iitm\\sem2\\DL\\wandb\\run-20250308_094215-rkwojazq</code>"
      ],
      "text/plain": [
       "<IPython.core.display.HTML object>"
      ]
     },
     "metadata": {},
     "output_type": "display_data"
    },
    {
     "data": {
      "text/html": [
       "Syncing run <strong><a href='https://wandb.ai/cs24m037-iit-madras/DL_A1/runs/rkwojazq' target=\"_blank\">upbeat-sweep-16</a></strong> to <a href='https://wandb.ai/cs24m037-iit-madras/DL_A1' target=\"_blank\">Weights & Biases</a> (<a href='https://wandb.me/developer-guide' target=\"_blank\">docs</a>)<br>Sweep page: <a href='https://wandb.ai/cs24m037-iit-madras/DL_A1/sweeps/zbxy6yvx' target=\"_blank\">https://wandb.ai/cs24m037-iit-madras/DL_A1/sweeps/zbxy6yvx</a>"
      ],
      "text/plain": [
       "<IPython.core.display.HTML object>"
      ]
     },
     "metadata": {},
     "output_type": "display_data"
    },
    {
     "data": {
      "text/html": [
       " View project at <a href='https://wandb.ai/cs24m037-iit-madras/DL_A1' target=\"_blank\">https://wandb.ai/cs24m037-iit-madras/DL_A1</a>"
      ],
      "text/plain": [
       "<IPython.core.display.HTML object>"
      ]
     },
     "metadata": {},
     "output_type": "display_data"
    },
    {
     "data": {
      "text/html": [
       " View sweep at <a href='https://wandb.ai/cs24m037-iit-madras/DL_A1/sweeps/zbxy6yvx' target=\"_blank\">https://wandb.ai/cs24m037-iit-madras/DL_A1/sweeps/zbxy6yvx</a>"
      ],
      "text/plain": [
       "<IPython.core.display.HTML object>"
      ]
     },
     "metadata": {},
     "output_type": "display_data"
    },
    {
     "data": {
      "text/html": [
       " View run at <a href='https://wandb.ai/cs24m037-iit-madras/DL_A1/runs/rkwojazq' target=\"_blank\">https://wandb.ai/cs24m037-iit-madras/DL_A1/runs/rkwojazq</a>"
      ],
      "text/plain": [
       "<IPython.core.display.HTML object>"
      ]
     },
     "metadata": {},
     "output_type": "display_data"
    },
    {
     "name": "stdout",
     "output_type": "stream",
     "text": [
      "lr_0.0001_ac_sigmoid_in_random_uniform_op_sgd_bs_16_L2_0_ep_10_nn_64_nh_4\n",
      "Epoch 1: Training Loss = 0.4500, Validation Loss = 0.4500, Training Acc = 0.0999, Validation Acc = 0.1013\n",
      "Epoch 2: Training Loss = 0.4500, Validation Loss = 0.4500, Training Acc = 0.0999, Validation Acc = 0.1013\n",
      "Epoch 3: Training Loss = 0.4500, Validation Loss = 0.4500, Training Acc = 0.0999, Validation Acc = 0.1013\n",
      "Epoch 4: Training Loss = 0.4500, Validation Loss = 0.4500, Training Acc = 0.0999, Validation Acc = 0.1013\n",
      "Epoch 5: Training Loss = 0.4500, Validation Loss = 0.4500, Training Acc = 0.0999, Validation Acc = 0.1013\n",
      "Epoch 6: Training Loss = 0.4500, Validation Loss = 0.4500, Training Acc = 0.0999, Validation Acc = 0.1013\n",
      "Epoch 7: Training Loss = 0.4500, Validation Loss = 0.4500, Training Acc = 0.0999, Validation Acc = 0.1013\n",
      "Epoch 8: Training Loss = 0.4500, Validation Loss = 0.4500, Training Acc = 0.0999, Validation Acc = 0.1013\n",
      "Epoch 9: Training Loss = 0.4500, Validation Loss = 0.4500, Training Acc = 0.0999, Validation Acc = 0.1013\n",
      "Epoch 10: Training Loss = 0.4500, Validation Loss = 0.4500, Training Acc = 0.0999, Validation Acc = 0.1013\n"
     ]
    },
    {
     "data": {
      "text/html": [],
      "text/plain": [
       "<IPython.core.display.HTML object>"
      ]
     },
     "metadata": {},
     "output_type": "display_data"
    },
    {
     "data": {
      "text/html": [
       "<br>    <style><br>        .wandb-row {<br>            display: flex;<br>            flex-direction: row;<br>            flex-wrap: wrap;<br>            justify-content: flex-start;<br>            width: 100%;<br>        }<br>        .wandb-col {<br>            display: flex;<br>            flex-direction: column;<br>            flex-basis: 100%;<br>            flex: 1;<br>            padding: 10px;<br>        }<br>    </style><br><div class=\"wandb-row\"><div class=\"wandb-col\"><h3>Run history:</h3><br/><table class=\"wandb\"><tr><td>epoch</td><td>▁▂▃▃▄▅▆▆▇█</td></tr><tr><td>training_accuracy</td><td>▁▁▁▁▁▁▁▁▁▁</td></tr><tr><td>training_loss</td><td>█▇▆▅▄▃▃▂▁▁</td></tr><tr><td>validation_accuracy</td><td>▁▁▁▁▁▁▁▁▁▁</td></tr><tr><td>validation_loss</td><td>▁▁▂▃▃▄▅▆▇█</td></tr></table><br/></div><div class=\"wandb-col\"><h3>Run summary:</h3><br/><table class=\"wandb\"><tr><td>epoch</td><td>10</td></tr><tr><td>training_accuracy</td><td>0.09985</td></tr><tr><td>training_loss</td><td>0.45</td></tr><tr><td>validation_accuracy</td><td>0.10133</td></tr><tr><td>validation_loss</td><td>0.45001</td></tr></table><br/></div></div>"
      ],
      "text/plain": [
       "<IPython.core.display.HTML object>"
      ]
     },
     "metadata": {},
     "output_type": "display_data"
    },
    {
     "data": {
      "text/html": [
       " View run <strong style=\"color:#cdcd00\">lr_0.0001_ac_sigmoid_in_random_uniform_op_sgd_bs_16_L2_0_ep_10_nn_64_nh_4</strong> at: <a href='https://wandb.ai/cs24m037-iit-madras/DL_A1/runs/rkwojazq' target=\"_blank\">https://wandb.ai/cs24m037-iit-madras/DL_A1/runs/rkwojazq</a><br> View project at: <a href='https://wandb.ai/cs24m037-iit-madras/DL_A1' target=\"_blank\">https://wandb.ai/cs24m037-iit-madras/DL_A1</a><br>Synced 5 W&B file(s), 0 media file(s), 0 artifact file(s) and 0 other file(s)"
      ],
      "text/plain": [
       "<IPython.core.display.HTML object>"
      ]
     },
     "metadata": {},
     "output_type": "display_data"
    },
    {
     "data": {
      "text/html": [
       "Find logs at: <code>.\\wandb\\run-20250308_094215-rkwojazq\\logs</code>"
      ],
      "text/plain": [
       "<IPython.core.display.HTML object>"
      ]
     },
     "metadata": {},
     "output_type": "display_data"
    },
    {
     "name": "stderr",
     "output_type": "stream",
     "text": [
      "wandb: Agent Starting Run: kz8zhrn9 with config:\n",
      "wandb: \tL2_lamb: 0.0005\n",
      "wandb: \tactivation_f: relu\n",
      "wandb: \tbatch_size: 16\n",
      "wandb: \tepochs: 10\n",
      "wandb: \tinit_mode: random_uniform\n",
      "wandb: \tlearning_rate: 0.0001\n",
      "wandb: \tnum_hidden: 5\n",
      "wandb: \tnum_neurons: 128\n",
      "wandb: \toptimizer: adam\n"
     ]
    },
    {
     "data": {
      "text/html": [
       "Tracking run with wandb version 0.19.7"
      ],
      "text/plain": [
       "<IPython.core.display.HTML object>"
      ]
     },
     "metadata": {},
     "output_type": "display_data"
    },
    {
     "data": {
      "text/html": [
       "Run data is saved locally in <code>c:\\Users\\RAMKUMAR\\Desktop\\iitm\\sem2\\DL\\wandb\\run-20250308_094247-kz8zhrn9</code>"
      ],
      "text/plain": [
       "<IPython.core.display.HTML object>"
      ]
     },
     "metadata": {},
     "output_type": "display_data"
    },
    {
     "data": {
      "text/html": [
       "Syncing run <strong><a href='https://wandb.ai/cs24m037-iit-madras/DL_A1/runs/kz8zhrn9' target=\"_blank\">blooming-sweep-17</a></strong> to <a href='https://wandb.ai/cs24m037-iit-madras/DL_A1' target=\"_blank\">Weights & Biases</a> (<a href='https://wandb.me/developer-guide' target=\"_blank\">docs</a>)<br>Sweep page: <a href='https://wandb.ai/cs24m037-iit-madras/DL_A1/sweeps/zbxy6yvx' target=\"_blank\">https://wandb.ai/cs24m037-iit-madras/DL_A1/sweeps/zbxy6yvx</a>"
      ],
      "text/plain": [
       "<IPython.core.display.HTML object>"
      ]
     },
     "metadata": {},
     "output_type": "display_data"
    },
    {
     "data": {
      "text/html": [
       " View project at <a href='https://wandb.ai/cs24m037-iit-madras/DL_A1' target=\"_blank\">https://wandb.ai/cs24m037-iit-madras/DL_A1</a>"
      ],
      "text/plain": [
       "<IPython.core.display.HTML object>"
      ]
     },
     "metadata": {},
     "output_type": "display_data"
    },
    {
     "data": {
      "text/html": [
       " View sweep at <a href='https://wandb.ai/cs24m037-iit-madras/DL_A1/sweeps/zbxy6yvx' target=\"_blank\">https://wandb.ai/cs24m037-iit-madras/DL_A1/sweeps/zbxy6yvx</a>"
      ],
      "text/plain": [
       "<IPython.core.display.HTML object>"
      ]
     },
     "metadata": {},
     "output_type": "display_data"
    },
    {
     "data": {
      "text/html": [
       " View run at <a href='https://wandb.ai/cs24m037-iit-madras/DL_A1/runs/kz8zhrn9' target=\"_blank\">https://wandb.ai/cs24m037-iit-madras/DL_A1/runs/kz8zhrn9</a>"
      ],
      "text/plain": [
       "<IPython.core.display.HTML object>"
      ]
     },
     "metadata": {},
     "output_type": "display_data"
    },
    {
     "name": "stdout",
     "output_type": "stream",
     "text": [
      "lr_0.0001_ac_relu_in_random_uniform_op_adam_bs_16_L2_0.0005_ep_10_nn_128_nh_5\n",
      "Epoch 1: Training Loss = 0.4145, Validation Loss = 0.4137, Training Acc = 0.0996, Validation Acc = 0.1045\n",
      "Epoch 2: Training Loss = 0.4118, Validation Loss = 0.4111, Training Acc = 0.0997, Validation Acc = 0.1048\n",
      "Epoch 3: Training Loss = 0.4096, Validation Loss = 0.4089, Training Acc = 0.0999, Validation Acc = 0.1018\n",
      "Epoch 4: Training Loss = 0.4071, Validation Loss = 0.4065, Training Acc = 0.0999, Validation Acc = 0.1018\n",
      "Epoch 5: Training Loss = 0.4044, Validation Loss = 0.4039, Training Acc = 0.0999, Validation Acc = 0.1018\n",
      "Epoch 6: Training Loss = 0.4024, Validation Loss = 0.4018, Training Acc = 0.0999, Validation Acc = 0.1020\n",
      "Epoch 7: Training Loss = 0.4014, Validation Loss = 0.4008, Training Acc = 0.1001, Validation Acc = 0.1018\n",
      "Epoch 8: Training Loss = 0.4005, Validation Loss = 0.3999, Training Acc = 0.1000, Validation Acc = 0.1020\n",
      "Epoch 9: Training Loss = 0.3994, Validation Loss = 0.3990, Training Acc = 0.1000, Validation Acc = 0.1018\n",
      "Epoch 10: Training Loss = 0.4031, Validation Loss = 0.4026, Training Acc = 0.1000, Validation Acc = 0.1018\n"
     ]
    },
    {
     "data": {
      "text/html": [],
      "text/plain": [
       "<IPython.core.display.HTML object>"
      ]
     },
     "metadata": {},
     "output_type": "display_data"
    },
    {
     "data": {
      "text/html": [
       "<br>    <style><br>        .wandb-row {<br>            display: flex;<br>            flex-direction: row;<br>            flex-wrap: wrap;<br>            justify-content: flex-start;<br>            width: 100%;<br>        }<br>        .wandb-col {<br>            display: flex;<br>            flex-direction: column;<br>            flex-basis: 100%;<br>            flex: 1;<br>            padding: 10px;<br>        }<br>    </style><br><div class=\"wandb-row\"><div class=\"wandb-col\"><h3>Run history:</h3><br/><table class=\"wandb\"><tr><td>epoch</td><td>▁▂▃▃▄▅▆▆▇█</td></tr><tr><td>training_accuracy</td><td>▁▂▆▆▆▆██▇▇</td></tr><tr><td>training_loss</td><td>█▇▆▅▃▂▂▁▁▃</td></tr><tr><td>validation_accuracy</td><td>▇█▁▁▁▁▁▁▁▁</td></tr><tr><td>validation_loss</td><td>█▇▆▅▃▂▂▁▁▃</td></tr></table><br/></div><div class=\"wandb-col\"><h3>Run summary:</h3><br/><table class=\"wandb\"><tr><td>epoch</td><td>10</td></tr><tr><td>training_accuracy</td><td>0.10002</td></tr><tr><td>training_loss</td><td>0.40305</td></tr><tr><td>validation_accuracy</td><td>0.10183</td></tr><tr><td>validation_loss</td><td>0.40261</td></tr></table><br/></div></div>"
      ],
      "text/plain": [
       "<IPython.core.display.HTML object>"
      ]
     },
     "metadata": {},
     "output_type": "display_data"
    },
    {
     "data": {
      "text/html": [
       " View run <strong style=\"color:#cdcd00\">lr_0.0001_ac_relu_in_random_uniform_op_adam_bs_16_L2_0.0005_ep_10_nn_128_nh_5</strong> at: <a href='https://wandb.ai/cs24m037-iit-madras/DL_A1/runs/kz8zhrn9' target=\"_blank\">https://wandb.ai/cs24m037-iit-madras/DL_A1/runs/kz8zhrn9</a><br> View project at: <a href='https://wandb.ai/cs24m037-iit-madras/DL_A1' target=\"_blank\">https://wandb.ai/cs24m037-iit-madras/DL_A1</a><br>Synced 5 W&B file(s), 0 media file(s), 0 artifact file(s) and 0 other file(s)"
      ],
      "text/plain": [
       "<IPython.core.display.HTML object>"
      ]
     },
     "metadata": {},
     "output_type": "display_data"
    },
    {
     "data": {
      "text/html": [
       "Find logs at: <code>.\\wandb\\run-20250308_094247-kz8zhrn9\\logs</code>"
      ],
      "text/plain": [
       "<IPython.core.display.HTML object>"
      ]
     },
     "metadata": {},
     "output_type": "display_data"
    },
    {
     "name": "stderr",
     "output_type": "stream",
     "text": [
      "wandb: Agent Starting Run: ix3fwv6r with config:\n",
      "wandb: \tL2_lamb: 0.0005\n",
      "wandb: \tactivation_f: relu\n",
      "wandb: \tbatch_size: 32\n",
      "wandb: \tepochs: 10\n",
      "wandb: \tinit_mode: xavier\n",
      "wandb: \tlearning_rate: 0.001\n",
      "wandb: \tnum_hidden: 4\n",
      "wandb: \tnum_neurons: 128\n",
      "wandb: \toptimizer: adam\n"
     ]
    },
    {
     "data": {
      "text/html": [
       "Tracking run with wandb version 0.19.7"
      ],
      "text/plain": [
       "<IPython.core.display.HTML object>"
      ]
     },
     "metadata": {},
     "output_type": "display_data"
    },
    {
     "data": {
      "text/html": [
       "Run data is saved locally in <code>c:\\Users\\RAMKUMAR\\Desktop\\iitm\\sem2\\DL\\wandb\\run-20250308_094411-ix3fwv6r</code>"
      ],
      "text/plain": [
       "<IPython.core.display.HTML object>"
      ]
     },
     "metadata": {},
     "output_type": "display_data"
    },
    {
     "data": {
      "text/html": [
       "Syncing run <strong><a href='https://wandb.ai/cs24m037-iit-madras/DL_A1/runs/ix3fwv6r' target=\"_blank\">denim-sweep-18</a></strong> to <a href='https://wandb.ai/cs24m037-iit-madras/DL_A1' target=\"_blank\">Weights & Biases</a> (<a href='https://wandb.me/developer-guide' target=\"_blank\">docs</a>)<br>Sweep page: <a href='https://wandb.ai/cs24m037-iit-madras/DL_A1/sweeps/zbxy6yvx' target=\"_blank\">https://wandb.ai/cs24m037-iit-madras/DL_A1/sweeps/zbxy6yvx</a>"
      ],
      "text/plain": [
       "<IPython.core.display.HTML object>"
      ]
     },
     "metadata": {},
     "output_type": "display_data"
    },
    {
     "data": {
      "text/html": [
       " View project at <a href='https://wandb.ai/cs24m037-iit-madras/DL_A1' target=\"_blank\">https://wandb.ai/cs24m037-iit-madras/DL_A1</a>"
      ],
      "text/plain": [
       "<IPython.core.display.HTML object>"
      ]
     },
     "metadata": {},
     "output_type": "display_data"
    },
    {
     "data": {
      "text/html": [
       " View sweep at <a href='https://wandb.ai/cs24m037-iit-madras/DL_A1/sweeps/zbxy6yvx' target=\"_blank\">https://wandb.ai/cs24m037-iit-madras/DL_A1/sweeps/zbxy6yvx</a>"
      ],
      "text/plain": [
       "<IPython.core.display.HTML object>"
      ]
     },
     "metadata": {},
     "output_type": "display_data"
    },
    {
     "data": {
      "text/html": [
       " View run at <a href='https://wandb.ai/cs24m037-iit-madras/DL_A1/runs/ix3fwv6r' target=\"_blank\">https://wandb.ai/cs24m037-iit-madras/DL_A1/runs/ix3fwv6r</a>"
      ],
      "text/plain": [
       "<IPython.core.display.HTML object>"
      ]
     },
     "metadata": {},
     "output_type": "display_data"
    },
    {
     "name": "stdout",
     "output_type": "stream",
     "text": [
      "lr_0.001_ac_relu_in_xavier_op_adam_bs_32_L2_0.0005_ep_10_nn_128_nh_4\n",
      "Epoch 1: Training Loss = 0.1002, Validation Loss = 0.1057, Training Acc = 0.8594, Validation Acc = 0.8517\n",
      "Epoch 2: Training Loss = 0.0963, Validation Loss = 0.1044, Training Acc = 0.8664, Validation Acc = 0.8548\n",
      "Epoch 3: Training Loss = 0.0922, Validation Loss = 0.1006, Training Acc = 0.8713, Validation Acc = 0.8603\n",
      "Epoch 4: Training Loss = 0.0806, Validation Loss = 0.0916, Training Acc = 0.8885, Validation Acc = 0.8743\n",
      "Epoch 5: Training Loss = 0.0817, Validation Loss = 0.0931, Training Acc = 0.8876, Validation Acc = 0.8763\n",
      "Epoch 6: Training Loss = 0.0801, Validation Loss = 0.0935, Training Acc = 0.8902, Validation Acc = 0.8733\n",
      "Epoch 7: Training Loss = 0.0758, Validation Loss = 0.0898, Training Acc = 0.8969, Validation Acc = 0.8750\n",
      "Epoch 8: Training Loss = 0.0756, Validation Loss = 0.0912, Training Acc = 0.8977, Validation Acc = 0.8747\n",
      "Epoch 9: Training Loss = 0.0742, Validation Loss = 0.0905, Training Acc = 0.8987, Validation Acc = 0.8792\n",
      "Epoch 10: Training Loss = 0.0717, Validation Loss = 0.0897, Training Acc = 0.9014, Validation Acc = 0.8802\n"
     ]
    },
    {
     "data": {
      "text/html": [],
      "text/plain": [
       "<IPython.core.display.HTML object>"
      ]
     },
     "metadata": {},
     "output_type": "display_data"
    },
    {
     "data": {
      "text/html": [
       "<br>    <style><br>        .wandb-row {<br>            display: flex;<br>            flex-direction: row;<br>            flex-wrap: wrap;<br>            justify-content: flex-start;<br>            width: 100%;<br>        }<br>        .wandb-col {<br>            display: flex;<br>            flex-direction: column;<br>            flex-basis: 100%;<br>            flex: 1;<br>            padding: 10px;<br>        }<br>    </style><br><div class=\"wandb-row\"><div class=\"wandb-col\"><h3>Run history:</h3><br/><table class=\"wandb\"><tr><td>epoch</td><td>▁▂▃▃▄▅▆▆▇█</td></tr><tr><td>training_accuracy</td><td>▁▂▃▆▆▆▇▇██</td></tr><tr><td>training_loss</td><td>█▇▆▃▃▃▂▂▂▁</td></tr><tr><td>validation_accuracy</td><td>▁▂▃▇▇▆▇▇██</td></tr><tr><td>validation_loss</td><td>█▇▆▂▂▃▁▂▁▁</td></tr></table><br/></div><div class=\"wandb-col\"><h3>Run summary:</h3><br/><table class=\"wandb\"><tr><td>epoch</td><td>10</td></tr><tr><td>training_accuracy</td><td>0.90135</td></tr><tr><td>training_loss</td><td>0.07166</td></tr><tr><td>validation_accuracy</td><td>0.88017</td></tr><tr><td>validation_loss</td><td>0.08974</td></tr></table><br/></div></div>"
      ],
      "text/plain": [
       "<IPython.core.display.HTML object>"
      ]
     },
     "metadata": {},
     "output_type": "display_data"
    },
    {
     "data": {
      "text/html": [
       " View run <strong style=\"color:#cdcd00\">lr_0.001_ac_relu_in_xavier_op_adam_bs_32_L2_0.0005_ep_10_nn_128_nh_4</strong> at: <a href='https://wandb.ai/cs24m037-iit-madras/DL_A1/runs/ix3fwv6r' target=\"_blank\">https://wandb.ai/cs24m037-iit-madras/DL_A1/runs/ix3fwv6r</a><br> View project at: <a href='https://wandb.ai/cs24m037-iit-madras/DL_A1' target=\"_blank\">https://wandb.ai/cs24m037-iit-madras/DL_A1</a><br>Synced 5 W&B file(s), 0 media file(s), 0 artifact file(s) and 0 other file(s)"
      ],
      "text/plain": [
       "<IPython.core.display.HTML object>"
      ]
     },
     "metadata": {},
     "output_type": "display_data"
    },
    {
     "data": {
      "text/html": [
       "Find logs at: <code>.\\wandb\\run-20250308_094411-ix3fwv6r\\logs</code>"
      ],
      "text/plain": [
       "<IPython.core.display.HTML object>"
      ]
     },
     "metadata": {},
     "output_type": "display_data"
    },
    {
     "name": "stderr",
     "output_type": "stream",
     "text": [
      "wandb: Sweep Agent: Waiting for job.\n",
      "wandb: Job received.\n",
      "wandb: Agent Starting Run: yvcr7pe7 with config:\n",
      "wandb: \tL2_lamb: 0\n",
      "wandb: \tactivation_f: tanh\n",
      "wandb: \tbatch_size: 16\n",
      "wandb: \tepochs: 10\n",
      "wandb: \tinit_mode: random_uniform\n",
      "wandb: \tlearning_rate: 0.0001\n",
      "wandb: \tnum_hidden: 5\n",
      "wandb: \tnum_neurons: 32\n",
      "wandb: \toptimizer: adam\n"
     ]
    },
    {
     "data": {
      "text/html": [
       "creating run (0.0s)"
      ],
      "text/plain": [
       "<IPython.core.display.HTML object>"
      ]
     },
     "metadata": {},
     "output_type": "display_data"
    },
    {
     "data": {
      "text/html": [
       "Tracking run with wandb version 0.19.7"
      ],
      "text/plain": [
       "<IPython.core.display.HTML object>"
      ]
     },
     "metadata": {},
     "output_type": "display_data"
    },
    {
     "data": {
      "text/html": [
       "Run data is saved locally in <code>c:\\Users\\RAMKUMAR\\Desktop\\iitm\\sem2\\DL\\wandb\\run-20250308_094513-yvcr7pe7</code>"
      ],
      "text/plain": [
       "<IPython.core.display.HTML object>"
      ]
     },
     "metadata": {},
     "output_type": "display_data"
    },
    {
     "data": {
      "text/html": [
       "Syncing run <strong><a href='https://wandb.ai/cs24m037-iit-madras/DL_A1/runs/yvcr7pe7' target=\"_blank\">lemon-sweep-19</a></strong> to <a href='https://wandb.ai/cs24m037-iit-madras/DL_A1' target=\"_blank\">Weights & Biases</a> (<a href='https://wandb.me/developer-guide' target=\"_blank\">docs</a>)<br>Sweep page: <a href='https://wandb.ai/cs24m037-iit-madras/DL_A1/sweeps/zbxy6yvx' target=\"_blank\">https://wandb.ai/cs24m037-iit-madras/DL_A1/sweeps/zbxy6yvx</a>"
      ],
      "text/plain": [
       "<IPython.core.display.HTML object>"
      ]
     },
     "metadata": {},
     "output_type": "display_data"
    },
    {
     "data": {
      "text/html": [
       " View project at <a href='https://wandb.ai/cs24m037-iit-madras/DL_A1' target=\"_blank\">https://wandb.ai/cs24m037-iit-madras/DL_A1</a>"
      ],
      "text/plain": [
       "<IPython.core.display.HTML object>"
      ]
     },
     "metadata": {},
     "output_type": "display_data"
    },
    {
     "data": {
      "text/html": [
       " View sweep at <a href='https://wandb.ai/cs24m037-iit-madras/DL_A1/sweeps/zbxy6yvx' target=\"_blank\">https://wandb.ai/cs24m037-iit-madras/DL_A1/sweeps/zbxy6yvx</a>"
      ],
      "text/plain": [
       "<IPython.core.display.HTML object>"
      ]
     },
     "metadata": {},
     "output_type": "display_data"
    },
    {
     "data": {
      "text/html": [
       " View run at <a href='https://wandb.ai/cs24m037-iit-madras/DL_A1/runs/yvcr7pe7' target=\"_blank\">https://wandb.ai/cs24m037-iit-madras/DL_A1/runs/yvcr7pe7</a>"
      ],
      "text/plain": [
       "<IPython.core.display.HTML object>"
      ]
     },
     "metadata": {},
     "output_type": "display_data"
    },
    {
     "name": "stdout",
     "output_type": "stream",
     "text": [
      "lr_0.0001_ac_tanh_in_random_uniform_op_adam_bs_16_L2_0_ep_10_nn_32_nh_5\n",
      "Epoch 1: Training Loss = 0.4017, Validation Loss = 0.4017, Training Acc = 0.1992, Validation Acc = 0.2012\n",
      "Epoch 2: Training Loss = 0.3902, Validation Loss = 0.3905, Training Acc = 0.2078, Validation Acc = 0.2062\n",
      "Epoch 3: Training Loss = 0.3656, Validation Loss = 0.3660, Training Acc = 0.3927, Validation Acc = 0.3895\n",
      "Epoch 4: Training Loss = 0.3311, Validation Loss = 0.3319, Training Acc = 0.4092, Validation Acc = 0.4092\n",
      "Epoch 5: Training Loss = 0.3186, Validation Loss = 0.3197, Training Acc = 0.4306, Validation Acc = 0.4323\n",
      "Epoch 6: Training Loss = 0.3075, Validation Loss = 0.3092, Training Acc = 0.4859, Validation Acc = 0.4898\n",
      "Epoch 7: Training Loss = 0.2966, Validation Loss = 0.2993, Training Acc = 0.5204, Validation Acc = 0.5207\n",
      "Epoch 8: Training Loss = 0.2847, Validation Loss = 0.2877, Training Acc = 0.5395, Validation Acc = 0.5395\n",
      "Epoch 9: Training Loss = 0.2509, Validation Loss = 0.2539, Training Acc = 0.6149, Validation Acc = 0.6103\n",
      "Epoch 10: Training Loss = 0.2315, Validation Loss = 0.2337, Training Acc = 0.6455, Validation Acc = 0.6448\n"
     ]
    },
    {
     "data": {
      "text/html": [],
      "text/plain": [
       "<IPython.core.display.HTML object>"
      ]
     },
     "metadata": {},
     "output_type": "display_data"
    },
    {
     "data": {
      "text/html": [
       "<br>    <style><br>        .wandb-row {<br>            display: flex;<br>            flex-direction: row;<br>            flex-wrap: wrap;<br>            justify-content: flex-start;<br>            width: 100%;<br>        }<br>        .wandb-col {<br>            display: flex;<br>            flex-direction: column;<br>            flex-basis: 100%;<br>            flex: 1;<br>            padding: 10px;<br>        }<br>    </style><br><div class=\"wandb-row\"><div class=\"wandb-col\"><h3>Run history:</h3><br/><table class=\"wandb\"><tr><td>epoch</td><td>▁▂▃▃▄▅▆▆▇█</td></tr><tr><td>training_accuracy</td><td>▁▁▄▄▅▅▆▆██</td></tr><tr><td>training_loss</td><td>██▇▅▅▄▄▃▂▁</td></tr><tr><td>validation_accuracy</td><td>▁▁▄▄▅▆▆▆▇█</td></tr><tr><td>validation_loss</td><td>██▇▅▅▄▄▃▂▁</td></tr></table><br/></div><div class=\"wandb-col\"><h3>Run summary:</h3><br/><table class=\"wandb\"><tr><td>epoch</td><td>10</td></tr><tr><td>training_accuracy</td><td>0.64552</td></tr><tr><td>training_loss</td><td>0.23153</td></tr><tr><td>validation_accuracy</td><td>0.64483</td></tr><tr><td>validation_loss</td><td>0.23373</td></tr></table><br/></div></div>"
      ],
      "text/plain": [
       "<IPython.core.display.HTML object>"
      ]
     },
     "metadata": {},
     "output_type": "display_data"
    },
    {
     "data": {
      "text/html": [
       " View run <strong style=\"color:#cdcd00\">lr_0.0001_ac_tanh_in_random_uniform_op_adam_bs_16_L2_0_ep_10_nn_32_nh_5</strong> at: <a href='https://wandb.ai/cs24m037-iit-madras/DL_A1/runs/yvcr7pe7' target=\"_blank\">https://wandb.ai/cs24m037-iit-madras/DL_A1/runs/yvcr7pe7</a><br> View project at: <a href='https://wandb.ai/cs24m037-iit-madras/DL_A1' target=\"_blank\">https://wandb.ai/cs24m037-iit-madras/DL_A1</a><br>Synced 5 W&B file(s), 0 media file(s), 0 artifact file(s) and 0 other file(s)"
      ],
      "text/plain": [
       "<IPython.core.display.HTML object>"
      ]
     },
     "metadata": {},
     "output_type": "display_data"
    },
    {
     "data": {
      "text/html": [
       "Find logs at: <code>.\\wandb\\run-20250308_094513-yvcr7pe7\\logs</code>"
      ],
      "text/plain": [
       "<IPython.core.display.HTML object>"
      ]
     },
     "metadata": {},
     "output_type": "display_data"
    },
    {
     "name": "stderr",
     "output_type": "stream",
     "text": [
      "wandb: Sweep Agent: Waiting for job.\n",
      "wandb: Job received.\n",
      "wandb: Agent Starting Run: 0axju340 with config:\n",
      "wandb: \tL2_lamb: 0.0005\n",
      "wandb: \tactivation_f: tanh\n",
      "wandb: \tbatch_size: 16\n",
      "wandb: \tepochs: 10\n",
      "wandb: \tinit_mode: random_uniform\n",
      "wandb: \tlearning_rate: 0.001\n",
      "wandb: \tnum_hidden: 3\n",
      "wandb: \tnum_neurons: 32\n",
      "wandb: \toptimizer: adam\n"
     ]
    },
    {
     "data": {
      "text/html": [
       "Waiting for wandb.init()..."
      ],
      "text/plain": [
       "<IPython.core.display.HTML object>"
      ]
     },
     "metadata": {},
     "output_type": "display_data"
    },
    {
     "data": {
      "text/html": [
       "Tracking run with wandb version 0.19.7"
      ],
      "text/plain": [
       "<IPython.core.display.HTML object>"
      ]
     },
     "metadata": {},
     "output_type": "display_data"
    },
    {
     "data": {
      "text/html": [
       "Run data is saved locally in <code>c:\\Users\\RAMKUMAR\\Desktop\\iitm\\sem2\\DL\\wandb\\run-20250308_094545-0axju340</code>"
      ],
      "text/plain": [
       "<IPython.core.display.HTML object>"
      ]
     },
     "metadata": {},
     "output_type": "display_data"
    },
    {
     "data": {
      "text/html": [
       "Syncing run <strong><a href='https://wandb.ai/cs24m037-iit-madras/DL_A1/runs/0axju340' target=\"_blank\">rose-sweep-20</a></strong> to <a href='https://wandb.ai/cs24m037-iit-madras/DL_A1' target=\"_blank\">Weights & Biases</a> (<a href='https://wandb.me/developer-guide' target=\"_blank\">docs</a>)<br>Sweep page: <a href='https://wandb.ai/cs24m037-iit-madras/DL_A1/sweeps/zbxy6yvx' target=\"_blank\">https://wandb.ai/cs24m037-iit-madras/DL_A1/sweeps/zbxy6yvx</a>"
      ],
      "text/plain": [
       "<IPython.core.display.HTML object>"
      ]
     },
     "metadata": {},
     "output_type": "display_data"
    },
    {
     "data": {
      "text/html": [
       " View project at <a href='https://wandb.ai/cs24m037-iit-madras/DL_A1' target=\"_blank\">https://wandb.ai/cs24m037-iit-madras/DL_A1</a>"
      ],
      "text/plain": [
       "<IPython.core.display.HTML object>"
      ]
     },
     "metadata": {},
     "output_type": "display_data"
    },
    {
     "data": {
      "text/html": [
       " View sweep at <a href='https://wandb.ai/cs24m037-iit-madras/DL_A1/sweeps/zbxy6yvx' target=\"_blank\">https://wandb.ai/cs24m037-iit-madras/DL_A1/sweeps/zbxy6yvx</a>"
      ],
      "text/plain": [
       "<IPython.core.display.HTML object>"
      ]
     },
     "metadata": {},
     "output_type": "display_data"
    },
    {
     "data": {
      "text/html": [
       " View run at <a href='https://wandb.ai/cs24m037-iit-madras/DL_A1/runs/0axju340' target=\"_blank\">https://wandb.ai/cs24m037-iit-madras/DL_A1/runs/0axju340</a>"
      ],
      "text/plain": [
       "<IPython.core.display.HTML object>"
      ]
     },
     "metadata": {},
     "output_type": "display_data"
    },
    {
     "name": "stdout",
     "output_type": "stream",
     "text": [
      "lr_0.001_ac_tanh_in_random_uniform_op_adam_bs_16_L2_0.0005_ep_10_nn_32_nh_3\n",
      "Epoch 1: Training Loss = 0.1658, Validation Loss = 0.1713, Training Acc = 0.7360, Validation Acc = 0.7258\n",
      "Epoch 2: Training Loss = 0.1272, Validation Loss = 0.1333, Training Acc = 0.8197, Validation Acc = 0.8102\n",
      "Epoch 3: Training Loss = 0.1054, Validation Loss = 0.1105, Training Acc = 0.8549, Validation Acc = 0.8475\n",
      "Epoch 4: Training Loss = 0.0959, Validation Loss = 0.1031, Training Acc = 0.8675, Validation Acc = 0.8603\n",
      "Epoch 5: Training Loss = 0.0943, Validation Loss = 0.1020, Training Acc = 0.8707, Validation Acc = 0.8593\n",
      "Epoch 6: Training Loss = 0.0912, Validation Loss = 0.1005, Training Acc = 0.8750, Validation Acc = 0.8632\n",
      "Epoch 7: Training Loss = 0.0937, Validation Loss = 0.1022, Training Acc = 0.8711, Validation Acc = 0.8618\n",
      "Epoch 8: Training Loss = 0.0882, Validation Loss = 0.0988, Training Acc = 0.8789, Validation Acc = 0.8660\n",
      "Epoch 9: Training Loss = 0.0880, Validation Loss = 0.0989, Training Acc = 0.8803, Validation Acc = 0.8652\n",
      "Epoch 10: Training Loss = 0.0891, Validation Loss = 0.1015, Training Acc = 0.8788, Validation Acc = 0.8622\n"
     ]
    },
    {
     "data": {
      "text/html": [],
      "text/plain": [
       "<IPython.core.display.HTML object>"
      ]
     },
     "metadata": {},
     "output_type": "display_data"
    },
    {
     "data": {
      "text/html": [
       "<br>    <style><br>        .wandb-row {<br>            display: flex;<br>            flex-direction: row;<br>            flex-wrap: wrap;<br>            justify-content: flex-start;<br>            width: 100%;<br>        }<br>        .wandb-col {<br>            display: flex;<br>            flex-direction: column;<br>            flex-basis: 100%;<br>            flex: 1;<br>            padding: 10px;<br>        }<br>    </style><br><div class=\"wandb-row\"><div class=\"wandb-col\"><h3>Run history:</h3><br/><table class=\"wandb\"><tr><td>epoch</td><td>▁▂▃▃▄▅▆▆▇█</td></tr><tr><td>training_accuracy</td><td>▁▅▇▇██████</td></tr><tr><td>training_loss</td><td>█▅▃▂▂▁▂▁▁▁</td></tr><tr><td>validation_accuracy</td><td>▁▅▇███████</td></tr><tr><td>validation_loss</td><td>█▄▂▁▁▁▁▁▁▁</td></tr></table><br/></div><div class=\"wandb-col\"><h3>Run summary:</h3><br/><table class=\"wandb\"><tr><td>epoch</td><td>10</td></tr><tr><td>training_accuracy</td><td>0.87881</td></tr><tr><td>training_loss</td><td>0.08914</td></tr><tr><td>validation_accuracy</td><td>0.86217</td></tr><tr><td>validation_loss</td><td>0.10155</td></tr></table><br/></div></div>"
      ],
      "text/plain": [
       "<IPython.core.display.HTML object>"
      ]
     },
     "metadata": {},
     "output_type": "display_data"
    },
    {
     "data": {
      "text/html": [
       " View run <strong style=\"color:#cdcd00\">lr_0.001_ac_tanh_in_random_uniform_op_adam_bs_16_L2_0.0005_ep_10_nn_32_nh_3</strong> at: <a href='https://wandb.ai/cs24m037-iit-madras/DL_A1/runs/0axju340' target=\"_blank\">https://wandb.ai/cs24m037-iit-madras/DL_A1/runs/0axju340</a><br> View project at: <a href='https://wandb.ai/cs24m037-iit-madras/DL_A1' target=\"_blank\">https://wandb.ai/cs24m037-iit-madras/DL_A1</a><br>Synced 5 W&B file(s), 0 media file(s), 0 artifact file(s) and 0 other file(s)"
      ],
      "text/plain": [
       "<IPython.core.display.HTML object>"
      ]
     },
     "metadata": {},
     "output_type": "display_data"
    },
    {
     "data": {
      "text/html": [
       "Find logs at: <code>.\\wandb\\run-20250308_094545-0axju340\\logs</code>"
      ],
      "text/plain": [
       "<IPython.core.display.HTML object>"
      ]
     },
     "metadata": {},
     "output_type": "display_data"
    },
    {
     "name": "stderr",
     "output_type": "stream",
     "text": [
      "wandb: Agent Starting Run: 75l6dlta with config:\n",
      "wandb: \tL2_lamb: 0.5\n",
      "wandb: \tactivation_f: relu\n",
      "wandb: \tbatch_size: 32\n",
      "wandb: \tepochs: 10\n",
      "wandb: \tinit_mode: xavier\n",
      "wandb: \tlearning_rate: 0.0001\n",
      "wandb: \tnum_hidden: 3\n",
      "wandb: \tnum_neurons: 64\n",
      "wandb: \toptimizer: nesterov\n"
     ]
    },
    {
     "data": {
      "text/html": [],
      "text/plain": [
       "<IPython.core.display.HTML object>"
      ]
     },
     "metadata": {},
     "output_type": "display_data"
    },
    {
     "data": {
      "text/html": [
       "Tracking run with wandb version 0.19.7"
      ],
      "text/plain": [
       "<IPython.core.display.HTML object>"
      ]
     },
     "metadata": {},
     "output_type": "display_data"
    },
    {
     "data": {
      "text/html": [
       "Run data is saved locally in <code>c:\\Users\\RAMKUMAR\\Desktop\\iitm\\sem2\\DL\\wandb\\run-20250308_094607-75l6dlta</code>"
      ],
      "text/plain": [
       "<IPython.core.display.HTML object>"
      ]
     },
     "metadata": {},
     "output_type": "display_data"
    },
    {
     "data": {
      "text/html": [
       "Syncing run <strong><a href='https://wandb.ai/cs24m037-iit-madras/DL_A1/runs/75l6dlta' target=\"_blank\">sweet-sweep-21</a></strong> to <a href='https://wandb.ai/cs24m037-iit-madras/DL_A1' target=\"_blank\">Weights & Biases</a> (<a href='https://wandb.me/developer-guide' target=\"_blank\">docs</a>)<br>Sweep page: <a href='https://wandb.ai/cs24m037-iit-madras/DL_A1/sweeps/zbxy6yvx' target=\"_blank\">https://wandb.ai/cs24m037-iit-madras/DL_A1/sweeps/zbxy6yvx</a>"
      ],
      "text/plain": [
       "<IPython.core.display.HTML object>"
      ]
     },
     "metadata": {},
     "output_type": "display_data"
    },
    {
     "data": {
      "text/html": [
       " View project at <a href='https://wandb.ai/cs24m037-iit-madras/DL_A1' target=\"_blank\">https://wandb.ai/cs24m037-iit-madras/DL_A1</a>"
      ],
      "text/plain": [
       "<IPython.core.display.HTML object>"
      ]
     },
     "metadata": {},
     "output_type": "display_data"
    },
    {
     "data": {
      "text/html": [
       " View sweep at <a href='https://wandb.ai/cs24m037-iit-madras/DL_A1/sweeps/zbxy6yvx' target=\"_blank\">https://wandb.ai/cs24m037-iit-madras/DL_A1/sweeps/zbxy6yvx</a>"
      ],
      "text/plain": [
       "<IPython.core.display.HTML object>"
      ]
     },
     "metadata": {},
     "output_type": "display_data"
    },
    {
     "data": {
      "text/html": [
       " View run at <a href='https://wandb.ai/cs24m037-iit-madras/DL_A1/runs/75l6dlta' target=\"_blank\">https://wandb.ai/cs24m037-iit-madras/DL_A1/runs/75l6dlta</a>"
      ],
      "text/plain": [
       "<IPython.core.display.HTML object>"
      ]
     },
     "metadata": {},
     "output_type": "display_data"
    },
    {
     "name": "stdout",
     "output_type": "stream",
     "text": [
      "lr_0.0001_ac_relu_in_xavier_op_nesterov_bs_32_L2_0.5_ep_10_nn_64_nh_3\n",
      "Epoch 1: Training Loss = 0.4533, Validation Loss = 0.4627, Training Acc = 0.0998, Validation Acc = 0.1005\n",
      "Epoch 2: Training Loss = 0.4524, Validation Loss = 0.4617, Training Acc = 0.1059, Validation Acc = 0.1035\n",
      "Epoch 3: Training Loss = 0.4514, Validation Loss = 0.4607, Training Acc = 0.1114, Validation Acc = 0.1098\n",
      "Epoch 4: Training Loss = 0.4506, Validation Loss = 0.4598, Training Acc = 0.1171, Validation Acc = 0.1163\n",
      "Epoch 5: Training Loss = 0.4497, Validation Loss = 0.4589, Training Acc = 0.1225, Validation Acc = 0.1227\n",
      "Epoch 6: Training Loss = 0.4489, Validation Loss = 0.4581, Training Acc = 0.1274, Validation Acc = 0.1273\n",
      "Epoch 7: Training Loss = 0.4482, Validation Loss = 0.4572, Training Acc = 0.1319, Validation Acc = 0.1308\n",
      "Epoch 8: Training Loss = 0.4474, Validation Loss = 0.4564, Training Acc = 0.1354, Validation Acc = 0.1353\n",
      "Epoch 9: Training Loss = 0.4467, Validation Loss = 0.4556, Training Acc = 0.1391, Validation Acc = 0.1377\n",
      "Epoch 10: Training Loss = 0.4460, Validation Loss = 0.4549, Training Acc = 0.1426, Validation Acc = 0.1400\n"
     ]
    },
    {
     "data": {
      "text/html": [],
      "text/plain": [
       "<IPython.core.display.HTML object>"
      ]
     },
     "metadata": {},
     "output_type": "display_data"
    },
    {
     "data": {
      "text/html": [
       "<br>    <style><br>        .wandb-row {<br>            display: flex;<br>            flex-direction: row;<br>            flex-wrap: wrap;<br>            justify-content: flex-start;<br>            width: 100%;<br>        }<br>        .wandb-col {<br>            display: flex;<br>            flex-direction: column;<br>            flex-basis: 100%;<br>            flex: 1;<br>            padding: 10px;<br>        }<br>    </style><br><div class=\"wandb-row\"><div class=\"wandb-col\"><h3>Run history:</h3><br/><table class=\"wandb\"><tr><td>epoch</td><td>▁▂▃▃▄▅▆▆▇█</td></tr><tr><td>training_accuracy</td><td>▁▂▃▄▅▆▆▇▇█</td></tr><tr><td>training_loss</td><td>█▇▆▅▅▄▃▂▂▁</td></tr><tr><td>validation_accuracy</td><td>▁▂▃▄▅▆▆▇██</td></tr><tr><td>validation_loss</td><td>█▇▆▅▅▄▃▂▂▁</td></tr></table><br/></div><div class=\"wandb-col\"><h3>Run summary:</h3><br/><table class=\"wandb\"><tr><td>epoch</td><td>10</td></tr><tr><td>training_accuracy</td><td>0.14265</td></tr><tr><td>training_loss</td><td>0.44599</td></tr><tr><td>validation_accuracy</td><td>0.14</td></tr><tr><td>validation_loss</td><td>0.45489</td></tr></table><br/></div></div>"
      ],
      "text/plain": [
       "<IPython.core.display.HTML object>"
      ]
     },
     "metadata": {},
     "output_type": "display_data"
    },
    {
     "data": {
      "text/html": [
       " View run <strong style=\"color:#cdcd00\">lr_0.0001_ac_relu_in_xavier_op_nesterov_bs_32_L2_0.5_ep_10_nn_64_nh_3</strong> at: <a href='https://wandb.ai/cs24m037-iit-madras/DL_A1/runs/75l6dlta' target=\"_blank\">https://wandb.ai/cs24m037-iit-madras/DL_A1/runs/75l6dlta</a><br> View project at: <a href='https://wandb.ai/cs24m037-iit-madras/DL_A1' target=\"_blank\">https://wandb.ai/cs24m037-iit-madras/DL_A1</a><br>Synced 5 W&B file(s), 0 media file(s), 0 artifact file(s) and 0 other file(s)"
      ],
      "text/plain": [
       "<IPython.core.display.HTML object>"
      ]
     },
     "metadata": {},
     "output_type": "display_data"
    },
    {
     "data": {
      "text/html": [
       "Find logs at: <code>.\\wandb\\run-20250308_094607-75l6dlta\\logs</code>"
      ],
      "text/plain": [
       "<IPython.core.display.HTML object>"
      ]
     },
     "metadata": {},
     "output_type": "display_data"
    },
    {
     "name": "stderr",
     "output_type": "stream",
     "text": [
      "wandb: Agent Starting Run: s6bw3onf with config:\n",
      "wandb: \tL2_lamb: 0.0005\n",
      "wandb: \tactivation_f: tanh\n",
      "wandb: \tbatch_size: 32\n",
      "wandb: \tepochs: 5\n",
      "wandb: \tinit_mode: xavier\n",
      "wandb: \tlearning_rate: 0.001\n",
      "wandb: \tnum_hidden: 5\n",
      "wandb: \tnum_neurons: 32\n",
      "wandb: \toptimizer: nadam\n"
     ]
    },
    {
     "data": {
      "text/html": [
       "Tracking run with wandb version 0.19.7"
      ],
      "text/plain": [
       "<IPython.core.display.HTML object>"
      ]
     },
     "metadata": {},
     "output_type": "display_data"
    },
    {
     "data": {
      "text/html": [
       "Run data is saved locally in <code>c:\\Users\\RAMKUMAR\\Desktop\\iitm\\sem2\\DL\\wandb\\run-20250308_094628-s6bw3onf</code>"
      ],
      "text/plain": [
       "<IPython.core.display.HTML object>"
      ]
     },
     "metadata": {},
     "output_type": "display_data"
    },
    {
     "data": {
      "text/html": [
       "Syncing run <strong><a href='https://wandb.ai/cs24m037-iit-madras/DL_A1/runs/s6bw3onf' target=\"_blank\">noble-sweep-22</a></strong> to <a href='https://wandb.ai/cs24m037-iit-madras/DL_A1' target=\"_blank\">Weights & Biases</a> (<a href='https://wandb.me/developer-guide' target=\"_blank\">docs</a>)<br>Sweep page: <a href='https://wandb.ai/cs24m037-iit-madras/DL_A1/sweeps/zbxy6yvx' target=\"_blank\">https://wandb.ai/cs24m037-iit-madras/DL_A1/sweeps/zbxy6yvx</a>"
      ],
      "text/plain": [
       "<IPython.core.display.HTML object>"
      ]
     },
     "metadata": {},
     "output_type": "display_data"
    },
    {
     "data": {
      "text/html": [
       " View project at <a href='https://wandb.ai/cs24m037-iit-madras/DL_A1' target=\"_blank\">https://wandb.ai/cs24m037-iit-madras/DL_A1</a>"
      ],
      "text/plain": [
       "<IPython.core.display.HTML object>"
      ]
     },
     "metadata": {},
     "output_type": "display_data"
    },
    {
     "data": {
      "text/html": [
       " View sweep at <a href='https://wandb.ai/cs24m037-iit-madras/DL_A1/sweeps/zbxy6yvx' target=\"_blank\">https://wandb.ai/cs24m037-iit-madras/DL_A1/sweeps/zbxy6yvx</a>"
      ],
      "text/plain": [
       "<IPython.core.display.HTML object>"
      ]
     },
     "metadata": {},
     "output_type": "display_data"
    },
    {
     "data": {
      "text/html": [
       " View run at <a href='https://wandb.ai/cs24m037-iit-madras/DL_A1/runs/s6bw3onf' target=\"_blank\">https://wandb.ai/cs24m037-iit-madras/DL_A1/runs/s6bw3onf</a>"
      ],
      "text/plain": [
       "<IPython.core.display.HTML object>"
      ]
     },
     "metadata": {},
     "output_type": "display_data"
    },
    {
     "name": "stdout",
     "output_type": "stream",
     "text": [
      "lr_0.001_ac_tanh_in_xavier_op_nadam_bs_32_L2_0.0005_ep_5_nn_32_nh_5\n",
      "Epoch 1: Training Loss = 0.0978, Validation Loss = 0.1033, Training Acc = 0.8656, Validation Acc = 0.8562\n",
      "Epoch 2: Training Loss = 0.0898, Validation Loss = 0.0962, Training Acc = 0.8765, Validation Acc = 0.8637\n",
      "Epoch 3: Training Loss = 0.0866, Validation Loss = 0.0945, Training Acc = 0.8812, Validation Acc = 0.8670\n",
      "Epoch 4: Training Loss = 0.0837, Validation Loss = 0.0933, Training Acc = 0.8850, Validation Acc = 0.8712\n",
      "Epoch 5: Training Loss = 0.0818, Validation Loss = 0.0930, Training Acc = 0.8881, Validation Acc = 0.8718\n"
     ]
    },
    {
     "data": {
      "text/html": [],
      "text/plain": [
       "<IPython.core.display.HTML object>"
      ]
     },
     "metadata": {},
     "output_type": "display_data"
    },
    {
     "data": {
      "text/html": [
       "<br>    <style><br>        .wandb-row {<br>            display: flex;<br>            flex-direction: row;<br>            flex-wrap: wrap;<br>            justify-content: flex-start;<br>            width: 100%;<br>        }<br>        .wandb-col {<br>            display: flex;<br>            flex-direction: column;<br>            flex-basis: 100%;<br>            flex: 1;<br>            padding: 10px;<br>        }<br>    </style><br><div class=\"wandb-row\"><div class=\"wandb-col\"><h3>Run history:</h3><br/><table class=\"wandb\"><tr><td>epoch</td><td>▁▃▅▆█</td></tr><tr><td>training_accuracy</td><td>▁▄▆▇█</td></tr><tr><td>training_loss</td><td>█▄▃▂▁</td></tr><tr><td>validation_accuracy</td><td>▁▄▆██</td></tr><tr><td>validation_loss</td><td>█▃▂▁▁</td></tr></table><br/></div><div class=\"wandb-col\"><h3>Run summary:</h3><br/><table class=\"wandb\"><tr><td>epoch</td><td>5</td></tr><tr><td>training_accuracy</td><td>0.88806</td></tr><tr><td>training_loss</td><td>0.08184</td></tr><tr><td>validation_accuracy</td><td>0.87183</td></tr><tr><td>validation_loss</td><td>0.09304</td></tr></table><br/></div></div>"
      ],
      "text/plain": [
       "<IPython.core.display.HTML object>"
      ]
     },
     "metadata": {},
     "output_type": "display_data"
    },
    {
     "data": {
      "text/html": [
       " View run <strong style=\"color:#cdcd00\">lr_0.001_ac_tanh_in_xavier_op_nadam_bs_32_L2_0.0005_ep_5_nn_32_nh_5</strong> at: <a href='https://wandb.ai/cs24m037-iit-madras/DL_A1/runs/s6bw3onf' target=\"_blank\">https://wandb.ai/cs24m037-iit-madras/DL_A1/runs/s6bw3onf</a><br> View project at: <a href='https://wandb.ai/cs24m037-iit-madras/DL_A1' target=\"_blank\">https://wandb.ai/cs24m037-iit-madras/DL_A1</a><br>Synced 5 W&B file(s), 0 media file(s), 0 artifact file(s) and 0 other file(s)"
      ],
      "text/plain": [
       "<IPython.core.display.HTML object>"
      ]
     },
     "metadata": {},
     "output_type": "display_data"
    },
    {
     "data": {
      "text/html": [
       "Find logs at: <code>.\\wandb\\run-20250308_094628-s6bw3onf\\logs</code>"
      ],
      "text/plain": [
       "<IPython.core.display.HTML object>"
      ]
     },
     "metadata": {},
     "output_type": "display_data"
    },
    {
     "name": "stderr",
     "output_type": "stream",
     "text": [
      "wandb: Agent Starting Run: jajy5v11 with config:\n",
      "wandb: \tL2_lamb: 0.5\n",
      "wandb: \tactivation_f: relu\n",
      "wandb: \tbatch_size: 16\n",
      "wandb: \tepochs: 10\n",
      "wandb: \tinit_mode: xavier\n",
      "wandb: \tlearning_rate: 0.001\n",
      "wandb: \tnum_hidden: 4\n",
      "wandb: \tnum_neurons: 64\n",
      "wandb: \toptimizer: sgd\n"
     ]
    },
    {
     "data": {
      "text/html": [
       "Tracking run with wandb version 0.19.7"
      ],
      "text/plain": [
       "<IPython.core.display.HTML object>"
      ]
     },
     "metadata": {},
     "output_type": "display_data"
    },
    {
     "data": {
      "text/html": [
       "Run data is saved locally in <code>c:\\Users\\RAMKUMAR\\Desktop\\iitm\\sem2\\DL\\wandb\\run-20250308_094644-jajy5v11</code>"
      ],
      "text/plain": [
       "<IPython.core.display.HTML object>"
      ]
     },
     "metadata": {},
     "output_type": "display_data"
    },
    {
     "data": {
      "text/html": [
       "Syncing run <strong><a href='https://wandb.ai/cs24m037-iit-madras/DL_A1/runs/jajy5v11' target=\"_blank\">dark-sweep-23</a></strong> to <a href='https://wandb.ai/cs24m037-iit-madras/DL_A1' target=\"_blank\">Weights & Biases</a> (<a href='https://wandb.me/developer-guide' target=\"_blank\">docs</a>)<br>Sweep page: <a href='https://wandb.ai/cs24m037-iit-madras/DL_A1/sweeps/zbxy6yvx' target=\"_blank\">https://wandb.ai/cs24m037-iit-madras/DL_A1/sweeps/zbxy6yvx</a>"
      ],
      "text/plain": [
       "<IPython.core.display.HTML object>"
      ]
     },
     "metadata": {},
     "output_type": "display_data"
    },
    {
     "data": {
      "text/html": [
       " View project at <a href='https://wandb.ai/cs24m037-iit-madras/DL_A1' target=\"_blank\">https://wandb.ai/cs24m037-iit-madras/DL_A1</a>"
      ],
      "text/plain": [
       "<IPython.core.display.HTML object>"
      ]
     },
     "metadata": {},
     "output_type": "display_data"
    },
    {
     "data": {
      "text/html": [
       " View sweep at <a href='https://wandb.ai/cs24m037-iit-madras/DL_A1/sweeps/zbxy6yvx' target=\"_blank\">https://wandb.ai/cs24m037-iit-madras/DL_A1/sweeps/zbxy6yvx</a>"
      ],
      "text/plain": [
       "<IPython.core.display.HTML object>"
      ]
     },
     "metadata": {},
     "output_type": "display_data"
    },
    {
     "data": {
      "text/html": [
       " View run at <a href='https://wandb.ai/cs24m037-iit-madras/DL_A1/runs/jajy5v11' target=\"_blank\">https://wandb.ai/cs24m037-iit-madras/DL_A1/runs/jajy5v11</a>"
      ],
      "text/plain": [
       "<IPython.core.display.HTML object>"
      ]
     },
     "metadata": {},
     "output_type": "display_data"
    },
    {
     "name": "stdout",
     "output_type": "stream",
     "text": [
      "lr_0.001_ac_relu_in_xavier_op_sgd_bs_16_L2_0.5_ep_10_nn_64_nh_4\n",
      "Epoch 1: Training Loss = 0.4434, Validation Loss = 0.4532, Training Acc = 0.1971, Validation Acc = 0.2023\n",
      "Epoch 2: Training Loss = 0.4426, Validation Loss = 0.4505, Training Acc = 0.2054, Validation Acc = 0.2100\n",
      "Epoch 3: Training Loss = 0.4433, Validation Loss = 0.4497, Training Acc = 0.2077, Validation Acc = 0.2083\n",
      "Epoch 4: Training Loss = 0.4444, Validation Loss = 0.4496, Training Acc = 0.2298, Validation Acc = 0.2350\n",
      "Epoch 5: Training Loss = 0.4456, Validation Loss = 0.4498, Training Acc = 0.2418, Validation Acc = 0.2447\n",
      "Epoch 6: Training Loss = 0.4467, Validation Loss = 0.4501, Training Acc = 0.2364, Validation Acc = 0.2405\n",
      "Epoch 7: Training Loss = 0.4476, Validation Loss = 0.4504, Training Acc = 0.2363, Validation Acc = 0.2395\n",
      "Epoch 8: Training Loss = 0.4483, Validation Loss = 0.4506, Training Acc = 0.2674, Validation Acc = 0.2732\n",
      "Epoch 9: Training Loss = 0.4489, Validation Loss = 0.4507, Training Acc = 0.2404, Validation Acc = 0.2495\n",
      "Epoch 10: Training Loss = 0.4493, Validation Loss = 0.4508, Training Acc = 0.1249, Validation Acc = 0.1188\n"
     ]
    },
    {
     "data": {
      "text/html": [],
      "text/plain": [
       "<IPython.core.display.HTML object>"
      ]
     },
     "metadata": {},
     "output_type": "display_data"
    },
    {
     "data": {
      "text/html": [
       "<br>    <style><br>        .wandb-row {<br>            display: flex;<br>            flex-direction: row;<br>            flex-wrap: wrap;<br>            justify-content: flex-start;<br>            width: 100%;<br>        }<br>        .wandb-col {<br>            display: flex;<br>            flex-direction: column;<br>            flex-basis: 100%;<br>            flex: 1;<br>            padding: 10px;<br>        }<br>    </style><br><div class=\"wandb-row\"><div class=\"wandb-col\"><h3>Run history:</h3><br/><table class=\"wandb\"><tr><td>epoch</td><td>▁▂▃▃▄▅▆▆▇█</td></tr><tr><td>training_accuracy</td><td>▅▅▅▆▇▆▆█▇▁</td></tr><tr><td>training_loss</td><td>▂▁▂▃▄▅▆▇██</td></tr><tr><td>validation_accuracy</td><td>▅▅▅▆▇▇▆█▇▁</td></tr><tr><td>validation_loss</td><td>█▃▁▁▁▂▃▃▃▃</td></tr></table><br/></div><div class=\"wandb-col\"><h3>Run summary:</h3><br/><table class=\"wandb\"><tr><td>epoch</td><td>10</td></tr><tr><td>training_accuracy</td><td>0.12494</td></tr><tr><td>training_loss</td><td>0.4493</td></tr><tr><td>validation_accuracy</td><td>0.11883</td></tr><tr><td>validation_loss</td><td>0.45081</td></tr></table><br/></div></div>"
      ],
      "text/plain": [
       "<IPython.core.display.HTML object>"
      ]
     },
     "metadata": {},
     "output_type": "display_data"
    },
    {
     "data": {
      "text/html": [
       " View run <strong style=\"color:#cdcd00\">lr_0.001_ac_relu_in_xavier_op_sgd_bs_16_L2_0.5_ep_10_nn_64_nh_4</strong> at: <a href='https://wandb.ai/cs24m037-iit-madras/DL_A1/runs/jajy5v11' target=\"_blank\">https://wandb.ai/cs24m037-iit-madras/DL_A1/runs/jajy5v11</a><br> View project at: <a href='https://wandb.ai/cs24m037-iit-madras/DL_A1' target=\"_blank\">https://wandb.ai/cs24m037-iit-madras/DL_A1</a><br>Synced 5 W&B file(s), 0 media file(s), 0 artifact file(s) and 0 other file(s)"
      ],
      "text/plain": [
       "<IPython.core.display.HTML object>"
      ]
     },
     "metadata": {},
     "output_type": "display_data"
    },
    {
     "data": {
      "text/html": [
       "Find logs at: <code>.\\wandb\\run-20250308_094644-jajy5v11\\logs</code>"
      ],
      "text/plain": [
       "<IPython.core.display.HTML object>"
      ]
     },
     "metadata": {},
     "output_type": "display_data"
    },
    {
     "name": "stderr",
     "output_type": "stream",
     "text": [
      "wandb: Agent Starting Run: 65rvi9z5 with config:\n",
      "wandb: \tL2_lamb: 0.5\n",
      "wandb: \tactivation_f: tanh\n",
      "wandb: \tbatch_size: 16\n",
      "wandb: \tepochs: 5\n",
      "wandb: \tinit_mode: xavier\n",
      "wandb: \tlearning_rate: 0.0001\n",
      "wandb: \tnum_hidden: 5\n",
      "wandb: \tnum_neurons: 64\n",
      "wandb: \toptimizer: nesterov\n"
     ]
    },
    {
     "data": {
      "text/html": [],
      "text/plain": [
       "<IPython.core.display.HTML object>"
      ]
     },
     "metadata": {},
     "output_type": "display_data"
    },
    {
     "data": {
      "text/html": [
       "Tracking run with wandb version 0.19.7"
      ],
      "text/plain": [
       "<IPython.core.display.HTML object>"
      ]
     },
     "metadata": {},
     "output_type": "display_data"
    },
    {
     "data": {
      "text/html": [
       "Run data is saved locally in <code>c:\\Users\\RAMKUMAR\\Desktop\\iitm\\sem2\\DL\\wandb\\run-20250308_094710-65rvi9z5</code>"
      ],
      "text/plain": [
       "<IPython.core.display.HTML object>"
      ]
     },
     "metadata": {},
     "output_type": "display_data"
    },
    {
     "data": {
      "text/html": [
       "Syncing run <strong><a href='https://wandb.ai/cs24m037-iit-madras/DL_A1/runs/65rvi9z5' target=\"_blank\">lemon-sweep-24</a></strong> to <a href='https://wandb.ai/cs24m037-iit-madras/DL_A1' target=\"_blank\">Weights & Biases</a> (<a href='https://wandb.me/developer-guide' target=\"_blank\">docs</a>)<br>Sweep page: <a href='https://wandb.ai/cs24m037-iit-madras/DL_A1/sweeps/zbxy6yvx' target=\"_blank\">https://wandb.ai/cs24m037-iit-madras/DL_A1/sweeps/zbxy6yvx</a>"
      ],
      "text/plain": [
       "<IPython.core.display.HTML object>"
      ]
     },
     "metadata": {},
     "output_type": "display_data"
    },
    {
     "data": {
      "text/html": [
       " View project at <a href='https://wandb.ai/cs24m037-iit-madras/DL_A1' target=\"_blank\">https://wandb.ai/cs24m037-iit-madras/DL_A1</a>"
      ],
      "text/plain": [
       "<IPython.core.display.HTML object>"
      ]
     },
     "metadata": {},
     "output_type": "display_data"
    },
    {
     "data": {
      "text/html": [
       " View sweep at <a href='https://wandb.ai/cs24m037-iit-madras/DL_A1/sweeps/zbxy6yvx' target=\"_blank\">https://wandb.ai/cs24m037-iit-madras/DL_A1/sweeps/zbxy6yvx</a>"
      ],
      "text/plain": [
       "<IPython.core.display.HTML object>"
      ]
     },
     "metadata": {},
     "output_type": "display_data"
    },
    {
     "data": {
      "text/html": [
       " View run at <a href='https://wandb.ai/cs24m037-iit-madras/DL_A1/runs/65rvi9z5' target=\"_blank\">https://wandb.ai/cs24m037-iit-madras/DL_A1/runs/65rvi9z5</a>"
      ],
      "text/plain": [
       "<IPython.core.display.HTML object>"
      ]
     },
     "metadata": {},
     "output_type": "display_data"
    },
    {
     "name": "stdout",
     "output_type": "stream",
     "text": [
      "lr_0.0001_ac_tanh_in_xavier_op_nesterov_bs_16_L2_0.5_ep_5_nn_64_nh_5\n",
      "Epoch 1: Training Loss = 0.4471, Validation Loss = 0.4619, Training Acc = 0.2214, Validation Acc = 0.2180\n",
      "Epoch 2: Training Loss = 0.4424, Validation Loss = 0.4569, Training Acc = 0.2578, Validation Acc = 0.2555\n",
      "Epoch 3: Training Loss = 0.4378, Validation Loss = 0.4521, Training Acc = 0.2858, Validation Acc = 0.2822\n",
      "Epoch 4: Training Loss = 0.4333, Validation Loss = 0.4475, Training Acc = 0.3093, Validation Acc = 0.3027\n",
      "Epoch 5: Training Loss = 0.4291, Validation Loss = 0.4431, Training Acc = 0.3313, Validation Acc = 0.3247\n"
     ]
    },
    {
     "data": {
      "text/html": [],
      "text/plain": [
       "<IPython.core.display.HTML object>"
      ]
     },
     "metadata": {},
     "output_type": "display_data"
    },
    {
     "data": {
      "text/html": [
       "<br>    <style><br>        .wandb-row {<br>            display: flex;<br>            flex-direction: row;<br>            flex-wrap: wrap;<br>            justify-content: flex-start;<br>            width: 100%;<br>        }<br>        .wandb-col {<br>            display: flex;<br>            flex-direction: column;<br>            flex-basis: 100%;<br>            flex: 1;<br>            padding: 10px;<br>        }<br>    </style><br><div class=\"wandb-row\"><div class=\"wandb-col\"><h3>Run history:</h3><br/><table class=\"wandb\"><tr><td>epoch</td><td>▁▃▅▆█</td></tr><tr><td>training_accuracy</td><td>▁▃▅▇█</td></tr><tr><td>training_loss</td><td>█▆▄▃▁</td></tr><tr><td>validation_accuracy</td><td>▁▃▅▇█</td></tr><tr><td>validation_loss</td><td>█▆▄▃▁</td></tr></table><br/></div><div class=\"wandb-col\"><h3>Run summary:</h3><br/><table class=\"wandb\"><tr><td>epoch</td><td>5</td></tr><tr><td>training_accuracy</td><td>0.33128</td></tr><tr><td>training_loss</td><td>0.42909</td></tr><tr><td>validation_accuracy</td><td>0.32467</td></tr><tr><td>validation_loss</td><td>0.44311</td></tr></table><br/></div></div>"
      ],
      "text/plain": [
       "<IPython.core.display.HTML object>"
      ]
     },
     "metadata": {},
     "output_type": "display_data"
    },
    {
     "data": {
      "text/html": [
       " View run <strong style=\"color:#cdcd00\">lr_0.0001_ac_tanh_in_xavier_op_nesterov_bs_16_L2_0.5_ep_5_nn_64_nh_5</strong> at: <a href='https://wandb.ai/cs24m037-iit-madras/DL_A1/runs/65rvi9z5' target=\"_blank\">https://wandb.ai/cs24m037-iit-madras/DL_A1/runs/65rvi9z5</a><br> View project at: <a href='https://wandb.ai/cs24m037-iit-madras/DL_A1' target=\"_blank\">https://wandb.ai/cs24m037-iit-madras/DL_A1</a><br>Synced 5 W&B file(s), 0 media file(s), 0 artifact file(s) and 0 other file(s)"
      ],
      "text/plain": [
       "<IPython.core.display.HTML object>"
      ]
     },
     "metadata": {},
     "output_type": "display_data"
    },
    {
     "data": {
      "text/html": [
       "Find logs at: <code>.\\wandb\\run-20250308_094710-65rvi9z5\\logs</code>"
      ],
      "text/plain": [
       "<IPython.core.display.HTML object>"
      ]
     },
     "metadata": {},
     "output_type": "display_data"
    },
    {
     "name": "stderr",
     "output_type": "stream",
     "text": [
      "wandb: Agent Starting Run: xy1q9uft with config:\n",
      "wandb: \tL2_lamb: 0.5\n",
      "wandb: \tactivation_f: relu\n",
      "wandb: \tbatch_size: 64\n",
      "wandb: \tepochs: 10\n",
      "wandb: \tinit_mode: random_uniform\n",
      "wandb: \tlearning_rate: 0.001\n",
      "wandb: \tnum_hidden: 3\n",
      "wandb: \tnum_neurons: 128\n",
      "wandb: \toptimizer: sgd\n"
     ]
    },
    {
     "data": {
      "text/html": [
       "Tracking run with wandb version 0.19.7"
      ],
      "text/plain": [
       "<IPython.core.display.HTML object>"
      ]
     },
     "metadata": {},
     "output_type": "display_data"
    },
    {
     "data": {
      "text/html": [
       "Run data is saved locally in <code>c:\\Users\\RAMKUMAR\\Desktop\\iitm\\sem2\\DL\\wandb\\run-20250308_094732-xy1q9uft</code>"
      ],
      "text/plain": [
       "<IPython.core.display.HTML object>"
      ]
     },
     "metadata": {},
     "output_type": "display_data"
    },
    {
     "data": {
      "text/html": [
       "Syncing run <strong><a href='https://wandb.ai/cs24m037-iit-madras/DL_A1/runs/xy1q9uft' target=\"_blank\">dauntless-sweep-25</a></strong> to <a href='https://wandb.ai/cs24m037-iit-madras/DL_A1' target=\"_blank\">Weights & Biases</a> (<a href='https://wandb.me/developer-guide' target=\"_blank\">docs</a>)<br>Sweep page: <a href='https://wandb.ai/cs24m037-iit-madras/DL_A1/sweeps/zbxy6yvx' target=\"_blank\">https://wandb.ai/cs24m037-iit-madras/DL_A1/sweeps/zbxy6yvx</a>"
      ],
      "text/plain": [
       "<IPython.core.display.HTML object>"
      ]
     },
     "metadata": {},
     "output_type": "display_data"
    },
    {
     "data": {
      "text/html": [
       " View project at <a href='https://wandb.ai/cs24m037-iit-madras/DL_A1' target=\"_blank\">https://wandb.ai/cs24m037-iit-madras/DL_A1</a>"
      ],
      "text/plain": [
       "<IPython.core.display.HTML object>"
      ]
     },
     "metadata": {},
     "output_type": "display_data"
    },
    {
     "data": {
      "text/html": [
       " View sweep at <a href='https://wandb.ai/cs24m037-iit-madras/DL_A1/sweeps/zbxy6yvx' target=\"_blank\">https://wandb.ai/cs24m037-iit-madras/DL_A1/sweeps/zbxy6yvx</a>"
      ],
      "text/plain": [
       "<IPython.core.display.HTML object>"
      ]
     },
     "metadata": {},
     "output_type": "display_data"
    },
    {
     "data": {
      "text/html": [
       " View run at <a href='https://wandb.ai/cs24m037-iit-madras/DL_A1/runs/xy1q9uft' target=\"_blank\">https://wandb.ai/cs24m037-iit-madras/DL_A1/runs/xy1q9uft</a>"
      ],
      "text/plain": [
       "<IPython.core.display.HTML object>"
      ]
     },
     "metadata": {},
     "output_type": "display_data"
    },
    {
     "name": "stdout",
     "output_type": "stream",
     "text": [
      "lr_0.001_ac_relu_in_random_uniform_op_sgd_bs_64_L2_0.5_ep_10_nn_128_nh_3\n",
      "Epoch 1: Training Loss = 0.4489, Validation Loss = 0.4490, Training Acc = 0.1002, Validation Acc = 0.0983\n",
      "Epoch 2: Training Loss = 0.4481, Validation Loss = 0.4481, Training Acc = 0.0998, Validation Acc = 0.1018\n",
      "Epoch 3: Training Loss = 0.4477, Validation Loss = 0.4476, Training Acc = 0.0995, Validation Acc = 0.1045\n",
      "Epoch 4: Training Loss = 0.4474, Validation Loss = 0.4473, Training Acc = 0.0995, Validation Acc = 0.1045\n",
      "Epoch 5: Training Loss = 0.4472, Validation Loss = 0.4470, Training Acc = 0.0995, Validation Acc = 0.1045\n",
      "Epoch 6: Training Loss = 0.4470, Validation Loss = 0.4469, Training Acc = 0.0995, Validation Acc = 0.1045\n",
      "Epoch 7: Training Loss = 0.4469, Validation Loss = 0.4468, Training Acc = 0.0995, Validation Acc = 0.1045\n",
      "Epoch 8: Training Loss = 0.4469, Validation Loss = 0.4467, Training Acc = 0.0995, Validation Acc = 0.1045\n",
      "Epoch 9: Training Loss = 0.4468, Validation Loss = 0.4466, Training Acc = 0.0995, Validation Acc = 0.1045\n",
      "Epoch 10: Training Loss = 0.4467, Validation Loss = 0.4465, Training Acc = 0.0995, Validation Acc = 0.1045\n"
     ]
    },
    {
     "data": {
      "text/html": [],
      "text/plain": [
       "<IPython.core.display.HTML object>"
      ]
     },
     "metadata": {},
     "output_type": "display_data"
    },
    {
     "data": {
      "text/html": [
       "<br>    <style><br>        .wandb-row {<br>            display: flex;<br>            flex-direction: row;<br>            flex-wrap: wrap;<br>            justify-content: flex-start;<br>            width: 100%;<br>        }<br>        .wandb-col {<br>            display: flex;<br>            flex-direction: column;<br>            flex-basis: 100%;<br>            flex: 1;<br>            padding: 10px;<br>        }<br>    </style><br><div class=\"wandb-row\"><div class=\"wandb-col\"><h3>Run history:</h3><br/><table class=\"wandb\"><tr><td>epoch</td><td>▁▂▃▃▄▅▆▆▇█</td></tr><tr><td>training_accuracy</td><td>█▄▁▁▁▁▁▁▁▁</td></tr><tr><td>training_loss</td><td>█▆▄▃▂▂▂▁▁▁</td></tr><tr><td>validation_accuracy</td><td>▁▅████████</td></tr><tr><td>validation_loss</td><td>█▆▄▃▃▂▂▁▁▁</td></tr></table><br/></div><div class=\"wandb-col\"><h3>Run summary:</h3><br/><table class=\"wandb\"><tr><td>epoch</td><td>10</td></tr><tr><td>training_accuracy</td><td>0.0995</td></tr><tr><td>training_loss</td><td>0.44673</td></tr><tr><td>validation_accuracy</td><td>0.1045</td></tr><tr><td>validation_loss</td><td>0.4465</td></tr></table><br/></div></div>"
      ],
      "text/plain": [
       "<IPython.core.display.HTML object>"
      ]
     },
     "metadata": {},
     "output_type": "display_data"
    },
    {
     "data": {
      "text/html": [
       " View run <strong style=\"color:#cdcd00\">lr_0.001_ac_relu_in_random_uniform_op_sgd_bs_64_L2_0.5_ep_10_nn_128_nh_3</strong> at: <a href='https://wandb.ai/cs24m037-iit-madras/DL_A1/runs/xy1q9uft' target=\"_blank\">https://wandb.ai/cs24m037-iit-madras/DL_A1/runs/xy1q9uft</a><br> View project at: <a href='https://wandb.ai/cs24m037-iit-madras/DL_A1' target=\"_blank\">https://wandb.ai/cs24m037-iit-madras/DL_A1</a><br>Synced 5 W&B file(s), 0 media file(s), 0 artifact file(s) and 0 other file(s)"
      ],
      "text/plain": [
       "<IPython.core.display.HTML object>"
      ]
     },
     "metadata": {},
     "output_type": "display_data"
    },
    {
     "data": {
      "text/html": [
       "Find logs at: <code>.\\wandb\\run-20250308_094732-xy1q9uft\\logs</code>"
      ],
      "text/plain": [
       "<IPython.core.display.HTML object>"
      ]
     },
     "metadata": {},
     "output_type": "display_data"
    },
    {
     "name": "stderr",
     "output_type": "stream",
     "text": [
      "wandb: Agent Starting Run: vx5ejh6u with config:\n",
      "wandb: \tL2_lamb: 0.5\n",
      "wandb: \tactivation_f: relu\n",
      "wandb: \tbatch_size: 16\n",
      "wandb: \tepochs: 5\n",
      "wandb: \tinit_mode: xavier\n",
      "wandb: \tlearning_rate: 0.0001\n",
      "wandb: \tnum_hidden: 4\n",
      "wandb: \tnum_neurons: 128\n",
      "wandb: \toptimizer: nadam\n"
     ]
    },
    {
     "data": {
      "text/html": [
       "Tracking run with wandb version 0.19.7"
      ],
      "text/plain": [
       "<IPython.core.display.HTML object>"
      ]
     },
     "metadata": {},
     "output_type": "display_data"
    },
    {
     "data": {
      "text/html": [
       "Run data is saved locally in <code>c:\\Users\\RAMKUMAR\\Desktop\\iitm\\sem2\\DL\\wandb\\run-20250308_094753-vx5ejh6u</code>"
      ],
      "text/plain": [
       "<IPython.core.display.HTML object>"
      ]
     },
     "metadata": {},
     "output_type": "display_data"
    },
    {
     "data": {
      "text/html": [
       "Syncing run <strong><a href='https://wandb.ai/cs24m037-iit-madras/DL_A1/runs/vx5ejh6u' target=\"_blank\">valiant-sweep-26</a></strong> to <a href='https://wandb.ai/cs24m037-iit-madras/DL_A1' target=\"_blank\">Weights & Biases</a> (<a href='https://wandb.me/developer-guide' target=\"_blank\">docs</a>)<br>Sweep page: <a href='https://wandb.ai/cs24m037-iit-madras/DL_A1/sweeps/zbxy6yvx' target=\"_blank\">https://wandb.ai/cs24m037-iit-madras/DL_A1/sweeps/zbxy6yvx</a>"
      ],
      "text/plain": [
       "<IPython.core.display.HTML object>"
      ]
     },
     "metadata": {},
     "output_type": "display_data"
    },
    {
     "data": {
      "text/html": [
       " View project at <a href='https://wandb.ai/cs24m037-iit-madras/DL_A1' target=\"_blank\">https://wandb.ai/cs24m037-iit-madras/DL_A1</a>"
      ],
      "text/plain": [
       "<IPython.core.display.HTML object>"
      ]
     },
     "metadata": {},
     "output_type": "display_data"
    },
    {
     "data": {
      "text/html": [
       " View sweep at <a href='https://wandb.ai/cs24m037-iit-madras/DL_A1/sweeps/zbxy6yvx' target=\"_blank\">https://wandb.ai/cs24m037-iit-madras/DL_A1/sweeps/zbxy6yvx</a>"
      ],
      "text/plain": [
       "<IPython.core.display.HTML object>"
      ]
     },
     "metadata": {},
     "output_type": "display_data"
    },
    {
     "data": {
      "text/html": [
       " View run at <a href='https://wandb.ai/cs24m037-iit-madras/DL_A1/runs/vx5ejh6u' target=\"_blank\">https://wandb.ai/cs24m037-iit-madras/DL_A1/runs/vx5ejh6u</a>"
      ],
      "text/plain": [
       "<IPython.core.display.HTML object>"
      ]
     },
     "metadata": {},
     "output_type": "display_data"
    },
    {
     "name": "stdout",
     "output_type": "stream",
     "text": [
      "lr_0.0001_ac_relu_in_xavier_op_nadam_bs_16_L2_0.5_ep_5_nn_128_nh_4\n",
      "Epoch 1: Training Loss = 0.3502, Validation Loss = 0.3502, Training Acc = 0.3641, Validation Acc = 0.3680\n",
      "Epoch 2: Training Loss = 0.3319, Validation Loss = 0.3319, Training Acc = 0.4261, Validation Acc = 0.4312\n",
      "Epoch 3: Training Loss = 0.3255, Validation Loss = 0.3255, Training Acc = 0.4387, Validation Acc = 0.4430\n",
      "Epoch 4: Training Loss = 0.3229, Validation Loss = 0.3229, Training Acc = 0.4431, Validation Acc = 0.4482\n",
      "Epoch 5: Training Loss = 0.3214, Validation Loss = 0.3214, Training Acc = 0.4464, Validation Acc = 0.4532\n"
     ]
    },
    {
     "data": {
      "text/html": [],
      "text/plain": [
       "<IPython.core.display.HTML object>"
      ]
     },
     "metadata": {},
     "output_type": "display_data"
    },
    {
     "data": {
      "text/html": [
       "<br>    <style><br>        .wandb-row {<br>            display: flex;<br>            flex-direction: row;<br>            flex-wrap: wrap;<br>            justify-content: flex-start;<br>            width: 100%;<br>        }<br>        .wandb-col {<br>            display: flex;<br>            flex-direction: column;<br>            flex-basis: 100%;<br>            flex: 1;<br>            padding: 10px;<br>        }<br>    </style><br><div class=\"wandb-row\"><div class=\"wandb-col\"><h3>Run history:</h3><br/><table class=\"wandb\"><tr><td>epoch</td><td>▁▃▅▆█</td></tr><tr><td>training_accuracy</td><td>▁▆▇██</td></tr><tr><td>training_loss</td><td>█▄▂▁▁</td></tr><tr><td>validation_accuracy</td><td>▁▆▇██</td></tr><tr><td>validation_loss</td><td>█▄▂▁▁</td></tr></table><br/></div><div class=\"wandb-col\"><h3>Run summary:</h3><br/><table class=\"wandb\"><tr><td>epoch</td><td>5</td></tr><tr><td>training_accuracy</td><td>0.44644</td></tr><tr><td>training_loss</td><td>0.32141</td></tr><tr><td>validation_accuracy</td><td>0.45317</td></tr><tr><td>validation_loss</td><td>0.32145</td></tr></table><br/></div></div>"
      ],
      "text/plain": [
       "<IPython.core.display.HTML object>"
      ]
     },
     "metadata": {},
     "output_type": "display_data"
    },
    {
     "data": {
      "text/html": [
       " View run <strong style=\"color:#cdcd00\">lr_0.0001_ac_relu_in_xavier_op_nadam_bs_16_L2_0.5_ep_5_nn_128_nh_4</strong> at: <a href='https://wandb.ai/cs24m037-iit-madras/DL_A1/runs/vx5ejh6u' target=\"_blank\">https://wandb.ai/cs24m037-iit-madras/DL_A1/runs/vx5ejh6u</a><br> View project at: <a href='https://wandb.ai/cs24m037-iit-madras/DL_A1' target=\"_blank\">https://wandb.ai/cs24m037-iit-madras/DL_A1</a><br>Synced 5 W&B file(s), 0 media file(s), 0 artifact file(s) and 0 other file(s)"
      ],
      "text/plain": [
       "<IPython.core.display.HTML object>"
      ]
     },
     "metadata": {},
     "output_type": "display_data"
    },
    {
     "data": {
      "text/html": [
       "Find logs at: <code>.\\wandb\\run-20250308_094753-vx5ejh6u\\logs</code>"
      ],
      "text/plain": [
       "<IPython.core.display.HTML object>"
      ]
     },
     "metadata": {},
     "output_type": "display_data"
    },
    {
     "name": "stderr",
     "output_type": "stream",
     "text": [
      "wandb: Agent Starting Run: 67jxc7wh with config:\n",
      "wandb: \tL2_lamb: 0.0005\n",
      "wandb: \tactivation_f: sigmoid\n",
      "wandb: \tbatch_size: 16\n",
      "wandb: \tepochs: 10\n",
      "wandb: \tinit_mode: xavier\n",
      "wandb: \tlearning_rate: 0.001\n",
      "wandb: \tnum_hidden: 4\n",
      "wandb: \tnum_neurons: 64\n",
      "wandb: \toptimizer: nesterov\n"
     ]
    },
    {
     "data": {
      "text/html": [
       "Tracking run with wandb version 0.19.7"
      ],
      "text/plain": [
       "<IPython.core.display.HTML object>"
      ]
     },
     "metadata": {},
     "output_type": "display_data"
    },
    {
     "data": {
      "text/html": [
       "Run data is saved locally in <code>c:\\Users\\RAMKUMAR\\Desktop\\iitm\\sem2\\DL\\wandb\\run-20250308_094841-67jxc7wh</code>"
      ],
      "text/plain": [
       "<IPython.core.display.HTML object>"
      ]
     },
     "metadata": {},
     "output_type": "display_data"
    },
    {
     "data": {
      "text/html": [
       "Syncing run <strong><a href='https://wandb.ai/cs24m037-iit-madras/DL_A1/runs/67jxc7wh' target=\"_blank\">scarlet-sweep-27</a></strong> to <a href='https://wandb.ai/cs24m037-iit-madras/DL_A1' target=\"_blank\">Weights & Biases</a> (<a href='https://wandb.me/developer-guide' target=\"_blank\">docs</a>)<br>Sweep page: <a href='https://wandb.ai/cs24m037-iit-madras/DL_A1/sweeps/zbxy6yvx' target=\"_blank\">https://wandb.ai/cs24m037-iit-madras/DL_A1/sweeps/zbxy6yvx</a>"
      ],
      "text/plain": [
       "<IPython.core.display.HTML object>"
      ]
     },
     "metadata": {},
     "output_type": "display_data"
    },
    {
     "data": {
      "text/html": [
       " View project at <a href='https://wandb.ai/cs24m037-iit-madras/DL_A1' target=\"_blank\">https://wandb.ai/cs24m037-iit-madras/DL_A1</a>"
      ],
      "text/plain": [
       "<IPython.core.display.HTML object>"
      ]
     },
     "metadata": {},
     "output_type": "display_data"
    },
    {
     "data": {
      "text/html": [
       " View sweep at <a href='https://wandb.ai/cs24m037-iit-madras/DL_A1/sweeps/zbxy6yvx' target=\"_blank\">https://wandb.ai/cs24m037-iit-madras/DL_A1/sweeps/zbxy6yvx</a>"
      ],
      "text/plain": [
       "<IPython.core.display.HTML object>"
      ]
     },
     "metadata": {},
     "output_type": "display_data"
    },
    {
     "data": {
      "text/html": [
       " View run at <a href='https://wandb.ai/cs24m037-iit-madras/DL_A1/runs/67jxc7wh' target=\"_blank\">https://wandb.ai/cs24m037-iit-madras/DL_A1/runs/67jxc7wh</a>"
      ],
      "text/plain": [
       "<IPython.core.display.HTML object>"
      ]
     },
     "metadata": {},
     "output_type": "display_data"
    },
    {
     "name": "stdout",
     "output_type": "stream",
     "text": [
      "lr_0.001_ac_sigmoid_in_xavier_op_nesterov_bs_16_L2_0.0005_ep_10_nn_64_nh_4\n",
      "Epoch 1: Training Loss = 0.4527, Validation Loss = 0.4530, Training Acc = 0.0996, Validation Acc = 0.1032\n",
      "Epoch 2: Training Loss = 0.4508, Validation Loss = 0.4510, Training Acc = 0.0996, Validation Acc = 0.1032\n",
      "Epoch 3: Training Loss = 0.4503, Validation Loss = 0.4504, Training Acc = 0.0996, Validation Acc = 0.1032\n",
      "Epoch 4: Training Loss = 0.4500, Validation Loss = 0.4501, Training Acc = 0.0996, Validation Acc = 0.1032\n",
      "Epoch 5: Training Loss = 0.4500, Validation Loss = 0.4500, Training Acc = 0.0994, Validation Acc = 0.1032\n",
      "Epoch 6: Training Loss = 0.4499, Validation Loss = 0.4500, Training Acc = 0.1043, Validation Acc = 0.1022\n",
      "Epoch 7: Training Loss = 0.4499, Validation Loss = 0.4500, Training Acc = 0.0966, Validation Acc = 0.0878\n",
      "Epoch 8: Training Loss = 0.4499, Validation Loss = 0.4499, Training Acc = 0.1010, Validation Acc = 0.0915\n",
      "Epoch 9: Training Loss = 0.4499, Validation Loss = 0.4499, Training Acc = 0.1010, Validation Acc = 0.0915\n",
      "Epoch 10: Training Loss = 0.4499, Validation Loss = 0.4499, Training Acc = 0.1009, Validation Acc = 0.0917\n"
     ]
    },
    {
     "data": {
      "text/html": [],
      "text/plain": [
       "<IPython.core.display.HTML object>"
      ]
     },
     "metadata": {},
     "output_type": "display_data"
    },
    {
     "data": {
      "text/html": [
       "<br>    <style><br>        .wandb-row {<br>            display: flex;<br>            flex-direction: row;<br>            flex-wrap: wrap;<br>            justify-content: flex-start;<br>            width: 100%;<br>        }<br>        .wandb-col {<br>            display: flex;<br>            flex-direction: column;<br>            flex-basis: 100%;<br>            flex: 1;<br>            padding: 10px;<br>        }<br>    </style><br><div class=\"wandb-row\"><div class=\"wandb-col\"><h3>Run history:</h3><br/><table class=\"wandb\"><tr><td>epoch</td><td>▁▂▃▃▄▅▆▆▇█</td></tr><tr><td>training_accuracy</td><td>▄▄▄▄▄█▁▅▅▅</td></tr><tr><td>training_loss</td><td>█▃▂▁▁▁▁▁▁▁</td></tr><tr><td>validation_accuracy</td><td>██████▁▃▃▃</td></tr><tr><td>validation_loss</td><td>█▄▂▁▁▁▁▁▁▁</td></tr></table><br/></div><div class=\"wandb-col\"><h3>Run summary:</h3><br/><table class=\"wandb\"><tr><td>epoch</td><td>10</td></tr><tr><td>training_accuracy</td><td>0.10091</td></tr><tr><td>training_loss</td><td>0.44991</td></tr><tr><td>validation_accuracy</td><td>0.09167</td></tr><tr><td>validation_loss</td><td>0.44994</td></tr></table><br/></div></div>"
      ],
      "text/plain": [
       "<IPython.core.display.HTML object>"
      ]
     },
     "metadata": {},
     "output_type": "display_data"
    },
    {
     "data": {
      "text/html": [
       " View run <strong style=\"color:#cdcd00\">lr_0.001_ac_sigmoid_in_xavier_op_nesterov_bs_16_L2_0.0005_ep_10_nn_64_nh_4</strong> at: <a href='https://wandb.ai/cs24m037-iit-madras/DL_A1/runs/67jxc7wh' target=\"_blank\">https://wandb.ai/cs24m037-iit-madras/DL_A1/runs/67jxc7wh</a><br> View project at: <a href='https://wandb.ai/cs24m037-iit-madras/DL_A1' target=\"_blank\">https://wandb.ai/cs24m037-iit-madras/DL_A1</a><br>Synced 5 W&B file(s), 0 media file(s), 0 artifact file(s) and 0 other file(s)"
      ],
      "text/plain": [
       "<IPython.core.display.HTML object>"
      ]
     },
     "metadata": {},
     "output_type": "display_data"
    },
    {
     "data": {
      "text/html": [
       "Find logs at: <code>.\\wandb\\run-20250308_094841-67jxc7wh\\logs</code>"
      ],
      "text/plain": [
       "<IPython.core.display.HTML object>"
      ]
     },
     "metadata": {},
     "output_type": "display_data"
    },
    {
     "name": "stderr",
     "output_type": "stream",
     "text": [
      "wandb: Agent Starting Run: pjsb3lb2 with config:\n",
      "wandb: \tL2_lamb: 0.0005\n",
      "wandb: \tactivation_f: sigmoid\n",
      "wandb: \tbatch_size: 16\n",
      "wandb: \tepochs: 5\n",
      "wandb: \tinit_mode: random_uniform\n",
      "wandb: \tlearning_rate: 0.0001\n",
      "wandb: \tnum_hidden: 5\n",
      "wandb: \tnum_neurons: 128\n",
      "wandb: \toptimizer: nadam\n"
     ]
    },
    {
     "data": {
      "text/html": [
       "Tracking run with wandb version 0.19.7"
      ],
      "text/plain": [
       "<IPython.core.display.HTML object>"
      ]
     },
     "metadata": {},
     "output_type": "display_data"
    },
    {
     "data": {
      "text/html": [
       "Run data is saved locally in <code>c:\\Users\\RAMKUMAR\\Desktop\\iitm\\sem2\\DL\\wandb\\run-20250308_094917-pjsb3lb2</code>"
      ],
      "text/plain": [
       "<IPython.core.display.HTML object>"
      ]
     },
     "metadata": {},
     "output_type": "display_data"
    },
    {
     "data": {
      "text/html": [
       "Syncing run <strong><a href='https://wandb.ai/cs24m037-iit-madras/DL_A1/runs/pjsb3lb2' target=\"_blank\">colorful-sweep-28</a></strong> to <a href='https://wandb.ai/cs24m037-iit-madras/DL_A1' target=\"_blank\">Weights & Biases</a> (<a href='https://wandb.me/developer-guide' target=\"_blank\">docs</a>)<br>Sweep page: <a href='https://wandb.ai/cs24m037-iit-madras/DL_A1/sweeps/zbxy6yvx' target=\"_blank\">https://wandb.ai/cs24m037-iit-madras/DL_A1/sweeps/zbxy6yvx</a>"
      ],
      "text/plain": [
       "<IPython.core.display.HTML object>"
      ]
     },
     "metadata": {},
     "output_type": "display_data"
    },
    {
     "data": {
      "text/html": [
       " View project at <a href='https://wandb.ai/cs24m037-iit-madras/DL_A1' target=\"_blank\">https://wandb.ai/cs24m037-iit-madras/DL_A1</a>"
      ],
      "text/plain": [
       "<IPython.core.display.HTML object>"
      ]
     },
     "metadata": {},
     "output_type": "display_data"
    },
    {
     "data": {
      "text/html": [
       " View sweep at <a href='https://wandb.ai/cs24m037-iit-madras/DL_A1/sweeps/zbxy6yvx' target=\"_blank\">https://wandb.ai/cs24m037-iit-madras/DL_A1/sweeps/zbxy6yvx</a>"
      ],
      "text/plain": [
       "<IPython.core.display.HTML object>"
      ]
     },
     "metadata": {},
     "output_type": "display_data"
    },
    {
     "data": {
      "text/html": [
       " View run at <a href='https://wandb.ai/cs24m037-iit-madras/DL_A1/runs/pjsb3lb2' target=\"_blank\">https://wandb.ai/cs24m037-iit-madras/DL_A1/runs/pjsb3lb2</a>"
      ],
      "text/plain": [
       "<IPython.core.display.HTML object>"
      ]
     },
     "metadata": {},
     "output_type": "display_data"
    },
    {
     "name": "stdout",
     "output_type": "stream",
     "text": [
      "lr_0.0001_ac_sigmoid_in_random_uniform_op_nadam_bs_16_L2_0.0005_ep_5_nn_128_nh_5\n",
      "Epoch 1: Training Loss = 0.4500, Validation Loss = 0.4500, Training Acc = 0.0996, Validation Acc = 0.1035\n",
      "Epoch 2: Training Loss = 0.4500, Validation Loss = 0.4500, Training Acc = 0.0996, Validation Acc = 0.1035\n",
      "Epoch 3: Training Loss = 0.4500, Validation Loss = 0.4500, Training Acc = 0.0996, Validation Acc = 0.1035\n",
      "Epoch 4: Training Loss = 0.4500, Validation Loss = 0.4500, Training Acc = 0.0996, Validation Acc = 0.1035\n",
      "Epoch 5: Training Loss = 0.4500, Validation Loss = 0.4500, Training Acc = 0.0996, Validation Acc = 0.1035\n"
     ]
    },
    {
     "data": {
      "text/html": [],
      "text/plain": [
       "<IPython.core.display.HTML object>"
      ]
     },
     "metadata": {},
     "output_type": "display_data"
    },
    {
     "data": {
      "text/html": [
       "<br>    <style><br>        .wandb-row {<br>            display: flex;<br>            flex-direction: row;<br>            flex-wrap: wrap;<br>            justify-content: flex-start;<br>            width: 100%;<br>        }<br>        .wandb-col {<br>            display: flex;<br>            flex-direction: column;<br>            flex-basis: 100%;<br>            flex: 1;<br>            padding: 10px;<br>        }<br>    </style><br><div class=\"wandb-row\"><div class=\"wandb-col\"><h3>Run history:</h3><br/><table class=\"wandb\"><tr><td>epoch</td><td>▁▃▅▆█</td></tr><tr><td>training_accuracy</td><td>▁▁▁▁▁</td></tr><tr><td>training_loss</td><td>█▁▂▃▅</td></tr><tr><td>validation_accuracy</td><td>▁▁▁▁▁</td></tr><tr><td>validation_loss</td><td>▁█▆▃▁</td></tr></table><br/></div><div class=\"wandb-col\"><h3>Run summary:</h3><br/><table class=\"wandb\"><tr><td>epoch</td><td>5</td></tr><tr><td>training_accuracy</td><td>0.09961</td></tr><tr><td>training_loss</td><td>0.45002</td></tr><tr><td>validation_accuracy</td><td>0.1035</td></tr><tr><td>validation_loss</td><td>0.44998</td></tr></table><br/></div></div>"
      ],
      "text/plain": [
       "<IPython.core.display.HTML object>"
      ]
     },
     "metadata": {},
     "output_type": "display_data"
    },
    {
     "data": {
      "text/html": [
       " View run <strong style=\"color:#cdcd00\">lr_0.0001_ac_sigmoid_in_random_uniform_op_nadam_bs_16_L2_0.0005_ep_5_nn_128_nh_5</strong> at: <a href='https://wandb.ai/cs24m037-iit-madras/DL_A1/runs/pjsb3lb2' target=\"_blank\">https://wandb.ai/cs24m037-iit-madras/DL_A1/runs/pjsb3lb2</a><br> View project at: <a href='https://wandb.ai/cs24m037-iit-madras/DL_A1' target=\"_blank\">https://wandb.ai/cs24m037-iit-madras/DL_A1</a><br>Synced 5 W&B file(s), 0 media file(s), 0 artifact file(s) and 0 other file(s)"
      ],
      "text/plain": [
       "<IPython.core.display.HTML object>"
      ]
     },
     "metadata": {},
     "output_type": "display_data"
    },
    {
     "data": {
      "text/html": [
       "Find logs at: <code>.\\wandb\\run-20250308_094917-pjsb3lb2\\logs</code>"
      ],
      "text/plain": [
       "<IPython.core.display.HTML object>"
      ]
     },
     "metadata": {},
     "output_type": "display_data"
    },
    {
     "name": "stderr",
     "output_type": "stream",
     "text": [
      "wandb: Agent Starting Run: gd7owdwo with config:\n",
      "wandb: \tL2_lamb: 0\n",
      "wandb: \tactivation_f: tanh\n",
      "wandb: \tbatch_size: 64\n",
      "wandb: \tepochs: 5\n",
      "wandb: \tinit_mode: random_uniform\n",
      "wandb: \tlearning_rate: 0.001\n",
      "wandb: \tnum_hidden: 5\n",
      "wandb: \tnum_neurons: 64\n",
      "wandb: \toptimizer: sgd\n"
     ]
    },
    {
     "data": {
      "text/html": [
       "Tracking run with wandb version 0.19.7"
      ],
      "text/plain": [
       "<IPython.core.display.HTML object>"
      ]
     },
     "metadata": {},
     "output_type": "display_data"
    },
    {
     "data": {
      "text/html": [
       "Run data is saved locally in <code>c:\\Users\\RAMKUMAR\\Desktop\\iitm\\sem2\\DL\\wandb\\run-20250308_095010-gd7owdwo</code>"
      ],
      "text/plain": [
       "<IPython.core.display.HTML object>"
      ]
     },
     "metadata": {},
     "output_type": "display_data"
    },
    {
     "data": {
      "text/html": [
       "Syncing run <strong><a href='https://wandb.ai/cs24m037-iit-madras/DL_A1/runs/gd7owdwo' target=\"_blank\">bumbling-sweep-29</a></strong> to <a href='https://wandb.ai/cs24m037-iit-madras/DL_A1' target=\"_blank\">Weights & Biases</a> (<a href='https://wandb.me/developer-guide' target=\"_blank\">docs</a>)<br>Sweep page: <a href='https://wandb.ai/cs24m037-iit-madras/DL_A1/sweeps/zbxy6yvx' target=\"_blank\">https://wandb.ai/cs24m037-iit-madras/DL_A1/sweeps/zbxy6yvx</a>"
      ],
      "text/plain": [
       "<IPython.core.display.HTML object>"
      ]
     },
     "metadata": {},
     "output_type": "display_data"
    },
    {
     "data": {
      "text/html": [
       " View project at <a href='https://wandb.ai/cs24m037-iit-madras/DL_A1' target=\"_blank\">https://wandb.ai/cs24m037-iit-madras/DL_A1</a>"
      ],
      "text/plain": [
       "<IPython.core.display.HTML object>"
      ]
     },
     "metadata": {},
     "output_type": "display_data"
    },
    {
     "data": {
      "text/html": [
       " View sweep at <a href='https://wandb.ai/cs24m037-iit-madras/DL_A1/sweeps/zbxy6yvx' target=\"_blank\">https://wandb.ai/cs24m037-iit-madras/DL_A1/sweeps/zbxy6yvx</a>"
      ],
      "text/plain": [
       "<IPython.core.display.HTML object>"
      ]
     },
     "metadata": {},
     "output_type": "display_data"
    },
    {
     "data": {
      "text/html": [
       " View run at <a href='https://wandb.ai/cs24m037-iit-madras/DL_A1/runs/gd7owdwo' target=\"_blank\">https://wandb.ai/cs24m037-iit-madras/DL_A1/runs/gd7owdwo</a>"
      ],
      "text/plain": [
       "<IPython.core.display.HTML object>"
      ]
     },
     "metadata": {},
     "output_type": "display_data"
    },
    {
     "name": "stdout",
     "output_type": "stream",
     "text": [
      "lr_0.001_ac_tanh_in_random_uniform_op_sgd_bs_64_L2_0_ep_5_nn_64_nh_5\n",
      "Epoch 1: Training Loss = 0.4500, Validation Loss = 0.4500, Training Acc = 0.1001, Validation Acc = 0.0995\n",
      "Epoch 2: Training Loss = 0.4500, Validation Loss = 0.4500, Training Acc = 0.1007, Validation Acc = 0.1003\n",
      "Epoch 3: Training Loss = 0.4500, Validation Loss = 0.4500, Training Acc = 0.1060, Validation Acc = 0.1050\n",
      "Epoch 4: Training Loss = 0.4500, Validation Loss = 0.4500, Training Acc = 0.1252, Validation Acc = 0.1232\n",
      "Epoch 5: Training Loss = 0.4500, Validation Loss = 0.4500, Training Acc = 0.1526, Validation Acc = 0.1443\n"
     ]
    },
    {
     "data": {
      "text/html": [],
      "text/plain": [
       "<IPython.core.display.HTML object>"
      ]
     },
     "metadata": {},
     "output_type": "display_data"
    },
    {
     "data": {
      "text/html": [
       "<br>    <style><br>        .wandb-row {<br>            display: flex;<br>            flex-direction: row;<br>            flex-wrap: wrap;<br>            justify-content: flex-start;<br>            width: 100%;<br>        }<br>        .wandb-col {<br>            display: flex;<br>            flex-direction: column;<br>            flex-basis: 100%;<br>            flex: 1;<br>            padding: 10px;<br>        }<br>    </style><br><div class=\"wandb-row\"><div class=\"wandb-col\"><h3>Run history:</h3><br/><table class=\"wandb\"><tr><td>epoch</td><td>▁▃▅▆█</td></tr><tr><td>training_accuracy</td><td>▁▁▂▄█</td></tr><tr><td>training_loss</td><td>█▆▅▃▁</td></tr><tr><td>validation_accuracy</td><td>▁▁▂▅█</td></tr><tr><td>validation_loss</td><td>▁▃▃▆█</td></tr></table><br/></div><div class=\"wandb-col\"><h3>Run summary:</h3><br/><table class=\"wandb\"><tr><td>epoch</td><td>5</td></tr><tr><td>training_accuracy</td><td>0.15265</td></tr><tr><td>training_loss</td><td>0.45</td></tr><tr><td>validation_accuracy</td><td>0.14433</td></tr><tr><td>validation_loss</td><td>0.45</td></tr></table><br/></div></div>"
      ],
      "text/plain": [
       "<IPython.core.display.HTML object>"
      ]
     },
     "metadata": {},
     "output_type": "display_data"
    },
    {
     "data": {
      "text/html": [
       " View run <strong style=\"color:#cdcd00\">lr_0.001_ac_tanh_in_random_uniform_op_sgd_bs_64_L2_0_ep_5_nn_64_nh_5</strong> at: <a href='https://wandb.ai/cs24m037-iit-madras/DL_A1/runs/gd7owdwo' target=\"_blank\">https://wandb.ai/cs24m037-iit-madras/DL_A1/runs/gd7owdwo</a><br> View project at: <a href='https://wandb.ai/cs24m037-iit-madras/DL_A1' target=\"_blank\">https://wandb.ai/cs24m037-iit-madras/DL_A1</a><br>Synced 5 W&B file(s), 0 media file(s), 0 artifact file(s) and 0 other file(s)"
      ],
      "text/plain": [
       "<IPython.core.display.HTML object>"
      ]
     },
     "metadata": {},
     "output_type": "display_data"
    },
    {
     "data": {
      "text/html": [
       "Find logs at: <code>.\\wandb\\run-20250308_095010-gd7owdwo\\logs</code>"
      ],
      "text/plain": [
       "<IPython.core.display.HTML object>"
      ]
     },
     "metadata": {},
     "output_type": "display_data"
    },
    {
     "name": "stderr",
     "output_type": "stream",
     "text": [
      "wandb: Agent Starting Run: l974mqjb with config:\n",
      "wandb: \tL2_lamb: 0.5\n",
      "wandb: \tactivation_f: tanh\n",
      "wandb: \tbatch_size: 64\n",
      "wandb: \tepochs: 5\n",
      "wandb: \tinit_mode: random_uniform\n",
      "wandb: \tlearning_rate: 0.0001\n",
      "wandb: \tnum_hidden: 4\n",
      "wandb: \tnum_neurons: 32\n",
      "wandb: \toptimizer: momentum\n"
     ]
    },
    {
     "data": {
      "text/html": [
       "Tracking run with wandb version 0.19.7"
      ],
      "text/plain": [
       "<IPython.core.display.HTML object>"
      ]
     },
     "metadata": {},
     "output_type": "display_data"
    },
    {
     "data": {
      "text/html": [
       "Run data is saved locally in <code>c:\\Users\\RAMKUMAR\\Desktop\\iitm\\sem2\\DL\\wandb\\run-20250308_095026-l974mqjb</code>"
      ],
      "text/plain": [
       "<IPython.core.display.HTML object>"
      ]
     },
     "metadata": {},
     "output_type": "display_data"
    },
    {
     "data": {
      "text/html": [
       "Syncing run <strong><a href='https://wandb.ai/cs24m037-iit-madras/DL_A1/runs/l974mqjb' target=\"_blank\">ethereal-sweep-30</a></strong> to <a href='https://wandb.ai/cs24m037-iit-madras/DL_A1' target=\"_blank\">Weights & Biases</a> (<a href='https://wandb.me/developer-guide' target=\"_blank\">docs</a>)<br>Sweep page: <a href='https://wandb.ai/cs24m037-iit-madras/DL_A1/sweeps/zbxy6yvx' target=\"_blank\">https://wandb.ai/cs24m037-iit-madras/DL_A1/sweeps/zbxy6yvx</a>"
      ],
      "text/plain": [
       "<IPython.core.display.HTML object>"
      ]
     },
     "metadata": {},
     "output_type": "display_data"
    },
    {
     "data": {
      "text/html": [
       " View project at <a href='https://wandb.ai/cs24m037-iit-madras/DL_A1' target=\"_blank\">https://wandb.ai/cs24m037-iit-madras/DL_A1</a>"
      ],
      "text/plain": [
       "<IPython.core.display.HTML object>"
      ]
     },
     "metadata": {},
     "output_type": "display_data"
    },
    {
     "data": {
      "text/html": [
       " View sweep at <a href='https://wandb.ai/cs24m037-iit-madras/DL_A1/sweeps/zbxy6yvx' target=\"_blank\">https://wandb.ai/cs24m037-iit-madras/DL_A1/sweeps/zbxy6yvx</a>"
      ],
      "text/plain": [
       "<IPython.core.display.HTML object>"
      ]
     },
     "metadata": {},
     "output_type": "display_data"
    },
    {
     "data": {
      "text/html": [
       " View run at <a href='https://wandb.ai/cs24m037-iit-madras/DL_A1/runs/l974mqjb' target=\"_blank\">https://wandb.ai/cs24m037-iit-madras/DL_A1/runs/l974mqjb</a>"
      ],
      "text/plain": [
       "<IPython.core.display.HTML object>"
      ]
     },
     "metadata": {},
     "output_type": "display_data"
    },
    {
     "name": "stdout",
     "output_type": "stream",
     "text": [
      "lr_0.0001_ac_tanh_in_random_uniform_op_momentum_bs_64_L2_0.5_ep_5_nn_32_nh_4\n",
      "Epoch 1: Training Loss = 0.4500, Validation Loss = 0.4500, Training Acc = 0.1002, Validation Acc = 0.0983\n",
      "Epoch 2: Training Loss = 0.4500, Validation Loss = 0.4500, Training Acc = 0.1002, Validation Acc = 0.0983\n",
      "Epoch 3: Training Loss = 0.4500, Validation Loss = 0.4500, Training Acc = 0.1002, Validation Acc = 0.0983\n",
      "Epoch 4: Training Loss = 0.4500, Validation Loss = 0.4500, Training Acc = 0.1002, Validation Acc = 0.0983\n",
      "Epoch 5: Training Loss = 0.4500, Validation Loss = 0.4500, Training Acc = 0.1003, Validation Acc = 0.0983\n"
     ]
    },
    {
     "data": {
      "text/html": [],
      "text/plain": [
       "<IPython.core.display.HTML object>"
      ]
     },
     "metadata": {},
     "output_type": "display_data"
    },
    {
     "data": {
      "text/html": [
       "<br>    <style><br>        .wandb-row {<br>            display: flex;<br>            flex-direction: row;<br>            flex-wrap: wrap;<br>            justify-content: flex-start;<br>            width: 100%;<br>        }<br>        .wandb-col {<br>            display: flex;<br>            flex-direction: column;<br>            flex-basis: 100%;<br>            flex: 1;<br>            padding: 10px;<br>        }<br>    </style><br><div class=\"wandb-row\"><div class=\"wandb-col\"><h3>Run history:</h3><br/><table class=\"wandb\"><tr><td>epoch</td><td>▁▃▅▆█</td></tr><tr><td>training_accuracy</td><td>▁▁▁▁█</td></tr><tr><td>training_loss</td><td>█▁▁▁▁</td></tr><tr><td>validation_accuracy</td><td>▁▁▁▁▁</td></tr><tr><td>validation_loss</td><td>█▆▅▃▁</td></tr></table><br/></div><div class=\"wandb-col\"><h3>Run summary:</h3><br/><table class=\"wandb\"><tr><td>epoch</td><td>5</td></tr><tr><td>training_accuracy</td><td>0.10026</td></tr><tr><td>training_loss</td><td>0.45</td></tr><tr><td>validation_accuracy</td><td>0.09833</td></tr><tr><td>validation_loss</td><td>0.45004</td></tr></table><br/></div></div>"
      ],
      "text/plain": [
       "<IPython.core.display.HTML object>"
      ]
     },
     "metadata": {},
     "output_type": "display_data"
    },
    {
     "data": {
      "text/html": [
       " View run <strong style=\"color:#cdcd00\">lr_0.0001_ac_tanh_in_random_uniform_op_momentum_bs_64_L2_0.5_ep_5_nn_32_nh_4</strong> at: <a href='https://wandb.ai/cs24m037-iit-madras/DL_A1/runs/l974mqjb' target=\"_blank\">https://wandb.ai/cs24m037-iit-madras/DL_A1/runs/l974mqjb</a><br> View project at: <a href='https://wandb.ai/cs24m037-iit-madras/DL_A1' target=\"_blank\">https://wandb.ai/cs24m037-iit-madras/DL_A1</a><br>Synced 5 W&B file(s), 0 media file(s), 0 artifact file(s) and 0 other file(s)"
      ],
      "text/plain": [
       "<IPython.core.display.HTML object>"
      ]
     },
     "metadata": {},
     "output_type": "display_data"
    },
    {
     "data": {
      "text/html": [
       "Find logs at: <code>.\\wandb\\run-20250308_095026-l974mqjb\\logs</code>"
      ],
      "text/plain": [
       "<IPython.core.display.HTML object>"
      ]
     },
     "metadata": {},
     "output_type": "display_data"
    },
    {
     "name": "stderr",
     "output_type": "stream",
     "text": [
      "wandb: Agent Starting Run: wv9iaj1p with config:\n",
      "wandb: \tL2_lamb: 0.0005\n",
      "wandb: \tactivation_f: tanh\n",
      "wandb: \tbatch_size: 32\n",
      "wandb: \tepochs: 5\n",
      "wandb: \tinit_mode: random_uniform\n",
      "wandb: \tlearning_rate: 0.0001\n",
      "wandb: \tnum_hidden: 4\n",
      "wandb: \tnum_neurons: 32\n",
      "wandb: \toptimizer: nadam\n"
     ]
    },
    {
     "data": {
      "text/html": [
       "Tracking run with wandb version 0.19.7"
      ],
      "text/plain": [
       "<IPython.core.display.HTML object>"
      ]
     },
     "metadata": {},
     "output_type": "display_data"
    },
    {
     "data": {
      "text/html": [
       "Run data is saved locally in <code>c:\\Users\\RAMKUMAR\\Desktop\\iitm\\sem2\\DL\\wandb\\run-20250308_095037-wv9iaj1p</code>"
      ],
      "text/plain": [
       "<IPython.core.display.HTML object>"
      ]
     },
     "metadata": {},
     "output_type": "display_data"
    },
    {
     "data": {
      "text/html": [
       "Syncing run <strong><a href='https://wandb.ai/cs24m037-iit-madras/DL_A1/runs/wv9iaj1p' target=\"_blank\">curious-sweep-31</a></strong> to <a href='https://wandb.ai/cs24m037-iit-madras/DL_A1' target=\"_blank\">Weights & Biases</a> (<a href='https://wandb.me/developer-guide' target=\"_blank\">docs</a>)<br>Sweep page: <a href='https://wandb.ai/cs24m037-iit-madras/DL_A1/sweeps/zbxy6yvx' target=\"_blank\">https://wandb.ai/cs24m037-iit-madras/DL_A1/sweeps/zbxy6yvx</a>"
      ],
      "text/plain": [
       "<IPython.core.display.HTML object>"
      ]
     },
     "metadata": {},
     "output_type": "display_data"
    },
    {
     "data": {
      "text/html": [
       " View project at <a href='https://wandb.ai/cs24m037-iit-madras/DL_A1' target=\"_blank\">https://wandb.ai/cs24m037-iit-madras/DL_A1</a>"
      ],
      "text/plain": [
       "<IPython.core.display.HTML object>"
      ]
     },
     "metadata": {},
     "output_type": "display_data"
    },
    {
     "data": {
      "text/html": [
       " View sweep at <a href='https://wandb.ai/cs24m037-iit-madras/DL_A1/sweeps/zbxy6yvx' target=\"_blank\">https://wandb.ai/cs24m037-iit-madras/DL_A1/sweeps/zbxy6yvx</a>"
      ],
      "text/plain": [
       "<IPython.core.display.HTML object>"
      ]
     },
     "metadata": {},
     "output_type": "display_data"
    },
    {
     "data": {
      "text/html": [
       " View run at <a href='https://wandb.ai/cs24m037-iit-madras/DL_A1/runs/wv9iaj1p' target=\"_blank\">https://wandb.ai/cs24m037-iit-madras/DL_A1/runs/wv9iaj1p</a>"
      ],
      "text/plain": [
       "<IPython.core.display.HTML object>"
      ]
     },
     "metadata": {},
     "output_type": "display_data"
    },
    {
     "name": "stdout",
     "output_type": "stream",
     "text": [
      "lr_0.0001_ac_tanh_in_random_uniform_op_nadam_bs_32_L2_0.0005_ep_5_nn_32_nh_4\n",
      "Epoch 1: Training Loss = 0.3952, Validation Loss = 0.3957, Training Acc = 0.1999, Validation Acc = 0.2000\n",
      "Epoch 2: Training Loss = 0.3895, Validation Loss = 0.3900, Training Acc = 0.1994, Validation Acc = 0.1953\n",
      "Epoch 3: Training Loss = 0.3876, Validation Loss = 0.3881, Training Acc = 0.2034, Validation Acc = 0.2003\n",
      "Epoch 4: Training Loss = 0.3797, Validation Loss = 0.3802, Training Acc = 0.3031, Validation Acc = 0.3007\n",
      "Epoch 5: Training Loss = 0.3567, Validation Loss = 0.3575, Training Acc = 0.3907, Validation Acc = 0.3882\n"
     ]
    },
    {
     "data": {
      "text/html": [],
      "text/plain": [
       "<IPython.core.display.HTML object>"
      ]
     },
     "metadata": {},
     "output_type": "display_data"
    },
    {
     "data": {
      "text/html": [
       "<br>    <style><br>        .wandb-row {<br>            display: flex;<br>            flex-direction: row;<br>            flex-wrap: wrap;<br>            justify-content: flex-start;<br>            width: 100%;<br>        }<br>        .wandb-col {<br>            display: flex;<br>            flex-direction: column;<br>            flex-basis: 100%;<br>            flex: 1;<br>            padding: 10px;<br>        }<br>    </style><br><div class=\"wandb-row\"><div class=\"wandb-col\"><h3>Run history:</h3><br/><table class=\"wandb\"><tr><td>epoch</td><td>▁▃▅▆█</td></tr><tr><td>training_accuracy</td><td>▁▁▁▅█</td></tr><tr><td>training_loss</td><td>█▇▇▅▁</td></tr><tr><td>validation_accuracy</td><td>▁▁▁▅█</td></tr><tr><td>validation_loss</td><td>█▇▇▅▁</td></tr></table><br/></div><div class=\"wandb-col\"><h3>Run summary:</h3><br/><table class=\"wandb\"><tr><td>epoch</td><td>5</td></tr><tr><td>training_accuracy</td><td>0.3907</td></tr><tr><td>training_loss</td><td>0.35673</td></tr><tr><td>validation_accuracy</td><td>0.38817</td></tr><tr><td>validation_loss</td><td>0.35747</td></tr></table><br/></div></div>"
      ],
      "text/plain": [
       "<IPython.core.display.HTML object>"
      ]
     },
     "metadata": {},
     "output_type": "display_data"
    },
    {
     "data": {
      "text/html": [
       " View run <strong style=\"color:#cdcd00\">lr_0.0001_ac_tanh_in_random_uniform_op_nadam_bs_32_L2_0.0005_ep_5_nn_32_nh_4</strong> at: <a href='https://wandb.ai/cs24m037-iit-madras/DL_A1/runs/wv9iaj1p' target=\"_blank\">https://wandb.ai/cs24m037-iit-madras/DL_A1/runs/wv9iaj1p</a><br> View project at: <a href='https://wandb.ai/cs24m037-iit-madras/DL_A1' target=\"_blank\">https://wandb.ai/cs24m037-iit-madras/DL_A1</a><br>Synced 5 W&B file(s), 0 media file(s), 0 artifact file(s) and 0 other file(s)"
      ],
      "text/plain": [
       "<IPython.core.display.HTML object>"
      ]
     },
     "metadata": {},
     "output_type": "display_data"
    },
    {
     "data": {
      "text/html": [
       "Find logs at: <code>.\\wandb\\run-20250308_095037-wv9iaj1p\\logs</code>"
      ],
      "text/plain": [
       "<IPython.core.display.HTML object>"
      ]
     },
     "metadata": {},
     "output_type": "display_data"
    },
    {
     "name": "stderr",
     "output_type": "stream",
     "text": [
      "wandb: Agent Starting Run: 95nc2ucg with config:\n",
      "wandb: \tL2_lamb: 0\n",
      "wandb: \tactivation_f: sigmoid\n",
      "wandb: \tbatch_size: 32\n",
      "wandb: \tepochs: 5\n",
      "wandb: \tinit_mode: xavier\n",
      "wandb: \tlearning_rate: 0.001\n",
      "wandb: \tnum_hidden: 3\n",
      "wandb: \tnum_neurons: 32\n",
      "wandb: \toptimizer: rmsprop\n"
     ]
    },
    {
     "data": {
      "text/html": [
       "Tracking run with wandb version 0.19.7"
      ],
      "text/plain": [
       "<IPython.core.display.HTML object>"
      ]
     },
     "metadata": {},
     "output_type": "display_data"
    },
    {
     "data": {
      "text/html": [
       "Run data is saved locally in <code>c:\\Users\\RAMKUMAR\\Desktop\\iitm\\sem2\\DL\\wandb\\run-20250308_095053-95nc2ucg</code>"
      ],
      "text/plain": [
       "<IPython.core.display.HTML object>"
      ]
     },
     "metadata": {},
     "output_type": "display_data"
    },
    {
     "data": {
      "text/html": [
       "Syncing run <strong><a href='https://wandb.ai/cs24m037-iit-madras/DL_A1/runs/95nc2ucg' target=\"_blank\">absurd-sweep-32</a></strong> to <a href='https://wandb.ai/cs24m037-iit-madras/DL_A1' target=\"_blank\">Weights & Biases</a> (<a href='https://wandb.me/developer-guide' target=\"_blank\">docs</a>)<br>Sweep page: <a href='https://wandb.ai/cs24m037-iit-madras/DL_A1/sweeps/zbxy6yvx' target=\"_blank\">https://wandb.ai/cs24m037-iit-madras/DL_A1/sweeps/zbxy6yvx</a>"
      ],
      "text/plain": [
       "<IPython.core.display.HTML object>"
      ]
     },
     "metadata": {},
     "output_type": "display_data"
    },
    {
     "data": {
      "text/html": [
       " View project at <a href='https://wandb.ai/cs24m037-iit-madras/DL_A1' target=\"_blank\">https://wandb.ai/cs24m037-iit-madras/DL_A1</a>"
      ],
      "text/plain": [
       "<IPython.core.display.HTML object>"
      ]
     },
     "metadata": {},
     "output_type": "display_data"
    },
    {
     "data": {
      "text/html": [
       " View sweep at <a href='https://wandb.ai/cs24m037-iit-madras/DL_A1/sweeps/zbxy6yvx' target=\"_blank\">https://wandb.ai/cs24m037-iit-madras/DL_A1/sweeps/zbxy6yvx</a>"
      ],
      "text/plain": [
       "<IPython.core.display.HTML object>"
      ]
     },
     "metadata": {},
     "output_type": "display_data"
    },
    {
     "data": {
      "text/html": [
       " View run at <a href='https://wandb.ai/cs24m037-iit-madras/DL_A1/runs/95nc2ucg' target=\"_blank\">https://wandb.ai/cs24m037-iit-madras/DL_A1/runs/95nc2ucg</a>"
      ],
      "text/plain": [
       "<IPython.core.display.HTML object>"
      ]
     },
     "metadata": {},
     "output_type": "display_data"
    },
    {
     "name": "stdout",
     "output_type": "stream",
     "text": [
      "lr_0.001_ac_sigmoid_in_xavier_op_rmsprop_bs_32_L2_0_ep_5_nn_32_nh_3\n",
      "Epoch 1: Training Loss = 0.1541, Validation Loss = 0.1590, Training Acc = 0.7914, Validation Acc = 0.7822\n",
      "Epoch 2: Training Loss = 0.1249, Validation Loss = 0.1306, Training Acc = 0.8347, Validation Acc = 0.8273\n",
      "Epoch 3: Training Loss = 0.1112, Validation Loss = 0.1175, Training Acc = 0.8514, Validation Acc = 0.8437\n",
      "Epoch 4: Training Loss = 0.1040, Validation Loss = 0.1108, Training Acc = 0.8611, Validation Acc = 0.8510\n",
      "Epoch 5: Training Loss = 0.0998, Validation Loss = 0.1064, Training Acc = 0.8667, Validation Acc = 0.8563\n"
     ]
    },
    {
     "data": {
      "text/html": [],
      "text/plain": [
       "<IPython.core.display.HTML object>"
      ]
     },
     "metadata": {},
     "output_type": "display_data"
    },
    {
     "data": {
      "text/html": [
       "<br>    <style><br>        .wandb-row {<br>            display: flex;<br>            flex-direction: row;<br>            flex-wrap: wrap;<br>            justify-content: flex-start;<br>            width: 100%;<br>        }<br>        .wandb-col {<br>            display: flex;<br>            flex-direction: column;<br>            flex-basis: 100%;<br>            flex: 1;<br>            padding: 10px;<br>        }<br>    </style><br><div class=\"wandb-row\"><div class=\"wandb-col\"><h3>Run history:</h3><br/><table class=\"wandb\"><tr><td>epoch</td><td>▁▃▅▆█</td></tr><tr><td>training_accuracy</td><td>▁▅▇▇█</td></tr><tr><td>training_loss</td><td>█▄▂▂▁</td></tr><tr><td>validation_accuracy</td><td>▁▅▇▇█</td></tr><tr><td>validation_loss</td><td>█▄▂▂▁</td></tr></table><br/></div><div class=\"wandb-col\"><h3>Run summary:</h3><br/><table class=\"wandb\"><tr><td>epoch</td><td>5</td></tr><tr><td>training_accuracy</td><td>0.86667</td></tr><tr><td>training_loss</td><td>0.09979</td></tr><tr><td>validation_accuracy</td><td>0.85633</td></tr><tr><td>validation_loss</td><td>0.10643</td></tr></table><br/></div></div>"
      ],
      "text/plain": [
       "<IPython.core.display.HTML object>"
      ]
     },
     "metadata": {},
     "output_type": "display_data"
    },
    {
     "data": {
      "text/html": [
       " View run <strong style=\"color:#cdcd00\">lr_0.001_ac_sigmoid_in_xavier_op_rmsprop_bs_32_L2_0_ep_5_nn_32_nh_3</strong> at: <a href='https://wandb.ai/cs24m037-iit-madras/DL_A1/runs/95nc2ucg' target=\"_blank\">https://wandb.ai/cs24m037-iit-madras/DL_A1/runs/95nc2ucg</a><br> View project at: <a href='https://wandb.ai/cs24m037-iit-madras/DL_A1' target=\"_blank\">https://wandb.ai/cs24m037-iit-madras/DL_A1</a><br>Synced 5 W&B file(s), 0 media file(s), 0 artifact file(s) and 0 other file(s)"
      ],
      "text/plain": [
       "<IPython.core.display.HTML object>"
      ]
     },
     "metadata": {},
     "output_type": "display_data"
    },
    {
     "data": {
      "text/html": [
       "Find logs at: <code>.\\wandb\\run-20250308_095053-95nc2ucg\\logs</code>"
      ],
      "text/plain": [
       "<IPython.core.display.HTML object>"
      ]
     },
     "metadata": {},
     "output_type": "display_data"
    },
    {
     "name": "stderr",
     "output_type": "stream",
     "text": [
      "wandb: Sweep Agent: Waiting for job.\n",
      "wandb: Job received.\n",
      "wandb: Agent Starting Run: x66l6qrx with config:\n",
      "wandb: \tL2_lamb: 0.5\n",
      "wandb: \tactivation_f: tanh\n",
      "wandb: \tbatch_size: 32\n",
      "wandb: \tepochs: 10\n",
      "wandb: \tinit_mode: random_uniform\n",
      "wandb: \tlearning_rate: 0.001\n",
      "wandb: \tnum_hidden: 5\n",
      "wandb: \tnum_neurons: 128\n",
      "wandb: \toptimizer: rmsprop\n"
     ]
    },
    {
     "data": {
      "text/html": [
       "Waiting for wandb.init()..."
      ],
      "text/plain": [
       "<IPython.core.display.HTML object>"
      ]
     },
     "metadata": {},
     "output_type": "display_data"
    },
    {
     "data": {
      "text/html": [
       "Tracking run with wandb version 0.19.7"
      ],
      "text/plain": [
       "<IPython.core.display.HTML object>"
      ]
     },
     "metadata": {},
     "output_type": "display_data"
    },
    {
     "data": {
      "text/html": [
       "Run data is saved locally in <code>c:\\Users\\RAMKUMAR\\Desktop\\iitm\\sem2\\DL\\wandb\\run-20250308_095114-x66l6qrx</code>"
      ],
      "text/plain": [
       "<IPython.core.display.HTML object>"
      ]
     },
     "metadata": {},
     "output_type": "display_data"
    },
    {
     "data": {
      "text/html": [
       "Syncing run <strong><a href='https://wandb.ai/cs24m037-iit-madras/DL_A1/runs/x66l6qrx' target=\"_blank\">winter-sweep-33</a></strong> to <a href='https://wandb.ai/cs24m037-iit-madras/DL_A1' target=\"_blank\">Weights & Biases</a> (<a href='https://wandb.me/developer-guide' target=\"_blank\">docs</a>)<br>Sweep page: <a href='https://wandb.ai/cs24m037-iit-madras/DL_A1/sweeps/zbxy6yvx' target=\"_blank\">https://wandb.ai/cs24m037-iit-madras/DL_A1/sweeps/zbxy6yvx</a>"
      ],
      "text/plain": [
       "<IPython.core.display.HTML object>"
      ]
     },
     "metadata": {},
     "output_type": "display_data"
    },
    {
     "data": {
      "text/html": [
       " View project at <a href='https://wandb.ai/cs24m037-iit-madras/DL_A1' target=\"_blank\">https://wandb.ai/cs24m037-iit-madras/DL_A1</a>"
      ],
      "text/plain": [
       "<IPython.core.display.HTML object>"
      ]
     },
     "metadata": {},
     "output_type": "display_data"
    },
    {
     "data": {
      "text/html": [
       " View sweep at <a href='https://wandb.ai/cs24m037-iit-madras/DL_A1/sweeps/zbxy6yvx' target=\"_blank\">https://wandb.ai/cs24m037-iit-madras/DL_A1/sweeps/zbxy6yvx</a>"
      ],
      "text/plain": [
       "<IPython.core.display.HTML object>"
      ]
     },
     "metadata": {},
     "output_type": "display_data"
    },
    {
     "data": {
      "text/html": [
       " View run at <a href='https://wandb.ai/cs24m037-iit-madras/DL_A1/runs/x66l6qrx' target=\"_blank\">https://wandb.ai/cs24m037-iit-madras/DL_A1/runs/x66l6qrx</a>"
      ],
      "text/plain": [
       "<IPython.core.display.HTML object>"
      ]
     },
     "metadata": {},
     "output_type": "display_data"
    },
    {
     "name": "stdout",
     "output_type": "stream",
     "text": [
      "lr_0.001_ac_tanh_in_random_uniform_op_rmsprop_bs_32_L2_0.5_ep_10_nn_128_nh_5\n",
      "Epoch 1: Training Loss = 0.4500, Validation Loss = 0.4500, Training Acc = 0.0996, Validation Acc = 0.1035\n",
      "Epoch 2: Training Loss = 0.4500, Validation Loss = 0.4500, Training Acc = 0.0996, Validation Acc = 0.1035\n",
      "Epoch 3: Training Loss = 0.4500, Validation Loss = 0.4500, Training Acc = 0.0996, Validation Acc = 0.1035\n",
      "Epoch 4: Training Loss = 0.4500, Validation Loss = 0.4500, Training Acc = 0.1001, Validation Acc = 0.0995\n",
      "Epoch 5: Training Loss = 0.4500, Validation Loss = 0.4500, Training Acc = 0.1001, Validation Acc = 0.0995\n",
      "Epoch 6: Training Loss = 0.4500, Validation Loss = 0.4500, Training Acc = 0.1001, Validation Acc = 0.0995\n",
      "Epoch 7: Training Loss = 0.4500, Validation Loss = 0.4500, Training Acc = 0.0996, Validation Acc = 0.1035\n",
      "Epoch 8: Training Loss = 0.4500, Validation Loss = 0.4500, Training Acc = 0.0996, Validation Acc = 0.1035\n",
      "Epoch 9: Training Loss = 0.4500, Validation Loss = 0.4500, Training Acc = 0.0996, Validation Acc = 0.1035\n",
      "Epoch 10: Training Loss = 0.4500, Validation Loss = 0.4500, Training Acc = 0.0996, Validation Acc = 0.1035\n"
     ]
    },
    {
     "data": {
      "text/html": [],
      "text/plain": [
       "<IPython.core.display.HTML object>"
      ]
     },
     "metadata": {},
     "output_type": "display_data"
    },
    {
     "data": {
      "text/html": [
       "<br>    <style><br>        .wandb-row {<br>            display: flex;<br>            flex-direction: row;<br>            flex-wrap: wrap;<br>            justify-content: flex-start;<br>            width: 100%;<br>        }<br>        .wandb-col {<br>            display: flex;<br>            flex-direction: column;<br>            flex-basis: 100%;<br>            flex: 1;<br>            padding: 10px;<br>        }<br>    </style><br><div class=\"wandb-row\"><div class=\"wandb-col\"><h3>Run history:</h3><br/><table class=\"wandb\"><tr><td>epoch</td><td>▁▂▃▃▄▅▆▆▇█</td></tr><tr><td>training_accuracy</td><td>▁▁▁███▁▁▁▁</td></tr><tr><td>training_loss</td><td>█▁▁▁▁▁▁▁▁▁</td></tr><tr><td>validation_accuracy</td><td>███▁▁▁████</td></tr><tr><td>validation_loss</td><td>█▁▁▁▁▁▁▁▁▁</td></tr></table><br/></div><div class=\"wandb-col\"><h3>Run summary:</h3><br/><table class=\"wandb\"><tr><td>epoch</td><td>10</td></tr><tr><td>training_accuracy</td><td>0.09961</td></tr><tr><td>training_loss</td><td>0.45</td></tr><tr><td>validation_accuracy</td><td>0.1035</td></tr><tr><td>validation_loss</td><td>0.45001</td></tr></table><br/></div></div>"
      ],
      "text/plain": [
       "<IPython.core.display.HTML object>"
      ]
     },
     "metadata": {},
     "output_type": "display_data"
    },
    {
     "data": {
      "text/html": [
       " View run <strong style=\"color:#cdcd00\">lr_0.001_ac_tanh_in_random_uniform_op_rmsprop_bs_32_L2_0.5_ep_10_nn_128_nh_5</strong> at: <a href='https://wandb.ai/cs24m037-iit-madras/DL_A1/runs/x66l6qrx' target=\"_blank\">https://wandb.ai/cs24m037-iit-madras/DL_A1/runs/x66l6qrx</a><br> View project at: <a href='https://wandb.ai/cs24m037-iit-madras/DL_A1' target=\"_blank\">https://wandb.ai/cs24m037-iit-madras/DL_A1</a><br>Synced 5 W&B file(s), 0 media file(s), 0 artifact file(s) and 0 other file(s)"
      ],
      "text/plain": [
       "<IPython.core.display.HTML object>"
      ]
     },
     "metadata": {},
     "output_type": "display_data"
    },
    {
     "data": {
      "text/html": [
       "Find logs at: <code>.\\wandb\\run-20250308_095114-x66l6qrx\\logs</code>"
      ],
      "text/plain": [
       "<IPython.core.display.HTML object>"
      ]
     },
     "metadata": {},
     "output_type": "display_data"
    },
    {
     "name": "stderr",
     "output_type": "stream",
     "text": [
      "wandb: Agent Starting Run: x99y1fdn with config:\n",
      "wandb: \tL2_lamb: 0\n",
      "wandb: \tactivation_f: relu\n",
      "wandb: \tbatch_size: 16\n",
      "wandb: \tepochs: 5\n",
      "wandb: \tinit_mode: random_uniform\n",
      "wandb: \tlearning_rate: 0.0001\n",
      "wandb: \tnum_hidden: 3\n",
      "wandb: \tnum_neurons: 128\n",
      "wandb: \toptimizer: momentum\n"
     ]
    },
    {
     "data": {
      "text/html": [
       "Tracking run with wandb version 0.19.7"
      ],
      "text/plain": [
       "<IPython.core.display.HTML object>"
      ]
     },
     "metadata": {},
     "output_type": "display_data"
    },
    {
     "data": {
      "text/html": [
       "Run data is saved locally in <code>c:\\Users\\RAMKUMAR\\Desktop\\iitm\\sem2\\DL\\wandb\\run-20250308_095218-x99y1fdn</code>"
      ],
      "text/plain": [
       "<IPython.core.display.HTML object>"
      ]
     },
     "metadata": {},
     "output_type": "display_data"
    },
    {
     "data": {
      "text/html": [
       "Syncing run <strong><a href='https://wandb.ai/cs24m037-iit-madras/DL_A1/runs/x99y1fdn' target=\"_blank\">lively-sweep-34</a></strong> to <a href='https://wandb.ai/cs24m037-iit-madras/DL_A1' target=\"_blank\">Weights & Biases</a> (<a href='https://wandb.me/developer-guide' target=\"_blank\">docs</a>)<br>Sweep page: <a href='https://wandb.ai/cs24m037-iit-madras/DL_A1/sweeps/zbxy6yvx' target=\"_blank\">https://wandb.ai/cs24m037-iit-madras/DL_A1/sweeps/zbxy6yvx</a>"
      ],
      "text/plain": [
       "<IPython.core.display.HTML object>"
      ]
     },
     "metadata": {},
     "output_type": "display_data"
    },
    {
     "data": {
      "text/html": [
       " View project at <a href='https://wandb.ai/cs24m037-iit-madras/DL_A1' target=\"_blank\">https://wandb.ai/cs24m037-iit-madras/DL_A1</a>"
      ],
      "text/plain": [
       "<IPython.core.display.HTML object>"
      ]
     },
     "metadata": {},
     "output_type": "display_data"
    },
    {
     "data": {
      "text/html": [
       " View sweep at <a href='https://wandb.ai/cs24m037-iit-madras/DL_A1/sweeps/zbxy6yvx' target=\"_blank\">https://wandb.ai/cs24m037-iit-madras/DL_A1/sweeps/zbxy6yvx</a>"
      ],
      "text/plain": [
       "<IPython.core.display.HTML object>"
      ]
     },
     "metadata": {},
     "output_type": "display_data"
    },
    {
     "data": {
      "text/html": [
       " View run at <a href='https://wandb.ai/cs24m037-iit-madras/DL_A1/runs/x99y1fdn' target=\"_blank\">https://wandb.ai/cs24m037-iit-madras/DL_A1/runs/x99y1fdn</a>"
      ],
      "text/plain": [
       "<IPython.core.display.HTML object>"
      ]
     },
     "metadata": {},
     "output_type": "display_data"
    },
    {
     "name": "stdout",
     "output_type": "stream",
     "text": [
      "lr_0.0001_ac_relu_in_random_uniform_op_momentum_bs_16_L2_0_ep_5_nn_128_nh_3\n",
      "Epoch 1: Training Loss = 0.4495, Validation Loss = 0.4495, Training Acc = 0.1002, Validation Acc = 0.0983\n",
      "Epoch 2: Training Loss = 0.4490, Validation Loss = 0.4490, Training Acc = 0.1002, Validation Acc = 0.0983\n",
      "Epoch 3: Training Loss = 0.4486, Validation Loss = 0.4485, Training Acc = 0.0998, Validation Acc = 0.1018\n",
      "Epoch 4: Training Loss = 0.4483, Validation Loss = 0.4482, Training Acc = 0.0998, Validation Acc = 0.1018\n",
      "Epoch 5: Training Loss = 0.4480, Validation Loss = 0.4479, Training Acc = 0.0998, Validation Acc = 0.1018\n"
     ]
    },
    {
     "data": {
      "text/html": [],
      "text/plain": [
       "<IPython.core.display.HTML object>"
      ]
     },
     "metadata": {},
     "output_type": "display_data"
    },
    {
     "data": {
      "text/html": [
       "<br>    <style><br>        .wandb-row {<br>            display: flex;<br>            flex-direction: row;<br>            flex-wrap: wrap;<br>            justify-content: flex-start;<br>            width: 100%;<br>        }<br>        .wandb-col {<br>            display: flex;<br>            flex-direction: column;<br>            flex-basis: 100%;<br>            flex: 1;<br>            padding: 10px;<br>        }<br>    </style><br><div class=\"wandb-row\"><div class=\"wandb-col\"><h3>Run history:</h3><br/><table class=\"wandb\"><tr><td>epoch</td><td>▁▃▅▆█</td></tr><tr><td>training_accuracy</td><td>██▁▁▁</td></tr><tr><td>training_loss</td><td>█▆▄▂▁</td></tr><tr><td>validation_accuracy</td><td>▁▁███</td></tr><tr><td>validation_loss</td><td>█▆▄▂▁</td></tr></table><br/></div><div class=\"wandb-col\"><h3>Run summary:</h3><br/><table class=\"wandb\"><tr><td>epoch</td><td>5</td></tr><tr><td>training_accuracy</td><td>0.0998</td></tr><tr><td>training_loss</td><td>0.44803</td></tr><tr><td>validation_accuracy</td><td>0.10183</td></tr><tr><td>validation_loss</td><td>0.44786</td></tr></table><br/></div></div>"
      ],
      "text/plain": [
       "<IPython.core.display.HTML object>"
      ]
     },
     "metadata": {},
     "output_type": "display_data"
    },
    {
     "data": {
      "text/html": [
       " View run <strong style=\"color:#cdcd00\">lr_0.0001_ac_relu_in_random_uniform_op_momentum_bs_16_L2_0_ep_5_nn_128_nh_3</strong> at: <a href='https://wandb.ai/cs24m037-iit-madras/DL_A1/runs/x99y1fdn' target=\"_blank\">https://wandb.ai/cs24m037-iit-madras/DL_A1/runs/x99y1fdn</a><br> View project at: <a href='https://wandb.ai/cs24m037-iit-madras/DL_A1' target=\"_blank\">https://wandb.ai/cs24m037-iit-madras/DL_A1</a><br>Synced 5 W&B file(s), 0 media file(s), 0 artifact file(s) and 0 other file(s)"
      ],
      "text/plain": [
       "<IPython.core.display.HTML object>"
      ]
     },
     "metadata": {},
     "output_type": "display_data"
    },
    {
     "data": {
      "text/html": [
       "Find logs at: <code>.\\wandb\\run-20250308_095218-x99y1fdn\\logs</code>"
      ],
      "text/plain": [
       "<IPython.core.display.HTML object>"
      ]
     },
     "metadata": {},
     "output_type": "display_data"
    },
    {
     "name": "stderr",
     "output_type": "stream",
     "text": [
      "wandb: Agent Starting Run: ymg03lcn with config:\n",
      "wandb: \tL2_lamb: 0.5\n",
      "wandb: \tactivation_f: sigmoid\n",
      "wandb: \tbatch_size: 16\n",
      "wandb: \tepochs: 10\n",
      "wandb: \tinit_mode: random_uniform\n",
      "wandb: \tlearning_rate: 0.001\n",
      "wandb: \tnum_hidden: 4\n",
      "wandb: \tnum_neurons: 128\n",
      "wandb: \toptimizer: adam\n"
     ]
    },
    {
     "data": {
      "text/html": [
       "Tracking run with wandb version 0.19.7"
      ],
      "text/plain": [
       "<IPython.core.display.HTML object>"
      ]
     },
     "metadata": {},
     "output_type": "display_data"
    },
    {
     "data": {
      "text/html": [
       "Run data is saved locally in <code>c:\\Users\\RAMKUMAR\\Desktop\\iitm\\sem2\\DL\\wandb\\run-20250308_095244-ymg03lcn</code>"
      ],
      "text/plain": [
       "<IPython.core.display.HTML object>"
      ]
     },
     "metadata": {},
     "output_type": "display_data"
    },
    {
     "data": {
      "text/html": [
       "Syncing run <strong><a href='https://wandb.ai/cs24m037-iit-madras/DL_A1/runs/ymg03lcn' target=\"_blank\">astral-sweep-35</a></strong> to <a href='https://wandb.ai/cs24m037-iit-madras/DL_A1' target=\"_blank\">Weights & Biases</a> (<a href='https://wandb.me/developer-guide' target=\"_blank\">docs</a>)<br>Sweep page: <a href='https://wandb.ai/cs24m037-iit-madras/DL_A1/sweeps/zbxy6yvx' target=\"_blank\">https://wandb.ai/cs24m037-iit-madras/DL_A1/sweeps/zbxy6yvx</a>"
      ],
      "text/plain": [
       "<IPython.core.display.HTML object>"
      ]
     },
     "metadata": {},
     "output_type": "display_data"
    },
    {
     "data": {
      "text/html": [
       " View project at <a href='https://wandb.ai/cs24m037-iit-madras/DL_A1' target=\"_blank\">https://wandb.ai/cs24m037-iit-madras/DL_A1</a>"
      ],
      "text/plain": [
       "<IPython.core.display.HTML object>"
      ]
     },
     "metadata": {},
     "output_type": "display_data"
    },
    {
     "data": {
      "text/html": [
       " View sweep at <a href='https://wandb.ai/cs24m037-iit-madras/DL_A1/sweeps/zbxy6yvx' target=\"_blank\">https://wandb.ai/cs24m037-iit-madras/DL_A1/sweeps/zbxy6yvx</a>"
      ],
      "text/plain": [
       "<IPython.core.display.HTML object>"
      ]
     },
     "metadata": {},
     "output_type": "display_data"
    },
    {
     "data": {
      "text/html": [
       " View run at <a href='https://wandb.ai/cs24m037-iit-madras/DL_A1/runs/ymg03lcn' target=\"_blank\">https://wandb.ai/cs24m037-iit-madras/DL_A1/runs/ymg03lcn</a>"
      ],
      "text/plain": [
       "<IPython.core.display.HTML object>"
      ]
     },
     "metadata": {},
     "output_type": "display_data"
    },
    {
     "name": "stdout",
     "output_type": "stream",
     "text": [
      "lr_0.001_ac_sigmoid_in_random_uniform_op_adam_bs_16_L2_0.5_ep_10_nn_128_nh_4\n",
      "Epoch 1: Training Loss = 0.4510, Validation Loss = 0.4509, Training Acc = 0.0999, Validation Acc = 0.1013\n",
      "Epoch 2: Training Loss = 0.4510, Validation Loss = 0.4509, Training Acc = 0.0999, Validation Acc = 0.1013\n",
      "Epoch 3: Training Loss = 0.4510, Validation Loss = 0.4509, Training Acc = 0.0999, Validation Acc = 0.1013\n",
      "Epoch 4: Training Loss = 0.4510, Validation Loss = 0.4509, Training Acc = 0.0999, Validation Acc = 0.1013\n",
      "Epoch 5: Training Loss = 0.4510, Validation Loss = 0.4509, Training Acc = 0.0999, Validation Acc = 0.1013\n",
      "Epoch 6: Training Loss = 0.4510, Validation Loss = 0.4509, Training Acc = 0.0999, Validation Acc = 0.1013\n",
      "Epoch 7: Training Loss = 0.4510, Validation Loss = 0.4509, Training Acc = 0.0999, Validation Acc = 0.1013\n",
      "Epoch 8: Training Loss = 0.4510, Validation Loss = 0.4509, Training Acc = 0.0999, Validation Acc = 0.1013\n",
      "Epoch 9: Training Loss = 0.4510, Validation Loss = 0.4509, Training Acc = 0.0999, Validation Acc = 0.1013\n",
      "Epoch 10: Training Loss = 0.4510, Validation Loss = 0.4509, Training Acc = 0.0999, Validation Acc = 0.1013\n"
     ]
    },
    {
     "data": {
      "text/html": [],
      "text/plain": [
       "<IPython.core.display.HTML object>"
      ]
     },
     "metadata": {},
     "output_type": "display_data"
    },
    {
     "data": {
      "text/html": [
       "<br>    <style><br>        .wandb-row {<br>            display: flex;<br>            flex-direction: row;<br>            flex-wrap: wrap;<br>            justify-content: flex-start;<br>            width: 100%;<br>        }<br>        .wandb-col {<br>            display: flex;<br>            flex-direction: column;<br>            flex-basis: 100%;<br>            flex: 1;<br>            padding: 10px;<br>        }<br>    </style><br><div class=\"wandb-row\"><div class=\"wandb-col\"><h3>Run history:</h3><br/><table class=\"wandb\"><tr><td>epoch</td><td>▁▂▃▃▄▅▆▆▇█</td></tr><tr><td>training_accuracy</td><td>▁▁▁▁▁▁▁▁▁▁</td></tr><tr><td>training_loss</td><td>█▁▁▁▁▁▁▁▁▁</td></tr><tr><td>validation_accuracy</td><td>▁▁▁▁▁▁▁▁▁▁</td></tr><tr><td>validation_loss</td><td>█▁▁▁▁▁▁▁▁▁</td></tr></table><br/></div><div class=\"wandb-col\"><h3>Run summary:</h3><br/><table class=\"wandb\"><tr><td>epoch</td><td>10</td></tr><tr><td>training_accuracy</td><td>0.09985</td></tr><tr><td>training_loss</td><td>0.45102</td></tr><tr><td>validation_accuracy</td><td>0.10133</td></tr><tr><td>validation_loss</td><td>0.45087</td></tr></table><br/></div></div>"
      ],
      "text/plain": [
       "<IPython.core.display.HTML object>"
      ]
     },
     "metadata": {},
     "output_type": "display_data"
    },
    {
     "data": {
      "text/html": [
       " View run <strong style=\"color:#cdcd00\">lr_0.001_ac_sigmoid_in_random_uniform_op_adam_bs_16_L2_0.5_ep_10_nn_128_nh_4</strong> at: <a href='https://wandb.ai/cs24m037-iit-madras/DL_A1/runs/ymg03lcn' target=\"_blank\">https://wandb.ai/cs24m037-iit-madras/DL_A1/runs/ymg03lcn</a><br> View project at: <a href='https://wandb.ai/cs24m037-iit-madras/DL_A1' target=\"_blank\">https://wandb.ai/cs24m037-iit-madras/DL_A1</a><br>Synced 5 W&B file(s), 0 media file(s), 0 artifact file(s) and 0 other file(s)"
      ],
      "text/plain": [
       "<IPython.core.display.HTML object>"
      ]
     },
     "metadata": {},
     "output_type": "display_data"
    },
    {
     "data": {
      "text/html": [
       "Find logs at: <code>.\\wandb\\run-20250308_095244-ymg03lcn\\logs</code>"
      ],
      "text/plain": [
       "<IPython.core.display.HTML object>"
      ]
     },
     "metadata": {},
     "output_type": "display_data"
    },
    {
     "name": "stderr",
     "output_type": "stream",
     "text": [
      "wandb: Agent Starting Run: y2h30rk5 with config:\n",
      "wandb: \tL2_lamb: 0.5\n",
      "wandb: \tactivation_f: sigmoid\n",
      "wandb: \tbatch_size: 16\n",
      "wandb: \tepochs: 10\n",
      "wandb: \tinit_mode: random_uniform\n",
      "wandb: \tlearning_rate: 0.0001\n",
      "wandb: \tnum_hidden: 5\n",
      "wandb: \tnum_neurons: 32\n",
      "wandb: \toptimizer: adam\n"
     ]
    },
    {
     "data": {
      "text/html": [
       "Tracking run with wandb version 0.19.7"
      ],
      "text/plain": [
       "<IPython.core.display.HTML object>"
      ]
     },
     "metadata": {},
     "output_type": "display_data"
    },
    {
     "data": {
      "text/html": [
       "Run data is saved locally in <code>c:\\Users\\RAMKUMAR\\Desktop\\iitm\\sem2\\DL\\wandb\\run-20250308_095408-y2h30rk5</code>"
      ],
      "text/plain": [
       "<IPython.core.display.HTML object>"
      ]
     },
     "metadata": {},
     "output_type": "display_data"
    },
    {
     "data": {
      "text/html": [
       "Syncing run <strong><a href='https://wandb.ai/cs24m037-iit-madras/DL_A1/runs/y2h30rk5' target=\"_blank\">solar-sweep-36</a></strong> to <a href='https://wandb.ai/cs24m037-iit-madras/DL_A1' target=\"_blank\">Weights & Biases</a> (<a href='https://wandb.me/developer-guide' target=\"_blank\">docs</a>)<br>Sweep page: <a href='https://wandb.ai/cs24m037-iit-madras/DL_A1/sweeps/zbxy6yvx' target=\"_blank\">https://wandb.ai/cs24m037-iit-madras/DL_A1/sweeps/zbxy6yvx</a>"
      ],
      "text/plain": [
       "<IPython.core.display.HTML object>"
      ]
     },
     "metadata": {},
     "output_type": "display_data"
    },
    {
     "data": {
      "text/html": [
       " View project at <a href='https://wandb.ai/cs24m037-iit-madras/DL_A1' target=\"_blank\">https://wandb.ai/cs24m037-iit-madras/DL_A1</a>"
      ],
      "text/plain": [
       "<IPython.core.display.HTML object>"
      ]
     },
     "metadata": {},
     "output_type": "display_data"
    },
    {
     "data": {
      "text/html": [
       " View sweep at <a href='https://wandb.ai/cs24m037-iit-madras/DL_A1/sweeps/zbxy6yvx' target=\"_blank\">https://wandb.ai/cs24m037-iit-madras/DL_A1/sweeps/zbxy6yvx</a>"
      ],
      "text/plain": [
       "<IPython.core.display.HTML object>"
      ]
     },
     "metadata": {},
     "output_type": "display_data"
    },
    {
     "data": {
      "text/html": [
       " View run at <a href='https://wandb.ai/cs24m037-iit-madras/DL_A1/runs/y2h30rk5' target=\"_blank\">https://wandb.ai/cs24m037-iit-madras/DL_A1/runs/y2h30rk5</a>"
      ],
      "text/plain": [
       "<IPython.core.display.HTML object>"
      ]
     },
     "metadata": {},
     "output_type": "display_data"
    },
    {
     "name": "stdout",
     "output_type": "stream",
     "text": [
      "lr_0.0001_ac_sigmoid_in_random_uniform_op_adam_bs_16_L2_0.5_ep_10_nn_32_nh_5\n",
      "Epoch 1: Training Loss = 0.4500, Validation Loss = 0.4500, Training Acc = 0.0996, Validation Acc = 0.1035\n",
      "Epoch 2: Training Loss = 0.4500, Validation Loss = 0.4500, Training Acc = 0.0996, Validation Acc = 0.1035\n",
      "Epoch 3: Training Loss = 0.4500, Validation Loss = 0.4500, Training Acc = 0.0996, Validation Acc = 0.1035\n",
      "Epoch 4: Training Loss = 0.4500, Validation Loss = 0.4500, Training Acc = 0.0996, Validation Acc = 0.1035\n",
      "Epoch 5: Training Loss = 0.4500, Validation Loss = 0.4500, Training Acc = 0.0996, Validation Acc = 0.1035\n",
      "Epoch 6: Training Loss = 0.4500, Validation Loss = 0.4500, Training Acc = 0.0996, Validation Acc = 0.1035\n",
      "Epoch 7: Training Loss = 0.4500, Validation Loss = 0.4500, Training Acc = 0.0996, Validation Acc = 0.1035\n",
      "Epoch 8: Training Loss = 0.4500, Validation Loss = 0.4500, Training Acc = 0.0996, Validation Acc = 0.1035\n",
      "Epoch 9: Training Loss = 0.4500, Validation Loss = 0.4500, Training Acc = 0.0996, Validation Acc = 0.1035\n",
      "Epoch 10: Training Loss = 0.4500, Validation Loss = 0.4500, Training Acc = 0.0996, Validation Acc = 0.1035\n"
     ]
    },
    {
     "data": {
      "text/html": [],
      "text/plain": [
       "<IPython.core.display.HTML object>"
      ]
     },
     "metadata": {},
     "output_type": "display_data"
    },
    {
     "data": {
      "text/html": [
       "<br>    <style><br>        .wandb-row {<br>            display: flex;<br>            flex-direction: row;<br>            flex-wrap: wrap;<br>            justify-content: flex-start;<br>            width: 100%;<br>        }<br>        .wandb-col {<br>            display: flex;<br>            flex-direction: column;<br>            flex-basis: 100%;<br>            flex: 1;<br>            padding: 10px;<br>        }<br>    </style><br><div class=\"wandb-row\"><div class=\"wandb-col\"><h3>Run history:</h3><br/><table class=\"wandb\"><tr><td>epoch</td><td>▁▂▃▃▄▅▆▆▇█</td></tr><tr><td>training_accuracy</td><td>▁▁▁▁▁▁▁▁▁▁</td></tr><tr><td>training_loss</td><td>▁▁▁▁▁▁▁▁▁▁</td></tr><tr><td>validation_accuracy</td><td>▁▁▁▁▁▁▁▁▁▁</td></tr><tr><td>validation_loss</td><td>▁▁▁▁▁▁▁▁▁▁</td></tr></table><br/></div><div class=\"wandb-col\"><h3>Run summary:</h3><br/><table class=\"wandb\"><tr><td>epoch</td><td>10</td></tr><tr><td>training_accuracy</td><td>0.09961</td></tr><tr><td>training_loss</td><td>0.45001</td></tr><tr><td>validation_accuracy</td><td>0.1035</td></tr><tr><td>validation_loss</td><td>0.44999</td></tr></table><br/></div></div>"
      ],
      "text/plain": [
       "<IPython.core.display.HTML object>"
      ]
     },
     "metadata": {},
     "output_type": "display_data"
    },
    {
     "data": {
      "text/html": [
       " View run <strong style=\"color:#cdcd00\">lr_0.0001_ac_sigmoid_in_random_uniform_op_adam_bs_16_L2_0.5_ep_10_nn_32_nh_5</strong> at: <a href='https://wandb.ai/cs24m037-iit-madras/DL_A1/runs/y2h30rk5' target=\"_blank\">https://wandb.ai/cs24m037-iit-madras/DL_A1/runs/y2h30rk5</a><br> View project at: <a href='https://wandb.ai/cs24m037-iit-madras/DL_A1' target=\"_blank\">https://wandb.ai/cs24m037-iit-madras/DL_A1</a><br>Synced 5 W&B file(s), 0 media file(s), 0 artifact file(s) and 0 other file(s)"
      ],
      "text/plain": [
       "<IPython.core.display.HTML object>"
      ]
     },
     "metadata": {},
     "output_type": "display_data"
    },
    {
     "data": {
      "text/html": [
       "Find logs at: <code>.\\wandb\\run-20250308_095408-y2h30rk5\\logs</code>"
      ],
      "text/plain": [
       "<IPython.core.display.HTML object>"
      ]
     },
     "metadata": {},
     "output_type": "display_data"
    },
    {
     "name": "stderr",
     "output_type": "stream",
     "text": [
      "wandb: Agent Starting Run: ruhsil3r with config:\n",
      "wandb: \tL2_lamb: 0.5\n",
      "wandb: \tactivation_f: relu\n",
      "wandb: \tbatch_size: 32\n",
      "wandb: \tepochs: 10\n",
      "wandb: \tinit_mode: xavier\n",
      "wandb: \tlearning_rate: 0.0001\n",
      "wandb: \tnum_hidden: 4\n",
      "wandb: \tnum_neurons: 128\n",
      "wandb: \toptimizer: sgd\n"
     ]
    },
    {
     "data": {
      "text/html": [
       "Tracking run with wandb version 0.19.7"
      ],
      "text/plain": [
       "<IPython.core.display.HTML object>"
      ]
     },
     "metadata": {},
     "output_type": "display_data"
    },
    {
     "data": {
      "text/html": [
       "Run data is saved locally in <code>c:\\Users\\RAMKUMAR\\Desktop\\iitm\\sem2\\DL\\wandb\\run-20250308_095434-ruhsil3r</code>"
      ],
      "text/plain": [
       "<IPython.core.display.HTML object>"
      ]
     },
     "metadata": {},
     "output_type": "display_data"
    },
    {
     "data": {
      "text/html": [
       "Syncing run <strong><a href='https://wandb.ai/cs24m037-iit-madras/DL_A1/runs/ruhsil3r' target=\"_blank\">lemon-sweep-37</a></strong> to <a href='https://wandb.ai/cs24m037-iit-madras/DL_A1' target=\"_blank\">Weights & Biases</a> (<a href='https://wandb.me/developer-guide' target=\"_blank\">docs</a>)<br>Sweep page: <a href='https://wandb.ai/cs24m037-iit-madras/DL_A1/sweeps/zbxy6yvx' target=\"_blank\">https://wandb.ai/cs24m037-iit-madras/DL_A1/sweeps/zbxy6yvx</a>"
      ],
      "text/plain": [
       "<IPython.core.display.HTML object>"
      ]
     },
     "metadata": {},
     "output_type": "display_data"
    },
    {
     "data": {
      "text/html": [
       " View project at <a href='https://wandb.ai/cs24m037-iit-madras/DL_A1' target=\"_blank\">https://wandb.ai/cs24m037-iit-madras/DL_A1</a>"
      ],
      "text/plain": [
       "<IPython.core.display.HTML object>"
      ]
     },
     "metadata": {},
     "output_type": "display_data"
    },
    {
     "data": {
      "text/html": [
       " View sweep at <a href='https://wandb.ai/cs24m037-iit-madras/DL_A1/sweeps/zbxy6yvx' target=\"_blank\">https://wandb.ai/cs24m037-iit-madras/DL_A1/sweeps/zbxy6yvx</a>"
      ],
      "text/plain": [
       "<IPython.core.display.HTML object>"
      ]
     },
     "metadata": {},
     "output_type": "display_data"
    },
    {
     "data": {
      "text/html": [
       " View run at <a href='https://wandb.ai/cs24m037-iit-madras/DL_A1/runs/ruhsil3r' target=\"_blank\">https://wandb.ai/cs24m037-iit-madras/DL_A1/runs/ruhsil3r</a>"
      ],
      "text/plain": [
       "<IPython.core.display.HTML object>"
      ]
     },
     "metadata": {},
     "output_type": "display_data"
    },
    {
     "name": "stdout",
     "output_type": "stream",
     "text": [
      "lr_0.0001_ac_relu_in_xavier_op_sgd_bs_32_L2_0.5_ep_10_nn_128_nh_4\n",
      "Epoch 1: Training Loss = 0.4533, Validation Loss = 0.4769, Training Acc = 0.1114, Validation Acc = 0.1105\n",
      "Epoch 2: Training Loss = 0.4526, Validation Loss = 0.4761, Training Acc = 0.1162, Validation Acc = 0.1157\n",
      "Epoch 3: Training Loss = 0.4519, Validation Loss = 0.4752, Training Acc = 0.1222, Validation Acc = 0.1207\n",
      "Epoch 4: Training Loss = 0.4512, Validation Loss = 0.4744, Training Acc = 0.1291, Validation Acc = 0.1263\n",
      "Epoch 5: Training Loss = 0.4505, Validation Loss = 0.4736, Training Acc = 0.1367, Validation Acc = 0.1355\n",
      "Epoch 6: Training Loss = 0.4499, Validation Loss = 0.4728, Training Acc = 0.1454, Validation Acc = 0.1433\n",
      "Epoch 7: Training Loss = 0.4492, Validation Loss = 0.4720, Training Acc = 0.1546, Validation Acc = 0.1522\n",
      "Epoch 8: Training Loss = 0.4486, Validation Loss = 0.4712, Training Acc = 0.1641, Validation Acc = 0.1587\n",
      "Epoch 9: Training Loss = 0.4480, Validation Loss = 0.4705, Training Acc = 0.1726, Validation Acc = 0.1687\n",
      "Epoch 10: Training Loss = 0.4474, Validation Loss = 0.4698, Training Acc = 0.1822, Validation Acc = 0.1773\n"
     ]
    },
    {
     "data": {
      "text/html": [],
      "text/plain": [
       "<IPython.core.display.HTML object>"
      ]
     },
     "metadata": {},
     "output_type": "display_data"
    },
    {
     "data": {
      "text/html": [
       "<br>    <style><br>        .wandb-row {<br>            display: flex;<br>            flex-direction: row;<br>            flex-wrap: wrap;<br>            justify-content: flex-start;<br>            width: 100%;<br>        }<br>        .wandb-col {<br>            display: flex;<br>            flex-direction: column;<br>            flex-basis: 100%;<br>            flex: 1;<br>            padding: 10px;<br>        }<br>    </style><br><div class=\"wandb-row\"><div class=\"wandb-col\"><h3>Run history:</h3><br/><table class=\"wandb\"><tr><td>epoch</td><td>▁▂▃▃▄▅▆▆▇█</td></tr><tr><td>training_accuracy</td><td>▁▁▂▃▄▄▅▆▇█</td></tr><tr><td>training_loss</td><td>█▇▆▅▅▄▃▂▂▁</td></tr><tr><td>validation_accuracy</td><td>▁▂▂▃▄▄▅▆▇█</td></tr><tr><td>validation_loss</td><td>█▇▆▆▅▄▃▂▂▁</td></tr></table><br/></div><div class=\"wandb-col\"><h3>Run summary:</h3><br/><table class=\"wandb\"><tr><td>epoch</td><td>10</td></tr><tr><td>training_accuracy</td><td>0.18224</td></tr><tr><td>training_loss</td><td>0.44737</td></tr><tr><td>validation_accuracy</td><td>0.17733</td></tr><tr><td>validation_loss</td><td>0.46977</td></tr></table><br/></div></div>"
      ],
      "text/plain": [
       "<IPython.core.display.HTML object>"
      ]
     },
     "metadata": {},
     "output_type": "display_data"
    },
    {
     "data": {
      "text/html": [
       " View run <strong style=\"color:#cdcd00\">lr_0.0001_ac_relu_in_xavier_op_sgd_bs_32_L2_0.5_ep_10_nn_128_nh_4</strong> at: <a href='https://wandb.ai/cs24m037-iit-madras/DL_A1/runs/ruhsil3r' target=\"_blank\">https://wandb.ai/cs24m037-iit-madras/DL_A1/runs/ruhsil3r</a><br> View project at: <a href='https://wandb.ai/cs24m037-iit-madras/DL_A1' target=\"_blank\">https://wandb.ai/cs24m037-iit-madras/DL_A1</a><br>Synced 5 W&B file(s), 0 media file(s), 0 artifact file(s) and 0 other file(s)"
      ],
      "text/plain": [
       "<IPython.core.display.HTML object>"
      ]
     },
     "metadata": {},
     "output_type": "display_data"
    },
    {
     "data": {
      "text/html": [
       "Find logs at: <code>.\\wandb\\run-20250308_095434-ruhsil3r\\logs</code>"
      ],
      "text/plain": [
       "<IPython.core.display.HTML object>"
      ]
     },
     "metadata": {},
     "output_type": "display_data"
    },
    {
     "name": "stderr",
     "output_type": "stream",
     "text": [
      "wandb: Agent Starting Run: ly5nldr3 with config:\n",
      "wandb: \tL2_lamb: 0\n",
      "wandb: \tactivation_f: relu\n",
      "wandb: \tbatch_size: 32\n",
      "wandb: \tepochs: 5\n",
      "wandb: \tinit_mode: random_uniform\n",
      "wandb: \tlearning_rate: 0.001\n",
      "wandb: \tnum_hidden: 5\n",
      "wandb: \tnum_neurons: 128\n",
      "wandb: \toptimizer: sgd\n"
     ]
    },
    {
     "data": {
      "text/html": [
       "Tracking run with wandb version 0.19.7"
      ],
      "text/plain": [
       "<IPython.core.display.HTML object>"
      ]
     },
     "metadata": {},
     "output_type": "display_data"
    },
    {
     "data": {
      "text/html": [
       "Run data is saved locally in <code>c:\\Users\\RAMKUMAR\\Desktop\\iitm\\sem2\\DL\\wandb\\run-20250308_095511-ly5nldr3</code>"
      ],
      "text/plain": [
       "<IPython.core.display.HTML object>"
      ]
     },
     "metadata": {},
     "output_type": "display_data"
    },
    {
     "data": {
      "text/html": [
       "Syncing run <strong><a href='https://wandb.ai/cs24m037-iit-madras/DL_A1/runs/ly5nldr3' target=\"_blank\">copper-sweep-38</a></strong> to <a href='https://wandb.ai/cs24m037-iit-madras/DL_A1' target=\"_blank\">Weights & Biases</a> (<a href='https://wandb.me/developer-guide' target=\"_blank\">docs</a>)<br>Sweep page: <a href='https://wandb.ai/cs24m037-iit-madras/DL_A1/sweeps/zbxy6yvx' target=\"_blank\">https://wandb.ai/cs24m037-iit-madras/DL_A1/sweeps/zbxy6yvx</a>"
      ],
      "text/plain": [
       "<IPython.core.display.HTML object>"
      ]
     },
     "metadata": {},
     "output_type": "display_data"
    },
    {
     "data": {
      "text/html": [
       " View project at <a href='https://wandb.ai/cs24m037-iit-madras/DL_A1' target=\"_blank\">https://wandb.ai/cs24m037-iit-madras/DL_A1</a>"
      ],
      "text/plain": [
       "<IPython.core.display.HTML object>"
      ]
     },
     "metadata": {},
     "output_type": "display_data"
    },
    {
     "data": {
      "text/html": [
       " View sweep at <a href='https://wandb.ai/cs24m037-iit-madras/DL_A1/sweeps/zbxy6yvx' target=\"_blank\">https://wandb.ai/cs24m037-iit-madras/DL_A1/sweeps/zbxy6yvx</a>"
      ],
      "text/plain": [
       "<IPython.core.display.HTML object>"
      ]
     },
     "metadata": {},
     "output_type": "display_data"
    },
    {
     "data": {
      "text/html": [
       " View run at <a href='https://wandb.ai/cs24m037-iit-madras/DL_A1/runs/ly5nldr3' target=\"_blank\">https://wandb.ai/cs24m037-iit-madras/DL_A1/runs/ly5nldr3</a>"
      ],
      "text/plain": [
       "<IPython.core.display.HTML object>"
      ]
     },
     "metadata": {},
     "output_type": "display_data"
    },
    {
     "name": "stdout",
     "output_type": "stream",
     "text": [
      "lr_0.001_ac_relu_in_random_uniform_op_sgd_bs_32_L2_0_ep_5_nn_128_nh_5\n",
      "Epoch 1: Training Loss = 0.4494, Validation Loss = 0.4494, Training Acc = 0.0998, Validation Acc = 0.1018\n",
      "Epoch 2: Training Loss = 0.4490, Validation Loss = 0.4489, Training Acc = 0.0995, Validation Acc = 0.1045\n",
      "Epoch 3: Training Loss = 0.4486, Validation Loss = 0.4485, Training Acc = 0.0995, Validation Acc = 0.1045\n",
      "Epoch 4: Training Loss = 0.4482, Validation Loss = 0.4481, Training Acc = 0.0995, Validation Acc = 0.1045\n",
      "Epoch 5: Training Loss = 0.4479, Validation Loss = 0.4477, Training Acc = 0.0995, Validation Acc = 0.1045\n"
     ]
    },
    {
     "data": {
      "text/html": [],
      "text/plain": [
       "<IPython.core.display.HTML object>"
      ]
     },
     "metadata": {},
     "output_type": "display_data"
    },
    {
     "data": {
      "text/html": [
       "<br>    <style><br>        .wandb-row {<br>            display: flex;<br>            flex-direction: row;<br>            flex-wrap: wrap;<br>            justify-content: flex-start;<br>            width: 100%;<br>        }<br>        .wandb-col {<br>            display: flex;<br>            flex-direction: column;<br>            flex-basis: 100%;<br>            flex: 1;<br>            padding: 10px;<br>        }<br>    </style><br><div class=\"wandb-row\"><div class=\"wandb-col\"><h3>Run history:</h3><br/><table class=\"wandb\"><tr><td>epoch</td><td>▁▃▅▆█</td></tr><tr><td>training_accuracy</td><td>█▁▁▁▁</td></tr><tr><td>training_loss</td><td>█▆▄▂▁</td></tr><tr><td>validation_accuracy</td><td>▁████</td></tr><tr><td>validation_loss</td><td>█▆▄▃▁</td></tr></table><br/></div><div class=\"wandb-col\"><h3>Run summary:</h3><br/><table class=\"wandb\"><tr><td>epoch</td><td>5</td></tr><tr><td>training_accuracy</td><td>0.0995</td></tr><tr><td>training_loss</td><td>0.44792</td></tr><tr><td>validation_accuracy</td><td>0.1045</td></tr><tr><td>validation_loss</td><td>0.44775</td></tr></table><br/></div></div>"
      ],
      "text/plain": [
       "<IPython.core.display.HTML object>"
      ]
     },
     "metadata": {},
     "output_type": "display_data"
    },
    {
     "data": {
      "text/html": [
       " View run <strong style=\"color:#cdcd00\">lr_0.001_ac_relu_in_random_uniform_op_sgd_bs_32_L2_0_ep_5_nn_128_nh_5</strong> at: <a href='https://wandb.ai/cs24m037-iit-madras/DL_A1/runs/ly5nldr3' target=\"_blank\">https://wandb.ai/cs24m037-iit-madras/DL_A1/runs/ly5nldr3</a><br> View project at: <a href='https://wandb.ai/cs24m037-iit-madras/DL_A1' target=\"_blank\">https://wandb.ai/cs24m037-iit-madras/DL_A1</a><br>Synced 5 W&B file(s), 0 media file(s), 0 artifact file(s) and 0 other file(s)"
      ],
      "text/plain": [
       "<IPython.core.display.HTML object>"
      ]
     },
     "metadata": {},
     "output_type": "display_data"
    },
    {
     "data": {
      "text/html": [
       "Find logs at: <code>.\\wandb\\run-20250308_095511-ly5nldr3\\logs</code>"
      ],
      "text/plain": [
       "<IPython.core.display.HTML object>"
      ]
     },
     "metadata": {},
     "output_type": "display_data"
    },
    {
     "name": "stderr",
     "output_type": "stream",
     "text": [
      "wandb: Agent Starting Run: se5p87ev with config:\n",
      "wandb: \tL2_lamb: 0.0005\n",
      "wandb: \tactivation_f: tanh\n",
      "wandb: \tbatch_size: 16\n",
      "wandb: \tepochs: 10\n",
      "wandb: \tinit_mode: random_uniform\n",
      "wandb: \tlearning_rate: 0.0001\n",
      "wandb: \tnum_hidden: 4\n",
      "wandb: \tnum_neurons: 64\n",
      "wandb: \toptimizer: sgd\n"
     ]
    },
    {
     "data": {
      "text/html": [
       "creating run (0.0s)"
      ],
      "text/plain": [
       "<IPython.core.display.HTML object>"
      ]
     },
     "metadata": {},
     "output_type": "display_data"
    },
    {
     "data": {
      "text/html": [
       "Tracking run with wandb version 0.19.7"
      ],
      "text/plain": [
       "<IPython.core.display.HTML object>"
      ]
     },
     "metadata": {},
     "output_type": "display_data"
    },
    {
     "data": {
      "text/html": [
       "Run data is saved locally in <code>c:\\Users\\RAMKUMAR\\Desktop\\iitm\\sem2\\DL\\wandb\\run-20250308_095610-se5p87ev</code>"
      ],
      "text/plain": [
       "<IPython.core.display.HTML object>"
      ]
     },
     "metadata": {},
     "output_type": "display_data"
    },
    {
     "data": {
      "text/html": [
       "Syncing run <strong><a href='https://wandb.ai/cs24m037-iit-madras/DL_A1/runs/se5p87ev' target=\"_blank\">denim-sweep-39</a></strong> to <a href='https://wandb.ai/cs24m037-iit-madras/DL_A1' target=\"_blank\">Weights & Biases</a> (<a href='https://wandb.me/developer-guide' target=\"_blank\">docs</a>)<br>Sweep page: <a href='https://wandb.ai/cs24m037-iit-madras/DL_A1/sweeps/zbxy6yvx' target=\"_blank\">https://wandb.ai/cs24m037-iit-madras/DL_A1/sweeps/zbxy6yvx</a>"
      ],
      "text/plain": [
       "<IPython.core.display.HTML object>"
      ]
     },
     "metadata": {},
     "output_type": "display_data"
    },
    {
     "data": {
      "text/html": [
       " View project at <a href='https://wandb.ai/cs24m037-iit-madras/DL_A1' target=\"_blank\">https://wandb.ai/cs24m037-iit-madras/DL_A1</a>"
      ],
      "text/plain": [
       "<IPython.core.display.HTML object>"
      ]
     },
     "metadata": {},
     "output_type": "display_data"
    },
    {
     "data": {
      "text/html": [
       " View sweep at <a href='https://wandb.ai/cs24m037-iit-madras/DL_A1/sweeps/zbxy6yvx' target=\"_blank\">https://wandb.ai/cs24m037-iit-madras/DL_A1/sweeps/zbxy6yvx</a>"
      ],
      "text/plain": [
       "<IPython.core.display.HTML object>"
      ]
     },
     "metadata": {},
     "output_type": "display_data"
    },
    {
     "data": {
      "text/html": [
       " View run at <a href='https://wandb.ai/cs24m037-iit-madras/DL_A1/runs/se5p87ev' target=\"_blank\">https://wandb.ai/cs24m037-iit-madras/DL_A1/runs/se5p87ev</a>"
      ],
      "text/plain": [
       "<IPython.core.display.HTML object>"
      ]
     },
     "metadata": {},
     "output_type": "display_data"
    },
    {
     "name": "stdout",
     "output_type": "stream",
     "text": [
      "lr_0.0001_ac_tanh_in_random_uniform_op_sgd_bs_16_L2_0.0005_ep_10_nn_64_nh_4\n",
      "Epoch 1: Training Loss = 0.4500, Validation Loss = 0.4500, Training Acc = 0.0999, Validation Acc = 0.1013\n",
      "Epoch 2: Training Loss = 0.4500, Validation Loss = 0.4500, Training Acc = 0.0999, Validation Acc = 0.1013\n",
      "Epoch 3: Training Loss = 0.4500, Validation Loss = 0.4500, Training Acc = 0.1000, Validation Acc = 0.1015\n",
      "Epoch 4: Training Loss = 0.4500, Validation Loss = 0.4500, Training Acc = 0.1012, Validation Acc = 0.1032\n",
      "Epoch 5: Training Loss = 0.4500, Validation Loss = 0.4500, Training Acc = 0.0753, Validation Acc = 0.0795\n",
      "Epoch 6: Training Loss = 0.4500, Validation Loss = 0.4500, Training Acc = 0.1001, Validation Acc = 0.0995\n",
      "Epoch 7: Training Loss = 0.4500, Validation Loss = 0.4500, Training Acc = 0.1001, Validation Acc = 0.0995\n",
      "Epoch 8: Training Loss = 0.4500, Validation Loss = 0.4500, Training Acc = 0.1001, Validation Acc = 0.0993\n",
      "Epoch 9: Training Loss = 0.4500, Validation Loss = 0.4500, Training Acc = 0.1001, Validation Acc = 0.0993\n",
      "Epoch 10: Training Loss = 0.4500, Validation Loss = 0.4500, Training Acc = 0.1001, Validation Acc = 0.0993\n"
     ]
    },
    {
     "data": {
      "text/html": [],
      "text/plain": [
       "<IPython.core.display.HTML object>"
      ]
     },
     "metadata": {},
     "output_type": "display_data"
    },
    {
     "data": {
      "text/html": [
       "<br>    <style><br>        .wandb-row {<br>            display: flex;<br>            flex-direction: row;<br>            flex-wrap: wrap;<br>            justify-content: flex-start;<br>            width: 100%;<br>        }<br>        .wandb-col {<br>            display: flex;<br>            flex-direction: column;<br>            flex-basis: 100%;<br>            flex: 1;<br>            padding: 10px;<br>        }<br>    </style><br><div class=\"wandb-row\"><div class=\"wandb-col\"><h3>Run history:</h3><br/><table class=\"wandb\"><tr><td>epoch</td><td>▁▂▃▃▄▅▆▆▇█</td></tr><tr><td>training_accuracy</td><td>████▁█████</td></tr><tr><td>training_loss</td><td>█▇▆▆▅▄▃▃▂▁</td></tr><tr><td>validation_accuracy</td><td>▇▇██▁▇▇▇▇▇</td></tr><tr><td>validation_loss</td><td>█▇▆▆▅▄▃▃▂▁</td></tr></table><br/></div><div class=\"wandb-col\"><h3>Run summary:</h3><br/><table class=\"wandb\"><tr><td>epoch</td><td>10</td></tr><tr><td>training_accuracy</td><td>0.10006</td></tr><tr><td>training_loss</td><td>0.45</td></tr><tr><td>validation_accuracy</td><td>0.09933</td></tr><tr><td>validation_loss</td><td>0.45</td></tr></table><br/></div></div>"
      ],
      "text/plain": [
       "<IPython.core.display.HTML object>"
      ]
     },
     "metadata": {},
     "output_type": "display_data"
    },
    {
     "data": {
      "text/html": [
       " View run <strong style=\"color:#cdcd00\">lr_0.0001_ac_tanh_in_random_uniform_op_sgd_bs_16_L2_0.0005_ep_10_nn_64_nh_4</strong> at: <a href='https://wandb.ai/cs24m037-iit-madras/DL_A1/runs/se5p87ev' target=\"_blank\">https://wandb.ai/cs24m037-iit-madras/DL_A1/runs/se5p87ev</a><br> View project at: <a href='https://wandb.ai/cs24m037-iit-madras/DL_A1' target=\"_blank\">https://wandb.ai/cs24m037-iit-madras/DL_A1</a><br>Synced 5 W&B file(s), 0 media file(s), 0 artifact file(s) and 0 other file(s)"
      ],
      "text/plain": [
       "<IPython.core.display.HTML object>"
      ]
     },
     "metadata": {},
     "output_type": "display_data"
    },
    {
     "data": {
      "text/html": [
       "Find logs at: <code>.\\wandb\\run-20250308_095610-se5p87ev\\logs</code>"
      ],
      "text/plain": [
       "<IPython.core.display.HTML object>"
      ]
     },
     "metadata": {},
     "output_type": "display_data"
    },
    {
     "name": "stderr",
     "output_type": "stream",
     "text": [
      "wandb: Sweep Agent: Waiting for job.\n",
      "wandb: Job received.\n",
      "wandb: Agent Starting Run: ww1kcudn with config:\n",
      "wandb: \tL2_lamb: 0\n",
      "wandb: \tactivation_f: tanh\n",
      "wandb: \tbatch_size: 16\n",
      "wandb: \tepochs: 5\n",
      "wandb: \tinit_mode: random_uniform\n",
      "wandb: \tlearning_rate: 0.0001\n",
      "wandb: \tnum_hidden: 3\n",
      "wandb: \tnum_neurons: 64\n",
      "wandb: \toptimizer: nesterov\n"
     ]
    },
    {
     "data": {
      "text/html": [
       "Tracking run with wandb version 0.19.7"
      ],
      "text/plain": [
       "<IPython.core.display.HTML object>"
      ]
     },
     "metadata": {},
     "output_type": "display_data"
    },
    {
     "data": {
      "text/html": [
       "Run data is saved locally in <code>c:\\Users\\RAMKUMAR\\Desktop\\iitm\\sem2\\DL\\wandb\\run-20250308_095646-ww1kcudn</code>"
      ],
      "text/plain": [
       "<IPython.core.display.HTML object>"
      ]
     },
     "metadata": {},
     "output_type": "display_data"
    },
    {
     "data": {
      "text/html": [
       "Syncing run <strong><a href='https://wandb.ai/cs24m037-iit-madras/DL_A1/runs/ww1kcudn' target=\"_blank\">wandering-sweep-40</a></strong> to <a href='https://wandb.ai/cs24m037-iit-madras/DL_A1' target=\"_blank\">Weights & Biases</a> (<a href='https://wandb.me/developer-guide' target=\"_blank\">docs</a>)<br>Sweep page: <a href='https://wandb.ai/cs24m037-iit-madras/DL_A1/sweeps/zbxy6yvx' target=\"_blank\">https://wandb.ai/cs24m037-iit-madras/DL_A1/sweeps/zbxy6yvx</a>"
      ],
      "text/plain": [
       "<IPython.core.display.HTML object>"
      ]
     },
     "metadata": {},
     "output_type": "display_data"
    },
    {
     "data": {
      "text/html": [
       " View project at <a href='https://wandb.ai/cs24m037-iit-madras/DL_A1' target=\"_blank\">https://wandb.ai/cs24m037-iit-madras/DL_A1</a>"
      ],
      "text/plain": [
       "<IPython.core.display.HTML object>"
      ]
     },
     "metadata": {},
     "output_type": "display_data"
    },
    {
     "data": {
      "text/html": [
       " View sweep at <a href='https://wandb.ai/cs24m037-iit-madras/DL_A1/sweeps/zbxy6yvx' target=\"_blank\">https://wandb.ai/cs24m037-iit-madras/DL_A1/sweeps/zbxy6yvx</a>"
      ],
      "text/plain": [
       "<IPython.core.display.HTML object>"
      ]
     },
     "metadata": {},
     "output_type": "display_data"
    },
    {
     "data": {
      "text/html": [
       " View run at <a href='https://wandb.ai/cs24m037-iit-madras/DL_A1/runs/ww1kcudn' target=\"_blank\">https://wandb.ai/cs24m037-iit-madras/DL_A1/runs/ww1kcudn</a>"
      ],
      "text/plain": [
       "<IPython.core.display.HTML object>"
      ]
     },
     "metadata": {},
     "output_type": "display_data"
    },
    {
     "name": "stdout",
     "output_type": "stream",
     "text": [
      "lr_0.0001_ac_tanh_in_random_uniform_op_nesterov_bs_16_L2_0_ep_5_nn_64_nh_3\n",
      "Epoch 1: Training Loss = 0.4500, Validation Loss = 0.4500, Training Acc = 0.1009, Validation Acc = 0.0917\n",
      "Epoch 2: Training Loss = 0.4500, Validation Loss = 0.4500, Training Acc = 0.1009, Validation Acc = 0.0917\n",
      "Epoch 3: Training Loss = 0.4500, Validation Loss = 0.4500, Training Acc = 0.1009, Validation Acc = 0.0917\n",
      "Epoch 4: Training Loss = 0.4500, Validation Loss = 0.4500, Training Acc = 0.1006, Validation Acc = 0.1042\n",
      "Epoch 5: Training Loss = 0.4500, Validation Loss = 0.4500, Training Acc = 0.0998, Validation Acc = 0.1032\n"
     ]
    },
    {
     "data": {
      "text/html": [],
      "text/plain": [
       "<IPython.core.display.HTML object>"
      ]
     },
     "metadata": {},
     "output_type": "display_data"
    },
    {
     "data": {
      "text/html": [
       "<br>    <style><br>        .wandb-row {<br>            display: flex;<br>            flex-direction: row;<br>            flex-wrap: wrap;<br>            justify-content: flex-start;<br>            width: 100%;<br>        }<br>        .wandb-col {<br>            display: flex;<br>            flex-direction: column;<br>            flex-basis: 100%;<br>            flex: 1;<br>            padding: 10px;<br>        }<br>    </style><br><div class=\"wandb-row\"><div class=\"wandb-col\"><h3>Run history:</h3><br/><table class=\"wandb\"><tr><td>epoch</td><td>▁▃▅▆█</td></tr><tr><td>training_accuracy</td><td>███▆▁</td></tr><tr><td>training_loss</td><td>█▆▄▃▁</td></tr><tr><td>validation_accuracy</td><td>▁▁▁█▇</td></tr><tr><td>validation_loss</td><td>█▆▄▃▁</td></tr></table><br/></div><div class=\"wandb-col\"><h3>Run summary:</h3><br/><table class=\"wandb\"><tr><td>epoch</td><td>5</td></tr><tr><td>training_accuracy</td><td>0.0998</td></tr><tr><td>training_loss</td><td>0.44999</td></tr><tr><td>validation_accuracy</td><td>0.10317</td></tr><tr><td>validation_loss</td><td>0.45</td></tr></table><br/></div></div>"
      ],
      "text/plain": [
       "<IPython.core.display.HTML object>"
      ]
     },
     "metadata": {},
     "output_type": "display_data"
    },
    {
     "data": {
      "text/html": [
       " View run <strong style=\"color:#cdcd00\">lr_0.0001_ac_tanh_in_random_uniform_op_nesterov_bs_16_L2_0_ep_5_nn_64_nh_3</strong> at: <a href='https://wandb.ai/cs24m037-iit-madras/DL_A1/runs/ww1kcudn' target=\"_blank\">https://wandb.ai/cs24m037-iit-madras/DL_A1/runs/ww1kcudn</a><br> View project at: <a href='https://wandb.ai/cs24m037-iit-madras/DL_A1' target=\"_blank\">https://wandb.ai/cs24m037-iit-madras/DL_A1</a><br>Synced 5 W&B file(s), 0 media file(s), 0 artifact file(s) and 0 other file(s)"
      ],
      "text/plain": [
       "<IPython.core.display.HTML object>"
      ]
     },
     "metadata": {},
     "output_type": "display_data"
    },
    {
     "data": {
      "text/html": [
       "Find logs at: <code>.\\wandb\\run-20250308_095646-ww1kcudn\\logs</code>"
      ],
      "text/plain": [
       "<IPython.core.display.HTML object>"
      ]
     },
     "metadata": {},
     "output_type": "display_data"
    },
    {
     "name": "stderr",
     "output_type": "stream",
     "text": [
      "wandb: Sweep Agent: Waiting for job.\n",
      "wandb: Job received.\n",
      "wandb: Agent Starting Run: 6j64xt30 with config:\n",
      "wandb: \tL2_lamb: 0\n",
      "wandb: \tactivation_f: tanh\n",
      "wandb: \tbatch_size: 32\n",
      "wandb: \tepochs: 5\n",
      "wandb: \tinit_mode: xavier\n",
      "wandb: \tlearning_rate: 0.001\n",
      "wandb: \tnum_hidden: 3\n",
      "wandb: \tnum_neurons: 32\n",
      "wandb: \toptimizer: sgd\n"
     ]
    },
    {
     "data": {
      "text/html": [
       "Tracking run with wandb version 0.19.7"
      ],
      "text/plain": [
       "<IPython.core.display.HTML object>"
      ]
     },
     "metadata": {},
     "output_type": "display_data"
    },
    {
     "data": {
      "text/html": [
       "Run data is saved locally in <code>c:\\Users\\RAMKUMAR\\Desktop\\iitm\\sem2\\DL\\wandb\\run-20250308_095713-6j64xt30</code>"
      ],
      "text/plain": [
       "<IPython.core.display.HTML object>"
      ]
     },
     "metadata": {},
     "output_type": "display_data"
    },
    {
     "data": {
      "text/html": [
       "Syncing run <strong><a href='https://wandb.ai/cs24m037-iit-madras/DL_A1/runs/6j64xt30' target=\"_blank\">chocolate-sweep-41</a></strong> to <a href='https://wandb.ai/cs24m037-iit-madras/DL_A1' target=\"_blank\">Weights & Biases</a> (<a href='https://wandb.me/developer-guide' target=\"_blank\">docs</a>)<br>Sweep page: <a href='https://wandb.ai/cs24m037-iit-madras/DL_A1/sweeps/zbxy6yvx' target=\"_blank\">https://wandb.ai/cs24m037-iit-madras/DL_A1/sweeps/zbxy6yvx</a>"
      ],
      "text/plain": [
       "<IPython.core.display.HTML object>"
      ]
     },
     "metadata": {},
     "output_type": "display_data"
    },
    {
     "data": {
      "text/html": [
       " View project at <a href='https://wandb.ai/cs24m037-iit-madras/DL_A1' target=\"_blank\">https://wandb.ai/cs24m037-iit-madras/DL_A1</a>"
      ],
      "text/plain": [
       "<IPython.core.display.HTML object>"
      ]
     },
     "metadata": {},
     "output_type": "display_data"
    },
    {
     "data": {
      "text/html": [
       " View sweep at <a href='https://wandb.ai/cs24m037-iit-madras/DL_A1/sweeps/zbxy6yvx' target=\"_blank\">https://wandb.ai/cs24m037-iit-madras/DL_A1/sweeps/zbxy6yvx</a>"
      ],
      "text/plain": [
       "<IPython.core.display.HTML object>"
      ]
     },
     "metadata": {},
     "output_type": "display_data"
    },
    {
     "data": {
      "text/html": [
       " View run at <a href='https://wandb.ai/cs24m037-iit-madras/DL_A1/runs/6j64xt30' target=\"_blank\">https://wandb.ai/cs24m037-iit-madras/DL_A1/runs/6j64xt30</a>"
      ],
      "text/plain": [
       "<IPython.core.display.HTML object>"
      ]
     },
     "metadata": {},
     "output_type": "display_data"
    },
    {
     "name": "stdout",
     "output_type": "stream",
     "text": [
      "lr_0.001_ac_tanh_in_xavier_op_sgd_bs_32_L2_0_ep_5_nn_32_nh_3\n",
      "Epoch 1: Training Loss = 0.4370, Validation Loss = 0.4368, Training Acc = 0.2003, Validation Acc = 0.2035\n",
      "Epoch 2: Training Loss = 0.4100, Validation Loss = 0.4105, Training Acc = 0.3277, Validation Acc = 0.3268\n",
      "Epoch 3: Training Loss = 0.3843, Validation Loss = 0.3852, Training Acc = 0.4264, Validation Acc = 0.4287\n",
      "Epoch 4: Training Loss = 0.3632, Validation Loss = 0.3644, Training Acc = 0.4841, Validation Acc = 0.4855\n",
      "Epoch 5: Training Loss = 0.3452, Validation Loss = 0.3466, Training Acc = 0.5192, Validation Acc = 0.5180\n"
     ]
    },
    {
     "data": {
      "text/html": [],
      "text/plain": [
       "<IPython.core.display.HTML object>"
      ]
     },
     "metadata": {},
     "output_type": "display_data"
    },
    {
     "data": {
      "text/html": [
       "<br>    <style><br>        .wandb-row {<br>            display: flex;<br>            flex-direction: row;<br>            flex-wrap: wrap;<br>            justify-content: flex-start;<br>            width: 100%;<br>        }<br>        .wandb-col {<br>            display: flex;<br>            flex-direction: column;<br>            flex-basis: 100%;<br>            flex: 1;<br>            padding: 10px;<br>        }<br>    </style><br><div class=\"wandb-row\"><div class=\"wandb-col\"><h3>Run history:</h3><br/><table class=\"wandb\"><tr><td>epoch</td><td>▁▃▅▆█</td></tr><tr><td>training_accuracy</td><td>▁▄▆▇█</td></tr><tr><td>training_loss</td><td>█▆▄▂▁</td></tr><tr><td>validation_accuracy</td><td>▁▄▆▇█</td></tr><tr><td>validation_loss</td><td>█▆▄▂▁</td></tr></table><br/></div><div class=\"wandb-col\"><h3>Run summary:</h3><br/><table class=\"wandb\"><tr><td>epoch</td><td>5</td></tr><tr><td>training_accuracy</td><td>0.51917</td></tr><tr><td>training_loss</td><td>0.34517</td></tr><tr><td>validation_accuracy</td><td>0.518</td></tr><tr><td>validation_loss</td><td>0.34664</td></tr></table><br/></div></div>"
      ],
      "text/plain": [
       "<IPython.core.display.HTML object>"
      ]
     },
     "metadata": {},
     "output_type": "display_data"
    },
    {
     "data": {
      "text/html": [
       " View run <strong style=\"color:#cdcd00\">lr_0.001_ac_tanh_in_xavier_op_sgd_bs_32_L2_0_ep_5_nn_32_nh_3</strong> at: <a href='https://wandb.ai/cs24m037-iit-madras/DL_A1/runs/6j64xt30' target=\"_blank\">https://wandb.ai/cs24m037-iit-madras/DL_A1/runs/6j64xt30</a><br> View project at: <a href='https://wandb.ai/cs24m037-iit-madras/DL_A1' target=\"_blank\">https://wandb.ai/cs24m037-iit-madras/DL_A1</a><br>Synced 5 W&B file(s), 0 media file(s), 0 artifact file(s) and 0 other file(s)"
      ],
      "text/plain": [
       "<IPython.core.display.HTML object>"
      ]
     },
     "metadata": {},
     "output_type": "display_data"
    },
    {
     "data": {
      "text/html": [
       "Find logs at: <code>.\\wandb\\run-20250308_095713-6j64xt30\\logs</code>"
      ],
      "text/plain": [
       "<IPython.core.display.HTML object>"
      ]
     },
     "metadata": {},
     "output_type": "display_data"
    },
    {
     "name": "stderr",
     "output_type": "stream",
     "text": [
      "wandb: Agent Starting Run: 81xruseq with config:\n",
      "wandb: \tL2_lamb: 0\n",
      "wandb: \tactivation_f: sigmoid\n",
      "wandb: \tbatch_size: 32\n",
      "wandb: \tepochs: 5\n",
      "wandb: \tinit_mode: random_uniform\n",
      "wandb: \tlearning_rate: 0.0001\n",
      "wandb: \tnum_hidden: 3\n",
      "wandb: \tnum_neurons: 32\n",
      "wandb: \toptimizer: sgd\n"
     ]
    },
    {
     "data": {
      "text/html": [
       "Tracking run with wandb version 0.19.7"
      ],
      "text/plain": [
       "<IPython.core.display.HTML object>"
      ]
     },
     "metadata": {},
     "output_type": "display_data"
    },
    {
     "data": {
      "text/html": [
       "Run data is saved locally in <code>c:\\Users\\RAMKUMAR\\Desktop\\iitm\\sem2\\DL\\wandb\\run-20250308_095724-81xruseq</code>"
      ],
      "text/plain": [
       "<IPython.core.display.HTML object>"
      ]
     },
     "metadata": {},
     "output_type": "display_data"
    },
    {
     "data": {
      "text/html": [
       "Syncing run <strong><a href='https://wandb.ai/cs24m037-iit-madras/DL_A1/runs/81xruseq' target=\"_blank\">dry-sweep-42</a></strong> to <a href='https://wandb.ai/cs24m037-iit-madras/DL_A1' target=\"_blank\">Weights & Biases</a> (<a href='https://wandb.me/developer-guide' target=\"_blank\">docs</a>)<br>Sweep page: <a href='https://wandb.ai/cs24m037-iit-madras/DL_A1/sweeps/zbxy6yvx' target=\"_blank\">https://wandb.ai/cs24m037-iit-madras/DL_A1/sweeps/zbxy6yvx</a>"
      ],
      "text/plain": [
       "<IPython.core.display.HTML object>"
      ]
     },
     "metadata": {},
     "output_type": "display_data"
    },
    {
     "data": {
      "text/html": [
       " View project at <a href='https://wandb.ai/cs24m037-iit-madras/DL_A1' target=\"_blank\">https://wandb.ai/cs24m037-iit-madras/DL_A1</a>"
      ],
      "text/plain": [
       "<IPython.core.display.HTML object>"
      ]
     },
     "metadata": {},
     "output_type": "display_data"
    },
    {
     "data": {
      "text/html": [
       " View sweep at <a href='https://wandb.ai/cs24m037-iit-madras/DL_A1/sweeps/zbxy6yvx' target=\"_blank\">https://wandb.ai/cs24m037-iit-madras/DL_A1/sweeps/zbxy6yvx</a>"
      ],
      "text/plain": [
       "<IPython.core.display.HTML object>"
      ]
     },
     "metadata": {},
     "output_type": "display_data"
    },
    {
     "data": {
      "text/html": [
       " View run at <a href='https://wandb.ai/cs24m037-iit-madras/DL_A1/runs/81xruseq' target=\"_blank\">https://wandb.ai/cs24m037-iit-madras/DL_A1/runs/81xruseq</a>"
      ],
      "text/plain": [
       "<IPython.core.display.HTML object>"
      ]
     },
     "metadata": {},
     "output_type": "display_data"
    },
    {
     "name": "stdout",
     "output_type": "stream",
     "text": [
      "lr_0.0001_ac_sigmoid_in_random_uniform_op_sgd_bs_32_L2_0_ep_5_nn_32_nh_3\n",
      "Epoch 1: Training Loss = 0.4500, Validation Loss = 0.4500, Training Acc = 0.0996, Validation Acc = 0.1035\n",
      "Epoch 2: Training Loss = 0.4500, Validation Loss = 0.4500, Training Acc = 0.0996, Validation Acc = 0.1035\n",
      "Epoch 3: Training Loss = 0.4500, Validation Loss = 0.4500, Training Acc = 0.1001, Validation Acc = 0.0995\n",
      "Epoch 4: Training Loss = 0.4500, Validation Loss = 0.4500, Training Acc = 0.1001, Validation Acc = 0.0995\n",
      "Epoch 5: Training Loss = 0.4500, Validation Loss = 0.4500, Training Acc = 0.1001, Validation Acc = 0.0995\n"
     ]
    },
    {
     "data": {
      "text/html": [],
      "text/plain": [
       "<IPython.core.display.HTML object>"
      ]
     },
     "metadata": {},
     "output_type": "display_data"
    },
    {
     "data": {
      "text/html": [
       "<br>    <style><br>        .wandb-row {<br>            display: flex;<br>            flex-direction: row;<br>            flex-wrap: wrap;<br>            justify-content: flex-start;<br>            width: 100%;<br>        }<br>        .wandb-col {<br>            display: flex;<br>            flex-direction: column;<br>            flex-basis: 100%;<br>            flex: 1;<br>            padding: 10px;<br>        }<br>    </style><br><div class=\"wandb-row\"><div class=\"wandb-col\"><h3>Run history:</h3><br/><table class=\"wandb\"><tr><td>epoch</td><td>▁▃▅▆█</td></tr><tr><td>training_accuracy</td><td>▁▁███</td></tr><tr><td>training_loss</td><td>█▆▅▃▁</td></tr><tr><td>validation_accuracy</td><td>██▁▁▁</td></tr><tr><td>validation_loss</td><td>▁▃▅▆█</td></tr></table><br/></div><div class=\"wandb-col\"><h3>Run summary:</h3><br/><table class=\"wandb\"><tr><td>epoch</td><td>5</td></tr><tr><td>training_accuracy</td><td>0.10006</td></tr><tr><td>training_loss</td><td>0.45</td></tr><tr><td>validation_accuracy</td><td>0.0995</td></tr><tr><td>validation_loss</td><td>0.45</td></tr></table><br/></div></div>"
      ],
      "text/plain": [
       "<IPython.core.display.HTML object>"
      ]
     },
     "metadata": {},
     "output_type": "display_data"
    },
    {
     "data": {
      "text/html": [
       " View run <strong style=\"color:#cdcd00\">lr_0.0001_ac_sigmoid_in_random_uniform_op_sgd_bs_32_L2_0_ep_5_nn_32_nh_3</strong> at: <a href='https://wandb.ai/cs24m037-iit-madras/DL_A1/runs/81xruseq' target=\"_blank\">https://wandb.ai/cs24m037-iit-madras/DL_A1/runs/81xruseq</a><br> View project at: <a href='https://wandb.ai/cs24m037-iit-madras/DL_A1' target=\"_blank\">https://wandb.ai/cs24m037-iit-madras/DL_A1</a><br>Synced 5 W&B file(s), 0 media file(s), 0 artifact file(s) and 0 other file(s)"
      ],
      "text/plain": [
       "<IPython.core.display.HTML object>"
      ]
     },
     "metadata": {},
     "output_type": "display_data"
    },
    {
     "data": {
      "text/html": [
       "Find logs at: <code>.\\wandb\\run-20250308_095724-81xruseq\\logs</code>"
      ],
      "text/plain": [
       "<IPython.core.display.HTML object>"
      ]
     },
     "metadata": {},
     "output_type": "display_data"
    },
    {
     "name": "stderr",
     "output_type": "stream",
     "text": [
      "wandb: Agent Starting Run: je1gkdlw with config:\n",
      "wandb: \tL2_lamb: 0.5\n",
      "wandb: \tactivation_f: tanh\n",
      "wandb: \tbatch_size: 64\n",
      "wandb: \tepochs: 10\n",
      "wandb: \tinit_mode: random_uniform\n",
      "wandb: \tlearning_rate: 0.001\n",
      "wandb: \tnum_hidden: 5\n",
      "wandb: \tnum_neurons: 32\n",
      "wandb: \toptimizer: sgd\n"
     ]
    },
    {
     "data": {
      "text/html": [
       "Tracking run with wandb version 0.19.7"
      ],
      "text/plain": [
       "<IPython.core.display.HTML object>"
      ]
     },
     "metadata": {},
     "output_type": "display_data"
    },
    {
     "data": {
      "text/html": [
       "Run data is saved locally in <code>c:\\Users\\RAMKUMAR\\Desktop\\iitm\\sem2\\DL\\wandb\\run-20250308_095734-je1gkdlw</code>"
      ],
      "text/plain": [
       "<IPython.core.display.HTML object>"
      ]
     },
     "metadata": {},
     "output_type": "display_data"
    },
    {
     "data": {
      "text/html": [
       "Syncing run <strong><a href='https://wandb.ai/cs24m037-iit-madras/DL_A1/runs/je1gkdlw' target=\"_blank\">stellar-sweep-43</a></strong> to <a href='https://wandb.ai/cs24m037-iit-madras/DL_A1' target=\"_blank\">Weights & Biases</a> (<a href='https://wandb.me/developer-guide' target=\"_blank\">docs</a>)<br>Sweep page: <a href='https://wandb.ai/cs24m037-iit-madras/DL_A1/sweeps/zbxy6yvx' target=\"_blank\">https://wandb.ai/cs24m037-iit-madras/DL_A1/sweeps/zbxy6yvx</a>"
      ],
      "text/plain": [
       "<IPython.core.display.HTML object>"
      ]
     },
     "metadata": {},
     "output_type": "display_data"
    },
    {
     "data": {
      "text/html": [
       " View project at <a href='https://wandb.ai/cs24m037-iit-madras/DL_A1' target=\"_blank\">https://wandb.ai/cs24m037-iit-madras/DL_A1</a>"
      ],
      "text/plain": [
       "<IPython.core.display.HTML object>"
      ]
     },
     "metadata": {},
     "output_type": "display_data"
    },
    {
     "data": {
      "text/html": [
       " View sweep at <a href='https://wandb.ai/cs24m037-iit-madras/DL_A1/sweeps/zbxy6yvx' target=\"_blank\">https://wandb.ai/cs24m037-iit-madras/DL_A1/sweeps/zbxy6yvx</a>"
      ],
      "text/plain": [
       "<IPython.core.display.HTML object>"
      ]
     },
     "metadata": {},
     "output_type": "display_data"
    },
    {
     "data": {
      "text/html": [
       " View run at <a href='https://wandb.ai/cs24m037-iit-madras/DL_A1/runs/je1gkdlw' target=\"_blank\">https://wandb.ai/cs24m037-iit-madras/DL_A1/runs/je1gkdlw</a>"
      ],
      "text/plain": [
       "<IPython.core.display.HTML object>"
      ]
     },
     "metadata": {},
     "output_type": "display_data"
    },
    {
     "name": "stdout",
     "output_type": "stream",
     "text": [
      "lr_0.001_ac_tanh_in_random_uniform_op_sgd_bs_64_L2_0.5_ep_10_nn_32_nh_5\n",
      "Epoch 1: Training Loss = 0.4500, Validation Loss = 0.4500, Training Acc = 0.1009, Validation Acc = 0.0917\n",
      "Epoch 2: Training Loss = 0.4500, Validation Loss = 0.4500, Training Acc = 0.1009, Validation Acc = 0.0917\n",
      "Epoch 3: Training Loss = 0.4500, Validation Loss = 0.4500, Training Acc = 0.1009, Validation Acc = 0.0917\n",
      "Epoch 4: Training Loss = 0.4500, Validation Loss = 0.4500, Training Acc = 0.1009, Validation Acc = 0.0917\n",
      "Epoch 5: Training Loss = 0.4500, Validation Loss = 0.4500, Training Acc = 0.1009, Validation Acc = 0.0917\n",
      "Epoch 6: Training Loss = 0.4500, Validation Loss = 0.4500, Training Acc = 0.1009, Validation Acc = 0.0917\n",
      "Epoch 7: Training Loss = 0.4500, Validation Loss = 0.4500, Training Acc = 0.1009, Validation Acc = 0.0917\n",
      "Epoch 8: Training Loss = 0.4500, Validation Loss = 0.4500, Training Acc = 0.1009, Validation Acc = 0.0917\n",
      "Epoch 9: Training Loss = 0.4500, Validation Loss = 0.4500, Training Acc = 0.1009, Validation Acc = 0.0917\n",
      "Epoch 10: Training Loss = 0.4500, Validation Loss = 0.4500, Training Acc = 0.1009, Validation Acc = 0.0917\n"
     ]
    },
    {
     "data": {
      "text/html": [],
      "text/plain": [
       "<IPython.core.display.HTML object>"
      ]
     },
     "metadata": {},
     "output_type": "display_data"
    },
    {
     "data": {
      "text/html": [
       "<br>    <style><br>        .wandb-row {<br>            display: flex;<br>            flex-direction: row;<br>            flex-wrap: wrap;<br>            justify-content: flex-start;<br>            width: 100%;<br>        }<br>        .wandb-col {<br>            display: flex;<br>            flex-direction: column;<br>            flex-basis: 100%;<br>            flex: 1;<br>            padding: 10px;<br>        }<br>    </style><br><div class=\"wandb-row\"><div class=\"wandb-col\"><h3>Run history:</h3><br/><table class=\"wandb\"><tr><td>epoch</td><td>▁▂▃▃▄▅▆▆▇█</td></tr><tr><td>training_accuracy</td><td>▁▁▁▁▁▁▁▁▁▁</td></tr><tr><td>training_loss</td><td>█▇▇▆▅▄▃▃▂▁</td></tr><tr><td>validation_accuracy</td><td>▁▁▁▁▁▁▁▁▁▁</td></tr><tr><td>validation_loss</td><td>█▇▆▆▅▄▃▃▂▁</td></tr></table><br/></div><div class=\"wandb-col\"><h3>Run summary:</h3><br/><table class=\"wandb\"><tr><td>epoch</td><td>10</td></tr><tr><td>training_accuracy</td><td>0.10093</td></tr><tr><td>training_loss</td><td>0.45</td></tr><tr><td>validation_accuracy</td><td>0.09167</td></tr><tr><td>validation_loss</td><td>0.45004</td></tr></table><br/></div></div>"
      ],
      "text/plain": [
       "<IPython.core.display.HTML object>"
      ]
     },
     "metadata": {},
     "output_type": "display_data"
    },
    {
     "data": {
      "text/html": [
       " View run <strong style=\"color:#cdcd00\">lr_0.001_ac_tanh_in_random_uniform_op_sgd_bs_64_L2_0.5_ep_10_nn_32_nh_5</strong> at: <a href='https://wandb.ai/cs24m037-iit-madras/DL_A1/runs/je1gkdlw' target=\"_blank\">https://wandb.ai/cs24m037-iit-madras/DL_A1/runs/je1gkdlw</a><br> View project at: <a href='https://wandb.ai/cs24m037-iit-madras/DL_A1' target=\"_blank\">https://wandb.ai/cs24m037-iit-madras/DL_A1</a><br>Synced 5 W&B file(s), 0 media file(s), 0 artifact file(s) and 0 other file(s)"
      ],
      "text/plain": [
       "<IPython.core.display.HTML object>"
      ]
     },
     "metadata": {},
     "output_type": "display_data"
    },
    {
     "data": {
      "text/html": [
       "Find logs at: <code>.\\wandb\\run-20250308_095734-je1gkdlw\\logs</code>"
      ],
      "text/plain": [
       "<IPython.core.display.HTML object>"
      ]
     },
     "metadata": {},
     "output_type": "display_data"
    },
    {
     "name": "stderr",
     "output_type": "stream",
     "text": [
      "wandb: Agent Starting Run: abssp8ih with config:\n",
      "wandb: \tL2_lamb: 0.0005\n",
      "wandb: \tactivation_f: sigmoid\n",
      "wandb: \tbatch_size: 32\n",
      "wandb: \tepochs: 10\n",
      "wandb: \tinit_mode: random_uniform\n",
      "wandb: \tlearning_rate: 0.001\n",
      "wandb: \tnum_hidden: 5\n",
      "wandb: \tnum_neurons: 64\n",
      "wandb: \toptimizer: adam\n"
     ]
    },
    {
     "data": {
      "text/html": [],
      "text/plain": [
       "<IPython.core.display.HTML object>"
      ]
     },
     "metadata": {},
     "output_type": "display_data"
    },
    {
     "data": {
      "text/html": [
       "Tracking run with wandb version 0.19.7"
      ],
      "text/plain": [
       "<IPython.core.display.HTML object>"
      ]
     },
     "metadata": {},
     "output_type": "display_data"
    },
    {
     "data": {
      "text/html": [
       "Run data is saved locally in <code>c:\\Users\\RAMKUMAR\\Desktop\\iitm\\sem2\\DL\\wandb\\run-20250308_095750-abssp8ih</code>"
      ],
      "text/plain": [
       "<IPython.core.display.HTML object>"
      ]
     },
     "metadata": {},
     "output_type": "display_data"
    },
    {
     "data": {
      "text/html": [
       "Syncing run <strong><a href='https://wandb.ai/cs24m037-iit-madras/DL_A1/runs/abssp8ih' target=\"_blank\">desert-sweep-44</a></strong> to <a href='https://wandb.ai/cs24m037-iit-madras/DL_A1' target=\"_blank\">Weights & Biases</a> (<a href='https://wandb.me/developer-guide' target=\"_blank\">docs</a>)<br>Sweep page: <a href='https://wandb.ai/cs24m037-iit-madras/DL_A1/sweeps/zbxy6yvx' target=\"_blank\">https://wandb.ai/cs24m037-iit-madras/DL_A1/sweeps/zbxy6yvx</a>"
      ],
      "text/plain": [
       "<IPython.core.display.HTML object>"
      ]
     },
     "metadata": {},
     "output_type": "display_data"
    },
    {
     "data": {
      "text/html": [
       " View project at <a href='https://wandb.ai/cs24m037-iit-madras/DL_A1' target=\"_blank\">https://wandb.ai/cs24m037-iit-madras/DL_A1</a>"
      ],
      "text/plain": [
       "<IPython.core.display.HTML object>"
      ]
     },
     "metadata": {},
     "output_type": "display_data"
    },
    {
     "data": {
      "text/html": [
       " View sweep at <a href='https://wandb.ai/cs24m037-iit-madras/DL_A1/sweeps/zbxy6yvx' target=\"_blank\">https://wandb.ai/cs24m037-iit-madras/DL_A1/sweeps/zbxy6yvx</a>"
      ],
      "text/plain": [
       "<IPython.core.display.HTML object>"
      ]
     },
     "metadata": {},
     "output_type": "display_data"
    },
    {
     "data": {
      "text/html": [
       " View run at <a href='https://wandb.ai/cs24m037-iit-madras/DL_A1/runs/abssp8ih' target=\"_blank\">https://wandb.ai/cs24m037-iit-madras/DL_A1/runs/abssp8ih</a>"
      ],
      "text/plain": [
       "<IPython.core.display.HTML object>"
      ]
     },
     "metadata": {},
     "output_type": "display_data"
    },
    {
     "name": "stdout",
     "output_type": "stream",
     "text": [
      "lr_0.001_ac_sigmoid_in_random_uniform_op_adam_bs_32_L2_0.0005_ep_10_nn_64_nh_5\n",
      "Epoch 1: Training Loss = 0.4500, Validation Loss = 0.4500, Training Acc = 0.0996, Validation Acc = 0.1035\n",
      "Epoch 2: Training Loss = 0.4500, Validation Loss = 0.4500, Training Acc = 0.0996, Validation Acc = 0.1035\n",
      "Epoch 3: Training Loss = 0.4500, Validation Loss = 0.4500, Training Acc = 0.0996, Validation Acc = 0.1035\n",
      "Epoch 4: Training Loss = 0.4500, Validation Loss = 0.4500, Training Acc = 0.0996, Validation Acc = 0.1035\n",
      "Epoch 5: Training Loss = 0.4500, Validation Loss = 0.4500, Training Acc = 0.0996, Validation Acc = 0.1035\n",
      "Epoch 6: Training Loss = 0.4500, Validation Loss = 0.4500, Training Acc = 0.0996, Validation Acc = 0.1035\n",
      "Epoch 7: Training Loss = 0.4500, Validation Loss = 0.4500, Training Acc = 0.0996, Validation Acc = 0.1035\n",
      "Epoch 8: Training Loss = 0.4500, Validation Loss = 0.4500, Training Acc = 0.0996, Validation Acc = 0.1035\n",
      "Epoch 9: Training Loss = 0.4500, Validation Loss = 0.4500, Training Acc = 0.0996, Validation Acc = 0.1035\n",
      "Epoch 10: Training Loss = 0.4500, Validation Loss = 0.4500, Training Acc = 0.0996, Validation Acc = 0.1035\n"
     ]
    },
    {
     "data": {
      "text/html": [],
      "text/plain": [
       "<IPython.core.display.HTML object>"
      ]
     },
     "metadata": {},
     "output_type": "display_data"
    },
    {
     "data": {
      "text/html": [
       "<br>    <style><br>        .wandb-row {<br>            display: flex;<br>            flex-direction: row;<br>            flex-wrap: wrap;<br>            justify-content: flex-start;<br>            width: 100%;<br>        }<br>        .wandb-col {<br>            display: flex;<br>            flex-direction: column;<br>            flex-basis: 100%;<br>            flex: 1;<br>            padding: 10px;<br>        }<br>    </style><br><div class=\"wandb-row\"><div class=\"wandb-col\"><h3>Run history:</h3><br/><table class=\"wandb\"><tr><td>epoch</td><td>▁▂▃▃▄▅▆▆▇█</td></tr><tr><td>training_accuracy</td><td>▁▁▁▁▁▁▁▁▁▁</td></tr><tr><td>training_loss</td><td>▁▄▅▅▆▇▇▇██</td></tr><tr><td>validation_accuracy</td><td>▁▁▁▁▁▁▁▁▁▁</td></tr><tr><td>validation_loss</td><td>█▆▆▅▅▄▃▂▁▁</td></tr></table><br/></div><div class=\"wandb-col\"><h3>Run summary:</h3><br/><table class=\"wandb\"><tr><td>epoch</td><td>10</td></tr><tr><td>training_accuracy</td><td>0.09961</td></tr><tr><td>training_loss</td><td>0.45002</td></tr><tr><td>validation_accuracy</td><td>0.1035</td></tr><tr><td>validation_loss</td><td>0.44998</td></tr></table><br/></div></div>"
      ],
      "text/plain": [
       "<IPython.core.display.HTML object>"
      ]
     },
     "metadata": {},
     "output_type": "display_data"
    },
    {
     "data": {
      "text/html": [
       " View run <strong style=\"color:#cdcd00\">lr_0.001_ac_sigmoid_in_random_uniform_op_adam_bs_32_L2_0.0005_ep_10_nn_64_nh_5</strong> at: <a href='https://wandb.ai/cs24m037-iit-madras/DL_A1/runs/abssp8ih' target=\"_blank\">https://wandb.ai/cs24m037-iit-madras/DL_A1/runs/abssp8ih</a><br> View project at: <a href='https://wandb.ai/cs24m037-iit-madras/DL_A1' target=\"_blank\">https://wandb.ai/cs24m037-iit-madras/DL_A1</a><br>Synced 5 W&B file(s), 0 media file(s), 0 artifact file(s) and 0 other file(s)"
      ],
      "text/plain": [
       "<IPython.core.display.HTML object>"
      ]
     },
     "metadata": {},
     "output_type": "display_data"
    },
    {
     "data": {
      "text/html": [
       "Find logs at: <code>.\\wandb\\run-20250308_095750-abssp8ih\\logs</code>"
      ],
      "text/plain": [
       "<IPython.core.display.HTML object>"
      ]
     },
     "metadata": {},
     "output_type": "display_data"
    },
    {
     "name": "stderr",
     "output_type": "stream",
     "text": [
      "wandb: Agent Starting Run: lcbuy9u7 with config:\n",
      "wandb: \tL2_lamb: 0.0005\n",
      "wandb: \tactivation_f: tanh\n",
      "wandb: \tbatch_size: 16\n",
      "wandb: \tepochs: 10\n",
      "wandb: \tinit_mode: random_uniform\n",
      "wandb: \tlearning_rate: 0.0001\n",
      "wandb: \tnum_hidden: 4\n",
      "wandb: \tnum_neurons: 64\n",
      "wandb: \toptimizer: momentum\n"
     ]
    },
    {
     "data": {
      "text/html": [
       "Tracking run with wandb version 0.19.7"
      ],
      "text/plain": [
       "<IPython.core.display.HTML object>"
      ]
     },
     "metadata": {},
     "output_type": "display_data"
    },
    {
     "data": {
      "text/html": [
       "Run data is saved locally in <code>c:\\Users\\RAMKUMAR\\Desktop\\iitm\\sem2\\DL\\wandb\\run-20250308_095827-lcbuy9u7</code>"
      ],
      "text/plain": [
       "<IPython.core.display.HTML object>"
      ]
     },
     "metadata": {},
     "output_type": "display_data"
    },
    {
     "data": {
      "text/html": [
       "Syncing run <strong><a href='https://wandb.ai/cs24m037-iit-madras/DL_A1/runs/lcbuy9u7' target=\"_blank\">olive-sweep-45</a></strong> to <a href='https://wandb.ai/cs24m037-iit-madras/DL_A1' target=\"_blank\">Weights & Biases</a> (<a href='https://wandb.me/developer-guide' target=\"_blank\">docs</a>)<br>Sweep page: <a href='https://wandb.ai/cs24m037-iit-madras/DL_A1/sweeps/zbxy6yvx' target=\"_blank\">https://wandb.ai/cs24m037-iit-madras/DL_A1/sweeps/zbxy6yvx</a>"
      ],
      "text/plain": [
       "<IPython.core.display.HTML object>"
      ]
     },
     "metadata": {},
     "output_type": "display_data"
    },
    {
     "data": {
      "text/html": [
       " View project at <a href='https://wandb.ai/cs24m037-iit-madras/DL_A1' target=\"_blank\">https://wandb.ai/cs24m037-iit-madras/DL_A1</a>"
      ],
      "text/plain": [
       "<IPython.core.display.HTML object>"
      ]
     },
     "metadata": {},
     "output_type": "display_data"
    },
    {
     "data": {
      "text/html": [
       " View sweep at <a href='https://wandb.ai/cs24m037-iit-madras/DL_A1/sweeps/zbxy6yvx' target=\"_blank\">https://wandb.ai/cs24m037-iit-madras/DL_A1/sweeps/zbxy6yvx</a>"
      ],
      "text/plain": [
       "<IPython.core.display.HTML object>"
      ]
     },
     "metadata": {},
     "output_type": "display_data"
    },
    {
     "data": {
      "text/html": [
       " View run at <a href='https://wandb.ai/cs24m037-iit-madras/DL_A1/runs/lcbuy9u7' target=\"_blank\">https://wandb.ai/cs24m037-iit-madras/DL_A1/runs/lcbuy9u7</a>"
      ],
      "text/plain": [
       "<IPython.core.display.HTML object>"
      ]
     },
     "metadata": {},
     "output_type": "display_data"
    },
    {
     "name": "stdout",
     "output_type": "stream",
     "text": [
      "lr_0.0001_ac_tanh_in_random_uniform_op_momentum_bs_16_L2_0.0005_ep_10_nn_64_nh_4\n",
      "Epoch 1: Training Loss = 0.4500, Validation Loss = 0.4500, Training Acc = 0.0999, Validation Acc = 0.1013\n",
      "Epoch 2: Training Loss = 0.4500, Validation Loss = 0.4500, Training Acc = 0.0999, Validation Acc = 0.1013\n",
      "Epoch 3: Training Loss = 0.4500, Validation Loss = 0.4500, Training Acc = 0.1000, Validation Acc = 0.1015\n",
      "Epoch 4: Training Loss = 0.4500, Validation Loss = 0.4500, Training Acc = 0.1013, Validation Acc = 0.1032\n",
      "Epoch 5: Training Loss = 0.4500, Validation Loss = 0.4500, Training Acc = 0.0702, Validation Acc = 0.0708\n",
      "Epoch 6: Training Loss = 0.4500, Validation Loss = 0.4500, Training Acc = 0.1001, Validation Acc = 0.0995\n",
      "Epoch 7: Training Loss = 0.4500, Validation Loss = 0.4500, Training Acc = 0.1001, Validation Acc = 0.0995\n",
      "Epoch 8: Training Loss = 0.4500, Validation Loss = 0.4500, Training Acc = 0.1001, Validation Acc = 0.0993\n",
      "Epoch 9: Training Loss = 0.4500, Validation Loss = 0.4500, Training Acc = 0.1001, Validation Acc = 0.0993\n",
      "Epoch 10: Training Loss = 0.4500, Validation Loss = 0.4500, Training Acc = 0.1001, Validation Acc = 0.0993\n"
     ]
    },
    {
     "data": {
      "text/html": [],
      "text/plain": [
       "<IPython.core.display.HTML object>"
      ]
     },
     "metadata": {},
     "output_type": "display_data"
    },
    {
     "data": {
      "text/html": [
       "<br>    <style><br>        .wandb-row {<br>            display: flex;<br>            flex-direction: row;<br>            flex-wrap: wrap;<br>            justify-content: flex-start;<br>            width: 100%;<br>        }<br>        .wandb-col {<br>            display: flex;<br>            flex-direction: column;<br>            flex-basis: 100%;<br>            flex: 1;<br>            padding: 10px;<br>        }<br>    </style><br><div class=\"wandb-row\"><div class=\"wandb-col\"><h3>Run history:</h3><br/><table class=\"wandb\"><tr><td>epoch</td><td>▁▂▃▃▄▅▆▆▇█</td></tr><tr><td>training_accuracy</td><td>████▁█████</td></tr><tr><td>training_loss</td><td>█▇▆▆▅▄▃▂▂▁</td></tr><tr><td>validation_accuracy</td><td>████▁▇▇▇▇▇</td></tr><tr><td>validation_loss</td><td>█▇▆▆▅▄▃▃▂▁</td></tr></table><br/></div><div class=\"wandb-col\"><h3>Run summary:</h3><br/><table class=\"wandb\"><tr><td>epoch</td><td>10</td></tr><tr><td>training_accuracy</td><td>0.10006</td></tr><tr><td>training_loss</td><td>0.45</td></tr><tr><td>validation_accuracy</td><td>0.09933</td></tr><tr><td>validation_loss</td><td>0.45</td></tr></table><br/></div></div>"
      ],
      "text/plain": [
       "<IPython.core.display.HTML object>"
      ]
     },
     "metadata": {},
     "output_type": "display_data"
    },
    {
     "data": {
      "text/html": [
       " View run <strong style=\"color:#cdcd00\">lr_0.0001_ac_tanh_in_random_uniform_op_momentum_bs_16_L2_0.0005_ep_10_nn_64_nh_4</strong> at: <a href='https://wandb.ai/cs24m037-iit-madras/DL_A1/runs/lcbuy9u7' target=\"_blank\">https://wandb.ai/cs24m037-iit-madras/DL_A1/runs/lcbuy9u7</a><br> View project at: <a href='https://wandb.ai/cs24m037-iit-madras/DL_A1' target=\"_blank\">https://wandb.ai/cs24m037-iit-madras/DL_A1</a><br>Synced 5 W&B file(s), 0 media file(s), 0 artifact file(s) and 0 other file(s)"
      ],
      "text/plain": [
       "<IPython.core.display.HTML object>"
      ]
     },
     "metadata": {},
     "output_type": "display_data"
    },
    {
     "data": {
      "text/html": [
       "Find logs at: <code>.\\wandb\\run-20250308_095827-lcbuy9u7\\logs</code>"
      ],
      "text/plain": [
       "<IPython.core.display.HTML object>"
      ]
     },
     "metadata": {},
     "output_type": "display_data"
    },
    {
     "name": "stderr",
     "output_type": "stream",
     "text": [
      "wandb: Agent Starting Run: wzb70wd2 with config:\n",
      "wandb: \tL2_lamb: 0.5\n",
      "wandb: \tactivation_f: tanh\n",
      "wandb: \tbatch_size: 32\n",
      "wandb: \tepochs: 10\n",
      "wandb: \tinit_mode: random_uniform\n",
      "wandb: \tlearning_rate: 0.001\n",
      "wandb: \tnum_hidden: 5\n",
      "wandb: \tnum_neurons: 32\n",
      "wandb: \toptimizer: rmsprop\n"
     ]
    },
    {
     "data": {
      "text/html": [
       "Tracking run with wandb version 0.19.7"
      ],
      "text/plain": [
       "<IPython.core.display.HTML object>"
      ]
     },
     "metadata": {},
     "output_type": "display_data"
    },
    {
     "data": {
      "text/html": [
       "Run data is saved locally in <code>c:\\Users\\RAMKUMAR\\Desktop\\iitm\\sem2\\DL\\wandb\\run-20250308_095859-wzb70wd2</code>"
      ],
      "text/plain": [
       "<IPython.core.display.HTML object>"
      ]
     },
     "metadata": {},
     "output_type": "display_data"
    },
    {
     "data": {
      "text/html": [
       "Syncing run <strong><a href='https://wandb.ai/cs24m037-iit-madras/DL_A1/runs/wzb70wd2' target=\"_blank\">earthy-sweep-46</a></strong> to <a href='https://wandb.ai/cs24m037-iit-madras/DL_A1' target=\"_blank\">Weights & Biases</a> (<a href='https://wandb.me/developer-guide' target=\"_blank\">docs</a>)<br>Sweep page: <a href='https://wandb.ai/cs24m037-iit-madras/DL_A1/sweeps/zbxy6yvx' target=\"_blank\">https://wandb.ai/cs24m037-iit-madras/DL_A1/sweeps/zbxy6yvx</a>"
      ],
      "text/plain": [
       "<IPython.core.display.HTML object>"
      ]
     },
     "metadata": {},
     "output_type": "display_data"
    },
    {
     "data": {
      "text/html": [
       " View project at <a href='https://wandb.ai/cs24m037-iit-madras/DL_A1' target=\"_blank\">https://wandb.ai/cs24m037-iit-madras/DL_A1</a>"
      ],
      "text/plain": [
       "<IPython.core.display.HTML object>"
      ]
     },
     "metadata": {},
     "output_type": "display_data"
    },
    {
     "data": {
      "text/html": [
       " View sweep at <a href='https://wandb.ai/cs24m037-iit-madras/DL_A1/sweeps/zbxy6yvx' target=\"_blank\">https://wandb.ai/cs24m037-iit-madras/DL_A1/sweeps/zbxy6yvx</a>"
      ],
      "text/plain": [
       "<IPython.core.display.HTML object>"
      ]
     },
     "metadata": {},
     "output_type": "display_data"
    },
    {
     "data": {
      "text/html": [
       " View run at <a href='https://wandb.ai/cs24m037-iit-madras/DL_A1/runs/wzb70wd2' target=\"_blank\">https://wandb.ai/cs24m037-iit-madras/DL_A1/runs/wzb70wd2</a>"
      ],
      "text/plain": [
       "<IPython.core.display.HTML object>"
      ]
     },
     "metadata": {},
     "output_type": "display_data"
    },
    {
     "name": "stdout",
     "output_type": "stream",
     "text": [
      "lr_0.001_ac_tanh_in_random_uniform_op_rmsprop_bs_32_L2_0.5_ep_10_nn_32_nh_5\n",
      "Epoch 1: Training Loss = 0.4500, Validation Loss = 0.4500, Training Acc = 0.0996, Validation Acc = 0.1035\n",
      "Epoch 2: Training Loss = 0.4500, Validation Loss = 0.4500, Training Acc = 0.0996, Validation Acc = 0.1035\n",
      "Epoch 3: Training Loss = 0.4500, Validation Loss = 0.4500, Training Acc = 0.0996, Validation Acc = 0.1035\n",
      "Epoch 4: Training Loss = 0.4500, Validation Loss = 0.4500, Training Acc = 0.0996, Validation Acc = 0.1035\n",
      "Epoch 5: Training Loss = 0.4500, Validation Loss = 0.4500, Training Acc = 0.0996, Validation Acc = 0.1035\n",
      "Epoch 6: Training Loss = 0.4500, Validation Loss = 0.4500, Training Acc = 0.1001, Validation Acc = 0.0995\n",
      "Epoch 7: Training Loss = 0.4500, Validation Loss = 0.4500, Training Acc = 0.0996, Validation Acc = 0.1035\n",
      "Epoch 8: Training Loss = 0.4500, Validation Loss = 0.4500, Training Acc = 0.0996, Validation Acc = 0.1035\n",
      "Epoch 9: Training Loss = 0.4500, Validation Loss = 0.4500, Training Acc = 0.0996, Validation Acc = 0.1035\n",
      "Epoch 10: Training Loss = 0.4500, Validation Loss = 0.4500, Training Acc = 0.0996, Validation Acc = 0.1035\n"
     ]
    },
    {
     "data": {
      "text/html": [],
      "text/plain": [
       "<IPython.core.display.HTML object>"
      ]
     },
     "metadata": {},
     "output_type": "display_data"
    },
    {
     "data": {
      "text/html": [
       "<br>    <style><br>        .wandb-row {<br>            display: flex;<br>            flex-direction: row;<br>            flex-wrap: wrap;<br>            justify-content: flex-start;<br>            width: 100%;<br>        }<br>        .wandb-col {<br>            display: flex;<br>            flex-direction: column;<br>            flex-basis: 100%;<br>            flex: 1;<br>            padding: 10px;<br>        }<br>    </style><br><div class=\"wandb-row\"><div class=\"wandb-col\"><h3>Run history:</h3><br/><table class=\"wandb\"><tr><td>epoch</td><td>▁▂▃▃▄▅▆▆▇█</td></tr><tr><td>training_accuracy</td><td>▁▁▁▁▁█▁▁▁▁</td></tr><tr><td>training_loss</td><td>█▇▁▄▄▂▂▂▄▂</td></tr><tr><td>validation_accuracy</td><td>█████▁████</td></tr><tr><td>validation_loss</td><td>▁▇▆███████</td></tr></table><br/></div><div class=\"wandb-col\"><h3>Run summary:</h3><br/><table class=\"wandb\"><tr><td>epoch</td><td>10</td></tr><tr><td>training_accuracy</td><td>0.09961</td></tr><tr><td>training_loss</td><td>0.45</td></tr><tr><td>validation_accuracy</td><td>0.1035</td></tr><tr><td>validation_loss</td><td>0.45</td></tr></table><br/></div></div>"
      ],
      "text/plain": [
       "<IPython.core.display.HTML object>"
      ]
     },
     "metadata": {},
     "output_type": "display_data"
    },
    {
     "data": {
      "text/html": [
       " View run <strong style=\"color:#cdcd00\">lr_0.001_ac_tanh_in_random_uniform_op_rmsprop_bs_32_L2_0.5_ep_10_nn_32_nh_5</strong> at: <a href='https://wandb.ai/cs24m037-iit-madras/DL_A1/runs/wzb70wd2' target=\"_blank\">https://wandb.ai/cs24m037-iit-madras/DL_A1/runs/wzb70wd2</a><br> View project at: <a href='https://wandb.ai/cs24m037-iit-madras/DL_A1' target=\"_blank\">https://wandb.ai/cs24m037-iit-madras/DL_A1</a><br>Synced 5 W&B file(s), 0 media file(s), 0 artifact file(s) and 0 other file(s)"
      ],
      "text/plain": [
       "<IPython.core.display.HTML object>"
      ]
     },
     "metadata": {},
     "output_type": "display_data"
    },
    {
     "data": {
      "text/html": [
       "Find logs at: <code>.\\wandb\\run-20250308_095859-wzb70wd2\\logs</code>"
      ],
      "text/plain": [
       "<IPython.core.display.HTML object>"
      ]
     },
     "metadata": {},
     "output_type": "display_data"
    },
    {
     "name": "stderr",
     "output_type": "stream",
     "text": [
      "wandb: Agent Starting Run: mop8m4j6 with config:\n",
      "wandb: \tL2_lamb: 0.5\n",
      "wandb: \tactivation_f: sigmoid\n",
      "wandb: \tbatch_size: 64\n",
      "wandb: \tepochs: 5\n",
      "wandb: \tinit_mode: xavier\n",
      "wandb: \tlearning_rate: 0.0001\n",
      "wandb: \tnum_hidden: 4\n",
      "wandb: \tnum_neurons: 64\n",
      "wandb: \toptimizer: rmsprop\n"
     ]
    },
    {
     "data": {
      "text/html": [
       "Tracking run with wandb version 0.19.7"
      ],
      "text/plain": [
       "<IPython.core.display.HTML object>"
      ]
     },
     "metadata": {},
     "output_type": "display_data"
    },
    {
     "data": {
      "text/html": [
       "Run data is saved locally in <code>c:\\Users\\RAMKUMAR\\Desktop\\iitm\\sem2\\DL\\wandb\\run-20250308_095920-mop8m4j6</code>"
      ],
      "text/plain": [
       "<IPython.core.display.HTML object>"
      ]
     },
     "metadata": {},
     "output_type": "display_data"
    },
    {
     "data": {
      "text/html": [
       "Syncing run <strong><a href='https://wandb.ai/cs24m037-iit-madras/DL_A1/runs/mop8m4j6' target=\"_blank\">major-sweep-47</a></strong> to <a href='https://wandb.ai/cs24m037-iit-madras/DL_A1' target=\"_blank\">Weights & Biases</a> (<a href='https://wandb.me/developer-guide' target=\"_blank\">docs</a>)<br>Sweep page: <a href='https://wandb.ai/cs24m037-iit-madras/DL_A1/sweeps/zbxy6yvx' target=\"_blank\">https://wandb.ai/cs24m037-iit-madras/DL_A1/sweeps/zbxy6yvx</a>"
      ],
      "text/plain": [
       "<IPython.core.display.HTML object>"
      ]
     },
     "metadata": {},
     "output_type": "display_data"
    },
    {
     "data": {
      "text/html": [
       " View project at <a href='https://wandb.ai/cs24m037-iit-madras/DL_A1' target=\"_blank\">https://wandb.ai/cs24m037-iit-madras/DL_A1</a>"
      ],
      "text/plain": [
       "<IPython.core.display.HTML object>"
      ]
     },
     "metadata": {},
     "output_type": "display_data"
    },
    {
     "data": {
      "text/html": [
       " View sweep at <a href='https://wandb.ai/cs24m037-iit-madras/DL_A1/sweeps/zbxy6yvx' target=\"_blank\">https://wandb.ai/cs24m037-iit-madras/DL_A1/sweeps/zbxy6yvx</a>"
      ],
      "text/plain": [
       "<IPython.core.display.HTML object>"
      ]
     },
     "metadata": {},
     "output_type": "display_data"
    },
    {
     "data": {
      "text/html": [
       " View run at <a href='https://wandb.ai/cs24m037-iit-madras/DL_A1/runs/mop8m4j6' target=\"_blank\">https://wandb.ai/cs24m037-iit-madras/DL_A1/runs/mop8m4j6</a>"
      ],
      "text/plain": [
       "<IPython.core.display.HTML object>"
      ]
     },
     "metadata": {},
     "output_type": "display_data"
    },
    {
     "name": "stdout",
     "output_type": "stream",
     "text": [
      "lr_0.0001_ac_sigmoid_in_xavier_op_rmsprop_bs_64_L2_0.5_ep_5_nn_64_nh_4\n",
      "Epoch 1: Training Loss = 0.4501, Validation Loss = 0.4509, Training Acc = 0.0996, Validation Acc = 0.1032\n",
      "Epoch 2: Training Loss = 0.4500, Validation Loss = 0.4503, Training Acc = 0.0999, Validation Acc = 0.1013\n",
      "Epoch 3: Training Loss = 0.4500, Validation Loss = 0.4501, Training Acc = 0.0999, Validation Acc = 0.1013\n",
      "Epoch 4: Training Loss = 0.4500, Validation Loss = 0.4500, Training Acc = 0.0999, Validation Acc = 0.1013\n",
      "Epoch 5: Training Loss = 0.4500, Validation Loss = 0.4500, Training Acc = 0.0999, Validation Acc = 0.1013\n"
     ]
    },
    {
     "data": {
      "text/html": [],
      "text/plain": [
       "<IPython.core.display.HTML object>"
      ]
     },
     "metadata": {},
     "output_type": "display_data"
    },
    {
     "data": {
      "text/html": [
       "<br>    <style><br>        .wandb-row {<br>            display: flex;<br>            flex-direction: row;<br>            flex-wrap: wrap;<br>            justify-content: flex-start;<br>            width: 100%;<br>        }<br>        .wandb-col {<br>            display: flex;<br>            flex-direction: column;<br>            flex-basis: 100%;<br>            flex: 1;<br>            padding: 10px;<br>        }<br>    </style><br><div class=\"wandb-row\"><div class=\"wandb-col\"><h3>Run history:</h3><br/><table class=\"wandb\"><tr><td>epoch</td><td>▁▃▅▆█</td></tr><tr><td>training_accuracy</td><td>▁████</td></tr><tr><td>training_loss</td><td>█▃▂▁▁</td></tr><tr><td>validation_accuracy</td><td>█▁▁▁▁</td></tr><tr><td>validation_loss</td><td>█▃▂▁▁</td></tr></table><br/></div><div class=\"wandb-col\"><h3>Run summary:</h3><br/><table class=\"wandb\"><tr><td>epoch</td><td>5</td></tr><tr><td>training_accuracy</td><td>0.09985</td></tr><tr><td>training_loss</td><td>0.45001</td></tr><tr><td>validation_accuracy</td><td>0.10133</td></tr><tr><td>validation_loss</td><td>0.45</td></tr></table><br/></div></div>"
      ],
      "text/plain": [
       "<IPython.core.display.HTML object>"
      ]
     },
     "metadata": {},
     "output_type": "display_data"
    },
    {
     "data": {
      "text/html": [
       " View run <strong style=\"color:#cdcd00\">lr_0.0001_ac_sigmoid_in_xavier_op_rmsprop_bs_64_L2_0.5_ep_5_nn_64_nh_4</strong> at: <a href='https://wandb.ai/cs24m037-iit-madras/DL_A1/runs/mop8m4j6' target=\"_blank\">https://wandb.ai/cs24m037-iit-madras/DL_A1/runs/mop8m4j6</a><br> View project at: <a href='https://wandb.ai/cs24m037-iit-madras/DL_A1' target=\"_blank\">https://wandb.ai/cs24m037-iit-madras/DL_A1</a><br>Synced 5 W&B file(s), 0 media file(s), 0 artifact file(s) and 0 other file(s)"
      ],
      "text/plain": [
       "<IPython.core.display.HTML object>"
      ]
     },
     "metadata": {},
     "output_type": "display_data"
    },
    {
     "data": {
      "text/html": [
       "Find logs at: <code>.\\wandb\\run-20250308_095920-mop8m4j6\\logs</code>"
      ],
      "text/plain": [
       "<IPython.core.display.HTML object>"
      ]
     },
     "metadata": {},
     "output_type": "display_data"
    },
    {
     "name": "stderr",
     "output_type": "stream",
     "text": [
      "wandb: Agent Starting Run: 47p6008s with config:\n",
      "wandb: \tL2_lamb: 0\n",
      "wandb: \tactivation_f: relu\n",
      "wandb: \tbatch_size: 64\n",
      "wandb: \tepochs: 10\n",
      "wandb: \tinit_mode: xavier\n",
      "wandb: \tlearning_rate: 0.001\n",
      "wandb: \tnum_hidden: 4\n",
      "wandb: \tnum_neurons: 64\n",
      "wandb: \toptimizer: rmsprop\n"
     ]
    },
    {
     "data": {
      "text/html": [
       "Tracking run with wandb version 0.19.7"
      ],
      "text/plain": [
       "<IPython.core.display.HTML object>"
      ]
     },
     "metadata": {},
     "output_type": "display_data"
    },
    {
     "data": {
      "text/html": [
       "Run data is saved locally in <code>c:\\Users\\RAMKUMAR\\Desktop\\iitm\\sem2\\DL\\wandb\\run-20250308_095936-47p6008s</code>"
      ],
      "text/plain": [
       "<IPython.core.display.HTML object>"
      ]
     },
     "metadata": {},
     "output_type": "display_data"
    },
    {
     "data": {
      "text/html": [
       "Syncing run <strong><a href='https://wandb.ai/cs24m037-iit-madras/DL_A1/runs/47p6008s' target=\"_blank\">eager-sweep-48</a></strong> to <a href='https://wandb.ai/cs24m037-iit-madras/DL_A1' target=\"_blank\">Weights & Biases</a> (<a href='https://wandb.me/developer-guide' target=\"_blank\">docs</a>)<br>Sweep page: <a href='https://wandb.ai/cs24m037-iit-madras/DL_A1/sweeps/zbxy6yvx' target=\"_blank\">https://wandb.ai/cs24m037-iit-madras/DL_A1/sweeps/zbxy6yvx</a>"
      ],
      "text/plain": [
       "<IPython.core.display.HTML object>"
      ]
     },
     "metadata": {},
     "output_type": "display_data"
    },
    {
     "data": {
      "text/html": [
       " View project at <a href='https://wandb.ai/cs24m037-iit-madras/DL_A1' target=\"_blank\">https://wandb.ai/cs24m037-iit-madras/DL_A1</a>"
      ],
      "text/plain": [
       "<IPython.core.display.HTML object>"
      ]
     },
     "metadata": {},
     "output_type": "display_data"
    },
    {
     "data": {
      "text/html": [
       " View sweep at <a href='https://wandb.ai/cs24m037-iit-madras/DL_A1/sweeps/zbxy6yvx' target=\"_blank\">https://wandb.ai/cs24m037-iit-madras/DL_A1/sweeps/zbxy6yvx</a>"
      ],
      "text/plain": [
       "<IPython.core.display.HTML object>"
      ]
     },
     "metadata": {},
     "output_type": "display_data"
    },
    {
     "data": {
      "text/html": [
       " View run at <a href='https://wandb.ai/cs24m037-iit-madras/DL_A1/runs/47p6008s' target=\"_blank\">https://wandb.ai/cs24m037-iit-madras/DL_A1/runs/47p6008s</a>"
      ],
      "text/plain": [
       "<IPython.core.display.HTML object>"
      ]
     },
     "metadata": {},
     "output_type": "display_data"
    },
    {
     "name": "stdout",
     "output_type": "stream",
     "text": [
      "lr_0.001_ac_relu_in_xavier_op_rmsprop_bs_64_L2_0_ep_10_nn_64_nh_4\n",
      "Epoch 1: Training Loss = 0.1227, Validation Loss = 0.1275, Training Acc = 0.8249, Validation Acc = 0.8170\n",
      "Epoch 2: Training Loss = 0.0984, Validation Loss = 0.1038, Training Acc = 0.8611, Validation Acc = 0.8498\n",
      "Epoch 3: Training Loss = 0.0902, Validation Loss = 0.0965, Training Acc = 0.8739, Validation Acc = 0.8618\n",
      "Epoch 4: Training Loss = 0.0865, Validation Loss = 0.0935, Training Acc = 0.8790, Validation Acc = 0.8657\n",
      "Epoch 5: Training Loss = 0.0846, Validation Loss = 0.0928, Training Acc = 0.8817, Validation Acc = 0.8677\n",
      "Epoch 6: Training Loss = 0.0813, Validation Loss = 0.0909, Training Acc = 0.8861, Validation Acc = 0.8707\n",
      "Epoch 7: Training Loss = 0.0786, Validation Loss = 0.0898, Training Acc = 0.8901, Validation Acc = 0.8747\n",
      "Epoch 8: Training Loss = 0.0785, Validation Loss = 0.0909, Training Acc = 0.8905, Validation Acc = 0.8725\n",
      "Epoch 9: Training Loss = 0.0772, Validation Loss = 0.0909, Training Acc = 0.8931, Validation Acc = 0.8722\n",
      "Epoch 10: Training Loss = 0.0747, Validation Loss = 0.0899, Training Acc = 0.8963, Validation Acc = 0.8757\n"
     ]
    },
    {
     "data": {
      "text/html": [],
      "text/plain": [
       "<IPython.core.display.HTML object>"
      ]
     },
     "metadata": {},
     "output_type": "display_data"
    },
    {
     "data": {
      "text/html": [
       "<br>    <style><br>        .wandb-row {<br>            display: flex;<br>            flex-direction: row;<br>            flex-wrap: wrap;<br>            justify-content: flex-start;<br>            width: 100%;<br>        }<br>        .wandb-col {<br>            display: flex;<br>            flex-direction: column;<br>            flex-basis: 100%;<br>            flex: 1;<br>            padding: 10px;<br>        }<br>    </style><br><div class=\"wandb-row\"><div class=\"wandb-col\"><h3>Run history:</h3><br/><table class=\"wandb\"><tr><td>epoch</td><td>▁▂▃▃▄▅▆▆▇█</td></tr><tr><td>training_accuracy</td><td>▁▅▆▆▇▇▇▇██</td></tr><tr><td>training_loss</td><td>█▄▃▃▂▂▂▂▁▁</td></tr><tr><td>validation_accuracy</td><td>▁▅▆▇▇▇████</td></tr><tr><td>validation_loss</td><td>█▄▂▂▂▁▁▁▁▁</td></tr></table><br/></div><div class=\"wandb-col\"><h3>Run summary:</h3><br/><table class=\"wandb\"><tr><td>epoch</td><td>10</td></tr><tr><td>training_accuracy</td><td>0.89628</td></tr><tr><td>training_loss</td><td>0.07475</td></tr><tr><td>validation_accuracy</td><td>0.87567</td></tr><tr><td>validation_loss</td><td>0.08992</td></tr></table><br/></div></div>"
      ],
      "text/plain": [
       "<IPython.core.display.HTML object>"
      ]
     },
     "metadata": {},
     "output_type": "display_data"
    },
    {
     "data": {
      "text/html": [
       " View run <strong style=\"color:#cdcd00\">lr_0.001_ac_relu_in_xavier_op_rmsprop_bs_64_L2_0_ep_10_nn_64_nh_4</strong> at: <a href='https://wandb.ai/cs24m037-iit-madras/DL_A1/runs/47p6008s' target=\"_blank\">https://wandb.ai/cs24m037-iit-madras/DL_A1/runs/47p6008s</a><br> View project at: <a href='https://wandb.ai/cs24m037-iit-madras/DL_A1' target=\"_blank\">https://wandb.ai/cs24m037-iit-madras/DL_A1</a><br>Synced 5 W&B file(s), 0 media file(s), 0 artifact file(s) and 0 other file(s)"
      ],
      "text/plain": [
       "<IPython.core.display.HTML object>"
      ]
     },
     "metadata": {},
     "output_type": "display_data"
    },
    {
     "data": {
      "text/html": [
       "Find logs at: <code>.\\wandb\\run-20250308_095936-47p6008s\\logs</code>"
      ],
      "text/plain": [
       "<IPython.core.display.HTML object>"
      ]
     },
     "metadata": {},
     "output_type": "display_data"
    },
    {
     "name": "stderr",
     "output_type": "stream",
     "text": [
      "wandb: Sweep Agent: Waiting for job.\n",
      "wandb: Job received.\n",
      "wandb: Agent Starting Run: 1hqs6dyp with config:\n",
      "wandb: \tL2_lamb: 0\n",
      "wandb: \tactivation_f: relu\n",
      "wandb: \tbatch_size: 64\n",
      "wandb: \tepochs: 5\n",
      "wandb: \tinit_mode: random_uniform\n",
      "wandb: \tlearning_rate: 0.001\n",
      "wandb: \tnum_hidden: 5\n",
      "wandb: \tnum_neurons: 128\n",
      "wandb: \toptimizer: nadam\n"
     ]
    },
    {
     "data": {
      "text/html": [
       "creating run (0.0s)"
      ],
      "text/plain": [
       "<IPython.core.display.HTML object>"
      ]
     },
     "metadata": {},
     "output_type": "display_data"
    },
    {
     "data": {
      "text/html": [
       "Tracking run with wandb version 0.19.7"
      ],
      "text/plain": [
       "<IPython.core.display.HTML object>"
      ]
     },
     "metadata": {},
     "output_type": "display_data"
    },
    {
     "data": {
      "text/html": [
       "Run data is saved locally in <code>c:\\Users\\RAMKUMAR\\Desktop\\iitm\\sem2\\DL\\wandb\\run-20250308_100104-1hqs6dyp</code>"
      ],
      "text/plain": [
       "<IPython.core.display.HTML object>"
      ]
     },
     "metadata": {},
     "output_type": "display_data"
    },
    {
     "data": {
      "text/html": [
       "Syncing run <strong><a href='https://wandb.ai/cs24m037-iit-madras/DL_A1/runs/1hqs6dyp' target=\"_blank\">wise-sweep-49</a></strong> to <a href='https://wandb.ai/cs24m037-iit-madras/DL_A1' target=\"_blank\">Weights & Biases</a> (<a href='https://wandb.me/developer-guide' target=\"_blank\">docs</a>)<br>Sweep page: <a href='https://wandb.ai/cs24m037-iit-madras/DL_A1/sweeps/zbxy6yvx' target=\"_blank\">https://wandb.ai/cs24m037-iit-madras/DL_A1/sweeps/zbxy6yvx</a>"
      ],
      "text/plain": [
       "<IPython.core.display.HTML object>"
      ]
     },
     "metadata": {},
     "output_type": "display_data"
    },
    {
     "data": {
      "text/html": [
       " View project at <a href='https://wandb.ai/cs24m037-iit-madras/DL_A1' target=\"_blank\">https://wandb.ai/cs24m037-iit-madras/DL_A1</a>"
      ],
      "text/plain": [
       "<IPython.core.display.HTML object>"
      ]
     },
     "metadata": {},
     "output_type": "display_data"
    },
    {
     "data": {
      "text/html": [
       " View sweep at <a href='https://wandb.ai/cs24m037-iit-madras/DL_A1/sweeps/zbxy6yvx' target=\"_blank\">https://wandb.ai/cs24m037-iit-madras/DL_A1/sweeps/zbxy6yvx</a>"
      ],
      "text/plain": [
       "<IPython.core.display.HTML object>"
      ]
     },
     "metadata": {},
     "output_type": "display_data"
    },
    {
     "data": {
      "text/html": [
       " View run at <a href='https://wandb.ai/cs24m037-iit-madras/DL_A1/runs/1hqs6dyp' target=\"_blank\">https://wandb.ai/cs24m037-iit-madras/DL_A1/runs/1hqs6dyp</a>"
      ],
      "text/plain": [
       "<IPython.core.display.HTML object>"
      ]
     },
     "metadata": {},
     "output_type": "display_data"
    },
    {
     "name": "stdout",
     "output_type": "stream",
     "text": [
      "lr_0.001_ac_relu_in_random_uniform_op_nadam_bs_64_L2_0_ep_5_nn_128_nh_5\n",
      "Epoch 1: Training Loss = 0.4136, Validation Loss = 0.4128, Training Acc = 0.0999, Validation Acc = 0.1020\n",
      "Epoch 2: Training Loss = 0.4116, Validation Loss = 0.4106, Training Acc = 0.0996, Validation Acc = 0.1048\n",
      "Epoch 3: Training Loss = 0.4103, Validation Loss = 0.4092, Training Acc = 0.0998, Validation Acc = 0.1048\n",
      "Epoch 4: Training Loss = 0.4080, Validation Loss = 0.4069, Training Acc = 0.0999, Validation Acc = 0.1048\n",
      "Epoch 5: Training Loss = 0.4059, Validation Loss = 0.4047, Training Acc = 0.0998, Validation Acc = 0.1045\n"
     ]
    },
    {
     "data": {
      "text/html": [],
      "text/plain": [
       "<IPython.core.display.HTML object>"
      ]
     },
     "metadata": {},
     "output_type": "display_data"
    },
    {
     "data": {
      "text/html": [
       "<br>    <style><br>        .wandb-row {<br>            display: flex;<br>            flex-direction: row;<br>            flex-wrap: wrap;<br>            justify-content: flex-start;<br>            width: 100%;<br>        }<br>        .wandb-col {<br>            display: flex;<br>            flex-direction: column;<br>            flex-basis: 100%;<br>            flex: 1;<br>            padding: 10px;<br>        }<br>    </style><br><div class=\"wandb-row\"><div class=\"wandb-col\"><h3>Run history:</h3><br/><table class=\"wandb\"><tr><td>epoch</td><td>▁▃▅▆█</td></tr><tr><td>training_accuracy</td><td>▇▁▅█▅</td></tr><tr><td>training_loss</td><td>█▆▅▃▁</td></tr><tr><td>validation_accuracy</td><td>▁███▇</td></tr><tr><td>validation_loss</td><td>█▆▅▃▁</td></tr></table><br/></div><div class=\"wandb-col\"><h3>Run summary:</h3><br/><table class=\"wandb\"><tr><td>epoch</td><td>5</td></tr><tr><td>training_accuracy</td><td>0.09976</td></tr><tr><td>training_loss</td><td>0.40595</td></tr><tr><td>validation_accuracy</td><td>0.1045</td></tr><tr><td>validation_loss</td><td>0.4047</td></tr></table><br/></div></div>"
      ],
      "text/plain": [
       "<IPython.core.display.HTML object>"
      ]
     },
     "metadata": {},
     "output_type": "display_data"
    },
    {
     "data": {
      "text/html": [
       " View run <strong style=\"color:#cdcd00\">lr_0.001_ac_relu_in_random_uniform_op_nadam_bs_64_L2_0_ep_5_nn_128_nh_5</strong> at: <a href='https://wandb.ai/cs24m037-iit-madras/DL_A1/runs/1hqs6dyp' target=\"_blank\">https://wandb.ai/cs24m037-iit-madras/DL_A1/runs/1hqs6dyp</a><br> View project at: <a href='https://wandb.ai/cs24m037-iit-madras/DL_A1' target=\"_blank\">https://wandb.ai/cs24m037-iit-madras/DL_A1</a><br>Synced 5 W&B file(s), 0 media file(s), 0 artifact file(s) and 0 other file(s)"
      ],
      "text/plain": [
       "<IPython.core.display.HTML object>"
      ]
     },
     "metadata": {},
     "output_type": "display_data"
    },
    {
     "data": {
      "text/html": [
       "Find logs at: <code>.\\wandb\\run-20250308_100104-1hqs6dyp\\logs</code>"
      ],
      "text/plain": [
       "<IPython.core.display.HTML object>"
      ]
     },
     "metadata": {},
     "output_type": "display_data"
    },
    {
     "name": "stderr",
     "output_type": "stream",
     "text": [
      "wandb: Agent Starting Run: h6ygy5nu with config:\n",
      "wandb: \tL2_lamb: 0\n",
      "wandb: \tactivation_f: relu\n",
      "wandb: \tbatch_size: 32\n",
      "wandb: \tepochs: 5\n",
      "wandb: \tinit_mode: xavier\n",
      "wandb: \tlearning_rate: 0.0001\n",
      "wandb: \tnum_hidden: 3\n",
      "wandb: \tnum_neurons: 64\n",
      "wandb: \toptimizer: nadam\n"
     ]
    },
    {
     "data": {
      "text/html": [
       "Tracking run with wandb version 0.19.7"
      ],
      "text/plain": [
       "<IPython.core.display.HTML object>"
      ]
     },
     "metadata": {},
     "output_type": "display_data"
    },
    {
     "data": {
      "text/html": [
       "Run data is saved locally in <code>c:\\Users\\RAMKUMAR\\Desktop\\iitm\\sem2\\DL\\wandb\\run-20250308_100131-h6ygy5nu</code>"
      ],
      "text/plain": [
       "<IPython.core.display.HTML object>"
      ]
     },
     "metadata": {},
     "output_type": "display_data"
    },
    {
     "data": {
      "text/html": [
       "Syncing run <strong><a href='https://wandb.ai/cs24m037-iit-madras/DL_A1/runs/h6ygy5nu' target=\"_blank\">amber-sweep-50</a></strong> to <a href='https://wandb.ai/cs24m037-iit-madras/DL_A1' target=\"_blank\">Weights & Biases</a> (<a href='https://wandb.me/developer-guide' target=\"_blank\">docs</a>)<br>Sweep page: <a href='https://wandb.ai/cs24m037-iit-madras/DL_A1/sweeps/zbxy6yvx' target=\"_blank\">https://wandb.ai/cs24m037-iit-madras/DL_A1/sweeps/zbxy6yvx</a>"
      ],
      "text/plain": [
       "<IPython.core.display.HTML object>"
      ]
     },
     "metadata": {},
     "output_type": "display_data"
    },
    {
     "data": {
      "text/html": [
       " View project at <a href='https://wandb.ai/cs24m037-iit-madras/DL_A1' target=\"_blank\">https://wandb.ai/cs24m037-iit-madras/DL_A1</a>"
      ],
      "text/plain": [
       "<IPython.core.display.HTML object>"
      ]
     },
     "metadata": {},
     "output_type": "display_data"
    },
    {
     "data": {
      "text/html": [
       " View sweep at <a href='https://wandb.ai/cs24m037-iit-madras/DL_A1/sweeps/zbxy6yvx' target=\"_blank\">https://wandb.ai/cs24m037-iit-madras/DL_A1/sweeps/zbxy6yvx</a>"
      ],
      "text/plain": [
       "<IPython.core.display.HTML object>"
      ]
     },
     "metadata": {},
     "output_type": "display_data"
    },
    {
     "data": {
      "text/html": [
       " View run at <a href='https://wandb.ai/cs24m037-iit-madras/DL_A1/runs/h6ygy5nu' target=\"_blank\">https://wandb.ai/cs24m037-iit-madras/DL_A1/runs/h6ygy5nu</a>"
      ],
      "text/plain": [
       "<IPython.core.display.HTML object>"
      ]
     },
     "metadata": {},
     "output_type": "display_data"
    },
    {
     "name": "stdout",
     "output_type": "stream",
     "text": [
      "lr_0.0001_ac_relu_in_xavier_op_nadam_bs_32_L2_0_ep_5_nn_64_nh_3\n",
      "Epoch 1: Training Loss = 0.1379, Validation Loss = 0.1430, Training Acc = 0.8141, Validation Acc = 0.8065\n",
      "Epoch 2: Training Loss = 0.1170, Validation Loss = 0.1223, Training Acc = 0.8403, Validation Acc = 0.8338\n",
      "Epoch 3: Training Loss = 0.1072, Validation Loss = 0.1127, Training Acc = 0.8525, Validation Acc = 0.8435\n",
      "Epoch 4: Training Loss = 0.1013, Validation Loss = 0.1068, Training Acc = 0.8606, Validation Acc = 0.8525\n",
      "Epoch 5: Training Loss = 0.0969, Validation Loss = 0.1029, Training Acc = 0.8667, Validation Acc = 0.8593\n"
     ]
    },
    {
     "data": {
      "text/html": [],
      "text/plain": [
       "<IPython.core.display.HTML object>"
      ]
     },
     "metadata": {},
     "output_type": "display_data"
    },
    {
     "data": {
      "text/html": [
       "<br>    <style><br>        .wandb-row {<br>            display: flex;<br>            flex-direction: row;<br>            flex-wrap: wrap;<br>            justify-content: flex-start;<br>            width: 100%;<br>        }<br>        .wandb-col {<br>            display: flex;<br>            flex-direction: column;<br>            flex-basis: 100%;<br>            flex: 1;<br>            padding: 10px;<br>        }<br>    </style><br><div class=\"wandb-row\"><div class=\"wandb-col\"><h3>Run history:</h3><br/><table class=\"wandb\"><tr><td>epoch</td><td>▁▃▅▆█</td></tr><tr><td>training_accuracy</td><td>▁▄▆▇█</td></tr><tr><td>training_loss</td><td>█▄▃▂▁</td></tr><tr><td>validation_accuracy</td><td>▁▅▆▇█</td></tr><tr><td>validation_loss</td><td>█▄▃▂▁</td></tr></table><br/></div><div class=\"wandb-col\"><h3>Run summary:</h3><br/><table class=\"wandb\"><tr><td>epoch</td><td>5</td></tr><tr><td>training_accuracy</td><td>0.86674</td></tr><tr><td>training_loss</td><td>0.09694</td></tr><tr><td>validation_accuracy</td><td>0.85933</td></tr><tr><td>validation_loss</td><td>0.10285</td></tr></table><br/></div></div>"
      ],
      "text/plain": [
       "<IPython.core.display.HTML object>"
      ]
     },
     "metadata": {},
     "output_type": "display_data"
    },
    {
     "data": {
      "text/html": [
       " View run <strong style=\"color:#cdcd00\">lr_0.0001_ac_relu_in_xavier_op_nadam_bs_32_L2_0_ep_5_nn_64_nh_3</strong> at: <a href='https://wandb.ai/cs24m037-iit-madras/DL_A1/runs/h6ygy5nu' target=\"_blank\">https://wandb.ai/cs24m037-iit-madras/DL_A1/runs/h6ygy5nu</a><br> View project at: <a href='https://wandb.ai/cs24m037-iit-madras/DL_A1' target=\"_blank\">https://wandb.ai/cs24m037-iit-madras/DL_A1</a><br>Synced 5 W&B file(s), 0 media file(s), 0 artifact file(s) and 0 other file(s)"
      ],
      "text/plain": [
       "<IPython.core.display.HTML object>"
      ]
     },
     "metadata": {},
     "output_type": "display_data"
    },
    {
     "data": {
      "text/html": [
       "Find logs at: <code>.\\wandb\\run-20250308_100131-h6ygy5nu\\logs</code>"
      ],
      "text/plain": [
       "<IPython.core.display.HTML object>"
      ]
     },
     "metadata": {},
     "output_type": "display_data"
    },
    {
     "name": "stderr",
     "output_type": "stream",
     "text": [
      "wandb: Agent Starting Run: t0mylqxn with config:\n",
      "wandb: \tL2_lamb: 0\n",
      "wandb: \tactivation_f: sigmoid\n",
      "wandb: \tbatch_size: 64\n",
      "wandb: \tepochs: 10\n",
      "wandb: \tinit_mode: random_uniform\n",
      "wandb: \tlearning_rate: 0.001\n",
      "wandb: \tnum_hidden: 3\n",
      "wandb: \tnum_neurons: 64\n",
      "wandb: \toptimizer: sgd\n"
     ]
    },
    {
     "data": {
      "text/html": [
       "Tracking run with wandb version 0.19.7"
      ],
      "text/plain": [
       "<IPython.core.display.HTML object>"
      ]
     },
     "metadata": {},
     "output_type": "display_data"
    },
    {
     "data": {
      "text/html": [
       "Run data is saved locally in <code>c:\\Users\\RAMKUMAR\\Desktop\\iitm\\sem2\\DL\\wandb\\run-20250308_100147-t0mylqxn</code>"
      ],
      "text/plain": [
       "<IPython.core.display.HTML object>"
      ]
     },
     "metadata": {},
     "output_type": "display_data"
    },
    {
     "data": {
      "text/html": [
       "Syncing run <strong><a href='https://wandb.ai/cs24m037-iit-madras/DL_A1/runs/t0mylqxn' target=\"_blank\">ruby-sweep-51</a></strong> to <a href='https://wandb.ai/cs24m037-iit-madras/DL_A1' target=\"_blank\">Weights & Biases</a> (<a href='https://wandb.me/developer-guide' target=\"_blank\">docs</a>)<br>Sweep page: <a href='https://wandb.ai/cs24m037-iit-madras/DL_A1/sweeps/zbxy6yvx' target=\"_blank\">https://wandb.ai/cs24m037-iit-madras/DL_A1/sweeps/zbxy6yvx</a>"
      ],
      "text/plain": [
       "<IPython.core.display.HTML object>"
      ]
     },
     "metadata": {},
     "output_type": "display_data"
    },
    {
     "data": {
      "text/html": [
       " View project at <a href='https://wandb.ai/cs24m037-iit-madras/DL_A1' target=\"_blank\">https://wandb.ai/cs24m037-iit-madras/DL_A1</a>"
      ],
      "text/plain": [
       "<IPython.core.display.HTML object>"
      ]
     },
     "metadata": {},
     "output_type": "display_data"
    },
    {
     "data": {
      "text/html": [
       " View sweep at <a href='https://wandb.ai/cs24m037-iit-madras/DL_A1/sweeps/zbxy6yvx' target=\"_blank\">https://wandb.ai/cs24m037-iit-madras/DL_A1/sweeps/zbxy6yvx</a>"
      ],
      "text/plain": [
       "<IPython.core.display.HTML object>"
      ]
     },
     "metadata": {},
     "output_type": "display_data"
    },
    {
     "data": {
      "text/html": [
       " View run at <a href='https://wandb.ai/cs24m037-iit-madras/DL_A1/runs/t0mylqxn' target=\"_blank\">https://wandb.ai/cs24m037-iit-madras/DL_A1/runs/t0mylqxn</a>"
      ],
      "text/plain": [
       "<IPython.core.display.HTML object>"
      ]
     },
     "metadata": {},
     "output_type": "display_data"
    },
    {
     "name": "stdout",
     "output_type": "stream",
     "text": [
      "lr_0.001_ac_sigmoid_in_random_uniform_op_sgd_bs_64_L2_0_ep_10_nn_64_nh_3\n",
      "Epoch 1: Training Loss = 0.4500, Validation Loss = 0.4500, Training Acc = 0.1009, Validation Acc = 0.0917\n",
      "Epoch 2: Training Loss = 0.4500, Validation Loss = 0.4500, Training Acc = 0.1009, Validation Acc = 0.0917\n",
      "Epoch 3: Training Loss = 0.4500, Validation Loss = 0.4500, Training Acc = 0.1009, Validation Acc = 0.0917\n",
      "Epoch 4: Training Loss = 0.4500, Validation Loss = 0.4500, Training Acc = 0.1009, Validation Acc = 0.0917\n",
      "Epoch 5: Training Loss = 0.4500, Validation Loss = 0.4500, Training Acc = 0.1009, Validation Acc = 0.0917\n",
      "Epoch 6: Training Loss = 0.4500, Validation Loss = 0.4500, Training Acc = 0.1009, Validation Acc = 0.0917\n",
      "Epoch 7: Training Loss = 0.4500, Validation Loss = 0.4500, Training Acc = 0.1009, Validation Acc = 0.0917\n",
      "Epoch 8: Training Loss = 0.4500, Validation Loss = 0.4500, Training Acc = 0.1009, Validation Acc = 0.0917\n",
      "Epoch 9: Training Loss = 0.4500, Validation Loss = 0.4500, Training Acc = 0.1009, Validation Acc = 0.0917\n",
      "Epoch 10: Training Loss = 0.4500, Validation Loss = 0.4500, Training Acc = 0.1009, Validation Acc = 0.0917\n"
     ]
    },
    {
     "data": {
      "text/html": [],
      "text/plain": [
       "<IPython.core.display.HTML object>"
      ]
     },
     "metadata": {},
     "output_type": "display_data"
    },
    {
     "data": {
      "text/html": [
       "<br>    <style><br>        .wandb-row {<br>            display: flex;<br>            flex-direction: row;<br>            flex-wrap: wrap;<br>            justify-content: flex-start;<br>            width: 100%;<br>        }<br>        .wandb-col {<br>            display: flex;<br>            flex-direction: column;<br>            flex-basis: 100%;<br>            flex: 1;<br>            padding: 10px;<br>        }<br>    </style><br><div class=\"wandb-row\"><div class=\"wandb-col\"><h3>Run history:</h3><br/><table class=\"wandb\"><tr><td>epoch</td><td>▁▂▃▃▄▅▆▆▇█</td></tr><tr><td>training_accuracy</td><td>▁▁▁▁▁▁▁▁▁▁</td></tr><tr><td>training_loss</td><td>█▆▅▄▃▂▂▁▁▁</td></tr><tr><td>validation_accuracy</td><td>▁▁▁▁▁▁▁▁▁▁</td></tr><tr><td>validation_loss</td><td>█▆▄▃▂▂▁▁▁▁</td></tr></table><br/></div><div class=\"wandb-col\"><h3>Run summary:</h3><br/><table class=\"wandb\"><tr><td>epoch</td><td>10</td></tr><tr><td>training_accuracy</td><td>0.10093</td></tr><tr><td>training_loss</td><td>0.45</td></tr><tr><td>validation_accuracy</td><td>0.09167</td></tr><tr><td>validation_loss</td><td>0.45001</td></tr></table><br/></div></div>"
      ],
      "text/plain": [
       "<IPython.core.display.HTML object>"
      ]
     },
     "metadata": {},
     "output_type": "display_data"
    },
    {
     "data": {
      "text/html": [
       " View run <strong style=\"color:#cdcd00\">lr_0.001_ac_sigmoid_in_random_uniform_op_sgd_bs_64_L2_0_ep_10_nn_64_nh_3</strong> at: <a href='https://wandb.ai/cs24m037-iit-madras/DL_A1/runs/t0mylqxn' target=\"_blank\">https://wandb.ai/cs24m037-iit-madras/DL_A1/runs/t0mylqxn</a><br> View project at: <a href='https://wandb.ai/cs24m037-iit-madras/DL_A1' target=\"_blank\">https://wandb.ai/cs24m037-iit-madras/DL_A1</a><br>Synced 5 W&B file(s), 0 media file(s), 0 artifact file(s) and 0 other file(s)"
      ],
      "text/plain": [
       "<IPython.core.display.HTML object>"
      ]
     },
     "metadata": {},
     "output_type": "display_data"
    },
    {
     "data": {
      "text/html": [
       "Find logs at: <code>.\\wandb\\run-20250308_100147-t0mylqxn\\logs</code>"
      ],
      "text/plain": [
       "<IPython.core.display.HTML object>"
      ]
     },
     "metadata": {},
     "output_type": "display_data"
    },
    {
     "name": "stderr",
     "output_type": "stream",
     "text": [
      "wandb: Agent Starting Run: cnngxz2p with config:\n",
      "wandb: \tL2_lamb: 0.0005\n",
      "wandb: \tactivation_f: relu\n",
      "wandb: \tbatch_size: 16\n",
      "wandb: \tepochs: 10\n",
      "wandb: \tinit_mode: random_uniform\n",
      "wandb: \tlearning_rate: 0.001\n",
      "wandb: \tnum_hidden: 5\n",
      "wandb: \tnum_neurons: 32\n",
      "wandb: \toptimizer: nesterov\n"
     ]
    },
    {
     "data": {
      "text/html": [
       "Tracking run with wandb version 0.19.7"
      ],
      "text/plain": [
       "<IPython.core.display.HTML object>"
      ]
     },
     "metadata": {},
     "output_type": "display_data"
    },
    {
     "data": {
      "text/html": [
       "Run data is saved locally in <code>c:\\Users\\RAMKUMAR\\Desktop\\iitm\\sem2\\DL\\wandb\\run-20250308_100208-cnngxz2p</code>"
      ],
      "text/plain": [
       "<IPython.core.display.HTML object>"
      ]
     },
     "metadata": {},
     "output_type": "display_data"
    },
    {
     "data": {
      "text/html": [
       "Syncing run <strong><a href='https://wandb.ai/cs24m037-iit-madras/DL_A1/runs/cnngxz2p' target=\"_blank\">lively-sweep-52</a></strong> to <a href='https://wandb.ai/cs24m037-iit-madras/DL_A1' target=\"_blank\">Weights & Biases</a> (<a href='https://wandb.me/developer-guide' target=\"_blank\">docs</a>)<br>Sweep page: <a href='https://wandb.ai/cs24m037-iit-madras/DL_A1/sweeps/zbxy6yvx' target=\"_blank\">https://wandb.ai/cs24m037-iit-madras/DL_A1/sweeps/zbxy6yvx</a>"
      ],
      "text/plain": [
       "<IPython.core.display.HTML object>"
      ]
     },
     "metadata": {},
     "output_type": "display_data"
    },
    {
     "data": {
      "text/html": [
       " View project at <a href='https://wandb.ai/cs24m037-iit-madras/DL_A1' target=\"_blank\">https://wandb.ai/cs24m037-iit-madras/DL_A1</a>"
      ],
      "text/plain": [
       "<IPython.core.display.HTML object>"
      ]
     },
     "metadata": {},
     "output_type": "display_data"
    },
    {
     "data": {
      "text/html": [
       " View sweep at <a href='https://wandb.ai/cs24m037-iit-madras/DL_A1/sweeps/zbxy6yvx' target=\"_blank\">https://wandb.ai/cs24m037-iit-madras/DL_A1/sweeps/zbxy6yvx</a>"
      ],
      "text/plain": [
       "<IPython.core.display.HTML object>"
      ]
     },
     "metadata": {},
     "output_type": "display_data"
    },
    {
     "data": {
      "text/html": [
       " View run at <a href='https://wandb.ai/cs24m037-iit-madras/DL_A1/runs/cnngxz2p' target=\"_blank\">https://wandb.ai/cs24m037-iit-madras/DL_A1/runs/cnngxz2p</a>"
      ],
      "text/plain": [
       "<IPython.core.display.HTML object>"
      ]
     },
     "metadata": {},
     "output_type": "display_data"
    },
    {
     "name": "stdout",
     "output_type": "stream",
     "text": [
      "lr_0.001_ac_relu_in_random_uniform_op_nesterov_bs_16_L2_0.0005_ep_10_nn_32_nh_5\n",
      "Epoch 1: Training Loss = 0.4500, Validation Loss = 0.4500, Training Acc = 0.1009, Validation Acc = 0.0917\n",
      "Epoch 2: Training Loss = 0.4500, Validation Loss = 0.4500, Training Acc = 0.1009, Validation Acc = 0.0917\n",
      "Epoch 3: Training Loss = 0.4500, Validation Loss = 0.4500, Training Acc = 0.1009, Validation Acc = 0.0917\n",
      "Epoch 4: Training Loss = 0.4500, Validation Loss = 0.4500, Training Acc = 0.1009, Validation Acc = 0.0917\n",
      "Epoch 5: Training Loss = 0.4500, Validation Loss = 0.4500, Training Acc = 0.1009, Validation Acc = 0.0917\n",
      "Epoch 6: Training Loss = 0.4500, Validation Loss = 0.4500, Training Acc = 0.1009, Validation Acc = 0.0917\n",
      "Epoch 7: Training Loss = 0.4500, Validation Loss = 0.4500, Training Acc = 0.1009, Validation Acc = 0.0917\n",
      "Epoch 8: Training Loss = 0.4500, Validation Loss = 0.4500, Training Acc = 0.1009, Validation Acc = 0.0917\n",
      "Epoch 9: Training Loss = 0.4500, Validation Loss = 0.4500, Training Acc = 0.1009, Validation Acc = 0.0917\n",
      "Epoch 10: Training Loss = 0.4500, Validation Loss = 0.4500, Training Acc = 0.1009, Validation Acc = 0.0917\n"
     ]
    },
    {
     "data": {
      "text/html": [],
      "text/plain": [
       "<IPython.core.display.HTML object>"
      ]
     },
     "metadata": {},
     "output_type": "display_data"
    },
    {
     "data": {
      "text/html": [
       "<br>    <style><br>        .wandb-row {<br>            display: flex;<br>            flex-direction: row;<br>            flex-wrap: wrap;<br>            justify-content: flex-start;<br>            width: 100%;<br>        }<br>        .wandb-col {<br>            display: flex;<br>            flex-direction: column;<br>            flex-basis: 100%;<br>            flex: 1;<br>            padding: 10px;<br>        }<br>    </style><br><div class=\"wandb-row\"><div class=\"wandb-col\"><h3>Run history:</h3><br/><table class=\"wandb\"><tr><td>epoch</td><td>▁▂▃▃▄▅▆▆▇█</td></tr><tr><td>training_accuracy</td><td>▁▁▁▁▁▁▁▁▁▁</td></tr><tr><td>training_loss</td><td>█▇▆▅▄▄▃▂▂▁</td></tr><tr><td>validation_accuracy</td><td>▁▁▁▁▁▁▁▁▁▁</td></tr><tr><td>validation_loss</td><td>▁▂▃▄▄▅▆▇▇█</td></tr></table><br/></div><div class=\"wandb-col\"><h3>Run summary:</h3><br/><table class=\"wandb\"><tr><td>epoch</td><td>10</td></tr><tr><td>training_accuracy</td><td>0.10093</td></tr><tr><td>training_loss</td><td>0.45</td></tr><tr><td>validation_accuracy</td><td>0.09167</td></tr><tr><td>validation_loss</td><td>0.45</td></tr></table><br/></div></div>"
      ],
      "text/plain": [
       "<IPython.core.display.HTML object>"
      ]
     },
     "metadata": {},
     "output_type": "display_data"
    },
    {
     "data": {
      "text/html": [
       " View run <strong style=\"color:#cdcd00\">lr_0.001_ac_relu_in_random_uniform_op_nesterov_bs_16_L2_0.0005_ep_10_nn_32_nh_5</strong> at: <a href='https://wandb.ai/cs24m037-iit-madras/DL_A1/runs/cnngxz2p' target=\"_blank\">https://wandb.ai/cs24m037-iit-madras/DL_A1/runs/cnngxz2p</a><br> View project at: <a href='https://wandb.ai/cs24m037-iit-madras/DL_A1' target=\"_blank\">https://wandb.ai/cs24m037-iit-madras/DL_A1</a><br>Synced 5 W&B file(s), 0 media file(s), 0 artifact file(s) and 0 other file(s)"
      ],
      "text/plain": [
       "<IPython.core.display.HTML object>"
      ]
     },
     "metadata": {},
     "output_type": "display_data"
    },
    {
     "data": {
      "text/html": [
       "Find logs at: <code>.\\wandb\\run-20250308_100208-cnngxz2p\\logs</code>"
      ],
      "text/plain": [
       "<IPython.core.display.HTML object>"
      ]
     },
     "metadata": {},
     "output_type": "display_data"
    },
    {
     "name": "stderr",
     "output_type": "stream",
     "text": [
      "wandb: Agent Starting Run: 4mslirk7 with config:\n",
      "wandb: \tL2_lamb: 0.0005\n",
      "wandb: \tactivation_f: relu\n",
      "wandb: \tbatch_size: 32\n",
      "wandb: \tepochs: 5\n",
      "wandb: \tinit_mode: xavier\n",
      "wandb: \tlearning_rate: 0.0001\n",
      "wandb: \tnum_hidden: 5\n",
      "wandb: \tnum_neurons: 32\n",
      "wandb: \toptimizer: nadam\n"
     ]
    },
    {
     "data": {
      "text/html": [
       "Tracking run with wandb version 0.19.7"
      ],
      "text/plain": [
       "<IPython.core.display.HTML object>"
      ]
     },
     "metadata": {},
     "output_type": "display_data"
    },
    {
     "data": {
      "text/html": [
       "Run data is saved locally in <code>c:\\Users\\RAMKUMAR\\Desktop\\iitm\\sem2\\DL\\wandb\\run-20250308_100229-4mslirk7</code>"
      ],
      "text/plain": [
       "<IPython.core.display.HTML object>"
      ]
     },
     "metadata": {},
     "output_type": "display_data"
    },
    {
     "data": {
      "text/html": [
       "Syncing run <strong><a href='https://wandb.ai/cs24m037-iit-madras/DL_A1/runs/4mslirk7' target=\"_blank\">astral-sweep-53</a></strong> to <a href='https://wandb.ai/cs24m037-iit-madras/DL_A1' target=\"_blank\">Weights & Biases</a> (<a href='https://wandb.me/developer-guide' target=\"_blank\">docs</a>)<br>Sweep page: <a href='https://wandb.ai/cs24m037-iit-madras/DL_A1/sweeps/zbxy6yvx' target=\"_blank\">https://wandb.ai/cs24m037-iit-madras/DL_A1/sweeps/zbxy6yvx</a>"
      ],
      "text/plain": [
       "<IPython.core.display.HTML object>"
      ]
     },
     "metadata": {},
     "output_type": "display_data"
    },
    {
     "data": {
      "text/html": [
       " View project at <a href='https://wandb.ai/cs24m037-iit-madras/DL_A1' target=\"_blank\">https://wandb.ai/cs24m037-iit-madras/DL_A1</a>"
      ],
      "text/plain": [
       "<IPython.core.display.HTML object>"
      ]
     },
     "metadata": {},
     "output_type": "display_data"
    },
    {
     "data": {
      "text/html": [
       " View sweep at <a href='https://wandb.ai/cs24m037-iit-madras/DL_A1/sweeps/zbxy6yvx' target=\"_blank\">https://wandb.ai/cs24m037-iit-madras/DL_A1/sweeps/zbxy6yvx</a>"
      ],
      "text/plain": [
       "<IPython.core.display.HTML object>"
      ]
     },
     "metadata": {},
     "output_type": "display_data"
    },
    {
     "data": {
      "text/html": [
       " View run at <a href='https://wandb.ai/cs24m037-iit-madras/DL_A1/runs/4mslirk7' target=\"_blank\">https://wandb.ai/cs24m037-iit-madras/DL_A1/runs/4mslirk7</a>"
      ],
      "text/plain": [
       "<IPython.core.display.HTML object>"
      ]
     },
     "metadata": {},
     "output_type": "display_data"
    },
    {
     "name": "stdout",
     "output_type": "stream",
     "text": [
      "lr_0.0001_ac_relu_in_xavier_op_nadam_bs_32_L2_0.0005_ep_5_nn_32_nh_5\n",
      "Epoch 1: Training Loss = 0.1890, Validation Loss = 0.1947, Training Acc = 0.7413, Validation Acc = 0.7295\n",
      "Epoch 2: Training Loss = 0.1487, Validation Loss = 0.1545, Training Acc = 0.7869, Validation Acc = 0.7760\n",
      "Epoch 3: Training Loss = 0.1347, Validation Loss = 0.1407, Training Acc = 0.8065, Validation Acc = 0.7973\n",
      "Epoch 4: Training Loss = 0.1248, Validation Loss = 0.1304, Training Acc = 0.8261, Validation Acc = 0.8192\n",
      "Epoch 5: Training Loss = 0.1171, Validation Loss = 0.1224, Training Acc = 0.8367, Validation Acc = 0.8317\n"
     ]
    },
    {
     "data": {
      "text/html": [],
      "text/plain": [
       "<IPython.core.display.HTML object>"
      ]
     },
     "metadata": {},
     "output_type": "display_data"
    },
    {
     "data": {
      "text/html": [
       "<br>    <style><br>        .wandb-row {<br>            display: flex;<br>            flex-direction: row;<br>            flex-wrap: wrap;<br>            justify-content: flex-start;<br>            width: 100%;<br>        }<br>        .wandb-col {<br>            display: flex;<br>            flex-direction: column;<br>            flex-basis: 100%;<br>            flex: 1;<br>            padding: 10px;<br>        }<br>    </style><br><div class=\"wandb-row\"><div class=\"wandb-col\"><h3>Run history:</h3><br/><table class=\"wandb\"><tr><td>epoch</td><td>▁▃▅▆█</td></tr><tr><td>training_accuracy</td><td>▁▄▆▇█</td></tr><tr><td>training_loss</td><td>█▄▃▂▁</td></tr><tr><td>validation_accuracy</td><td>▁▄▆▇█</td></tr><tr><td>validation_loss</td><td>█▄▃▂▁</td></tr></table><br/></div><div class=\"wandb-col\"><h3>Run summary:</h3><br/><table class=\"wandb\"><tr><td>epoch</td><td>5</td></tr><tr><td>training_accuracy</td><td>0.83669</td></tr><tr><td>training_loss</td><td>0.11708</td></tr><tr><td>validation_accuracy</td><td>0.83167</td></tr><tr><td>validation_loss</td><td>0.12236</td></tr></table><br/></div></div>"
      ],
      "text/plain": [
       "<IPython.core.display.HTML object>"
      ]
     },
     "metadata": {},
     "output_type": "display_data"
    },
    {
     "data": {
      "text/html": [
       " View run <strong style=\"color:#cdcd00\">lr_0.0001_ac_relu_in_xavier_op_nadam_bs_32_L2_0.0005_ep_5_nn_32_nh_5</strong> at: <a href='https://wandb.ai/cs24m037-iit-madras/DL_A1/runs/4mslirk7' target=\"_blank\">https://wandb.ai/cs24m037-iit-madras/DL_A1/runs/4mslirk7</a><br> View project at: <a href='https://wandb.ai/cs24m037-iit-madras/DL_A1' target=\"_blank\">https://wandb.ai/cs24m037-iit-madras/DL_A1</a><br>Synced 5 W&B file(s), 0 media file(s), 0 artifact file(s) and 0 other file(s)"
      ],
      "text/plain": [
       "<IPython.core.display.HTML object>"
      ]
     },
     "metadata": {},
     "output_type": "display_data"
    },
    {
     "data": {
      "text/html": [
       "Find logs at: <code>.\\wandb\\run-20250308_100229-4mslirk7\\logs</code>"
      ],
      "text/plain": [
       "<IPython.core.display.HTML object>"
      ]
     },
     "metadata": {},
     "output_type": "display_data"
    },
    {
     "name": "stderr",
     "output_type": "stream",
     "text": [
      "wandb: Agent Starting Run: pkmbtwh7 with config:\n",
      "wandb: \tL2_lamb: 0.5\n",
      "wandb: \tactivation_f: sigmoid\n",
      "wandb: \tbatch_size: 16\n",
      "wandb: \tepochs: 5\n",
      "wandb: \tinit_mode: random_uniform\n",
      "wandb: \tlearning_rate: 0.0001\n",
      "wandb: \tnum_hidden: 5\n",
      "wandb: \tnum_neurons: 64\n",
      "wandb: \toptimizer: nesterov\n"
     ]
    },
    {
     "data": {
      "text/html": [
       "creating run (0.4s)"
      ],
      "text/plain": [
       "<IPython.core.display.HTML object>"
      ]
     },
     "metadata": {},
     "output_type": "display_data"
    },
    {
     "data": {
      "text/html": [
       "Tracking run with wandb version 0.19.7"
      ],
      "text/plain": [
       "<IPython.core.display.HTML object>"
      ]
     },
     "metadata": {},
     "output_type": "display_data"
    },
    {
     "data": {
      "text/html": [
       "Run data is saved locally in <code>c:\\Users\\RAMKUMAR\\Desktop\\iitm\\sem2\\DL\\wandb\\run-20250308_100245-pkmbtwh7</code>"
      ],
      "text/plain": [
       "<IPython.core.display.HTML object>"
      ]
     },
     "metadata": {},
     "output_type": "display_data"
    },
    {
     "data": {
      "text/html": [
       "Syncing run <strong><a href='https://wandb.ai/cs24m037-iit-madras/DL_A1/runs/pkmbtwh7' target=\"_blank\">rose-sweep-54</a></strong> to <a href='https://wandb.ai/cs24m037-iit-madras/DL_A1' target=\"_blank\">Weights & Biases</a> (<a href='https://wandb.me/developer-guide' target=\"_blank\">docs</a>)<br>Sweep page: <a href='https://wandb.ai/cs24m037-iit-madras/DL_A1/sweeps/zbxy6yvx' target=\"_blank\">https://wandb.ai/cs24m037-iit-madras/DL_A1/sweeps/zbxy6yvx</a>"
      ],
      "text/plain": [
       "<IPython.core.display.HTML object>"
      ]
     },
     "metadata": {},
     "output_type": "display_data"
    },
    {
     "data": {
      "text/html": [
       " View project at <a href='https://wandb.ai/cs24m037-iit-madras/DL_A1' target=\"_blank\">https://wandb.ai/cs24m037-iit-madras/DL_A1</a>"
      ],
      "text/plain": [
       "<IPython.core.display.HTML object>"
      ]
     },
     "metadata": {},
     "output_type": "display_data"
    },
    {
     "data": {
      "text/html": [
       " View sweep at <a href='https://wandb.ai/cs24m037-iit-madras/DL_A1/sweeps/zbxy6yvx' target=\"_blank\">https://wandb.ai/cs24m037-iit-madras/DL_A1/sweeps/zbxy6yvx</a>"
      ],
      "text/plain": [
       "<IPython.core.display.HTML object>"
      ]
     },
     "metadata": {},
     "output_type": "display_data"
    },
    {
     "data": {
      "text/html": [
       " View run at <a href='https://wandb.ai/cs24m037-iit-madras/DL_A1/runs/pkmbtwh7' target=\"_blank\">https://wandb.ai/cs24m037-iit-madras/DL_A1/runs/pkmbtwh7</a>"
      ],
      "text/plain": [
       "<IPython.core.display.HTML object>"
      ]
     },
     "metadata": {},
     "output_type": "display_data"
    },
    {
     "name": "stdout",
     "output_type": "stream",
     "text": [
      "lr_0.0001_ac_sigmoid_in_random_uniform_op_nesterov_bs_16_L2_0.5_ep_5_nn_64_nh_5\n",
      "Epoch 1: Training Loss = 0.4500, Validation Loss = 0.4501, Training Acc = 0.1001, Validation Acc = 0.0995\n",
      "Epoch 2: Training Loss = 0.4500, Validation Loss = 0.4501, Training Acc = 0.1001, Validation Acc = 0.0995\n",
      "Epoch 3: Training Loss = 0.4500, Validation Loss = 0.4501, Training Acc = 0.1001, Validation Acc = 0.0995\n",
      "Epoch 4: Training Loss = 0.4500, Validation Loss = 0.4501, Training Acc = 0.1001, Validation Acc = 0.0995\n",
      "Epoch 5: Training Loss = 0.4500, Validation Loss = 0.4501, Training Acc = 0.1001, Validation Acc = 0.0995\n"
     ]
    },
    {
     "data": {
      "text/html": [],
      "text/plain": [
       "<IPython.core.display.HTML object>"
      ]
     },
     "metadata": {},
     "output_type": "display_data"
    },
    {
     "data": {
      "text/html": [
       "<br>    <style><br>        .wandb-row {<br>            display: flex;<br>            flex-direction: row;<br>            flex-wrap: wrap;<br>            justify-content: flex-start;<br>            width: 100%;<br>        }<br>        .wandb-col {<br>            display: flex;<br>            flex-direction: column;<br>            flex-basis: 100%;<br>            flex: 1;<br>            padding: 10px;<br>        }<br>    </style><br><div class=\"wandb-row\"><div class=\"wandb-col\"><h3>Run history:</h3><br/><table class=\"wandb\"><tr><td>epoch</td><td>▁▃▅▆█</td></tr><tr><td>training_accuracy</td><td>▁▁▁▁▁</td></tr><tr><td>training_loss</td><td>█▆▄▃▁</td></tr><tr><td>validation_accuracy</td><td>▁▁▁▁▁</td></tr><tr><td>validation_loss</td><td>█▆▄▃▁</td></tr></table><br/></div><div class=\"wandb-col\"><h3>Run summary:</h3><br/><table class=\"wandb\"><tr><td>epoch</td><td>5</td></tr><tr><td>training_accuracy</td><td>0.10006</td></tr><tr><td>training_loss</td><td>0.45001</td></tr><tr><td>validation_accuracy</td><td>0.0995</td></tr><tr><td>validation_loss</td><td>0.45008</td></tr></table><br/></div></div>"
      ],
      "text/plain": [
       "<IPython.core.display.HTML object>"
      ]
     },
     "metadata": {},
     "output_type": "display_data"
    },
    {
     "data": {
      "text/html": [
       " View run <strong style=\"color:#cdcd00\">lr_0.0001_ac_sigmoid_in_random_uniform_op_nesterov_bs_16_L2_0.5_ep_5_nn_64_nh_5</strong> at: <a href='https://wandb.ai/cs24m037-iit-madras/DL_A1/runs/pkmbtwh7' target=\"_blank\">https://wandb.ai/cs24m037-iit-madras/DL_A1/runs/pkmbtwh7</a><br> View project at: <a href='https://wandb.ai/cs24m037-iit-madras/DL_A1' target=\"_blank\">https://wandb.ai/cs24m037-iit-madras/DL_A1</a><br>Synced 5 W&B file(s), 0 media file(s), 0 artifact file(s) and 0 other file(s)"
      ],
      "text/plain": [
       "<IPython.core.display.HTML object>"
      ]
     },
     "metadata": {},
     "output_type": "display_data"
    },
    {
     "data": {
      "text/html": [
       "Find logs at: <code>.\\wandb\\run-20250308_100245-pkmbtwh7\\logs</code>"
      ],
      "text/plain": [
       "<IPython.core.display.HTML object>"
      ]
     },
     "metadata": {},
     "output_type": "display_data"
    },
    {
     "name": "stderr",
     "output_type": "stream",
     "text": [
      "wandb: Agent Starting Run: mrokvfdx with config:\n",
      "wandb: \tL2_lamb: 0.5\n",
      "wandb: \tactivation_f: tanh\n",
      "wandb: \tbatch_size: 16\n",
      "wandb: \tepochs: 5\n",
      "wandb: \tinit_mode: random_uniform\n",
      "wandb: \tlearning_rate: 0.0001\n",
      "wandb: \tnum_hidden: 3\n",
      "wandb: \tnum_neurons: 32\n",
      "wandb: \toptimizer: adam\n"
     ]
    },
    {
     "data": {
      "text/html": [
       "Tracking run with wandb version 0.19.7"
      ],
      "text/plain": [
       "<IPython.core.display.HTML object>"
      ]
     },
     "metadata": {},
     "output_type": "display_data"
    },
    {
     "data": {
      "text/html": [
       "Run data is saved locally in <code>c:\\Users\\RAMKUMAR\\Desktop\\iitm\\sem2\\DL\\wandb\\run-20250308_100311-mrokvfdx</code>"
      ],
      "text/plain": [
       "<IPython.core.display.HTML object>"
      ]
     },
     "metadata": {},
     "output_type": "display_data"
    },
    {
     "data": {
      "text/html": [
       "Syncing run <strong><a href='https://wandb.ai/cs24m037-iit-madras/DL_A1/runs/mrokvfdx' target=\"_blank\">rosy-sweep-55</a></strong> to <a href='https://wandb.ai/cs24m037-iit-madras/DL_A1' target=\"_blank\">Weights & Biases</a> (<a href='https://wandb.me/developer-guide' target=\"_blank\">docs</a>)<br>Sweep page: <a href='https://wandb.ai/cs24m037-iit-madras/DL_A1/sweeps/zbxy6yvx' target=\"_blank\">https://wandb.ai/cs24m037-iit-madras/DL_A1/sweeps/zbxy6yvx</a>"
      ],
      "text/plain": [
       "<IPython.core.display.HTML object>"
      ]
     },
     "metadata": {},
     "output_type": "display_data"
    },
    {
     "data": {
      "text/html": [
       " View project at <a href='https://wandb.ai/cs24m037-iit-madras/DL_A1' target=\"_blank\">https://wandb.ai/cs24m037-iit-madras/DL_A1</a>"
      ],
      "text/plain": [
       "<IPython.core.display.HTML object>"
      ]
     },
     "metadata": {},
     "output_type": "display_data"
    },
    {
     "data": {
      "text/html": [
       " View sweep at <a href='https://wandb.ai/cs24m037-iit-madras/DL_A1/sweeps/zbxy6yvx' target=\"_blank\">https://wandb.ai/cs24m037-iit-madras/DL_A1/sweeps/zbxy6yvx</a>"
      ],
      "text/plain": [
       "<IPython.core.display.HTML object>"
      ]
     },
     "metadata": {},
     "output_type": "display_data"
    },
    {
     "data": {
      "text/html": [
       " View run at <a href='https://wandb.ai/cs24m037-iit-madras/DL_A1/runs/mrokvfdx' target=\"_blank\">https://wandb.ai/cs24m037-iit-madras/DL_A1/runs/mrokvfdx</a>"
      ],
      "text/plain": [
       "<IPython.core.display.HTML object>"
      ]
     },
     "metadata": {},
     "output_type": "display_data"
    },
    {
     "name": "stdout",
     "output_type": "stream",
     "text": [
      "lr_0.0001_ac_tanh_in_random_uniform_op_adam_bs_16_L2_0.5_ep_5_nn_32_nh_3\n",
      "Epoch 1: Training Loss = 0.4500, Validation Loss = 0.4500, Training Acc = 0.1001, Validation Acc = 0.0995\n",
      "Epoch 2: Training Loss = 0.4500, Validation Loss = 0.4500, Training Acc = 0.1001, Validation Acc = 0.0995\n",
      "Epoch 3: Training Loss = 0.4500, Validation Loss = 0.4500, Training Acc = 0.1001, Validation Acc = 0.0995\n",
      "Epoch 4: Training Loss = 0.4500, Validation Loss = 0.4500, Training Acc = 0.1001, Validation Acc = 0.0995\n",
      "Epoch 5: Training Loss = 0.4500, Validation Loss = 0.4500, Training Acc = 0.1001, Validation Acc = 0.0995\n"
     ]
    },
    {
     "data": {
      "text/html": [],
      "text/plain": [
       "<IPython.core.display.HTML object>"
      ]
     },
     "metadata": {},
     "output_type": "display_data"
    },
    {
     "data": {
      "text/html": [
       "<br>    <style><br>        .wandb-row {<br>            display: flex;<br>            flex-direction: row;<br>            flex-wrap: wrap;<br>            justify-content: flex-start;<br>            width: 100%;<br>        }<br>        .wandb-col {<br>            display: flex;<br>            flex-direction: column;<br>            flex-basis: 100%;<br>            flex: 1;<br>            padding: 10px;<br>        }<br>    </style><br><div class=\"wandb-row\"><div class=\"wandb-col\"><h3>Run history:</h3><br/><table class=\"wandb\"><tr><td>epoch</td><td>▁▃▅▆█</td></tr><tr><td>training_accuracy</td><td>▁▁▁▁▁</td></tr><tr><td>training_loss</td><td>▁▁▁▁▁</td></tr><tr><td>validation_accuracy</td><td>▁▁▁▁▁</td></tr><tr><td>validation_loss</td><td>▁▁▁▁▁</td></tr></table><br/></div><div class=\"wandb-col\"><h3>Run summary:</h3><br/><table class=\"wandb\"><tr><td>epoch</td><td>5</td></tr><tr><td>training_accuracy</td><td>0.10006</td></tr><tr><td>training_loss</td><td>0.45</td></tr><tr><td>validation_accuracy</td><td>0.0995</td></tr><tr><td>validation_loss</td><td>0.45</td></tr></table><br/></div></div>"
      ],
      "text/plain": [
       "<IPython.core.display.HTML object>"
      ]
     },
     "metadata": {},
     "output_type": "display_data"
    },
    {
     "data": {
      "text/html": [
       " View run <strong style=\"color:#cdcd00\">lr_0.0001_ac_tanh_in_random_uniform_op_adam_bs_16_L2_0.5_ep_5_nn_32_nh_3</strong> at: <a href='https://wandb.ai/cs24m037-iit-madras/DL_A1/runs/mrokvfdx' target=\"_blank\">https://wandb.ai/cs24m037-iit-madras/DL_A1/runs/mrokvfdx</a><br> View project at: <a href='https://wandb.ai/cs24m037-iit-madras/DL_A1' target=\"_blank\">https://wandb.ai/cs24m037-iit-madras/DL_A1</a><br>Synced 5 W&B file(s), 0 media file(s), 0 artifact file(s) and 0 other file(s)"
      ],
      "text/plain": [
       "<IPython.core.display.HTML object>"
      ]
     },
     "metadata": {},
     "output_type": "display_data"
    },
    {
     "data": {
      "text/html": [
       "Find logs at: <code>.\\wandb\\run-20250308_100311-mrokvfdx\\logs</code>"
      ],
      "text/plain": [
       "<IPython.core.display.HTML object>"
      ]
     },
     "metadata": {},
     "output_type": "display_data"
    },
    {
     "name": "stderr",
     "output_type": "stream",
     "text": [
      "wandb: Agent Starting Run: j7lr6qv0 with config:\n",
      "wandb: \tL2_lamb: 0\n",
      "wandb: \tactivation_f: sigmoid\n",
      "wandb: \tbatch_size: 64\n",
      "wandb: \tepochs: 5\n",
      "wandb: \tinit_mode: random_uniform\n",
      "wandb: \tlearning_rate: 0.001\n",
      "wandb: \tnum_hidden: 4\n",
      "wandb: \tnum_neurons: 64\n",
      "wandb: \toptimizer: nadam\n"
     ]
    },
    {
     "data": {
      "text/html": [
       "Tracking run with wandb version 0.19.7"
      ],
      "text/plain": [
       "<IPython.core.display.HTML object>"
      ]
     },
     "metadata": {},
     "output_type": "display_data"
    },
    {
     "data": {
      "text/html": [
       "Run data is saved locally in <code>c:\\Users\\RAMKUMAR\\Desktop\\iitm\\sem2\\DL\\wandb\\run-20250308_100327-j7lr6qv0</code>"
      ],
      "text/plain": [
       "<IPython.core.display.HTML object>"
      ]
     },
     "metadata": {},
     "output_type": "display_data"
    },
    {
     "data": {
      "text/html": [
       "Syncing run <strong><a href='https://wandb.ai/cs24m037-iit-madras/DL_A1/runs/j7lr6qv0' target=\"_blank\">ruby-sweep-56</a></strong> to <a href='https://wandb.ai/cs24m037-iit-madras/DL_A1' target=\"_blank\">Weights & Biases</a> (<a href='https://wandb.me/developer-guide' target=\"_blank\">docs</a>)<br>Sweep page: <a href='https://wandb.ai/cs24m037-iit-madras/DL_A1/sweeps/zbxy6yvx' target=\"_blank\">https://wandb.ai/cs24m037-iit-madras/DL_A1/sweeps/zbxy6yvx</a>"
      ],
      "text/plain": [
       "<IPython.core.display.HTML object>"
      ]
     },
     "metadata": {},
     "output_type": "display_data"
    },
    {
     "data": {
      "text/html": [
       " View project at <a href='https://wandb.ai/cs24m037-iit-madras/DL_A1' target=\"_blank\">https://wandb.ai/cs24m037-iit-madras/DL_A1</a>"
      ],
      "text/plain": [
       "<IPython.core.display.HTML object>"
      ]
     },
     "metadata": {},
     "output_type": "display_data"
    },
    {
     "data": {
      "text/html": [
       " View sweep at <a href='https://wandb.ai/cs24m037-iit-madras/DL_A1/sweeps/zbxy6yvx' target=\"_blank\">https://wandb.ai/cs24m037-iit-madras/DL_A1/sweeps/zbxy6yvx</a>"
      ],
      "text/plain": [
       "<IPython.core.display.HTML object>"
      ]
     },
     "metadata": {},
     "output_type": "display_data"
    },
    {
     "data": {
      "text/html": [
       " View run at <a href='https://wandb.ai/cs24m037-iit-madras/DL_A1/runs/j7lr6qv0' target=\"_blank\">https://wandb.ai/cs24m037-iit-madras/DL_A1/runs/j7lr6qv0</a>"
      ],
      "text/plain": [
       "<IPython.core.display.HTML object>"
      ]
     },
     "metadata": {},
     "output_type": "display_data"
    },
    {
     "name": "stdout",
     "output_type": "stream",
     "text": [
      "lr_0.001_ac_sigmoid_in_random_uniform_op_nadam_bs_64_L2_0_ep_5_nn_64_nh_4\n",
      "Epoch 1: Training Loss = 0.4472, Validation Loss = 0.4475, Training Acc = 0.1002, Validation Acc = 0.0983\n",
      "Epoch 2: Training Loss = 0.4457, Validation Loss = 0.4460, Training Acc = 0.1009, Validation Acc = 0.0917\n",
      "Epoch 3: Training Loss = 0.4366, Validation Loss = 0.4370, Training Acc = 0.1002, Validation Acc = 0.0983\n",
      "Epoch 4: Training Loss = 0.4321, Validation Loss = 0.4325, Training Acc = 0.0996, Validation Acc = 0.1035\n",
      "Epoch 5: Training Loss = 0.4389, Validation Loss = 0.4390, Training Acc = 0.1984, Validation Acc = 0.1998\n"
     ]
    },
    {
     "data": {
      "text/html": [],
      "text/plain": [
       "<IPython.core.display.HTML object>"
      ]
     },
     "metadata": {},
     "output_type": "display_data"
    },
    {
     "data": {
      "text/html": [
       "<br>    <style><br>        .wandb-row {<br>            display: flex;<br>            flex-direction: row;<br>            flex-wrap: wrap;<br>            justify-content: flex-start;<br>            width: 100%;<br>        }<br>        .wandb-col {<br>            display: flex;<br>            flex-direction: column;<br>            flex-basis: 100%;<br>            flex: 1;<br>            padding: 10px;<br>        }<br>    </style><br><div class=\"wandb-row\"><div class=\"wandb-col\"><h3>Run history:</h3><br/><table class=\"wandb\"><tr><td>epoch</td><td>▁▃▅▆█</td></tr><tr><td>training_accuracy</td><td>▁▁▁▁█</td></tr><tr><td>training_loss</td><td>█▇▃▁▄</td></tr><tr><td>validation_accuracy</td><td>▁▁▁▂█</td></tr><tr><td>validation_loss</td><td>█▇▃▁▄</td></tr></table><br/></div><div class=\"wandb-col\"><h3>Run summary:</h3><br/><table class=\"wandb\"><tr><td>epoch</td><td>5</td></tr><tr><td>training_accuracy</td><td>0.19843</td></tr><tr><td>training_loss</td><td>0.43888</td></tr><tr><td>validation_accuracy</td><td>0.19983</td></tr><tr><td>validation_loss</td><td>0.43901</td></tr></table><br/></div></div>"
      ],
      "text/plain": [
       "<IPython.core.display.HTML object>"
      ]
     },
     "metadata": {},
     "output_type": "display_data"
    },
    {
     "data": {
      "text/html": [
       " View run <strong style=\"color:#cdcd00\">lr_0.001_ac_sigmoid_in_random_uniform_op_nadam_bs_64_L2_0_ep_5_nn_64_nh_4</strong> at: <a href='https://wandb.ai/cs24m037-iit-madras/DL_A1/runs/j7lr6qv0' target=\"_blank\">https://wandb.ai/cs24m037-iit-madras/DL_A1/runs/j7lr6qv0</a><br> View project at: <a href='https://wandb.ai/cs24m037-iit-madras/DL_A1' target=\"_blank\">https://wandb.ai/cs24m037-iit-madras/DL_A1</a><br>Synced 5 W&B file(s), 0 media file(s), 0 artifact file(s) and 0 other file(s)"
      ],
      "text/plain": [
       "<IPython.core.display.HTML object>"
      ]
     },
     "metadata": {},
     "output_type": "display_data"
    },
    {
     "data": {
      "text/html": [
       "Find logs at: <code>.\\wandb\\run-20250308_100327-j7lr6qv0\\logs</code>"
      ],
      "text/plain": [
       "<IPython.core.display.HTML object>"
      ]
     },
     "metadata": {},
     "output_type": "display_data"
    },
    {
     "name": "stderr",
     "output_type": "stream",
     "text": [
      "wandb: Agent Starting Run: nzwfzntc with config:\n",
      "wandb: \tL2_lamb: 0.5\n",
      "wandb: \tactivation_f: tanh\n",
      "wandb: \tbatch_size: 64\n",
      "wandb: \tepochs: 5\n",
      "wandb: \tinit_mode: random_uniform\n",
      "wandb: \tlearning_rate: 0.001\n",
      "wandb: \tnum_hidden: 3\n",
      "wandb: \tnum_neurons: 64\n",
      "wandb: \toptimizer: momentum\n"
     ]
    },
    {
     "data": {
      "text/html": [
       "Tracking run with wandb version 0.19.7"
      ],
      "text/plain": [
       "<IPython.core.display.HTML object>"
      ]
     },
     "metadata": {},
     "output_type": "display_data"
    },
    {
     "data": {
      "text/html": [
       "Run data is saved locally in <code>c:\\Users\\RAMKUMAR\\Desktop\\iitm\\sem2\\DL\\wandb\\run-20250308_100343-nzwfzntc</code>"
      ],
      "text/plain": [
       "<IPython.core.display.HTML object>"
      ]
     },
     "metadata": {},
     "output_type": "display_data"
    },
    {
     "data": {
      "text/html": [
       "Syncing run <strong><a href='https://wandb.ai/cs24m037-iit-madras/DL_A1/runs/nzwfzntc' target=\"_blank\">icy-sweep-57</a></strong> to <a href='https://wandb.ai/cs24m037-iit-madras/DL_A1' target=\"_blank\">Weights & Biases</a> (<a href='https://wandb.me/developer-guide' target=\"_blank\">docs</a>)<br>Sweep page: <a href='https://wandb.ai/cs24m037-iit-madras/DL_A1/sweeps/zbxy6yvx' target=\"_blank\">https://wandb.ai/cs24m037-iit-madras/DL_A1/sweeps/zbxy6yvx</a>"
      ],
      "text/plain": [
       "<IPython.core.display.HTML object>"
      ]
     },
     "metadata": {},
     "output_type": "display_data"
    },
    {
     "data": {
      "text/html": [
       " View project at <a href='https://wandb.ai/cs24m037-iit-madras/DL_A1' target=\"_blank\">https://wandb.ai/cs24m037-iit-madras/DL_A1</a>"
      ],
      "text/plain": [
       "<IPython.core.display.HTML object>"
      ]
     },
     "metadata": {},
     "output_type": "display_data"
    },
    {
     "data": {
      "text/html": [
       " View sweep at <a href='https://wandb.ai/cs24m037-iit-madras/DL_A1/sweeps/zbxy6yvx' target=\"_blank\">https://wandb.ai/cs24m037-iit-madras/DL_A1/sweeps/zbxy6yvx</a>"
      ],
      "text/plain": [
       "<IPython.core.display.HTML object>"
      ]
     },
     "metadata": {},
     "output_type": "display_data"
    },
    {
     "data": {
      "text/html": [
       " View run at <a href='https://wandb.ai/cs24m037-iit-madras/DL_A1/runs/nzwfzntc' target=\"_blank\">https://wandb.ai/cs24m037-iit-madras/DL_A1/runs/nzwfzntc</a>"
      ],
      "text/plain": [
       "<IPython.core.display.HTML object>"
      ]
     },
     "metadata": {},
     "output_type": "display_data"
    },
    {
     "name": "stdout",
     "output_type": "stream",
     "text": [
      "lr_0.001_ac_tanh_in_random_uniform_op_momentum_bs_64_L2_0.5_ep_5_nn_64_nh_3\n",
      "Epoch 1: Training Loss = 0.4500, Validation Loss = 0.4501, Training Acc = 0.1009, Validation Acc = 0.0917\n",
      "Epoch 2: Training Loss = 0.4500, Validation Loss = 0.4501, Training Acc = 0.0997, Validation Acc = 0.1032\n",
      "Epoch 3: Training Loss = 0.4500, Validation Loss = 0.4501, Training Acc = 0.0996, Validation Acc = 0.1047\n",
      "Epoch 4: Training Loss = 0.4500, Validation Loss = 0.4501, Training Acc = 0.0996, Validation Acc = 0.1047\n",
      "Epoch 5: Training Loss = 0.4500, Validation Loss = 0.4501, Training Acc = 0.0996, Validation Acc = 0.1047\n"
     ]
    },
    {
     "data": {
      "text/html": [],
      "text/plain": [
       "<IPython.core.display.HTML object>"
      ]
     },
     "metadata": {},
     "output_type": "display_data"
    },
    {
     "data": {
      "text/html": [
       "<br>    <style><br>        .wandb-row {<br>            display: flex;<br>            flex-direction: row;<br>            flex-wrap: wrap;<br>            justify-content: flex-start;<br>            width: 100%;<br>        }<br>        .wandb-col {<br>            display: flex;<br>            flex-direction: column;<br>            flex-basis: 100%;<br>            flex: 1;<br>            padding: 10px;<br>        }<br>    </style><br><div class=\"wandb-row\"><div class=\"wandb-col\"><h3>Run history:</h3><br/><table class=\"wandb\"><tr><td>epoch</td><td>▁▃▅▆█</td></tr><tr><td>training_accuracy</td><td>█▁▁▁▁</td></tr><tr><td>training_loss</td><td>█▆▄▃▁</td></tr><tr><td>validation_accuracy</td><td>▁▇███</td></tr><tr><td>validation_loss</td><td>█▆▄▃▁</td></tr></table><br/></div><div class=\"wandb-col\"><h3>Run summary:</h3><br/><table class=\"wandb\"><tr><td>epoch</td><td>5</td></tr><tr><td>training_accuracy</td><td>0.09961</td></tr><tr><td>training_loss</td><td>0.44998</td></tr><tr><td>validation_accuracy</td><td>0.10467</td></tr><tr><td>validation_loss</td><td>0.45005</td></tr></table><br/></div></div>"
      ],
      "text/plain": [
       "<IPython.core.display.HTML object>"
      ]
     },
     "metadata": {},
     "output_type": "display_data"
    },
    {
     "data": {
      "text/html": [
       " View run <strong style=\"color:#cdcd00\">lr_0.001_ac_tanh_in_random_uniform_op_momentum_bs_64_L2_0.5_ep_5_nn_64_nh_3</strong> at: <a href='https://wandb.ai/cs24m037-iit-madras/DL_A1/runs/nzwfzntc' target=\"_blank\">https://wandb.ai/cs24m037-iit-madras/DL_A1/runs/nzwfzntc</a><br> View project at: <a href='https://wandb.ai/cs24m037-iit-madras/DL_A1' target=\"_blank\">https://wandb.ai/cs24m037-iit-madras/DL_A1</a><br>Synced 5 W&B file(s), 0 media file(s), 0 artifact file(s) and 0 other file(s)"
      ],
      "text/plain": [
       "<IPython.core.display.HTML object>"
      ]
     },
     "metadata": {},
     "output_type": "display_data"
    },
    {
     "data": {
      "text/html": [
       "Find logs at: <code>.\\wandb\\run-20250308_100343-nzwfzntc\\logs</code>"
      ],
      "text/plain": [
       "<IPython.core.display.HTML object>"
      ]
     },
     "metadata": {},
     "output_type": "display_data"
    },
    {
     "name": "stderr",
     "output_type": "stream",
     "text": [
      "wandb: Agent Starting Run: 5czzb0up with config:\n",
      "wandb: \tL2_lamb: 0\n",
      "wandb: \tactivation_f: relu\n",
      "wandb: \tbatch_size: 32\n",
      "wandb: \tepochs: 10\n",
      "wandb: \tinit_mode: random_uniform\n",
      "wandb: \tlearning_rate: 0.0001\n",
      "wandb: \tnum_hidden: 5\n",
      "wandb: \tnum_neurons: 32\n",
      "wandb: \toptimizer: adam\n"
     ]
    },
    {
     "data": {
      "text/html": [
       "Tracking run with wandb version 0.19.7"
      ],
      "text/plain": [
       "<IPython.core.display.HTML object>"
      ]
     },
     "metadata": {},
     "output_type": "display_data"
    },
    {
     "data": {
      "text/html": [
       "Run data is saved locally in <code>c:\\Users\\RAMKUMAR\\Desktop\\iitm\\sem2\\DL\\wandb\\run-20250308_100354-5czzb0up</code>"
      ],
      "text/plain": [
       "<IPython.core.display.HTML object>"
      ]
     },
     "metadata": {},
     "output_type": "display_data"
    },
    {
     "data": {
      "text/html": [
       "Syncing run <strong><a href='https://wandb.ai/cs24m037-iit-madras/DL_A1/runs/5czzb0up' target=\"_blank\">curious-sweep-58</a></strong> to <a href='https://wandb.ai/cs24m037-iit-madras/DL_A1' target=\"_blank\">Weights & Biases</a> (<a href='https://wandb.me/developer-guide' target=\"_blank\">docs</a>)<br>Sweep page: <a href='https://wandb.ai/cs24m037-iit-madras/DL_A1/sweeps/zbxy6yvx' target=\"_blank\">https://wandb.ai/cs24m037-iit-madras/DL_A1/sweeps/zbxy6yvx</a>"
      ],
      "text/plain": [
       "<IPython.core.display.HTML object>"
      ]
     },
     "metadata": {},
     "output_type": "display_data"
    },
    {
     "data": {
      "text/html": [
       " View project at <a href='https://wandb.ai/cs24m037-iit-madras/DL_A1' target=\"_blank\">https://wandb.ai/cs24m037-iit-madras/DL_A1</a>"
      ],
      "text/plain": [
       "<IPython.core.display.HTML object>"
      ]
     },
     "metadata": {},
     "output_type": "display_data"
    },
    {
     "data": {
      "text/html": [
       " View sweep at <a href='https://wandb.ai/cs24m037-iit-madras/DL_A1/sweeps/zbxy6yvx' target=\"_blank\">https://wandb.ai/cs24m037-iit-madras/DL_A1/sweeps/zbxy6yvx</a>"
      ],
      "text/plain": [
       "<IPython.core.display.HTML object>"
      ]
     },
     "metadata": {},
     "output_type": "display_data"
    },
    {
     "data": {
      "text/html": [
       " View run at <a href='https://wandb.ai/cs24m037-iit-madras/DL_A1/runs/5czzb0up' target=\"_blank\">https://wandb.ai/cs24m037-iit-madras/DL_A1/runs/5czzb0up</a>"
      ],
      "text/plain": [
       "<IPython.core.display.HTML object>"
      ]
     },
     "metadata": {},
     "output_type": "display_data"
    },
    {
     "name": "stdout",
     "output_type": "stream",
     "text": [
      "lr_0.0001_ac_relu_in_random_uniform_op_adam_bs_32_L2_0_ep_10_nn_32_nh_5\n",
      "Epoch 1: Training Loss = 0.4151, Validation Loss = 0.4143, Training Acc = 0.0995, Validation Acc = 0.1045\n",
      "Epoch 2: Training Loss = 0.4137, Validation Loss = 0.4129, Training Acc = 0.0999, Validation Acc = 0.1018\n",
      "Epoch 3: Training Loss = 0.4128, Validation Loss = 0.4120, Training Acc = 0.1000, Validation Acc = 0.1020\n",
      "Epoch 4: Training Loss = 0.4117, Validation Loss = 0.4111, Training Acc = 0.1004, Validation Acc = 0.1023\n",
      "Epoch 5: Training Loss = 0.4109, Validation Loss = 0.4104, Training Acc = 0.1005, Validation Acc = 0.1023\n",
      "Epoch 6: Training Loss = 0.4101, Validation Loss = 0.4096, Training Acc = 0.1003, Validation Acc = 0.1023\n",
      "Epoch 7: Training Loss = 0.4093, Validation Loss = 0.4088, Training Acc = 0.1003, Validation Acc = 0.1023\n",
      "Epoch 8: Training Loss = 0.4086, Validation Loss = 0.4081, Training Acc = 0.1001, Validation Acc = 0.1022\n",
      "Epoch 9: Training Loss = 0.4078, Validation Loss = 0.4073, Training Acc = 0.1001, Validation Acc = 0.1022\n",
      "Epoch 10: Training Loss = 0.4072, Validation Loss = 0.4066, Training Acc = 0.1001, Validation Acc = 0.1022\n"
     ]
    },
    {
     "data": {
      "text/html": [],
      "text/plain": [
       "<IPython.core.display.HTML object>"
      ]
     },
     "metadata": {},
     "output_type": "display_data"
    },
    {
     "data": {
      "text/html": [
       "<br>    <style><br>        .wandb-row {<br>            display: flex;<br>            flex-direction: row;<br>            flex-wrap: wrap;<br>            justify-content: flex-start;<br>            width: 100%;<br>        }<br>        .wandb-col {<br>            display: flex;<br>            flex-direction: column;<br>            flex-basis: 100%;<br>            flex: 1;<br>            padding: 10px;<br>        }<br>    </style><br><div class=\"wandb-row\"><div class=\"wandb-col\"><h3>Run history:</h3><br/><table class=\"wandb\"><tr><td>epoch</td><td>▁▂▃▃▄▅▆▆▇█</td></tr><tr><td>training_accuracy</td><td>▁▄▄▇█▆▆▅▅▅</td></tr><tr><td>training_loss</td><td>█▇▆▅▄▄▃▂▂▁</td></tr><tr><td>validation_accuracy</td><td>█▁▁▂▂▂▂▂▂▂</td></tr><tr><td>validation_loss</td><td>█▇▆▅▄▄▃▂▂▁</td></tr></table><br/></div><div class=\"wandb-col\"><h3>Run summary:</h3><br/><table class=\"wandb\"><tr><td>epoch</td><td>10</td></tr><tr><td>training_accuracy</td><td>0.10009</td></tr><tr><td>training_loss</td><td>0.40715</td></tr><tr><td>validation_accuracy</td><td>0.10217</td></tr><tr><td>validation_loss</td><td>0.40662</td></tr></table><br/></div></div>"
      ],
      "text/plain": [
       "<IPython.core.display.HTML object>"
      ]
     },
     "metadata": {},
     "output_type": "display_data"
    },
    {
     "data": {
      "text/html": [
       " View run <strong style=\"color:#cdcd00\">lr_0.0001_ac_relu_in_random_uniform_op_adam_bs_32_L2_0_ep_10_nn_32_nh_5</strong> at: <a href='https://wandb.ai/cs24m037-iit-madras/DL_A1/runs/5czzb0up' target=\"_blank\">https://wandb.ai/cs24m037-iit-madras/DL_A1/runs/5czzb0up</a><br> View project at: <a href='https://wandb.ai/cs24m037-iit-madras/DL_A1' target=\"_blank\">https://wandb.ai/cs24m037-iit-madras/DL_A1</a><br>Synced 5 W&B file(s), 0 media file(s), 0 artifact file(s) and 0 other file(s)"
      ],
      "text/plain": [
       "<IPython.core.display.HTML object>"
      ]
     },
     "metadata": {},
     "output_type": "display_data"
    },
    {
     "data": {
      "text/html": [
       "Find logs at: <code>.\\wandb\\run-20250308_100354-5czzb0up\\logs</code>"
      ],
      "text/plain": [
       "<IPython.core.display.HTML object>"
      ]
     },
     "metadata": {},
     "output_type": "display_data"
    },
    {
     "name": "stderr",
     "output_type": "stream",
     "text": [
      "wandb: Agent Starting Run: jpzloymn with config:\n",
      "wandb: \tL2_lamb: 0\n",
      "wandb: \tactivation_f: sigmoid\n",
      "wandb: \tbatch_size: 64\n",
      "wandb: \tepochs: 10\n",
      "wandb: \tinit_mode: random_uniform\n",
      "wandb: \tlearning_rate: 0.0001\n",
      "wandb: \tnum_hidden: 5\n",
      "wandb: \tnum_neurons: 64\n",
      "wandb: \toptimizer: nadam\n"
     ]
    },
    {
     "data": {
      "text/html": [
       "Tracking run with wandb version 0.19.7"
      ],
      "text/plain": [
       "<IPython.core.display.HTML object>"
      ]
     },
     "metadata": {},
     "output_type": "display_data"
    },
    {
     "data": {
      "text/html": [
       "Run data is saved locally in <code>c:\\Users\\RAMKUMAR\\Desktop\\iitm\\sem2\\DL\\wandb\\run-20250308_100415-jpzloymn</code>"
      ],
      "text/plain": [
       "<IPython.core.display.HTML object>"
      ]
     },
     "metadata": {},
     "output_type": "display_data"
    },
    {
     "data": {
      "text/html": [
       "Syncing run <strong><a href='https://wandb.ai/cs24m037-iit-madras/DL_A1/runs/jpzloymn' target=\"_blank\">dauntless-sweep-59</a></strong> to <a href='https://wandb.ai/cs24m037-iit-madras/DL_A1' target=\"_blank\">Weights & Biases</a> (<a href='https://wandb.me/developer-guide' target=\"_blank\">docs</a>)<br>Sweep page: <a href='https://wandb.ai/cs24m037-iit-madras/DL_A1/sweeps/zbxy6yvx' target=\"_blank\">https://wandb.ai/cs24m037-iit-madras/DL_A1/sweeps/zbxy6yvx</a>"
      ],
      "text/plain": [
       "<IPython.core.display.HTML object>"
      ]
     },
     "metadata": {},
     "output_type": "display_data"
    },
    {
     "data": {
      "text/html": [
       " View project at <a href='https://wandb.ai/cs24m037-iit-madras/DL_A1' target=\"_blank\">https://wandb.ai/cs24m037-iit-madras/DL_A1</a>"
      ],
      "text/plain": [
       "<IPython.core.display.HTML object>"
      ]
     },
     "metadata": {},
     "output_type": "display_data"
    },
    {
     "data": {
      "text/html": [
       " View sweep at <a href='https://wandb.ai/cs24m037-iit-madras/DL_A1/sweeps/zbxy6yvx' target=\"_blank\">https://wandb.ai/cs24m037-iit-madras/DL_A1/sweeps/zbxy6yvx</a>"
      ],
      "text/plain": [
       "<IPython.core.display.HTML object>"
      ]
     },
     "metadata": {},
     "output_type": "display_data"
    },
    {
     "data": {
      "text/html": [
       " View run at <a href='https://wandb.ai/cs24m037-iit-madras/DL_A1/runs/jpzloymn' target=\"_blank\">https://wandb.ai/cs24m037-iit-madras/DL_A1/runs/jpzloymn</a>"
      ],
      "text/plain": [
       "<IPython.core.display.HTML object>"
      ]
     },
     "metadata": {},
     "output_type": "display_data"
    },
    {
     "name": "stdout",
     "output_type": "stream",
     "text": [
      "lr_0.0001_ac_sigmoid_in_random_uniform_op_nadam_bs_64_L2_0_ep_10_nn_64_nh_5\n",
      "Epoch 1: Training Loss = 0.4500, Validation Loss = 0.4500, Training Acc = 0.0996, Validation Acc = 0.1035\n",
      "Epoch 2: Training Loss = 0.4500, Validation Loss = 0.4500, Training Acc = 0.0996, Validation Acc = 0.1035\n",
      "Epoch 3: Training Loss = 0.4500, Validation Loss = 0.4500, Training Acc = 0.0996, Validation Acc = 0.1035\n",
      "Epoch 4: Training Loss = 0.4500, Validation Loss = 0.4500, Training Acc = 0.0996, Validation Acc = 0.1035\n",
      "Epoch 5: Training Loss = 0.4500, Validation Loss = 0.4500, Training Acc = 0.0996, Validation Acc = 0.1035\n",
      "Epoch 6: Training Loss = 0.4499, Validation Loss = 0.4499, Training Acc = 0.0996, Validation Acc = 0.1035\n",
      "Epoch 7: Training Loss = 0.4497, Validation Loss = 0.4498, Training Acc = 0.0996, Validation Acc = 0.1035\n",
      "Epoch 8: Training Loss = 0.4496, Validation Loss = 0.4496, Training Acc = 0.0996, Validation Acc = 0.1035\n",
      "Epoch 9: Training Loss = 0.4494, Validation Loss = 0.4494, Training Acc = 0.0996, Validation Acc = 0.1035\n",
      "Epoch 10: Training Loss = 0.4492, Validation Loss = 0.4492, Training Acc = 0.0996, Validation Acc = 0.1035\n"
     ]
    },
    {
     "data": {
      "text/html": [],
      "text/plain": [
       "<IPython.core.display.HTML object>"
      ]
     },
     "metadata": {},
     "output_type": "display_data"
    },
    {
     "data": {
      "text/html": [
       "<br>    <style><br>        .wandb-row {<br>            display: flex;<br>            flex-direction: row;<br>            flex-wrap: wrap;<br>            justify-content: flex-start;<br>            width: 100%;<br>        }<br>        .wandb-col {<br>            display: flex;<br>            flex-direction: column;<br>            flex-basis: 100%;<br>            flex: 1;<br>            padding: 10px;<br>        }<br>    </style><br><div class=\"wandb-row\"><div class=\"wandb-col\"><h3>Run history:</h3><br/><table class=\"wandb\"><tr><td>epoch</td><td>▁▂▃▃▄▅▆▆▇█</td></tr><tr><td>training_accuracy</td><td>▁▁▁▁▁▁▁▁▁▁</td></tr><tr><td>training_loss</td><td>█████▇▆▄▃▁</td></tr><tr><td>validation_accuracy</td><td>▁▁▁▁▁▁▁▁▁▁</td></tr><tr><td>validation_loss</td><td>█████▇▆▄▃▁</td></tr></table><br/></div><div class=\"wandb-col\"><h3>Run summary:</h3><br/><table class=\"wandb\"><tr><td>epoch</td><td>10</td></tr><tr><td>training_accuracy</td><td>0.09961</td></tr><tr><td>training_loss</td><td>0.44919</td></tr><tr><td>validation_accuracy</td><td>0.1035</td></tr><tr><td>validation_loss</td><td>0.44923</td></tr></table><br/></div></div>"
      ],
      "text/plain": [
       "<IPython.core.display.HTML object>"
      ]
     },
     "metadata": {},
     "output_type": "display_data"
    },
    {
     "data": {
      "text/html": [
       " View run <strong style=\"color:#cdcd00\">lr_0.0001_ac_sigmoid_in_random_uniform_op_nadam_bs_64_L2_0_ep_10_nn_64_nh_5</strong> at: <a href='https://wandb.ai/cs24m037-iit-madras/DL_A1/runs/jpzloymn' target=\"_blank\">https://wandb.ai/cs24m037-iit-madras/DL_A1/runs/jpzloymn</a><br> View project at: <a href='https://wandb.ai/cs24m037-iit-madras/DL_A1' target=\"_blank\">https://wandb.ai/cs24m037-iit-madras/DL_A1</a><br>Synced 5 W&B file(s), 0 media file(s), 0 artifact file(s) and 0 other file(s)"
      ],
      "text/plain": [
       "<IPython.core.display.HTML object>"
      ]
     },
     "metadata": {},
     "output_type": "display_data"
    },
    {
     "data": {
      "text/html": [
       "Find logs at: <code>.\\wandb\\run-20250308_100415-jpzloymn\\logs</code>"
      ],
      "text/plain": [
       "<IPython.core.display.HTML object>"
      ]
     },
     "metadata": {},
     "output_type": "display_data"
    },
    {
     "name": "stderr",
     "output_type": "stream",
     "text": [
      "wandb: Agent Starting Run: 2p9bgc81 with config:\n",
      "wandb: \tL2_lamb: 0.0005\n",
      "wandb: \tactivation_f: relu\n",
      "wandb: \tbatch_size: 32\n",
      "wandb: \tepochs: 10\n",
      "wandb: \tinit_mode: random_uniform\n",
      "wandb: \tlearning_rate: 0.0001\n",
      "wandb: \tnum_hidden: 4\n",
      "wandb: \tnum_neurons: 32\n",
      "wandb: \toptimizer: sgd\n"
     ]
    },
    {
     "data": {
      "text/html": [
       "Tracking run with wandb version 0.19.7"
      ],
      "text/plain": [
       "<IPython.core.display.HTML object>"
      ]
     },
     "metadata": {},
     "output_type": "display_data"
    },
    {
     "data": {
      "text/html": [
       "Run data is saved locally in <code>c:\\Users\\RAMKUMAR\\Desktop\\iitm\\sem2\\DL\\wandb\\run-20250308_100447-2p9bgc81</code>"
      ],
      "text/plain": [
       "<IPython.core.display.HTML object>"
      ]
     },
     "metadata": {},
     "output_type": "display_data"
    },
    {
     "data": {
      "text/html": [
       "Syncing run <strong><a href='https://wandb.ai/cs24m037-iit-madras/DL_A1/runs/2p9bgc81' target=\"_blank\">bumbling-sweep-60</a></strong> to <a href='https://wandb.ai/cs24m037-iit-madras/DL_A1' target=\"_blank\">Weights & Biases</a> (<a href='https://wandb.me/developer-guide' target=\"_blank\">docs</a>)<br>Sweep page: <a href='https://wandb.ai/cs24m037-iit-madras/DL_A1/sweeps/zbxy6yvx' target=\"_blank\">https://wandb.ai/cs24m037-iit-madras/DL_A1/sweeps/zbxy6yvx</a>"
      ],
      "text/plain": [
       "<IPython.core.display.HTML object>"
      ]
     },
     "metadata": {},
     "output_type": "display_data"
    },
    {
     "data": {
      "text/html": [
       " View project at <a href='https://wandb.ai/cs24m037-iit-madras/DL_A1' target=\"_blank\">https://wandb.ai/cs24m037-iit-madras/DL_A1</a>"
      ],
      "text/plain": [
       "<IPython.core.display.HTML object>"
      ]
     },
     "metadata": {},
     "output_type": "display_data"
    },
    {
     "data": {
      "text/html": [
       " View sweep at <a href='https://wandb.ai/cs24m037-iit-madras/DL_A1/sweeps/zbxy6yvx' target=\"_blank\">https://wandb.ai/cs24m037-iit-madras/DL_A1/sweeps/zbxy6yvx</a>"
      ],
      "text/plain": [
       "<IPython.core.display.HTML object>"
      ]
     },
     "metadata": {},
     "output_type": "display_data"
    },
    {
     "data": {
      "text/html": [
       " View run at <a href='https://wandb.ai/cs24m037-iit-madras/DL_A1/runs/2p9bgc81' target=\"_blank\">https://wandb.ai/cs24m037-iit-madras/DL_A1/runs/2p9bgc81</a>"
      ],
      "text/plain": [
       "<IPython.core.display.HTML object>"
      ]
     },
     "metadata": {},
     "output_type": "display_data"
    },
    {
     "name": "stdout",
     "output_type": "stream",
     "text": [
      "lr_0.0001_ac_relu_in_random_uniform_op_sgd_bs_32_L2_0.0005_ep_10_nn_32_nh_4\n",
      "Epoch 1: Training Loss = 0.4500, Validation Loss = 0.4500, Training Acc = 0.1002, Validation Acc = 0.0983\n",
      "Epoch 2: Training Loss = 0.4500, Validation Loss = 0.4500, Training Acc = 0.1002, Validation Acc = 0.0983\n",
      "Epoch 3: Training Loss = 0.4500, Validation Loss = 0.4500, Training Acc = 0.1005, Validation Acc = 0.0983\n",
      "Epoch 4: Training Loss = 0.4500, Validation Loss = 0.4500, Training Acc = 0.1015, Validation Acc = 0.0993\n",
      "Epoch 5: Training Loss = 0.4500, Validation Loss = 0.4500, Training Acc = 0.1040, Validation Acc = 0.1017\n",
      "Epoch 6: Training Loss = 0.4500, Validation Loss = 0.4500, Training Acc = 0.1086, Validation Acc = 0.1058\n",
      "Epoch 7: Training Loss = 0.4500, Validation Loss = 0.4500, Training Acc = 0.1166, Validation Acc = 0.1138\n",
      "Epoch 8: Training Loss = 0.4500, Validation Loss = 0.4500, Training Acc = 0.1287, Validation Acc = 0.1258\n",
      "Epoch 9: Training Loss = 0.4500, Validation Loss = 0.4500, Training Acc = 0.1426, Validation Acc = 0.1365\n",
      "Epoch 10: Training Loss = 0.4500, Validation Loss = 0.4500, Training Acc = 0.1538, Validation Acc = 0.1470\n"
     ]
    },
    {
     "data": {
      "text/html": [],
      "text/plain": [
       "<IPython.core.display.HTML object>"
      ]
     },
     "metadata": {},
     "output_type": "display_data"
    },
    {
     "data": {
      "text/html": [
       "<br>    <style><br>        .wandb-row {<br>            display: flex;<br>            flex-direction: row;<br>            flex-wrap: wrap;<br>            justify-content: flex-start;<br>            width: 100%;<br>        }<br>        .wandb-col {<br>            display: flex;<br>            flex-direction: column;<br>            flex-basis: 100%;<br>            flex: 1;<br>            padding: 10px;<br>        }<br>    </style><br><div class=\"wandb-row\"><div class=\"wandb-col\"><h3>Run history:</h3><br/><table class=\"wandb\"><tr><td>epoch</td><td>▁▂▃▃▄▅▆▆▇█</td></tr><tr><td>training_accuracy</td><td>▁▁▁▁▂▂▃▅▇█</td></tr><tr><td>training_loss</td><td>███▆▆▆▃▃▃▁</td></tr><tr><td>validation_accuracy</td><td>▁▁▁▁▁▂▃▅▆█</td></tr><tr><td>validation_loss</td><td>▁▁▃▃▅▅▆▆▆█</td></tr></table><br/></div><div class=\"wandb-col\"><h3>Run summary:</h3><br/><table class=\"wandb\"><tr><td>epoch</td><td>10</td></tr><tr><td>training_accuracy</td><td>0.15383</td></tr><tr><td>training_loss</td><td>0.45</td></tr><tr><td>validation_accuracy</td><td>0.147</td></tr><tr><td>validation_loss</td><td>0.45</td></tr></table><br/></div></div>"
      ],
      "text/plain": [
       "<IPython.core.display.HTML object>"
      ]
     },
     "metadata": {},
     "output_type": "display_data"
    },
    {
     "data": {
      "text/html": [
       " View run <strong style=\"color:#cdcd00\">lr_0.0001_ac_relu_in_random_uniform_op_sgd_bs_32_L2_0.0005_ep_10_nn_32_nh_4</strong> at: <a href='https://wandb.ai/cs24m037-iit-madras/DL_A1/runs/2p9bgc81' target=\"_blank\">https://wandb.ai/cs24m037-iit-madras/DL_A1/runs/2p9bgc81</a><br> View project at: <a href='https://wandb.ai/cs24m037-iit-madras/DL_A1' target=\"_blank\">https://wandb.ai/cs24m037-iit-madras/DL_A1</a><br>Synced 5 W&B file(s), 0 media file(s), 0 artifact file(s) and 0 other file(s)"
      ],
      "text/plain": [
       "<IPython.core.display.HTML object>"
      ]
     },
     "metadata": {},
     "output_type": "display_data"
    },
    {
     "data": {
      "text/html": [
       "Find logs at: <code>.\\wandb\\run-20250308_100447-2p9bgc81\\logs</code>"
      ],
      "text/plain": [
       "<IPython.core.display.HTML object>"
      ]
     },
     "metadata": {},
     "output_type": "display_data"
    },
    {
     "name": "stderr",
     "output_type": "stream",
     "text": [
      "wandb: Agent Starting Run: gvhuoact with config:\n",
      "wandb: \tL2_lamb: 0.0005\n",
      "wandb: \tactivation_f: relu\n",
      "wandb: \tbatch_size: 16\n",
      "wandb: \tepochs: 10\n",
      "wandb: \tinit_mode: xavier\n",
      "wandb: \tlearning_rate: 0.0001\n",
      "wandb: \tnum_hidden: 4\n",
      "wandb: \tnum_neurons: 32\n",
      "wandb: \toptimizer: sgd\n"
     ]
    },
    {
     "data": {
      "text/html": [
       "Tracking run with wandb version 0.19.7"
      ],
      "text/plain": [
       "<IPython.core.display.HTML object>"
      ]
     },
     "metadata": {},
     "output_type": "display_data"
    },
    {
     "data": {
      "text/html": [
       "Run data is saved locally in <code>c:\\Users\\RAMKUMAR\\Desktop\\iitm\\sem2\\DL\\wandb\\run-20250308_100503-gvhuoact</code>"
      ],
      "text/plain": [
       "<IPython.core.display.HTML object>"
      ]
     },
     "metadata": {},
     "output_type": "display_data"
    },
    {
     "data": {
      "text/html": [
       "Syncing run <strong><a href='https://wandb.ai/cs24m037-iit-madras/DL_A1/runs/gvhuoact' target=\"_blank\">electric-sweep-61</a></strong> to <a href='https://wandb.ai/cs24m037-iit-madras/DL_A1' target=\"_blank\">Weights & Biases</a> (<a href='https://wandb.me/developer-guide' target=\"_blank\">docs</a>)<br>Sweep page: <a href='https://wandb.ai/cs24m037-iit-madras/DL_A1/sweeps/zbxy6yvx' target=\"_blank\">https://wandb.ai/cs24m037-iit-madras/DL_A1/sweeps/zbxy6yvx</a>"
      ],
      "text/plain": [
       "<IPython.core.display.HTML object>"
      ]
     },
     "metadata": {},
     "output_type": "display_data"
    },
    {
     "data": {
      "text/html": [
       " View project at <a href='https://wandb.ai/cs24m037-iit-madras/DL_A1' target=\"_blank\">https://wandb.ai/cs24m037-iit-madras/DL_A1</a>"
      ],
      "text/plain": [
       "<IPython.core.display.HTML object>"
      ]
     },
     "metadata": {},
     "output_type": "display_data"
    },
    {
     "data": {
      "text/html": [
       " View sweep at <a href='https://wandb.ai/cs24m037-iit-madras/DL_A1/sweeps/zbxy6yvx' target=\"_blank\">https://wandb.ai/cs24m037-iit-madras/DL_A1/sweeps/zbxy6yvx</a>"
      ],
      "text/plain": [
       "<IPython.core.display.HTML object>"
      ]
     },
     "metadata": {},
     "output_type": "display_data"
    },
    {
     "data": {
      "text/html": [
       " View run at <a href='https://wandb.ai/cs24m037-iit-madras/DL_A1/runs/gvhuoact' target=\"_blank\">https://wandb.ai/cs24m037-iit-madras/DL_A1/runs/gvhuoact</a>"
      ],
      "text/plain": [
       "<IPython.core.display.HTML object>"
      ]
     },
     "metadata": {},
     "output_type": "display_data"
    },
    {
     "name": "stdout",
     "output_type": "stream",
     "text": [
      "lr_0.0001_ac_relu_in_xavier_op_sgd_bs_16_L2_0.0005_ep_10_nn_32_nh_4\n",
      "Epoch 1: Training Loss = 0.4529, Validation Loss = 0.4527, Training Acc = 0.1005, Validation Acc = 0.0978\n",
      "Epoch 2: Training Loss = 0.4521, Validation Loss = 0.4519, Training Acc = 0.1005, Validation Acc = 0.0977\n",
      "Epoch 3: Training Loss = 0.4514, Validation Loss = 0.4512, Training Acc = 0.1005, Validation Acc = 0.0972\n",
      "Epoch 4: Training Loss = 0.4509, Validation Loss = 0.4507, Training Acc = 0.1005, Validation Acc = 0.0972\n",
      "Epoch 5: Training Loss = 0.4504, Validation Loss = 0.4502, Training Acc = 0.1005, Validation Acc = 0.0967\n",
      "Epoch 6: Training Loss = 0.4499, Validation Loss = 0.4497, Training Acc = 0.1004, Validation Acc = 0.0965\n",
      "Epoch 7: Training Loss = 0.4496, Validation Loss = 0.4494, Training Acc = 0.1004, Validation Acc = 0.0967\n",
      "Epoch 8: Training Loss = 0.4492, Validation Loss = 0.4490, Training Acc = 0.1010, Validation Acc = 0.0970\n",
      "Epoch 9: Training Loss = 0.4488, Validation Loss = 0.4486, Training Acc = 0.1017, Validation Acc = 0.0978\n",
      "Epoch 10: Training Loss = 0.4485, Validation Loss = 0.4483, Training Acc = 0.1034, Validation Acc = 0.0993\n"
     ]
    },
    {
     "data": {
      "text/html": [],
      "text/plain": [
       "<IPython.core.display.HTML object>"
      ]
     },
     "metadata": {},
     "output_type": "display_data"
    },
    {
     "data": {
      "text/html": [
       "<br>    <style><br>        .wandb-row {<br>            display: flex;<br>            flex-direction: row;<br>            flex-wrap: wrap;<br>            justify-content: flex-start;<br>            width: 100%;<br>        }<br>        .wandb-col {<br>            display: flex;<br>            flex-direction: column;<br>            flex-basis: 100%;<br>            flex: 1;<br>            padding: 10px;<br>        }<br>    </style><br><div class=\"wandb-row\"><div class=\"wandb-col\"><h3>Run history:</h3><br/><table class=\"wandb\"><tr><td>epoch</td><td>▁▂▃▃▄▅▆▆▇█</td></tr><tr><td>training_accuracy</td><td>▁▁▁▁▁▁▁▂▄█</td></tr><tr><td>training_loss</td><td>█▇▆▅▄▃▃▂▂▁</td></tr><tr><td>validation_accuracy</td><td>▄▄▃▃▁▁▁▂▄█</td></tr><tr><td>validation_loss</td><td>█▇▆▅▄▃▃▂▂▁</td></tr></table><br/></div><div class=\"wandb-col\"><h3>Run summary:</h3><br/><table class=\"wandb\"><tr><td>epoch</td><td>10</td></tr><tr><td>training_accuracy</td><td>0.10343</td></tr><tr><td>training_loss</td><td>0.44851</td></tr><tr><td>validation_accuracy</td><td>0.09933</td></tr><tr><td>validation_loss</td><td>0.44831</td></tr></table><br/></div></div>"
      ],
      "text/plain": [
       "<IPython.core.display.HTML object>"
      ]
     },
     "metadata": {},
     "output_type": "display_data"
    },
    {
     "data": {
      "text/html": [
       " View run <strong style=\"color:#cdcd00\">lr_0.0001_ac_relu_in_xavier_op_sgd_bs_16_L2_0.0005_ep_10_nn_32_nh_4</strong> at: <a href='https://wandb.ai/cs24m037-iit-madras/DL_A1/runs/gvhuoact' target=\"_blank\">https://wandb.ai/cs24m037-iit-madras/DL_A1/runs/gvhuoact</a><br> View project at: <a href='https://wandb.ai/cs24m037-iit-madras/DL_A1' target=\"_blank\">https://wandb.ai/cs24m037-iit-madras/DL_A1</a><br>Synced 5 W&B file(s), 0 media file(s), 0 artifact file(s) and 0 other file(s)"
      ],
      "text/plain": [
       "<IPython.core.display.HTML object>"
      ]
     },
     "metadata": {},
     "output_type": "display_data"
    },
    {
     "data": {
      "text/html": [
       "Find logs at: <code>.\\wandb\\run-20250308_100503-gvhuoact\\logs</code>"
      ],
      "text/plain": [
       "<IPython.core.display.HTML object>"
      ]
     },
     "metadata": {},
     "output_type": "display_data"
    },
    {
     "name": "stderr",
     "output_type": "stream",
     "text": [
      "wandb: Agent Starting Run: 9iyu1twz with config:\n",
      "wandb: \tL2_lamb: 0\n",
      "wandb: \tactivation_f: sigmoid\n",
      "wandb: \tbatch_size: 64\n",
      "wandb: \tepochs: 5\n",
      "wandb: \tinit_mode: xavier\n",
      "wandb: \tlearning_rate: 0.001\n",
      "wandb: \tnum_hidden: 5\n",
      "wandb: \tnum_neurons: 64\n",
      "wandb: \toptimizer: rmsprop\n"
     ]
    },
    {
     "data": {
      "text/html": [],
      "text/plain": [
       "<IPython.core.display.HTML object>"
      ]
     },
     "metadata": {},
     "output_type": "display_data"
    },
    {
     "data": {
      "text/html": [
       "Tracking run with wandb version 0.19.7"
      ],
      "text/plain": [
       "<IPython.core.display.HTML object>"
      ]
     },
     "metadata": {},
     "output_type": "display_data"
    },
    {
     "data": {
      "text/html": [
       "Run data is saved locally in <code>c:\\Users\\RAMKUMAR\\Desktop\\iitm\\sem2\\DL\\wandb\\run-20250308_100519-9iyu1twz</code>"
      ],
      "text/plain": [
       "<IPython.core.display.HTML object>"
      ]
     },
     "metadata": {},
     "output_type": "display_data"
    },
    {
     "data": {
      "text/html": [
       "Syncing run <strong><a href='https://wandb.ai/cs24m037-iit-madras/DL_A1/runs/9iyu1twz' target=\"_blank\">restful-sweep-62</a></strong> to <a href='https://wandb.ai/cs24m037-iit-madras/DL_A1' target=\"_blank\">Weights & Biases</a> (<a href='https://wandb.me/developer-guide' target=\"_blank\">docs</a>)<br>Sweep page: <a href='https://wandb.ai/cs24m037-iit-madras/DL_A1/sweeps/zbxy6yvx' target=\"_blank\">https://wandb.ai/cs24m037-iit-madras/DL_A1/sweeps/zbxy6yvx</a>"
      ],
      "text/plain": [
       "<IPython.core.display.HTML object>"
      ]
     },
     "metadata": {},
     "output_type": "display_data"
    },
    {
     "data": {
      "text/html": [
       " View project at <a href='https://wandb.ai/cs24m037-iit-madras/DL_A1' target=\"_blank\">https://wandb.ai/cs24m037-iit-madras/DL_A1</a>"
      ],
      "text/plain": [
       "<IPython.core.display.HTML object>"
      ]
     },
     "metadata": {},
     "output_type": "display_data"
    },
    {
     "data": {
      "text/html": [
       " View sweep at <a href='https://wandb.ai/cs24m037-iit-madras/DL_A1/sweeps/zbxy6yvx' target=\"_blank\">https://wandb.ai/cs24m037-iit-madras/DL_A1/sweeps/zbxy6yvx</a>"
      ],
      "text/plain": [
       "<IPython.core.display.HTML object>"
      ]
     },
     "metadata": {},
     "output_type": "display_data"
    },
    {
     "data": {
      "text/html": [
       " View run at <a href='https://wandb.ai/cs24m037-iit-madras/DL_A1/runs/9iyu1twz' target=\"_blank\">https://wandb.ai/cs24m037-iit-madras/DL_A1/runs/9iyu1twz</a>"
      ],
      "text/plain": [
       "<IPython.core.display.HTML object>"
      ]
     },
     "metadata": {},
     "output_type": "display_data"
    },
    {
     "name": "stdout",
     "output_type": "stream",
     "text": [
      "lr_0.001_ac_sigmoid_in_xavier_op_rmsprop_bs_64_L2_0_ep_5_nn_64_nh_5\n",
      "Epoch 1: Training Loss = 0.2115, Validation Loss = 0.2165, Training Acc = 0.6615, Validation Acc = 0.6497\n",
      "Epoch 2: Training Loss = 0.1505, Validation Loss = 0.1549, Training Acc = 0.7983, Validation Acc = 0.7895\n",
      "Epoch 3: Training Loss = 0.1245, Validation Loss = 0.1304, Training Acc = 0.8355, Validation Acc = 0.8262\n",
      "Epoch 4: Training Loss = 0.1158, Validation Loss = 0.1226, Training Acc = 0.8449, Validation Acc = 0.8363\n",
      "Epoch 5: Training Loss = 0.1102, Validation Loss = 0.1181, Training Acc = 0.8475, Validation Acc = 0.8385\n"
     ]
    },
    {
     "data": {
      "text/html": [],
      "text/plain": [
       "<IPython.core.display.HTML object>"
      ]
     },
     "metadata": {},
     "output_type": "display_data"
    },
    {
     "data": {
      "text/html": [
       "<br>    <style><br>        .wandb-row {<br>            display: flex;<br>            flex-direction: row;<br>            flex-wrap: wrap;<br>            justify-content: flex-start;<br>            width: 100%;<br>        }<br>        .wandb-col {<br>            display: flex;<br>            flex-direction: column;<br>            flex-basis: 100%;<br>            flex: 1;<br>            padding: 10px;<br>        }<br>    </style><br><div class=\"wandb-row\"><div class=\"wandb-col\"><h3>Run history:</h3><br/><table class=\"wandb\"><tr><td>epoch</td><td>▁▃▅▆█</td></tr><tr><td>training_accuracy</td><td>▁▆███</td></tr><tr><td>training_loss</td><td>█▄▂▁▁</td></tr><tr><td>validation_accuracy</td><td>▁▆███</td></tr><tr><td>validation_loss</td><td>█▄▂▁▁</td></tr></table><br/></div><div class=\"wandb-col\"><h3>Run summary:</h3><br/><table class=\"wandb\"><tr><td>epoch</td><td>5</td></tr><tr><td>training_accuracy</td><td>0.84746</td></tr><tr><td>training_loss</td><td>0.11022</td></tr><tr><td>validation_accuracy</td><td>0.8385</td></tr><tr><td>validation_loss</td><td>0.11807</td></tr></table><br/></div></div>"
      ],
      "text/plain": [
       "<IPython.core.display.HTML object>"
      ]
     },
     "metadata": {},
     "output_type": "display_data"
    },
    {
     "data": {
      "text/html": [
       " View run <strong style=\"color:#cdcd00\">lr_0.001_ac_sigmoid_in_xavier_op_rmsprop_bs_64_L2_0_ep_5_nn_64_nh_5</strong> at: <a href='https://wandb.ai/cs24m037-iit-madras/DL_A1/runs/9iyu1twz' target=\"_blank\">https://wandb.ai/cs24m037-iit-madras/DL_A1/runs/9iyu1twz</a><br> View project at: <a href='https://wandb.ai/cs24m037-iit-madras/DL_A1' target=\"_blank\">https://wandb.ai/cs24m037-iit-madras/DL_A1</a><br>Synced 5 W&B file(s), 0 media file(s), 0 artifact file(s) and 0 other file(s)"
      ],
      "text/plain": [
       "<IPython.core.display.HTML object>"
      ]
     },
     "metadata": {},
     "output_type": "display_data"
    },
    {
     "data": {
      "text/html": [
       "Find logs at: <code>.\\wandb\\run-20250308_100519-9iyu1twz\\logs</code>"
      ],
      "text/plain": [
       "<IPython.core.display.HTML object>"
      ]
     },
     "metadata": {},
     "output_type": "display_data"
    },
    {
     "name": "stderr",
     "output_type": "stream",
     "text": [
      "wandb: Agent Starting Run: 0o92uiw8 with config:\n",
      "wandb: \tL2_lamb: 0.0005\n",
      "wandb: \tactivation_f: sigmoid\n",
      "wandb: \tbatch_size: 32\n",
      "wandb: \tepochs: 10\n",
      "wandb: \tinit_mode: xavier\n",
      "wandb: \tlearning_rate: 0.001\n",
      "wandb: \tnum_hidden: 4\n",
      "wandb: \tnum_neurons: 128\n",
      "wandb: \toptimizer: sgd\n"
     ]
    },
    {
     "data": {
      "text/html": [
       "Tracking run with wandb version 0.19.7"
      ],
      "text/plain": [
       "<IPython.core.display.HTML object>"
      ]
     },
     "metadata": {},
     "output_type": "display_data"
    },
    {
     "data": {
      "text/html": [
       "Run data is saved locally in <code>c:\\Users\\RAMKUMAR\\Desktop\\iitm\\sem2\\DL\\wandb\\run-20250308_100535-0o92uiw8</code>"
      ],
      "text/plain": [
       "<IPython.core.display.HTML object>"
      ]
     },
     "metadata": {},
     "output_type": "display_data"
    },
    {
     "data": {
      "text/html": [
       "Syncing run <strong><a href='https://wandb.ai/cs24m037-iit-madras/DL_A1/runs/0o92uiw8' target=\"_blank\">comfy-sweep-63</a></strong> to <a href='https://wandb.ai/cs24m037-iit-madras/DL_A1' target=\"_blank\">Weights & Biases</a> (<a href='https://wandb.me/developer-guide' target=\"_blank\">docs</a>)<br>Sweep page: <a href='https://wandb.ai/cs24m037-iit-madras/DL_A1/sweeps/zbxy6yvx' target=\"_blank\">https://wandb.ai/cs24m037-iit-madras/DL_A1/sweeps/zbxy6yvx</a>"
      ],
      "text/plain": [
       "<IPython.core.display.HTML object>"
      ]
     },
     "metadata": {},
     "output_type": "display_data"
    },
    {
     "data": {
      "text/html": [
       " View project at <a href='https://wandb.ai/cs24m037-iit-madras/DL_A1' target=\"_blank\">https://wandb.ai/cs24m037-iit-madras/DL_A1</a>"
      ],
      "text/plain": [
       "<IPython.core.display.HTML object>"
      ]
     },
     "metadata": {},
     "output_type": "display_data"
    },
    {
     "data": {
      "text/html": [
       " View sweep at <a href='https://wandb.ai/cs24m037-iit-madras/DL_A1/sweeps/zbxy6yvx' target=\"_blank\">https://wandb.ai/cs24m037-iit-madras/DL_A1/sweeps/zbxy6yvx</a>"
      ],
      "text/plain": [
       "<IPython.core.display.HTML object>"
      ]
     },
     "metadata": {},
     "output_type": "display_data"
    },
    {
     "data": {
      "text/html": [
       " View run at <a href='https://wandb.ai/cs24m037-iit-madras/DL_A1/runs/0o92uiw8' target=\"_blank\">https://wandb.ai/cs24m037-iit-madras/DL_A1/runs/0o92uiw8</a>"
      ],
      "text/plain": [
       "<IPython.core.display.HTML object>"
      ]
     },
     "metadata": {},
     "output_type": "display_data"
    },
    {
     "name": "stdout",
     "output_type": "stream",
     "text": [
      "lr_0.001_ac_sigmoid_in_xavier_op_sgd_bs_32_L2_0.0005_ep_10_nn_128_nh_4\n",
      "Epoch 1: Training Loss = 0.4563, Validation Loss = 0.4566, Training Acc = 0.1002, Validation Acc = 0.0978\n",
      "Epoch 2: Training Loss = 0.4538, Validation Loss = 0.4541, Training Acc = 0.1002, Validation Acc = 0.0978\n",
      "Epoch 3: Training Loss = 0.4524, Validation Loss = 0.4526, Training Acc = 0.1002, Validation Acc = 0.0978\n",
      "Epoch 4: Training Loss = 0.4514, Validation Loss = 0.4516, Training Acc = 0.1002, Validation Acc = 0.0978\n",
      "Epoch 5: Training Loss = 0.4507, Validation Loss = 0.4509, Training Acc = 0.1002, Validation Acc = 0.0978\n",
      "Epoch 6: Training Loss = 0.4503, Validation Loss = 0.4505, Training Acc = 0.1163, Validation Acc = 0.1117\n",
      "Epoch 7: Training Loss = 0.4501, Validation Loss = 0.4502, Training Acc = 0.1536, Validation Acc = 0.1435\n",
      "Epoch 8: Training Loss = 0.4500, Validation Loss = 0.4501, Training Acc = 0.1145, Validation Acc = 0.1045\n",
      "Epoch 9: Training Loss = 0.4500, Validation Loss = 0.4500, Training Acc = 0.1065, Validation Acc = 0.0963\n",
      "Epoch 10: Training Loss = 0.4500, Validation Loss = 0.4500, Training Acc = 0.1038, Validation Acc = 0.0943\n"
     ]
    },
    {
     "data": {
      "text/html": [],
      "text/plain": [
       "<IPython.core.display.HTML object>"
      ]
     },
     "metadata": {},
     "output_type": "display_data"
    },
    {
     "data": {
      "text/html": [
       "<br>    <style><br>        .wandb-row {<br>            display: flex;<br>            flex-direction: row;<br>            flex-wrap: wrap;<br>            justify-content: flex-start;<br>            width: 100%;<br>        }<br>        .wandb-col {<br>            display: flex;<br>            flex-direction: column;<br>            flex-basis: 100%;<br>            flex: 1;<br>            padding: 10px;<br>        }<br>    </style><br><div class=\"wandb-row\"><div class=\"wandb-col\"><h3>Run history:</h3><br/><table class=\"wandb\"><tr><td>epoch</td><td>▁▂▃▃▄▅▆▆▇█</td></tr><tr><td>training_accuracy</td><td>▁▁▁▁▁▃█▃▂▁</td></tr><tr><td>training_loss</td><td>█▅▄▃▂▁▁▁▁▁</td></tr><tr><td>validation_accuracy</td><td>▁▁▁▁▁▃█▂▁▁</td></tr><tr><td>validation_loss</td><td>█▅▄▃▂▁▁▁▁▁</td></tr></table><br/></div><div class=\"wandb-col\"><h3>Run summary:</h3><br/><table class=\"wandb\"><tr><td>epoch</td><td>10</td></tr><tr><td>training_accuracy</td><td>0.10381</td></tr><tr><td>training_loss</td><td>0.44996</td></tr><tr><td>validation_accuracy</td><td>0.09433</td></tr><tr><td>validation_loss</td><td>0.45001</td></tr></table><br/></div></div>"
      ],
      "text/plain": [
       "<IPython.core.display.HTML object>"
      ]
     },
     "metadata": {},
     "output_type": "display_data"
    },
    {
     "data": {
      "text/html": [
       " View run <strong style=\"color:#cdcd00\">lr_0.001_ac_sigmoid_in_xavier_op_sgd_bs_32_L2_0.0005_ep_10_nn_128_nh_4</strong> at: <a href='https://wandb.ai/cs24m037-iit-madras/DL_A1/runs/0o92uiw8' target=\"_blank\">https://wandb.ai/cs24m037-iit-madras/DL_A1/runs/0o92uiw8</a><br> View project at: <a href='https://wandb.ai/cs24m037-iit-madras/DL_A1' target=\"_blank\">https://wandb.ai/cs24m037-iit-madras/DL_A1</a><br>Synced 5 W&B file(s), 0 media file(s), 0 artifact file(s) and 0 other file(s)"
      ],
      "text/plain": [
       "<IPython.core.display.HTML object>"
      ]
     },
     "metadata": {},
     "output_type": "display_data"
    },
    {
     "data": {
      "text/html": [
       "Find logs at: <code>.\\wandb\\run-20250308_100535-0o92uiw8\\logs</code>"
      ],
      "text/plain": [
       "<IPython.core.display.HTML object>"
      ]
     },
     "metadata": {},
     "output_type": "display_data"
    },
    {
     "name": "stderr",
     "output_type": "stream",
     "text": [
      "wandb: Agent Starting Run: ly4brhh4 with config:\n",
      "wandb: \tL2_lamb: 0\n",
      "wandb: \tactivation_f: sigmoid\n",
      "wandb: \tbatch_size: 32\n",
      "wandb: \tepochs: 5\n",
      "wandb: \tinit_mode: random_uniform\n",
      "wandb: \tlearning_rate: 0.001\n",
      "wandb: \tnum_hidden: 5\n",
      "wandb: \tnum_neurons: 128\n",
      "wandb: \toptimizer: adam\n"
     ]
    },
    {
     "data": {
      "text/html": [
       "Tracking run with wandb version 0.19.7"
      ],
      "text/plain": [
       "<IPython.core.display.HTML object>"
      ]
     },
     "metadata": {},
     "output_type": "display_data"
    },
    {
     "data": {
      "text/html": [
       "Run data is saved locally in <code>c:\\Users\\RAMKUMAR\\Desktop\\iitm\\sem2\\DL\\wandb\\run-20250308_100622-ly4brhh4</code>"
      ],
      "text/plain": [
       "<IPython.core.display.HTML object>"
      ]
     },
     "metadata": {},
     "output_type": "display_data"
    },
    {
     "data": {
      "text/html": [
       "Syncing run <strong><a href='https://wandb.ai/cs24m037-iit-madras/DL_A1/runs/ly4brhh4' target=\"_blank\">visionary-sweep-64</a></strong> to <a href='https://wandb.ai/cs24m037-iit-madras/DL_A1' target=\"_blank\">Weights & Biases</a> (<a href='https://wandb.me/developer-guide' target=\"_blank\">docs</a>)<br>Sweep page: <a href='https://wandb.ai/cs24m037-iit-madras/DL_A1/sweeps/zbxy6yvx' target=\"_blank\">https://wandb.ai/cs24m037-iit-madras/DL_A1/sweeps/zbxy6yvx</a>"
      ],
      "text/plain": [
       "<IPython.core.display.HTML object>"
      ]
     },
     "metadata": {},
     "output_type": "display_data"
    },
    {
     "data": {
      "text/html": [
       " View project at <a href='https://wandb.ai/cs24m037-iit-madras/DL_A1' target=\"_blank\">https://wandb.ai/cs24m037-iit-madras/DL_A1</a>"
      ],
      "text/plain": [
       "<IPython.core.display.HTML object>"
      ]
     },
     "metadata": {},
     "output_type": "display_data"
    },
    {
     "data": {
      "text/html": [
       " View sweep at <a href='https://wandb.ai/cs24m037-iit-madras/DL_A1/sweeps/zbxy6yvx' target=\"_blank\">https://wandb.ai/cs24m037-iit-madras/DL_A1/sweeps/zbxy6yvx</a>"
      ],
      "text/plain": [
       "<IPython.core.display.HTML object>"
      ]
     },
     "metadata": {},
     "output_type": "display_data"
    },
    {
     "data": {
      "text/html": [
       " View run at <a href='https://wandb.ai/cs24m037-iit-madras/DL_A1/runs/ly4brhh4' target=\"_blank\">https://wandb.ai/cs24m037-iit-madras/DL_A1/runs/ly4brhh4</a>"
      ],
      "text/plain": [
       "<IPython.core.display.HTML object>"
      ]
     },
     "metadata": {},
     "output_type": "display_data"
    },
    {
     "name": "stdout",
     "output_type": "stream",
     "text": [
      "lr_0.001_ac_sigmoid_in_random_uniform_op_adam_bs_32_L2_0_ep_5_nn_128_nh_5\n",
      "Epoch 1: Training Loss = 0.4458, Validation Loss = 0.4460, Training Acc = 0.0999, Validation Acc = 0.1013\n",
      "Epoch 2: Training Loss = 0.4447, Validation Loss = 0.4450, Training Acc = 0.0999, Validation Acc = 0.1013\n",
      "Epoch 3: Training Loss = 0.4453, Validation Loss = 0.4455, Training Acc = 0.0999, Validation Acc = 0.1013\n",
      "Epoch 4: Training Loss = 0.4500, Validation Loss = 0.4500, Training Acc = 0.1002, Validation Acc = 0.0983\n",
      "Epoch 5: Training Loss = 0.4453, Validation Loss = 0.4452, Training Acc = 0.0999, Validation Acc = 0.1013\n"
     ]
    },
    {
     "data": {
      "text/html": [],
      "text/plain": [
       "<IPython.core.display.HTML object>"
      ]
     },
     "metadata": {},
     "output_type": "display_data"
    },
    {
     "data": {
      "text/html": [
       "<br>    <style><br>        .wandb-row {<br>            display: flex;<br>            flex-direction: row;<br>            flex-wrap: wrap;<br>            justify-content: flex-start;<br>            width: 100%;<br>        }<br>        .wandb-col {<br>            display: flex;<br>            flex-direction: column;<br>            flex-basis: 100%;<br>            flex: 1;<br>            padding: 10px;<br>        }<br>    </style><br><div class=\"wandb-row\"><div class=\"wandb-col\"><h3>Run history:</h3><br/><table class=\"wandb\"><tr><td>epoch</td><td>▁▃▅▆█</td></tr><tr><td>training_accuracy</td><td>▁▁▁█▁</td></tr><tr><td>training_loss</td><td>▂▁▂█▂</td></tr><tr><td>validation_accuracy</td><td>███▁█</td></tr><tr><td>validation_loss</td><td>▂▁▂█▁</td></tr></table><br/></div><div class=\"wandb-col\"><h3>Run summary:</h3><br/><table class=\"wandb\"><tr><td>epoch</td><td>5</td></tr><tr><td>training_accuracy</td><td>0.09985</td></tr><tr><td>training_loss</td><td>0.44532</td></tr><tr><td>validation_accuracy</td><td>0.10133</td></tr><tr><td>validation_loss</td><td>0.4452</td></tr></table><br/></div></div>"
      ],
      "text/plain": [
       "<IPython.core.display.HTML object>"
      ]
     },
     "metadata": {},
     "output_type": "display_data"
    },
    {
     "data": {
      "text/html": [
       " View run <strong style=\"color:#cdcd00\">lr_0.001_ac_sigmoid_in_random_uniform_op_adam_bs_32_L2_0_ep_5_nn_128_nh_5</strong> at: <a href='https://wandb.ai/cs24m037-iit-madras/DL_A1/runs/ly4brhh4' target=\"_blank\">https://wandb.ai/cs24m037-iit-madras/DL_A1/runs/ly4brhh4</a><br> View project at: <a href='https://wandb.ai/cs24m037-iit-madras/DL_A1' target=\"_blank\">https://wandb.ai/cs24m037-iit-madras/DL_A1</a><br>Synced 5 W&B file(s), 0 media file(s), 0 artifact file(s) and 0 other file(s)"
      ],
      "text/plain": [
       "<IPython.core.display.HTML object>"
      ]
     },
     "metadata": {},
     "output_type": "display_data"
    },
    {
     "data": {
      "text/html": [
       "Find logs at: <code>.\\wandb\\run-20250308_100622-ly4brhh4\\logs</code>"
      ],
      "text/plain": [
       "<IPython.core.display.HTML object>"
      ]
     },
     "metadata": {},
     "output_type": "display_data"
    },
    {
     "name": "stderr",
     "output_type": "stream",
     "text": [
      "wandb: Agent Starting Run: ugvtqyvb with config:\n",
      "wandb: \tL2_lamb: 0.0005\n",
      "wandb: \tactivation_f: tanh\n",
      "wandb: \tbatch_size: 16\n",
      "wandb: \tepochs: 10\n",
      "wandb: \tinit_mode: xavier\n",
      "wandb: \tlearning_rate: 0.0001\n",
      "wandb: \tnum_hidden: 5\n",
      "wandb: \tnum_neurons: 32\n",
      "wandb: \toptimizer: momentum\n"
     ]
    },
    {
     "data": {
      "text/html": [
       "Tracking run with wandb version 0.19.7"
      ],
      "text/plain": [
       "<IPython.core.display.HTML object>"
      ]
     },
     "metadata": {},
     "output_type": "display_data"
    },
    {
     "data": {
      "text/html": [
       "Run data is saved locally in <code>c:\\Users\\RAMKUMAR\\Desktop\\iitm\\sem2\\DL\\wandb\\run-20250308_100705-ugvtqyvb</code>"
      ],
      "text/plain": [
       "<IPython.core.display.HTML object>"
      ]
     },
     "metadata": {},
     "output_type": "display_data"
    },
    {
     "data": {
      "text/html": [
       "Syncing run <strong><a href='https://wandb.ai/cs24m037-iit-madras/DL_A1/runs/ugvtqyvb' target=\"_blank\">distinctive-sweep-65</a></strong> to <a href='https://wandb.ai/cs24m037-iit-madras/DL_A1' target=\"_blank\">Weights & Biases</a> (<a href='https://wandb.me/developer-guide' target=\"_blank\">docs</a>)<br>Sweep page: <a href='https://wandb.ai/cs24m037-iit-madras/DL_A1/sweeps/zbxy6yvx' target=\"_blank\">https://wandb.ai/cs24m037-iit-madras/DL_A1/sweeps/zbxy6yvx</a>"
      ],
      "text/plain": [
       "<IPython.core.display.HTML object>"
      ]
     },
     "metadata": {},
     "output_type": "display_data"
    },
    {
     "data": {
      "text/html": [
       " View project at <a href='https://wandb.ai/cs24m037-iit-madras/DL_A1' target=\"_blank\">https://wandb.ai/cs24m037-iit-madras/DL_A1</a>"
      ],
      "text/plain": [
       "<IPython.core.display.HTML object>"
      ]
     },
     "metadata": {},
     "output_type": "display_data"
    },
    {
     "data": {
      "text/html": [
       " View sweep at <a href='https://wandb.ai/cs24m037-iit-madras/DL_A1/sweeps/zbxy6yvx' target=\"_blank\">https://wandb.ai/cs24m037-iit-madras/DL_A1/sweeps/zbxy6yvx</a>"
      ],
      "text/plain": [
       "<IPython.core.display.HTML object>"
      ]
     },
     "metadata": {},
     "output_type": "display_data"
    },
    {
     "data": {
      "text/html": [
       " View run at <a href='https://wandb.ai/cs24m037-iit-madras/DL_A1/runs/ugvtqyvb' target=\"_blank\">https://wandb.ai/cs24m037-iit-madras/DL_A1/runs/ugvtqyvb</a>"
      ],
      "text/plain": [
       "<IPython.core.display.HTML object>"
      ]
     },
     "metadata": {},
     "output_type": "display_data"
    },
    {
     "name": "stdout",
     "output_type": "stream",
     "text": [
      "lr_0.0001_ac_tanh_in_xavier_op_momentum_bs_16_L2_0.0005_ep_10_nn_32_nh_5\n",
      "Epoch 1: Training Loss = 0.4488, Validation Loss = 0.4488, Training Acc = 0.1496, Validation Acc = 0.1488\n",
      "Epoch 2: Training Loss = 0.4448, Validation Loss = 0.4450, Training Acc = 0.1697, Validation Acc = 0.1687\n",
      "Epoch 3: Training Loss = 0.4407, Validation Loss = 0.4410, Training Acc = 0.1849, Validation Acc = 0.1837\n",
      "Epoch 4: Training Loss = 0.4366, Validation Loss = 0.4370, Training Acc = 0.1955, Validation Acc = 0.1928\n",
      "Epoch 5: Training Loss = 0.4324, Validation Loss = 0.4331, Training Acc = 0.2062, Validation Acc = 0.2025\n",
      "Epoch 6: Training Loss = 0.4283, Validation Loss = 0.4291, Training Acc = 0.2221, Validation Acc = 0.2217\n",
      "Epoch 7: Training Loss = 0.4242, Validation Loss = 0.4252, Training Acc = 0.2425, Validation Acc = 0.2407\n",
      "Epoch 8: Training Loss = 0.4202, Validation Loss = 0.4213, Training Acc = 0.2635, Validation Acc = 0.2622\n",
      "Epoch 9: Training Loss = 0.4161, Validation Loss = 0.4173, Training Acc = 0.2864, Validation Acc = 0.2795\n",
      "Epoch 10: Training Loss = 0.4120, Validation Loss = 0.4134, Training Acc = 0.3122, Validation Acc = 0.3038\n"
     ]
    },
    {
     "data": {
      "text/html": [],
      "text/plain": [
       "<IPython.core.display.HTML object>"
      ]
     },
     "metadata": {},
     "output_type": "display_data"
    },
    {
     "data": {
      "text/html": [
       "<br>    <style><br>        .wandb-row {<br>            display: flex;<br>            flex-direction: row;<br>            flex-wrap: wrap;<br>            justify-content: flex-start;<br>            width: 100%;<br>        }<br>        .wandb-col {<br>            display: flex;<br>            flex-direction: column;<br>            flex-basis: 100%;<br>            flex: 1;<br>            padding: 10px;<br>        }<br>    </style><br><div class=\"wandb-row\"><div class=\"wandb-col\"><h3>Run history:</h3><br/><table class=\"wandb\"><tr><td>epoch</td><td>▁▂▃▃▄▅▆▆▇█</td></tr><tr><td>training_accuracy</td><td>▁▂▃▃▃▄▅▆▇█</td></tr><tr><td>training_loss</td><td>█▇▆▆▅▄▃▃▂▁</td></tr><tr><td>validation_accuracy</td><td>▁▂▃▃▃▄▅▆▇█</td></tr><tr><td>validation_loss</td><td>█▇▆▆▅▄▃▃▂▁</td></tr></table><br/></div><div class=\"wandb-col\"><h3>Run summary:</h3><br/><table class=\"wandb\"><tr><td>epoch</td><td>10</td></tr><tr><td>training_accuracy</td><td>0.31224</td></tr><tr><td>training_loss</td><td>0.412</td></tr><tr><td>validation_accuracy</td><td>0.30383</td></tr><tr><td>validation_loss</td><td>0.41342</td></tr></table><br/></div></div>"
      ],
      "text/plain": [
       "<IPython.core.display.HTML object>"
      ]
     },
     "metadata": {},
     "output_type": "display_data"
    },
    {
     "data": {
      "text/html": [
       " View run <strong style=\"color:#cdcd00\">lr_0.0001_ac_tanh_in_xavier_op_momentum_bs_16_L2_0.0005_ep_10_nn_32_nh_5</strong> at: <a href='https://wandb.ai/cs24m037-iit-madras/DL_A1/runs/ugvtqyvb' target=\"_blank\">https://wandb.ai/cs24m037-iit-madras/DL_A1/runs/ugvtqyvb</a><br> View project at: <a href='https://wandb.ai/cs24m037-iit-madras/DL_A1' target=\"_blank\">https://wandb.ai/cs24m037-iit-madras/DL_A1</a><br>Synced 5 W&B file(s), 0 media file(s), 0 artifact file(s) and 0 other file(s)"
      ],
      "text/plain": [
       "<IPython.core.display.HTML object>"
      ]
     },
     "metadata": {},
     "output_type": "display_data"
    },
    {
     "data": {
      "text/html": [
       "Find logs at: <code>.\\wandb\\run-20250308_100705-ugvtqyvb\\logs</code>"
      ],
      "text/plain": [
       "<IPython.core.display.HTML object>"
      ]
     },
     "metadata": {},
     "output_type": "display_data"
    },
    {
     "name": "stderr",
     "output_type": "stream",
     "text": [
      "wandb: Agent Starting Run: rpse2igg with config:\n",
      "wandb: \tL2_lamb: 0.0005\n",
      "wandb: \tactivation_f: sigmoid\n",
      "wandb: \tbatch_size: 16\n",
      "wandb: \tepochs: 10\n",
      "wandb: \tinit_mode: xavier\n",
      "wandb: \tlearning_rate: 0.001\n",
      "wandb: \tnum_hidden: 3\n",
      "wandb: \tnum_neurons: 32\n",
      "wandb: \toptimizer: sgd\n"
     ]
    },
    {
     "data": {
      "text/html": [
       "Tracking run with wandb version 0.19.7"
      ],
      "text/plain": [
       "<IPython.core.display.HTML object>"
      ]
     },
     "metadata": {},
     "output_type": "display_data"
    },
    {
     "data": {
      "text/html": [
       "Run data is saved locally in <code>c:\\Users\\RAMKUMAR\\Desktop\\iitm\\sem2\\DL\\wandb\\run-20250308_100726-rpse2igg</code>"
      ],
      "text/plain": [
       "<IPython.core.display.HTML object>"
      ]
     },
     "metadata": {},
     "output_type": "display_data"
    },
    {
     "data": {
      "text/html": [
       "Syncing run <strong><a href='https://wandb.ai/cs24m037-iit-madras/DL_A1/runs/rpse2igg' target=\"_blank\">magic-sweep-66</a></strong> to <a href='https://wandb.ai/cs24m037-iit-madras/DL_A1' target=\"_blank\">Weights & Biases</a> (<a href='https://wandb.me/developer-guide' target=\"_blank\">docs</a>)<br>Sweep page: <a href='https://wandb.ai/cs24m037-iit-madras/DL_A1/sweeps/zbxy6yvx' target=\"_blank\">https://wandb.ai/cs24m037-iit-madras/DL_A1/sweeps/zbxy6yvx</a>"
      ],
      "text/plain": [
       "<IPython.core.display.HTML object>"
      ]
     },
     "metadata": {},
     "output_type": "display_data"
    },
    {
     "data": {
      "text/html": [
       " View project at <a href='https://wandb.ai/cs24m037-iit-madras/DL_A1' target=\"_blank\">https://wandb.ai/cs24m037-iit-madras/DL_A1</a>"
      ],
      "text/plain": [
       "<IPython.core.display.HTML object>"
      ]
     },
     "metadata": {},
     "output_type": "display_data"
    },
    {
     "data": {
      "text/html": [
       " View sweep at <a href='https://wandb.ai/cs24m037-iit-madras/DL_A1/sweeps/zbxy6yvx' target=\"_blank\">https://wandb.ai/cs24m037-iit-madras/DL_A1/sweeps/zbxy6yvx</a>"
      ],
      "text/plain": [
       "<IPython.core.display.HTML object>"
      ]
     },
     "metadata": {},
     "output_type": "display_data"
    },
    {
     "data": {
      "text/html": [
       " View run at <a href='https://wandb.ai/cs24m037-iit-madras/DL_A1/runs/rpse2igg' target=\"_blank\">https://wandb.ai/cs24m037-iit-madras/DL_A1/runs/rpse2igg</a>"
      ],
      "text/plain": [
       "<IPython.core.display.HTML object>"
      ]
     },
     "metadata": {},
     "output_type": "display_data"
    },
    {
     "name": "stdout",
     "output_type": "stream",
     "text": [
      "lr_0.001_ac_sigmoid_in_xavier_op_sgd_bs_16_L2_0.0005_ep_10_nn_32_nh_3\n",
      "Epoch 1: Training Loss = 0.4587, Validation Loss = 0.4586, Training Acc = 0.0995, Validation Acc = 0.1045\n",
      "Epoch 2: Training Loss = 0.4551, Validation Loss = 0.4550, Training Acc = 0.1261, Validation Acc = 0.1263\n",
      "Epoch 3: Training Loss = 0.4530, Validation Loss = 0.4529, Training Acc = 0.1838, Validation Acc = 0.1788\n",
      "Epoch 4: Training Loss = 0.4517, Validation Loss = 0.4516, Training Acc = 0.1705, Validation Acc = 0.1652\n",
      "Epoch 5: Training Loss = 0.4509, Validation Loss = 0.4508, Training Acc = 0.1641, Validation Acc = 0.1570\n",
      "Epoch 6: Training Loss = 0.4504, Validation Loss = 0.4504, Training Acc = 0.1631, Validation Acc = 0.1585\n",
      "Epoch 7: Training Loss = 0.4501, Validation Loss = 0.4501, Training Acc = 0.1717, Validation Acc = 0.1683\n",
      "Epoch 8: Training Loss = 0.4499, Validation Loss = 0.4499, Training Acc = 0.1841, Validation Acc = 0.1812\n",
      "Epoch 9: Training Loss = 0.4498, Validation Loss = 0.4498, Training Acc = 0.1946, Validation Acc = 0.1898\n",
      "Epoch 10: Training Loss = 0.4497, Validation Loss = 0.4497, Training Acc = 0.2021, Validation Acc = 0.1998\n"
     ]
    },
    {
     "data": {
      "text/html": [],
      "text/plain": [
       "<IPython.core.display.HTML object>"
      ]
     },
     "metadata": {},
     "output_type": "display_data"
    },
    {
     "data": {
      "text/html": [
       "<br>    <style><br>        .wandb-row {<br>            display: flex;<br>            flex-direction: row;<br>            flex-wrap: wrap;<br>            justify-content: flex-start;<br>            width: 100%;<br>        }<br>        .wandb-col {<br>            display: flex;<br>            flex-direction: column;<br>            flex-basis: 100%;<br>            flex: 1;<br>            padding: 10px;<br>        }<br>    </style><br><div class=\"wandb-row\"><div class=\"wandb-col\"><h3>Run history:</h3><br/><table class=\"wandb\"><tr><td>epoch</td><td>▁▂▃▃▄▅▆▆▇█</td></tr><tr><td>training_accuracy</td><td>▁▃▇▆▅▅▆▇▇█</td></tr><tr><td>training_loss</td><td>█▅▄▃▂▂▁▁▁▁</td></tr><tr><td>validation_accuracy</td><td>▁▃▆▅▅▅▆▇▇█</td></tr><tr><td>validation_loss</td><td>█▅▄▃▂▂▁▁▁▁</td></tr></table><br/></div><div class=\"wandb-col\"><h3>Run summary:</h3><br/><table class=\"wandb\"><tr><td>epoch</td><td>10</td></tr><tr><td>training_accuracy</td><td>0.20206</td></tr><tr><td>training_loss</td><td>0.44971</td></tr><tr><td>validation_accuracy</td><td>0.19983</td></tr><tr><td>validation_loss</td><td>0.4497</td></tr></table><br/></div></div>"
      ],
      "text/plain": [
       "<IPython.core.display.HTML object>"
      ]
     },
     "metadata": {},
     "output_type": "display_data"
    },
    {
     "data": {
      "text/html": [
       " View run <strong style=\"color:#cdcd00\">lr_0.001_ac_sigmoid_in_xavier_op_sgd_bs_16_L2_0.0005_ep_10_nn_32_nh_3</strong> at: <a href='https://wandb.ai/cs24m037-iit-madras/DL_A1/runs/rpse2igg' target=\"_blank\">https://wandb.ai/cs24m037-iit-madras/DL_A1/runs/rpse2igg</a><br> View project at: <a href='https://wandb.ai/cs24m037-iit-madras/DL_A1' target=\"_blank\">https://wandb.ai/cs24m037-iit-madras/DL_A1</a><br>Synced 5 W&B file(s), 0 media file(s), 0 artifact file(s) and 0 other file(s)"
      ],
      "text/plain": [
       "<IPython.core.display.HTML object>"
      ]
     },
     "metadata": {},
     "output_type": "display_data"
    },
    {
     "data": {
      "text/html": [
       "Find logs at: <code>.\\wandb\\run-20250308_100726-rpse2igg\\logs</code>"
      ],
      "text/plain": [
       "<IPython.core.display.HTML object>"
      ]
     },
     "metadata": {},
     "output_type": "display_data"
    },
    {
     "name": "stderr",
     "output_type": "stream",
     "text": [
      "wandb: Agent Starting Run: wbtkp0v5 with config:\n",
      "wandb: \tL2_lamb: 0\n",
      "wandb: \tactivation_f: sigmoid\n",
      "wandb: \tbatch_size: 16\n",
      "wandb: \tepochs: 5\n",
      "wandb: \tinit_mode: xavier\n",
      "wandb: \tlearning_rate: 0.0001\n",
      "wandb: \tnum_hidden: 4\n",
      "wandb: \tnum_neurons: 128\n",
      "wandb: \toptimizer: adam\n"
     ]
    },
    {
     "data": {
      "text/html": [
       "Tracking run with wandb version 0.19.7"
      ],
      "text/plain": [
       "<IPython.core.display.HTML object>"
      ]
     },
     "metadata": {},
     "output_type": "display_data"
    },
    {
     "data": {
      "text/html": [
       "Run data is saved locally in <code>c:\\Users\\RAMKUMAR\\Desktop\\iitm\\sem2\\DL\\wandb\\run-20250308_100742-wbtkp0v5</code>"
      ],
      "text/plain": [
       "<IPython.core.display.HTML object>"
      ]
     },
     "metadata": {},
     "output_type": "display_data"
    },
    {
     "data": {
      "text/html": [
       "Syncing run <strong><a href='https://wandb.ai/cs24m037-iit-madras/DL_A1/runs/wbtkp0v5' target=\"_blank\">dainty-sweep-67</a></strong> to <a href='https://wandb.ai/cs24m037-iit-madras/DL_A1' target=\"_blank\">Weights & Biases</a> (<a href='https://wandb.me/developer-guide' target=\"_blank\">docs</a>)<br>Sweep page: <a href='https://wandb.ai/cs24m037-iit-madras/DL_A1/sweeps/zbxy6yvx' target=\"_blank\">https://wandb.ai/cs24m037-iit-madras/DL_A1/sweeps/zbxy6yvx</a>"
      ],
      "text/plain": [
       "<IPython.core.display.HTML object>"
      ]
     },
     "metadata": {},
     "output_type": "display_data"
    },
    {
     "data": {
      "text/html": [
       " View project at <a href='https://wandb.ai/cs24m037-iit-madras/DL_A1' target=\"_blank\">https://wandb.ai/cs24m037-iit-madras/DL_A1</a>"
      ],
      "text/plain": [
       "<IPython.core.display.HTML object>"
      ]
     },
     "metadata": {},
     "output_type": "display_data"
    },
    {
     "data": {
      "text/html": [
       " View sweep at <a href='https://wandb.ai/cs24m037-iit-madras/DL_A1/sweeps/zbxy6yvx' target=\"_blank\">https://wandb.ai/cs24m037-iit-madras/DL_A1/sweeps/zbxy6yvx</a>"
      ],
      "text/plain": [
       "<IPython.core.display.HTML object>"
      ]
     },
     "metadata": {},
     "output_type": "display_data"
    },
    {
     "data": {
      "text/html": [
       " View run at <a href='https://wandb.ai/cs24m037-iit-madras/DL_A1/runs/wbtkp0v5' target=\"_blank\">https://wandb.ai/cs24m037-iit-madras/DL_A1/runs/wbtkp0v5</a>"
      ],
      "text/plain": [
       "<IPython.core.display.HTML object>"
      ]
     },
     "metadata": {},
     "output_type": "display_data"
    },
    {
     "name": "stdout",
     "output_type": "stream",
     "text": [
      "lr_0.0001_ac_sigmoid_in_xavier_op_adam_bs_16_L2_0_ep_5_nn_128_nh_4\n",
      "Epoch 1: Training Loss = 0.2704, Validation Loss = 0.2728, Training Acc = 0.6139, Validation Acc = 0.6127\n",
      "Epoch 2: Training Loss = 0.1839, Validation Loss = 0.1884, Training Acc = 0.7333, Validation Acc = 0.7202\n",
      "Epoch 3: Training Loss = 0.1612, Validation Loss = 0.1656, Training Acc = 0.7871, Validation Acc = 0.7750\n",
      "Epoch 4: Training Loss = 0.1449, Validation Loss = 0.1497, Training Acc = 0.7995, Validation Acc = 0.7858\n",
      "Epoch 5: Training Loss = 0.1352, Validation Loss = 0.1401, Training Acc = 0.8116, Validation Acc = 0.7967\n"
     ]
    },
    {
     "data": {
      "text/html": [],
      "text/plain": [
       "<IPython.core.display.HTML object>"
      ]
     },
     "metadata": {},
     "output_type": "display_data"
    },
    {
     "data": {
      "text/html": [
       "<br>    <style><br>        .wandb-row {<br>            display: flex;<br>            flex-direction: row;<br>            flex-wrap: wrap;<br>            justify-content: flex-start;<br>            width: 100%;<br>        }<br>        .wandb-col {<br>            display: flex;<br>            flex-direction: column;<br>            flex-basis: 100%;<br>            flex: 1;<br>            padding: 10px;<br>        }<br>    </style><br><div class=\"wandb-row\"><div class=\"wandb-col\"><h3>Run history:</h3><br/><table class=\"wandb\"><tr><td>epoch</td><td>▁▃▅▆█</td></tr><tr><td>training_accuracy</td><td>▁▅▇██</td></tr><tr><td>training_loss</td><td>█▄▂▂▁</td></tr><tr><td>validation_accuracy</td><td>▁▅▇██</td></tr><tr><td>validation_loss</td><td>█▄▂▂▁</td></tr></table><br/></div><div class=\"wandb-col\"><h3>Run summary:</h3><br/><table class=\"wandb\"><tr><td>epoch</td><td>5</td></tr><tr><td>training_accuracy</td><td>0.81159</td></tr><tr><td>training_loss</td><td>0.13519</td></tr><tr><td>validation_accuracy</td><td>0.79667</td></tr><tr><td>validation_loss</td><td>0.14012</td></tr></table><br/></div></div>"
      ],
      "text/plain": [
       "<IPython.core.display.HTML object>"
      ]
     },
     "metadata": {},
     "output_type": "display_data"
    },
    {
     "data": {
      "text/html": [
       " View run <strong style=\"color:#cdcd00\">lr_0.0001_ac_sigmoid_in_xavier_op_adam_bs_16_L2_0_ep_5_nn_128_nh_4</strong> at: <a href='https://wandb.ai/cs24m037-iit-madras/DL_A1/runs/wbtkp0v5' target=\"_blank\">https://wandb.ai/cs24m037-iit-madras/DL_A1/runs/wbtkp0v5</a><br> View project at: <a href='https://wandb.ai/cs24m037-iit-madras/DL_A1' target=\"_blank\">https://wandb.ai/cs24m037-iit-madras/DL_A1</a><br>Synced 5 W&B file(s), 0 media file(s), 0 artifact file(s) and 0 other file(s)"
      ],
      "text/plain": [
       "<IPython.core.display.HTML object>"
      ]
     },
     "metadata": {},
     "output_type": "display_data"
    },
    {
     "data": {
      "text/html": [
       "Find logs at: <code>.\\wandb\\run-20250308_100742-wbtkp0v5\\logs</code>"
      ],
      "text/plain": [
       "<IPython.core.display.HTML object>"
      ]
     },
     "metadata": {},
     "output_type": "display_data"
    },
    {
     "name": "stderr",
     "output_type": "stream",
     "text": [
      "wandb: Agent Starting Run: x371oto2 with config:\n",
      "wandb: \tL2_lamb: 0.0005\n",
      "wandb: \tactivation_f: relu\n",
      "wandb: \tbatch_size: 64\n",
      "wandb: \tepochs: 10\n",
      "wandb: \tinit_mode: xavier\n",
      "wandb: \tlearning_rate: 0.001\n",
      "wandb: \tnum_hidden: 4\n",
      "wandb: \tnum_neurons: 32\n",
      "wandb: \toptimizer: nesterov\n"
     ]
    },
    {
     "data": {
      "text/html": [
       "Tracking run with wandb version 0.19.7"
      ],
      "text/plain": [
       "<IPython.core.display.HTML object>"
      ]
     },
     "metadata": {},
     "output_type": "display_data"
    },
    {
     "data": {
      "text/html": [
       "Run data is saved locally in <code>c:\\Users\\RAMKUMAR\\Desktop\\iitm\\sem2\\DL\\wandb\\run-20250308_100829-x371oto2</code>"
      ],
      "text/plain": [
       "<IPython.core.display.HTML object>"
      ]
     },
     "metadata": {},
     "output_type": "display_data"
    },
    {
     "data": {
      "text/html": [
       "Syncing run <strong><a href='https://wandb.ai/cs24m037-iit-madras/DL_A1/runs/x371oto2' target=\"_blank\">flowing-sweep-68</a></strong> to <a href='https://wandb.ai/cs24m037-iit-madras/DL_A1' target=\"_blank\">Weights & Biases</a> (<a href='https://wandb.me/developer-guide' target=\"_blank\">docs</a>)<br>Sweep page: <a href='https://wandb.ai/cs24m037-iit-madras/DL_A1/sweeps/zbxy6yvx' target=\"_blank\">https://wandb.ai/cs24m037-iit-madras/DL_A1/sweeps/zbxy6yvx</a>"
      ],
      "text/plain": [
       "<IPython.core.display.HTML object>"
      ]
     },
     "metadata": {},
     "output_type": "display_data"
    },
    {
     "data": {
      "text/html": [
       " View project at <a href='https://wandb.ai/cs24m037-iit-madras/DL_A1' target=\"_blank\">https://wandb.ai/cs24m037-iit-madras/DL_A1</a>"
      ],
      "text/plain": [
       "<IPython.core.display.HTML object>"
      ]
     },
     "metadata": {},
     "output_type": "display_data"
    },
    {
     "data": {
      "text/html": [
       " View sweep at <a href='https://wandb.ai/cs24m037-iit-madras/DL_A1/sweeps/zbxy6yvx' target=\"_blank\">https://wandb.ai/cs24m037-iit-madras/DL_A1/sweeps/zbxy6yvx</a>"
      ],
      "text/plain": [
       "<IPython.core.display.HTML object>"
      ]
     },
     "metadata": {},
     "output_type": "display_data"
    },
    {
     "data": {
      "text/html": [
       " View run at <a href='https://wandb.ai/cs24m037-iit-madras/DL_A1/runs/x371oto2' target=\"_blank\">https://wandb.ai/cs24m037-iit-madras/DL_A1/runs/x371oto2</a>"
      ],
      "text/plain": [
       "<IPython.core.display.HTML object>"
      ]
     },
     "metadata": {},
     "output_type": "display_data"
    },
    {
     "name": "stdout",
     "output_type": "stream",
     "text": [
      "lr_0.001_ac_relu_in_xavier_op_nesterov_bs_64_L2_0.0005_ep_10_nn_32_nh_4\n",
      "Epoch 1: Training Loss = 0.4520, Validation Loss = 0.4518, Training Acc = 0.1006, Validation Acc = 0.0978\n",
      "Epoch 2: Training Loss = 0.4506, Validation Loss = 0.4504, Training Acc = 0.1005, Validation Acc = 0.0973\n",
      "Epoch 3: Training Loss = 0.4495, Validation Loss = 0.4493, Training Acc = 0.1009, Validation Acc = 0.0968\n",
      "Epoch 4: Training Loss = 0.4485, Validation Loss = 0.4483, Training Acc = 0.1024, Validation Acc = 0.0990\n",
      "Epoch 5: Training Loss = 0.4476, Validation Loss = 0.4474, Training Acc = 0.1078, Validation Acc = 0.1050\n",
      "Epoch 6: Training Loss = 0.4467, Validation Loss = 0.4465, Training Acc = 0.1189, Validation Acc = 0.1158\n",
      "Epoch 7: Training Loss = 0.4458, Validation Loss = 0.4456, Training Acc = 0.1319, Validation Acc = 0.1262\n",
      "Epoch 8: Training Loss = 0.4448, Validation Loss = 0.4447, Training Acc = 0.1436, Validation Acc = 0.1390\n",
      "Epoch 9: Training Loss = 0.4438, Validation Loss = 0.4437, Training Acc = 0.1546, Validation Acc = 0.1513\n",
      "Epoch 10: Training Loss = 0.4428, Validation Loss = 0.4427, Training Acc = 0.1691, Validation Acc = 0.1663\n"
     ]
    },
    {
     "data": {
      "text/html": [],
      "text/plain": [
       "<IPython.core.display.HTML object>"
      ]
     },
     "metadata": {},
     "output_type": "display_data"
    },
    {
     "data": {
      "text/html": [
       "<br>    <style><br>        .wandb-row {<br>            display: flex;<br>            flex-direction: row;<br>            flex-wrap: wrap;<br>            justify-content: flex-start;<br>            width: 100%;<br>        }<br>        .wandb-col {<br>            display: flex;<br>            flex-direction: column;<br>            flex-basis: 100%;<br>            flex: 1;<br>            padding: 10px;<br>        }<br>    </style><br><div class=\"wandb-row\"><div class=\"wandb-col\"><h3>Run history:</h3><br/><table class=\"wandb\"><tr><td>epoch</td><td>▁▂▃▃▄▅▆▆▇█</td></tr><tr><td>training_accuracy</td><td>▁▁▁▁▂▃▄▅▇█</td></tr><tr><td>training_loss</td><td>█▇▆▅▅▄▃▃▂▁</td></tr><tr><td>validation_accuracy</td><td>▁▁▁▁▂▃▄▅▆█</td></tr><tr><td>validation_loss</td><td>█▇▆▅▅▄▃▃▂▁</td></tr></table><br/></div><div class=\"wandb-col\"><h3>Run summary:</h3><br/><table class=\"wandb\"><tr><td>epoch</td><td>10</td></tr><tr><td>training_accuracy</td><td>0.16906</td></tr><tr><td>training_loss</td><td>0.44278</td></tr><tr><td>validation_accuracy</td><td>0.16633</td></tr><tr><td>validation_loss</td><td>0.44269</td></tr></table><br/></div></div>"
      ],
      "text/plain": [
       "<IPython.core.display.HTML object>"
      ]
     },
     "metadata": {},
     "output_type": "display_data"
    },
    {
     "data": {
      "text/html": [
       " View run <strong style=\"color:#cdcd00\">lr_0.001_ac_relu_in_xavier_op_nesterov_bs_64_L2_0.0005_ep_10_nn_32_nh_4</strong> at: <a href='https://wandb.ai/cs24m037-iit-madras/DL_A1/runs/x371oto2' target=\"_blank\">https://wandb.ai/cs24m037-iit-madras/DL_A1/runs/x371oto2</a><br> View project at: <a href='https://wandb.ai/cs24m037-iit-madras/DL_A1' target=\"_blank\">https://wandb.ai/cs24m037-iit-madras/DL_A1</a><br>Synced 5 W&B file(s), 0 media file(s), 0 artifact file(s) and 0 other file(s)"
      ],
      "text/plain": [
       "<IPython.core.display.HTML object>"
      ]
     },
     "metadata": {},
     "output_type": "display_data"
    },
    {
     "data": {
      "text/html": [
       "Find logs at: <code>.\\wandb\\run-20250308_100829-x371oto2\\logs</code>"
      ],
      "text/plain": [
       "<IPython.core.display.HTML object>"
      ]
     },
     "metadata": {},
     "output_type": "display_data"
    },
    {
     "name": "stderr",
     "output_type": "stream",
     "text": [
      "wandb: Agent Starting Run: 9e1q1ukt with config:\n",
      "wandb: \tL2_lamb: 0.0005\n",
      "wandb: \tactivation_f: tanh\n",
      "wandb: \tbatch_size: 16\n",
      "wandb: \tepochs: 10\n",
      "wandb: \tinit_mode: random_uniform\n",
      "wandb: \tlearning_rate: 0.001\n",
      "wandb: \tnum_hidden: 5\n",
      "wandb: \tnum_neurons: 32\n",
      "wandb: \toptimizer: rmsprop\n"
     ]
    },
    {
     "data": {
      "text/html": [
       "Tracking run with wandb version 0.19.7"
      ],
      "text/plain": [
       "<IPython.core.display.HTML object>"
      ]
     },
     "metadata": {},
     "output_type": "display_data"
    },
    {
     "data": {
      "text/html": [
       "Run data is saved locally in <code>c:\\Users\\RAMKUMAR\\Desktop\\iitm\\sem2\\DL\\wandb\\run-20250308_100845-9e1q1ukt</code>"
      ],
      "text/plain": [
       "<IPython.core.display.HTML object>"
      ]
     },
     "metadata": {},
     "output_type": "display_data"
    },
    {
     "data": {
      "text/html": [
       "Syncing run <strong><a href='https://wandb.ai/cs24m037-iit-madras/DL_A1/runs/9e1q1ukt' target=\"_blank\">ruby-sweep-69</a></strong> to <a href='https://wandb.ai/cs24m037-iit-madras/DL_A1' target=\"_blank\">Weights & Biases</a> (<a href='https://wandb.me/developer-guide' target=\"_blank\">docs</a>)<br>Sweep page: <a href='https://wandb.ai/cs24m037-iit-madras/DL_A1/sweeps/zbxy6yvx' target=\"_blank\">https://wandb.ai/cs24m037-iit-madras/DL_A1/sweeps/zbxy6yvx</a>"
      ],
      "text/plain": [
       "<IPython.core.display.HTML object>"
      ]
     },
     "metadata": {},
     "output_type": "display_data"
    },
    {
     "data": {
      "text/html": [
       " View project at <a href='https://wandb.ai/cs24m037-iit-madras/DL_A1' target=\"_blank\">https://wandb.ai/cs24m037-iit-madras/DL_A1</a>"
      ],
      "text/plain": [
       "<IPython.core.display.HTML object>"
      ]
     },
     "metadata": {},
     "output_type": "display_data"
    },
    {
     "data": {
      "text/html": [
       " View sweep at <a href='https://wandb.ai/cs24m037-iit-madras/DL_A1/sweeps/zbxy6yvx' target=\"_blank\">https://wandb.ai/cs24m037-iit-madras/DL_A1/sweeps/zbxy6yvx</a>"
      ],
      "text/plain": [
       "<IPython.core.display.HTML object>"
      ]
     },
     "metadata": {},
     "output_type": "display_data"
    },
    {
     "data": {
      "text/html": [
       " View run at <a href='https://wandb.ai/cs24m037-iit-madras/DL_A1/runs/9e1q1ukt' target=\"_blank\">https://wandb.ai/cs24m037-iit-madras/DL_A1/runs/9e1q1ukt</a>"
      ],
      "text/plain": [
       "<IPython.core.display.HTML object>"
      ]
     },
     "metadata": {},
     "output_type": "display_data"
    },
    {
     "name": "stdout",
     "output_type": "stream",
     "text": [
      "lr_0.001_ac_tanh_in_random_uniform_op_rmsprop_bs_16_L2_0.0005_ep_10_nn_32_nh_5\n",
      "Epoch 1: Training Loss = 0.4500, Validation Loss = 0.4500, Training Acc = 0.0996, Validation Acc = 0.1035\n",
      "Epoch 2: Training Loss = 0.2713, Validation Loss = 0.2747, Training Acc = 0.5285, Validation Acc = 0.5193\n",
      "Epoch 3: Training Loss = 0.2012, Validation Loss = 0.2083, Training Acc = 0.7155, Validation Acc = 0.7047\n",
      "Epoch 4: Training Loss = 0.1566, Validation Loss = 0.1647, Training Acc = 0.7991, Validation Acc = 0.7863\n",
      "Epoch 5: Training Loss = 0.1543, Validation Loss = 0.1609, Training Acc = 0.7945, Validation Acc = 0.7877\n",
      "Epoch 6: Training Loss = 0.1304, Validation Loss = 0.1375, Training Acc = 0.8272, Validation Acc = 0.8188\n",
      "Epoch 7: Training Loss = 0.1149, Validation Loss = 0.1202, Training Acc = 0.8459, Validation Acc = 0.8418\n",
      "Epoch 8: Training Loss = 0.1177, Validation Loss = 0.1253, Training Acc = 0.8428, Validation Acc = 0.8353\n",
      "Epoch 9: Training Loss = 0.1044, Validation Loss = 0.1140, Training Acc = 0.8594, Validation Acc = 0.8470\n",
      "Epoch 10: Training Loss = 0.0969, Validation Loss = 0.1055, Training Acc = 0.8680, Validation Acc = 0.8558\n"
     ]
    },
    {
     "data": {
      "text/html": [],
      "text/plain": [
       "<IPython.core.display.HTML object>"
      ]
     },
     "metadata": {},
     "output_type": "display_data"
    },
    {
     "data": {
      "text/html": [
       "<br>    <style><br>        .wandb-row {<br>            display: flex;<br>            flex-direction: row;<br>            flex-wrap: wrap;<br>            justify-content: flex-start;<br>            width: 100%;<br>        }<br>        .wandb-col {<br>            display: flex;<br>            flex-direction: column;<br>            flex-basis: 100%;<br>            flex: 1;<br>            padding: 10px;<br>        }<br>    </style><br><div class=\"wandb-row\"><div class=\"wandb-col\"><h3>Run history:</h3><br/><table class=\"wandb\"><tr><td>epoch</td><td>▁▂▃▃▄▅▆▆▇█</td></tr><tr><td>training_accuracy</td><td>▁▅▇▇▇█████</td></tr><tr><td>training_loss</td><td>█▄▃▂▂▂▁▁▁▁</td></tr><tr><td>validation_accuracy</td><td>▁▅▇▇▇█████</td></tr><tr><td>validation_loss</td><td>█▄▃▂▂▂▁▁▁▁</td></tr></table><br/></div><div class=\"wandb-col\"><h3>Run summary:</h3><br/><table class=\"wandb\"><tr><td>epoch</td><td>10</td></tr><tr><td>training_accuracy</td><td>0.86798</td></tr><tr><td>training_loss</td><td>0.09689</td></tr><tr><td>validation_accuracy</td><td>0.85583</td></tr><tr><td>validation_loss</td><td>0.10554</td></tr></table><br/></div></div>"
      ],
      "text/plain": [
       "<IPython.core.display.HTML object>"
      ]
     },
     "metadata": {},
     "output_type": "display_data"
    },
    {
     "data": {
      "text/html": [
       " View run <strong style=\"color:#cdcd00\">lr_0.001_ac_tanh_in_random_uniform_op_rmsprop_bs_16_L2_0.0005_ep_10_nn_32_nh_5</strong> at: <a href='https://wandb.ai/cs24m037-iit-madras/DL_A1/runs/9e1q1ukt' target=\"_blank\">https://wandb.ai/cs24m037-iit-madras/DL_A1/runs/9e1q1ukt</a><br> View project at: <a href='https://wandb.ai/cs24m037-iit-madras/DL_A1' target=\"_blank\">https://wandb.ai/cs24m037-iit-madras/DL_A1</a><br>Synced 5 W&B file(s), 0 media file(s), 0 artifact file(s) and 0 other file(s)"
      ],
      "text/plain": [
       "<IPython.core.display.HTML object>"
      ]
     },
     "metadata": {},
     "output_type": "display_data"
    },
    {
     "data": {
      "text/html": [
       "Find logs at: <code>.\\wandb\\run-20250308_100845-9e1q1ukt\\logs</code>"
      ],
      "text/plain": [
       "<IPython.core.display.HTML object>"
      ]
     },
     "metadata": {},
     "output_type": "display_data"
    },
    {
     "name": "stderr",
     "output_type": "stream",
     "text": [
      "wandb: Agent Starting Run: g0sry4kc with config:\n",
      "wandb: \tL2_lamb: 0\n",
      "wandb: \tactivation_f: sigmoid\n",
      "wandb: \tbatch_size: 64\n",
      "wandb: \tepochs: 5\n",
      "wandb: \tinit_mode: xavier\n",
      "wandb: \tlearning_rate: 0.0001\n",
      "wandb: \tnum_hidden: 5\n",
      "wandb: \tnum_neurons: 32\n",
      "wandb: \toptimizer: nesterov\n"
     ]
    },
    {
     "data": {
      "text/html": [
       "Tracking run with wandb version 0.19.7"
      ],
      "text/plain": [
       "<IPython.core.display.HTML object>"
      ]
     },
     "metadata": {},
     "output_type": "display_data"
    },
    {
     "data": {
      "text/html": [
       "Run data is saved locally in <code>c:\\Users\\RAMKUMAR\\Desktop\\iitm\\sem2\\DL\\wandb\\run-20250308_100906-g0sry4kc</code>"
      ],
      "text/plain": [
       "<IPython.core.display.HTML object>"
      ]
     },
     "metadata": {},
     "output_type": "display_data"
    },
    {
     "data": {
      "text/html": [
       "Syncing run <strong><a href='https://wandb.ai/cs24m037-iit-madras/DL_A1/runs/g0sry4kc' target=\"_blank\">skilled-sweep-70</a></strong> to <a href='https://wandb.ai/cs24m037-iit-madras/DL_A1' target=\"_blank\">Weights & Biases</a> (<a href='https://wandb.me/developer-guide' target=\"_blank\">docs</a>)<br>Sweep page: <a href='https://wandb.ai/cs24m037-iit-madras/DL_A1/sweeps/zbxy6yvx' target=\"_blank\">https://wandb.ai/cs24m037-iit-madras/DL_A1/sweeps/zbxy6yvx</a>"
      ],
      "text/plain": [
       "<IPython.core.display.HTML object>"
      ]
     },
     "metadata": {},
     "output_type": "display_data"
    },
    {
     "data": {
      "text/html": [
       " View project at <a href='https://wandb.ai/cs24m037-iit-madras/DL_A1' target=\"_blank\">https://wandb.ai/cs24m037-iit-madras/DL_A1</a>"
      ],
      "text/plain": [
       "<IPython.core.display.HTML object>"
      ]
     },
     "metadata": {},
     "output_type": "display_data"
    },
    {
     "data": {
      "text/html": [
       " View sweep at <a href='https://wandb.ai/cs24m037-iit-madras/DL_A1/sweeps/zbxy6yvx' target=\"_blank\">https://wandb.ai/cs24m037-iit-madras/DL_A1/sweeps/zbxy6yvx</a>"
      ],
      "text/plain": [
       "<IPython.core.display.HTML object>"
      ]
     },
     "metadata": {},
     "output_type": "display_data"
    },
    {
     "data": {
      "text/html": [
       " View run at <a href='https://wandb.ai/cs24m037-iit-madras/DL_A1/runs/g0sry4kc' target=\"_blank\">https://wandb.ai/cs24m037-iit-madras/DL_A1/runs/g0sry4kc</a>"
      ],
      "text/plain": [
       "<IPython.core.display.HTML object>"
      ]
     },
     "metadata": {},
     "output_type": "display_data"
    },
    {
     "name": "stdout",
     "output_type": "stream",
     "text": [
      "lr_0.0001_ac_sigmoid_in_xavier_op_nesterov_bs_64_L2_0_ep_5_nn_32_nh_5\n",
      "Epoch 1: Training Loss = 0.4566, Validation Loss = 0.4568, Training Acc = 0.0998, Validation Acc = 0.1018\n",
      "Epoch 2: Training Loss = 0.4565, Validation Loss = 0.4567, Training Acc = 0.0998, Validation Acc = 0.1018\n",
      "Epoch 3: Training Loss = 0.4564, Validation Loss = 0.4566, Training Acc = 0.0998, Validation Acc = 0.1018\n",
      "Epoch 4: Training Loss = 0.4563, Validation Loss = 0.4565, Training Acc = 0.0998, Validation Acc = 0.1018\n",
      "Epoch 5: Training Loss = 0.4562, Validation Loss = 0.4564, Training Acc = 0.0998, Validation Acc = 0.1018\n"
     ]
    },
    {
     "data": {
      "text/html": [],
      "text/plain": [
       "<IPython.core.display.HTML object>"
      ]
     },
     "metadata": {},
     "output_type": "display_data"
    },
    {
     "data": {
      "text/html": [
       "<br>    <style><br>        .wandb-row {<br>            display: flex;<br>            flex-direction: row;<br>            flex-wrap: wrap;<br>            justify-content: flex-start;<br>            width: 100%;<br>        }<br>        .wandb-col {<br>            display: flex;<br>            flex-direction: column;<br>            flex-basis: 100%;<br>            flex: 1;<br>            padding: 10px;<br>        }<br>    </style><br><div class=\"wandb-row\"><div class=\"wandb-col\"><h3>Run history:</h3><br/><table class=\"wandb\"><tr><td>epoch</td><td>▁▃▅▆█</td></tr><tr><td>training_accuracy</td><td>▁▁▁▁▁</td></tr><tr><td>training_loss</td><td>█▆▄▃▁</td></tr><tr><td>validation_accuracy</td><td>▁▁▁▁▁</td></tr><tr><td>validation_loss</td><td>█▆▄▃▁</td></tr></table><br/></div><div class=\"wandb-col\"><h3>Run summary:</h3><br/><table class=\"wandb\"><tr><td>epoch</td><td>5</td></tr><tr><td>training_accuracy</td><td>0.0998</td></tr><tr><td>training_loss</td><td>0.45623</td></tr><tr><td>validation_accuracy</td><td>0.10183</td></tr><tr><td>validation_loss</td><td>0.45642</td></tr></table><br/></div></div>"
      ],
      "text/plain": [
       "<IPython.core.display.HTML object>"
      ]
     },
     "metadata": {},
     "output_type": "display_data"
    },
    {
     "data": {
      "text/html": [
       " View run <strong style=\"color:#cdcd00\">lr_0.0001_ac_sigmoid_in_xavier_op_nesterov_bs_64_L2_0_ep_5_nn_32_nh_5</strong> at: <a href='https://wandb.ai/cs24m037-iit-madras/DL_A1/runs/g0sry4kc' target=\"_blank\">https://wandb.ai/cs24m037-iit-madras/DL_A1/runs/g0sry4kc</a><br> View project at: <a href='https://wandb.ai/cs24m037-iit-madras/DL_A1' target=\"_blank\">https://wandb.ai/cs24m037-iit-madras/DL_A1</a><br>Synced 5 W&B file(s), 0 media file(s), 0 artifact file(s) and 0 other file(s)"
      ],
      "text/plain": [
       "<IPython.core.display.HTML object>"
      ]
     },
     "metadata": {},
     "output_type": "display_data"
    },
    {
     "data": {
      "text/html": [
       "Find logs at: <code>.\\wandb\\run-20250308_100906-g0sry4kc\\logs</code>"
      ],
      "text/plain": [
       "<IPython.core.display.HTML object>"
      ]
     },
     "metadata": {},
     "output_type": "display_data"
    },
    {
     "name": "stderr",
     "output_type": "stream",
     "text": [
      "wandb: Sweep Agent: Waiting for job.\n",
      "wandb: Job received.\n",
      "wandb: Agent Starting Run: 50ch64az with config:\n",
      "wandb: \tL2_lamb: 0.0005\n",
      "wandb: \tactivation_f: relu\n",
      "wandb: \tbatch_size: 16\n",
      "wandb: \tepochs: 5\n",
      "wandb: \tinit_mode: xavier\n",
      "wandb: \tlearning_rate: 0.001\n",
      "wandb: \tnum_hidden: 3\n",
      "wandb: \tnum_neurons: 128\n",
      "wandb: \toptimizer: momentum\n"
     ]
    },
    {
     "data": {
      "text/html": [
       "Tracking run with wandb version 0.19.7"
      ],
      "text/plain": [
       "<IPython.core.display.HTML object>"
      ]
     },
     "metadata": {},
     "output_type": "display_data"
    },
    {
     "data": {
      "text/html": [
       "Run data is saved locally in <code>c:\\Users\\RAMKUMAR\\Desktop\\iitm\\sem2\\DL\\wandb\\run-20250308_100927-50ch64az</code>"
      ],
      "text/plain": [
       "<IPython.core.display.HTML object>"
      ]
     },
     "metadata": {},
     "output_type": "display_data"
    },
    {
     "data": {
      "text/html": [
       "Syncing run <strong><a href='https://wandb.ai/cs24m037-iit-madras/DL_A1/runs/50ch64az' target=\"_blank\">stoic-sweep-71</a></strong> to <a href='https://wandb.ai/cs24m037-iit-madras/DL_A1' target=\"_blank\">Weights & Biases</a> (<a href='https://wandb.me/developer-guide' target=\"_blank\">docs</a>)<br>Sweep page: <a href='https://wandb.ai/cs24m037-iit-madras/DL_A1/sweeps/zbxy6yvx' target=\"_blank\">https://wandb.ai/cs24m037-iit-madras/DL_A1/sweeps/zbxy6yvx</a>"
      ],
      "text/plain": [
       "<IPython.core.display.HTML object>"
      ]
     },
     "metadata": {},
     "output_type": "display_data"
    },
    {
     "data": {
      "text/html": [
       " View project at <a href='https://wandb.ai/cs24m037-iit-madras/DL_A1' target=\"_blank\">https://wandb.ai/cs24m037-iit-madras/DL_A1</a>"
      ],
      "text/plain": [
       "<IPython.core.display.HTML object>"
      ]
     },
     "metadata": {},
     "output_type": "display_data"
    },
    {
     "data": {
      "text/html": [
       " View sweep at <a href='https://wandb.ai/cs24m037-iit-madras/DL_A1/sweeps/zbxy6yvx' target=\"_blank\">https://wandb.ai/cs24m037-iit-madras/DL_A1/sweeps/zbxy6yvx</a>"
      ],
      "text/plain": [
       "<IPython.core.display.HTML object>"
      ]
     },
     "metadata": {},
     "output_type": "display_data"
    },
    {
     "data": {
      "text/html": [
       " View run at <a href='https://wandb.ai/cs24m037-iit-madras/DL_A1/runs/50ch64az' target=\"_blank\">https://wandb.ai/cs24m037-iit-madras/DL_A1/runs/50ch64az</a>"
      ],
      "text/plain": [
       "<IPython.core.display.HTML object>"
      ]
     },
     "metadata": {},
     "output_type": "display_data"
    },
    {
     "name": "stdout",
     "output_type": "stream",
     "text": [
      "lr_0.001_ac_relu_in_xavier_op_momentum_bs_16_L2_0.0005_ep_5_nn_128_nh_3\n",
      "Epoch 1: Training Loss = 0.4155, Validation Loss = 0.4159, Training Acc = 0.4209, Validation Acc = 0.4218\n",
      "Epoch 2: Training Loss = 0.3465, Validation Loss = 0.3484, Training Acc = 0.5445, Validation Acc = 0.5403\n",
      "Epoch 3: Training Loss = 0.2799, Validation Loss = 0.2835, Training Acc = 0.6411, Validation Acc = 0.6352\n",
      "Epoch 4: Training Loss = 0.2503, Validation Loss = 0.2540, Training Acc = 0.6629, Validation Acc = 0.6585\n",
      "Epoch 5: Training Loss = 0.2369, Validation Loss = 0.2406, Training Acc = 0.6670, Validation Acc = 0.6617\n"
     ]
    },
    {
     "data": {
      "text/html": [],
      "text/plain": [
       "<IPython.core.display.HTML object>"
      ]
     },
     "metadata": {},
     "output_type": "display_data"
    },
    {
     "data": {
      "text/html": [
       "<br>    <style><br>        .wandb-row {<br>            display: flex;<br>            flex-direction: row;<br>            flex-wrap: wrap;<br>            justify-content: flex-start;<br>            width: 100%;<br>        }<br>        .wandb-col {<br>            display: flex;<br>            flex-direction: column;<br>            flex-basis: 100%;<br>            flex: 1;<br>            padding: 10px;<br>        }<br>    </style><br><div class=\"wandb-row\"><div class=\"wandb-col\"><h3>Run history:</h3><br/><table class=\"wandb\"><tr><td>epoch</td><td>▁▃▅▆█</td></tr><tr><td>training_accuracy</td><td>▁▅▇██</td></tr><tr><td>training_loss</td><td>█▅▃▂▁</td></tr><tr><td>validation_accuracy</td><td>▁▄▇██</td></tr><tr><td>validation_loss</td><td>█▅▃▂▁</td></tr></table><br/></div><div class=\"wandb-col\"><h3>Run summary:</h3><br/><table class=\"wandb\"><tr><td>epoch</td><td>5</td></tr><tr><td>training_accuracy</td><td>0.66696</td></tr><tr><td>training_loss</td><td>0.23686</td></tr><tr><td>validation_accuracy</td><td>0.66167</td></tr><tr><td>validation_loss</td><td>0.2406</td></tr></table><br/></div></div>"
      ],
      "text/plain": [
       "<IPython.core.display.HTML object>"
      ]
     },
     "metadata": {},
     "output_type": "display_data"
    },
    {
     "data": {
      "text/html": [
       " View run <strong style=\"color:#cdcd00\">lr_0.001_ac_relu_in_xavier_op_momentum_bs_16_L2_0.0005_ep_5_nn_128_nh_3</strong> at: <a href='https://wandb.ai/cs24m037-iit-madras/DL_A1/runs/50ch64az' target=\"_blank\">https://wandb.ai/cs24m037-iit-madras/DL_A1/runs/50ch64az</a><br> View project at: <a href='https://wandb.ai/cs24m037-iit-madras/DL_A1' target=\"_blank\">https://wandb.ai/cs24m037-iit-madras/DL_A1</a><br>Synced 5 W&B file(s), 0 media file(s), 0 artifact file(s) and 0 other file(s)"
      ],
      "text/plain": [
       "<IPython.core.display.HTML object>"
      ]
     },
     "metadata": {},
     "output_type": "display_data"
    },
    {
     "data": {
      "text/html": [
       "Find logs at: <code>.\\wandb\\run-20250308_100927-50ch64az\\logs</code>"
      ],
      "text/plain": [
       "<IPython.core.display.HTML object>"
      ]
     },
     "metadata": {},
     "output_type": "display_data"
    },
    {
     "name": "stderr",
     "output_type": "stream",
     "text": [
      "wandb: Agent Starting Run: xqtsmsia with config:\n",
      "wandb: \tL2_lamb: 0.0005\n",
      "wandb: \tactivation_f: tanh\n",
      "wandb: \tbatch_size: 16\n",
      "wandb: \tepochs: 10\n",
      "wandb: \tinit_mode: random_uniform\n",
      "wandb: \tlearning_rate: 0.001\n",
      "wandb: \tnum_hidden: 3\n",
      "wandb: \tnum_neurons: 32\n",
      "wandb: \toptimizer: momentum\n"
     ]
    },
    {
     "data": {
      "text/html": [
       "Tracking run with wandb version 0.19.7"
      ],
      "text/plain": [
       "<IPython.core.display.HTML object>"
      ]
     },
     "metadata": {},
     "output_type": "display_data"
    },
    {
     "data": {
      "text/html": [
       "Run data is saved locally in <code>c:\\Users\\RAMKUMAR\\Desktop\\iitm\\sem2\\DL\\wandb\\run-20250308_100954-xqtsmsia</code>"
      ],
      "text/plain": [
       "<IPython.core.display.HTML object>"
      ]
     },
     "metadata": {},
     "output_type": "display_data"
    },
    {
     "data": {
      "text/html": [
       "Syncing run <strong><a href='https://wandb.ai/cs24m037-iit-madras/DL_A1/runs/xqtsmsia' target=\"_blank\">fragrant-sweep-72</a></strong> to <a href='https://wandb.ai/cs24m037-iit-madras/DL_A1' target=\"_blank\">Weights & Biases</a> (<a href='https://wandb.me/developer-guide' target=\"_blank\">docs</a>)<br>Sweep page: <a href='https://wandb.ai/cs24m037-iit-madras/DL_A1/sweeps/zbxy6yvx' target=\"_blank\">https://wandb.ai/cs24m037-iit-madras/DL_A1/sweeps/zbxy6yvx</a>"
      ],
      "text/plain": [
       "<IPython.core.display.HTML object>"
      ]
     },
     "metadata": {},
     "output_type": "display_data"
    },
    {
     "data": {
      "text/html": [
       " View project at <a href='https://wandb.ai/cs24m037-iit-madras/DL_A1' target=\"_blank\">https://wandb.ai/cs24m037-iit-madras/DL_A1</a>"
      ],
      "text/plain": [
       "<IPython.core.display.HTML object>"
      ]
     },
     "metadata": {},
     "output_type": "display_data"
    },
    {
     "data": {
      "text/html": [
       " View sweep at <a href='https://wandb.ai/cs24m037-iit-madras/DL_A1/sweeps/zbxy6yvx' target=\"_blank\">https://wandb.ai/cs24m037-iit-madras/DL_A1/sweeps/zbxy6yvx</a>"
      ],
      "text/plain": [
       "<IPython.core.display.HTML object>"
      ]
     },
     "metadata": {},
     "output_type": "display_data"
    },
    {
     "data": {
      "text/html": [
       " View run at <a href='https://wandb.ai/cs24m037-iit-madras/DL_A1/runs/xqtsmsia' target=\"_blank\">https://wandb.ai/cs24m037-iit-madras/DL_A1/runs/xqtsmsia</a>"
      ],
      "text/plain": [
       "<IPython.core.display.HTML object>"
      ]
     },
     "metadata": {},
     "output_type": "display_data"
    },
    {
     "name": "stdout",
     "output_type": "stream",
     "text": [
      "lr_0.001_ac_tanh_in_random_uniform_op_momentum_bs_16_L2_0.0005_ep_10_nn_32_nh_3\n",
      "Epoch 1: Training Loss = 0.4500, Validation Loss = 0.4500, Training Acc = 0.1016, Validation Acc = 0.1008\n",
      "Epoch 2: Training Loss = 0.4500, Validation Loss = 0.4500, Training Acc = 0.1296, Validation Acc = 0.1262\n",
      "Epoch 3: Training Loss = 0.4500, Validation Loss = 0.4500, Training Acc = 0.1632, Validation Acc = 0.1528\n",
      "Epoch 4: Training Loss = 0.4500, Validation Loss = 0.4500, Training Acc = 0.1642, Validation Acc = 0.1557\n",
      "Epoch 5: Training Loss = 0.4500, Validation Loss = 0.4500, Training Acc = 0.1421, Validation Acc = 0.1362\n",
      "Epoch 6: Training Loss = 0.4500, Validation Loss = 0.4500, Training Acc = 0.1035, Validation Acc = 0.0947\n",
      "Epoch 7: Training Loss = 0.4500, Validation Loss = 0.4500, Training Acc = 0.1009, Validation Acc = 0.0917\n",
      "Epoch 8: Training Loss = 0.4500, Validation Loss = 0.4500, Training Acc = 0.1009, Validation Acc = 0.0917\n",
      "Epoch 9: Training Loss = 0.4500, Validation Loss = 0.4500, Training Acc = 0.1009, Validation Acc = 0.0917\n",
      "Epoch 10: Training Loss = 0.4500, Validation Loss = 0.4500, Training Acc = 0.1009, Validation Acc = 0.0917\n"
     ]
    },
    {
     "data": {
      "text/html": [],
      "text/plain": [
       "<IPython.core.display.HTML object>"
      ]
     },
     "metadata": {},
     "output_type": "display_data"
    },
    {
     "data": {
      "text/html": [
       "<br>    <style><br>        .wandb-row {<br>            display: flex;<br>            flex-direction: row;<br>            flex-wrap: wrap;<br>            justify-content: flex-start;<br>            width: 100%;<br>        }<br>        .wandb-col {<br>            display: flex;<br>            flex-direction: column;<br>            flex-basis: 100%;<br>            flex: 1;<br>            padding: 10px;<br>        }<br>    </style><br><div class=\"wandb-row\"><div class=\"wandb-col\"><h3>Run history:</h3><br/><table class=\"wandb\"><tr><td>epoch</td><td>▁▂▃▃▄▅▆▆▇█</td></tr><tr><td>training_accuracy</td><td>▁▄██▆▁▁▁▁▁</td></tr><tr><td>training_loss</td><td>█▇▆▆▅▄▃▃▂▁</td></tr><tr><td>validation_accuracy</td><td>▂▅██▆▁▁▁▁▁</td></tr><tr><td>validation_loss</td><td>█▇▇▆▅▄▃▃▂▁</td></tr></table><br/></div><div class=\"wandb-col\"><h3>Run summary:</h3><br/><table class=\"wandb\"><tr><td>epoch</td><td>10</td></tr><tr><td>training_accuracy</td><td>0.10093</td></tr><tr><td>training_loss</td><td>0.44999</td></tr><tr><td>validation_accuracy</td><td>0.09167</td></tr><tr><td>validation_loss</td><td>0.44999</td></tr></table><br/></div></div>"
      ],
      "text/plain": [
       "<IPython.core.display.HTML object>"
      ]
     },
     "metadata": {},
     "output_type": "display_data"
    },
    {
     "data": {
      "text/html": [
       " View run <strong style=\"color:#cdcd00\">lr_0.001_ac_tanh_in_random_uniform_op_momentum_bs_16_L2_0.0005_ep_10_nn_32_nh_3</strong> at: <a href='https://wandb.ai/cs24m037-iit-madras/DL_A1/runs/xqtsmsia' target=\"_blank\">https://wandb.ai/cs24m037-iit-madras/DL_A1/runs/xqtsmsia</a><br> View project at: <a href='https://wandb.ai/cs24m037-iit-madras/DL_A1' target=\"_blank\">https://wandb.ai/cs24m037-iit-madras/DL_A1</a><br>Synced 5 W&B file(s), 0 media file(s), 0 artifact file(s) and 0 other file(s)"
      ],
      "text/plain": [
       "<IPython.core.display.HTML object>"
      ]
     },
     "metadata": {},
     "output_type": "display_data"
    },
    {
     "data": {
      "text/html": [
       "Find logs at: <code>.\\wandb\\run-20250308_100954-xqtsmsia\\logs</code>"
      ],
      "text/plain": [
       "<IPython.core.display.HTML object>"
      ]
     },
     "metadata": {},
     "output_type": "display_data"
    },
    {
     "name": "stderr",
     "output_type": "stream",
     "text": [
      "wandb: Agent Starting Run: 6f6fer73 with config:\n",
      "wandb: \tL2_lamb: 0.5\n",
      "wandb: \tactivation_f: relu\n",
      "wandb: \tbatch_size: 16\n",
      "wandb: \tepochs: 10\n",
      "wandb: \tinit_mode: xavier\n",
      "wandb: \tlearning_rate: 0.001\n",
      "wandb: \tnum_hidden: 5\n",
      "wandb: \tnum_neurons: 64\n",
      "wandb: \toptimizer: sgd\n"
     ]
    },
    {
     "data": {
      "text/html": [],
      "text/plain": [
       "<IPython.core.display.HTML object>"
      ]
     },
     "metadata": {},
     "output_type": "display_data"
    },
    {
     "data": {
      "text/html": [
       "Tracking run with wandb version 0.19.7"
      ],
      "text/plain": [
       "<IPython.core.display.HTML object>"
      ]
     },
     "metadata": {},
     "output_type": "display_data"
    },
    {
     "data": {
      "text/html": [
       "Run data is saved locally in <code>c:\\Users\\RAMKUMAR\\Desktop\\iitm\\sem2\\DL\\wandb\\run-20250308_101010-6f6fer73</code>"
      ],
      "text/plain": [
       "<IPython.core.display.HTML object>"
      ]
     },
     "metadata": {},
     "output_type": "display_data"
    },
    {
     "data": {
      "text/html": [
       "Syncing run <strong><a href='https://wandb.ai/cs24m037-iit-madras/DL_A1/runs/6f6fer73' target=\"_blank\">fancy-sweep-73</a></strong> to <a href='https://wandb.ai/cs24m037-iit-madras/DL_A1' target=\"_blank\">Weights & Biases</a> (<a href='https://wandb.me/developer-guide' target=\"_blank\">docs</a>)<br>Sweep page: <a href='https://wandb.ai/cs24m037-iit-madras/DL_A1/sweeps/zbxy6yvx' target=\"_blank\">https://wandb.ai/cs24m037-iit-madras/DL_A1/sweeps/zbxy6yvx</a>"
      ],
      "text/plain": [
       "<IPython.core.display.HTML object>"
      ]
     },
     "metadata": {},
     "output_type": "display_data"
    },
    {
     "data": {
      "text/html": [
       " View project at <a href='https://wandb.ai/cs24m037-iit-madras/DL_A1' target=\"_blank\">https://wandb.ai/cs24m037-iit-madras/DL_A1</a>"
      ],
      "text/plain": [
       "<IPython.core.display.HTML object>"
      ]
     },
     "metadata": {},
     "output_type": "display_data"
    },
    {
     "data": {
      "text/html": [
       " View sweep at <a href='https://wandb.ai/cs24m037-iit-madras/DL_A1/sweeps/zbxy6yvx' target=\"_blank\">https://wandb.ai/cs24m037-iit-madras/DL_A1/sweeps/zbxy6yvx</a>"
      ],
      "text/plain": [
       "<IPython.core.display.HTML object>"
      ]
     },
     "metadata": {},
     "output_type": "display_data"
    },
    {
     "data": {
      "text/html": [
       " View run at <a href='https://wandb.ai/cs24m037-iit-madras/DL_A1/runs/6f6fer73' target=\"_blank\">https://wandb.ai/cs24m037-iit-madras/DL_A1/runs/6f6fer73</a>"
      ],
      "text/plain": [
       "<IPython.core.display.HTML object>"
      ]
     },
     "metadata": {},
     "output_type": "display_data"
    },
    {
     "name": "stdout",
     "output_type": "stream",
     "text": [
      "lr_0.001_ac_relu_in_xavier_op_sgd_bs_16_L2_0.5_ep_10_nn_64_nh_5\n",
      "Epoch 1: Training Loss = 0.4500, Validation Loss = 0.4620, Training Acc = 0.1096, Validation Acc = 0.1122\n",
      "Epoch 2: Training Loss = 0.4494, Validation Loss = 0.4591, Training Acc = 0.1486, Validation Acc = 0.1487\n",
      "Epoch 3: Training Loss = 0.4495, Validation Loss = 0.4573, Training Acc = 0.2301, Validation Acc = 0.2297\n",
      "Epoch 4: Training Loss = 0.4497, Validation Loss = 0.4560, Training Acc = 0.2973, Validation Acc = 0.2867\n",
      "Epoch 5: Training Loss = 0.4499, Validation Loss = 0.4550, Training Acc = 0.3092, Validation Acc = 0.2933\n",
      "Epoch 6: Training Loss = 0.4501, Validation Loss = 0.4542, Training Acc = 0.2477, Validation Acc = 0.2327\n",
      "Epoch 7: Training Loss = 0.4501, Validation Loss = 0.4535, Training Acc = 0.1449, Validation Acc = 0.1318\n",
      "Epoch 8: Training Loss = 0.4502, Validation Loss = 0.4529, Training Acc = 0.1021, Validation Acc = 0.0923\n",
      "Epoch 9: Training Loss = 0.4502, Validation Loss = 0.4524, Training Acc = 0.1009, Validation Acc = 0.0917\n",
      "Epoch 10: Training Loss = 0.4502, Validation Loss = 0.4520, Training Acc = 0.1009, Validation Acc = 0.0917\n"
     ]
    },
    {
     "data": {
      "text/html": [],
      "text/plain": [
       "<IPython.core.display.HTML object>"
      ]
     },
     "metadata": {},
     "output_type": "display_data"
    },
    {
     "data": {
      "text/html": [
       "<br>    <style><br>        .wandb-row {<br>            display: flex;<br>            flex-direction: row;<br>            flex-wrap: wrap;<br>            justify-content: flex-start;<br>            width: 100%;<br>        }<br>        .wandb-col {<br>            display: flex;<br>            flex-direction: column;<br>            flex-basis: 100%;<br>            flex: 1;<br>            padding: 10px;<br>        }<br>    </style><br><div class=\"wandb-row\"><div class=\"wandb-col\"><h3>Run history:</h3><br/><table class=\"wandb\"><tr><td>epoch</td><td>▁▂▃▃▄▅▆▆▇█</td></tr><tr><td>training_accuracy</td><td>▁▃▅██▆▂▁▁▁</td></tr><tr><td>training_loss</td><td>▇▁▂▄▆▇████</td></tr><tr><td>validation_accuracy</td><td>▂▃▆██▆▂▁▁▁</td></tr><tr><td>validation_loss</td><td>█▆▅▄▃▃▂▂▁▁</td></tr></table><br/></div><div class=\"wandb-col\"><h3>Run summary:</h3><br/><table class=\"wandb\"><tr><td>epoch</td><td>10</td></tr><tr><td>training_accuracy</td><td>0.10093</td></tr><tr><td>training_loss</td><td>0.45017</td></tr><tr><td>validation_accuracy</td><td>0.09167</td></tr><tr><td>validation_loss</td><td>0.45196</td></tr></table><br/></div></div>"
      ],
      "text/plain": [
       "<IPython.core.display.HTML object>"
      ]
     },
     "metadata": {},
     "output_type": "display_data"
    },
    {
     "data": {
      "text/html": [
       " View run <strong style=\"color:#cdcd00\">lr_0.001_ac_relu_in_xavier_op_sgd_bs_16_L2_0.5_ep_10_nn_64_nh_5</strong> at: <a href='https://wandb.ai/cs24m037-iit-madras/DL_A1/runs/6f6fer73' target=\"_blank\">https://wandb.ai/cs24m037-iit-madras/DL_A1/runs/6f6fer73</a><br> View project at: <a href='https://wandb.ai/cs24m037-iit-madras/DL_A1' target=\"_blank\">https://wandb.ai/cs24m037-iit-madras/DL_A1</a><br>Synced 5 W&B file(s), 0 media file(s), 0 artifact file(s) and 0 other file(s)"
      ],
      "text/plain": [
       "<IPython.core.display.HTML object>"
      ]
     },
     "metadata": {},
     "output_type": "display_data"
    },
    {
     "data": {
      "text/html": [
       "Find logs at: <code>.\\wandb\\run-20250308_101010-6f6fer73\\logs</code>"
      ],
      "text/plain": [
       "<IPython.core.display.HTML object>"
      ]
     },
     "metadata": {},
     "output_type": "display_data"
    },
    {
     "name": "stderr",
     "output_type": "stream",
     "text": [
      "wandb: Agent Starting Run: hps4aw51 with config:\n",
      "wandb: \tL2_lamb: 0\n",
      "wandb: \tactivation_f: tanh\n",
      "wandb: \tbatch_size: 16\n",
      "wandb: \tepochs: 10\n",
      "wandb: \tinit_mode: random_uniform\n",
      "wandb: \tlearning_rate: 0.0001\n",
      "wandb: \tnum_hidden: 3\n",
      "wandb: \tnum_neurons: 32\n",
      "wandb: \toptimizer: momentum\n"
     ]
    },
    {
     "data": {
      "text/html": [
       "Tracking run with wandb version 0.19.7"
      ],
      "text/plain": [
       "<IPython.core.display.HTML object>"
      ]
     },
     "metadata": {},
     "output_type": "display_data"
    },
    {
     "data": {
      "text/html": [
       "Run data is saved locally in <code>c:\\Users\\RAMKUMAR\\Desktop\\iitm\\sem2\\DL\\wandb\\run-20250308_101036-hps4aw51</code>"
      ],
      "text/plain": [
       "<IPython.core.display.HTML object>"
      ]
     },
     "metadata": {},
     "output_type": "display_data"
    },
    {
     "data": {
      "text/html": [
       "Syncing run <strong><a href='https://wandb.ai/cs24m037-iit-madras/DL_A1/runs/hps4aw51' target=\"_blank\">lilac-sweep-74</a></strong> to <a href='https://wandb.ai/cs24m037-iit-madras/DL_A1' target=\"_blank\">Weights & Biases</a> (<a href='https://wandb.me/developer-guide' target=\"_blank\">docs</a>)<br>Sweep page: <a href='https://wandb.ai/cs24m037-iit-madras/DL_A1/sweeps/zbxy6yvx' target=\"_blank\">https://wandb.ai/cs24m037-iit-madras/DL_A1/sweeps/zbxy6yvx</a>"
      ],
      "text/plain": [
       "<IPython.core.display.HTML object>"
      ]
     },
     "metadata": {},
     "output_type": "display_data"
    },
    {
     "data": {
      "text/html": [
       " View project at <a href='https://wandb.ai/cs24m037-iit-madras/DL_A1' target=\"_blank\">https://wandb.ai/cs24m037-iit-madras/DL_A1</a>"
      ],
      "text/plain": [
       "<IPython.core.display.HTML object>"
      ]
     },
     "metadata": {},
     "output_type": "display_data"
    },
    {
     "data": {
      "text/html": [
       " View sweep at <a href='https://wandb.ai/cs24m037-iit-madras/DL_A1/sweeps/zbxy6yvx' target=\"_blank\">https://wandb.ai/cs24m037-iit-madras/DL_A1/sweeps/zbxy6yvx</a>"
      ],
      "text/plain": [
       "<IPython.core.display.HTML object>"
      ]
     },
     "metadata": {},
     "output_type": "display_data"
    },
    {
     "data": {
      "text/html": [
       " View run at <a href='https://wandb.ai/cs24m037-iit-madras/DL_A1/runs/hps4aw51' target=\"_blank\">https://wandb.ai/cs24m037-iit-madras/DL_A1/runs/hps4aw51</a>"
      ],
      "text/plain": [
       "<IPython.core.display.HTML object>"
      ]
     },
     "metadata": {},
     "output_type": "display_data"
    },
    {
     "name": "stdout",
     "output_type": "stream",
     "text": [
      "lr_0.0001_ac_tanh_in_random_uniform_op_momentum_bs_16_L2_0_ep_10_nn_32_nh_3\n",
      "Epoch 1: Training Loss = 0.4500, Validation Loss = 0.4500, Training Acc = 0.1001, Validation Acc = 0.0995\n",
      "Epoch 2: Training Loss = 0.4500, Validation Loss = 0.4500, Training Acc = 0.1001, Validation Acc = 0.0995\n",
      "Epoch 3: Training Loss = 0.4500, Validation Loss = 0.4500, Training Acc = 0.1001, Validation Acc = 0.0995\n",
      "Epoch 4: Training Loss = 0.4500, Validation Loss = 0.4500, Training Acc = 0.1001, Validation Acc = 0.0995\n",
      "Epoch 5: Training Loss = 0.4500, Validation Loss = 0.4500, Training Acc = 0.1001, Validation Acc = 0.0993\n",
      "Epoch 6: Training Loss = 0.4500, Validation Loss = 0.4500, Training Acc = 0.1002, Validation Acc = 0.0993\n",
      "Epoch 7: Training Loss = 0.4500, Validation Loss = 0.4500, Training Acc = 0.1004, Validation Acc = 0.0997\n",
      "Epoch 8: Training Loss = 0.4500, Validation Loss = 0.4500, Training Acc = 0.1006, Validation Acc = 0.1002\n",
      "Epoch 9: Training Loss = 0.4500, Validation Loss = 0.4500, Training Acc = 0.1011, Validation Acc = 0.0998\n",
      "Epoch 10: Training Loss = 0.4500, Validation Loss = 0.4500, Training Acc = 0.1017, Validation Acc = 0.1008\n"
     ]
    },
    {
     "data": {
      "text/html": [],
      "text/plain": [
       "<IPython.core.display.HTML object>"
      ]
     },
     "metadata": {},
     "output_type": "display_data"
    },
    {
     "data": {
      "text/html": [
       "<br>    <style><br>        .wandb-row {<br>            display: flex;<br>            flex-direction: row;<br>            flex-wrap: wrap;<br>            justify-content: flex-start;<br>            width: 100%;<br>        }<br>        .wandb-col {<br>            display: flex;<br>            flex-direction: column;<br>            flex-basis: 100%;<br>            flex: 1;<br>            padding: 10px;<br>        }<br>    </style><br><div class=\"wandb-row\"><div class=\"wandb-col\"><h3>Run history:</h3><br/><table class=\"wandb\"><tr><td>epoch</td><td>▁▂▃▃▄▅▆▆▇█</td></tr><tr><td>training_accuracy</td><td>▁▁▁▁▁▁▂▃▅█</td></tr><tr><td>training_loss</td><td>█▇▆▆▅▄▃▃▂▁</td></tr><tr><td>validation_accuracy</td><td>▂▂▂▂▁▁▃▅▃█</td></tr><tr><td>validation_loss</td><td>█▇▆▆▅▄▃▃▂▁</td></tr></table><br/></div><div class=\"wandb-col\"><h3>Run summary:</h3><br/><table class=\"wandb\"><tr><td>epoch</td><td>10</td></tr><tr><td>training_accuracy</td><td>0.10172</td></tr><tr><td>training_loss</td><td>0.45</td></tr><tr><td>validation_accuracy</td><td>0.10083</td></tr><tr><td>validation_loss</td><td>0.45</td></tr></table><br/></div></div>"
      ],
      "text/plain": [
       "<IPython.core.display.HTML object>"
      ]
     },
     "metadata": {},
     "output_type": "display_data"
    },
    {
     "data": {
      "text/html": [
       " View run <strong style=\"color:#cdcd00\">lr_0.0001_ac_tanh_in_random_uniform_op_momentum_bs_16_L2_0_ep_10_nn_32_nh_3</strong> at: <a href='https://wandb.ai/cs24m037-iit-madras/DL_A1/runs/hps4aw51' target=\"_blank\">https://wandb.ai/cs24m037-iit-madras/DL_A1/runs/hps4aw51</a><br> View project at: <a href='https://wandb.ai/cs24m037-iit-madras/DL_A1' target=\"_blank\">https://wandb.ai/cs24m037-iit-madras/DL_A1</a><br>Synced 5 W&B file(s), 0 media file(s), 0 artifact file(s) and 0 other file(s)"
      ],
      "text/plain": [
       "<IPython.core.display.HTML object>"
      ]
     },
     "metadata": {},
     "output_type": "display_data"
    },
    {
     "data": {
      "text/html": [
       "Find logs at: <code>.\\wandb\\run-20250308_101036-hps4aw51\\logs</code>"
      ],
      "text/plain": [
       "<IPython.core.display.HTML object>"
      ]
     },
     "metadata": {},
     "output_type": "display_data"
    },
    {
     "name": "stderr",
     "output_type": "stream",
     "text": [
      "wandb: Agent Starting Run: kbugr79p with config:\n",
      "wandb: \tL2_lamb: 0.5\n",
      "wandb: \tactivation_f: relu\n",
      "wandb: \tbatch_size: 16\n",
      "wandb: \tepochs: 10\n",
      "wandb: \tinit_mode: random_uniform\n",
      "wandb: \tlearning_rate: 0.0001\n",
      "wandb: \tnum_hidden: 5\n",
      "wandb: \tnum_neurons: 64\n",
      "wandb: \toptimizer: nadam\n"
     ]
    },
    {
     "data": {
      "text/html": [
       "Tracking run with wandb version 0.19.7"
      ],
      "text/plain": [
       "<IPython.core.display.HTML object>"
      ]
     },
     "metadata": {},
     "output_type": "display_data"
    },
    {
     "data": {
      "text/html": [
       "Run data is saved locally in <code>c:\\Users\\RAMKUMAR\\Desktop\\iitm\\sem2\\DL\\wandb\\run-20250308_101052-kbugr79p</code>"
      ],
      "text/plain": [
       "<IPython.core.display.HTML object>"
      ]
     },
     "metadata": {},
     "output_type": "display_data"
    },
    {
     "data": {
      "text/html": [
       "Syncing run <strong><a href='https://wandb.ai/cs24m037-iit-madras/DL_A1/runs/kbugr79p' target=\"_blank\">copper-sweep-75</a></strong> to <a href='https://wandb.ai/cs24m037-iit-madras/DL_A1' target=\"_blank\">Weights & Biases</a> (<a href='https://wandb.me/developer-guide' target=\"_blank\">docs</a>)<br>Sweep page: <a href='https://wandb.ai/cs24m037-iit-madras/DL_A1/sweeps/zbxy6yvx' target=\"_blank\">https://wandb.ai/cs24m037-iit-madras/DL_A1/sweeps/zbxy6yvx</a>"
      ],
      "text/plain": [
       "<IPython.core.display.HTML object>"
      ]
     },
     "metadata": {},
     "output_type": "display_data"
    },
    {
     "data": {
      "text/html": [
       " View project at <a href='https://wandb.ai/cs24m037-iit-madras/DL_A1' target=\"_blank\">https://wandb.ai/cs24m037-iit-madras/DL_A1</a>"
      ],
      "text/plain": [
       "<IPython.core.display.HTML object>"
      ]
     },
     "metadata": {},
     "output_type": "display_data"
    },
    {
     "data": {
      "text/html": [
       " View sweep at <a href='https://wandb.ai/cs24m037-iit-madras/DL_A1/sweeps/zbxy6yvx' target=\"_blank\">https://wandb.ai/cs24m037-iit-madras/DL_A1/sweeps/zbxy6yvx</a>"
      ],
      "text/plain": [
       "<IPython.core.display.HTML object>"
      ]
     },
     "metadata": {},
     "output_type": "display_data"
    },
    {
     "data": {
      "text/html": [
       " View run at <a href='https://wandb.ai/cs24m037-iit-madras/DL_A1/runs/kbugr79p' target=\"_blank\">https://wandb.ai/cs24m037-iit-madras/DL_A1/runs/kbugr79p</a>"
      ],
      "text/plain": [
       "<IPython.core.display.HTML object>"
      ]
     },
     "metadata": {},
     "output_type": "display_data"
    },
    {
     "name": "stdout",
     "output_type": "stream",
     "text": [
      "lr_0.0001_ac_relu_in_random_uniform_op_nadam_bs_16_L2_0.5_ep_10_nn_64_nh_5\n",
      "Epoch 1: Training Loss = 0.4500, Validation Loss = 0.4500, Training Acc = 0.1001, Validation Acc = 0.0995\n",
      "Epoch 2: Training Loss = 0.4500, Validation Loss = 0.4500, Training Acc = 0.1001, Validation Acc = 0.0995\n",
      "Epoch 3: Training Loss = 0.4500, Validation Loss = 0.4500, Training Acc = 0.1001, Validation Acc = 0.0995\n",
      "Epoch 4: Training Loss = 0.4500, Validation Loss = 0.4500, Training Acc = 0.1001, Validation Acc = 0.0995\n",
      "Epoch 5: Training Loss = 0.4500, Validation Loss = 0.4500, Training Acc = 0.1001, Validation Acc = 0.0995\n",
      "Epoch 6: Training Loss = 0.4500, Validation Loss = 0.4500, Training Acc = 0.1001, Validation Acc = 0.0995\n",
      "Epoch 7: Training Loss = 0.4500, Validation Loss = 0.4500, Training Acc = 0.1001, Validation Acc = 0.0995\n",
      "Epoch 8: Training Loss = 0.4500, Validation Loss = 0.4500, Training Acc = 0.1001, Validation Acc = 0.0995\n",
      "Epoch 9: Training Loss = 0.4500, Validation Loss = 0.4500, Training Acc = 0.1001, Validation Acc = 0.0995\n",
      "Epoch 10: Training Loss = 0.4500, Validation Loss = 0.4500, Training Acc = 0.1001, Validation Acc = 0.0995\n"
     ]
    },
    {
     "data": {
      "text/html": [],
      "text/plain": [
       "<IPython.core.display.HTML object>"
      ]
     },
     "metadata": {},
     "output_type": "display_data"
    },
    {
     "data": {
      "text/html": [
       "<br>    <style><br>        .wandb-row {<br>            display: flex;<br>            flex-direction: row;<br>            flex-wrap: wrap;<br>            justify-content: flex-start;<br>            width: 100%;<br>        }<br>        .wandb-col {<br>            display: flex;<br>            flex-direction: column;<br>            flex-basis: 100%;<br>            flex: 1;<br>            padding: 10px;<br>        }<br>    </style><br><div class=\"wandb-row\"><div class=\"wandb-col\"><h3>Run history:</h3><br/><table class=\"wandb\"><tr><td>epoch</td><td>▁▂▃▃▄▅▆▆▇█</td></tr><tr><td>training_accuracy</td><td>▁▁▁▁▁▁▁▁▁▁</td></tr><tr><td>training_loss</td><td>▁▁▁▁▁▁▁▁▁▁</td></tr><tr><td>validation_accuracy</td><td>▁▁▁▁▁▁▁▁▁▁</td></tr><tr><td>validation_loss</td><td>▁▁▁▁▁▁▁▁▁▁</td></tr></table><br/></div><div class=\"wandb-col\"><h3>Run summary:</h3><br/><table class=\"wandb\"><tr><td>epoch</td><td>10</td></tr><tr><td>training_accuracy</td><td>0.10006</td></tr><tr><td>training_loss</td><td>0.45</td></tr><tr><td>validation_accuracy</td><td>0.0995</td></tr><tr><td>validation_loss</td><td>0.45</td></tr></table><br/></div></div>"
      ],
      "text/plain": [
       "<IPython.core.display.HTML object>"
      ]
     },
     "metadata": {},
     "output_type": "display_data"
    },
    {
     "data": {
      "text/html": [
       " View run <strong style=\"color:#cdcd00\">lr_0.0001_ac_relu_in_random_uniform_op_nadam_bs_16_L2_0.5_ep_10_nn_64_nh_5</strong> at: <a href='https://wandb.ai/cs24m037-iit-madras/DL_A1/runs/kbugr79p' target=\"_blank\">https://wandb.ai/cs24m037-iit-madras/DL_A1/runs/kbugr79p</a><br> View project at: <a href='https://wandb.ai/cs24m037-iit-madras/DL_A1' target=\"_blank\">https://wandb.ai/cs24m037-iit-madras/DL_A1</a><br>Synced 5 W&B file(s), 0 media file(s), 0 artifact file(s) and 0 other file(s)"
      ],
      "text/plain": [
       "<IPython.core.display.HTML object>"
      ]
     },
     "metadata": {},
     "output_type": "display_data"
    },
    {
     "data": {
      "text/html": [
       "Find logs at: <code>.\\wandb\\run-20250308_101052-kbugr79p\\logs</code>"
      ],
      "text/plain": [
       "<IPython.core.display.HTML object>"
      ]
     },
     "metadata": {},
     "output_type": "display_data"
    },
    {
     "name": "stderr",
     "output_type": "stream",
     "text": [
      "wandb: Sweep Agent: Waiting for job.\n",
      "wandb: Job received.\n",
      "wandb: Agent Starting Run: kb5mn10o with config:\n",
      "wandb: \tL2_lamb: 0\n",
      "wandb: \tactivation_f: sigmoid\n",
      "wandb: \tbatch_size: 64\n",
      "wandb: \tepochs: 5\n",
      "wandb: \tinit_mode: random_uniform\n",
      "wandb: \tlearning_rate: 0.001\n",
      "wandb: \tnum_hidden: 5\n",
      "wandb: \tnum_neurons: 128\n",
      "wandb: \toptimizer: adam\n"
     ]
    },
    {
     "data": {
      "text/html": [
       "creating run (0.0s)"
      ],
      "text/plain": [
       "<IPython.core.display.HTML object>"
      ]
     },
     "metadata": {},
     "output_type": "display_data"
    },
    {
     "data": {
      "text/html": [
       "Tracking run with wandb version 0.19.7"
      ],
      "text/plain": [
       "<IPython.core.display.HTML object>"
      ]
     },
     "metadata": {},
     "output_type": "display_data"
    },
    {
     "data": {
      "text/html": [
       "Run data is saved locally in <code>c:\\Users\\RAMKUMAR\\Desktop\\iitm\\sem2\\DL\\wandb\\run-20250308_101144-kb5mn10o</code>"
      ],
      "text/plain": [
       "<IPython.core.display.HTML object>"
      ]
     },
     "metadata": {},
     "output_type": "display_data"
    },
    {
     "data": {
      "text/html": [
       "Syncing run <strong><a href='https://wandb.ai/cs24m037-iit-madras/DL_A1/runs/kb5mn10o' target=\"_blank\">visionary-sweep-76</a></strong> to <a href='https://wandb.ai/cs24m037-iit-madras/DL_A1' target=\"_blank\">Weights & Biases</a> (<a href='https://wandb.me/developer-guide' target=\"_blank\">docs</a>)<br>Sweep page: <a href='https://wandb.ai/cs24m037-iit-madras/DL_A1/sweeps/zbxy6yvx' target=\"_blank\">https://wandb.ai/cs24m037-iit-madras/DL_A1/sweeps/zbxy6yvx</a>"
      ],
      "text/plain": [
       "<IPython.core.display.HTML object>"
      ]
     },
     "metadata": {},
     "output_type": "display_data"
    },
    {
     "data": {
      "text/html": [
       " View project at <a href='https://wandb.ai/cs24m037-iit-madras/DL_A1' target=\"_blank\">https://wandb.ai/cs24m037-iit-madras/DL_A1</a>"
      ],
      "text/plain": [
       "<IPython.core.display.HTML object>"
      ]
     },
     "metadata": {},
     "output_type": "display_data"
    },
    {
     "data": {
      "text/html": [
       " View sweep at <a href='https://wandb.ai/cs24m037-iit-madras/DL_A1/sweeps/zbxy6yvx' target=\"_blank\">https://wandb.ai/cs24m037-iit-madras/DL_A1/sweeps/zbxy6yvx</a>"
      ],
      "text/plain": [
       "<IPython.core.display.HTML object>"
      ]
     },
     "metadata": {},
     "output_type": "display_data"
    },
    {
     "data": {
      "text/html": [
       " View run at <a href='https://wandb.ai/cs24m037-iit-madras/DL_A1/runs/kb5mn10o' target=\"_blank\">https://wandb.ai/cs24m037-iit-madras/DL_A1/runs/kb5mn10o</a>"
      ],
      "text/plain": [
       "<IPython.core.display.HTML object>"
      ]
     },
     "metadata": {},
     "output_type": "display_data"
    },
    {
     "name": "stdout",
     "output_type": "stream",
     "text": [
      "lr_0.001_ac_sigmoid_in_random_uniform_op_adam_bs_64_L2_0_ep_5_nn_128_nh_5\n",
      "Epoch 1: Training Loss = 0.4460, Validation Loss = 0.4463, Training Acc = 0.0996, Validation Acc = 0.1035\n",
      "Epoch 2: Training Loss = 0.4450, Validation Loss = 0.4453, Training Acc = 0.0996, Validation Acc = 0.1035\n",
      "Epoch 3: Training Loss = 0.4449, Validation Loss = 0.4453, Training Acc = 0.0996, Validation Acc = 0.1035\n",
      "Epoch 4: Training Loss = 0.4457, Validation Loss = 0.4461, Training Acc = 0.0996, Validation Acc = 0.1035\n",
      "Epoch 5: Training Loss = 0.4425, Validation Loss = 0.4428, Training Acc = 0.2002, Validation Acc = 0.1947\n"
     ]
    },
    {
     "data": {
      "text/html": [],
      "text/plain": [
       "<IPython.core.display.HTML object>"
      ]
     },
     "metadata": {},
     "output_type": "display_data"
    },
    {
     "data": {
      "text/html": [
       "<br>    <style><br>        .wandb-row {<br>            display: flex;<br>            flex-direction: row;<br>            flex-wrap: wrap;<br>            justify-content: flex-start;<br>            width: 100%;<br>        }<br>        .wandb-col {<br>            display: flex;<br>            flex-direction: column;<br>            flex-basis: 100%;<br>            flex: 1;<br>            padding: 10px;<br>        }<br>    </style><br><div class=\"wandb-row\"><div class=\"wandb-col\"><h3>Run history:</h3><br/><table class=\"wandb\"><tr><td>epoch</td><td>▁▃▅▆█</td></tr><tr><td>training_accuracy</td><td>▁▁▁▁█</td></tr><tr><td>training_loss</td><td>█▆▆▇▁</td></tr><tr><td>validation_accuracy</td><td>▁▁▁▁█</td></tr><tr><td>validation_loss</td><td>█▆▆█▁</td></tr></table><br/></div><div class=\"wandb-col\"><h3>Run summary:</h3><br/><table class=\"wandb\"><tr><td>epoch</td><td>5</td></tr><tr><td>training_accuracy</td><td>0.20019</td></tr><tr><td>training_loss</td><td>0.44251</td></tr><tr><td>validation_accuracy</td><td>0.19467</td></tr><tr><td>validation_loss</td><td>0.44281</td></tr></table><br/></div></div>"
      ],
      "text/plain": [
       "<IPython.core.display.HTML object>"
      ]
     },
     "metadata": {},
     "output_type": "display_data"
    },
    {
     "data": {
      "text/html": [
       " View run <strong style=\"color:#cdcd00\">lr_0.001_ac_sigmoid_in_random_uniform_op_adam_bs_64_L2_0_ep_5_nn_128_nh_5</strong> at: <a href='https://wandb.ai/cs24m037-iit-madras/DL_A1/runs/kb5mn10o' target=\"_blank\">https://wandb.ai/cs24m037-iit-madras/DL_A1/runs/kb5mn10o</a><br> View project at: <a href='https://wandb.ai/cs24m037-iit-madras/DL_A1' target=\"_blank\">https://wandb.ai/cs24m037-iit-madras/DL_A1</a><br>Synced 5 W&B file(s), 0 media file(s), 0 artifact file(s) and 0 other file(s)"
      ],
      "text/plain": [
       "<IPython.core.display.HTML object>"
      ]
     },
     "metadata": {},
     "output_type": "display_data"
    },
    {
     "data": {
      "text/html": [
       "Find logs at: <code>.\\wandb\\run-20250308_101144-kb5mn10o\\logs</code>"
      ],
      "text/plain": [
       "<IPython.core.display.HTML object>"
      ]
     },
     "metadata": {},
     "output_type": "display_data"
    },
    {
     "name": "stderr",
     "output_type": "stream",
     "text": [
      "wandb: Sweep Agent: Waiting for job.\n",
      "wandb: Job received.\n",
      "wandb: Agent Starting Run: 37z2d07y with config:\n",
      "wandb: \tL2_lamb: 0\n",
      "wandb: \tactivation_f: sigmoid\n",
      "wandb: \tbatch_size: 16\n",
      "wandb: \tepochs: 10\n",
      "wandb: \tinit_mode: xavier\n",
      "wandb: \tlearning_rate: 0.001\n",
      "wandb: \tnum_hidden: 5\n",
      "wandb: \tnum_neurons: 32\n",
      "wandb: \toptimizer: sgd\n"
     ]
    },
    {
     "data": {
      "text/html": [
       "Waiting for wandb.init()..."
      ],
      "text/plain": [
       "<IPython.core.display.HTML object>"
      ]
     },
     "metadata": {},
     "output_type": "display_data"
    },
    {
     "data": {
      "text/html": [
       "Tracking run with wandb version 0.19.7"
      ],
      "text/plain": [
       "<IPython.core.display.HTML object>"
      ]
     },
     "metadata": {},
     "output_type": "display_data"
    },
    {
     "data": {
      "text/html": [
       "Run data is saved locally in <code>c:\\Users\\RAMKUMAR\\Desktop\\iitm\\sem2\\DL\\wandb\\run-20250308_101222-37z2d07y</code>"
      ],
      "text/plain": [
       "<IPython.core.display.HTML object>"
      ]
     },
     "metadata": {},
     "output_type": "display_data"
    },
    {
     "data": {
      "text/html": [
       "Syncing run <strong><a href='https://wandb.ai/cs24m037-iit-madras/DL_A1/runs/37z2d07y' target=\"_blank\">rich-sweep-77</a></strong> to <a href='https://wandb.ai/cs24m037-iit-madras/DL_A1' target=\"_blank\">Weights & Biases</a> (<a href='https://wandb.me/developer-guide' target=\"_blank\">docs</a>)<br>Sweep page: <a href='https://wandb.ai/cs24m037-iit-madras/DL_A1/sweeps/zbxy6yvx' target=\"_blank\">https://wandb.ai/cs24m037-iit-madras/DL_A1/sweeps/zbxy6yvx</a>"
      ],
      "text/plain": [
       "<IPython.core.display.HTML object>"
      ]
     },
     "metadata": {},
     "output_type": "display_data"
    },
    {
     "data": {
      "text/html": [
       " View project at <a href='https://wandb.ai/cs24m037-iit-madras/DL_A1' target=\"_blank\">https://wandb.ai/cs24m037-iit-madras/DL_A1</a>"
      ],
      "text/plain": [
       "<IPython.core.display.HTML object>"
      ]
     },
     "metadata": {},
     "output_type": "display_data"
    },
    {
     "data": {
      "text/html": [
       " View sweep at <a href='https://wandb.ai/cs24m037-iit-madras/DL_A1/sweeps/zbxy6yvx' target=\"_blank\">https://wandb.ai/cs24m037-iit-madras/DL_A1/sweeps/zbxy6yvx</a>"
      ],
      "text/plain": [
       "<IPython.core.display.HTML object>"
      ]
     },
     "metadata": {},
     "output_type": "display_data"
    },
    {
     "data": {
      "text/html": [
       " View run at <a href='https://wandb.ai/cs24m037-iit-madras/DL_A1/runs/37z2d07y' target=\"_blank\">https://wandb.ai/cs24m037-iit-madras/DL_A1/runs/37z2d07y</a>"
      ],
      "text/plain": [
       "<IPython.core.display.HTML object>"
      ]
     },
     "metadata": {},
     "output_type": "display_data"
    },
    {
     "name": "stdout",
     "output_type": "stream",
     "text": [
      "lr_0.001_ac_sigmoid_in_xavier_op_sgd_bs_16_L2_0_ep_10_nn_32_nh_5\n",
      "Epoch 1: Training Loss = 0.4537, Validation Loss = 0.4538, Training Acc = 0.0998, Validation Acc = 0.1018\n",
      "Epoch 2: Training Loss = 0.4522, Validation Loss = 0.4523, Training Acc = 0.0998, Validation Acc = 0.1018\n",
      "Epoch 3: Training Loss = 0.4513, Validation Loss = 0.4514, Training Acc = 0.0998, Validation Acc = 0.1018\n",
      "Epoch 4: Training Loss = 0.4508, Validation Loss = 0.4509, Training Acc = 0.0998, Validation Acc = 0.1018\n",
      "Epoch 5: Training Loss = 0.4505, Validation Loss = 0.4506, Training Acc = 0.0998, Validation Acc = 0.1018\n",
      "Epoch 6: Training Loss = 0.4503, Validation Loss = 0.4504, Training Acc = 0.0996, Validation Acc = 0.1015\n",
      "Epoch 7: Training Loss = 0.4502, Validation Loss = 0.4502, Training Acc = 0.0968, Validation Acc = 0.0978\n",
      "Epoch 8: Training Loss = 0.4501, Validation Loss = 0.4502, Training Acc = 0.0948, Validation Acc = 0.0932\n",
      "Epoch 9: Training Loss = 0.4501, Validation Loss = 0.4501, Training Acc = 0.0987, Validation Acc = 0.0968\n",
      "Epoch 10: Training Loss = 0.4500, Validation Loss = 0.4501, Training Acc = 0.1001, Validation Acc = 0.0983\n"
     ]
    },
    {
     "data": {
      "text/html": [],
      "text/plain": [
       "<IPython.core.display.HTML object>"
      ]
     },
     "metadata": {},
     "output_type": "display_data"
    },
    {
     "data": {
      "text/html": [
       "<br>    <style><br>        .wandb-row {<br>            display: flex;<br>            flex-direction: row;<br>            flex-wrap: wrap;<br>            justify-content: flex-start;<br>            width: 100%;<br>        }<br>        .wandb-col {<br>            display: flex;<br>            flex-direction: column;<br>            flex-basis: 100%;<br>            flex: 1;<br>            padding: 10px;<br>        }<br>    </style><br><div class=\"wandb-row\"><div class=\"wandb-col\"><h3>Run history:</h3><br/><table class=\"wandb\"><tr><td>epoch</td><td>▁▂▃▃▄▅▆▆▇█</td></tr><tr><td>training_accuracy</td><td>█████▇▄▁▆█</td></tr><tr><td>training_loss</td><td>█▅▃▃▂▂▁▁▁▁</td></tr><tr><td>validation_accuracy</td><td>██████▅▁▄▅</td></tr><tr><td>validation_loss</td><td>█▅▄▃▂▂▁▁▁▁</td></tr></table><br/></div><div class=\"wandb-col\"><h3>Run summary:</h3><br/><table class=\"wandb\"><tr><td>epoch</td><td>10</td></tr><tr><td>training_accuracy</td><td>0.10006</td></tr><tr><td>training_loss</td><td>0.45004</td></tr><tr><td>validation_accuracy</td><td>0.09833</td></tr><tr><td>validation_loss</td><td>0.45006</td></tr></table><br/></div></div>"
      ],
      "text/plain": [
       "<IPython.core.display.HTML object>"
      ]
     },
     "metadata": {},
     "output_type": "display_data"
    },
    {
     "data": {
      "text/html": [
       " View run <strong style=\"color:#cdcd00\">lr_0.001_ac_sigmoid_in_xavier_op_sgd_bs_16_L2_0_ep_10_nn_32_nh_5</strong> at: <a href='https://wandb.ai/cs24m037-iit-madras/DL_A1/runs/37z2d07y' target=\"_blank\">https://wandb.ai/cs24m037-iit-madras/DL_A1/runs/37z2d07y</a><br> View project at: <a href='https://wandb.ai/cs24m037-iit-madras/DL_A1' target=\"_blank\">https://wandb.ai/cs24m037-iit-madras/DL_A1</a><br>Synced 5 W&B file(s), 0 media file(s), 0 artifact file(s) and 0 other file(s)"
      ],
      "text/plain": [
       "<IPython.core.display.HTML object>"
      ]
     },
     "metadata": {},
     "output_type": "display_data"
    },
    {
     "data": {
      "text/html": [
       "Find logs at: <code>.\\wandb\\run-20250308_101222-37z2d07y\\logs</code>"
      ],
      "text/plain": [
       "<IPython.core.display.HTML object>"
      ]
     },
     "metadata": {},
     "output_type": "display_data"
    },
    {
     "name": "stderr",
     "output_type": "stream",
     "text": [
      "wandb: Agent Starting Run: rmd6g8sl with config:\n",
      "wandb: \tL2_lamb: 0.0005\n",
      "wandb: \tactivation_f: tanh\n",
      "wandb: \tbatch_size: 16\n",
      "wandb: \tepochs: 10\n",
      "wandb: \tinit_mode: xavier\n",
      "wandb: \tlearning_rate: 0.001\n",
      "wandb: \tnum_hidden: 3\n",
      "wandb: \tnum_neurons: 32\n",
      "wandb: \toptimizer: nesterov\n"
     ]
    },
    {
     "data": {
      "text/html": [
       "Tracking run with wandb version 0.19.7"
      ],
      "text/plain": [
       "<IPython.core.display.HTML object>"
      ]
     },
     "metadata": {},
     "output_type": "display_data"
    },
    {
     "data": {
      "text/html": [
       "Run data is saved locally in <code>c:\\Users\\RAMKUMAR\\Desktop\\iitm\\sem2\\DL\\wandb\\run-20250308_101243-rmd6g8sl</code>"
      ],
      "text/plain": [
       "<IPython.core.display.HTML object>"
      ]
     },
     "metadata": {},
     "output_type": "display_data"
    },
    {
     "data": {
      "text/html": [
       "Syncing run <strong><a href='https://wandb.ai/cs24m037-iit-madras/DL_A1/runs/rmd6g8sl' target=\"_blank\">fresh-sweep-78</a></strong> to <a href='https://wandb.ai/cs24m037-iit-madras/DL_A1' target=\"_blank\">Weights & Biases</a> (<a href='https://wandb.me/developer-guide' target=\"_blank\">docs</a>)<br>Sweep page: <a href='https://wandb.ai/cs24m037-iit-madras/DL_A1/sweeps/zbxy6yvx' target=\"_blank\">https://wandb.ai/cs24m037-iit-madras/DL_A1/sweeps/zbxy6yvx</a>"
      ],
      "text/plain": [
       "<IPython.core.display.HTML object>"
      ]
     },
     "metadata": {},
     "output_type": "display_data"
    },
    {
     "data": {
      "text/html": [
       " View project at <a href='https://wandb.ai/cs24m037-iit-madras/DL_A1' target=\"_blank\">https://wandb.ai/cs24m037-iit-madras/DL_A1</a>"
      ],
      "text/plain": [
       "<IPython.core.display.HTML object>"
      ]
     },
     "metadata": {},
     "output_type": "display_data"
    },
    {
     "data": {
      "text/html": [
       " View sweep at <a href='https://wandb.ai/cs24m037-iit-madras/DL_A1/sweeps/zbxy6yvx' target=\"_blank\">https://wandb.ai/cs24m037-iit-madras/DL_A1/sweeps/zbxy6yvx</a>"
      ],
      "text/plain": [
       "<IPython.core.display.HTML object>"
      ]
     },
     "metadata": {},
     "output_type": "display_data"
    },
    {
     "data": {
      "text/html": [
       " View run at <a href='https://wandb.ai/cs24m037-iit-madras/DL_A1/runs/rmd6g8sl' target=\"_blank\">https://wandb.ai/cs24m037-iit-madras/DL_A1/runs/rmd6g8sl</a>"
      ],
      "text/plain": [
       "<IPython.core.display.HTML object>"
      ]
     },
     "metadata": {},
     "output_type": "display_data"
    },
    {
     "name": "stdout",
     "output_type": "stream",
     "text": [
      "lr_0.001_ac_tanh_in_xavier_op_nesterov_bs_16_L2_0.0005_ep_10_nn_32_nh_3\n",
      "Epoch 1: Training Loss = 0.4030, Validation Loss = 0.4035, Training Acc = 0.3671, Validation Acc = 0.3700\n",
      "Epoch 2: Training Loss = 0.3559, Validation Loss = 0.3571, Training Acc = 0.5071, Validation Acc = 0.5058\n",
      "Epoch 3: Training Loss = 0.3232, Validation Loss = 0.3250, Training Acc = 0.5615, Validation Acc = 0.5575\n",
      "Epoch 4: Training Loss = 0.2986, Validation Loss = 0.3008, Training Acc = 0.6062, Validation Acc = 0.6008\n",
      "Epoch 5: Training Loss = 0.2784, Validation Loss = 0.2809, Training Acc = 0.6396, Validation Acc = 0.6378\n",
      "Epoch 6: Training Loss = 0.2603, Validation Loss = 0.2631, Training Acc = 0.6683, Validation Acc = 0.6605\n",
      "Epoch 7: Training Loss = 0.2441, Validation Loss = 0.2472, Training Acc = 0.6924, Validation Acc = 0.6837\n",
      "Epoch 8: Training Loss = 0.2299, Validation Loss = 0.2332, Training Acc = 0.7128, Validation Acc = 0.7053\n",
      "Epoch 9: Training Loss = 0.2178, Validation Loss = 0.2212, Training Acc = 0.7294, Validation Acc = 0.7222\n",
      "Epoch 10: Training Loss = 0.2076, Validation Loss = 0.2111, Training Acc = 0.7425, Validation Acc = 0.7332\n"
     ]
    },
    {
     "data": {
      "text/html": [],
      "text/plain": [
       "<IPython.core.display.HTML object>"
      ]
     },
     "metadata": {},
     "output_type": "display_data"
    },
    {
     "data": {
      "text/html": [
       "<br>    <style><br>        .wandb-row {<br>            display: flex;<br>            flex-direction: row;<br>            flex-wrap: wrap;<br>            justify-content: flex-start;<br>            width: 100%;<br>        }<br>        .wandb-col {<br>            display: flex;<br>            flex-direction: column;<br>            flex-basis: 100%;<br>            flex: 1;<br>            padding: 10px;<br>        }<br>    </style><br><div class=\"wandb-row\"><div class=\"wandb-col\"><h3>Run history:</h3><br/><table class=\"wandb\"><tr><td>epoch</td><td>▁▂▃▃▄▅▆▆▇█</td></tr><tr><td>training_accuracy</td><td>▁▄▅▅▆▇▇▇██</td></tr><tr><td>training_loss</td><td>█▆▅▄▄▃▂▂▁▁</td></tr><tr><td>validation_accuracy</td><td>▁▄▅▅▆▇▇▇██</td></tr><tr><td>validation_loss</td><td>█▆▅▄▄▃▂▂▁▁</td></tr></table><br/></div><div class=\"wandb-col\"><h3>Run summary:</h3><br/><table class=\"wandb\"><tr><td>epoch</td><td>10</td></tr><tr><td>training_accuracy</td><td>0.74248</td></tr><tr><td>training_loss</td><td>0.20757</td></tr><tr><td>validation_accuracy</td><td>0.73317</td></tr><tr><td>validation_loss</td><td>0.21109</td></tr></table><br/></div></div>"
      ],
      "text/plain": [
       "<IPython.core.display.HTML object>"
      ]
     },
     "metadata": {},
     "output_type": "display_data"
    },
    {
     "data": {
      "text/html": [
       " View run <strong style=\"color:#cdcd00\">lr_0.001_ac_tanh_in_xavier_op_nesterov_bs_16_L2_0.0005_ep_10_nn_32_nh_3</strong> at: <a href='https://wandb.ai/cs24m037-iit-madras/DL_A1/runs/rmd6g8sl' target=\"_blank\">https://wandb.ai/cs24m037-iit-madras/DL_A1/runs/rmd6g8sl</a><br> View project at: <a href='https://wandb.ai/cs24m037-iit-madras/DL_A1' target=\"_blank\">https://wandb.ai/cs24m037-iit-madras/DL_A1</a><br>Synced 5 W&B file(s), 0 media file(s), 0 artifact file(s) and 0 other file(s)"
      ],
      "text/plain": [
       "<IPython.core.display.HTML object>"
      ]
     },
     "metadata": {},
     "output_type": "display_data"
    },
    {
     "data": {
      "text/html": [
       "Find logs at: <code>.\\wandb\\run-20250308_101243-rmd6g8sl\\logs</code>"
      ],
      "text/plain": [
       "<IPython.core.display.HTML object>"
      ]
     },
     "metadata": {},
     "output_type": "display_data"
    },
    {
     "name": "stderr",
     "output_type": "stream",
     "text": [
      "wandb: Agent Starting Run: iac9y000 with config:\n",
      "wandb: \tL2_lamb: 0.5\n",
      "wandb: \tactivation_f: relu\n",
      "wandb: \tbatch_size: 32\n",
      "wandb: \tepochs: 5\n",
      "wandb: \tinit_mode: random_uniform\n",
      "wandb: \tlearning_rate: 0.001\n",
      "wandb: \tnum_hidden: 4\n",
      "wandb: \tnum_neurons: 64\n",
      "wandb: \toptimizer: nadam\n"
     ]
    },
    {
     "data": {
      "text/html": [
       "Tracking run with wandb version 0.19.7"
      ],
      "text/plain": [
       "<IPython.core.display.HTML object>"
      ]
     },
     "metadata": {},
     "output_type": "display_data"
    },
    {
     "data": {
      "text/html": [
       "Run data is saved locally in <code>c:\\Users\\RAMKUMAR\\Desktop\\iitm\\sem2\\DL\\wandb\\run-20250308_101304-iac9y000</code>"
      ],
      "text/plain": [
       "<IPython.core.display.HTML object>"
      ]
     },
     "metadata": {},
     "output_type": "display_data"
    },
    {
     "data": {
      "text/html": [
       "Syncing run <strong><a href='https://wandb.ai/cs24m037-iit-madras/DL_A1/runs/iac9y000' target=\"_blank\">vital-sweep-79</a></strong> to <a href='https://wandb.ai/cs24m037-iit-madras/DL_A1' target=\"_blank\">Weights & Biases</a> (<a href='https://wandb.me/developer-guide' target=\"_blank\">docs</a>)<br>Sweep page: <a href='https://wandb.ai/cs24m037-iit-madras/DL_A1/sweeps/zbxy6yvx' target=\"_blank\">https://wandb.ai/cs24m037-iit-madras/DL_A1/sweeps/zbxy6yvx</a>"
      ],
      "text/plain": [
       "<IPython.core.display.HTML object>"
      ]
     },
     "metadata": {},
     "output_type": "display_data"
    },
    {
     "data": {
      "text/html": [
       " View project at <a href='https://wandb.ai/cs24m037-iit-madras/DL_A1' target=\"_blank\">https://wandb.ai/cs24m037-iit-madras/DL_A1</a>"
      ],
      "text/plain": [
       "<IPython.core.display.HTML object>"
      ]
     },
     "metadata": {},
     "output_type": "display_data"
    },
    {
     "data": {
      "text/html": [
       " View sweep at <a href='https://wandb.ai/cs24m037-iit-madras/DL_A1/sweeps/zbxy6yvx' target=\"_blank\">https://wandb.ai/cs24m037-iit-madras/DL_A1/sweeps/zbxy6yvx</a>"
      ],
      "text/plain": [
       "<IPython.core.display.HTML object>"
      ]
     },
     "metadata": {},
     "output_type": "display_data"
    },
    {
     "data": {
      "text/html": [
       " View run at <a href='https://wandb.ai/cs24m037-iit-madras/DL_A1/runs/iac9y000' target=\"_blank\">https://wandb.ai/cs24m037-iit-madras/DL_A1/runs/iac9y000</a>"
      ],
      "text/plain": [
       "<IPython.core.display.HTML object>"
      ]
     },
     "metadata": {},
     "output_type": "display_data"
    },
    {
     "name": "stdout",
     "output_type": "stream",
     "text": [
      "lr_0.001_ac_relu_in_random_uniform_op_nadam_bs_32_L2_0.5_ep_5_nn_64_nh_4\n",
      "Epoch 1: Training Loss = 0.4500, Validation Loss = 0.4500, Training Acc = 0.1001, Validation Acc = 0.0995\n",
      "Epoch 2: Training Loss = 0.4500, Validation Loss = 0.4500, Training Acc = 0.1001, Validation Acc = 0.0995\n",
      "Epoch 3: Training Loss = 0.4500, Validation Loss = 0.4500, Training Acc = 0.1035, Validation Acc = 0.1032\n",
      "Epoch 4: Training Loss = 0.4500, Validation Loss = 0.4500, Training Acc = 0.0699, Validation Acc = 0.0717\n",
      "Epoch 5: Training Loss = 0.4500, Validation Loss = 0.4500, Training Acc = 0.1221, Validation Acc = 0.1183\n"
     ]
    },
    {
     "data": {
      "text/html": [],
      "text/plain": [
       "<IPython.core.display.HTML object>"
      ]
     },
     "metadata": {},
     "output_type": "display_data"
    },
    {
     "data": {
      "text/html": [
       "<br>    <style><br>        .wandb-row {<br>            display: flex;<br>            flex-direction: row;<br>            flex-wrap: wrap;<br>            justify-content: flex-start;<br>            width: 100%;<br>        }<br>        .wandb-col {<br>            display: flex;<br>            flex-direction: column;<br>            flex-basis: 100%;<br>            flex: 1;<br>            padding: 10px;<br>        }<br>    </style><br><div class=\"wandb-row\"><div class=\"wandb-col\"><h3>Run history:</h3><br/><table class=\"wandb\"><tr><td>epoch</td><td>▁▃▅▆█</td></tr><tr><td>training_accuracy</td><td>▅▅▆▁█</td></tr><tr><td>training_loss</td><td>▁▁▁██</td></tr><tr><td>validation_accuracy</td><td>▅▅▆▁█</td></tr><tr><td>validation_loss</td><td>▁████</td></tr></table><br/></div><div class=\"wandb-col\"><h3>Run summary:</h3><br/><table class=\"wandb\"><tr><td>epoch</td><td>5</td></tr><tr><td>training_accuracy</td><td>0.12206</td></tr><tr><td>training_loss</td><td>0.45</td></tr><tr><td>validation_accuracy</td><td>0.11833</td></tr><tr><td>validation_loss</td><td>0.45</td></tr></table><br/></div></div>"
      ],
      "text/plain": [
       "<IPython.core.display.HTML object>"
      ]
     },
     "metadata": {},
     "output_type": "display_data"
    },
    {
     "data": {
      "text/html": [
       " View run <strong style=\"color:#cdcd00\">lr_0.001_ac_relu_in_random_uniform_op_nadam_bs_32_L2_0.5_ep_5_nn_64_nh_4</strong> at: <a href='https://wandb.ai/cs24m037-iit-madras/DL_A1/runs/iac9y000' target=\"_blank\">https://wandb.ai/cs24m037-iit-madras/DL_A1/runs/iac9y000</a><br> View project at: <a href='https://wandb.ai/cs24m037-iit-madras/DL_A1' target=\"_blank\">https://wandb.ai/cs24m037-iit-madras/DL_A1</a><br>Synced 5 W&B file(s), 0 media file(s), 0 artifact file(s) and 0 other file(s)"
      ],
      "text/plain": [
       "<IPython.core.display.HTML object>"
      ]
     },
     "metadata": {},
     "output_type": "display_data"
    },
    {
     "data": {
      "text/html": [
       "Find logs at: <code>.\\wandb\\run-20250308_101304-iac9y000\\logs</code>"
      ],
      "text/plain": [
       "<IPython.core.display.HTML object>"
      ]
     },
     "metadata": {},
     "output_type": "display_data"
    },
    {
     "name": "stderr",
     "output_type": "stream",
     "text": [
      "wandb: Sweep Agent: Waiting for job.\n",
      "wandb: Job received.\n",
      "wandb: Agent Starting Run: icg6a9aj with config:\n",
      "wandb: \tL2_lamb: 0.5\n",
      "wandb: \tactivation_f: relu\n",
      "wandb: \tbatch_size: 32\n",
      "wandb: \tepochs: 5\n",
      "wandb: \tinit_mode: random_uniform\n",
      "wandb: \tlearning_rate: 0.001\n",
      "wandb: \tnum_hidden: 5\n",
      "wandb: \tnum_neurons: 64\n",
      "wandb: \toptimizer: sgd\n"
     ]
    },
    {
     "data": {
      "text/html": [
       "creating run (0.0s)"
      ],
      "text/plain": [
       "<IPython.core.display.HTML object>"
      ]
     },
     "metadata": {},
     "output_type": "display_data"
    },
    {
     "data": {
      "text/html": [
       "Tracking run with wandb version 0.19.7"
      ],
      "text/plain": [
       "<IPython.core.display.HTML object>"
      ]
     },
     "metadata": {},
     "output_type": "display_data"
    },
    {
     "data": {
      "text/html": [
       "Run data is saved locally in <code>c:\\Users\\RAMKUMAR\\Desktop\\iitm\\sem2\\DL\\wandb\\run-20250308_101330-icg6a9aj</code>"
      ],
      "text/plain": [
       "<IPython.core.display.HTML object>"
      ]
     },
     "metadata": {},
     "output_type": "display_data"
    },
    {
     "data": {
      "text/html": [
       "Syncing run <strong><a href='https://wandb.ai/cs24m037-iit-madras/DL_A1/runs/icg6a9aj' target=\"_blank\">amber-sweep-80</a></strong> to <a href='https://wandb.ai/cs24m037-iit-madras/DL_A1' target=\"_blank\">Weights & Biases</a> (<a href='https://wandb.me/developer-guide' target=\"_blank\">docs</a>)<br>Sweep page: <a href='https://wandb.ai/cs24m037-iit-madras/DL_A1/sweeps/zbxy6yvx' target=\"_blank\">https://wandb.ai/cs24m037-iit-madras/DL_A1/sweeps/zbxy6yvx</a>"
      ],
      "text/plain": [
       "<IPython.core.display.HTML object>"
      ]
     },
     "metadata": {},
     "output_type": "display_data"
    },
    {
     "data": {
      "text/html": [
       " View project at <a href='https://wandb.ai/cs24m037-iit-madras/DL_A1' target=\"_blank\">https://wandb.ai/cs24m037-iit-madras/DL_A1</a>"
      ],
      "text/plain": [
       "<IPython.core.display.HTML object>"
      ]
     },
     "metadata": {},
     "output_type": "display_data"
    },
    {
     "data": {
      "text/html": [
       " View sweep at <a href='https://wandb.ai/cs24m037-iit-madras/DL_A1/sweeps/zbxy6yvx' target=\"_blank\">https://wandb.ai/cs24m037-iit-madras/DL_A1/sweeps/zbxy6yvx</a>"
      ],
      "text/plain": [
       "<IPython.core.display.HTML object>"
      ]
     },
     "metadata": {},
     "output_type": "display_data"
    },
    {
     "data": {
      "text/html": [
       " View run at <a href='https://wandb.ai/cs24m037-iit-madras/DL_A1/runs/icg6a9aj' target=\"_blank\">https://wandb.ai/cs24m037-iit-madras/DL_A1/runs/icg6a9aj</a>"
      ],
      "text/plain": [
       "<IPython.core.display.HTML object>"
      ]
     },
     "metadata": {},
     "output_type": "display_data"
    },
    {
     "name": "stdout",
     "output_type": "stream",
     "text": [
      "lr_0.001_ac_relu_in_random_uniform_op_sgd_bs_32_L2_0.5_ep_5_nn_64_nh_5\n",
      "Epoch 1: Training Loss = 0.4500, Validation Loss = 0.4501, Training Acc = 0.1009, Validation Acc = 0.1000\n",
      "Epoch 2: Training Loss = 0.4500, Validation Loss = 0.4501, Training Acc = 0.1342, Validation Acc = 0.1290\n",
      "Epoch 3: Training Loss = 0.4500, Validation Loss = 0.4501, Training Acc = 0.1672, Validation Acc = 0.1575\n",
      "Epoch 4: Training Loss = 0.4500, Validation Loss = 0.4501, Training Acc = 0.1457, Validation Acc = 0.1390\n",
      "Epoch 5: Training Loss = 0.4500, Validation Loss = 0.4501, Training Acc = 0.1166, Validation Acc = 0.1070\n"
     ]
    },
    {
     "data": {
      "text/html": [],
      "text/plain": [
       "<IPython.core.display.HTML object>"
      ]
     },
     "metadata": {},
     "output_type": "display_data"
    },
    {
     "data": {
      "text/html": [
       "<br>    <style><br>        .wandb-row {<br>            display: flex;<br>            flex-direction: row;<br>            flex-wrap: wrap;<br>            justify-content: flex-start;<br>            width: 100%;<br>        }<br>        .wandb-col {<br>            display: flex;<br>            flex-direction: column;<br>            flex-basis: 100%;<br>            flex: 1;<br>            padding: 10px;<br>        }<br>    </style><br><div class=\"wandb-row\"><div class=\"wandb-col\"><h3>Run history:</h3><br/><table class=\"wandb\"><tr><td>epoch</td><td>▁▃▅▆█</td></tr><tr><td>training_accuracy</td><td>▁▅█▆▃</td></tr><tr><td>training_loss</td><td>█▅▃▂▁</td></tr><tr><td>validation_accuracy</td><td>▁▅█▆▂</td></tr><tr><td>validation_loss</td><td>█▆▄▃▁</td></tr></table><br/></div><div class=\"wandb-col\"><h3>Run summary:</h3><br/><table class=\"wandb\"><tr><td>epoch</td><td>5</td></tr><tr><td>training_accuracy</td><td>0.11661</td></tr><tr><td>training_loss</td><td>0.45001</td></tr><tr><td>validation_accuracy</td><td>0.107</td></tr><tr><td>validation_loss</td><td>0.45007</td></tr></table><br/></div></div>"
      ],
      "text/plain": [
       "<IPython.core.display.HTML object>"
      ]
     },
     "metadata": {},
     "output_type": "display_data"
    },
    {
     "data": {
      "text/html": [
       " View run <strong style=\"color:#cdcd00\">lr_0.001_ac_relu_in_random_uniform_op_sgd_bs_32_L2_0.5_ep_5_nn_64_nh_5</strong> at: <a href='https://wandb.ai/cs24m037-iit-madras/DL_A1/runs/icg6a9aj' target=\"_blank\">https://wandb.ai/cs24m037-iit-madras/DL_A1/runs/icg6a9aj</a><br> View project at: <a href='https://wandb.ai/cs24m037-iit-madras/DL_A1' target=\"_blank\">https://wandb.ai/cs24m037-iit-madras/DL_A1</a><br>Synced 5 W&B file(s), 0 media file(s), 0 artifact file(s) and 0 other file(s)"
      ],
      "text/plain": [
       "<IPython.core.display.HTML object>"
      ]
     },
     "metadata": {},
     "output_type": "display_data"
    },
    {
     "data": {
      "text/html": [
       "Find logs at: <code>.\\wandb\\run-20250308_101330-icg6a9aj\\logs</code>"
      ],
      "text/plain": [
       "<IPython.core.display.HTML object>"
      ]
     },
     "metadata": {},
     "output_type": "display_data"
    },
    {
     "name": "stderr",
     "output_type": "stream",
     "text": [
      "wandb: Agent Starting Run: dozd7xot with config:\n",
      "wandb: \tL2_lamb: 0.5\n",
      "wandb: \tactivation_f: relu\n",
      "wandb: \tbatch_size: 16\n",
      "wandb: \tepochs: 10\n",
      "wandb: \tinit_mode: random_uniform\n",
      "wandb: \tlearning_rate: 0.001\n",
      "wandb: \tnum_hidden: 5\n",
      "wandb: \tnum_neurons: 64\n",
      "wandb: \toptimizer: rmsprop\n"
     ]
    },
    {
     "data": {
      "text/html": [
       "Tracking run with wandb version 0.19.7"
      ],
      "text/plain": [
       "<IPython.core.display.HTML object>"
      ]
     },
     "metadata": {},
     "output_type": "display_data"
    },
    {
     "data": {
      "text/html": [
       "Run data is saved locally in <code>c:\\Users\\RAMKUMAR\\Desktop\\iitm\\sem2\\DL\\wandb\\run-20250308_101347-dozd7xot</code>"
      ],
      "text/plain": [
       "<IPython.core.display.HTML object>"
      ]
     },
     "metadata": {},
     "output_type": "display_data"
    },
    {
     "data": {
      "text/html": [
       "Syncing run <strong><a href='https://wandb.ai/cs24m037-iit-madras/DL_A1/runs/dozd7xot' target=\"_blank\">floral-sweep-81</a></strong> to <a href='https://wandb.ai/cs24m037-iit-madras/DL_A1' target=\"_blank\">Weights & Biases</a> (<a href='https://wandb.me/developer-guide' target=\"_blank\">docs</a>)<br>Sweep page: <a href='https://wandb.ai/cs24m037-iit-madras/DL_A1/sweeps/zbxy6yvx' target=\"_blank\">https://wandb.ai/cs24m037-iit-madras/DL_A1/sweeps/zbxy6yvx</a>"
      ],
      "text/plain": [
       "<IPython.core.display.HTML object>"
      ]
     },
     "metadata": {},
     "output_type": "display_data"
    },
    {
     "data": {
      "text/html": [
       " View project at <a href='https://wandb.ai/cs24m037-iit-madras/DL_A1' target=\"_blank\">https://wandb.ai/cs24m037-iit-madras/DL_A1</a>"
      ],
      "text/plain": [
       "<IPython.core.display.HTML object>"
      ]
     },
     "metadata": {},
     "output_type": "display_data"
    },
    {
     "data": {
      "text/html": [
       " View sweep at <a href='https://wandb.ai/cs24m037-iit-madras/DL_A1/sweeps/zbxy6yvx' target=\"_blank\">https://wandb.ai/cs24m037-iit-madras/DL_A1/sweeps/zbxy6yvx</a>"
      ],
      "text/plain": [
       "<IPython.core.display.HTML object>"
      ]
     },
     "metadata": {},
     "output_type": "display_data"
    },
    {
     "data": {
      "text/html": [
       " View run at <a href='https://wandb.ai/cs24m037-iit-madras/DL_A1/runs/dozd7xot' target=\"_blank\">https://wandb.ai/cs24m037-iit-madras/DL_A1/runs/dozd7xot</a>"
      ],
      "text/plain": [
       "<IPython.core.display.HTML object>"
      ]
     },
     "metadata": {},
     "output_type": "display_data"
    },
    {
     "name": "stdout",
     "output_type": "stream",
     "text": [
      "lr_0.001_ac_relu_in_random_uniform_op_rmsprop_bs_16_L2_0.5_ep_10_nn_64_nh_5\n",
      "Epoch 1: Training Loss = 0.4500, Validation Loss = 0.4500, Training Acc = 0.0996, Validation Acc = 0.1035\n",
      "Epoch 2: Training Loss = 0.4500, Validation Loss = 0.4500, Training Acc = 0.0996, Validation Acc = 0.1035\n",
      "Epoch 3: Training Loss = 0.4500, Validation Loss = 0.4500, Training Acc = 0.0996, Validation Acc = 0.1035\n",
      "Epoch 4: Training Loss = 0.4500, Validation Loss = 0.4500, Training Acc = 0.0996, Validation Acc = 0.1035\n",
      "Epoch 5: Training Loss = 0.4500, Validation Loss = 0.4500, Training Acc = 0.0996, Validation Acc = 0.1035\n",
      "Epoch 6: Training Loss = 0.4500, Validation Loss = 0.4500, Training Acc = 0.0996, Validation Acc = 0.1035\n",
      "Epoch 7: Training Loss = 0.4500, Validation Loss = 0.4500, Training Acc = 0.0996, Validation Acc = 0.1035\n",
      "Epoch 8: Training Loss = 0.4500, Validation Loss = 0.4500, Training Acc = 0.0996, Validation Acc = 0.1035\n",
      "Epoch 9: Training Loss = 0.4500, Validation Loss = 0.4500, Training Acc = 0.0996, Validation Acc = 0.1035\n",
      "Epoch 10: Training Loss = 0.4500, Validation Loss = 0.4500, Training Acc = 0.0996, Validation Acc = 0.1035\n"
     ]
    },
    {
     "data": {
      "text/html": [],
      "text/plain": [
       "<IPython.core.display.HTML object>"
      ]
     },
     "metadata": {},
     "output_type": "display_data"
    },
    {
     "data": {
      "text/html": [
       "<br>    <style><br>        .wandb-row {<br>            display: flex;<br>            flex-direction: row;<br>            flex-wrap: wrap;<br>            justify-content: flex-start;<br>            width: 100%;<br>        }<br>        .wandb-col {<br>            display: flex;<br>            flex-direction: column;<br>            flex-basis: 100%;<br>            flex: 1;<br>            padding: 10px;<br>        }<br>    </style><br><div class=\"wandb-row\"><div class=\"wandb-col\"><h3>Run history:</h3><br/><table class=\"wandb\"><tr><td>epoch</td><td>▁▂▃▃▄▅▆▆▇█</td></tr><tr><td>training_accuracy</td><td>▁▁▁▁▁▁▁▁▁▁</td></tr><tr><td>training_loss</td><td>█▁▁▁▁▁▁▁▁▁</td></tr><tr><td>validation_accuracy</td><td>▁▁▁▁▁▁▁▁▁▁</td></tr><tr><td>validation_loss</td><td>█▁▃▅▅▅▅▅▅▅</td></tr></table><br/></div><div class=\"wandb-col\"><h3>Run summary:</h3><br/><table class=\"wandb\"><tr><td>epoch</td><td>10</td></tr><tr><td>training_accuracy</td><td>0.09961</td></tr><tr><td>training_loss</td><td>0.45</td></tr><tr><td>validation_accuracy</td><td>0.1035</td></tr><tr><td>validation_loss</td><td>0.45</td></tr></table><br/></div></div>"
      ],
      "text/plain": [
       "<IPython.core.display.HTML object>"
      ]
     },
     "metadata": {},
     "output_type": "display_data"
    },
    {
     "data": {
      "text/html": [
       " View run <strong style=\"color:#cdcd00\">lr_0.001_ac_relu_in_random_uniform_op_rmsprop_bs_16_L2_0.5_ep_10_nn_64_nh_5</strong> at: <a href='https://wandb.ai/cs24m037-iit-madras/DL_A1/runs/dozd7xot' target=\"_blank\">https://wandb.ai/cs24m037-iit-madras/DL_A1/runs/dozd7xot</a><br> View project at: <a href='https://wandb.ai/cs24m037-iit-madras/DL_A1' target=\"_blank\">https://wandb.ai/cs24m037-iit-madras/DL_A1</a><br>Synced 5 W&B file(s), 0 media file(s), 0 artifact file(s) and 0 other file(s)"
      ],
      "text/plain": [
       "<IPython.core.display.HTML object>"
      ]
     },
     "metadata": {},
     "output_type": "display_data"
    },
    {
     "data": {
      "text/html": [
       "Find logs at: <code>.\\wandb\\run-20250308_101347-dozd7xot\\logs</code>"
      ],
      "text/plain": [
       "<IPython.core.display.HTML object>"
      ]
     },
     "metadata": {},
     "output_type": "display_data"
    },
    {
     "name": "stderr",
     "output_type": "stream",
     "text": [
      "wandb: Agent Starting Run: esrt1s15 with config:\n",
      "wandb: \tL2_lamb: 0.0005\n",
      "wandb: \tactivation_f: sigmoid\n",
      "wandb: \tbatch_size: 32\n",
      "wandb: \tepochs: 10\n",
      "wandb: \tinit_mode: random_uniform\n",
      "wandb: \tlearning_rate: 0.001\n",
      "wandb: \tnum_hidden: 4\n",
      "wandb: \tnum_neurons: 32\n",
      "wandb: \toptimizer: sgd\n"
     ]
    },
    {
     "data": {
      "text/html": [
       "Tracking run with wandb version 0.19.7"
      ],
      "text/plain": [
       "<IPython.core.display.HTML object>"
      ]
     },
     "metadata": {},
     "output_type": "display_data"
    },
    {
     "data": {
      "text/html": [
       "Run data is saved locally in <code>c:\\Users\\RAMKUMAR\\Desktop\\iitm\\sem2\\DL\\wandb\\run-20250308_101831-esrt1s15</code>"
      ],
      "text/plain": [
       "<IPython.core.display.HTML object>"
      ]
     },
     "metadata": {},
     "output_type": "display_data"
    },
    {
     "data": {
      "text/html": [
       "Syncing run <strong><a href='https://wandb.ai/cs24m037-iit-madras/DL_A1/runs/esrt1s15' target=\"_blank\">jolly-sweep-82</a></strong> to <a href='https://wandb.ai/cs24m037-iit-madras/DL_A1' target=\"_blank\">Weights & Biases</a> (<a href='https://wandb.me/developer-guide' target=\"_blank\">docs</a>)<br>Sweep page: <a href='https://wandb.ai/cs24m037-iit-madras/DL_A1/sweeps/zbxy6yvx' target=\"_blank\">https://wandb.ai/cs24m037-iit-madras/DL_A1/sweeps/zbxy6yvx</a>"
      ],
      "text/plain": [
       "<IPython.core.display.HTML object>"
      ]
     },
     "metadata": {},
     "output_type": "display_data"
    },
    {
     "data": {
      "text/html": [
       " View project at <a href='https://wandb.ai/cs24m037-iit-madras/DL_A1' target=\"_blank\">https://wandb.ai/cs24m037-iit-madras/DL_A1</a>"
      ],
      "text/plain": [
       "<IPython.core.display.HTML object>"
      ]
     },
     "metadata": {},
     "output_type": "display_data"
    },
    {
     "data": {
      "text/html": [
       " View sweep at <a href='https://wandb.ai/cs24m037-iit-madras/DL_A1/sweeps/zbxy6yvx' target=\"_blank\">https://wandb.ai/cs24m037-iit-madras/DL_A1/sweeps/zbxy6yvx</a>"
      ],
      "text/plain": [
       "<IPython.core.display.HTML object>"
      ]
     },
     "metadata": {},
     "output_type": "display_data"
    },
    {
     "data": {
      "text/html": [
       " View run at <a href='https://wandb.ai/cs24m037-iit-madras/DL_A1/runs/esrt1s15' target=\"_blank\">https://wandb.ai/cs24m037-iit-madras/DL_A1/runs/esrt1s15</a>"
      ],
      "text/plain": [
       "<IPython.core.display.HTML object>"
      ]
     },
     "metadata": {},
     "output_type": "display_data"
    },
    {
     "name": "stdout",
     "output_type": "stream",
     "text": [
      "lr_0.001_ac_sigmoid_in_random_uniform_op_sgd_bs_32_L2_0.0005_ep_10_nn_32_nh_4\n",
      "Epoch 1: Training Loss = 0.4500, Validation Loss = 0.4500, Training Acc = 0.1002, Validation Acc = 0.0983\n",
      "Epoch 2: Training Loss = 0.4500, Validation Loss = 0.4500, Training Acc = 0.1002, Validation Acc = 0.0983\n",
      "Epoch 3: Training Loss = 0.4500, Validation Loss = 0.4500, Training Acc = 0.1002, Validation Acc = 0.0983\n",
      "Epoch 4: Training Loss = 0.4500, Validation Loss = 0.4500, Training Acc = 0.1002, Validation Acc = 0.0983\n",
      "Epoch 5: Training Loss = 0.4500, Validation Loss = 0.4500, Training Acc = 0.1002, Validation Acc = 0.0983\n",
      "Epoch 6: Training Loss = 0.4500, Validation Loss = 0.4500, Training Acc = 0.1002, Validation Acc = 0.0983\n",
      "Epoch 7: Training Loss = 0.4500, Validation Loss = 0.4500, Training Acc = 0.1002, Validation Acc = 0.0983\n",
      "Epoch 8: Training Loss = 0.4500, Validation Loss = 0.4500, Training Acc = 0.1002, Validation Acc = 0.0983\n",
      "Epoch 9: Training Loss = 0.4500, Validation Loss = 0.4500, Training Acc = 0.1002, Validation Acc = 0.0983\n",
      "Epoch 10: Training Loss = 0.4500, Validation Loss = 0.4500, Training Acc = 0.1009, Validation Acc = 0.0917\n"
     ]
    },
    {
     "data": {
      "text/html": [],
      "text/plain": [
       "<IPython.core.display.HTML object>"
      ]
     },
     "metadata": {},
     "output_type": "display_data"
    },
    {
     "data": {
      "text/html": [
       "<br>    <style><br>        .wandb-row {<br>            display: flex;<br>            flex-direction: row;<br>            flex-wrap: wrap;<br>            justify-content: flex-start;<br>            width: 100%;<br>        }<br>        .wandb-col {<br>            display: flex;<br>            flex-direction: column;<br>            flex-basis: 100%;<br>            flex: 1;<br>            padding: 10px;<br>        }<br>    </style><br><div class=\"wandb-row\"><div class=\"wandb-col\"><h3>Run history:</h3><br/><table class=\"wandb\"><tr><td>epoch</td><td>▁▂▃▃▄▅▆▆▇█</td></tr><tr><td>training_accuracy</td><td>▁▁▁▁▁▁▁▁▁█</td></tr><tr><td>training_loss</td><td>█▆▅▄▃▂▂▁▁▁</td></tr><tr><td>validation_accuracy</td><td>█████████▁</td></tr><tr><td>validation_loss</td><td>▁▂▃▄▅▆▆▇██</td></tr></table><br/></div><div class=\"wandb-col\"><h3>Run summary:</h3><br/><table class=\"wandb\"><tr><td>epoch</td><td>10</td></tr><tr><td>training_accuracy</td><td>0.10093</td></tr><tr><td>training_loss</td><td>0.45</td></tr><tr><td>validation_accuracy</td><td>0.09167</td></tr><tr><td>validation_loss</td><td>0.45001</td></tr></table><br/></div></div>"
      ],
      "text/plain": [
       "<IPython.core.display.HTML object>"
      ]
     },
     "metadata": {},
     "output_type": "display_data"
    },
    {
     "data": {
      "text/html": [
       " View run <strong style=\"color:#cdcd00\">lr_0.001_ac_sigmoid_in_random_uniform_op_sgd_bs_32_L2_0.0005_ep_10_nn_32_nh_4</strong> at: <a href='https://wandb.ai/cs24m037-iit-madras/DL_A1/runs/esrt1s15' target=\"_blank\">https://wandb.ai/cs24m037-iit-madras/DL_A1/runs/esrt1s15</a><br> View project at: <a href='https://wandb.ai/cs24m037-iit-madras/DL_A1' target=\"_blank\">https://wandb.ai/cs24m037-iit-madras/DL_A1</a><br>Synced 5 W&B file(s), 0 media file(s), 0 artifact file(s) and 0 other file(s)"
      ],
      "text/plain": [
       "<IPython.core.display.HTML object>"
      ]
     },
     "metadata": {},
     "output_type": "display_data"
    },
    {
     "data": {
      "text/html": [
       "Find logs at: <code>.\\wandb\\run-20250308_101831-esrt1s15\\logs</code>"
      ],
      "text/plain": [
       "<IPython.core.display.HTML object>"
      ]
     },
     "metadata": {},
     "output_type": "display_data"
    },
    {
     "name": "stderr",
     "output_type": "stream",
     "text": [
      "wandb: Sweep Agent: Waiting for job.\n",
      "wandb: Job received.\n",
      "wandb: Agent Starting Run: 4wob1ync with config:\n",
      "wandb: \tL2_lamb: 0.0005\n",
      "wandb: \tactivation_f: relu\n",
      "wandb: \tbatch_size: 16\n",
      "wandb: \tepochs: 5\n",
      "wandb: \tinit_mode: random_uniform\n",
      "wandb: \tlearning_rate: 0.0001\n",
      "wandb: \tnum_hidden: 4\n",
      "wandb: \tnum_neurons: 32\n",
      "wandb: \toptimizer: adam\n"
     ]
    },
    {
     "data": {
      "text/html": [
       "creating run (0.0s)"
      ],
      "text/plain": [
       "<IPython.core.display.HTML object>"
      ]
     },
     "metadata": {},
     "output_type": "display_data"
    },
    {
     "data": {
      "text/html": [
       "Tracking run with wandb version 0.19.7"
      ],
      "text/plain": [
       "<IPython.core.display.HTML object>"
      ]
     },
     "metadata": {},
     "output_type": "display_data"
    },
    {
     "data": {
      "text/html": [
       "Run data is saved locally in <code>c:\\Users\\RAMKUMAR\\Desktop\\iitm\\sem2\\DL\\wandb\\run-20250308_101857-4wob1ync</code>"
      ],
      "text/plain": [
       "<IPython.core.display.HTML object>"
      ]
     },
     "metadata": {},
     "output_type": "display_data"
    },
    {
     "data": {
      "text/html": [
       "Syncing run <strong><a href='https://wandb.ai/cs24m037-iit-madras/DL_A1/runs/4wob1ync' target=\"_blank\">ethereal-sweep-83</a></strong> to <a href='https://wandb.ai/cs24m037-iit-madras/DL_A1' target=\"_blank\">Weights & Biases</a> (<a href='https://wandb.me/developer-guide' target=\"_blank\">docs</a>)<br>Sweep page: <a href='https://wandb.ai/cs24m037-iit-madras/DL_A1/sweeps/zbxy6yvx' target=\"_blank\">https://wandb.ai/cs24m037-iit-madras/DL_A1/sweeps/zbxy6yvx</a>"
      ],
      "text/plain": [
       "<IPython.core.display.HTML object>"
      ]
     },
     "metadata": {},
     "output_type": "display_data"
    },
    {
     "data": {
      "text/html": [
       " View project at <a href='https://wandb.ai/cs24m037-iit-madras/DL_A1' target=\"_blank\">https://wandb.ai/cs24m037-iit-madras/DL_A1</a>"
      ],
      "text/plain": [
       "<IPython.core.display.HTML object>"
      ]
     },
     "metadata": {},
     "output_type": "display_data"
    },
    {
     "data": {
      "text/html": [
       " View sweep at <a href='https://wandb.ai/cs24m037-iit-madras/DL_A1/sweeps/zbxy6yvx' target=\"_blank\">https://wandb.ai/cs24m037-iit-madras/DL_A1/sweeps/zbxy6yvx</a>"
      ],
      "text/plain": [
       "<IPython.core.display.HTML object>"
      ]
     },
     "metadata": {},
     "output_type": "display_data"
    },
    {
     "data": {
      "text/html": [
       " View run at <a href='https://wandb.ai/cs24m037-iit-madras/DL_A1/runs/4wob1ync' target=\"_blank\">https://wandb.ai/cs24m037-iit-madras/DL_A1/runs/4wob1ync</a>"
      ],
      "text/plain": [
       "<IPython.core.display.HTML object>"
      ]
     },
     "metadata": {},
     "output_type": "display_data"
    },
    {
     "name": "stdout",
     "output_type": "stream",
     "text": [
      "lr_0.0001_ac_relu_in_random_uniform_op_adam_bs_16_L2_0.0005_ep_5_nn_32_nh_4\n",
      "Epoch 1: Training Loss = 0.4149, Validation Loss = 0.4141, Training Acc = 0.0996, Validation Acc = 0.1045\n",
      "Epoch 2: Training Loss = 0.4128, Validation Loss = 0.4121, Training Acc = 0.1000, Validation Acc = 0.1052\n",
      "Epoch 3: Training Loss = 0.4118, Validation Loss = 0.4111, Training Acc = 0.1002, Validation Acc = 0.1052\n",
      "Epoch 4: Training Loss = 0.4109, Validation Loss = 0.4103, Training Acc = 0.1000, Validation Acc = 0.1052\n",
      "Epoch 5: Training Loss = 0.4102, Validation Loss = 0.4095, Training Acc = 0.0999, Validation Acc = 0.1050\n"
     ]
    },
    {
     "data": {
      "text/html": [],
      "text/plain": [
       "<IPython.core.display.HTML object>"
      ]
     },
     "metadata": {},
     "output_type": "display_data"
    },
    {
     "data": {
      "text/html": [
       "<br>    <style><br>        .wandb-row {<br>            display: flex;<br>            flex-direction: row;<br>            flex-wrap: wrap;<br>            justify-content: flex-start;<br>            width: 100%;<br>        }<br>        .wandb-col {<br>            display: flex;<br>            flex-direction: column;<br>            flex-basis: 100%;<br>            flex: 1;<br>            padding: 10px;<br>        }<br>    </style><br><div class=\"wandb-row\"><div class=\"wandb-col\"><h3>Run history:</h3><br/><table class=\"wandb\"><tr><td>epoch</td><td>▁▃▅▆█</td></tr><tr><td>training_accuracy</td><td>▁▆█▆▄</td></tr><tr><td>training_loss</td><td>█▅▃▂▁</td></tr><tr><td>validation_accuracy</td><td>▁███▆</td></tr><tr><td>validation_loss</td><td>█▅▃▂▁</td></tr></table><br/></div><div class=\"wandb-col\"><h3>Run summary:</h3><br/><table class=\"wandb\"><tr><td>epoch</td><td>5</td></tr><tr><td>training_accuracy</td><td>0.09989</td></tr><tr><td>training_loss</td><td>0.41021</td></tr><tr><td>validation_accuracy</td><td>0.105</td></tr><tr><td>validation_loss</td><td>0.40954</td></tr></table><br/></div></div>"
      ],
      "text/plain": [
       "<IPython.core.display.HTML object>"
      ]
     },
     "metadata": {},
     "output_type": "display_data"
    },
    {
     "data": {
      "text/html": [
       " View run <strong style=\"color:#cdcd00\">lr_0.0001_ac_relu_in_random_uniform_op_adam_bs_16_L2_0.0005_ep_5_nn_32_nh_4</strong> at: <a href='https://wandb.ai/cs24m037-iit-madras/DL_A1/runs/4wob1ync' target=\"_blank\">https://wandb.ai/cs24m037-iit-madras/DL_A1/runs/4wob1ync</a><br> View project at: <a href='https://wandb.ai/cs24m037-iit-madras/DL_A1' target=\"_blank\">https://wandb.ai/cs24m037-iit-madras/DL_A1</a><br>Synced 5 W&B file(s), 0 media file(s), 0 artifact file(s) and 0 other file(s)"
      ],
      "text/plain": [
       "<IPython.core.display.HTML object>"
      ]
     },
     "metadata": {},
     "output_type": "display_data"
    },
    {
     "data": {
      "text/html": [
       "Find logs at: <code>.\\wandb\\run-20250308_101857-4wob1ync\\logs</code>"
      ],
      "text/plain": [
       "<IPython.core.display.HTML object>"
      ]
     },
     "metadata": {},
     "output_type": "display_data"
    },
    {
     "name": "stderr",
     "output_type": "stream",
     "text": [
      "wandb: Agent Starting Run: ccsjbzvd with config:\n",
      "wandb: \tL2_lamb: 0\n",
      "wandb: \tactivation_f: tanh\n",
      "wandb: \tbatch_size: 64\n",
      "wandb: \tepochs: 5\n",
      "wandb: \tinit_mode: random_uniform\n",
      "wandb: \tlearning_rate: 0.001\n",
      "wandb: \tnum_hidden: 3\n",
      "wandb: \tnum_neurons: 32\n",
      "wandb: \toptimizer: adam\n"
     ]
    },
    {
     "data": {
      "text/html": [
       "Tracking run with wandb version 0.19.7"
      ],
      "text/plain": [
       "<IPython.core.display.HTML object>"
      ]
     },
     "metadata": {},
     "output_type": "display_data"
    },
    {
     "data": {
      "text/html": [
       "Run data is saved locally in <code>c:\\Users\\RAMKUMAR\\Desktop\\iitm\\sem2\\DL\\wandb\\run-20250308_101914-ccsjbzvd</code>"
      ],
      "text/plain": [
       "<IPython.core.display.HTML object>"
      ]
     },
     "metadata": {},
     "output_type": "display_data"
    },
    {
     "data": {
      "text/html": [
       "Syncing run <strong><a href='https://wandb.ai/cs24m037-iit-madras/DL_A1/runs/ccsjbzvd' target=\"_blank\">fresh-sweep-84</a></strong> to <a href='https://wandb.ai/cs24m037-iit-madras/DL_A1' target=\"_blank\">Weights & Biases</a> (<a href='https://wandb.me/developer-guide' target=\"_blank\">docs</a>)<br>Sweep page: <a href='https://wandb.ai/cs24m037-iit-madras/DL_A1/sweeps/zbxy6yvx' target=\"_blank\">https://wandb.ai/cs24m037-iit-madras/DL_A1/sweeps/zbxy6yvx</a>"
      ],
      "text/plain": [
       "<IPython.core.display.HTML object>"
      ]
     },
     "metadata": {},
     "output_type": "display_data"
    },
    {
     "data": {
      "text/html": [
       " View project at <a href='https://wandb.ai/cs24m037-iit-madras/DL_A1' target=\"_blank\">https://wandb.ai/cs24m037-iit-madras/DL_A1</a>"
      ],
      "text/plain": [
       "<IPython.core.display.HTML object>"
      ]
     },
     "metadata": {},
     "output_type": "display_data"
    },
    {
     "data": {
      "text/html": [
       " View sweep at <a href='https://wandb.ai/cs24m037-iit-madras/DL_A1/sweeps/zbxy6yvx' target=\"_blank\">https://wandb.ai/cs24m037-iit-madras/DL_A1/sweeps/zbxy6yvx</a>"
      ],
      "text/plain": [
       "<IPython.core.display.HTML object>"
      ]
     },
     "metadata": {},
     "output_type": "display_data"
    },
    {
     "data": {
      "text/html": [
       " View run at <a href='https://wandb.ai/cs24m037-iit-madras/DL_A1/runs/ccsjbzvd' target=\"_blank\">https://wandb.ai/cs24m037-iit-madras/DL_A1/runs/ccsjbzvd</a>"
      ],
      "text/plain": [
       "<IPython.core.display.HTML object>"
      ]
     },
     "metadata": {},
     "output_type": "display_data"
    },
    {
     "name": "stdout",
     "output_type": "stream",
     "text": [
      "lr_0.001_ac_tanh_in_random_uniform_op_adam_bs_64_L2_0_ep_5_nn_32_nh_3\n",
      "Epoch 1: Training Loss = 0.2572, Validation Loss = 0.2609, Training Acc = 0.5431, Validation Acc = 0.5410\n",
      "Epoch 2: Training Loss = 0.1507, Validation Loss = 0.1563, Training Acc = 0.7916, Validation Acc = 0.7818\n",
      "Epoch 3: Training Loss = 0.1218, Validation Loss = 0.1280, Training Acc = 0.8325, Validation Acc = 0.8217\n",
      "Epoch 4: Training Loss = 0.1061, Validation Loss = 0.1147, Training Acc = 0.8557, Validation Acc = 0.8403\n",
      "Epoch 5: Training Loss = 0.0982, Validation Loss = 0.1076, Training Acc = 0.8646, Validation Acc = 0.8515\n"
     ]
    },
    {
     "data": {
      "text/html": [],
      "text/plain": [
       "<IPython.core.display.HTML object>"
      ]
     },
     "metadata": {},
     "output_type": "display_data"
    },
    {
     "data": {
      "text/html": [
       "<br>    <style><br>        .wandb-row {<br>            display: flex;<br>            flex-direction: row;<br>            flex-wrap: wrap;<br>            justify-content: flex-start;<br>            width: 100%;<br>        }<br>        .wandb-col {<br>            display: flex;<br>            flex-direction: column;<br>            flex-basis: 100%;<br>            flex: 1;<br>            padding: 10px;<br>        }<br>    </style><br><div class=\"wandb-row\"><div class=\"wandb-col\"><h3>Run history:</h3><br/><table class=\"wandb\"><tr><td>epoch</td><td>▁▃▅▆█</td></tr><tr><td>training_accuracy</td><td>▁▆▇██</td></tr><tr><td>training_loss</td><td>█▃▂▁▁</td></tr><tr><td>validation_accuracy</td><td>▁▆▇██</td></tr><tr><td>validation_loss</td><td>█▃▂▁▁</td></tr></table><br/></div><div class=\"wandb-col\"><h3>Run summary:</h3><br/><table class=\"wandb\"><tr><td>epoch</td><td>5</td></tr><tr><td>training_accuracy</td><td>0.86456</td></tr><tr><td>training_loss</td><td>0.09819</td></tr><tr><td>validation_accuracy</td><td>0.8515</td></tr><tr><td>validation_loss</td><td>0.10756</td></tr></table><br/></div></div>"
      ],
      "text/plain": [
       "<IPython.core.display.HTML object>"
      ]
     },
     "metadata": {},
     "output_type": "display_data"
    },
    {
     "data": {
      "text/html": [
       " View run <strong style=\"color:#cdcd00\">lr_0.001_ac_tanh_in_random_uniform_op_adam_bs_64_L2_0_ep_5_nn_32_nh_3</strong> at: <a href='https://wandb.ai/cs24m037-iit-madras/DL_A1/runs/ccsjbzvd' target=\"_blank\">https://wandb.ai/cs24m037-iit-madras/DL_A1/runs/ccsjbzvd</a><br> View project at: <a href='https://wandb.ai/cs24m037-iit-madras/DL_A1' target=\"_blank\">https://wandb.ai/cs24m037-iit-madras/DL_A1</a><br>Synced 5 W&B file(s), 0 media file(s), 0 artifact file(s) and 0 other file(s)"
      ],
      "text/plain": [
       "<IPython.core.display.HTML object>"
      ]
     },
     "metadata": {},
     "output_type": "display_data"
    },
    {
     "data": {
      "text/html": [
       "Find logs at: <code>.\\wandb\\run-20250308_101914-ccsjbzvd\\logs</code>"
      ],
      "text/plain": [
       "<IPython.core.display.HTML object>"
      ]
     },
     "metadata": {},
     "output_type": "display_data"
    },
    {
     "name": "stderr",
     "output_type": "stream",
     "text": [
      "wandb: Agent Starting Run: vk3l4mxs with config:\n",
      "wandb: \tL2_lamb: 0.0005\n",
      "wandb: \tactivation_f: relu\n",
      "wandb: \tbatch_size: 32\n",
      "wandb: \tepochs: 10\n",
      "wandb: \tinit_mode: random_uniform\n",
      "wandb: \tlearning_rate: 0.0001\n",
      "wandb: \tnum_hidden: 4\n",
      "wandb: \tnum_neurons: 64\n",
      "wandb: \toptimizer: adam\n"
     ]
    },
    {
     "data": {
      "text/html": [
       "Tracking run with wandb version 0.19.7"
      ],
      "text/plain": [
       "<IPython.core.display.HTML object>"
      ]
     },
     "metadata": {},
     "output_type": "display_data"
    },
    {
     "data": {
      "text/html": [
       "Run data is saved locally in <code>c:\\Users\\RAMKUMAR\\Desktop\\iitm\\sem2\\DL\\wandb\\run-20250308_101924-vk3l4mxs</code>"
      ],
      "text/plain": [
       "<IPython.core.display.HTML object>"
      ]
     },
     "metadata": {},
     "output_type": "display_data"
    },
    {
     "data": {
      "text/html": [
       "Syncing run <strong><a href='https://wandb.ai/cs24m037-iit-madras/DL_A1/runs/vk3l4mxs' target=\"_blank\">grateful-sweep-85</a></strong> to <a href='https://wandb.ai/cs24m037-iit-madras/DL_A1' target=\"_blank\">Weights & Biases</a> (<a href='https://wandb.me/developer-guide' target=\"_blank\">docs</a>)<br>Sweep page: <a href='https://wandb.ai/cs24m037-iit-madras/DL_A1/sweeps/zbxy6yvx' target=\"_blank\">https://wandb.ai/cs24m037-iit-madras/DL_A1/sweeps/zbxy6yvx</a>"
      ],
      "text/plain": [
       "<IPython.core.display.HTML object>"
      ]
     },
     "metadata": {},
     "output_type": "display_data"
    },
    {
     "data": {
      "text/html": [
       " View project at <a href='https://wandb.ai/cs24m037-iit-madras/DL_A1' target=\"_blank\">https://wandb.ai/cs24m037-iit-madras/DL_A1</a>"
      ],
      "text/plain": [
       "<IPython.core.display.HTML object>"
      ]
     },
     "metadata": {},
     "output_type": "display_data"
    },
    {
     "data": {
      "text/html": [
       " View sweep at <a href='https://wandb.ai/cs24m037-iit-madras/DL_A1/sweeps/zbxy6yvx' target=\"_blank\">https://wandb.ai/cs24m037-iit-madras/DL_A1/sweeps/zbxy6yvx</a>"
      ],
      "text/plain": [
       "<IPython.core.display.HTML object>"
      ]
     },
     "metadata": {},
     "output_type": "display_data"
    },
    {
     "data": {
      "text/html": [
       " View run at <a href='https://wandb.ai/cs24m037-iit-madras/DL_A1/runs/vk3l4mxs' target=\"_blank\">https://wandb.ai/cs24m037-iit-madras/DL_A1/runs/vk3l4mxs</a>"
      ],
      "text/plain": [
       "<IPython.core.display.HTML object>"
      ]
     },
     "metadata": {},
     "output_type": "display_data"
    },
    {
     "name": "stdout",
     "output_type": "stream",
     "text": [
      "lr_0.0001_ac_relu_in_random_uniform_op_adam_bs_32_L2_0.0005_ep_10_nn_64_nh_4\n",
      "Epoch 1: Training Loss = 0.4153, Validation Loss = 0.4144, Training Acc = 0.0996, Validation Acc = 0.1045\n",
      "Epoch 2: Training Loss = 0.4137, Validation Loss = 0.4130, Training Acc = 0.0999, Validation Acc = 0.1018\n",
      "Epoch 3: Training Loss = 0.4123, Validation Loss = 0.4117, Training Acc = 0.1000, Validation Acc = 0.1020\n",
      "Epoch 4: Training Loss = 0.4112, Validation Loss = 0.4106, Training Acc = 0.0999, Validation Acc = 0.1022\n",
      "Epoch 5: Training Loss = 0.4103, Validation Loss = 0.4097, Training Acc = 0.1000, Validation Acc = 0.1022\n",
      "Epoch 6: Training Loss = 0.4090, Validation Loss = 0.4085, Training Acc = 0.0999, Validation Acc = 0.1020\n",
      "Epoch 7: Training Loss = 0.4079, Validation Loss = 0.4073, Training Acc = 0.0999, Validation Acc = 0.1020\n",
      "Epoch 8: Training Loss = 0.4069, Validation Loss = 0.4064, Training Acc = 0.0999, Validation Acc = 0.1018\n",
      "Epoch 9: Training Loss = 0.4062, Validation Loss = 0.4056, Training Acc = 0.0999, Validation Acc = 0.1018\n",
      "Epoch 10: Training Loss = 0.4053, Validation Loss = 0.4047, Training Acc = 0.0999, Validation Acc = 0.1018\n"
     ]
    },
    {
     "data": {
      "text/html": [],
      "text/plain": [
       "<IPython.core.display.HTML object>"
      ]
     },
     "metadata": {},
     "output_type": "display_data"
    },
    {
     "data": {
      "text/html": [
       "<br>    <style><br>        .wandb-row {<br>            display: flex;<br>            flex-direction: row;<br>            flex-wrap: wrap;<br>            justify-content: flex-start;<br>            width: 100%;<br>        }<br>        .wandb-col {<br>            display: flex;<br>            flex-direction: column;<br>            flex-basis: 100%;<br>            flex: 1;<br>            padding: 10px;<br>        }<br>    </style><br><div class=\"wandb-row\"><div class=\"wandb-col\"><h3>Run history:</h3><br/><table class=\"wandb\"><tr><td>epoch</td><td>▁▂▃▃▄▅▆▆▇█</td></tr><tr><td>training_accuracy</td><td>▁▇██████▇▇</td></tr><tr><td>training_loss</td><td>█▇▆▅▄▄▃▂▂▁</td></tr><tr><td>validation_accuracy</td><td>█▁▁▂▂▁▁▁▁▁</td></tr><tr><td>validation_loss</td><td>█▇▆▅▅▄▃▂▂▁</td></tr></table><br/></div><div class=\"wandb-col\"><h3>Run summary:</h3><br/><table class=\"wandb\"><tr><td>epoch</td><td>10</td></tr><tr><td>training_accuracy</td><td>0.09993</td></tr><tr><td>training_loss</td><td>0.40533</td></tr><tr><td>validation_accuracy</td><td>0.10183</td></tr><tr><td>validation_loss</td><td>0.40473</td></tr></table><br/></div></div>"
      ],
      "text/plain": [
       "<IPython.core.display.HTML object>"
      ]
     },
     "metadata": {},
     "output_type": "display_data"
    },
    {
     "data": {
      "text/html": [
       " View run <strong style=\"color:#cdcd00\">lr_0.0001_ac_relu_in_random_uniform_op_adam_bs_32_L2_0.0005_ep_10_nn_64_nh_4</strong> at: <a href='https://wandb.ai/cs24m037-iit-madras/DL_A1/runs/vk3l4mxs' target=\"_blank\">https://wandb.ai/cs24m037-iit-madras/DL_A1/runs/vk3l4mxs</a><br> View project at: <a href='https://wandb.ai/cs24m037-iit-madras/DL_A1' target=\"_blank\">https://wandb.ai/cs24m037-iit-madras/DL_A1</a><br>Synced 5 W&B file(s), 0 media file(s), 0 artifact file(s) and 0 other file(s)"
      ],
      "text/plain": [
       "<IPython.core.display.HTML object>"
      ]
     },
     "metadata": {},
     "output_type": "display_data"
    },
    {
     "data": {
      "text/html": [
       "Find logs at: <code>.\\wandb\\run-20250308_101924-vk3l4mxs\\logs</code>"
      ],
      "text/plain": [
       "<IPython.core.display.HTML object>"
      ]
     },
     "metadata": {},
     "output_type": "display_data"
    },
    {
     "name": "stderr",
     "output_type": "stream",
     "text": [
      "wandb: Agent Starting Run: nliu2h8u with config:\n",
      "wandb: \tL2_lamb: 0\n",
      "wandb: \tactivation_f: sigmoid\n",
      "wandb: \tbatch_size: 64\n",
      "wandb: \tepochs: 5\n",
      "wandb: \tinit_mode: xavier\n",
      "wandb: \tlearning_rate: 0.001\n",
      "wandb: \tnum_hidden: 3\n",
      "wandb: \tnum_neurons: 32\n",
      "wandb: \toptimizer: sgd\n"
     ]
    },
    {
     "data": {
      "text/html": [
       "Tracking run with wandb version 0.19.7"
      ],
      "text/plain": [
       "<IPython.core.display.HTML object>"
      ]
     },
     "metadata": {},
     "output_type": "display_data"
    },
    {
     "data": {
      "text/html": [
       "Run data is saved locally in <code>c:\\Users\\RAMKUMAR\\Desktop\\iitm\\sem2\\DL\\wandb\\run-20250308_101952-nliu2h8u</code>"
      ],
      "text/plain": [
       "<IPython.core.display.HTML object>"
      ]
     },
     "metadata": {},
     "output_type": "display_data"
    },
    {
     "data": {
      "text/html": [
       "Syncing run <strong><a href='https://wandb.ai/cs24m037-iit-madras/DL_A1/runs/nliu2h8u' target=\"_blank\">fresh-sweep-86</a></strong> to <a href='https://wandb.ai/cs24m037-iit-madras/DL_A1' target=\"_blank\">Weights & Biases</a> (<a href='https://wandb.me/developer-guide' target=\"_blank\">docs</a>)<br>Sweep page: <a href='https://wandb.ai/cs24m037-iit-madras/DL_A1/sweeps/zbxy6yvx' target=\"_blank\">https://wandb.ai/cs24m037-iit-madras/DL_A1/sweeps/zbxy6yvx</a>"
      ],
      "text/plain": [
       "<IPython.core.display.HTML object>"
      ]
     },
     "metadata": {},
     "output_type": "display_data"
    },
    {
     "data": {
      "text/html": [
       " View project at <a href='https://wandb.ai/cs24m037-iit-madras/DL_A1' target=\"_blank\">https://wandb.ai/cs24m037-iit-madras/DL_A1</a>"
      ],
      "text/plain": [
       "<IPython.core.display.HTML object>"
      ]
     },
     "metadata": {},
     "output_type": "display_data"
    },
    {
     "data": {
      "text/html": [
       " View sweep at <a href='https://wandb.ai/cs24m037-iit-madras/DL_A1/sweeps/zbxy6yvx' target=\"_blank\">https://wandb.ai/cs24m037-iit-madras/DL_A1/sweeps/zbxy6yvx</a>"
      ],
      "text/plain": [
       "<IPython.core.display.HTML object>"
      ]
     },
     "metadata": {},
     "output_type": "display_data"
    },
    {
     "data": {
      "text/html": [
       " View run at <a href='https://wandb.ai/cs24m037-iit-madras/DL_A1/runs/nliu2h8u' target=\"_blank\">https://wandb.ai/cs24m037-iit-madras/DL_A1/runs/nliu2h8u</a>"
      ],
      "text/plain": [
       "<IPython.core.display.HTML object>"
      ]
     },
     "metadata": {},
     "output_type": "display_data"
    },
    {
     "name": "stdout",
     "output_type": "stream",
     "text": [
      "lr_0.001_ac_sigmoid_in_xavier_op_sgd_bs_64_L2_0_ep_5_nn_32_nh_3\n",
      "Epoch 1: Training Loss = 0.4640, Validation Loss = 0.4639, Training Acc = 0.0995, Validation Acc = 0.1045\n",
      "Epoch 2: Training Loss = 0.4617, Validation Loss = 0.4616, Training Acc = 0.0995, Validation Acc = 0.1045\n",
      "Epoch 3: Training Loss = 0.4600, Validation Loss = 0.4599, Training Acc = 0.0995, Validation Acc = 0.1045\n",
      "Epoch 4: Training Loss = 0.4587, Validation Loss = 0.4586, Training Acc = 0.0995, Validation Acc = 0.1045\n",
      "Epoch 5: Training Loss = 0.4576, Validation Loss = 0.4575, Training Acc = 0.0995, Validation Acc = 0.1045\n"
     ]
    },
    {
     "data": {
      "text/html": [],
      "text/plain": [
       "<IPython.core.display.HTML object>"
      ]
     },
     "metadata": {},
     "output_type": "display_data"
    },
    {
     "data": {
      "text/html": [
       "<br>    <style><br>        .wandb-row {<br>            display: flex;<br>            flex-direction: row;<br>            flex-wrap: wrap;<br>            justify-content: flex-start;<br>            width: 100%;<br>        }<br>        .wandb-col {<br>            display: flex;<br>            flex-direction: column;<br>            flex-basis: 100%;<br>            flex: 1;<br>            padding: 10px;<br>        }<br>    </style><br><div class=\"wandb-row\"><div class=\"wandb-col\"><h3>Run history:</h3><br/><table class=\"wandb\"><tr><td>epoch</td><td>▁▃▅▆█</td></tr><tr><td>training_accuracy</td><td>▁▁▁▁▁</td></tr><tr><td>training_loss</td><td>█▆▄▂▁</td></tr><tr><td>validation_accuracy</td><td>▁▁▁▁▁</td></tr><tr><td>validation_loss</td><td>█▆▄▂▁</td></tr></table><br/></div><div class=\"wandb-col\"><h3>Run summary:</h3><br/><table class=\"wandb\"><tr><td>epoch</td><td>5</td></tr><tr><td>training_accuracy</td><td>0.0995</td></tr><tr><td>training_loss</td><td>0.45757</td></tr><tr><td>validation_accuracy</td><td>0.1045</td></tr><tr><td>validation_loss</td><td>0.45746</td></tr></table><br/></div></div>"
      ],
      "text/plain": [
       "<IPython.core.display.HTML object>"
      ]
     },
     "metadata": {},
     "output_type": "display_data"
    },
    {
     "data": {
      "text/html": [
       " View run <strong style=\"color:#cdcd00\">lr_0.001_ac_sigmoid_in_xavier_op_sgd_bs_64_L2_0_ep_5_nn_32_nh_3</strong> at: <a href='https://wandb.ai/cs24m037-iit-madras/DL_A1/runs/nliu2h8u' target=\"_blank\">https://wandb.ai/cs24m037-iit-madras/DL_A1/runs/nliu2h8u</a><br> View project at: <a href='https://wandb.ai/cs24m037-iit-madras/DL_A1' target=\"_blank\">https://wandb.ai/cs24m037-iit-madras/DL_A1</a><br>Synced 5 W&B file(s), 0 media file(s), 0 artifact file(s) and 0 other file(s)"
      ],
      "text/plain": [
       "<IPython.core.display.HTML object>"
      ]
     },
     "metadata": {},
     "output_type": "display_data"
    },
    {
     "data": {
      "text/html": [
       "Find logs at: <code>.\\wandb\\run-20250308_101952-nliu2h8u\\logs</code>"
      ],
      "text/plain": [
       "<IPython.core.display.HTML object>"
      ]
     },
     "metadata": {},
     "output_type": "display_data"
    },
    {
     "name": "stderr",
     "output_type": "stream",
     "text": [
      "wandb: Agent Starting Run: bhyydl5q with config:\n",
      "wandb: \tL2_lamb: 0\n",
      "wandb: \tactivation_f: tanh\n",
      "wandb: \tbatch_size: 16\n",
      "wandb: \tepochs: 5\n",
      "wandb: \tinit_mode: xavier\n",
      "wandb: \tlearning_rate: 0.0001\n",
      "wandb: \tnum_hidden: 3\n",
      "wandb: \tnum_neurons: 128\n",
      "wandb: \toptimizer: adam\n"
     ]
    },
    {
     "data": {
      "text/html": [
       "Tracking run with wandb version 0.19.7"
      ],
      "text/plain": [
       "<IPython.core.display.HTML object>"
      ]
     },
     "metadata": {},
     "output_type": "display_data"
    },
    {
     "data": {
      "text/html": [
       "Run data is saved locally in <code>c:\\Users\\RAMKUMAR\\Desktop\\iitm\\sem2\\DL\\wandb\\run-20250308_102003-bhyydl5q</code>"
      ],
      "text/plain": [
       "<IPython.core.display.HTML object>"
      ]
     },
     "metadata": {},
     "output_type": "display_data"
    },
    {
     "data": {
      "text/html": [
       "Syncing run <strong><a href='https://wandb.ai/cs24m037-iit-madras/DL_A1/runs/bhyydl5q' target=\"_blank\">denim-sweep-87</a></strong> to <a href='https://wandb.ai/cs24m037-iit-madras/DL_A1' target=\"_blank\">Weights & Biases</a> (<a href='https://wandb.me/developer-guide' target=\"_blank\">docs</a>)<br>Sweep page: <a href='https://wandb.ai/cs24m037-iit-madras/DL_A1/sweeps/zbxy6yvx' target=\"_blank\">https://wandb.ai/cs24m037-iit-madras/DL_A1/sweeps/zbxy6yvx</a>"
      ],
      "text/plain": [
       "<IPython.core.display.HTML object>"
      ]
     },
     "metadata": {},
     "output_type": "display_data"
    },
    {
     "data": {
      "text/html": [
       " View project at <a href='https://wandb.ai/cs24m037-iit-madras/DL_A1' target=\"_blank\">https://wandb.ai/cs24m037-iit-madras/DL_A1</a>"
      ],
      "text/plain": [
       "<IPython.core.display.HTML object>"
      ]
     },
     "metadata": {},
     "output_type": "display_data"
    },
    {
     "data": {
      "text/html": [
       " View sweep at <a href='https://wandb.ai/cs24m037-iit-madras/DL_A1/sweeps/zbxy6yvx' target=\"_blank\">https://wandb.ai/cs24m037-iit-madras/DL_A1/sweeps/zbxy6yvx</a>"
      ],
      "text/plain": [
       "<IPython.core.display.HTML object>"
      ]
     },
     "metadata": {},
     "output_type": "display_data"
    },
    {
     "data": {
      "text/html": [
       " View run at <a href='https://wandb.ai/cs24m037-iit-madras/DL_A1/runs/bhyydl5q' target=\"_blank\">https://wandb.ai/cs24m037-iit-madras/DL_A1/runs/bhyydl5q</a>"
      ],
      "text/plain": [
       "<IPython.core.display.HTML object>"
      ]
     },
     "metadata": {},
     "output_type": "display_data"
    },
    {
     "name": "stdout",
     "output_type": "stream",
     "text": [
      "lr_0.0001_ac_tanh_in_xavier_op_adam_bs_16_L2_0_ep_5_nn_128_nh_3\n",
      "Epoch 1: Training Loss = 0.1063, Validation Loss = 0.1093, Training Acc = 0.8553, Validation Acc = 0.8467\n",
      "Epoch 2: Training Loss = 0.0949, Validation Loss = 0.0984, Training Acc = 0.8703, Validation Acc = 0.8630\n",
      "Epoch 3: Training Loss = 0.0891, Validation Loss = 0.0934, Training Acc = 0.8780, Validation Acc = 0.8675\n",
      "Epoch 4: Training Loss = 0.0853, Validation Loss = 0.0905, Training Acc = 0.8838, Validation Acc = 0.8717\n",
      "Epoch 5: Training Loss = 0.0823, Validation Loss = 0.0884, Training Acc = 0.8882, Validation Acc = 0.8753\n"
     ]
    },
    {
     "data": {
      "text/html": [],
      "text/plain": [
       "<IPython.core.display.HTML object>"
      ]
     },
     "metadata": {},
     "output_type": "display_data"
    },
    {
     "data": {
      "text/html": [
       "<br>    <style><br>        .wandb-row {<br>            display: flex;<br>            flex-direction: row;<br>            flex-wrap: wrap;<br>            justify-content: flex-start;<br>            width: 100%;<br>        }<br>        .wandb-col {<br>            display: flex;<br>            flex-direction: column;<br>            flex-basis: 100%;<br>            flex: 1;<br>            padding: 10px;<br>        }<br>    </style><br><div class=\"wandb-row\"><div class=\"wandb-col\"><h3>Run history:</h3><br/><table class=\"wandb\"><tr><td>epoch</td><td>▁▃▅▆█</td></tr><tr><td>training_accuracy</td><td>▁▄▆▇█</td></tr><tr><td>training_loss</td><td>█▅▃▂▁</td></tr><tr><td>validation_accuracy</td><td>▁▅▆▇█</td></tr><tr><td>validation_loss</td><td>█▄▃▂▁</td></tr></table><br/></div><div class=\"wandb-col\"><h3>Run summary:</h3><br/><table class=\"wandb\"><tr><td>epoch</td><td>5</td></tr><tr><td>training_accuracy</td><td>0.8882</td></tr><tr><td>training_loss</td><td>0.0823</td></tr><tr><td>validation_accuracy</td><td>0.87533</td></tr><tr><td>validation_loss</td><td>0.08842</td></tr></table><br/></div></div>"
      ],
      "text/plain": [
       "<IPython.core.display.HTML object>"
      ]
     },
     "metadata": {},
     "output_type": "display_data"
    },
    {
     "data": {
      "text/html": [
       " View run <strong style=\"color:#cdcd00\">lr_0.0001_ac_tanh_in_xavier_op_adam_bs_16_L2_0_ep_5_nn_128_nh_3</strong> at: <a href='https://wandb.ai/cs24m037-iit-madras/DL_A1/runs/bhyydl5q' target=\"_blank\">https://wandb.ai/cs24m037-iit-madras/DL_A1/runs/bhyydl5q</a><br> View project at: <a href='https://wandb.ai/cs24m037-iit-madras/DL_A1' target=\"_blank\">https://wandb.ai/cs24m037-iit-madras/DL_A1</a><br>Synced 5 W&B file(s), 0 media file(s), 0 artifact file(s) and 0 other file(s)"
      ],
      "text/plain": [
       "<IPython.core.display.HTML object>"
      ]
     },
     "metadata": {},
     "output_type": "display_data"
    },
    {
     "data": {
      "text/html": [
       "Find logs at: <code>.\\wandb\\run-20250308_102003-bhyydl5q\\logs</code>"
      ],
      "text/plain": [
       "<IPython.core.display.HTML object>"
      ]
     },
     "metadata": {},
     "output_type": "display_data"
    },
    {
     "name": "stderr",
     "output_type": "stream",
     "text": [
      "wandb: Agent Starting Run: oceba2ta with config:\n",
      "wandb: \tL2_lamb: 0.5\n",
      "wandb: \tactivation_f: relu\n",
      "wandb: \tbatch_size: 16\n",
      "wandb: \tepochs: 5\n",
      "wandb: \tinit_mode: xavier\n",
      "wandb: \tlearning_rate: 0.001\n",
      "wandb: \tnum_hidden: 3\n",
      "wandb: \tnum_neurons: 32\n",
      "wandb: \toptimizer: nesterov\n"
     ]
    },
    {
     "data": {
      "text/html": [
       "Tracking run with wandb version 0.19.7"
      ],
      "text/plain": [
       "<IPython.core.display.HTML object>"
      ]
     },
     "metadata": {},
     "output_type": "display_data"
    },
    {
     "data": {
      "text/html": [
       "Run data is saved locally in <code>c:\\Users\\RAMKUMAR\\Desktop\\iitm\\sem2\\DL\\wandb\\run-20250308_102045-oceba2ta</code>"
      ],
      "text/plain": [
       "<IPython.core.display.HTML object>"
      ]
     },
     "metadata": {},
     "output_type": "display_data"
    },
    {
     "data": {
      "text/html": [
       "Syncing run <strong><a href='https://wandb.ai/cs24m037-iit-madras/DL_A1/runs/oceba2ta' target=\"_blank\">sunny-sweep-88</a></strong> to <a href='https://wandb.ai/cs24m037-iit-madras/DL_A1' target=\"_blank\">Weights & Biases</a> (<a href='https://wandb.me/developer-guide' target=\"_blank\">docs</a>)<br>Sweep page: <a href='https://wandb.ai/cs24m037-iit-madras/DL_A1/sweeps/zbxy6yvx' target=\"_blank\">https://wandb.ai/cs24m037-iit-madras/DL_A1/sweeps/zbxy6yvx</a>"
      ],
      "text/plain": [
       "<IPython.core.display.HTML object>"
      ]
     },
     "metadata": {},
     "output_type": "display_data"
    },
    {
     "data": {
      "text/html": [
       " View project at <a href='https://wandb.ai/cs24m037-iit-madras/DL_A1' target=\"_blank\">https://wandb.ai/cs24m037-iit-madras/DL_A1</a>"
      ],
      "text/plain": [
       "<IPython.core.display.HTML object>"
      ]
     },
     "metadata": {},
     "output_type": "display_data"
    },
    {
     "data": {
      "text/html": [
       " View sweep at <a href='https://wandb.ai/cs24m037-iit-madras/DL_A1/sweeps/zbxy6yvx' target=\"_blank\">https://wandb.ai/cs24m037-iit-madras/DL_A1/sweeps/zbxy6yvx</a>"
      ],
      "text/plain": [
       "<IPython.core.display.HTML object>"
      ]
     },
     "metadata": {},
     "output_type": "display_data"
    },
    {
     "data": {
      "text/html": [
       " View run at <a href='https://wandb.ai/cs24m037-iit-madras/DL_A1/runs/oceba2ta' target=\"_blank\">https://wandb.ai/cs24m037-iit-madras/DL_A1/runs/oceba2ta</a>"
      ],
      "text/plain": [
       "<IPython.core.display.HTML object>"
      ]
     },
     "metadata": {},
     "output_type": "display_data"
    },
    {
     "name": "stdout",
     "output_type": "stream",
     "text": [
      "lr_0.001_ac_relu_in_xavier_op_nesterov_bs_16_L2_0.5_ep_5_nn_32_nh_3\n",
      "Epoch 1: Training Loss = 0.4423, Validation Loss = 0.4469, Training Acc = 0.1946, Validation Acc = 0.1908\n",
      "Epoch 2: Training Loss = 0.4391, Validation Loss = 0.4429, Training Acc = 0.1996, Validation Acc = 0.1968\n",
      "Epoch 3: Training Loss = 0.4383, Validation Loss = 0.4415, Training Acc = 0.2053, Validation Acc = 0.2035\n",
      "Epoch 4: Training Loss = 0.4386, Validation Loss = 0.4413, Training Acc = 0.2206, Validation Acc = 0.2193\n",
      "Epoch 5: Training Loss = 0.4394, Validation Loss = 0.4416, Training Acc = 0.2383, Validation Acc = 0.2338\n"
     ]
    },
    {
     "data": {
      "text/html": [],
      "text/plain": [
       "<IPython.core.display.HTML object>"
      ]
     },
     "metadata": {},
     "output_type": "display_data"
    },
    {
     "data": {
      "text/html": [
       "<br>    <style><br>        .wandb-row {<br>            display: flex;<br>            flex-direction: row;<br>            flex-wrap: wrap;<br>            justify-content: flex-start;<br>            width: 100%;<br>        }<br>        .wandb-col {<br>            display: flex;<br>            flex-direction: column;<br>            flex-basis: 100%;<br>            flex: 1;<br>            padding: 10px;<br>        }<br>    </style><br><div class=\"wandb-row\"><div class=\"wandb-col\"><h3>Run history:</h3><br/><table class=\"wandb\"><tr><td>epoch</td><td>▁▃▅▆█</td></tr><tr><td>training_accuracy</td><td>▁▂▃▅█</td></tr><tr><td>training_loss</td><td>█▂▁▁▃</td></tr><tr><td>validation_accuracy</td><td>▁▂▃▆█</td></tr><tr><td>validation_loss</td><td>█▃▁▁▁</td></tr></table><br/></div><div class=\"wandb-col\"><h3>Run summary:</h3><br/><table class=\"wandb\"><tr><td>epoch</td><td>5</td></tr><tr><td>training_accuracy</td><td>0.23826</td></tr><tr><td>training_loss</td><td>0.43939</td></tr><tr><td>validation_accuracy</td><td>0.23383</td></tr><tr><td>validation_loss</td><td>0.44159</td></tr></table><br/></div></div>"
      ],
      "text/plain": [
       "<IPython.core.display.HTML object>"
      ]
     },
     "metadata": {},
     "output_type": "display_data"
    },
    {
     "data": {
      "text/html": [
       " View run <strong style=\"color:#cdcd00\">lr_0.001_ac_relu_in_xavier_op_nesterov_bs_16_L2_0.5_ep_5_nn_32_nh_3</strong> at: <a href='https://wandb.ai/cs24m037-iit-madras/DL_A1/runs/oceba2ta' target=\"_blank\">https://wandb.ai/cs24m037-iit-madras/DL_A1/runs/oceba2ta</a><br> View project at: <a href='https://wandb.ai/cs24m037-iit-madras/DL_A1' target=\"_blank\">https://wandb.ai/cs24m037-iit-madras/DL_A1</a><br>Synced 5 W&B file(s), 0 media file(s), 0 artifact file(s) and 0 other file(s)"
      ],
      "text/plain": [
       "<IPython.core.display.HTML object>"
      ]
     },
     "metadata": {},
     "output_type": "display_data"
    },
    {
     "data": {
      "text/html": [
       "Find logs at: <code>.\\wandb\\run-20250308_102045-oceba2ta\\logs</code>"
      ],
      "text/plain": [
       "<IPython.core.display.HTML object>"
      ]
     },
     "metadata": {},
     "output_type": "display_data"
    },
    {
     "name": "stderr",
     "output_type": "stream",
     "text": [
      "wandb: Agent Starting Run: fui6fl14 with config:\n",
      "wandb: \tL2_lamb: 0.0005\n",
      "wandb: \tactivation_f: sigmoid\n",
      "wandb: \tbatch_size: 32\n",
      "wandb: \tepochs: 5\n",
      "wandb: \tinit_mode: random_uniform\n",
      "wandb: \tlearning_rate: 0.0001\n",
      "wandb: \tnum_hidden: 4\n",
      "wandb: \tnum_neurons: 32\n",
      "wandb: \toptimizer: momentum\n"
     ]
    },
    {
     "data": {
      "text/html": [
       "Tracking run with wandb version 0.19.7"
      ],
      "text/plain": [
       "<IPython.core.display.HTML object>"
      ]
     },
     "metadata": {},
     "output_type": "display_data"
    },
    {
     "data": {
      "text/html": [
       "Run data is saved locally in <code>c:\\Users\\RAMKUMAR\\Desktop\\iitm\\sem2\\DL\\wandb\\run-20250308_102056-fui6fl14</code>"
      ],
      "text/plain": [
       "<IPython.core.display.HTML object>"
      ]
     },
     "metadata": {},
     "output_type": "display_data"
    },
    {
     "data": {
      "text/html": [
       "Syncing run <strong><a href='https://wandb.ai/cs24m037-iit-madras/DL_A1/runs/fui6fl14' target=\"_blank\">fast-sweep-89</a></strong> to <a href='https://wandb.ai/cs24m037-iit-madras/DL_A1' target=\"_blank\">Weights & Biases</a> (<a href='https://wandb.me/developer-guide' target=\"_blank\">docs</a>)<br>Sweep page: <a href='https://wandb.ai/cs24m037-iit-madras/DL_A1/sweeps/zbxy6yvx' target=\"_blank\">https://wandb.ai/cs24m037-iit-madras/DL_A1/sweeps/zbxy6yvx</a>"
      ],
      "text/plain": [
       "<IPython.core.display.HTML object>"
      ]
     },
     "metadata": {},
     "output_type": "display_data"
    },
    {
     "data": {
      "text/html": [
       " View project at <a href='https://wandb.ai/cs24m037-iit-madras/DL_A1' target=\"_blank\">https://wandb.ai/cs24m037-iit-madras/DL_A1</a>"
      ],
      "text/plain": [
       "<IPython.core.display.HTML object>"
      ]
     },
     "metadata": {},
     "output_type": "display_data"
    },
    {
     "data": {
      "text/html": [
       " View sweep at <a href='https://wandb.ai/cs24m037-iit-madras/DL_A1/sweeps/zbxy6yvx' target=\"_blank\">https://wandb.ai/cs24m037-iit-madras/DL_A1/sweeps/zbxy6yvx</a>"
      ],
      "text/plain": [
       "<IPython.core.display.HTML object>"
      ]
     },
     "metadata": {},
     "output_type": "display_data"
    },
    {
     "data": {
      "text/html": [
       " View run at <a href='https://wandb.ai/cs24m037-iit-madras/DL_A1/runs/fui6fl14' target=\"_blank\">https://wandb.ai/cs24m037-iit-madras/DL_A1/runs/fui6fl14</a>"
      ],
      "text/plain": [
       "<IPython.core.display.HTML object>"
      ]
     },
     "metadata": {},
     "output_type": "display_data"
    },
    {
     "name": "stdout",
     "output_type": "stream",
     "text": [
      "lr_0.0001_ac_sigmoid_in_random_uniform_op_momentum_bs_32_L2_0.0005_ep_5_nn_32_nh_4\n",
      "Epoch 1: Training Loss = 0.4500, Validation Loss = 0.4500, Training Acc = 0.1002, Validation Acc = 0.0983\n",
      "Epoch 2: Training Loss = 0.4500, Validation Loss = 0.4500, Training Acc = 0.1002, Validation Acc = 0.0983\n",
      "Epoch 3: Training Loss = 0.4500, Validation Loss = 0.4500, Training Acc = 0.1002, Validation Acc = 0.0983\n",
      "Epoch 4: Training Loss = 0.4500, Validation Loss = 0.4500, Training Acc = 0.1002, Validation Acc = 0.0983\n",
      "Epoch 5: Training Loss = 0.4500, Validation Loss = 0.4500, Training Acc = 0.1002, Validation Acc = 0.0983\n"
     ]
    },
    {
     "data": {
      "text/html": [],
      "text/plain": [
       "<IPython.core.display.HTML object>"
      ]
     },
     "metadata": {},
     "output_type": "display_data"
    },
    {
     "data": {
      "text/html": [
       "<br>    <style><br>        .wandb-row {<br>            display: flex;<br>            flex-direction: row;<br>            flex-wrap: wrap;<br>            justify-content: flex-start;<br>            width: 100%;<br>        }<br>        .wandb-col {<br>            display: flex;<br>            flex-direction: column;<br>            flex-basis: 100%;<br>            flex: 1;<br>            padding: 10px;<br>        }<br>    </style><br><div class=\"wandb-row\"><div class=\"wandb-col\"><h3>Run history:</h3><br/><table class=\"wandb\"><tr><td>epoch</td><td>▁▃▅▆█</td></tr><tr><td>training_accuracy</td><td>▁▁▁▁▁</td></tr><tr><td>training_loss</td><td>█▆▅▃▁</td></tr><tr><td>validation_accuracy</td><td>▁▁▁▁▁</td></tr><tr><td>validation_loss</td><td>▁▃▅▆█</td></tr></table><br/></div><div class=\"wandb-col\"><h3>Run summary:</h3><br/><table class=\"wandb\"><tr><td>epoch</td><td>5</td></tr><tr><td>training_accuracy</td><td>0.10019</td></tr><tr><td>training_loss</td><td>0.45</td></tr><tr><td>validation_accuracy</td><td>0.09833</td></tr><tr><td>validation_loss</td><td>0.44999</td></tr></table><br/></div></div>"
      ],
      "text/plain": [
       "<IPython.core.display.HTML object>"
      ]
     },
     "metadata": {},
     "output_type": "display_data"
    },
    {
     "data": {
      "text/html": [
       " View run <strong style=\"color:#cdcd00\">lr_0.0001_ac_sigmoid_in_random_uniform_op_momentum_bs_32_L2_0.0005_ep_5_nn_32_nh_4</strong> at: <a href='https://wandb.ai/cs24m037-iit-madras/DL_A1/runs/fui6fl14' target=\"_blank\">https://wandb.ai/cs24m037-iit-madras/DL_A1/runs/fui6fl14</a><br> View project at: <a href='https://wandb.ai/cs24m037-iit-madras/DL_A1' target=\"_blank\">https://wandb.ai/cs24m037-iit-madras/DL_A1</a><br>Synced 5 W&B file(s), 0 media file(s), 0 artifact file(s) and 0 other file(s)"
      ],
      "text/plain": [
       "<IPython.core.display.HTML object>"
      ]
     },
     "metadata": {},
     "output_type": "display_data"
    },
    {
     "data": {
      "text/html": [
       "Find logs at: <code>.\\wandb\\run-20250308_102056-fui6fl14\\logs</code>"
      ],
      "text/plain": [
       "<IPython.core.display.HTML object>"
      ]
     },
     "metadata": {},
     "output_type": "display_data"
    },
    {
     "name": "stderr",
     "output_type": "stream",
     "text": [
      "wandb: Sweep Agent: Waiting for job.\n",
      "wandb: Job received.\n",
      "wandb: Agent Starting Run: c4rwwofe with config:\n",
      "wandb: \tL2_lamb: 0\n",
      "wandb: \tactivation_f: sigmoid\n",
      "wandb: \tbatch_size: 64\n",
      "wandb: \tepochs: 5\n",
      "wandb: \tinit_mode: random_uniform\n",
      "wandb: \tlearning_rate: 0.0001\n",
      "wandb: \tnum_hidden: 4\n",
      "wandb: \tnum_neurons: 128\n",
      "wandb: \toptimizer: nesterov\n"
     ]
    },
    {
     "data": {
      "text/html": [
       "Tracking run with wandb version 0.19.7"
      ],
      "text/plain": [
       "<IPython.core.display.HTML object>"
      ]
     },
     "metadata": {},
     "output_type": "display_data"
    },
    {
     "data": {
      "text/html": [
       "Run data is saved locally in <code>c:\\Users\\RAMKUMAR\\Desktop\\iitm\\sem2\\DL\\wandb\\run-20250308_102116-c4rwwofe</code>"
      ],
      "text/plain": [
       "<IPython.core.display.HTML object>"
      ]
     },
     "metadata": {},
     "output_type": "display_data"
    },
    {
     "data": {
      "text/html": [
       "Syncing run <strong><a href='https://wandb.ai/cs24m037-iit-madras/DL_A1/runs/c4rwwofe' target=\"_blank\">earthy-sweep-90</a></strong> to <a href='https://wandb.ai/cs24m037-iit-madras/DL_A1' target=\"_blank\">Weights & Biases</a> (<a href='https://wandb.me/developer-guide' target=\"_blank\">docs</a>)<br>Sweep page: <a href='https://wandb.ai/cs24m037-iit-madras/DL_A1/sweeps/zbxy6yvx' target=\"_blank\">https://wandb.ai/cs24m037-iit-madras/DL_A1/sweeps/zbxy6yvx</a>"
      ],
      "text/plain": [
       "<IPython.core.display.HTML object>"
      ]
     },
     "metadata": {},
     "output_type": "display_data"
    },
    {
     "data": {
      "text/html": [
       " View project at <a href='https://wandb.ai/cs24m037-iit-madras/DL_A1' target=\"_blank\">https://wandb.ai/cs24m037-iit-madras/DL_A1</a>"
      ],
      "text/plain": [
       "<IPython.core.display.HTML object>"
      ]
     },
     "metadata": {},
     "output_type": "display_data"
    },
    {
     "data": {
      "text/html": [
       " View sweep at <a href='https://wandb.ai/cs24m037-iit-madras/DL_A1/sweeps/zbxy6yvx' target=\"_blank\">https://wandb.ai/cs24m037-iit-madras/DL_A1/sweeps/zbxy6yvx</a>"
      ],
      "text/plain": [
       "<IPython.core.display.HTML object>"
      ]
     },
     "metadata": {},
     "output_type": "display_data"
    },
    {
     "data": {
      "text/html": [
       " View run at <a href='https://wandb.ai/cs24m037-iit-madras/DL_A1/runs/c4rwwofe' target=\"_blank\">https://wandb.ai/cs24m037-iit-madras/DL_A1/runs/c4rwwofe</a>"
      ],
      "text/plain": [
       "<IPython.core.display.HTML object>"
      ]
     },
     "metadata": {},
     "output_type": "display_data"
    },
    {
     "name": "stdout",
     "output_type": "stream",
     "text": [
      "lr_0.0001_ac_sigmoid_in_random_uniform_op_nesterov_bs_64_L2_0_ep_5_nn_128_nh_4\n",
      "Epoch 1: Training Loss = 0.4500, Validation Loss = 0.4500, Training Acc = 0.1001, Validation Acc = 0.0995\n",
      "Epoch 2: Training Loss = 0.4500, Validation Loss = 0.4500, Training Acc = 0.1001, Validation Acc = 0.0995\n",
      "Epoch 3: Training Loss = 0.4500, Validation Loss = 0.4500, Training Acc = 0.1001, Validation Acc = 0.0995\n",
      "Epoch 4: Training Loss = 0.4500, Validation Loss = 0.4500, Training Acc = 0.1001, Validation Acc = 0.0995\n",
      "Epoch 5: Training Loss = 0.4500, Validation Loss = 0.4500, Training Acc = 0.1001, Validation Acc = 0.0995\n"
     ]
    },
    {
     "data": {
      "text/html": [],
      "text/plain": [
       "<IPython.core.display.HTML object>"
      ]
     },
     "metadata": {},
     "output_type": "display_data"
    },
    {
     "data": {
      "text/html": [
       "<br>    <style><br>        .wandb-row {<br>            display: flex;<br>            flex-direction: row;<br>            flex-wrap: wrap;<br>            justify-content: flex-start;<br>            width: 100%;<br>        }<br>        .wandb-col {<br>            display: flex;<br>            flex-direction: column;<br>            flex-basis: 100%;<br>            flex: 1;<br>            padding: 10px;<br>        }<br>    </style><br><div class=\"wandb-row\"><div class=\"wandb-col\"><h3>Run history:</h3><br/><table class=\"wandb\"><tr><td>epoch</td><td>▁▃▅▆█</td></tr><tr><td>training_accuracy</td><td>▁▁▁▁▁</td></tr><tr><td>training_loss</td><td>█▆▄▃▁</td></tr><tr><td>validation_accuracy</td><td>▁▁▁▁▁</td></tr><tr><td>validation_loss</td><td>█▆▄▃▁</td></tr></table><br/></div><div class=\"wandb-col\"><h3>Run summary:</h3><br/><table class=\"wandb\"><tr><td>epoch</td><td>5</td></tr><tr><td>training_accuracy</td><td>0.10006</td></tr><tr><td>training_loss</td><td>0.45002</td></tr><tr><td>validation_accuracy</td><td>0.0995</td></tr><tr><td>validation_loss</td><td>0.45001</td></tr></table><br/></div></div>"
      ],
      "text/plain": [
       "<IPython.core.display.HTML object>"
      ]
     },
     "metadata": {},
     "output_type": "display_data"
    },
    {
     "data": {
      "text/html": [
       " View run <strong style=\"color:#cdcd00\">lr_0.0001_ac_sigmoid_in_random_uniform_op_nesterov_bs_64_L2_0_ep_5_nn_128_nh_4</strong> at: <a href='https://wandb.ai/cs24m037-iit-madras/DL_A1/runs/c4rwwofe' target=\"_blank\">https://wandb.ai/cs24m037-iit-madras/DL_A1/runs/c4rwwofe</a><br> View project at: <a href='https://wandb.ai/cs24m037-iit-madras/DL_A1' target=\"_blank\">https://wandb.ai/cs24m037-iit-madras/DL_A1</a><br>Synced 5 W&B file(s), 0 media file(s), 0 artifact file(s) and 0 other file(s)"
      ],
      "text/plain": [
       "<IPython.core.display.HTML object>"
      ]
     },
     "metadata": {},
     "output_type": "display_data"
    },
    {
     "data": {
      "text/html": [
       "Find logs at: <code>.\\wandb\\run-20250308_102116-c4rwwofe\\logs</code>"
      ],
      "text/plain": [
       "<IPython.core.display.HTML object>"
      ]
     },
     "metadata": {},
     "output_type": "display_data"
    },
    {
     "name": "stderr",
     "output_type": "stream",
     "text": [
      "wandb: Sweep Agent: Waiting for job.\n",
      "wandb: Job received.\n",
      "wandb: Agent Starting Run: wijc62z5 with config:\n",
      "wandb: \tL2_lamb: 0.5\n",
      "wandb: \tactivation_f: relu\n",
      "wandb: \tbatch_size: 32\n",
      "wandb: \tepochs: 10\n",
      "wandb: \tinit_mode: xavier\n",
      "wandb: \tlearning_rate: 0.001\n",
      "wandb: \tnum_hidden: 4\n",
      "wandb: \tnum_neurons: 64\n",
      "wandb: \toptimizer: nesterov\n"
     ]
    },
    {
     "data": {
      "text/html": [
       "creating run (0.0s)"
      ],
      "text/plain": [
       "<IPython.core.display.HTML object>"
      ]
     },
     "metadata": {},
     "output_type": "display_data"
    },
    {
     "data": {
      "text/html": [
       "Tracking run with wandb version 0.19.7"
      ],
      "text/plain": [
       "<IPython.core.display.HTML object>"
      ]
     },
     "metadata": {},
     "output_type": "display_data"
    },
    {
     "data": {
      "text/html": [
       "Run data is saved locally in <code>c:\\Users\\RAMKUMAR\\Desktop\\iitm\\sem2\\DL\\wandb\\run-20250308_102148-wijc62z5</code>"
      ],
      "text/plain": [
       "<IPython.core.display.HTML object>"
      ]
     },
     "metadata": {},
     "output_type": "display_data"
    },
    {
     "data": {
      "text/html": [
       "Syncing run <strong><a href='https://wandb.ai/cs24m037-iit-madras/DL_A1/runs/wijc62z5' target=\"_blank\">laced-sweep-91</a></strong> to <a href='https://wandb.ai/cs24m037-iit-madras/DL_A1' target=\"_blank\">Weights & Biases</a> (<a href='https://wandb.me/developer-guide' target=\"_blank\">docs</a>)<br>Sweep page: <a href='https://wandb.ai/cs24m037-iit-madras/DL_A1/sweeps/zbxy6yvx' target=\"_blank\">https://wandb.ai/cs24m037-iit-madras/DL_A1/sweeps/zbxy6yvx</a>"
      ],
      "text/plain": [
       "<IPython.core.display.HTML object>"
      ]
     },
     "metadata": {},
     "output_type": "display_data"
    },
    {
     "data": {
      "text/html": [
       " View project at <a href='https://wandb.ai/cs24m037-iit-madras/DL_A1' target=\"_blank\">https://wandb.ai/cs24m037-iit-madras/DL_A1</a>"
      ],
      "text/plain": [
       "<IPython.core.display.HTML object>"
      ]
     },
     "metadata": {},
     "output_type": "display_data"
    },
    {
     "data": {
      "text/html": [
       " View sweep at <a href='https://wandb.ai/cs24m037-iit-madras/DL_A1/sweeps/zbxy6yvx' target=\"_blank\">https://wandb.ai/cs24m037-iit-madras/DL_A1/sweeps/zbxy6yvx</a>"
      ],
      "text/plain": [
       "<IPython.core.display.HTML object>"
      ]
     },
     "metadata": {},
     "output_type": "display_data"
    },
    {
     "data": {
      "text/html": [
       " View run at <a href='https://wandb.ai/cs24m037-iit-madras/DL_A1/runs/wijc62z5' target=\"_blank\">https://wandb.ai/cs24m037-iit-madras/DL_A1/runs/wijc62z5</a>"
      ],
      "text/plain": [
       "<IPython.core.display.HTML object>"
      ]
     },
     "metadata": {},
     "output_type": "display_data"
    },
    {
     "name": "stdout",
     "output_type": "stream",
     "text": [
      "lr_0.001_ac_relu_in_xavier_op_nesterov_bs_32_L2_0.5_ep_10_nn_64_nh_4\n",
      "Epoch 1: Training Loss = 0.4445, Validation Loss = 0.4561, Training Acc = 0.1842, Validation Acc = 0.1825\n",
      "Epoch 2: Training Loss = 0.4407, Validation Loss = 0.4516, Training Acc = 0.2135, Validation Acc = 0.2178\n",
      "Epoch 3: Training Loss = 0.4375, Validation Loss = 0.4478, Training Acc = 0.2162, Validation Acc = 0.2232\n",
      "Epoch 4: Training Loss = 0.4345, Validation Loss = 0.4443, Training Acc = 0.2129, Validation Acc = 0.2130\n",
      "Epoch 5: Training Loss = 0.4313, Validation Loss = 0.4405, Training Acc = 0.2142, Validation Acc = 0.2138\n",
      "Epoch 6: Training Loss = 0.4276, Validation Loss = 0.4364, Training Acc = 0.2366, Validation Acc = 0.2397\n",
      "Epoch 7: Training Loss = 0.4230, Validation Loss = 0.4314, Training Acc = 0.2800, Validation Acc = 0.2795\n",
      "Epoch 8: Training Loss = 0.4174, Validation Loss = 0.4253, Training Acc = 0.2988, Validation Acc = 0.3008\n",
      "Epoch 9: Training Loss = 0.4110, Validation Loss = 0.4187, Training Acc = 0.2851, Validation Acc = 0.2853\n",
      "Epoch 10: Training Loss = 0.4045, Validation Loss = 0.4118, Training Acc = 0.2803, Validation Acc = 0.2825\n"
     ]
    },
    {
     "data": {
      "text/html": [],
      "text/plain": [
       "<IPython.core.display.HTML object>"
      ]
     },
     "metadata": {},
     "output_type": "display_data"
    },
    {
     "data": {
      "text/html": [
       "<br>    <style><br>        .wandb-row {<br>            display: flex;<br>            flex-direction: row;<br>            flex-wrap: wrap;<br>            justify-content: flex-start;<br>            width: 100%;<br>        }<br>        .wandb-col {<br>            display: flex;<br>            flex-direction: column;<br>            flex-basis: 100%;<br>            flex: 1;<br>            padding: 10px;<br>        }<br>    </style><br><div class=\"wandb-row\"><div class=\"wandb-col\"><h3>Run history:</h3><br/><table class=\"wandb\"><tr><td>epoch</td><td>▁▂▃▃▄▅▆▆▇█</td></tr><tr><td>training_accuracy</td><td>▁▃▃▃▃▄▇█▇▇</td></tr><tr><td>training_loss</td><td>█▇▇▆▆▅▄▃▂▁</td></tr><tr><td>validation_accuracy</td><td>▁▃▃▃▃▄▇█▇▇</td></tr><tr><td>validation_loss</td><td>█▇▇▆▆▅▄▃▂▁</td></tr></table><br/></div><div class=\"wandb-col\"><h3>Run summary:</h3><br/><table class=\"wandb\"><tr><td>epoch</td><td>10</td></tr><tr><td>training_accuracy</td><td>0.28028</td></tr><tr><td>training_loss</td><td>0.40453</td></tr><tr><td>validation_accuracy</td><td>0.2825</td></tr><tr><td>validation_loss</td><td>0.41183</td></tr></table><br/></div></div>"
      ],
      "text/plain": [
       "<IPython.core.display.HTML object>"
      ]
     },
     "metadata": {},
     "output_type": "display_data"
    },
    {
     "data": {
      "text/html": [
       " View run <strong style=\"color:#cdcd00\">lr_0.001_ac_relu_in_xavier_op_nesterov_bs_32_L2_0.5_ep_10_nn_64_nh_4</strong> at: <a href='https://wandb.ai/cs24m037-iit-madras/DL_A1/runs/wijc62z5' target=\"_blank\">https://wandb.ai/cs24m037-iit-madras/DL_A1/runs/wijc62z5</a><br> View project at: <a href='https://wandb.ai/cs24m037-iit-madras/DL_A1' target=\"_blank\">https://wandb.ai/cs24m037-iit-madras/DL_A1</a><br>Synced 5 W&B file(s), 0 media file(s), 0 artifact file(s) and 0 other file(s)"
      ],
      "text/plain": [
       "<IPython.core.display.HTML object>"
      ]
     },
     "metadata": {},
     "output_type": "display_data"
    },
    {
     "data": {
      "text/html": [
       "Find logs at: <code>.\\wandb\\run-20250308_102148-wijc62z5\\logs</code>"
      ],
      "text/plain": [
       "<IPython.core.display.HTML object>"
      ]
     },
     "metadata": {},
     "output_type": "display_data"
    },
    {
     "name": "stderr",
     "output_type": "stream",
     "text": [
      "wandb: Sweep Agent: Waiting for job.\n",
      "wandb: Job received.\n",
      "wandb: Agent Starting Run: zr3ysy3l with config:\n",
      "wandb: \tL2_lamb: 0.5\n",
      "wandb: \tactivation_f: relu\n",
      "wandb: \tbatch_size: 16\n",
      "wandb: \tepochs: 5\n",
      "wandb: \tinit_mode: random_uniform\n",
      "wandb: \tlearning_rate: 0.0001\n",
      "wandb: \tnum_hidden: 5\n",
      "wandb: \tnum_neurons: 64\n",
      "wandb: \toptimizer: adam\n"
     ]
    },
    {
     "data": {
      "text/html": [
       "creating run (0.0s)"
      ],
      "text/plain": [
       "<IPython.core.display.HTML object>"
      ]
     },
     "metadata": {},
     "output_type": "display_data"
    },
    {
     "data": {
      "text/html": [
       "Tracking run with wandb version 0.19.7"
      ],
      "text/plain": [
       "<IPython.core.display.HTML object>"
      ]
     },
     "metadata": {},
     "output_type": "display_data"
    },
    {
     "data": {
      "text/html": [
       "Run data is saved locally in <code>c:\\Users\\RAMKUMAR\\Desktop\\iitm\\sem2\\DL\\wandb\\run-20250308_102220-zr3ysy3l</code>"
      ],
      "text/plain": [
       "<IPython.core.display.HTML object>"
      ]
     },
     "metadata": {},
     "output_type": "display_data"
    },
    {
     "data": {
      "text/html": [
       "Syncing run <strong><a href='https://wandb.ai/cs24m037-iit-madras/DL_A1/runs/zr3ysy3l' target=\"_blank\">astral-sweep-92</a></strong> to <a href='https://wandb.ai/cs24m037-iit-madras/DL_A1' target=\"_blank\">Weights & Biases</a> (<a href='https://wandb.me/developer-guide' target=\"_blank\">docs</a>)<br>Sweep page: <a href='https://wandb.ai/cs24m037-iit-madras/DL_A1/sweeps/zbxy6yvx' target=\"_blank\">https://wandb.ai/cs24m037-iit-madras/DL_A1/sweeps/zbxy6yvx</a>"
      ],
      "text/plain": [
       "<IPython.core.display.HTML object>"
      ]
     },
     "metadata": {},
     "output_type": "display_data"
    },
    {
     "data": {
      "text/html": [
       " View project at <a href='https://wandb.ai/cs24m037-iit-madras/DL_A1' target=\"_blank\">https://wandb.ai/cs24m037-iit-madras/DL_A1</a>"
      ],
      "text/plain": [
       "<IPython.core.display.HTML object>"
      ]
     },
     "metadata": {},
     "output_type": "display_data"
    },
    {
     "data": {
      "text/html": [
       " View sweep at <a href='https://wandb.ai/cs24m037-iit-madras/DL_A1/sweeps/zbxy6yvx' target=\"_blank\">https://wandb.ai/cs24m037-iit-madras/DL_A1/sweeps/zbxy6yvx</a>"
      ],
      "text/plain": [
       "<IPython.core.display.HTML object>"
      ]
     },
     "metadata": {},
     "output_type": "display_data"
    },
    {
     "data": {
      "text/html": [
       " View run at <a href='https://wandb.ai/cs24m037-iit-madras/DL_A1/runs/zr3ysy3l' target=\"_blank\">https://wandb.ai/cs24m037-iit-madras/DL_A1/runs/zr3ysy3l</a>"
      ],
      "text/plain": [
       "<IPython.core.display.HTML object>"
      ]
     },
     "metadata": {},
     "output_type": "display_data"
    },
    {
     "name": "stdout",
     "output_type": "stream",
     "text": [
      "lr_0.0001_ac_relu_in_random_uniform_op_adam_bs_16_L2_0.5_ep_5_nn_64_nh_5\n",
      "Epoch 1: Training Loss = 0.4500, Validation Loss = 0.4500, Training Acc = 0.1001, Validation Acc = 0.0995\n",
      "Epoch 2: Training Loss = 0.4500, Validation Loss = 0.4500, Training Acc = 0.1001, Validation Acc = 0.0995\n",
      "Epoch 3: Training Loss = 0.4500, Validation Loss = 0.4500, Training Acc = 0.1001, Validation Acc = 0.0995\n",
      "Epoch 4: Training Loss = 0.4500, Validation Loss = 0.4500, Training Acc = 0.1001, Validation Acc = 0.0995\n",
      "Epoch 5: Training Loss = 0.4500, Validation Loss = 0.4500, Training Acc = 0.1001, Validation Acc = 0.0995\n"
     ]
    },
    {
     "data": {
      "text/html": [],
      "text/plain": [
       "<IPython.core.display.HTML object>"
      ]
     },
     "metadata": {},
     "output_type": "display_data"
    },
    {
     "data": {
      "text/html": [
       "<br>    <style><br>        .wandb-row {<br>            display: flex;<br>            flex-direction: row;<br>            flex-wrap: wrap;<br>            justify-content: flex-start;<br>            width: 100%;<br>        }<br>        .wandb-col {<br>            display: flex;<br>            flex-direction: column;<br>            flex-basis: 100%;<br>            flex: 1;<br>            padding: 10px;<br>        }<br>    </style><br><div class=\"wandb-row\"><div class=\"wandb-col\"><h3>Run history:</h3><br/><table class=\"wandb\"><tr><td>epoch</td><td>▁▃▅▆█</td></tr><tr><td>training_accuracy</td><td>▁▁▁▁▁</td></tr><tr><td>training_loss</td><td>▁▁▁▁▁</td></tr><tr><td>validation_accuracy</td><td>▁▁▁▁▁</td></tr><tr><td>validation_loss</td><td>▁▁▁▁▁</td></tr></table><br/></div><div class=\"wandb-col\"><h3>Run summary:</h3><br/><table class=\"wandb\"><tr><td>epoch</td><td>5</td></tr><tr><td>training_accuracy</td><td>0.10006</td></tr><tr><td>training_loss</td><td>0.45</td></tr><tr><td>validation_accuracy</td><td>0.0995</td></tr><tr><td>validation_loss</td><td>0.45</td></tr></table><br/></div></div>"
      ],
      "text/plain": [
       "<IPython.core.display.HTML object>"
      ]
     },
     "metadata": {},
     "output_type": "display_data"
    },
    {
     "data": {
      "text/html": [
       " View run <strong style=\"color:#cdcd00\">lr_0.0001_ac_relu_in_random_uniform_op_adam_bs_16_L2_0.5_ep_5_nn_64_nh_5</strong> at: <a href='https://wandb.ai/cs24m037-iit-madras/DL_A1/runs/zr3ysy3l' target=\"_blank\">https://wandb.ai/cs24m037-iit-madras/DL_A1/runs/zr3ysy3l</a><br> View project at: <a href='https://wandb.ai/cs24m037-iit-madras/DL_A1' target=\"_blank\">https://wandb.ai/cs24m037-iit-madras/DL_A1</a><br>Synced 5 W&B file(s), 0 media file(s), 0 artifact file(s) and 0 other file(s)"
      ],
      "text/plain": [
       "<IPython.core.display.HTML object>"
      ]
     },
     "metadata": {},
     "output_type": "display_data"
    },
    {
     "data": {
      "text/html": [
       "Find logs at: <code>.\\wandb\\run-20250308_102220-zr3ysy3l\\logs</code>"
      ],
      "text/plain": [
       "<IPython.core.display.HTML object>"
      ]
     },
     "metadata": {},
     "output_type": "display_data"
    },
    {
     "name": "stderr",
     "output_type": "stream",
     "text": [
      "wandb: Agent Starting Run: 55tx89j9 with config:\n",
      "wandb: \tL2_lamb: 0.5\n",
      "wandb: \tactivation_f: relu\n",
      "wandb: \tbatch_size: 16\n",
      "wandb: \tepochs: 10\n",
      "wandb: \tinit_mode: xavier\n",
      "wandb: \tlearning_rate: 0.001\n",
      "wandb: \tnum_hidden: 5\n",
      "wandb: \tnum_neurons: 64\n",
      "wandb: \toptimizer: momentum\n"
     ]
    },
    {
     "data": {
      "text/html": [
       "Tracking run with wandb version 0.19.7"
      ],
      "text/plain": [
       "<IPython.core.display.HTML object>"
      ]
     },
     "metadata": {},
     "output_type": "display_data"
    },
    {
     "data": {
      "text/html": [
       "Run data is saved locally in <code>c:\\Users\\RAMKUMAR\\Desktop\\iitm\\sem2\\DL\\wandb\\run-20250308_102247-55tx89j9</code>"
      ],
      "text/plain": [
       "<IPython.core.display.HTML object>"
      ]
     },
     "metadata": {},
     "output_type": "display_data"
    },
    {
     "data": {
      "text/html": [
       "Syncing run <strong><a href='https://wandb.ai/cs24m037-iit-madras/DL_A1/runs/55tx89j9' target=\"_blank\">bright-sweep-93</a></strong> to <a href='https://wandb.ai/cs24m037-iit-madras/DL_A1' target=\"_blank\">Weights & Biases</a> (<a href='https://wandb.me/developer-guide' target=\"_blank\">docs</a>)<br>Sweep page: <a href='https://wandb.ai/cs24m037-iit-madras/DL_A1/sweeps/zbxy6yvx' target=\"_blank\">https://wandb.ai/cs24m037-iit-madras/DL_A1/sweeps/zbxy6yvx</a>"
      ],
      "text/plain": [
       "<IPython.core.display.HTML object>"
      ]
     },
     "metadata": {},
     "output_type": "display_data"
    },
    {
     "data": {
      "text/html": [
       " View project at <a href='https://wandb.ai/cs24m037-iit-madras/DL_A1' target=\"_blank\">https://wandb.ai/cs24m037-iit-madras/DL_A1</a>"
      ],
      "text/plain": [
       "<IPython.core.display.HTML object>"
      ]
     },
     "metadata": {},
     "output_type": "display_data"
    },
    {
     "data": {
      "text/html": [
       " View sweep at <a href='https://wandb.ai/cs24m037-iit-madras/DL_A1/sweeps/zbxy6yvx' target=\"_blank\">https://wandb.ai/cs24m037-iit-madras/DL_A1/sweeps/zbxy6yvx</a>"
      ],
      "text/plain": [
       "<IPython.core.display.HTML object>"
      ]
     },
     "metadata": {},
     "output_type": "display_data"
    },
    {
     "data": {
      "text/html": [
       " View run at <a href='https://wandb.ai/cs24m037-iit-madras/DL_A1/runs/55tx89j9' target=\"_blank\">https://wandb.ai/cs24m037-iit-madras/DL_A1/runs/55tx89j9</a>"
      ],
      "text/plain": [
       "<IPython.core.display.HTML object>"
      ]
     },
     "metadata": {},
     "output_type": "display_data"
    },
    {
     "name": "stdout",
     "output_type": "stream",
     "text": [
      "lr_0.001_ac_relu_in_xavier_op_momentum_bs_16_L2_0.5_ep_10_nn_64_nh_5\n",
      "Epoch 1: Training Loss = 0.4500, Validation Loss = 0.4620, Training Acc = 0.1096, Validation Acc = 0.1122\n",
      "Epoch 2: Training Loss = 0.4494, Validation Loss = 0.4591, Training Acc = 0.1486, Validation Acc = 0.1487\n",
      "Epoch 3: Training Loss = 0.4495, Validation Loss = 0.4573, Training Acc = 0.2299, Validation Acc = 0.2293\n",
      "Epoch 4: Training Loss = 0.4497, Validation Loss = 0.4560, Training Acc = 0.2974, Validation Acc = 0.2865\n",
      "Epoch 5: Training Loss = 0.4499, Validation Loss = 0.4550, Training Acc = 0.3092, Validation Acc = 0.2933\n",
      "Epoch 6: Training Loss = 0.4501, Validation Loss = 0.4542, Training Acc = 0.2478, Validation Acc = 0.2332\n",
      "Epoch 7: Training Loss = 0.4501, Validation Loss = 0.4535, Training Acc = 0.1450, Validation Acc = 0.1323\n",
      "Epoch 8: Training Loss = 0.4502, Validation Loss = 0.4529, Training Acc = 0.1021, Validation Acc = 0.0923\n",
      "Epoch 9: Training Loss = 0.4502, Validation Loss = 0.4524, Training Acc = 0.1009, Validation Acc = 0.0917\n",
      "Epoch 10: Training Loss = 0.4502, Validation Loss = 0.4520, Training Acc = 0.1009, Validation Acc = 0.0917\n"
     ]
    },
    {
     "data": {
      "text/html": [],
      "text/plain": [
       "<IPython.core.display.HTML object>"
      ]
     },
     "metadata": {},
     "output_type": "display_data"
    },
    {
     "data": {
      "text/html": [
       "<br>    <style><br>        .wandb-row {<br>            display: flex;<br>            flex-direction: row;<br>            flex-wrap: wrap;<br>            justify-content: flex-start;<br>            width: 100%;<br>        }<br>        .wandb-col {<br>            display: flex;<br>            flex-direction: column;<br>            flex-basis: 100%;<br>            flex: 1;<br>            padding: 10px;<br>        }<br>    </style><br><div class=\"wandb-row\"><div class=\"wandb-col\"><h3>Run history:</h3><br/><table class=\"wandb\"><tr><td>epoch</td><td>▁▂▃▃▄▅▆▆▇█</td></tr><tr><td>training_accuracy</td><td>▁▃▅██▆▂▁▁▁</td></tr><tr><td>training_loss</td><td>▇▁▂▄▆▇████</td></tr><tr><td>validation_accuracy</td><td>▂▃▆██▆▂▁▁▁</td></tr><tr><td>validation_loss</td><td>█▆▅▄▃▃▂▂▁▁</td></tr></table><br/></div><div class=\"wandb-col\"><h3>Run summary:</h3><br/><table class=\"wandb\"><tr><td>epoch</td><td>10</td></tr><tr><td>training_accuracy</td><td>0.10093</td></tr><tr><td>training_loss</td><td>0.45017</td></tr><tr><td>validation_accuracy</td><td>0.09167</td></tr><tr><td>validation_loss</td><td>0.45196</td></tr></table><br/></div></div>"
      ],
      "text/plain": [
       "<IPython.core.display.HTML object>"
      ]
     },
     "metadata": {},
     "output_type": "display_data"
    },
    {
     "data": {
      "text/html": [
       " View run <strong style=\"color:#cdcd00\">lr_0.001_ac_relu_in_xavier_op_momentum_bs_16_L2_0.5_ep_10_nn_64_nh_5</strong> at: <a href='https://wandb.ai/cs24m037-iit-madras/DL_A1/runs/55tx89j9' target=\"_blank\">https://wandb.ai/cs24m037-iit-madras/DL_A1/runs/55tx89j9</a><br> View project at: <a href='https://wandb.ai/cs24m037-iit-madras/DL_A1' target=\"_blank\">https://wandb.ai/cs24m037-iit-madras/DL_A1</a><br>Synced 5 W&B file(s), 0 media file(s), 0 artifact file(s) and 0 other file(s)"
      ],
      "text/plain": [
       "<IPython.core.display.HTML object>"
      ]
     },
     "metadata": {},
     "output_type": "display_data"
    },
    {
     "data": {
      "text/html": [
       "Find logs at: <code>.\\wandb\\run-20250308_102247-55tx89j9\\logs</code>"
      ],
      "text/plain": [
       "<IPython.core.display.HTML object>"
      ]
     },
     "metadata": {},
     "output_type": "display_data"
    },
    {
     "name": "stderr",
     "output_type": "stream",
     "text": [
      "wandb: Agent Starting Run: awb7cpzr with config:\n",
      "wandb: \tL2_lamb: 0\n",
      "wandb: \tactivation_f: relu\n",
      "wandb: \tbatch_size: 32\n",
      "wandb: \tepochs: 5\n",
      "wandb: \tinit_mode: random_uniform\n",
      "wandb: \tlearning_rate: 0.001\n",
      "wandb: \tnum_hidden: 5\n",
      "wandb: \tnum_neurons: 32\n",
      "wandb: \toptimizer: sgd\n"
     ]
    },
    {
     "data": {
      "text/html": [
       "Tracking run with wandb version 0.19.7"
      ],
      "text/plain": [
       "<IPython.core.display.HTML object>"
      ]
     },
     "metadata": {},
     "output_type": "display_data"
    },
    {
     "data": {
      "text/html": [
       "Run data is saved locally in <code>c:\\Users\\RAMKUMAR\\Desktop\\iitm\\sem2\\DL\\wandb\\run-20250308_102319-awb7cpzr</code>"
      ],
      "text/plain": [
       "<IPython.core.display.HTML object>"
      ]
     },
     "metadata": {},
     "output_type": "display_data"
    },
    {
     "data": {
      "text/html": [
       "Syncing run <strong><a href='https://wandb.ai/cs24m037-iit-madras/DL_A1/runs/awb7cpzr' target=\"_blank\">summer-sweep-94</a></strong> to <a href='https://wandb.ai/cs24m037-iit-madras/DL_A1' target=\"_blank\">Weights & Biases</a> (<a href='https://wandb.me/developer-guide' target=\"_blank\">docs</a>)<br>Sweep page: <a href='https://wandb.ai/cs24m037-iit-madras/DL_A1/sweeps/zbxy6yvx' target=\"_blank\">https://wandb.ai/cs24m037-iit-madras/DL_A1/sweeps/zbxy6yvx</a>"
      ],
      "text/plain": [
       "<IPython.core.display.HTML object>"
      ]
     },
     "metadata": {},
     "output_type": "display_data"
    },
    {
     "data": {
      "text/html": [
       " View project at <a href='https://wandb.ai/cs24m037-iit-madras/DL_A1' target=\"_blank\">https://wandb.ai/cs24m037-iit-madras/DL_A1</a>"
      ],
      "text/plain": [
       "<IPython.core.display.HTML object>"
      ]
     },
     "metadata": {},
     "output_type": "display_data"
    },
    {
     "data": {
      "text/html": [
       " View sweep at <a href='https://wandb.ai/cs24m037-iit-madras/DL_A1/sweeps/zbxy6yvx' target=\"_blank\">https://wandb.ai/cs24m037-iit-madras/DL_A1/sweeps/zbxy6yvx</a>"
      ],
      "text/plain": [
       "<IPython.core.display.HTML object>"
      ]
     },
     "metadata": {},
     "output_type": "display_data"
    },
    {
     "data": {
      "text/html": [
       " View run at <a href='https://wandb.ai/cs24m037-iit-madras/DL_A1/runs/awb7cpzr' target=\"_blank\">https://wandb.ai/cs24m037-iit-madras/DL_A1/runs/awb7cpzr</a>"
      ],
      "text/plain": [
       "<IPython.core.display.HTML object>"
      ]
     },
     "metadata": {},
     "output_type": "display_data"
    },
    {
     "name": "stdout",
     "output_type": "stream",
     "text": [
      "lr_0.001_ac_relu_in_random_uniform_op_sgd_bs_32_L2_0_ep_5_nn_32_nh_5\n",
      "Epoch 1: Training Loss = 0.4500, Validation Loss = 0.4500, Training Acc = 0.1009, Validation Acc = 0.0917\n",
      "Epoch 2: Training Loss = 0.4500, Validation Loss = 0.4500, Training Acc = 0.1009, Validation Acc = 0.0917\n",
      "Epoch 3: Training Loss = 0.4500, Validation Loss = 0.4500, Training Acc = 0.1009, Validation Acc = 0.0917\n",
      "Epoch 4: Training Loss = 0.4500, Validation Loss = 0.4500, Training Acc = 0.1009, Validation Acc = 0.0917\n",
      "Epoch 5: Training Loss = 0.4500, Validation Loss = 0.4500, Training Acc = 0.1009, Validation Acc = 0.0917\n"
     ]
    },
    {
     "data": {
      "text/html": [],
      "text/plain": [
       "<IPython.core.display.HTML object>"
      ]
     },
     "metadata": {},
     "output_type": "display_data"
    },
    {
     "data": {
      "text/html": [
       "<br>    <style><br>        .wandb-row {<br>            display: flex;<br>            flex-direction: row;<br>            flex-wrap: wrap;<br>            justify-content: flex-start;<br>            width: 100%;<br>        }<br>        .wandb-col {<br>            display: flex;<br>            flex-direction: column;<br>            flex-basis: 100%;<br>            flex: 1;<br>            padding: 10px;<br>        }<br>    </style><br><div class=\"wandb-row\"><div class=\"wandb-col\"><h3>Run history:</h3><br/><table class=\"wandb\"><tr><td>epoch</td><td>▁▃▅▆█</td></tr><tr><td>training_accuracy</td><td>▁▁▁▁▁</td></tr><tr><td>training_loss</td><td>█▆▃▁▁</td></tr><tr><td>validation_accuracy</td><td>▁▁▁▁▁</td></tr><tr><td>validation_loss</td><td>▁▃▅▆█</td></tr></table><br/></div><div class=\"wandb-col\"><h3>Run summary:</h3><br/><table class=\"wandb\"><tr><td>epoch</td><td>5</td></tr><tr><td>training_accuracy</td><td>0.10093</td></tr><tr><td>training_loss</td><td>0.45</td></tr><tr><td>validation_accuracy</td><td>0.09167</td></tr><tr><td>validation_loss</td><td>0.45</td></tr></table><br/></div></div>"
      ],
      "text/plain": [
       "<IPython.core.display.HTML object>"
      ]
     },
     "metadata": {},
     "output_type": "display_data"
    },
    {
     "data": {
      "text/html": [
       " View run <strong style=\"color:#cdcd00\">lr_0.001_ac_relu_in_random_uniform_op_sgd_bs_32_L2_0_ep_5_nn_32_nh_5</strong> at: <a href='https://wandb.ai/cs24m037-iit-madras/DL_A1/runs/awb7cpzr' target=\"_blank\">https://wandb.ai/cs24m037-iit-madras/DL_A1/runs/awb7cpzr</a><br> View project at: <a href='https://wandb.ai/cs24m037-iit-madras/DL_A1' target=\"_blank\">https://wandb.ai/cs24m037-iit-madras/DL_A1</a><br>Synced 5 W&B file(s), 0 media file(s), 0 artifact file(s) and 0 other file(s)"
      ],
      "text/plain": [
       "<IPython.core.display.HTML object>"
      ]
     },
     "metadata": {},
     "output_type": "display_data"
    },
    {
     "data": {
      "text/html": [
       "Find logs at: <code>.\\wandb\\run-20250308_102319-awb7cpzr\\logs</code>"
      ],
      "text/plain": [
       "<IPython.core.display.HTML object>"
      ]
     },
     "metadata": {},
     "output_type": "display_data"
    },
    {
     "name": "stderr",
     "output_type": "stream",
     "text": [
      "wandb: Agent Starting Run: lqf8xpum with config:\n",
      "wandb: \tL2_lamb: 0.5\n",
      "wandb: \tactivation_f: relu\n",
      "wandb: \tbatch_size: 16\n",
      "wandb: \tepochs: 10\n",
      "wandb: \tinit_mode: random_uniform\n",
      "wandb: \tlearning_rate: 0.001\n",
      "wandb: \tnum_hidden: 5\n",
      "wandb: \tnum_neurons: 32\n",
      "wandb: \toptimizer: nesterov\n"
     ]
    },
    {
     "data": {
      "text/html": [
       "Tracking run with wandb version 0.19.7"
      ],
      "text/plain": [
       "<IPython.core.display.HTML object>"
      ]
     },
     "metadata": {},
     "output_type": "display_data"
    },
    {
     "data": {
      "text/html": [
       "Run data is saved locally in <code>c:\\Users\\RAMKUMAR\\Desktop\\iitm\\sem2\\DL\\wandb\\run-20250308_102329-lqf8xpum</code>"
      ],
      "text/plain": [
       "<IPython.core.display.HTML object>"
      ]
     },
     "metadata": {},
     "output_type": "display_data"
    },
    {
     "data": {
      "text/html": [
       "Syncing run <strong><a href='https://wandb.ai/cs24m037-iit-madras/DL_A1/runs/lqf8xpum' target=\"_blank\">snowy-sweep-95</a></strong> to <a href='https://wandb.ai/cs24m037-iit-madras/DL_A1' target=\"_blank\">Weights & Biases</a> (<a href='https://wandb.me/developer-guide' target=\"_blank\">docs</a>)<br>Sweep page: <a href='https://wandb.ai/cs24m037-iit-madras/DL_A1/sweeps/zbxy6yvx' target=\"_blank\">https://wandb.ai/cs24m037-iit-madras/DL_A1/sweeps/zbxy6yvx</a>"
      ],
      "text/plain": [
       "<IPython.core.display.HTML object>"
      ]
     },
     "metadata": {},
     "output_type": "display_data"
    },
    {
     "data": {
      "text/html": [
       " View project at <a href='https://wandb.ai/cs24m037-iit-madras/DL_A1' target=\"_blank\">https://wandb.ai/cs24m037-iit-madras/DL_A1</a>"
      ],
      "text/plain": [
       "<IPython.core.display.HTML object>"
      ]
     },
     "metadata": {},
     "output_type": "display_data"
    },
    {
     "data": {
      "text/html": [
       " View sweep at <a href='https://wandb.ai/cs24m037-iit-madras/DL_A1/sweeps/zbxy6yvx' target=\"_blank\">https://wandb.ai/cs24m037-iit-madras/DL_A1/sweeps/zbxy6yvx</a>"
      ],
      "text/plain": [
       "<IPython.core.display.HTML object>"
      ]
     },
     "metadata": {},
     "output_type": "display_data"
    },
    {
     "data": {
      "text/html": [
       " View run at <a href='https://wandb.ai/cs24m037-iit-madras/DL_A1/runs/lqf8xpum' target=\"_blank\">https://wandb.ai/cs24m037-iit-madras/DL_A1/runs/lqf8xpum</a>"
      ],
      "text/plain": [
       "<IPython.core.display.HTML object>"
      ]
     },
     "metadata": {},
     "output_type": "display_data"
    },
    {
     "name": "stdout",
     "output_type": "stream",
     "text": [
      "lr_0.001_ac_relu_in_random_uniform_op_nesterov_bs_16_L2_0.5_ep_10_nn_32_nh_5\n",
      "Epoch 1: Training Loss = 0.4500, Validation Loss = 0.4500, Training Acc = 0.1009, Validation Acc = 0.0917\n",
      "Epoch 2: Training Loss = 0.4500, Validation Loss = 0.4500, Training Acc = 0.1009, Validation Acc = 0.0917\n",
      "Epoch 3: Training Loss = 0.4500, Validation Loss = 0.4500, Training Acc = 0.1009, Validation Acc = 0.0917\n",
      "Epoch 4: Training Loss = 0.4500, Validation Loss = 0.4500, Training Acc = 0.1009, Validation Acc = 0.0917\n",
      "Epoch 5: Training Loss = 0.4500, Validation Loss = 0.4500, Training Acc = 0.1009, Validation Acc = 0.0917\n",
      "Epoch 6: Training Loss = 0.4500, Validation Loss = 0.4500, Training Acc = 0.1009, Validation Acc = 0.0917\n",
      "Epoch 7: Training Loss = 0.4500, Validation Loss = 0.4500, Training Acc = 0.1009, Validation Acc = 0.0917\n",
      "Epoch 8: Training Loss = 0.4500, Validation Loss = 0.4500, Training Acc = 0.1009, Validation Acc = 0.0917\n",
      "Epoch 9: Training Loss = 0.4500, Validation Loss = 0.4500, Training Acc = 0.1009, Validation Acc = 0.0917\n",
      "Epoch 10: Training Loss = 0.4500, Validation Loss = 0.4500, Training Acc = 0.1009, Validation Acc = 0.0917\n"
     ]
    },
    {
     "data": {
      "text/html": [],
      "text/plain": [
       "<IPython.core.display.HTML object>"
      ]
     },
     "metadata": {},
     "output_type": "display_data"
    },
    {
     "data": {
      "text/html": [
       "<br>    <style><br>        .wandb-row {<br>            display: flex;<br>            flex-direction: row;<br>            flex-wrap: wrap;<br>            justify-content: flex-start;<br>            width: 100%;<br>        }<br>        .wandb-col {<br>            display: flex;<br>            flex-direction: column;<br>            flex-basis: 100%;<br>            flex: 1;<br>            padding: 10px;<br>        }<br>    </style><br><div class=\"wandb-row\"><div class=\"wandb-col\"><h3>Run history:</h3><br/><table class=\"wandb\"><tr><td>epoch</td><td>▁▂▃▃▄▅▆▆▇█</td></tr><tr><td>training_accuracy</td><td>▁▁▁▁▁▁▁▁▁▁</td></tr><tr><td>training_loss</td><td>█▇▅▄▃▃▂▂▁▁</td></tr><tr><td>validation_accuracy</td><td>▁▁▁▁▁▁▁▁▁▁</td></tr><tr><td>validation_loss</td><td>█▆▅▄▃▃▂▂▁▁</td></tr></table><br/></div><div class=\"wandb-col\"><h3>Run summary:</h3><br/><table class=\"wandb\"><tr><td>epoch</td><td>10</td></tr><tr><td>training_accuracy</td><td>0.10093</td></tr><tr><td>training_loss</td><td>0.45</td></tr><tr><td>validation_accuracy</td><td>0.09167</td></tr><tr><td>validation_loss</td><td>0.45001</td></tr></table><br/></div></div>"
      ],
      "text/plain": [
       "<IPython.core.display.HTML object>"
      ]
     },
     "metadata": {},
     "output_type": "display_data"
    },
    {
     "data": {
      "text/html": [
       " View run <strong style=\"color:#cdcd00\">lr_0.001_ac_relu_in_random_uniform_op_nesterov_bs_16_L2_0.5_ep_10_nn_32_nh_5</strong> at: <a href='https://wandb.ai/cs24m037-iit-madras/DL_A1/runs/lqf8xpum' target=\"_blank\">https://wandb.ai/cs24m037-iit-madras/DL_A1/runs/lqf8xpum</a><br> View project at: <a href='https://wandb.ai/cs24m037-iit-madras/DL_A1' target=\"_blank\">https://wandb.ai/cs24m037-iit-madras/DL_A1</a><br>Synced 5 W&B file(s), 0 media file(s), 0 artifact file(s) and 0 other file(s)"
      ],
      "text/plain": [
       "<IPython.core.display.HTML object>"
      ]
     },
     "metadata": {},
     "output_type": "display_data"
    },
    {
     "data": {
      "text/html": [
       "Find logs at: <code>.\\wandb\\run-20250308_102329-lqf8xpum\\logs</code>"
      ],
      "text/plain": [
       "<IPython.core.display.HTML object>"
      ]
     },
     "metadata": {},
     "output_type": "display_data"
    },
    {
     "name": "stderr",
     "output_type": "stream",
     "text": [
      "wandb: Agent Starting Run: w0938nxo with config:\n",
      "wandb: \tL2_lamb: 0\n",
      "wandb: \tactivation_f: relu\n",
      "wandb: \tbatch_size: 16\n",
      "wandb: \tepochs: 5\n",
      "wandb: \tinit_mode: random_uniform\n",
      "wandb: \tlearning_rate: 0.0001\n",
      "wandb: \tnum_hidden: 4\n",
      "wandb: \tnum_neurons: 32\n",
      "wandb: \toptimizer: nadam\n"
     ]
    },
    {
     "data": {
      "text/html": [
       "Tracking run with wandb version 0.19.7"
      ],
      "text/plain": [
       "<IPython.core.display.HTML object>"
      ]
     },
     "metadata": {},
     "output_type": "display_data"
    },
    {
     "data": {
      "text/html": [
       "Run data is saved locally in <code>c:\\Users\\RAMKUMAR\\Desktop\\iitm\\sem2\\DL\\wandb\\run-20250308_102351-w0938nxo</code>"
      ],
      "text/plain": [
       "<IPython.core.display.HTML object>"
      ]
     },
     "metadata": {},
     "output_type": "display_data"
    },
    {
     "data": {
      "text/html": [
       "Syncing run <strong><a href='https://wandb.ai/cs24m037-iit-madras/DL_A1/runs/w0938nxo' target=\"_blank\">usual-sweep-96</a></strong> to <a href='https://wandb.ai/cs24m037-iit-madras/DL_A1' target=\"_blank\">Weights & Biases</a> (<a href='https://wandb.me/developer-guide' target=\"_blank\">docs</a>)<br>Sweep page: <a href='https://wandb.ai/cs24m037-iit-madras/DL_A1/sweeps/zbxy6yvx' target=\"_blank\">https://wandb.ai/cs24m037-iit-madras/DL_A1/sweeps/zbxy6yvx</a>"
      ],
      "text/plain": [
       "<IPython.core.display.HTML object>"
      ]
     },
     "metadata": {},
     "output_type": "display_data"
    },
    {
     "data": {
      "text/html": [
       " View project at <a href='https://wandb.ai/cs24m037-iit-madras/DL_A1' target=\"_blank\">https://wandb.ai/cs24m037-iit-madras/DL_A1</a>"
      ],
      "text/plain": [
       "<IPython.core.display.HTML object>"
      ]
     },
     "metadata": {},
     "output_type": "display_data"
    },
    {
     "data": {
      "text/html": [
       " View sweep at <a href='https://wandb.ai/cs24m037-iit-madras/DL_A1/sweeps/zbxy6yvx' target=\"_blank\">https://wandb.ai/cs24m037-iit-madras/DL_A1/sweeps/zbxy6yvx</a>"
      ],
      "text/plain": [
       "<IPython.core.display.HTML object>"
      ]
     },
     "metadata": {},
     "output_type": "display_data"
    },
    {
     "data": {
      "text/html": [
       " View run at <a href='https://wandb.ai/cs24m037-iit-madras/DL_A1/runs/w0938nxo' target=\"_blank\">https://wandb.ai/cs24m037-iit-madras/DL_A1/runs/w0938nxo</a>"
      ],
      "text/plain": [
       "<IPython.core.display.HTML object>"
      ]
     },
     "metadata": {},
     "output_type": "display_data"
    },
    {
     "name": "stdout",
     "output_type": "stream",
     "text": [
      "lr_0.0001_ac_relu_in_random_uniform_op_nadam_bs_16_L2_0_ep_5_nn_32_nh_4\n",
      "Epoch 1: Training Loss = 0.4185, Validation Loss = 0.4176, Training Acc = 0.0998, Validation Acc = 0.1018\n",
      "Epoch 2: Training Loss = 0.4150, Validation Loss = 0.4142, Training Acc = 0.0999, Validation Acc = 0.1018\n",
      "Epoch 3: Training Loss = 0.4131, Validation Loss = 0.4124, Training Acc = 0.0999, Validation Acc = 0.1018\n",
      "Epoch 4: Training Loss = 0.4118, Validation Loss = 0.4111, Training Acc = 0.0999, Validation Acc = 0.1018\n",
      "Epoch 5: Training Loss = 0.4107, Validation Loss = 0.4100, Training Acc = 0.0999, Validation Acc = 0.1018\n"
     ]
    },
    {
     "data": {
      "text/html": [],
      "text/plain": [
       "<IPython.core.display.HTML object>"
      ]
     },
     "metadata": {},
     "output_type": "display_data"
    },
    {
     "data": {
      "text/html": [
       "<br>    <style><br>        .wandb-row {<br>            display: flex;<br>            flex-direction: row;<br>            flex-wrap: wrap;<br>            justify-content: flex-start;<br>            width: 100%;<br>        }<br>        .wandb-col {<br>            display: flex;<br>            flex-direction: column;<br>            flex-basis: 100%;<br>            flex: 1;<br>            padding: 10px;<br>        }<br>    </style><br><div class=\"wandb-row\"><div class=\"wandb-col\"><h3>Run history:</h3><br/><table class=\"wandb\"><tr><td>epoch</td><td>▁▃▅▆█</td></tr><tr><td>training_accuracy</td><td>▁█▆▃▃</td></tr><tr><td>training_loss</td><td>█▅▃▂▁</td></tr><tr><td>validation_accuracy</td><td>▁▁▁▁▁</td></tr><tr><td>validation_loss</td><td>█▅▃▂▁</td></tr></table><br/></div><div class=\"wandb-col\"><h3>Run summary:</h3><br/><table class=\"wandb\"><tr><td>epoch</td><td>5</td></tr><tr><td>training_accuracy</td><td>0.09987</td></tr><tr><td>training_loss</td><td>0.41065</td></tr><tr><td>validation_accuracy</td><td>0.10183</td></tr><tr><td>validation_loss</td><td>0.41001</td></tr></table><br/></div></div>"
      ],
      "text/plain": [
       "<IPython.core.display.HTML object>"
      ]
     },
     "metadata": {},
     "output_type": "display_data"
    },
    {
     "data": {
      "text/html": [
       " View run <strong style=\"color:#cdcd00\">lr_0.0001_ac_relu_in_random_uniform_op_nadam_bs_16_L2_0_ep_5_nn_32_nh_4</strong> at: <a href='https://wandb.ai/cs24m037-iit-madras/DL_A1/runs/w0938nxo' target=\"_blank\">https://wandb.ai/cs24m037-iit-madras/DL_A1/runs/w0938nxo</a><br> View project at: <a href='https://wandb.ai/cs24m037-iit-madras/DL_A1' target=\"_blank\">https://wandb.ai/cs24m037-iit-madras/DL_A1</a><br>Synced 5 W&B file(s), 0 media file(s), 0 artifact file(s) and 0 other file(s)"
      ],
      "text/plain": [
       "<IPython.core.display.HTML object>"
      ]
     },
     "metadata": {},
     "output_type": "display_data"
    },
    {
     "data": {
      "text/html": [
       "Find logs at: <code>.\\wandb\\run-20250308_102351-w0938nxo\\logs</code>"
      ],
      "text/plain": [
       "<IPython.core.display.HTML object>"
      ]
     },
     "metadata": {},
     "output_type": "display_data"
    },
    {
     "name": "stderr",
     "output_type": "stream",
     "text": [
      "wandb: Agent Starting Run: 9bvso4c9 with config:\n",
      "wandb: \tL2_lamb: 0.0005\n",
      "wandb: \tactivation_f: sigmoid\n",
      "wandb: \tbatch_size: 16\n",
      "wandb: \tepochs: 5\n",
      "wandb: \tinit_mode: random_uniform\n",
      "wandb: \tlearning_rate: 0.001\n",
      "wandb: \tnum_hidden: 5\n",
      "wandb: \tnum_neurons: 128\n",
      "wandb: \toptimizer: rmsprop\n"
     ]
    },
    {
     "data": {
      "text/html": [
       "Tracking run with wandb version 0.19.7"
      ],
      "text/plain": [
       "<IPython.core.display.HTML object>"
      ]
     },
     "metadata": {},
     "output_type": "display_data"
    },
    {
     "data": {
      "text/html": [
       "Run data is saved locally in <code>c:\\Users\\RAMKUMAR\\Desktop\\iitm\\sem2\\DL\\wandb\\run-20250308_102407-9bvso4c9</code>"
      ],
      "text/plain": [
       "<IPython.core.display.HTML object>"
      ]
     },
     "metadata": {},
     "output_type": "display_data"
    },
    {
     "data": {
      "text/html": [
       "Syncing run <strong><a href='https://wandb.ai/cs24m037-iit-madras/DL_A1/runs/9bvso4c9' target=\"_blank\">icy-sweep-97</a></strong> to <a href='https://wandb.ai/cs24m037-iit-madras/DL_A1' target=\"_blank\">Weights & Biases</a> (<a href='https://wandb.me/developer-guide' target=\"_blank\">docs</a>)<br>Sweep page: <a href='https://wandb.ai/cs24m037-iit-madras/DL_A1/sweeps/zbxy6yvx' target=\"_blank\">https://wandb.ai/cs24m037-iit-madras/DL_A1/sweeps/zbxy6yvx</a>"
      ],
      "text/plain": [
       "<IPython.core.display.HTML object>"
      ]
     },
     "metadata": {},
     "output_type": "display_data"
    },
    {
     "data": {
      "text/html": [
       " View project at <a href='https://wandb.ai/cs24m037-iit-madras/DL_A1' target=\"_blank\">https://wandb.ai/cs24m037-iit-madras/DL_A1</a>"
      ],
      "text/plain": [
       "<IPython.core.display.HTML object>"
      ]
     },
     "metadata": {},
     "output_type": "display_data"
    },
    {
     "data": {
      "text/html": [
       " View sweep at <a href='https://wandb.ai/cs24m037-iit-madras/DL_A1/sweeps/zbxy6yvx' target=\"_blank\">https://wandb.ai/cs24m037-iit-madras/DL_A1/sweeps/zbxy6yvx</a>"
      ],
      "text/plain": [
       "<IPython.core.display.HTML object>"
      ]
     },
     "metadata": {},
     "output_type": "display_data"
    },
    {
     "data": {
      "text/html": [
       " View run at <a href='https://wandb.ai/cs24m037-iit-madras/DL_A1/runs/9bvso4c9' target=\"_blank\">https://wandb.ai/cs24m037-iit-madras/DL_A1/runs/9bvso4c9</a>"
      ],
      "text/plain": [
       "<IPython.core.display.HTML object>"
      ]
     },
     "metadata": {},
     "output_type": "display_data"
    },
    {
     "name": "stdout",
     "output_type": "stream",
     "text": [
      "lr_0.001_ac_sigmoid_in_random_uniform_op_rmsprop_bs_16_L2_0.0005_ep_5_nn_128_nh_5\n",
      "Epoch 1: Training Loss = 0.4500, Validation Loss = 0.4500, Training Acc = 0.0996, Validation Acc = 0.1032\n",
      "Epoch 2: Training Loss = 0.4500, Validation Loss = 0.4500, Training Acc = 0.0996, Validation Acc = 0.1032\n",
      "Epoch 3: Training Loss = 0.4500, Validation Loss = 0.4500, Training Acc = 0.0999, Validation Acc = 0.1013\n",
      "Epoch 4: Training Loss = 0.4500, Validation Loss = 0.4500, Training Acc = 0.0999, Validation Acc = 0.1013\n",
      "Epoch 5: Training Loss = 0.4500, Validation Loss = 0.4500, Training Acc = 0.0999, Validation Acc = 0.1013\n"
     ]
    },
    {
     "data": {
      "text/html": [],
      "text/plain": [
       "<IPython.core.display.HTML object>"
      ]
     },
     "metadata": {},
     "output_type": "display_data"
    },
    {
     "data": {
      "text/html": [
       "<br>    <style><br>        .wandb-row {<br>            display: flex;<br>            flex-direction: row;<br>            flex-wrap: wrap;<br>            justify-content: flex-start;<br>            width: 100%;<br>        }<br>        .wandb-col {<br>            display: flex;<br>            flex-direction: column;<br>            flex-basis: 100%;<br>            flex: 1;<br>            padding: 10px;<br>        }<br>    </style><br><div class=\"wandb-row\"><div class=\"wandb-col\"><h3>Run history:</h3><br/><table class=\"wandb\"><tr><td>epoch</td><td>▁▃▅▆█</td></tr><tr><td>training_accuracy</td><td>▁▁███</td></tr><tr><td>training_loss</td><td>█▃▂▂▁</td></tr><tr><td>validation_accuracy</td><td>██▁▁▁</td></tr><tr><td>validation_loss</td><td>█▃▁▁▁</td></tr></table><br/></div><div class=\"wandb-col\"><h3>Run summary:</h3><br/><table class=\"wandb\"><tr><td>epoch</td><td>5</td></tr><tr><td>training_accuracy</td><td>0.09985</td></tr><tr><td>training_loss</td><td>0.45001</td></tr><tr><td>validation_accuracy</td><td>0.10133</td></tr><tr><td>validation_loss</td><td>0.44999</td></tr></table><br/></div></div>"
      ],
      "text/plain": [
       "<IPython.core.display.HTML object>"
      ]
     },
     "metadata": {},
     "output_type": "display_data"
    },
    {
     "data": {
      "text/html": [
       " View run <strong style=\"color:#cdcd00\">lr_0.001_ac_sigmoid_in_random_uniform_op_rmsprop_bs_16_L2_0.0005_ep_5_nn_128_nh_5</strong> at: <a href='https://wandb.ai/cs24m037-iit-madras/DL_A1/runs/9bvso4c9' target=\"_blank\">https://wandb.ai/cs24m037-iit-madras/DL_A1/runs/9bvso4c9</a><br> View project at: <a href='https://wandb.ai/cs24m037-iit-madras/DL_A1' target=\"_blank\">https://wandb.ai/cs24m037-iit-madras/DL_A1</a><br>Synced 5 W&B file(s), 0 media file(s), 0 artifact file(s) and 0 other file(s)"
      ],
      "text/plain": [
       "<IPython.core.display.HTML object>"
      ]
     },
     "metadata": {},
     "output_type": "display_data"
    },
    {
     "data": {
      "text/html": [
       "Find logs at: <code>.\\wandb\\run-20250308_102407-9bvso4c9\\logs</code>"
      ],
      "text/plain": [
       "<IPython.core.display.HTML object>"
      ]
     },
     "metadata": {},
     "output_type": "display_data"
    },
    {
     "name": "stderr",
     "output_type": "stream",
     "text": [
      "wandb: Agent Starting Run: 5hs1y703 with config:\n",
      "wandb: \tL2_lamb: 0\n",
      "wandb: \tactivation_f: tanh\n",
      "wandb: \tbatch_size: 32\n",
      "wandb: \tepochs: 5\n",
      "wandb: \tinit_mode: xavier\n",
      "wandb: \tlearning_rate: 0.0001\n",
      "wandb: \tnum_hidden: 5\n",
      "wandb: \tnum_neurons: 64\n",
      "wandb: \toptimizer: momentum\n"
     ]
    },
    {
     "data": {
      "text/html": [
       "Tracking run with wandb version 0.19.7"
      ],
      "text/plain": [
       "<IPython.core.display.HTML object>"
      ]
     },
     "metadata": {},
     "output_type": "display_data"
    },
    {
     "data": {
      "text/html": [
       "Run data is saved locally in <code>c:\\Users\\RAMKUMAR\\Desktop\\iitm\\sem2\\DL\\wandb\\run-20250308_102449-5hs1y703</code>"
      ],
      "text/plain": [
       "<IPython.core.display.HTML object>"
      ]
     },
     "metadata": {},
     "output_type": "display_data"
    },
    {
     "data": {
      "text/html": [
       "Syncing run <strong><a href='https://wandb.ai/cs24m037-iit-madras/DL_A1/runs/5hs1y703' target=\"_blank\">ethereal-sweep-98</a></strong> to <a href='https://wandb.ai/cs24m037-iit-madras/DL_A1' target=\"_blank\">Weights & Biases</a> (<a href='https://wandb.me/developer-guide' target=\"_blank\">docs</a>)<br>Sweep page: <a href='https://wandb.ai/cs24m037-iit-madras/DL_A1/sweeps/zbxy6yvx' target=\"_blank\">https://wandb.ai/cs24m037-iit-madras/DL_A1/sweeps/zbxy6yvx</a>"
      ],
      "text/plain": [
       "<IPython.core.display.HTML object>"
      ]
     },
     "metadata": {},
     "output_type": "display_data"
    },
    {
     "data": {
      "text/html": [
       " View project at <a href='https://wandb.ai/cs24m037-iit-madras/DL_A1' target=\"_blank\">https://wandb.ai/cs24m037-iit-madras/DL_A1</a>"
      ],
      "text/plain": [
       "<IPython.core.display.HTML object>"
      ]
     },
     "metadata": {},
     "output_type": "display_data"
    },
    {
     "data": {
      "text/html": [
       " View sweep at <a href='https://wandb.ai/cs24m037-iit-madras/DL_A1/sweeps/zbxy6yvx' target=\"_blank\">https://wandb.ai/cs24m037-iit-madras/DL_A1/sweeps/zbxy6yvx</a>"
      ],
      "text/plain": [
       "<IPython.core.display.HTML object>"
      ]
     },
     "metadata": {},
     "output_type": "display_data"
    },
    {
     "data": {
      "text/html": [
       " View run at <a href='https://wandb.ai/cs24m037-iit-madras/DL_A1/runs/5hs1y703' target=\"_blank\">https://wandb.ai/cs24m037-iit-madras/DL_A1/runs/5hs1y703</a>"
      ],
      "text/plain": [
       "<IPython.core.display.HTML object>"
      ]
     },
     "metadata": {},
     "output_type": "display_data"
    },
    {
     "name": "stdout",
     "output_type": "stream",
     "text": [
      "lr_0.0001_ac_tanh_in_xavier_op_momentum_bs_32_L2_0_ep_5_nn_64_nh_5\n",
      "Epoch 1: Training Loss = 0.4475, Validation Loss = 0.4479, Training Acc = 0.2046, Validation Acc = 0.2037\n",
      "Epoch 2: Training Loss = 0.4449, Validation Loss = 0.4453, Training Acc = 0.2315, Validation Acc = 0.2273\n",
      "Epoch 3: Training Loss = 0.4423, Validation Loss = 0.4427, Training Acc = 0.2542, Validation Acc = 0.2478\n",
      "Epoch 4: Training Loss = 0.4396, Validation Loss = 0.4401, Training Acc = 0.2721, Validation Acc = 0.2648\n",
      "Epoch 5: Training Loss = 0.4368, Validation Loss = 0.4374, Training Acc = 0.2881, Validation Acc = 0.2813\n"
     ]
    },
    {
     "data": {
      "text/html": [],
      "text/plain": [
       "<IPython.core.display.HTML object>"
      ]
     },
     "metadata": {},
     "output_type": "display_data"
    },
    {
     "data": {
      "text/html": [
       "<br>    <style><br>        .wandb-row {<br>            display: flex;<br>            flex-direction: row;<br>            flex-wrap: wrap;<br>            justify-content: flex-start;<br>            width: 100%;<br>        }<br>        .wandb-col {<br>            display: flex;<br>            flex-direction: column;<br>            flex-basis: 100%;<br>            flex: 1;<br>            padding: 10px;<br>        }<br>    </style><br><div class=\"wandb-row\"><div class=\"wandb-col\"><h3>Run history:</h3><br/><table class=\"wandb\"><tr><td>epoch</td><td>▁▃▅▆█</td></tr><tr><td>training_accuracy</td><td>▁▃▅▇█</td></tr><tr><td>training_loss</td><td>█▆▅▃▁</td></tr><tr><td>validation_accuracy</td><td>▁▃▅▇█</td></tr><tr><td>validation_loss</td><td>█▆▅▃▁</td></tr></table><br/></div><div class=\"wandb-col\"><h3>Run summary:</h3><br/><table class=\"wandb\"><tr><td>epoch</td><td>5</td></tr><tr><td>training_accuracy</td><td>0.28811</td></tr><tr><td>training_loss</td><td>0.43679</td></tr><tr><td>validation_accuracy</td><td>0.28133</td></tr><tr><td>validation_loss</td><td>0.43743</td></tr></table><br/></div></div>"
      ],
      "text/plain": [
       "<IPython.core.display.HTML object>"
      ]
     },
     "metadata": {},
     "output_type": "display_data"
    },
    {
     "data": {
      "text/html": [
       " View run <strong style=\"color:#cdcd00\">lr_0.0001_ac_tanh_in_xavier_op_momentum_bs_32_L2_0_ep_5_nn_64_nh_5</strong> at: <a href='https://wandb.ai/cs24m037-iit-madras/DL_A1/runs/5hs1y703' target=\"_blank\">https://wandb.ai/cs24m037-iit-madras/DL_A1/runs/5hs1y703</a><br> View project at: <a href='https://wandb.ai/cs24m037-iit-madras/DL_A1' target=\"_blank\">https://wandb.ai/cs24m037-iit-madras/DL_A1</a><br>Synced 5 W&B file(s), 0 media file(s), 0 artifact file(s) and 0 other file(s)"
      ],
      "text/plain": [
       "<IPython.core.display.HTML object>"
      ]
     },
     "metadata": {},
     "output_type": "display_data"
    },
    {
     "data": {
      "text/html": [
       "Find logs at: <code>.\\wandb\\run-20250308_102449-5hs1y703\\logs</code>"
      ],
      "text/plain": [
       "<IPython.core.display.HTML object>"
      ]
     },
     "metadata": {},
     "output_type": "display_data"
    },
    {
     "name": "stderr",
     "output_type": "stream",
     "text": [
      "wandb: Agent Starting Run: r99a0oc8 with config:\n",
      "wandb: \tL2_lamb: 0\n",
      "wandb: \tactivation_f: sigmoid\n",
      "wandb: \tbatch_size: 32\n",
      "wandb: \tepochs: 10\n",
      "wandb: \tinit_mode: xavier\n",
      "wandb: \tlearning_rate: 0.0001\n",
      "wandb: \tnum_hidden: 4\n",
      "wandb: \tnum_neurons: 64\n",
      "wandb: \toptimizer: nadam\n"
     ]
    },
    {
     "data": {
      "text/html": [
       "Tracking run with wandb version 0.19.7"
      ],
      "text/plain": [
       "<IPython.core.display.HTML object>"
      ]
     },
     "metadata": {},
     "output_type": "display_data"
    },
    {
     "data": {
      "text/html": [
       "Run data is saved locally in <code>c:\\Users\\RAMKUMAR\\Desktop\\iitm\\sem2\\DL\\wandb\\run-20250308_102505-r99a0oc8</code>"
      ],
      "text/plain": [
       "<IPython.core.display.HTML object>"
      ]
     },
     "metadata": {},
     "output_type": "display_data"
    },
    {
     "data": {
      "text/html": [
       "Syncing run <strong><a href='https://wandb.ai/cs24m037-iit-madras/DL_A1/runs/r99a0oc8' target=\"_blank\">crisp-sweep-99</a></strong> to <a href='https://wandb.ai/cs24m037-iit-madras/DL_A1' target=\"_blank\">Weights & Biases</a> (<a href='https://wandb.me/developer-guide' target=\"_blank\">docs</a>)<br>Sweep page: <a href='https://wandb.ai/cs24m037-iit-madras/DL_A1/sweeps/zbxy6yvx' target=\"_blank\">https://wandb.ai/cs24m037-iit-madras/DL_A1/sweeps/zbxy6yvx</a>"
      ],
      "text/plain": [
       "<IPython.core.display.HTML object>"
      ]
     },
     "metadata": {},
     "output_type": "display_data"
    },
    {
     "data": {
      "text/html": [
       " View project at <a href='https://wandb.ai/cs24m037-iit-madras/DL_A1' target=\"_blank\">https://wandb.ai/cs24m037-iit-madras/DL_A1</a>"
      ],
      "text/plain": [
       "<IPython.core.display.HTML object>"
      ]
     },
     "metadata": {},
     "output_type": "display_data"
    },
    {
     "data": {
      "text/html": [
       " View sweep at <a href='https://wandb.ai/cs24m037-iit-madras/DL_A1/sweeps/zbxy6yvx' target=\"_blank\">https://wandb.ai/cs24m037-iit-madras/DL_A1/sweeps/zbxy6yvx</a>"
      ],
      "text/plain": [
       "<IPython.core.display.HTML object>"
      ]
     },
     "metadata": {},
     "output_type": "display_data"
    },
    {
     "data": {
      "text/html": [
       " View run at <a href='https://wandb.ai/cs24m037-iit-madras/DL_A1/runs/r99a0oc8' target=\"_blank\">https://wandb.ai/cs24m037-iit-madras/DL_A1/runs/r99a0oc8</a>"
      ],
      "text/plain": [
       "<IPython.core.display.HTML object>"
      ]
     },
     "metadata": {},
     "output_type": "display_data"
    },
    {
     "name": "stdout",
     "output_type": "stream",
     "text": [
      "lr_0.0001_ac_sigmoid_in_xavier_op_nadam_bs_32_L2_0_ep_10_nn_64_nh_4\n",
      "Epoch 1: Training Loss = 0.3859, Validation Loss = 0.3869, Training Acc = 0.4018, Validation Acc = 0.4023\n",
      "Epoch 2: Training Loss = 0.3200, Validation Loss = 0.3206, Training Acc = 0.5397, Validation Acc = 0.5437\n",
      "Epoch 3: Training Loss = 0.2751, Validation Loss = 0.2759, Training Acc = 0.6190, Validation Acc = 0.6188\n",
      "Epoch 4: Training Loss = 0.2374, Validation Loss = 0.2396, Training Acc = 0.6928, Validation Acc = 0.6852\n",
      "Epoch 5: Training Loss = 0.2086, Validation Loss = 0.2124, Training Acc = 0.7015, Validation Acc = 0.6900\n",
      "Epoch 6: Training Loss = 0.1907, Validation Loss = 0.1955, Training Acc = 0.7125, Validation Acc = 0.7032\n",
      "Epoch 7: Training Loss = 0.1801, Validation Loss = 0.1855, Training Acc = 0.7192, Validation Acc = 0.7108\n",
      "Epoch 8: Training Loss = 0.1731, Validation Loss = 0.1787, Training Acc = 0.7246, Validation Acc = 0.7153\n",
      "Epoch 9: Training Loss = 0.1667, Validation Loss = 0.1723, Training Acc = 0.7625, Validation Acc = 0.7547\n",
      "Epoch 10: Training Loss = 0.1583, Validation Loss = 0.1640, Training Acc = 0.7778, Validation Acc = 0.7682\n"
     ]
    },
    {
     "data": {
      "text/html": [],
      "text/plain": [
       "<IPython.core.display.HTML object>"
      ]
     },
     "metadata": {},
     "output_type": "display_data"
    },
    {
     "data": {
      "text/html": [
       "<br>    <style><br>        .wandb-row {<br>            display: flex;<br>            flex-direction: row;<br>            flex-wrap: wrap;<br>            justify-content: flex-start;<br>            width: 100%;<br>        }<br>        .wandb-col {<br>            display: flex;<br>            flex-direction: column;<br>            flex-basis: 100%;<br>            flex: 1;<br>            padding: 10px;<br>        }<br>    </style><br><div class=\"wandb-row\"><div class=\"wandb-col\"><h3>Run history:</h3><br/><table class=\"wandb\"><tr><td>epoch</td><td>▁▂▃▃▄▅▆▆▇█</td></tr><tr><td>training_accuracy</td><td>▁▄▅▆▇▇▇▇██</td></tr><tr><td>training_loss</td><td>█▆▅▃▃▂▂▁▁▁</td></tr><tr><td>validation_accuracy</td><td>▁▄▅▆▇▇▇▇██</td></tr><tr><td>validation_loss</td><td>█▆▅▃▃▂▂▁▁▁</td></tr></table><br/></div><div class=\"wandb-col\"><h3>Run summary:</h3><br/><table class=\"wandb\"><tr><td>epoch</td><td>10</td></tr><tr><td>training_accuracy</td><td>0.77778</td></tr><tr><td>training_loss</td><td>0.15834</td></tr><tr><td>validation_accuracy</td><td>0.76817</td></tr><tr><td>validation_loss</td><td>0.16401</td></tr></table><br/></div></div>"
      ],
      "text/plain": [
       "<IPython.core.display.HTML object>"
      ]
     },
     "metadata": {},
     "output_type": "display_data"
    },
    {
     "data": {
      "text/html": [
       " View run <strong style=\"color:#cdcd00\">lr_0.0001_ac_sigmoid_in_xavier_op_nadam_bs_32_L2_0_ep_10_nn_64_nh_4</strong> at: <a href='https://wandb.ai/cs24m037-iit-madras/DL_A1/runs/r99a0oc8' target=\"_blank\">https://wandb.ai/cs24m037-iit-madras/DL_A1/runs/r99a0oc8</a><br> View project at: <a href='https://wandb.ai/cs24m037-iit-madras/DL_A1' target=\"_blank\">https://wandb.ai/cs24m037-iit-madras/DL_A1</a><br>Synced 5 W&B file(s), 0 media file(s), 0 artifact file(s) and 0 other file(s)"
      ],
      "text/plain": [
       "<IPython.core.display.HTML object>"
      ]
     },
     "metadata": {},
     "output_type": "display_data"
    },
    {
     "data": {
      "text/html": [
       "Find logs at: <code>.\\wandb\\run-20250308_102505-r99a0oc8\\logs</code>"
      ],
      "text/plain": [
       "<IPython.core.display.HTML object>"
      ]
     },
     "metadata": {},
     "output_type": "display_data"
    },
    {
     "name": "stderr",
     "output_type": "stream",
     "text": [
      "wandb: Sweep Agent: Waiting for job.\n",
      "wandb: Job received.\n",
      "wandb: Agent Starting Run: 2nthxjb0 with config:\n",
      "wandb: \tL2_lamb: 0\n",
      "wandb: \tactivation_f: relu\n",
      "wandb: \tbatch_size: 32\n",
      "wandb: \tepochs: 5\n",
      "wandb: \tinit_mode: random_uniform\n",
      "wandb: \tlearning_rate: 0.001\n",
      "wandb: \tnum_hidden: 5\n",
      "wandb: \tnum_neurons: 32\n",
      "wandb: \toptimizer: nadam\n"
     ]
    },
    {
     "data": {
      "text/html": [
       "Tracking run with wandb version 0.19.7"
      ],
      "text/plain": [
       "<IPython.core.display.HTML object>"
      ]
     },
     "metadata": {},
     "output_type": "display_data"
    },
    {
     "data": {
      "text/html": [
       "Run data is saved locally in <code>c:\\Users\\RAMKUMAR\\Desktop\\iitm\\sem2\\DL\\wandb\\run-20250308_102548-2nthxjb0</code>"
      ],
      "text/plain": [
       "<IPython.core.display.HTML object>"
      ]
     },
     "metadata": {},
     "output_type": "display_data"
    },
    {
     "data": {
      "text/html": [
       "Syncing run <strong><a href='https://wandb.ai/cs24m037-iit-madras/DL_A1/runs/2nthxjb0' target=\"_blank\">avid-sweep-100</a></strong> to <a href='https://wandb.ai/cs24m037-iit-madras/DL_A1' target=\"_blank\">Weights & Biases</a> (<a href='https://wandb.me/developer-guide' target=\"_blank\">docs</a>)<br>Sweep page: <a href='https://wandb.ai/cs24m037-iit-madras/DL_A1/sweeps/zbxy6yvx' target=\"_blank\">https://wandb.ai/cs24m037-iit-madras/DL_A1/sweeps/zbxy6yvx</a>"
      ],
      "text/plain": [
       "<IPython.core.display.HTML object>"
      ]
     },
     "metadata": {},
     "output_type": "display_data"
    },
    {
     "data": {
      "text/html": [
       " View project at <a href='https://wandb.ai/cs24m037-iit-madras/DL_A1' target=\"_blank\">https://wandb.ai/cs24m037-iit-madras/DL_A1</a>"
      ],
      "text/plain": [
       "<IPython.core.display.HTML object>"
      ]
     },
     "metadata": {},
     "output_type": "display_data"
    },
    {
     "data": {
      "text/html": [
       " View sweep at <a href='https://wandb.ai/cs24m037-iit-madras/DL_A1/sweeps/zbxy6yvx' target=\"_blank\">https://wandb.ai/cs24m037-iit-madras/DL_A1/sweeps/zbxy6yvx</a>"
      ],
      "text/plain": [
       "<IPython.core.display.HTML object>"
      ]
     },
     "metadata": {},
     "output_type": "display_data"
    },
    {
     "data": {
      "text/html": [
       " View run at <a href='https://wandb.ai/cs24m037-iit-madras/DL_A1/runs/2nthxjb0' target=\"_blank\">https://wandb.ai/cs24m037-iit-madras/DL_A1/runs/2nthxjb0</a>"
      ],
      "text/plain": [
       "<IPython.core.display.HTML object>"
      ]
     },
     "metadata": {},
     "output_type": "display_data"
    },
    {
     "name": "stdout",
     "output_type": "stream",
     "text": [
      "lr_0.001_ac_relu_in_random_uniform_op_nadam_bs_32_L2_0_ep_5_nn_32_nh_5\n",
      "Epoch 1: Training Loss = 0.4135, Validation Loss = 0.4129, Training Acc = 0.0999, Validation Acc = 0.1018\n",
      "Epoch 2: Training Loss = 0.4082, Validation Loss = 0.4076, Training Acc = 0.0999, Validation Acc = 0.1018\n",
      "Epoch 3: Training Loss = 0.4057, Validation Loss = 0.4049, Training Acc = 0.0999, Validation Acc = 0.1018\n",
      "Epoch 4: Training Loss = 0.4040, Validation Loss = 0.4035, Training Acc = 0.0998, Validation Acc = 0.1020\n",
      "Epoch 5: Training Loss = 0.4014, Validation Loss = 0.4010, Training Acc = 0.1001, Validation Acc = 0.1020\n"
     ]
    },
    {
     "data": {
      "text/html": [],
      "text/plain": [
       "<IPython.core.display.HTML object>"
      ]
     },
     "metadata": {},
     "output_type": "display_data"
    },
    {
     "data": {
      "text/html": [
       "<br>    <style><br>        .wandb-row {<br>            display: flex;<br>            flex-direction: row;<br>            flex-wrap: wrap;<br>            justify-content: flex-start;<br>            width: 100%;<br>        }<br>        .wandb-col {<br>            display: flex;<br>            flex-direction: column;<br>            flex-basis: 100%;<br>            flex: 1;<br>            padding: 10px;<br>        }<br>    </style><br><div class=\"wandb-row\"><div class=\"wandb-col\"><h3>Run history:</h3><br/><table class=\"wandb\"><tr><td>epoch</td><td>▁▃▅▆█</td></tr><tr><td>training_accuracy</td><td>▂▃▄▁█</td></tr><tr><td>training_loss</td><td>█▅▃▃▁</td></tr><tr><td>validation_accuracy</td><td>▁▁▁██</td></tr><tr><td>validation_loss</td><td>█▅▃▂▁</td></tr></table><br/></div><div class=\"wandb-col\"><h3>Run summary:</h3><br/><table class=\"wandb\"><tr><td>epoch</td><td>5</td></tr><tr><td>training_accuracy</td><td>0.10009</td></tr><tr><td>training_loss</td><td>0.40138</td></tr><tr><td>validation_accuracy</td><td>0.102</td></tr><tr><td>validation_loss</td><td>0.40105</td></tr></table><br/></div></div>"
      ],
      "text/plain": [
       "<IPython.core.display.HTML object>"
      ]
     },
     "metadata": {},
     "output_type": "display_data"
    },
    {
     "data": {
      "text/html": [
       " View run <strong style=\"color:#cdcd00\">lr_0.001_ac_relu_in_random_uniform_op_nadam_bs_32_L2_0_ep_5_nn_32_nh_5</strong> at: <a href='https://wandb.ai/cs24m037-iit-madras/DL_A1/runs/2nthxjb0' target=\"_blank\">https://wandb.ai/cs24m037-iit-madras/DL_A1/runs/2nthxjb0</a><br> View project at: <a href='https://wandb.ai/cs24m037-iit-madras/DL_A1' target=\"_blank\">https://wandb.ai/cs24m037-iit-madras/DL_A1</a><br>Synced 5 W&B file(s), 0 media file(s), 0 artifact file(s) and 0 other file(s)"
      ],
      "text/plain": [
       "<IPython.core.display.HTML object>"
      ]
     },
     "metadata": {},
     "output_type": "display_data"
    },
    {
     "data": {
      "text/html": [
       "Find logs at: <code>.\\wandb\\run-20250308_102548-2nthxjb0\\logs</code>"
      ],
      "text/plain": [
       "<IPython.core.display.HTML object>"
      ]
     },
     "metadata": {},
     "output_type": "display_data"
    },
    {
     "name": "stderr",
     "output_type": "stream",
     "text": [
      "wandb: Sweep Agent: Waiting for job.\n",
      "wandb: Job received.\n",
      "wandb: Agent Starting Run: b8pb96oh with config:\n",
      "wandb: \tL2_lamb: 0.0005\n",
      "wandb: \tactivation_f: sigmoid\n",
      "wandb: \tbatch_size: 32\n",
      "wandb: \tepochs: 10\n",
      "wandb: \tinit_mode: xavier\n",
      "wandb: \tlearning_rate: 0.0001\n",
      "wandb: \tnum_hidden: 5\n",
      "wandb: \tnum_neurons: 32\n",
      "wandb: \toptimizer: nadam\n"
     ]
    },
    {
     "data": {
      "text/html": [
       "creating run (0.0s)"
      ],
      "text/plain": [
       "<IPython.core.display.HTML object>"
      ]
     },
     "metadata": {},
     "output_type": "display_data"
    },
    {
     "data": {
      "text/html": [
       "Tracking run with wandb version 0.19.7"
      ],
      "text/plain": [
       "<IPython.core.display.HTML object>"
      ]
     },
     "metadata": {},
     "output_type": "display_data"
    },
    {
     "data": {
      "text/html": [
       "Run data is saved locally in <code>c:\\Users\\RAMKUMAR\\Desktop\\iitm\\sem2\\DL\\wandb\\run-20250308_102609-b8pb96oh</code>"
      ],
      "text/plain": [
       "<IPython.core.display.HTML object>"
      ]
     },
     "metadata": {},
     "output_type": "display_data"
    },
    {
     "data": {
      "text/html": [
       "Syncing run <strong><a href='https://wandb.ai/cs24m037-iit-madras/DL_A1/runs/b8pb96oh' target=\"_blank\">zany-sweep-101</a></strong> to <a href='https://wandb.ai/cs24m037-iit-madras/DL_A1' target=\"_blank\">Weights & Biases</a> (<a href='https://wandb.me/developer-guide' target=\"_blank\">docs</a>)<br>Sweep page: <a href='https://wandb.ai/cs24m037-iit-madras/DL_A1/sweeps/zbxy6yvx' target=\"_blank\">https://wandb.ai/cs24m037-iit-madras/DL_A1/sweeps/zbxy6yvx</a>"
      ],
      "text/plain": [
       "<IPython.core.display.HTML object>"
      ]
     },
     "metadata": {},
     "output_type": "display_data"
    },
    {
     "data": {
      "text/html": [
       " View project at <a href='https://wandb.ai/cs24m037-iit-madras/DL_A1' target=\"_blank\">https://wandb.ai/cs24m037-iit-madras/DL_A1</a>"
      ],
      "text/plain": [
       "<IPython.core.display.HTML object>"
      ]
     },
     "metadata": {},
     "output_type": "display_data"
    },
    {
     "data": {
      "text/html": [
       " View sweep at <a href='https://wandb.ai/cs24m037-iit-madras/DL_A1/sweeps/zbxy6yvx' target=\"_blank\">https://wandb.ai/cs24m037-iit-madras/DL_A1/sweeps/zbxy6yvx</a>"
      ],
      "text/plain": [
       "<IPython.core.display.HTML object>"
      ]
     },
     "metadata": {},
     "output_type": "display_data"
    },
    {
     "data": {
      "text/html": [
       " View run at <a href='https://wandb.ai/cs24m037-iit-madras/DL_A1/runs/b8pb96oh' target=\"_blank\">https://wandb.ai/cs24m037-iit-madras/DL_A1/runs/b8pb96oh</a>"
      ],
      "text/plain": [
       "<IPython.core.display.HTML object>"
      ]
     },
     "metadata": {},
     "output_type": "display_data"
    },
    {
     "name": "stdout",
     "output_type": "stream",
     "text": [
      "lr_0.0001_ac_sigmoid_in_xavier_op_nadam_bs_32_L2_0.0005_ep_10_nn_32_nh_5\n",
      "Epoch 1: Training Loss = 0.4327, Validation Loss = 0.4332, Training Acc = 0.2010, Validation Acc = 0.1895\n",
      "Epoch 2: Training Loss = 0.4058, Validation Loss = 0.4062, Training Acc = 0.1973, Validation Acc = 0.1987\n",
      "Epoch 3: Training Loss = 0.4031, Validation Loss = 0.4036, Training Acc = 0.1913, Validation Acc = 0.1950\n",
      "Epoch 4: Training Loss = 0.4020, Validation Loss = 0.4026, Training Acc = 0.2533, Validation Acc = 0.2522\n",
      "Epoch 5: Training Loss = 0.3824, Validation Loss = 0.3838, Training Acc = 0.3135, Validation Acc = 0.3020\n",
      "Epoch 6: Training Loss = 0.3637, Validation Loss = 0.3653, Training Acc = 0.3884, Validation Acc = 0.3810\n",
      "Epoch 7: Training Loss = 0.3479, Validation Loss = 0.3494, Training Acc = 0.3890, Validation Acc = 0.3797\n",
      "Epoch 8: Training Loss = 0.3344, Validation Loss = 0.3359, Training Acc = 0.4279, Validation Acc = 0.4185\n",
      "Epoch 9: Training Loss = 0.3234, Validation Loss = 0.3252, Training Acc = 0.4854, Validation Acc = 0.4755\n",
      "Epoch 10: Training Loss = 0.3042, Validation Loss = 0.3063, Training Acc = 0.5446, Validation Acc = 0.5403\n"
     ]
    },
    {
     "data": {
      "text/html": [],
      "text/plain": [
       "<IPython.core.display.HTML object>"
      ]
     },
     "metadata": {},
     "output_type": "display_data"
    },
    {
     "data": {
      "text/html": [
       "<br>    <style><br>        .wandb-row {<br>            display: flex;<br>            flex-direction: row;<br>            flex-wrap: wrap;<br>            justify-content: flex-start;<br>            width: 100%;<br>        }<br>        .wandb-col {<br>            display: flex;<br>            flex-direction: column;<br>            flex-basis: 100%;<br>            flex: 1;<br>            padding: 10px;<br>        }<br>    </style><br><div class=\"wandb-row\"><div class=\"wandb-col\"><h3>Run history:</h3><br/><table class=\"wandb\"><tr><td>epoch</td><td>▁▂▃▃▄▅▆▆▇█</td></tr><tr><td>training_accuracy</td><td>▁▁▁▂▃▅▅▆▇█</td></tr><tr><td>training_loss</td><td>█▇▆▆▅▄▃▃▂▁</td></tr><tr><td>validation_accuracy</td><td>▁▁▁▂▃▅▅▆▇█</td></tr><tr><td>validation_loss</td><td>█▇▆▆▅▄▃▃▂▁</td></tr></table><br/></div><div class=\"wandb-col\"><h3>Run summary:</h3><br/><table class=\"wandb\"><tr><td>epoch</td><td>10</td></tr><tr><td>training_accuracy</td><td>0.54459</td></tr><tr><td>training_loss</td><td>0.30416</td></tr><tr><td>validation_accuracy</td><td>0.54033</td></tr><tr><td>validation_loss</td><td>0.30632</td></tr></table><br/></div></div>"
      ],
      "text/plain": [
       "<IPython.core.display.HTML object>"
      ]
     },
     "metadata": {},
     "output_type": "display_data"
    },
    {
     "data": {
      "text/html": [
       " View run <strong style=\"color:#cdcd00\">lr_0.0001_ac_sigmoid_in_xavier_op_nadam_bs_32_L2_0.0005_ep_10_nn_32_nh_5</strong> at: <a href='https://wandb.ai/cs24m037-iit-madras/DL_A1/runs/b8pb96oh' target=\"_blank\">https://wandb.ai/cs24m037-iit-madras/DL_A1/runs/b8pb96oh</a><br> View project at: <a href='https://wandb.ai/cs24m037-iit-madras/DL_A1' target=\"_blank\">https://wandb.ai/cs24m037-iit-madras/DL_A1</a><br>Synced 5 W&B file(s), 0 media file(s), 0 artifact file(s) and 0 other file(s)"
      ],
      "text/plain": [
       "<IPython.core.display.HTML object>"
      ]
     },
     "metadata": {},
     "output_type": "display_data"
    },
    {
     "data": {
      "text/html": [
       "Find logs at: <code>.\\wandb\\run-20250308_102609-b8pb96oh\\logs</code>"
      ],
      "text/plain": [
       "<IPython.core.display.HTML object>"
      ]
     },
     "metadata": {},
     "output_type": "display_data"
    }
   ],
   "source": [
    "\n",
    "from sklearn.metrics import accuracy_score, classification_report\n",
    "import numpy as np\n",
    "import matplotlib.pyplot as plt\n",
    "\n",
    "\n",
    "#############################################\n",
    "# Cost Function\n",
    "#############################################\n",
    "def compute_multiclass_loss(Y, Y_hat, batch_size, loss, lamb, parameters):\n",
    "    \"\"\"\n",
    "    Compute the multiclass loss with an optional L2 regularization term.\n",
    "    \"\"\"\n",
    "    if loss == 'categorical_crossentropy':\n",
    "         cost = -np.sum(Y * np.log(Y_hat + 1e-8)) / batch_size\n",
    "    elif loss == 'mse':\n",
    "         cost = np.sum((Y - Y_hat)**2) / (2 * batch_size)\n",
    "\n",
    "    # L2 regularization term\n",
    "    reg_sum = 0\n",
    "    L = len(parameters) // 2\n",
    "    for l in range(1, L+1):\n",
    "         reg_sum += np.sum(np.square(parameters[f\"W{l}\"]))\n",
    "    cost += (lamb / (2 * batch_size)) * reg_sum\n",
    "    return cost\n",
    "\n",
    "#############################################\n",
    "# Plotting and Evaluation Functions\n",
    "#############################################\n",
    "def plot_cost_curve(train_costs, val_costs):\n",
    "    plt.plot(range(len(train_costs)), train_costs, 'r', label=\"Training loss\")\n",
    "    plt.plot(range(len(val_costs)), val_costs, 'lime', label=\"Validation loss\")\n",
    "    plt.title(\"Training and Validation Loss vs Number of Epochs\", size=14)\n",
    "    plt.xlabel(\"Epochs\", size=14)\n",
    "    plt.ylabel(\"Loss\", size=14)\n",
    "    plt.grid()\n",
    "    plt.legend()\n",
    "    plt.show()\n",
    "\n",
    "def NN_predict(X, parameters, activation_f):\n",
    "    output, _, _ = Forward_Propogation(X, parameters, activation_f)\n",
    "    predictions = np.argmax(output, axis=0)\n",
    "    return predictions\n",
    "\n",
    "def NN_evaluate(X_train, y_train, X_test, y_test, parameters, activation_f):\n",
    "    train_preds = NN_predict(X_train, parameters, activation_f)\n",
    "    test_preds = NN_predict(X_test, parameters, activation_f)\n",
    "    print(\"Training Accuracy: {:.3f}%\".format(accuracy_score(y_train, train_preds) * 100))\n",
    "    print(\"Test Accuracy: {:.3f}%\".format(accuracy_score(y_test, test_preds) * 100))\n",
    "    print(\"Classification Report:\\n\", classification_report(y_test, test_preds))\n",
    "    return train_preds, test_preds\n",
    "\n",
    "#############################################\n",
    "# Hyperparameter Tuning using W&B Sweeps (NN_fit)\n",
    "#############################################\n",
    "def NN_fit():\n",
    "    \"\"\"\n",
    "    This function is used for hyperparameter tuning via wandb sweeps.\n",
    "    It assumes that the following are defined in your Q1–Q3 code:\n",
    "      - Global variables: X_train, X_val, y_train, y_val, y_train_one_hot, y_val_one_hot, num_features, num_classes\n",
    "      - Functions: Init_Parameters, Forward_Propogation, Back_Propogation, update_sgd, update_momentum,\n",
    "                   update_nesterov, update_rmsprop, update_adam, and the dispatcher update_parameters.\n",
    "    \"\"\"\n",
    "    # Default hyperparameter values\n",
    "    config_defaults = {\n",
    "        'epochs': 10,\n",
    "        'batch_size': 64,\n",
    "        'learning_rate': 1e-3,\n",
    "        'activation_f': 'relu',\n",
    "        'optimizer': 'adam',  # Options: \"sgd\", \"momentum\", \"nesterov\", \"rmsprop\", \"adam\", \"nadam\"\n",
    "        'init_mode': 'xavier',  # Options: \"xavier\", \"random_normal\", \"random_uniform\"\n",
    "        'L2_lamb': 0,\n",
    "        'num_neurons': 64,\n",
    "        'num_hidden': 3\n",
    "    }\n",
    "\n",
    "    wandb.init(config=config_defaults)\n",
    "    config = wandb.config\n",
    "\n",
    "    # Extract hyperparameters from wandb config\n",
    "    epochs        = config.epochs\n",
    "    batch_size    = config.batch_size\n",
    "    learning_rate = config.learning_rate\n",
    "    activation_f  = config.activation_f\n",
    "    optimizer     = config.optimizer\n",
    "    init_mode     = config.init_mode\n",
    "    L2_lamb       = config.L2_lamb\n",
    "    num_neurons   = config.num_neurons\n",
    "    num_hidden    = config.num_hidden\n",
    "\n",
    "    # Construct a meaningful run name for logging\n",
    "    run_name = \"lr_{}_ac_{}_in_{}_op_{}_bs_{}_L2_{}_ep_{}_nn_{}_nh_{}\".format(\n",
    "        learning_rate, activation_f, init_mode, optimizer, batch_size, L2_lamb, epochs, num_neurons, num_hidden)\n",
    "    print(run_name)\n",
    "\n",
    "    # Assumed global variables from preprocessing:\n",
    "    # X_train, X_val, y_train, y_val, y_train_one_hot, y_val_one_hot, num_features, num_classes\n",
    "    global X_train, X_val, y_train, y_val, y_train_one_hot, y_val_one_hot, num_features, num_classes\n",
    "    M    = X_train.shape[1]  # Number of training examples\n",
    "    Mval = X_val.shape[1]    # Number of validation examples\n",
    "\n",
    "    # Define the neural network architecture: input layer, hidden layers, and output layer\n",
    "    layer_dims = [num_features] + [num_neurons] * num_hidden + [num_classes]\n",
    "\n",
    "    # Initialize parameters and previous updates (for momentum-based optimizers)\n",
    "    parameters, prev_updates = Init_Parameters(layer_dims, init_mode)\n",
    "\n",
    "    # For optimizers that use Adam (or Nadam), maintain a timestep\n",
    "    t = 1\n",
    "    # For lookahead (used in Nesterov and Nadam), create a copy of parameters\n",
    "    params_look_ahead = parameters.copy()\n",
    "\n",
    "    # Lists to store cost for each epoch\n",
    "    epoch_costs = []\n",
    "    val_costs   = []\n",
    "\n",
    "    loss = 'mse'\n",
    "    beta = 0.9  # Momentum parameter\n",
    "\n",
    "    # Training loop over epochs\n",
    "    for epoch in range(epochs):\n",
    "        for i in range(0, M, batch_size):\n",
    "            current_batch_size = batch_size\n",
    "            if i + batch_size > M:\n",
    "                current_batch_size = M - i\n",
    "\n",
    "            # Select current mini-batch\n",
    "            X_batch = X_train[:, i:i+batch_size]\n",
    "            Y_batch = y_train_one_hot[:, i:i+batch_size]\n",
    "\n",
    "            # Choose update method based on the optimizer\n",
    "            if optimizer == \"nesterov\":\n",
    "                L_layers = len(parameters) // 2\n",
    "                # Compute lookahead parameters\n",
    "                for l in range(1, L_layers+1):\n",
    "                    # If momentum has not been initialized, default to zeros\n",
    "                    if \"v\" not in prev_updates:\n",
    "                        prev_updates[\"v\"] = {f\"W{l}\": np.zeros_like(parameters[f\"W{l}\"]) for l in range(1, L_layers+1)}\n",
    "                        prev_updates[\"v\"].update({f\"b{l}\": np.zeros_like(parameters[f\"b{l}\"]) for l in range(1, L_layers+1)})\n",
    "                    params_look_ahead[f\"W{l}\"] = parameters[f\"W{l}\"] - beta * prev_updates[\"v\"][f\"W{l}\"]\n",
    "                    params_look_ahead[f\"b{l}\"] = parameters[f\"b{l}\"] - beta * prev_updates[\"v\"][f\"b{l}\"]\n",
    "\n",
    "                # Forward propagation with lookahead parameters\n",
    "                output, layer_op, pre_act = Forward_Propogation(X_batch, params_look_ahead, activation_f)\n",
    "                gradients = Back_Propogation(output, Y_batch, layer_op, pre_act, params_look_ahead, activation_f, current_batch_size, loss, L2_lamb)\n",
    "                parameters, prev_updates = update_nesterov(parameters, gradients, prev_updates, lr=learning_rate, beta1=beta)\n",
    "\n",
    "            elif optimizer == \"nadam\":\n",
    "                L_layers = len(parameters) // 2\n",
    "                # Compute lookahead parameters similar to Nesterov\n",
    "                for l in range(1, L_layers+1):\n",
    "                    if \"v\" not in prev_updates:\n",
    "                        prev_updates[\"v\"] = {f\"W{l}\": np.zeros_like(parameters[f\"W{l}\"]) for l in range(1, L_layers+1)}\n",
    "                        prev_updates[\"v\"].update({f\"b{l}\": np.zeros_like(parameters[f\"b{l}\"]) for l in range(1, L_layers+1)})\n",
    "                    params_look_ahead[f\"W{l}\"] = parameters[f\"W{l}\"] - beta * prev_updates[\"v\"][f\"W{l}\"]\n",
    "                    params_look_ahead[f\"b{l}\"] = parameters[f\"b{l}\"] - beta * prev_updates[\"v\"][f\"b{l}\"]\n",
    "\n",
    "                # Forward propagation with lookahead parameters\n",
    "                output, layer_op, pre_act = Forward_Propogation(X_batch, params_look_ahead, activation_f)\n",
    "                gradients = Back_Propogation(output, Y_batch, layer_op, pre_act, params_look_ahead, activation_f, current_batch_size, loss, L2_lamb)\n",
    "                parameters, prev_updates = update_adam(parameters, gradients, prev_updates, t, lr=learning_rate, beta1=0.9, beta2=0.999, epsilon=1e-8)\n",
    "                t += 1\n",
    "\n",
    "            else:\n",
    "                # For optimizers: sgd, momentum, rmsprop, and adam (without lookahead)\n",
    "                output, layer_op, pre_act = Forward_Propogation(X_batch, parameters, activation_f)\n",
    "                gradients = Back_Propogation(output, Y_batch, layer_op, pre_act, parameters, activation_f, current_batch_size, loss, L2_lamb)\n",
    "                parameters, prev_updates = update_parameters(optimizer, parameters, gradients, prev_updates, t, lr=learning_rate, beta1=0.9, beta2=0.999, epsilon=1e-8)\n",
    "                if optimizer == \"adam\":\n",
    "                    t += 1\n",
    "\n",
    "        # Compute training cost over the full training set\n",
    "        train_output, _, _ = Forward_Propogation(X_train, parameters, activation_f)\n",
    "        epoch_cost = compute_multiclass_loss(y_train_one_hot, train_output, M, loss, L2_lamb, parameters)\n",
    "        epoch_costs.append(epoch_cost)\n",
    "\n",
    "        # Compute validation cost\n",
    "        val_output, _, _ = Forward_Propogation(X_val, parameters, activation_f)\n",
    "        val_cost = compute_multiclass_loss(y_val_one_hot, val_output, Mval, loss, L2_lamb, parameters)\n",
    "        val_costs.append(val_cost)\n",
    "\n",
    "        # Compute accuracies\n",
    "        train_preds = NN_predict(X_train, parameters, activation_f)\n",
    "        val_preds   = NN_predict(X_val, parameters, activation_f)\n",
    "        train_acc = accuracy_score(y_train, train_preds)\n",
    "        val_acc   = accuracy_score(y_val, val_preds)\n",
    "\n",
    "        # Log metrics to wandb for the current epoch\n",
    "        wandb.log({\n",
    "            \"epoch\": epoch+1,\n",
    "            \"training_loss\": epoch_cost,\n",
    "            \"validation_loss\": val_cost,\n",
    "            \"training_accuracy\": train_acc,\n",
    "            \"validation_accuracy\": val_acc\n",
    "        })\n",
    "\n",
    "        print(f\"Epoch {epoch+1}: Training Loss = {epoch_cost:.4f}, Validation Loss = {val_cost:.4f}, Training Acc = {train_acc:.4f}, Validation Acc = {val_acc:.4f}\")\n",
    "\n",
    "    # Plot cost curves after training is complete\n",
    "    #plot_cost_curve(epoch_costs, val_costs)\n",
    "\n",
    "    # Set a meaningful run name in wandb and finish the run\n",
    "    wandb.run.name = run_name\n",
    "    wandb.run.save()\n",
    "    wandb.run.finish()\n",
    "\n",
    "    return parameters, epoch_costs\n",
    "\n",
    "#############################################\n",
    "# W&B Sweep Configuration & Execution\n",
    "#############################################\n",
    "sweep_config = {\n",
    "  \"name\": \"CS6910 Assignment 1 - MSE -08-03-2025-0930 hrs\",\n",
    "  \"metric\": {\n",
    "      \"name\": \"validation_accuracy\",\n",
    "      \"goal\": \"maximize\"\n",
    "  },\n",
    "  \"method\": \"random\",\n",
    "  \"parameters\": {\n",
    "        \"learning_rate\": {\n",
    "            \"values\": [0.001, 0.0001]\n",
    "        },\n",
    "        \"activation_f\": {\n",
    "            \"values\": [\"sigmoid\", \"relu\", \"tanh\"]\n",
    "        },\n",
    "        \"init_mode\": {\n",
    "            \"values\": [\"xavier\", \"random_uniform\"]\n",
    "        },\n",
    "        \"optimizer\": {\n",
    "            \"values\": [\"sgd\", \"momentum\", \"nesterov\", \"rmsprop\", \"adam\", \"nadam\"]\n",
    "        },\n",
    "        \"batch_size\": {\n",
    "            \"values\": [16, 32, 64]\n",
    "        },\n",
    "        \"epochs\": {\n",
    "            \"values\": [5, 10]\n",
    "        },\n",
    "        \"L2_lamb\": {\n",
    "            \"values\": [0, 0.0005, 0.5]\n",
    "        },\n",
    "        \"num_neurons\": {\n",
    "            \"values\": [32, 64, 128]\n",
    "        },\n",
    "        \"num_hidden\": {\n",
    "            \"values\": [3, 4, 5]\n",
    "        }\n",
    "    }\n",
    "}\n",
    "\n",
    "sweep_id = wandb.sweep(sweep_config, entity=\"cs24m037-iit-madras\", project=\"DL_A1\")\n",
    "wandb.agent(sweep_id, NN_fit, count=120)\n"
   ]
  },
  {
   "cell_type": "code",
   "execution_count": null,
   "metadata": {
    "id": "2T3OhBntKAG4"
   },
   "outputs": [],
   "source": []
  },
  {
   "cell_type": "code",
   "execution_count": null,
   "metadata": {
    "id": "0QeMBHmXKAEb"
   },
   "outputs": [],
   "source": []
  },
  {
   "cell_type": "code",
   "execution_count": null,
   "metadata": {
    "id": "mu-msFNIKAB4"
   },
   "outputs": [],
   "source": []
  },
  {
   "cell_type": "code",
   "execution_count": null,
   "metadata": {
    "id": "56L4ECtVJ__P"
   },
   "outputs": [],
   "source": []
  },
  {
   "cell_type": "code",
   "execution_count": null,
   "metadata": {
    "id": "qHrluqFIJ_8o"
   },
   "outputs": [],
   "source": []
  },
  {
   "cell_type": "code",
   "execution_count": null,
   "metadata": {
    "id": "u-q9ZJh1J_54"
   },
   "outputs": [],
   "source": []
  },
  {
   "cell_type": "code",
   "execution_count": null,
   "metadata": {
    "id": "XGG0-aC9J_3Q"
   },
   "outputs": [],
   "source": []
  },
  {
   "cell_type": "code",
   "execution_count": null,
   "metadata": {
    "id": "LAk_4n_ZJ_wY"
   },
   "outputs": [],
   "source": []
  },
  {
   "cell_type": "code",
   "execution_count": null,
   "metadata": {
    "id": "xce-ga7TcE2n"
   },
   "outputs": [],
   "source": []
  }
 ],
 "metadata": {
  "colab": {
   "provenance": []
  },
  "kernelspec": {
   "display_name": "Python 3",
   "language": "python",
   "name": "python3"
  },
  "language_info": {
   "codemirror_mode": {
    "name": "ipython",
    "version": 3
   },
   "file_extension": ".py",
   "mimetype": "text/x-python",
   "name": "python",
   "nbconvert_exporter": "python",
   "pygments_lexer": "ipython3",
   "version": "3.12.4"
  }
 },
 "nbformat": 4,
 "nbformat_minor": 4
}
